{
 "cells": [
  {
   "cell_type": "code",
   "execution_count": 15,
   "metadata": {},
   "outputs": [
    {
     "name": "stderr",
     "output_type": "stream",
     "text": [
      "[nltk_data] Downloading package vader_lexicon to\n",
      "[nltk_data]     C:\\Users\\bfode\\AppData\\Roaming\\nltk_data...\n",
      "[nltk_data]   Package vader_lexicon is already up-to-date!\n"
     ]
    }
   ],
   "source": [
    "# Initial imports\n",
    "import os\n",
    "import pandas as pd\n",
    "import numpy as np\n",
    "from dotenv import load_dotenv\n",
    "import nltk as nltk\n",
    "from wordcloud import WordCloud\n",
    "nltk.download('vader_lexicon')\n",
    "from nltk.sentiment.vader import SentimentIntensityAnalyzer\n",
    "analyzer = SentimentIntensityAnalyzer()\n",
    "from newsapi import NewsApiClient\n",
    "load_dotenv()\n",
    "import alpaca_trade_api as tradeapi\n",
    "from datetime import datetime, timedelta\n",
    "import math\n",
    "import matplotlib.pyplot as plt\n",
    "from collections import Counter\n",
    "from sklearn.preprocessing import StandardScaler\n",
    "\n",
    "%matplotlib inline"
   ]
  },
  {
   "cell_type": "code",
   "execution_count": 16,
   "metadata": {},
   "outputs": [],
   "source": [
    "# Read your api key environment variable\n",
    "# YOUR CODE HERE!\n",
    "api_key = os.getenv(\"news_api\")"
   ]
  },
  {
   "cell_type": "code",
   "execution_count": 17,
   "metadata": {},
   "outputs": [],
   "source": [
    "# Create a newsapi client\n",
    "# YOUR CODE HERE!\n",
    "newsapi = NewsApiClient(api_key=api_key)"
   ]
  },
  {
   "cell_type": "code",
   "execution_count": 18,
   "metadata": {},
   "outputs": [],
   "source": [
    "# Load .env enviroment variables\n",
    "load_dotenv()\n",
    "\n",
    "# Set News API Key\n",
    "newsapi = NewsApiClient(api_key=os.environ[\"news_api\"])\n",
    "\n",
    "# Set Alpaca API key and secret\n",
    "alpaca_api_key = os.getenv(\"ALPACA_API_KEY\")\n",
    "alpaca_secret_key = os.getenv(\"ALPACA_SECRET_KEY\")\n",
    "\n",
    "api = tradeapi.REST(alpaca_api_key, alpaca_secret_key, api_version='v2')"
   ]
  },
  {
   "cell_type": "code",
   "execution_count": 19,
   "metadata": {},
   "outputs": [
    {
     "data": {
      "text/html": [
       "<div>\n",
       "<style scoped>\n",
       "    .dataframe tbody tr th:only-of-type {\n",
       "        vertical-align: middle;\n",
       "    }\n",
       "\n",
       "    .dataframe tbody tr th {\n",
       "        vertical-align: top;\n",
       "    }\n",
       "\n",
       "    .dataframe thead tr th {\n",
       "        text-align: left;\n",
       "    }\n",
       "</style>\n",
       "<table border=\"1\" class=\"dataframe\">\n",
       "  <thead>\n",
       "    <tr>\n",
       "      <th></th>\n",
       "      <th colspan=\"5\" halign=\"left\">GS</th>\n",
       "    </tr>\n",
       "    <tr>\n",
       "      <th></th>\n",
       "      <th>open</th>\n",
       "      <th>high</th>\n",
       "      <th>low</th>\n",
       "      <th>close</th>\n",
       "      <th>volume</th>\n",
       "    </tr>\n",
       "  </thead>\n",
       "  <tbody>\n",
       "    <tr>\n",
       "      <th>2021-06-29 00:00:00-04:00</th>\n",
       "      <td>374.75</td>\n",
       "      <td>378.0900</td>\n",
       "      <td>370.7495</td>\n",
       "      <td>372.620</td>\n",
       "      <td>2151889</td>\n",
       "    </tr>\n",
       "    <tr>\n",
       "      <th>2021-06-30 00:00:00-04:00</th>\n",
       "      <td>370.90</td>\n",
       "      <td>380.1100</td>\n",
       "      <td>370.9000</td>\n",
       "      <td>379.445</td>\n",
       "      <td>1823472</td>\n",
       "    </tr>\n",
       "    <tr>\n",
       "      <th>2021-07-01 00:00:00-04:00</th>\n",
       "      <td>380.55</td>\n",
       "      <td>381.6400</td>\n",
       "      <td>374.1450</td>\n",
       "      <td>374.960</td>\n",
       "      <td>2290040</td>\n",
       "    </tr>\n",
       "    <tr>\n",
       "      <th>2021-07-02 00:00:00-04:00</th>\n",
       "      <td>376.31</td>\n",
       "      <td>376.6000</td>\n",
       "      <td>372.4200</td>\n",
       "      <td>374.160</td>\n",
       "      <td>1385037</td>\n",
       "    </tr>\n",
       "    <tr>\n",
       "      <th>2021-07-06 00:00:00-04:00</th>\n",
       "      <td>373.23</td>\n",
       "      <td>373.6313</td>\n",
       "      <td>365.4050</td>\n",
       "      <td>369.860</td>\n",
       "      <td>1858520</td>\n",
       "    </tr>\n",
       "  </tbody>\n",
       "</table>\n",
       "</div>"
      ],
      "text/plain": [
       "                               GS                                      \n",
       "                             open      high       low    close   volume\n",
       "2021-06-29 00:00:00-04:00  374.75  378.0900  370.7495  372.620  2151889\n",
       "2021-06-30 00:00:00-04:00  370.90  380.1100  370.9000  379.445  1823472\n",
       "2021-07-01 00:00:00-04:00  380.55  381.6400  374.1450  374.960  2290040\n",
       "2021-07-02 00:00:00-04:00  376.31  376.6000  372.4200  374.160  1385037\n",
       "2021-07-06 00:00:00-04:00  373.23  373.6313  365.4050  369.860  1858520"
      ]
     },
     "execution_count": 19,
     "metadata": {},
     "output_type": "execute_result"
    }
   ],
   "source": [
    "# Get last 30days' worth of historical data for GS \n",
    "#Wells Fargo Co. (WFC), Goldman Sachs Group Inc. (GS), and Morgan Stanley (MS).\n",
    "\n",
    "# Set the ticker\n",
    "ticker = \"GS\"\n",
    "\n",
    "# Set timeframe to '1D'\n",
    "timeframe = \"1D\"\n",
    "\n",
    "# Set current date and the date from one month ago using the ISO format\n",
    "current_date = pd.Timestamp(datetime.now(), tz=\"America/New_York\").isoformat()\n",
    "past_date = pd.Timestamp(datetime.now()- timedelta(30), tz=\"America/New_York\").isoformat()\n",
    "\n",
    "# Get 4 weeks worth of historical data for AAPL\n",
    "df = api.get_barset(\n",
    "    ticker,\n",
    "    timeframe,\n",
    "    limit=None,\n",
    "    start=past_date,\n",
    "    end=current_date,\n",
    "    after=None,\n",
    "    until=None,\n",
    ").df\n",
    "\n",
    "# Display data\n",
    "df.tail()"
   ]
  },
  {
   "cell_type": "code",
   "execution_count": 86,
   "metadata": {},
   "outputs": [],
   "source": [
    "#Saving Raw data to Raw Data Folder\n",
    "df.to_csv('../../data/Rawdata/gs_stock_1day.csv')"
   ]
  },
  {
   "cell_type": "code",
   "execution_count": 21,
   "metadata": {},
   "outputs": [
    {
     "data": {
      "text/html": [
       "<div>\n",
       "<style scoped>\n",
       "    .dataframe tbody tr th:only-of-type {\n",
       "        vertical-align: middle;\n",
       "    }\n",
       "\n",
       "    .dataframe tbody tr th {\n",
       "        vertical-align: top;\n",
       "    }\n",
       "\n",
       "    .dataframe thead th {\n",
       "        text-align: right;\n",
       "    }\n",
       "</style>\n",
       "<table border=\"1\" class=\"dataframe\">\n",
       "  <thead>\n",
       "    <tr style=\"text-align: right;\">\n",
       "      <th></th>\n",
       "      <th>open</th>\n",
       "      <th>high</th>\n",
       "      <th>low</th>\n",
       "      <th>close</th>\n",
       "      <th>volume</th>\n",
       "    </tr>\n",
       "  </thead>\n",
       "  <tbody>\n",
       "    <tr>\n",
       "      <th>2021-06-07</th>\n",
       "      <td>392.89</td>\n",
       "      <td>393.2603</td>\n",
       "      <td>387.550</td>\n",
       "      <td>388.09</td>\n",
       "      <td>1815955</td>\n",
       "    </tr>\n",
       "    <tr>\n",
       "      <th>2021-06-08</th>\n",
       "      <td>385.79</td>\n",
       "      <td>386.4799</td>\n",
       "      <td>382.220</td>\n",
       "      <td>384.80</td>\n",
       "      <td>1946972</td>\n",
       "    </tr>\n",
       "    <tr>\n",
       "      <th>2021-06-09</th>\n",
       "      <td>383.44</td>\n",
       "      <td>384.2700</td>\n",
       "      <td>378.880</td>\n",
       "      <td>382.78</td>\n",
       "      <td>1817307</td>\n",
       "    </tr>\n",
       "    <tr>\n",
       "      <th>2021-06-10</th>\n",
       "      <td>389.08</td>\n",
       "      <td>389.6400</td>\n",
       "      <td>372.345</td>\n",
       "      <td>373.75</td>\n",
       "      <td>3302197</td>\n",
       "    </tr>\n",
       "    <tr>\n",
       "      <th>2021-06-11</th>\n",
       "      <td>375.47</td>\n",
       "      <td>378.7500</td>\n",
       "      <td>375.110</td>\n",
       "      <td>378.23</td>\n",
       "      <td>1692723</td>\n",
       "    </tr>\n",
       "  </tbody>\n",
       "</table>\n",
       "</div>"
      ],
      "text/plain": [
       "              open      high      low   close   volume\n",
       "2021-06-07  392.89  393.2603  387.550  388.09  1815955\n",
       "2021-06-08  385.79  386.4799  382.220  384.80  1946972\n",
       "2021-06-09  383.44  384.2700  378.880  382.78  1817307\n",
       "2021-06-10  389.08  389.6400  372.345  373.75  3302197\n",
       "2021-06-11  375.47  378.7500  375.110  378.23  1692723"
      ]
     },
     "execution_count": 21,
     "metadata": {},
     "output_type": "execute_result"
    }
   ],
   "source": [
    "# Drop Outer Table Level\n",
    "df = df.droplevel(axis=1, level=0)\n",
    "\n",
    "# Use the drop function to drop extra columns\n",
    "#df = df.drop(columns=[\"open\", \"high\", \"low\", \"volume\"])\n",
    "\n",
    "# Since this is daily data, we can keep only the date (remove the time) component of the data\n",
    "df.index = df.index.date\n",
    "\n",
    "# Display sample data\n",
    "df.head()"
   ]
  },
  {
   "cell_type": "code",
   "execution_count": 22,
   "metadata": {},
   "outputs": [],
   "source": [
    "df.columns = ['High','Low','Open','Close','Volume']"
   ]
  },
  {
   "cell_type": "code",
   "execution_count": 23,
   "metadata": {},
   "outputs": [],
   "source": [
    "\n",
    "df['stock_change'] = (df['Close'] - df['Open']) / df['Open'] * 100.0"
   ]
  },
  {
   "cell_type": "code",
   "execution_count": 24,
   "metadata": {},
   "outputs": [
    {
     "data": {
      "text/html": [
       "<div>\n",
       "<style scoped>\n",
       "    .dataframe tbody tr th:only-of-type {\n",
       "        vertical-align: middle;\n",
       "    }\n",
       "\n",
       "    .dataframe tbody tr th {\n",
       "        vertical-align: top;\n",
       "    }\n",
       "\n",
       "    .dataframe thead th {\n",
       "        text-align: right;\n",
       "    }\n",
       "</style>\n",
       "<table border=\"1\" class=\"dataframe\">\n",
       "  <thead>\n",
       "    <tr style=\"text-align: right;\">\n",
       "      <th></th>\n",
       "      <th>High</th>\n",
       "      <th>Low</th>\n",
       "      <th>Open</th>\n",
       "      <th>Close</th>\n",
       "      <th>Volume</th>\n",
       "      <th>stock_change</th>\n",
       "      <th>stock_change_scaled</th>\n",
       "    </tr>\n",
       "  </thead>\n",
       "  <tbody>\n",
       "    <tr>\n",
       "      <th>2021-06-07</th>\n",
       "      <td>392.89</td>\n",
       "      <td>393.2603</td>\n",
       "      <td>387.550</td>\n",
       "      <td>388.09</td>\n",
       "      <td>1815955</td>\n",
       "      <td>0.139337</td>\n",
       "      <td>-1.506251</td>\n",
       "    </tr>\n",
       "    <tr>\n",
       "      <th>2021-06-08</th>\n",
       "      <td>385.79</td>\n",
       "      <td>386.4799</td>\n",
       "      <td>382.220</td>\n",
       "      <td>384.80</td>\n",
       "      <td>1946972</td>\n",
       "      <td>0.675004</td>\n",
       "      <td>-0.574854</td>\n",
       "    </tr>\n",
       "    <tr>\n",
       "      <th>2021-06-09</th>\n",
       "      <td>383.44</td>\n",
       "      <td>384.2700</td>\n",
       "      <td>378.880</td>\n",
       "      <td>382.78</td>\n",
       "      <td>1817307</td>\n",
       "      <td>1.029350</td>\n",
       "      <td>0.041268</td>\n",
       "    </tr>\n",
       "    <tr>\n",
       "      <th>2021-06-10</th>\n",
       "      <td>389.08</td>\n",
       "      <td>389.6400</td>\n",
       "      <td>372.345</td>\n",
       "      <td>373.75</td>\n",
       "      <td>3302197</td>\n",
       "      <td>0.377338</td>\n",
       "      <td>-1.092424</td>\n",
       "    </tr>\n",
       "    <tr>\n",
       "      <th>2021-06-11</th>\n",
       "      <td>375.47</td>\n",
       "      <td>378.7500</td>\n",
       "      <td>375.110</td>\n",
       "      <td>378.23</td>\n",
       "      <td>1692723</td>\n",
       "      <td>0.831756</td>\n",
       "      <td>-0.302300</td>\n",
       "    </tr>\n",
       "  </tbody>\n",
       "</table>\n",
       "</div>"
      ],
      "text/plain": [
       "              High       Low     Open   Close   Volume  stock_change  \\\n",
       "2021-06-07  392.89  393.2603  387.550  388.09  1815955      0.139337   \n",
       "2021-06-08  385.79  386.4799  382.220  384.80  1946972      0.675004   \n",
       "2021-06-09  383.44  384.2700  378.880  382.78  1817307      1.029350   \n",
       "2021-06-10  389.08  389.6400  372.345  373.75  3302197      0.377338   \n",
       "2021-06-11  375.47  378.7500  375.110  378.23  1692723      0.831756   \n",
       "\n",
       "            stock_change_scaled  \n",
       "2021-06-07            -1.506251  \n",
       "2021-06-08            -0.574854  \n",
       "2021-06-09             0.041268  \n",
       "2021-06-10            -1.092424  \n",
       "2021-06-11            -0.302300  "
      ]
     },
     "execution_count": 24,
     "metadata": {},
     "output_type": "execute_result"
    }
   ],
   "source": [
    "scaler = StandardScaler()\n",
    "df['stock_change_scaled'] = scaler.fit_transform(df[['stock_change']])\n",
    "df.head()"
   ]
  },
  {
   "cell_type": "code",
   "execution_count": 25,
   "metadata": {},
   "outputs": [
    {
     "data": {
      "text/html": [
       "<div>\n",
       "<style scoped>\n",
       "    .dataframe tbody tr th:only-of-type {\n",
       "        vertical-align: middle;\n",
       "    }\n",
       "\n",
       "    .dataframe tbody tr th {\n",
       "        vertical-align: top;\n",
       "    }\n",
       "\n",
       "    .dataframe thead th {\n",
       "        text-align: right;\n",
       "    }\n",
       "</style>\n",
       "<table border=\"1\" class=\"dataframe\">\n",
       "  <thead>\n",
       "    <tr style=\"text-align: right;\">\n",
       "      <th></th>\n",
       "      <th>High</th>\n",
       "      <th>Low</th>\n",
       "      <th>Open</th>\n",
       "      <th>Close</th>\n",
       "      <th>Volume</th>\n",
       "      <th>stock_change</th>\n",
       "      <th>stock_change_scaled</th>\n",
       "    </tr>\n",
       "  </thead>\n",
       "  <tbody>\n",
       "    <tr>\n",
       "      <th>2021-06-08</th>\n",
       "      <td>-0.018071</td>\n",
       "      <td>-0.017242</td>\n",
       "      <td>-0.013753</td>\n",
       "      <td>-0.008477</td>\n",
       "      <td>0.072148</td>\n",
       "      <td>3.844403</td>\n",
       "      <td>-0.618354</td>\n",
       "    </tr>\n",
       "    <tr>\n",
       "      <th>2021-06-09</th>\n",
       "      <td>-0.006091</td>\n",
       "      <td>-0.005718</td>\n",
       "      <td>-0.008738</td>\n",
       "      <td>-0.005249</td>\n",
       "      <td>-0.066598</td>\n",
       "      <td>0.524954</td>\n",
       "      <td>-1.071788</td>\n",
       "    </tr>\n",
       "    <tr>\n",
       "      <th>2021-06-10</th>\n",
       "      <td>0.014709</td>\n",
       "      <td>0.013975</td>\n",
       "      <td>-0.017248</td>\n",
       "      <td>-0.023591</td>\n",
       "      <td>0.817083</td>\n",
       "      <td>-0.633421</td>\n",
       "      <td>-27.471619</td>\n",
       "    </tr>\n",
       "    <tr>\n",
       "      <th>2021-06-11</th>\n",
       "      <td>-0.034980</td>\n",
       "      <td>-0.027949</td>\n",
       "      <td>0.007426</td>\n",
       "      <td>0.011987</td>\n",
       "      <td>-0.487395</td>\n",
       "      <td>1.204272</td>\n",
       "      <td>-0.723276</td>\n",
       "    </tr>\n",
       "    <tr>\n",
       "      <th>2021-06-14</th>\n",
       "      <td>0.005220</td>\n",
       "      <td>0.000000</td>\n",
       "      <td>-0.011757</td>\n",
       "      <td>-0.013642</td>\n",
       "      <td>0.195500</td>\n",
       "      <td>-0.231348</td>\n",
       "      <td>1.106784</td>\n",
       "    </tr>\n",
       "  </tbody>\n",
       "</table>\n",
       "</div>"
      ],
      "text/plain": [
       "                High       Low      Open     Close    Volume  stock_change  \\\n",
       "2021-06-08 -0.018071 -0.017242 -0.013753 -0.008477  0.072148      3.844403   \n",
       "2021-06-09 -0.006091 -0.005718 -0.008738 -0.005249 -0.066598      0.524954   \n",
       "2021-06-10  0.014709  0.013975 -0.017248 -0.023591  0.817083     -0.633421   \n",
       "2021-06-11 -0.034980 -0.027949  0.007426  0.011987 -0.487395      1.204272   \n",
       "2021-06-14  0.005220  0.000000 -0.011757 -0.013642  0.195500     -0.231348   \n",
       "\n",
       "            stock_change_scaled  \n",
       "2021-06-08            -0.618354  \n",
       "2021-06-09            -1.071788  \n",
       "2021-06-10           -27.471619  \n",
       "2021-06-11            -0.723276  \n",
       "2021-06-14             1.106784  "
      ]
     },
     "execution_count": 25,
     "metadata": {},
     "output_type": "execute_result"
    }
   ],
   "source": [
    "df_returns = df.pct_change().dropna()\n",
    "df_returns.head()"
   ]
  },
  {
   "cell_type": "code",
   "execution_count": 26,
   "metadata": {},
   "outputs": [],
   "source": [
    "# Use newsapi client to get most relevant 20 headlines per day in the past month\n",
    "def get_headlines(keyword):\n",
    "    all_headlines = []\n",
    "    all_dates = []    \n",
    "    date = datetime.strptime(current_date[:10], \"%Y-%m-%d\")\n",
    "    end_date = datetime.strptime(past_date[:10], \"%Y-%m-%d\")\n",
    "    print(f\"Fetching news about '{keyword}'\")\n",
    "    print(\"*\" * 30)\n",
    "    while date > end_date:\n",
    "        print(f\"retrieving news from: {date}\")\n",
    "        articles = newsapi.get_everything(\n",
    "            q=keyword,\n",
    "            from_param=str(date)[:10],\n",
    "            to=str(date)[:10],\n",
    "            language=\"en\",\n",
    "            sort_by=\"relevancy\",\n",
    "            page=1,\n",
    "        )\n",
    "        headlines = []\n",
    "        for i in range(0, len(articles[\"articles\"])):\n",
    "            headlines.append(articles[\"articles\"][i][\"title\"])\n",
    "        all_headlines.append(headlines)\n",
    "        all_dates.append(date)\n",
    "        date = date - timedelta(days=1)\n",
    "    return all_headlines, all_dates"
   ]
  },
  {
   "cell_type": "code",
   "execution_count": null,
   "metadata": {},
   "outputs": [],
   "source": []
  },
  {
   "cell_type": "code",
   "execution_count": 30,
   "metadata": {},
   "outputs": [
    {
     "name": "stdout",
     "output_type": "stream",
     "text": [
      "Fetching news about 'Goldman Sachs Group Inc.'\n",
      "******************************\n",
      "retrieving news from: 2021-07-07 00:00:00\n",
      "retrieving news from: 2021-07-06 00:00:00\n",
      "retrieving news from: 2021-07-05 00:00:00\n",
      "retrieving news from: 2021-07-04 00:00:00\n",
      "retrieving news from: 2021-07-03 00:00:00\n",
      "retrieving news from: 2021-07-02 00:00:00\n",
      "retrieving news from: 2021-07-01 00:00:00\n",
      "retrieving news from: 2021-06-30 00:00:00\n",
      "retrieving news from: 2021-06-29 00:00:00\n",
      "retrieving news from: 2021-06-28 00:00:00\n",
      "retrieving news from: 2021-06-27 00:00:00\n",
      "retrieving news from: 2021-06-26 00:00:00\n",
      "retrieving news from: 2021-06-25 00:00:00\n",
      "retrieving news from: 2021-06-24 00:00:00\n",
      "retrieving news from: 2021-06-23 00:00:00\n",
      "retrieving news from: 2021-06-22 00:00:00\n",
      "retrieving news from: 2021-06-21 00:00:00\n",
      "retrieving news from: 2021-06-20 00:00:00\n",
      "retrieving news from: 2021-06-19 00:00:00\n",
      "retrieving news from: 2021-06-18 00:00:00\n",
      "retrieving news from: 2021-06-17 00:00:00\n",
      "retrieving news from: 2021-06-16 00:00:00\n",
      "retrieving news from: 2021-06-15 00:00:00\n",
      "retrieving news from: 2021-06-14 00:00:00\n",
      "retrieving news from: 2021-06-13 00:00:00\n",
      "retrieving news from: 2021-06-12 00:00:00\n",
      "retrieving news from: 2021-06-11 00:00:00\n",
      "retrieving news from: 2021-06-10 00:00:00\n",
      "retrieving news from: 2021-06-09 00:00:00\n",
      "retrieving news from: 2021-06-08 00:00:00\n"
     ]
    }
   ],
   "source": [
    "goldman_headlines, dates = get_headlines(\"Goldman Sachs Group Inc.\")"
   ]
  },
  {
   "cell_type": "code",
   "execution_count": 31,
   "metadata": {},
   "outputs": [],
   "source": [
    "# Instantiate SentimentIntensityAnalyzer\n",
    "sid = SentimentIntensityAnalyzer()"
   ]
  },
  {
   "cell_type": "code",
   "execution_count": 32,
   "metadata": {},
   "outputs": [],
   "source": [
    "# Create function that computes average compound sentiment of headlines for each day\n",
    "def headline_sentiment_summarizer_avg(headlines):\n",
    "    sentiment = []\n",
    "    for day in headlines:\n",
    "        day_score = []\n",
    "        for h in day:\n",
    "            if h == None:\n",
    "                continue\n",
    "            else:\n",
    "                day_score.append(sid.polarity_scores(h)[\"compound\"])\n",
    "        sentiment.append(sum(day_score) / len(day_score))\n",
    "    return sentiment"
   ]
  },
  {
   "cell_type": "code",
   "execution_count": 33,
   "metadata": {},
   "outputs": [],
   "source": [
    "# Get averages of each topics sentiment\n",
    "goldman_avg = headline_sentiment_summarizer_avg(goldman_headlines)\n"
   ]
  },
  {
   "cell_type": "code",
   "execution_count": 34,
   "metadata": {},
   "outputs": [],
   "source": [
    "# Combine Sentiment Averages into DataFrame\n",
    "topic_sentiments = pd.DataFrame(\n",
    "    {\n",
    "        \"goldman_avg\": goldman_avg\n",
    "    }\n",
    ")"
   ]
  },
  {
   "cell_type": "code",
   "execution_count": 35,
   "metadata": {},
   "outputs": [],
   "source": [
    "# Set the index value of the sentiment averages DataFrame to be the series of dates.\n",
    "topic_sentiments.index = pd.to_datetime(dates)\n"
   ]
  },
  {
   "cell_type": "code",
   "execution_count": 36,
   "metadata": {},
   "outputs": [
    {
     "data": {
      "text/html": [
       "<div>\n",
       "<style scoped>\n",
       "    .dataframe tbody tr th:only-of-type {\n",
       "        vertical-align: middle;\n",
       "    }\n",
       "\n",
       "    .dataframe tbody tr th {\n",
       "        vertical-align: top;\n",
       "    }\n",
       "\n",
       "    .dataframe thead th {\n",
       "        text-align: right;\n",
       "    }\n",
       "</style>\n",
       "<table border=\"1\" class=\"dataframe\">\n",
       "  <thead>\n",
       "    <tr style=\"text-align: right;\">\n",
       "      <th></th>\n",
       "      <th>High</th>\n",
       "      <th>Low</th>\n",
       "      <th>Open</th>\n",
       "      <th>Close</th>\n",
       "      <th>Volume</th>\n",
       "      <th>stock_change</th>\n",
       "      <th>stock_change_scaled</th>\n",
       "      <th>goldman_avg</th>\n",
       "    </tr>\n",
       "  </thead>\n",
       "  <tbody>\n",
       "    <tr>\n",
       "      <th>2021-06-08</th>\n",
       "      <td>385.79</td>\n",
       "      <td>386.4799</td>\n",
       "      <td>382.2200</td>\n",
       "      <td>384.800</td>\n",
       "      <td>1946972</td>\n",
       "      <td>0.675004</td>\n",
       "      <td>-0.574854</td>\n",
       "      <td>0.130225</td>\n",
       "    </tr>\n",
       "    <tr>\n",
       "      <th>2021-06-09</th>\n",
       "      <td>383.44</td>\n",
       "      <td>384.2700</td>\n",
       "      <td>378.8800</td>\n",
       "      <td>382.780</td>\n",
       "      <td>1817307</td>\n",
       "      <td>1.029350</td>\n",
       "      <td>0.041268</td>\n",
       "      <td>0.036050</td>\n",
       "    </tr>\n",
       "    <tr>\n",
       "      <th>2021-06-10</th>\n",
       "      <td>389.08</td>\n",
       "      <td>389.6400</td>\n",
       "      <td>372.3450</td>\n",
       "      <td>373.750</td>\n",
       "      <td>3302197</td>\n",
       "      <td>0.377338</td>\n",
       "      <td>-1.092424</td>\n",
       "      <td>0.135205</td>\n",
       "    </tr>\n",
       "    <tr>\n",
       "      <th>2021-06-11</th>\n",
       "      <td>375.47</td>\n",
       "      <td>378.7500</td>\n",
       "      <td>375.1100</td>\n",
       "      <td>378.230</td>\n",
       "      <td>1692723</td>\n",
       "      <td>0.831756</td>\n",
       "      <td>-0.302300</td>\n",
       "      <td>0.081830</td>\n",
       "    </tr>\n",
       "    <tr>\n",
       "      <th>2021-06-14</th>\n",
       "      <td>377.43</td>\n",
       "      <td>378.7500</td>\n",
       "      <td>370.7000</td>\n",
       "      <td>373.070</td>\n",
       "      <td>2023651</td>\n",
       "      <td>0.639331</td>\n",
       "      <td>-0.636881</td>\n",
       "      <td>0.014035</td>\n",
       "    </tr>\n",
       "    <tr>\n",
       "      <th>2021-06-15</th>\n",
       "      <td>373.50</td>\n",
       "      <td>374.8400</td>\n",
       "      <td>367.1600</td>\n",
       "      <td>371.600</td>\n",
       "      <td>2028770</td>\n",
       "      <td>1.209282</td>\n",
       "      <td>0.354127</td>\n",
       "      <td>0.159560</td>\n",
       "    </tr>\n",
       "    <tr>\n",
       "      <th>2021-06-16</th>\n",
       "      <td>370.99</td>\n",
       "      <td>374.0788</td>\n",
       "      <td>365.2500</td>\n",
       "      <td>371.070</td>\n",
       "      <td>2673244</td>\n",
       "      <td>1.593429</td>\n",
       "      <td>1.022067</td>\n",
       "      <td>0.084235</td>\n",
       "    </tr>\n",
       "    <tr>\n",
       "      <th>2021-06-17</th>\n",
       "      <td>373.52</td>\n",
       "      <td>373.5200</td>\n",
       "      <td>356.5500</td>\n",
       "      <td>361.500</td>\n",
       "      <td>3677802</td>\n",
       "      <td>1.388305</td>\n",
       "      <td>0.665404</td>\n",
       "      <td>0.102160</td>\n",
       "    </tr>\n",
       "    <tr>\n",
       "      <th>2021-06-18</th>\n",
       "      <td>356.72</td>\n",
       "      <td>358.3800</td>\n",
       "      <td>348.1250</td>\n",
       "      <td>348.790</td>\n",
       "      <td>4364156</td>\n",
       "      <td>0.191023</td>\n",
       "      <td>-1.416381</td>\n",
       "      <td>0.169720</td>\n",
       "    </tr>\n",
       "    <tr>\n",
       "      <th>2021-06-21</th>\n",
       "      <td>352.59</td>\n",
       "      <td>357.9700</td>\n",
       "      <td>351.0400</td>\n",
       "      <td>357.680</td>\n",
       "      <td>2295332</td>\n",
       "      <td>1.891522</td>\n",
       "      <td>1.540379</td>\n",
       "      <td>0.342390</td>\n",
       "    </tr>\n",
       "    <tr>\n",
       "      <th>2021-06-22</th>\n",
       "      <td>358.33</td>\n",
       "      <td>359.8800</td>\n",
       "      <td>352.6400</td>\n",
       "      <td>357.530</td>\n",
       "      <td>1514480</td>\n",
       "      <td>1.386683</td>\n",
       "      <td>0.662585</td>\n",
       "      <td>0.103825</td>\n",
       "    </tr>\n",
       "    <tr>\n",
       "      <th>2021-06-23</th>\n",
       "      <td>358.79</td>\n",
       "      <td>362.4800</td>\n",
       "      <td>357.6600</td>\n",
       "      <td>361.160</td>\n",
       "      <td>1491540</td>\n",
       "      <td>0.978583</td>\n",
       "      <td>-0.047003</td>\n",
       "      <td>0.111520</td>\n",
       "    </tr>\n",
       "    <tr>\n",
       "      <th>2021-06-24</th>\n",
       "      <td>363.00</td>\n",
       "      <td>370.8800</td>\n",
       "      <td>362.7800</td>\n",
       "      <td>368.730</td>\n",
       "      <td>2276831</td>\n",
       "      <td>1.640112</td>\n",
       "      <td>1.103238</td>\n",
       "      <td>0.148895</td>\n",
       "    </tr>\n",
       "    <tr>\n",
       "      <th>2021-06-25</th>\n",
       "      <td>370.60</td>\n",
       "      <td>371.1499</td>\n",
       "      <td>364.5400</td>\n",
       "      <td>368.670</td>\n",
       "      <td>2176947</td>\n",
       "      <td>1.132935</td>\n",
       "      <td>0.221377</td>\n",
       "      <td>-0.037115</td>\n",
       "    </tr>\n",
       "    <tr>\n",
       "      <th>2021-06-28</th>\n",
       "      <td>368.03</td>\n",
       "      <td>368.8700</td>\n",
       "      <td>363.8600</td>\n",
       "      <td>368.595</td>\n",
       "      <td>1491640</td>\n",
       "      <td>1.301325</td>\n",
       "      <td>0.514167</td>\n",
       "      <td>0.030190</td>\n",
       "    </tr>\n",
       "    <tr>\n",
       "      <th>2021-06-29</th>\n",
       "      <td>374.75</td>\n",
       "      <td>378.0900</td>\n",
       "      <td>370.7495</td>\n",
       "      <td>372.620</td>\n",
       "      <td>2151889</td>\n",
       "      <td>0.504519</td>\n",
       "      <td>-0.871288</td>\n",
       "      <td>0.019590</td>\n",
       "    </tr>\n",
       "    <tr>\n",
       "      <th>2021-06-30</th>\n",
       "      <td>370.90</td>\n",
       "      <td>380.1100</td>\n",
       "      <td>370.9000</td>\n",
       "      <td>379.445</td>\n",
       "      <td>1823472</td>\n",
       "      <td>2.303855</td>\n",
       "      <td>2.257327</td>\n",
       "      <td>0.089135</td>\n",
       "    </tr>\n",
       "    <tr>\n",
       "      <th>2021-07-01</th>\n",
       "      <td>380.55</td>\n",
       "      <td>381.6400</td>\n",
       "      <td>374.1450</td>\n",
       "      <td>374.960</td>\n",
       "      <td>2290040</td>\n",
       "      <td>0.217830</td>\n",
       "      <td>-1.369770</td>\n",
       "      <td>0.069995</td>\n",
       "    </tr>\n",
       "    <tr>\n",
       "      <th>2021-07-02</th>\n",
       "      <td>376.31</td>\n",
       "      <td>376.6000</td>\n",
       "      <td>372.4200</td>\n",
       "      <td>374.160</td>\n",
       "      <td>1385037</td>\n",
       "      <td>0.467214</td>\n",
       "      <td>-0.936150</td>\n",
       "      <td>0.072380</td>\n",
       "    </tr>\n",
       "    <tr>\n",
       "      <th>2021-07-06</th>\n",
       "      <td>373.23</td>\n",
       "      <td>373.6313</td>\n",
       "      <td>365.4050</td>\n",
       "      <td>369.860</td>\n",
       "      <td>1858520</td>\n",
       "      <td>1.219195</td>\n",
       "      <td>0.371363</td>\n",
       "      <td>0.037775</td>\n",
       "    </tr>\n",
       "  </tbody>\n",
       "</table>\n",
       "</div>"
      ],
      "text/plain": [
       "              High       Low      Open    Close   Volume  stock_change  \\\n",
       "2021-06-08  385.79  386.4799  382.2200  384.800  1946972      0.675004   \n",
       "2021-06-09  383.44  384.2700  378.8800  382.780  1817307      1.029350   \n",
       "2021-06-10  389.08  389.6400  372.3450  373.750  3302197      0.377338   \n",
       "2021-06-11  375.47  378.7500  375.1100  378.230  1692723      0.831756   \n",
       "2021-06-14  377.43  378.7500  370.7000  373.070  2023651      0.639331   \n",
       "2021-06-15  373.50  374.8400  367.1600  371.600  2028770      1.209282   \n",
       "2021-06-16  370.99  374.0788  365.2500  371.070  2673244      1.593429   \n",
       "2021-06-17  373.52  373.5200  356.5500  361.500  3677802      1.388305   \n",
       "2021-06-18  356.72  358.3800  348.1250  348.790  4364156      0.191023   \n",
       "2021-06-21  352.59  357.9700  351.0400  357.680  2295332      1.891522   \n",
       "2021-06-22  358.33  359.8800  352.6400  357.530  1514480      1.386683   \n",
       "2021-06-23  358.79  362.4800  357.6600  361.160  1491540      0.978583   \n",
       "2021-06-24  363.00  370.8800  362.7800  368.730  2276831      1.640112   \n",
       "2021-06-25  370.60  371.1499  364.5400  368.670  2176947      1.132935   \n",
       "2021-06-28  368.03  368.8700  363.8600  368.595  1491640      1.301325   \n",
       "2021-06-29  374.75  378.0900  370.7495  372.620  2151889      0.504519   \n",
       "2021-06-30  370.90  380.1100  370.9000  379.445  1823472      2.303855   \n",
       "2021-07-01  380.55  381.6400  374.1450  374.960  2290040      0.217830   \n",
       "2021-07-02  376.31  376.6000  372.4200  374.160  1385037      0.467214   \n",
       "2021-07-06  373.23  373.6313  365.4050  369.860  1858520      1.219195   \n",
       "\n",
       "            stock_change_scaled  goldman_avg  \n",
       "2021-06-08            -0.574854     0.130225  \n",
       "2021-06-09             0.041268     0.036050  \n",
       "2021-06-10            -1.092424     0.135205  \n",
       "2021-06-11            -0.302300     0.081830  \n",
       "2021-06-14            -0.636881     0.014035  \n",
       "2021-06-15             0.354127     0.159560  \n",
       "2021-06-16             1.022067     0.084235  \n",
       "2021-06-17             0.665404     0.102160  \n",
       "2021-06-18            -1.416381     0.169720  \n",
       "2021-06-21             1.540379     0.342390  \n",
       "2021-06-22             0.662585     0.103825  \n",
       "2021-06-23            -0.047003     0.111520  \n",
       "2021-06-24             1.103238     0.148895  \n",
       "2021-06-25             0.221377    -0.037115  \n",
       "2021-06-28             0.514167     0.030190  \n",
       "2021-06-29            -0.871288     0.019590  \n",
       "2021-06-30             2.257327     0.089135  \n",
       "2021-07-01            -1.369770     0.069995  \n",
       "2021-07-02            -0.936150     0.072380  \n",
       "2021-07-06             0.371363     0.037775  "
      ]
     },
     "metadata": {},
     "output_type": "display_data"
    }
   ],
   "source": [
    "# Merge with goldman returns\n",
    "topic_sentiments = df.join(topic_sentiments).dropna(how=\"any\")\n",
    "\n",
    "# Display data\n",
    "display(topic_sentiments)"
   ]
  },
  {
   "cell_type": "markdown",
   "metadata": {},
   "source": [
    "# Build and Train Random Forest Regressor with a window specified"
   ]
  },
  {
   "cell_type": "code",
   "execution_count": 38,
   "metadata": {},
   "outputs": [],
   "source": [
    "# This function accepts the column number for the features (X) and the target (y)\n",
    "# It chunks the data up with a rolling window of Xt-n to predict Xt\n",
    "# It returns a numpy array of X any y\n",
    "def window_data(df, window, feature_col_number, target_col_number):\n",
    "    X = []\n",
    "    y = []\n",
    "    for i in range(len(df) - window - 1):\n",
    "        features = df.iloc[i:(i + window), feature_col_number]\n",
    "        target = df.iloc[(i + window), target_col_number]\n",
    "        X.append(features)\n",
    "        y.append(target)\n",
    "    return np.array(X), np.array(y).reshape(-1, 1)\n",
    "\n"
   ]
  },
  {
   "cell_type": "code",
   "execution_count": 39,
   "metadata": {},
   "outputs": [],
   "source": [
    "# Predict Closing Prices using a 10 day window of previous fng values\n",
    "# Then, experiment with window sizes anywhere from 1 to 10 and see how the model performance changes\n",
    "window_size = 10\n",
    "\n",
    "# Column index 1 is the 'Goldman Average' column\n",
    "# Column index 0 is the `Close` column\n",
    "feature_column = 1\n",
    "target_column = 0\n",
    "X, y = window_data(topic_sentiments, window_size, feature_column, target_column)"
   ]
  },
  {
   "cell_type": "code",
   "execution_count": 40,
   "metadata": {},
   "outputs": [],
   "source": [
    "split = int(0.7 * len(X))\n",
    "X_train = X[: split]\n",
    "X_test = X[split:]\n",
    "y_train = y[: split]\n",
    "y_test = y[split:]"
   ]
  },
  {
   "cell_type": "code",
   "execution_count": 65,
   "metadata": {},
   "outputs": [],
   "source": [
    "scaler = StandardScaler()\n",
    "X_train = scaler.fit_transform(X_train)"
   ]
  },
  {
   "cell_type": "code",
   "execution_count": 66,
   "metadata": {},
   "outputs": [
    {
     "data": {
      "text/plain": [
       "array([[-1.27050997, -1.86746805, -1.80566387, -1.27997363, -0.6219017 ,\n",
       "         0.66015175,  0.70291303,  0.56038819,  1.56394643,  1.60862927],\n",
       "       [ 1.03853833,  1.32605984,  0.4238157 ,  0.98159516,  0.86297371,\n",
       "         1.09330187,  1.06220827, -1.27567806, -1.14907759, -1.11080177],\n",
       "       [ 1.51321422,  0.77745956,  1.59220032,  0.98159516,  1.33270371,\n",
       "         1.1963761 ,  1.14691954,  1.37427837, -1.09379231, -1.36755478],\n",
       "       [-0.14713113, -0.18591113, -0.07735586,  0.35477986, -1.11445746,\n",
       "        -1.08799379, -1.00554712, -0.55805445,  0.59173454,  0.40416194],\n",
       "       [-0.14713113,  0.21353525,  0.00431305,  0.42175202,  0.70439478,\n",
       "        -1.03247561, -1.29509352, -1.01313283, -0.5409395 ,  0.36788045],\n",
       "       [-0.98698032, -0.26367548, -0.13730933, -1.45974857, -1.16371304,\n",
       "        -0.82936033, -0.6114002 ,  0.91219878,  0.62812844,  0.09768488]])"
      ]
     },
     "execution_count": 66,
     "metadata": {},
     "output_type": "execute_result"
    }
   ],
   "source": [
    "\n",
    "X_train"
   ]
  },
  {
   "cell_type": "code",
   "execution_count": 67,
   "metadata": {},
   "outputs": [
    {
     "data": {
      "text/plain": [
       "array([[358.38  , 357.97  , 359.88  , 362.48  , 370.88  , 371.1499,\n",
       "        368.87  , 378.09  , 380.11  , 381.64  ],\n",
       "       [389.64  , 378.75  , 378.75  , 374.84  , 374.0788, 373.52  ,\n",
       "        358.38  , 357.97  , 359.88  , 362.48  ],\n",
       "       [374.0788, 373.52  , 358.38  , 357.97  , 359.88  , 362.48  ,\n",
       "        370.88  , 371.1499, 368.87  , 378.09  ]])"
      ]
     },
     "execution_count": 67,
     "metadata": {},
     "output_type": "execute_result"
    }
   ],
   "source": [
    "X_test"
   ]
  },
  {
   "cell_type": "code",
   "execution_count": 68,
   "metadata": {},
   "outputs": [],
   "source": [
    "from sklearn.ensemble import RandomForestRegressor\n",
    "random_forest = RandomForestRegressor(random_state = 10) "
   ]
  },
  {
   "cell_type": "code",
   "execution_count": 69,
   "metadata": {},
   "outputs": [
    {
     "name": "stderr",
     "output_type": "stream",
     "text": [
      "<ipython-input-69-e7df177b3c31>:1: DataConversionWarning:\n",
      "\n",
      "A column-vector y was passed when a 1d array was expected. Please change the shape of y to (n_samples,), for example using ravel().\n",
      "\n"
     ]
    }
   ],
   "source": [
    "random_forest.fit(X_train, y_train)\n",
    "y_pred = random_forest.predict(X_test) "
   ]
  },
  {
   "cell_type": "code",
   "execution_count": 70,
   "metadata": {},
   "outputs": [
    {
     "data": {
      "text/plain": [
       "-0.31177527267735683"
      ]
     },
     "execution_count": 70,
     "metadata": {},
     "output_type": "execute_result"
    }
   ],
   "source": [
    "#This is kind of working like balance accuracy score\n",
    "random_forest.score(X_test,y_test)"
   ]
  },
  {
   "cell_type": "code",
   "execution_count": 71,
   "metadata": {},
   "outputs": [
    {
     "name": "stdout",
     "output_type": "stream",
     "text": [
      "[371.214]\n"
     ]
    }
   ],
   "source": [
    " print(random_forest.predict([[0, 0, 0, 0, 0, 0, 0, 0, 0, 0]]))"
   ]
  },
  {
   "cell_type": "code",
   "execution_count": null,
   "metadata": {},
   "outputs": [],
   "source": []
  },
  {
   "cell_type": "code",
   "execution_count": 72,
   "metadata": {},
   "outputs": [
    {
     "data": {
      "text/html": [
       "<div>\n",
       "<style scoped>\n",
       "    .dataframe tbody tr th:only-of-type {\n",
       "        vertical-align: middle;\n",
       "    }\n",
       "\n",
       "    .dataframe tbody tr th {\n",
       "        vertical-align: top;\n",
       "    }\n",
       "\n",
       "    .dataframe thead th {\n",
       "        text-align: right;\n",
       "    }\n",
       "</style>\n",
       "<table border=\"1\" class=\"dataframe\">\n",
       "  <thead>\n",
       "    <tr style=\"text-align: right;\">\n",
       "      <th></th>\n",
       "      <th>High</th>\n",
       "      <th>Low</th>\n",
       "      <th>Open</th>\n",
       "      <th>Close</th>\n",
       "      <th>Volume</th>\n",
       "      <th>stock_change</th>\n",
       "      <th>stock_change_scaled</th>\n",
       "      <th>goldman_avg</th>\n",
       "    </tr>\n",
       "  </thead>\n",
       "  <tbody>\n",
       "    <tr>\n",
       "      <th>2021-06-08</th>\n",
       "      <td>385.79</td>\n",
       "      <td>386.4799</td>\n",
       "      <td>382.2200</td>\n",
       "      <td>384.800</td>\n",
       "      <td>1946972</td>\n",
       "      <td>0.675004</td>\n",
       "      <td>-0.574854</td>\n",
       "      <td>0.130225</td>\n",
       "    </tr>\n",
       "    <tr>\n",
       "      <th>2021-06-09</th>\n",
       "      <td>383.44</td>\n",
       "      <td>384.2700</td>\n",
       "      <td>378.8800</td>\n",
       "      <td>382.780</td>\n",
       "      <td>1817307</td>\n",
       "      <td>1.029350</td>\n",
       "      <td>0.041268</td>\n",
       "      <td>0.036050</td>\n",
       "    </tr>\n",
       "    <tr>\n",
       "      <th>2021-06-10</th>\n",
       "      <td>389.08</td>\n",
       "      <td>389.6400</td>\n",
       "      <td>372.3450</td>\n",
       "      <td>373.750</td>\n",
       "      <td>3302197</td>\n",
       "      <td>0.377338</td>\n",
       "      <td>-1.092424</td>\n",
       "      <td>0.135205</td>\n",
       "    </tr>\n",
       "    <tr>\n",
       "      <th>2021-06-11</th>\n",
       "      <td>375.47</td>\n",
       "      <td>378.7500</td>\n",
       "      <td>375.1100</td>\n",
       "      <td>378.230</td>\n",
       "      <td>1692723</td>\n",
       "      <td>0.831756</td>\n",
       "      <td>-0.302300</td>\n",
       "      <td>0.081830</td>\n",
       "    </tr>\n",
       "    <tr>\n",
       "      <th>2021-06-14</th>\n",
       "      <td>377.43</td>\n",
       "      <td>378.7500</td>\n",
       "      <td>370.7000</td>\n",
       "      <td>373.070</td>\n",
       "      <td>2023651</td>\n",
       "      <td>0.639331</td>\n",
       "      <td>-0.636881</td>\n",
       "      <td>0.014035</td>\n",
       "    </tr>\n",
       "    <tr>\n",
       "      <th>2021-06-15</th>\n",
       "      <td>373.50</td>\n",
       "      <td>374.8400</td>\n",
       "      <td>367.1600</td>\n",
       "      <td>371.600</td>\n",
       "      <td>2028770</td>\n",
       "      <td>1.209282</td>\n",
       "      <td>0.354127</td>\n",
       "      <td>0.159560</td>\n",
       "    </tr>\n",
       "    <tr>\n",
       "      <th>2021-06-16</th>\n",
       "      <td>370.99</td>\n",
       "      <td>374.0788</td>\n",
       "      <td>365.2500</td>\n",
       "      <td>371.070</td>\n",
       "      <td>2673244</td>\n",
       "      <td>1.593429</td>\n",
       "      <td>1.022067</td>\n",
       "      <td>0.084235</td>\n",
       "    </tr>\n",
       "    <tr>\n",
       "      <th>2021-06-17</th>\n",
       "      <td>373.52</td>\n",
       "      <td>373.5200</td>\n",
       "      <td>356.5500</td>\n",
       "      <td>361.500</td>\n",
       "      <td>3677802</td>\n",
       "      <td>1.388305</td>\n",
       "      <td>0.665404</td>\n",
       "      <td>0.102160</td>\n",
       "    </tr>\n",
       "    <tr>\n",
       "      <th>2021-06-18</th>\n",
       "      <td>356.72</td>\n",
       "      <td>358.3800</td>\n",
       "      <td>348.1250</td>\n",
       "      <td>348.790</td>\n",
       "      <td>4364156</td>\n",
       "      <td>0.191023</td>\n",
       "      <td>-1.416381</td>\n",
       "      <td>0.169720</td>\n",
       "    </tr>\n",
       "    <tr>\n",
       "      <th>2021-06-21</th>\n",
       "      <td>352.59</td>\n",
       "      <td>357.9700</td>\n",
       "      <td>351.0400</td>\n",
       "      <td>357.680</td>\n",
       "      <td>2295332</td>\n",
       "      <td>1.891522</td>\n",
       "      <td>1.540379</td>\n",
       "      <td>0.342390</td>\n",
       "    </tr>\n",
       "    <tr>\n",
       "      <th>2021-06-22</th>\n",
       "      <td>358.33</td>\n",
       "      <td>359.8800</td>\n",
       "      <td>352.6400</td>\n",
       "      <td>357.530</td>\n",
       "      <td>1514480</td>\n",
       "      <td>1.386683</td>\n",
       "      <td>0.662585</td>\n",
       "      <td>0.103825</td>\n",
       "    </tr>\n",
       "    <tr>\n",
       "      <th>2021-06-23</th>\n",
       "      <td>358.79</td>\n",
       "      <td>362.4800</td>\n",
       "      <td>357.6600</td>\n",
       "      <td>361.160</td>\n",
       "      <td>1491540</td>\n",
       "      <td>0.978583</td>\n",
       "      <td>-0.047003</td>\n",
       "      <td>0.111520</td>\n",
       "    </tr>\n",
       "    <tr>\n",
       "      <th>2021-06-24</th>\n",
       "      <td>363.00</td>\n",
       "      <td>370.8800</td>\n",
       "      <td>362.7800</td>\n",
       "      <td>368.730</td>\n",
       "      <td>2276831</td>\n",
       "      <td>1.640112</td>\n",
       "      <td>1.103238</td>\n",
       "      <td>0.148895</td>\n",
       "    </tr>\n",
       "    <tr>\n",
       "      <th>2021-06-25</th>\n",
       "      <td>370.60</td>\n",
       "      <td>371.1499</td>\n",
       "      <td>364.5400</td>\n",
       "      <td>368.670</td>\n",
       "      <td>2176947</td>\n",
       "      <td>1.132935</td>\n",
       "      <td>0.221377</td>\n",
       "      <td>-0.037115</td>\n",
       "    </tr>\n",
       "    <tr>\n",
       "      <th>2021-06-28</th>\n",
       "      <td>368.03</td>\n",
       "      <td>368.8700</td>\n",
       "      <td>363.8600</td>\n",
       "      <td>368.595</td>\n",
       "      <td>1491640</td>\n",
       "      <td>1.301325</td>\n",
       "      <td>0.514167</td>\n",
       "      <td>0.030190</td>\n",
       "    </tr>\n",
       "    <tr>\n",
       "      <th>2021-06-29</th>\n",
       "      <td>374.75</td>\n",
       "      <td>378.0900</td>\n",
       "      <td>370.7495</td>\n",
       "      <td>372.620</td>\n",
       "      <td>2151889</td>\n",
       "      <td>0.504519</td>\n",
       "      <td>-0.871288</td>\n",
       "      <td>0.019590</td>\n",
       "    </tr>\n",
       "    <tr>\n",
       "      <th>2021-06-30</th>\n",
       "      <td>370.90</td>\n",
       "      <td>380.1100</td>\n",
       "      <td>370.9000</td>\n",
       "      <td>379.445</td>\n",
       "      <td>1823472</td>\n",
       "      <td>2.303855</td>\n",
       "      <td>2.257327</td>\n",
       "      <td>0.089135</td>\n",
       "    </tr>\n",
       "    <tr>\n",
       "      <th>2021-07-01</th>\n",
       "      <td>380.55</td>\n",
       "      <td>381.6400</td>\n",
       "      <td>374.1450</td>\n",
       "      <td>374.960</td>\n",
       "      <td>2290040</td>\n",
       "      <td>0.217830</td>\n",
       "      <td>-1.369770</td>\n",
       "      <td>0.069995</td>\n",
       "    </tr>\n",
       "    <tr>\n",
       "      <th>2021-07-02</th>\n",
       "      <td>376.31</td>\n",
       "      <td>376.6000</td>\n",
       "      <td>372.4200</td>\n",
       "      <td>374.160</td>\n",
       "      <td>1385037</td>\n",
       "      <td>0.467214</td>\n",
       "      <td>-0.936150</td>\n",
       "      <td>0.072380</td>\n",
       "    </tr>\n",
       "    <tr>\n",
       "      <th>2021-07-06</th>\n",
       "      <td>373.23</td>\n",
       "      <td>373.6313</td>\n",
       "      <td>365.4050</td>\n",
       "      <td>369.860</td>\n",
       "      <td>1858520</td>\n",
       "      <td>1.219195</td>\n",
       "      <td>0.371363</td>\n",
       "      <td>0.037775</td>\n",
       "    </tr>\n",
       "  </tbody>\n",
       "</table>\n",
       "</div>"
      ],
      "text/plain": [
       "              High       Low      Open    Close   Volume  stock_change  \\\n",
       "2021-06-08  385.79  386.4799  382.2200  384.800  1946972      0.675004   \n",
       "2021-06-09  383.44  384.2700  378.8800  382.780  1817307      1.029350   \n",
       "2021-06-10  389.08  389.6400  372.3450  373.750  3302197      0.377338   \n",
       "2021-06-11  375.47  378.7500  375.1100  378.230  1692723      0.831756   \n",
       "2021-06-14  377.43  378.7500  370.7000  373.070  2023651      0.639331   \n",
       "2021-06-15  373.50  374.8400  367.1600  371.600  2028770      1.209282   \n",
       "2021-06-16  370.99  374.0788  365.2500  371.070  2673244      1.593429   \n",
       "2021-06-17  373.52  373.5200  356.5500  361.500  3677802      1.388305   \n",
       "2021-06-18  356.72  358.3800  348.1250  348.790  4364156      0.191023   \n",
       "2021-06-21  352.59  357.9700  351.0400  357.680  2295332      1.891522   \n",
       "2021-06-22  358.33  359.8800  352.6400  357.530  1514480      1.386683   \n",
       "2021-06-23  358.79  362.4800  357.6600  361.160  1491540      0.978583   \n",
       "2021-06-24  363.00  370.8800  362.7800  368.730  2276831      1.640112   \n",
       "2021-06-25  370.60  371.1499  364.5400  368.670  2176947      1.132935   \n",
       "2021-06-28  368.03  368.8700  363.8600  368.595  1491640      1.301325   \n",
       "2021-06-29  374.75  378.0900  370.7495  372.620  2151889      0.504519   \n",
       "2021-06-30  370.90  380.1100  370.9000  379.445  1823472      2.303855   \n",
       "2021-07-01  380.55  381.6400  374.1450  374.960  2290040      0.217830   \n",
       "2021-07-02  376.31  376.6000  372.4200  374.160  1385037      0.467214   \n",
       "2021-07-06  373.23  373.6313  365.4050  369.860  1858520      1.219195   \n",
       "\n",
       "            stock_change_scaled  goldman_avg  \n",
       "2021-06-08            -0.574854     0.130225  \n",
       "2021-06-09             0.041268     0.036050  \n",
       "2021-06-10            -1.092424     0.135205  \n",
       "2021-06-11            -0.302300     0.081830  \n",
       "2021-06-14            -0.636881     0.014035  \n",
       "2021-06-15             0.354127     0.159560  \n",
       "2021-06-16             1.022067     0.084235  \n",
       "2021-06-17             0.665404     0.102160  \n",
       "2021-06-18            -1.416381     0.169720  \n",
       "2021-06-21             1.540379     0.342390  \n",
       "2021-06-22             0.662585     0.103825  \n",
       "2021-06-23            -0.047003     0.111520  \n",
       "2021-06-24             1.103238     0.148895  \n",
       "2021-06-25             0.221377    -0.037115  \n",
       "2021-06-28             0.514167     0.030190  \n",
       "2021-06-29            -0.871288     0.019590  \n",
       "2021-06-30             2.257327     0.089135  \n",
       "2021-07-01            -1.369770     0.069995  \n",
       "2021-07-02            -0.936150     0.072380  \n",
       "2021-07-06             0.371363     0.037775  "
      ]
     },
     "metadata": {},
     "output_type": "display_data"
    }
   ],
   "source": [
    "display(topic_sentiments)"
   ]
  },
  {
   "cell_type": "markdown",
   "metadata": {},
   "source": [
    "# Random Forest Regressor without a window specified"
   ]
  },
  {
   "cell_type": "code",
   "execution_count": 73,
   "metadata": {},
   "outputs": [],
   "source": [
    "\n",
    "# Split the X and y into X_train, X_test, y_train, y_test\n",
    "# YOUR CODE HERE\n",
    "from sklearn.model_selection import train_test_split\n",
    "\n",
    "X_train, X_test, y_train, y_test = train_test_split(X, \n",
    "                                                    y, \n",
    "                                                    random_state=1)"
   ]
  },
  {
   "cell_type": "code",
   "execution_count": 74,
   "metadata": {},
   "outputs": [],
   "source": [
    "# Create the StandardScaler instance\n",
    "data_scaler = StandardScaler()"
   ]
  },
  {
   "cell_type": "code",
   "execution_count": 75,
   "metadata": {},
   "outputs": [],
   "source": [
    "# Fit the Standard Scaler with the training data\n",
    "X_scaler = data_scaler.fit(X_train)"
   ]
  },
  {
   "cell_type": "code",
   "execution_count": 76,
   "metadata": {},
   "outputs": [],
   "source": [
    "# Scale the training and testing data\n",
    "X_train_scaled = X_scaler.transform(X_train)\n",
    "X_test_scaled = X_scaler.transform(X_test)"
   ]
  },
  {
   "cell_type": "code",
   "execution_count": 77,
   "metadata": {},
   "outputs": [],
   "source": [
    "# Resample the training data with the RandomForestRegressor\n",
    "from sklearn.ensemble import RandomForestRegressor\n",
    "random_forest = RandomForestRegressor(random_state = 10) "
   ]
  },
  {
   "cell_type": "code",
   "execution_count": 78,
   "metadata": {},
   "outputs": [
    {
     "name": "stderr",
     "output_type": "stream",
     "text": [
      "<ipython-input-78-68187a928912>:1: DataConversionWarning:\n",
      "\n",
      "A column-vector y was passed when a 1d array was expected. Please change the shape of y to (n_samples,), for example using ravel().\n",
      "\n"
     ]
    }
   ],
   "source": [
    "random_forest.fit(X_train_scaled, y_train)\n",
    "y_pred = random_forest.predict(X_test_scaled) \n"
   ]
  },
  {
   "cell_type": "code",
   "execution_count": 79,
   "metadata": {},
   "outputs": [
    {
     "data": {
      "text/plain": [
       "0.7901725839569592"
      ]
     },
     "execution_count": 79,
     "metadata": {},
     "output_type": "execute_result"
    }
   ],
   "source": [
    "# This is reporting the r2 score \n",
    "random_forest.score(X_test_scaled, y_test)"
   ]
  },
  {
   "cell_type": "markdown",
   "metadata": {},
   "source": [
    "# Linear Regression model"
   ]
  },
  {
   "cell_type": "code",
   "execution_count": 57,
   "metadata": {},
   "outputs": [],
   "source": [
    "# Create a Linear Regression model and fit it to the training data\n",
    "from sklearn.linear_model import LinearRegression\n",
    "\n",
    "# Fit a SKLearn linear regression using just the training set (X_train, Y_train):"
   ]
  },
  {
   "cell_type": "code",
   "execution_count": 58,
   "metadata": {},
   "outputs": [],
   "source": [
    "# Create the StandardScaler instance\n",
    "#data_scaler = StandardScaler()"
   ]
  },
  {
   "cell_type": "code",
   "execution_count": 59,
   "metadata": {},
   "outputs": [],
   "source": [
    "# Fit the Standard Scaler with the training data\n",
    "#X_scaler = data_scaler.fit(X_train)"
   ]
  },
  {
   "cell_type": "code",
   "execution_count": 80,
   "metadata": {},
   "outputs": [
    {
     "data": {
      "text/plain": [
       "LinearRegression()"
      ]
     },
     "execution_count": 80,
     "metadata": {},
     "output_type": "execute_result"
    }
   ],
   "source": [
    "# Create a Linear Regression model and fit it to the training data\n",
    "from sklearn.linear_model import LinearRegression\n",
    "\n",
    "# Fit a SKLearn linear regression using just the training set (X_train, Y_train):\n",
    "!\n",
    "model = LinearRegression()\n",
    "model.fit(X_train, y_train)"
   ]
  },
  {
   "cell_type": "code",
   "execution_count": 81,
   "metadata": {},
   "outputs": [],
   "source": [
    "# Make a prediction of \"y\" values using just the test dataset\n",
    "\n",
    "predicted_y_values = model.predict(X_test)"
   ]
  },
  {
   "cell_type": "code",
   "execution_count": 82,
   "metadata": {},
   "outputs": [
    {
     "data": {
      "text/plain": [
       "0.7661404040835539"
      ]
     },
     "execution_count": 82,
     "metadata": {},
     "output_type": "execute_result"
    }
   ],
   "source": [
    "model.score(X, y)"
   ]
  },
  {
   "cell_type": "code",
   "execution_count": 63,
   "metadata": {},
   "outputs": [],
   "source": [
    "x_range = np.linspace(X.min(), X.max(), 10)\n",
    "y_range = model.predict(x_range.reshape(-10,10))"
   ]
  },
  {
   "cell_type": "code",
   "execution_count": 83,
   "metadata": {},
   "outputs": [
    {
     "data": {
      "application/vnd.plotly.v1+json": {
       "config": {
        "plotlyServerURL": "https://plot.ly"
       },
       "data": [
        {
         "mode": "markers",
         "name": "train",
         "type": "scatter",
         "x": [
          [
           -1.270509971854847,
           -1.867468046530184,
           -1.805663869482133,
           -1.2799736263121415,
           -0.6219017019822594,
           0.6601517535538735,
           0.702913030764982,
           0.5603881877373865,
           1.5639464276028177,
           1.6086292679509109
          ],
          [
           1.0385383259605188,
           1.3260598440667395,
           0.42381569699154614,
           0.9815951604170216,
           0.8629737075156517,
           1.0933018662196372,
           1.0622082693929267,
           -1.275678055687459,
           -1.149077590759161,
           -1.1108017710571267
          ],
          [
           1.5132142174342107,
           0.7774595634363654,
           1.5922003206151443,
           0.9815951604170216,
           1.3327037116529405,
           1.1963761021084602,
           1.1469195386833804,
           1.374278371905688,
           -1.0937923100668983,
           -1.367554775728667
          ],
          [
           -0.1471311255688558,
           -0.18591113420691746,
           -0.07735585983770611,
           0.35477985810681695,
           -1.1144574607962958,
           -1.087993786809696,
           -1.0055471227361832,
           -0.5580544524422824,
           0.5917345403070988,
           0.4041619395961938
          ],
          [
           -0.1471311255688558,
           0.2135352526207874,
           0.0043130451670921905,
           0.4217520169846283,
           0.7043947802877197,
           -1.0324756093078362,
           -1.2950935156222931,
           -1.0131328349880055,
           -0.5409395031442242,
           0.36788045479993636
          ],
          [
           -0.9869803204021709,
           -0.2636754793867734,
           -0.13730933345394944,
           -1.4597485696133468,
           -1.1637130366776953,
           -0.8293603257644311,
           -0.6114002004828301,
           0.9121987834746524,
           0.628128436060375,
           0.09768488443878333
          ]
         ],
         "y": [
          [
           380.55
          ],
          [
           358.79
          ],
          [
           358.33
          ],
          [
           368.03
          ],
          [
           370.6
          ],
          [
           374.75
          ]
         ]
        },
        {
         "mode": "markers",
         "name": "test",
         "type": "scatter",
         "x": [
          [
           -4.522509155940857,
           -1.9093537290364104,
           -1.6007405792047191,
           -0.9683637245900496,
           0.38723692583185576,
           0.6966989635727844,
           0.3572916584398238,
           2.1741661443033546,
           1.8363275666232608,
           1.814300523001935
          ],
          [
           2.1919884989157303,
           0.2135352526207874,
           0.42381569699154614,
           0.5129818082118768,
           0.7715265261475469,
           1.0176346525902646,
           -1.2329395778823466,
           -1.3474404160119706,
           -0.8915290880220187,
           -0.7612950631272724
          ],
          [
           -1.1504824194065426,
           -0.32076259983672933,
           -1.7616751003649944,
           -1.5088870541156725,
           -0.9342541344009176,
           -0.47729383428919236,
           0.6619975483356814,
           0.9594394201858419,
           0.32070182276696124,
           1.3370894410207903
          ]
         ],
         "y": [
          [
           376.31
          ],
          [
           363
          ],
          [
           370.9
          ]
         ]
        },
        {
         "name": "prediction",
         "type": "scatter",
         "x": [
          357.97,
          361.48888888888894,
          365.0077777777778,
          368.5266666666667,
          372.04555555555555,
          375.56444444444446,
          379.0833333333333,
          382.6022222222222,
          386.1211111111111,
          389.64
         ],
         "y": [
          [
           366.4597600212219
          ]
         ]
        }
       ],
       "layout": {
        "template": {
         "data": {
          "bar": [
           {
            "error_x": {
             "color": "#2a3f5f"
            },
            "error_y": {
             "color": "#2a3f5f"
            },
            "marker": {
             "line": {
              "color": "#E5ECF6",
              "width": 0.5
             }
            },
            "type": "bar"
           }
          ],
          "barpolar": [
           {
            "marker": {
             "line": {
              "color": "#E5ECF6",
              "width": 0.5
             }
            },
            "type": "barpolar"
           }
          ],
          "carpet": [
           {
            "aaxis": {
             "endlinecolor": "#2a3f5f",
             "gridcolor": "white",
             "linecolor": "white",
             "minorgridcolor": "white",
             "startlinecolor": "#2a3f5f"
            },
            "baxis": {
             "endlinecolor": "#2a3f5f",
             "gridcolor": "white",
             "linecolor": "white",
             "minorgridcolor": "white",
             "startlinecolor": "#2a3f5f"
            },
            "type": "carpet"
           }
          ],
          "choropleth": [
           {
            "colorbar": {
             "outlinewidth": 0,
             "ticks": ""
            },
            "type": "choropleth"
           }
          ],
          "contour": [
           {
            "colorbar": {
             "outlinewidth": 0,
             "ticks": ""
            },
            "colorscale": [
             [
              0,
              "#0d0887"
             ],
             [
              0.1111111111111111,
              "#46039f"
             ],
             [
              0.2222222222222222,
              "#7201a8"
             ],
             [
              0.3333333333333333,
              "#9c179e"
             ],
             [
              0.4444444444444444,
              "#bd3786"
             ],
             [
              0.5555555555555556,
              "#d8576b"
             ],
             [
              0.6666666666666666,
              "#ed7953"
             ],
             [
              0.7777777777777778,
              "#fb9f3a"
             ],
             [
              0.8888888888888888,
              "#fdca26"
             ],
             [
              1,
              "#f0f921"
             ]
            ],
            "type": "contour"
           }
          ],
          "contourcarpet": [
           {
            "colorbar": {
             "outlinewidth": 0,
             "ticks": ""
            },
            "type": "contourcarpet"
           }
          ],
          "heatmap": [
           {
            "colorbar": {
             "outlinewidth": 0,
             "ticks": ""
            },
            "colorscale": [
             [
              0,
              "#0d0887"
             ],
             [
              0.1111111111111111,
              "#46039f"
             ],
             [
              0.2222222222222222,
              "#7201a8"
             ],
             [
              0.3333333333333333,
              "#9c179e"
             ],
             [
              0.4444444444444444,
              "#bd3786"
             ],
             [
              0.5555555555555556,
              "#d8576b"
             ],
             [
              0.6666666666666666,
              "#ed7953"
             ],
             [
              0.7777777777777778,
              "#fb9f3a"
             ],
             [
              0.8888888888888888,
              "#fdca26"
             ],
             [
              1,
              "#f0f921"
             ]
            ],
            "type": "heatmap"
           }
          ],
          "heatmapgl": [
           {
            "colorbar": {
             "outlinewidth": 0,
             "ticks": ""
            },
            "colorscale": [
             [
              0,
              "#0d0887"
             ],
             [
              0.1111111111111111,
              "#46039f"
             ],
             [
              0.2222222222222222,
              "#7201a8"
             ],
             [
              0.3333333333333333,
              "#9c179e"
             ],
             [
              0.4444444444444444,
              "#bd3786"
             ],
             [
              0.5555555555555556,
              "#d8576b"
             ],
             [
              0.6666666666666666,
              "#ed7953"
             ],
             [
              0.7777777777777778,
              "#fb9f3a"
             ],
             [
              0.8888888888888888,
              "#fdca26"
             ],
             [
              1,
              "#f0f921"
             ]
            ],
            "type": "heatmapgl"
           }
          ],
          "histogram": [
           {
            "marker": {
             "colorbar": {
              "outlinewidth": 0,
              "ticks": ""
             }
            },
            "type": "histogram"
           }
          ],
          "histogram2d": [
           {
            "colorbar": {
             "outlinewidth": 0,
             "ticks": ""
            },
            "colorscale": [
             [
              0,
              "#0d0887"
             ],
             [
              0.1111111111111111,
              "#46039f"
             ],
             [
              0.2222222222222222,
              "#7201a8"
             ],
             [
              0.3333333333333333,
              "#9c179e"
             ],
             [
              0.4444444444444444,
              "#bd3786"
             ],
             [
              0.5555555555555556,
              "#d8576b"
             ],
             [
              0.6666666666666666,
              "#ed7953"
             ],
             [
              0.7777777777777778,
              "#fb9f3a"
             ],
             [
              0.8888888888888888,
              "#fdca26"
             ],
             [
              1,
              "#f0f921"
             ]
            ],
            "type": "histogram2d"
           }
          ],
          "histogram2dcontour": [
           {
            "colorbar": {
             "outlinewidth": 0,
             "ticks": ""
            },
            "colorscale": [
             [
              0,
              "#0d0887"
             ],
             [
              0.1111111111111111,
              "#46039f"
             ],
             [
              0.2222222222222222,
              "#7201a8"
             ],
             [
              0.3333333333333333,
              "#9c179e"
             ],
             [
              0.4444444444444444,
              "#bd3786"
             ],
             [
              0.5555555555555556,
              "#d8576b"
             ],
             [
              0.6666666666666666,
              "#ed7953"
             ],
             [
              0.7777777777777778,
              "#fb9f3a"
             ],
             [
              0.8888888888888888,
              "#fdca26"
             ],
             [
              1,
              "#f0f921"
             ]
            ],
            "type": "histogram2dcontour"
           }
          ],
          "mesh3d": [
           {
            "colorbar": {
             "outlinewidth": 0,
             "ticks": ""
            },
            "type": "mesh3d"
           }
          ],
          "parcoords": [
           {
            "line": {
             "colorbar": {
              "outlinewidth": 0,
              "ticks": ""
             }
            },
            "type": "parcoords"
           }
          ],
          "pie": [
           {
            "automargin": true,
            "type": "pie"
           }
          ],
          "scatter": [
           {
            "marker": {
             "colorbar": {
              "outlinewidth": 0,
              "ticks": ""
             }
            },
            "type": "scatter"
           }
          ],
          "scatter3d": [
           {
            "line": {
             "colorbar": {
              "outlinewidth": 0,
              "ticks": ""
             }
            },
            "marker": {
             "colorbar": {
              "outlinewidth": 0,
              "ticks": ""
             }
            },
            "type": "scatter3d"
           }
          ],
          "scattercarpet": [
           {
            "marker": {
             "colorbar": {
              "outlinewidth": 0,
              "ticks": ""
             }
            },
            "type": "scattercarpet"
           }
          ],
          "scattergeo": [
           {
            "marker": {
             "colorbar": {
              "outlinewidth": 0,
              "ticks": ""
             }
            },
            "type": "scattergeo"
           }
          ],
          "scattergl": [
           {
            "marker": {
             "colorbar": {
              "outlinewidth": 0,
              "ticks": ""
             }
            },
            "type": "scattergl"
           }
          ],
          "scattermapbox": [
           {
            "marker": {
             "colorbar": {
              "outlinewidth": 0,
              "ticks": ""
             }
            },
            "type": "scattermapbox"
           }
          ],
          "scatterpolar": [
           {
            "marker": {
             "colorbar": {
              "outlinewidth": 0,
              "ticks": ""
             }
            },
            "type": "scatterpolar"
           }
          ],
          "scatterpolargl": [
           {
            "marker": {
             "colorbar": {
              "outlinewidth": 0,
              "ticks": ""
             }
            },
            "type": "scatterpolargl"
           }
          ],
          "scatterternary": [
           {
            "marker": {
             "colorbar": {
              "outlinewidth": 0,
              "ticks": ""
             }
            },
            "type": "scatterternary"
           }
          ],
          "surface": [
           {
            "colorbar": {
             "outlinewidth": 0,
             "ticks": ""
            },
            "colorscale": [
             [
              0,
              "#0d0887"
             ],
             [
              0.1111111111111111,
              "#46039f"
             ],
             [
              0.2222222222222222,
              "#7201a8"
             ],
             [
              0.3333333333333333,
              "#9c179e"
             ],
             [
              0.4444444444444444,
              "#bd3786"
             ],
             [
              0.5555555555555556,
              "#d8576b"
             ],
             [
              0.6666666666666666,
              "#ed7953"
             ],
             [
              0.7777777777777778,
              "#fb9f3a"
             ],
             [
              0.8888888888888888,
              "#fdca26"
             ],
             [
              1,
              "#f0f921"
             ]
            ],
            "type": "surface"
           }
          ],
          "table": [
           {
            "cells": {
             "fill": {
              "color": "#EBF0F8"
             },
             "line": {
              "color": "white"
             }
            },
            "header": {
             "fill": {
              "color": "#C8D4E3"
             },
             "line": {
              "color": "white"
             }
            },
            "type": "table"
           }
          ]
         },
         "layout": {
          "annotationdefaults": {
           "arrowcolor": "#2a3f5f",
           "arrowhead": 0,
           "arrowwidth": 1
          },
          "autotypenumbers": "strict",
          "coloraxis": {
           "colorbar": {
            "outlinewidth": 0,
            "ticks": ""
           }
          },
          "colorscale": {
           "diverging": [
            [
             0,
             "#8e0152"
            ],
            [
             0.1,
             "#c51b7d"
            ],
            [
             0.2,
             "#de77ae"
            ],
            [
             0.3,
             "#f1b6da"
            ],
            [
             0.4,
             "#fde0ef"
            ],
            [
             0.5,
             "#f7f7f7"
            ],
            [
             0.6,
             "#e6f5d0"
            ],
            [
             0.7,
             "#b8e186"
            ],
            [
             0.8,
             "#7fbc41"
            ],
            [
             0.9,
             "#4d9221"
            ],
            [
             1,
             "#276419"
            ]
           ],
           "sequential": [
            [
             0,
             "#0d0887"
            ],
            [
             0.1111111111111111,
             "#46039f"
            ],
            [
             0.2222222222222222,
             "#7201a8"
            ],
            [
             0.3333333333333333,
             "#9c179e"
            ],
            [
             0.4444444444444444,
             "#bd3786"
            ],
            [
             0.5555555555555556,
             "#d8576b"
            ],
            [
             0.6666666666666666,
             "#ed7953"
            ],
            [
             0.7777777777777778,
             "#fb9f3a"
            ],
            [
             0.8888888888888888,
             "#fdca26"
            ],
            [
             1,
             "#f0f921"
            ]
           ],
           "sequentialminus": [
            [
             0,
             "#0d0887"
            ],
            [
             0.1111111111111111,
             "#46039f"
            ],
            [
             0.2222222222222222,
             "#7201a8"
            ],
            [
             0.3333333333333333,
             "#9c179e"
            ],
            [
             0.4444444444444444,
             "#bd3786"
            ],
            [
             0.5555555555555556,
             "#d8576b"
            ],
            [
             0.6666666666666666,
             "#ed7953"
            ],
            [
             0.7777777777777778,
             "#fb9f3a"
            ],
            [
             0.8888888888888888,
             "#fdca26"
            ],
            [
             1,
             "#f0f921"
            ]
           ]
          },
          "colorway": [
           "#636efa",
           "#EF553B",
           "#00cc96",
           "#ab63fa",
           "#FFA15A",
           "#19d3f3",
           "#FF6692",
           "#B6E880",
           "#FF97FF",
           "#FECB52"
          ],
          "font": {
           "color": "#2a3f5f"
          },
          "geo": {
           "bgcolor": "white",
           "lakecolor": "white",
           "landcolor": "#E5ECF6",
           "showlakes": true,
           "showland": true,
           "subunitcolor": "white"
          },
          "hoverlabel": {
           "align": "left"
          },
          "hovermode": "closest",
          "mapbox": {
           "style": "light"
          },
          "paper_bgcolor": "white",
          "plot_bgcolor": "#E5ECF6",
          "polar": {
           "angularaxis": {
            "gridcolor": "white",
            "linecolor": "white",
            "ticks": ""
           },
           "bgcolor": "#E5ECF6",
           "radialaxis": {
            "gridcolor": "white",
            "linecolor": "white",
            "ticks": ""
           }
          },
          "scene": {
           "xaxis": {
            "backgroundcolor": "#E5ECF6",
            "gridcolor": "white",
            "gridwidth": 2,
            "linecolor": "white",
            "showbackground": true,
            "ticks": "",
            "zerolinecolor": "white"
           },
           "yaxis": {
            "backgroundcolor": "#E5ECF6",
            "gridcolor": "white",
            "gridwidth": 2,
            "linecolor": "white",
            "showbackground": true,
            "ticks": "",
            "zerolinecolor": "white"
           },
           "zaxis": {
            "backgroundcolor": "#E5ECF6",
            "gridcolor": "white",
            "gridwidth": 2,
            "linecolor": "white",
            "showbackground": true,
            "ticks": "",
            "zerolinecolor": "white"
           }
          },
          "shapedefaults": {
           "line": {
            "color": "#2a3f5f"
           }
          },
          "ternary": {
           "aaxis": {
            "gridcolor": "white",
            "linecolor": "white",
            "ticks": ""
           },
           "baxis": {
            "gridcolor": "white",
            "linecolor": "white",
            "ticks": ""
           },
           "bgcolor": "#E5ECF6",
           "caxis": {
            "gridcolor": "white",
            "linecolor": "white",
            "ticks": ""
           }
          },
          "title": {
           "x": 0.05
          },
          "xaxis": {
           "automargin": true,
           "gridcolor": "white",
           "linecolor": "white",
           "ticks": "",
           "title": {
            "standoff": 15
           },
           "zerolinecolor": "white",
           "zerolinewidth": 2
          },
          "yaxis": {
           "automargin": true,
           "gridcolor": "white",
           "linecolor": "white",
           "ticks": "",
           "title": {
            "standoff": 15
           },
           "zerolinecolor": "white",
           "zerolinewidth": 2
          }
         }
        }
       }
      },
      "text/html": [
       "<div>                            <div id=\"846d8311-eb10-4d0b-9cec-0b7d87879b5b\" class=\"plotly-graph-div\" style=\"height:525px; width:100%;\"></div>            <script type=\"text/javascript\">                require([\"plotly\"], function(Plotly) {                    window.PLOTLYENV=window.PLOTLYENV || {};                                    if (document.getElementById(\"846d8311-eb10-4d0b-9cec-0b7d87879b5b\")) {                    Plotly.newPlot(                        \"846d8311-eb10-4d0b-9cec-0b7d87879b5b\",                        [{\"mode\": \"markers\", \"name\": \"train\", \"type\": \"scatter\", \"x\": [[-1.270509971854847, -1.867468046530184, -1.805663869482133, -1.2799736263121415, -0.6219017019822594, 0.6601517535538735, 0.702913030764982, 0.5603881877373865, 1.5639464276028177, 1.6086292679509109], [1.0385383259605188, 1.3260598440667395, 0.42381569699154614, 0.9815951604170216, 0.8629737075156517, 1.0933018662196372, 1.0622082693929267, -1.275678055687459, -1.149077590759161, -1.1108017710571267], [1.5132142174342107, 0.7774595634363654, 1.5922003206151443, 0.9815951604170216, 1.3327037116529405, 1.1963761021084602, 1.1469195386833804, 1.374278371905688, -1.0937923100668983, -1.367554775728667], [-0.1471311255688558, -0.18591113420691746, -0.07735585983770611, 0.35477985810681695, -1.1144574607962958, -1.087993786809696, -1.0055471227361832, -0.5580544524422824, 0.5917345403070988, 0.4041619395961938], [-0.1471311255688558, 0.2135352526207874, 0.0043130451670921905, 0.4217520169846283, 0.7043947802877197, -1.0324756093078362, -1.2950935156222931, -1.0131328349880055, -0.5409395031442242, 0.36788045479993636], [-0.9869803204021709, -0.2636754793867734, -0.13730933345394944, -1.4597485696133468, -1.1637130366776953, -0.8293603257644311, -0.6114002004828301, 0.9121987834746524, 0.628128436060375, 0.09768488443878333]], \"y\": [[380.55], [358.79], [358.33], [368.03], [370.6], [374.75]]}, {\"mode\": \"markers\", \"name\": \"test\", \"type\": \"scatter\", \"x\": [[-4.522509155940857, -1.9093537290364104, -1.6007405792047191, -0.9683637245900496, 0.38723692583185576, 0.6966989635727844, 0.3572916584398238, 2.1741661443033546, 1.8363275666232608, 1.814300523001935], [2.1919884989157303, 0.2135352526207874, 0.42381569699154614, 0.5129818082118768, 0.7715265261475469, 1.0176346525902646, -1.2329395778823466, -1.3474404160119706, -0.8915290880220187, -0.7612950631272724], [-1.1504824194065426, -0.32076259983672933, -1.7616751003649944, -1.5088870541156725, -0.9342541344009176, -0.47729383428919236, 0.6619975483356814, 0.9594394201858419, 0.32070182276696124, 1.3370894410207903]], \"y\": [[376.31], [363.0], [370.9]]}, {\"name\": \"prediction\", \"type\": \"scatter\", \"x\": [357.97, 361.48888888888894, 365.0077777777778, 368.5266666666667, 372.04555555555555, 375.56444444444446, 379.0833333333333, 382.6022222222222, 386.1211111111111, 389.64], \"y\": [[366.4597600212219]]}],                        {\"template\": {\"data\": {\"bar\": [{\"error_x\": {\"color\": \"#2a3f5f\"}, \"error_y\": {\"color\": \"#2a3f5f\"}, \"marker\": {\"line\": {\"color\": \"#E5ECF6\", \"width\": 0.5}}, \"type\": \"bar\"}], \"barpolar\": [{\"marker\": {\"line\": {\"color\": \"#E5ECF6\", \"width\": 0.5}}, \"type\": \"barpolar\"}], \"carpet\": [{\"aaxis\": {\"endlinecolor\": \"#2a3f5f\", \"gridcolor\": \"white\", \"linecolor\": \"white\", \"minorgridcolor\": \"white\", \"startlinecolor\": \"#2a3f5f\"}, \"baxis\": {\"endlinecolor\": \"#2a3f5f\", \"gridcolor\": \"white\", \"linecolor\": \"white\", \"minorgridcolor\": \"white\", \"startlinecolor\": \"#2a3f5f\"}, \"type\": \"carpet\"}], \"choropleth\": [{\"colorbar\": {\"outlinewidth\": 0, \"ticks\": \"\"}, \"type\": \"choropleth\"}], \"contour\": [{\"colorbar\": {\"outlinewidth\": 0, \"ticks\": \"\"}, \"colorscale\": [[0.0, \"#0d0887\"], [0.1111111111111111, \"#46039f\"], [0.2222222222222222, \"#7201a8\"], [0.3333333333333333, \"#9c179e\"], [0.4444444444444444, \"#bd3786\"], [0.5555555555555556, \"#d8576b\"], [0.6666666666666666, \"#ed7953\"], [0.7777777777777778, \"#fb9f3a\"], [0.8888888888888888, \"#fdca26\"], [1.0, \"#f0f921\"]], \"type\": \"contour\"}], \"contourcarpet\": [{\"colorbar\": {\"outlinewidth\": 0, \"ticks\": \"\"}, \"type\": \"contourcarpet\"}], \"heatmap\": [{\"colorbar\": {\"outlinewidth\": 0, \"ticks\": \"\"}, \"colorscale\": [[0.0, \"#0d0887\"], [0.1111111111111111, \"#46039f\"], [0.2222222222222222, \"#7201a8\"], [0.3333333333333333, \"#9c179e\"], [0.4444444444444444, \"#bd3786\"], [0.5555555555555556, \"#d8576b\"], [0.6666666666666666, \"#ed7953\"], [0.7777777777777778, \"#fb9f3a\"], [0.8888888888888888, \"#fdca26\"], [1.0, \"#f0f921\"]], \"type\": \"heatmap\"}], \"heatmapgl\": [{\"colorbar\": {\"outlinewidth\": 0, \"ticks\": \"\"}, \"colorscale\": [[0.0, \"#0d0887\"], [0.1111111111111111, \"#46039f\"], [0.2222222222222222, \"#7201a8\"], [0.3333333333333333, \"#9c179e\"], [0.4444444444444444, \"#bd3786\"], [0.5555555555555556, \"#d8576b\"], [0.6666666666666666, \"#ed7953\"], [0.7777777777777778, \"#fb9f3a\"], [0.8888888888888888, \"#fdca26\"], [1.0, \"#f0f921\"]], \"type\": \"heatmapgl\"}], \"histogram\": [{\"marker\": {\"colorbar\": {\"outlinewidth\": 0, \"ticks\": \"\"}}, \"type\": \"histogram\"}], \"histogram2d\": [{\"colorbar\": {\"outlinewidth\": 0, \"ticks\": \"\"}, \"colorscale\": [[0.0, \"#0d0887\"], [0.1111111111111111, \"#46039f\"], [0.2222222222222222, \"#7201a8\"], [0.3333333333333333, \"#9c179e\"], [0.4444444444444444, \"#bd3786\"], [0.5555555555555556, \"#d8576b\"], [0.6666666666666666, \"#ed7953\"], [0.7777777777777778, \"#fb9f3a\"], [0.8888888888888888, \"#fdca26\"], [1.0, \"#f0f921\"]], \"type\": \"histogram2d\"}], \"histogram2dcontour\": [{\"colorbar\": {\"outlinewidth\": 0, \"ticks\": \"\"}, \"colorscale\": [[0.0, \"#0d0887\"], [0.1111111111111111, \"#46039f\"], [0.2222222222222222, \"#7201a8\"], [0.3333333333333333, \"#9c179e\"], [0.4444444444444444, \"#bd3786\"], [0.5555555555555556, \"#d8576b\"], [0.6666666666666666, \"#ed7953\"], [0.7777777777777778, \"#fb9f3a\"], [0.8888888888888888, \"#fdca26\"], [1.0, \"#f0f921\"]], \"type\": \"histogram2dcontour\"}], \"mesh3d\": [{\"colorbar\": {\"outlinewidth\": 0, \"ticks\": \"\"}, \"type\": \"mesh3d\"}], \"parcoords\": [{\"line\": {\"colorbar\": {\"outlinewidth\": 0, \"ticks\": \"\"}}, \"type\": \"parcoords\"}], \"pie\": [{\"automargin\": true, \"type\": \"pie\"}], \"scatter\": [{\"marker\": {\"colorbar\": {\"outlinewidth\": 0, \"ticks\": \"\"}}, \"type\": \"scatter\"}], \"scatter3d\": [{\"line\": {\"colorbar\": {\"outlinewidth\": 0, \"ticks\": \"\"}}, \"marker\": {\"colorbar\": {\"outlinewidth\": 0, \"ticks\": \"\"}}, \"type\": \"scatter3d\"}], \"scattercarpet\": [{\"marker\": {\"colorbar\": {\"outlinewidth\": 0, \"ticks\": \"\"}}, \"type\": \"scattercarpet\"}], \"scattergeo\": [{\"marker\": {\"colorbar\": {\"outlinewidth\": 0, \"ticks\": \"\"}}, \"type\": \"scattergeo\"}], \"scattergl\": [{\"marker\": {\"colorbar\": {\"outlinewidth\": 0, \"ticks\": \"\"}}, \"type\": \"scattergl\"}], \"scattermapbox\": [{\"marker\": {\"colorbar\": {\"outlinewidth\": 0, \"ticks\": \"\"}}, \"type\": \"scattermapbox\"}], \"scatterpolar\": [{\"marker\": {\"colorbar\": {\"outlinewidth\": 0, \"ticks\": \"\"}}, \"type\": \"scatterpolar\"}], \"scatterpolargl\": [{\"marker\": {\"colorbar\": {\"outlinewidth\": 0, \"ticks\": \"\"}}, \"type\": \"scatterpolargl\"}], \"scatterternary\": [{\"marker\": {\"colorbar\": {\"outlinewidth\": 0, \"ticks\": \"\"}}, \"type\": \"scatterternary\"}], \"surface\": [{\"colorbar\": {\"outlinewidth\": 0, \"ticks\": \"\"}, \"colorscale\": [[0.0, \"#0d0887\"], [0.1111111111111111, \"#46039f\"], [0.2222222222222222, \"#7201a8\"], [0.3333333333333333, \"#9c179e\"], [0.4444444444444444, \"#bd3786\"], [0.5555555555555556, \"#d8576b\"], [0.6666666666666666, \"#ed7953\"], [0.7777777777777778, \"#fb9f3a\"], [0.8888888888888888, \"#fdca26\"], [1.0, \"#f0f921\"]], \"type\": \"surface\"}], \"table\": [{\"cells\": {\"fill\": {\"color\": \"#EBF0F8\"}, \"line\": {\"color\": \"white\"}}, \"header\": {\"fill\": {\"color\": \"#C8D4E3\"}, \"line\": {\"color\": \"white\"}}, \"type\": \"table\"}]}, \"layout\": {\"annotationdefaults\": {\"arrowcolor\": \"#2a3f5f\", \"arrowhead\": 0, \"arrowwidth\": 1}, \"autotypenumbers\": \"strict\", \"coloraxis\": {\"colorbar\": {\"outlinewidth\": 0, \"ticks\": \"\"}}, \"colorscale\": {\"diverging\": [[0, \"#8e0152\"], [0.1, \"#c51b7d\"], [0.2, \"#de77ae\"], [0.3, \"#f1b6da\"], [0.4, \"#fde0ef\"], [0.5, \"#f7f7f7\"], [0.6, \"#e6f5d0\"], [0.7, \"#b8e186\"], [0.8, \"#7fbc41\"], [0.9, \"#4d9221\"], [1, \"#276419\"]], \"sequential\": [[0.0, \"#0d0887\"], [0.1111111111111111, \"#46039f\"], [0.2222222222222222, \"#7201a8\"], [0.3333333333333333, \"#9c179e\"], [0.4444444444444444, \"#bd3786\"], [0.5555555555555556, \"#d8576b\"], [0.6666666666666666, \"#ed7953\"], [0.7777777777777778, \"#fb9f3a\"], [0.8888888888888888, \"#fdca26\"], [1.0, \"#f0f921\"]], \"sequentialminus\": [[0.0, \"#0d0887\"], [0.1111111111111111, \"#46039f\"], [0.2222222222222222, \"#7201a8\"], [0.3333333333333333, \"#9c179e\"], [0.4444444444444444, \"#bd3786\"], [0.5555555555555556, \"#d8576b\"], [0.6666666666666666, \"#ed7953\"], [0.7777777777777778, \"#fb9f3a\"], [0.8888888888888888, \"#fdca26\"], [1.0, \"#f0f921\"]]}, \"colorway\": [\"#636efa\", \"#EF553B\", \"#00cc96\", \"#ab63fa\", \"#FFA15A\", \"#19d3f3\", \"#FF6692\", \"#B6E880\", \"#FF97FF\", \"#FECB52\"], \"font\": {\"color\": \"#2a3f5f\"}, \"geo\": {\"bgcolor\": \"white\", \"lakecolor\": \"white\", \"landcolor\": \"#E5ECF6\", \"showlakes\": true, \"showland\": true, \"subunitcolor\": \"white\"}, \"hoverlabel\": {\"align\": \"left\"}, \"hovermode\": \"closest\", \"mapbox\": {\"style\": \"light\"}, \"paper_bgcolor\": \"white\", \"plot_bgcolor\": \"#E5ECF6\", \"polar\": {\"angularaxis\": {\"gridcolor\": \"white\", \"linecolor\": \"white\", \"ticks\": \"\"}, \"bgcolor\": \"#E5ECF6\", \"radialaxis\": {\"gridcolor\": \"white\", \"linecolor\": \"white\", \"ticks\": \"\"}}, \"scene\": {\"xaxis\": {\"backgroundcolor\": \"#E5ECF6\", \"gridcolor\": \"white\", \"gridwidth\": 2, \"linecolor\": \"white\", \"showbackground\": true, \"ticks\": \"\", \"zerolinecolor\": \"white\"}, \"yaxis\": {\"backgroundcolor\": \"#E5ECF6\", \"gridcolor\": \"white\", \"gridwidth\": 2, \"linecolor\": \"white\", \"showbackground\": true, \"ticks\": \"\", \"zerolinecolor\": \"white\"}, \"zaxis\": {\"backgroundcolor\": \"#E5ECF6\", \"gridcolor\": \"white\", \"gridwidth\": 2, \"linecolor\": \"white\", \"showbackground\": true, \"ticks\": \"\", \"zerolinecolor\": \"white\"}}, \"shapedefaults\": {\"line\": {\"color\": \"#2a3f5f\"}}, \"ternary\": {\"aaxis\": {\"gridcolor\": \"white\", \"linecolor\": \"white\", \"ticks\": \"\"}, \"baxis\": {\"gridcolor\": \"white\", \"linecolor\": \"white\", \"ticks\": \"\"}, \"bgcolor\": \"#E5ECF6\", \"caxis\": {\"gridcolor\": \"white\", \"linecolor\": \"white\", \"ticks\": \"\"}}, \"title\": {\"x\": 0.05}, \"xaxis\": {\"automargin\": true, \"gridcolor\": \"white\", \"linecolor\": \"white\", \"ticks\": \"\", \"title\": {\"standoff\": 15}, \"zerolinecolor\": \"white\", \"zerolinewidth\": 2}, \"yaxis\": {\"automargin\": true, \"gridcolor\": \"white\", \"linecolor\": \"white\", \"ticks\": \"\", \"title\": {\"standoff\": 15}, \"zerolinecolor\": \"white\", \"zerolinewidth\": 2}}}},                        {\"responsive\": true}                    ).then(function(){\n",
       "                            \n",
       "var gd = document.getElementById('846d8311-eb10-4d0b-9cec-0b7d87879b5b');\n",
       "var x = new MutationObserver(function (mutations, observer) {{\n",
       "        var display = window.getComputedStyle(gd).display;\n",
       "        if (!display || display === 'none') {{\n",
       "            console.log([gd, 'removed!']);\n",
       "            Plotly.purge(gd);\n",
       "            observer.disconnect();\n",
       "        }}\n",
       "}});\n",
       "\n",
       "// Listen for the removal of the full notebook cells\n",
       "var notebookContainer = gd.closest('#notebook-container');\n",
       "if (notebookContainer) {{\n",
       "    x.observe(notebookContainer, {childList: true});\n",
       "}}\n",
       "\n",
       "// Listen for the clearing of the current output cell\n",
       "var outputEl = gd.closest('.output');\n",
       "if (outputEl) {{\n",
       "    x.observe(outputEl, {childList: true});\n",
       "}}\n",
       "\n",
       "                        })                };                });            </script>        </div>"
      ]
     },
     "metadata": {},
     "output_type": "display_data"
    }
   ],
   "source": [
    "import plotly.express as px\n",
    "import plotly.graph_objects as go\n",
    "\n",
    "fig = go.Figure([\n",
    "    go.Scatter(x=X_train_scaled.squeeze(), y=y_train, name='train', mode='markers'),\n",
    "    go.Scatter(x=X_test_scaled.squeeze(), y=y_test, name='test', mode='markers'),\n",
    "    go.Scatter(x=x_range, y=y_range, name='prediction')\n",
    "])\n",
    "fig.show()"
   ]
  },
  {
   "cell_type": "code",
   "execution_count": null,
   "metadata": {},
   "outputs": [],
   "source": []
  }
 ],
 "metadata": {
  "interpreter": {
   "hash": "9f822823fb4ef66053eca5ace2853e0c7fbc43f4dec3a54fc8c44e981b7f1e78"
  },
  "kernelspec": {
   "display_name": "Python 3",
   "language": "python",
   "name": "python3"
  },
  "language_info": {
   "codemirror_mode": {
    "name": "ipython",
    "version": 3
   },
   "file_extension": ".py",
   "mimetype": "text/x-python",
   "name": "python",
   "nbconvert_exporter": "python",
   "pygments_lexer": "ipython3",
   "version": "3.8.5"
  }
 },
 "nbformat": 4,
 "nbformat_minor": 4
}
