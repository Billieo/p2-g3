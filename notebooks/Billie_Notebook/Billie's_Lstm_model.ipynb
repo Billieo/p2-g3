{
 "cells": [
  {
   "cell_type": "code",
   "execution_count": 61,
   "metadata": {},
   "outputs": [
    {
     "name": "stderr",
     "output_type": "stream",
     "text": [
      "[nltk_data] Downloading package vader_lexicon to\n",
      "[nltk_data]     C:\\Users\\bfode\\AppData\\Roaming\\nltk_data...\n",
      "[nltk_data]   Package vader_lexicon is already up-to-date!\n"
     ]
    }
   ],
   "source": [
    "# Initial imports\n",
    "import os\n",
    "import pandas as pd\n",
    "import numpy as np\n",
    "from dotenv import load_dotenv\n",
    "import nltk as nltk\n",
    "from wordcloud import WordCloud\n",
    "nltk.download('vader_lexicon')\n",
    "from nltk.sentiment.vader import SentimentIntensityAnalyzer\n",
    "analyzer = SentimentIntensityAnalyzer()\n",
    "from newsapi import NewsApiClient\n",
    "load_dotenv()\n",
    "import alpaca_trade_api as tradeapi\n",
    "from datetime import datetime, timedelta\n",
    "\n",
    "%matplotlib inline"
   ]
  },
  {
   "cell_type": "code",
   "execution_count": 62,
   "metadata": {},
   "outputs": [],
   "source": [
    "# Read your api key environment variable\n",
    "# YOUR CODE HERE!\n",
    "api_key = os.getenv(\"news_api\")"
   ]
  },
  {
   "cell_type": "code",
   "execution_count": 63,
   "metadata": {},
   "outputs": [],
   "source": [
    "# Create a newsapi client\n",
    "# YOUR CODE HERE!\n",
    "newsapi = NewsApiClient(api_key=api_key)"
   ]
  },
  {
   "cell_type": "code",
   "execution_count": 64,
   "metadata": {},
   "outputs": [],
   "source": [
    "# Load .env enviroment variables\n",
    "load_dotenv()\n",
    "\n",
    "# Set News API Key\n",
    "newsapi = NewsApiClient(api_key=os.environ[\"news_api\"])\n",
    "\n",
    "# Set Alpaca API key and secret\n",
    "alpaca_api_key = os.getenv(\"ALPACA_API_KEY\")\n",
    "alpaca_secret_key = os.getenv(\"ALPACA_SECRET_KEY\")\n",
    "\n",
    "api = tradeapi.REST(alpaca_api_key, alpaca_secret_key, api_version='v2')"
   ]
  },
  {
   "cell_type": "code",
   "execution_count": 65,
   "metadata": {},
   "outputs": [
    {
     "data": {
      "text/html": [
       "<div>\n",
       "<style scoped>\n",
       "    .dataframe tbody tr th:only-of-type {\n",
       "        vertical-align: middle;\n",
       "    }\n",
       "\n",
       "    .dataframe tbody tr th {\n",
       "        vertical-align: top;\n",
       "    }\n",
       "\n",
       "    .dataframe thead tr th {\n",
       "        text-align: left;\n",
       "    }\n",
       "</style>\n",
       "<table border=\"1\" class=\"dataframe\">\n",
       "  <thead>\n",
       "    <tr>\n",
       "      <th></th>\n",
       "      <th colspan=\"5\" halign=\"left\">GS</th>\n",
       "    </tr>\n",
       "    <tr>\n",
       "      <th></th>\n",
       "      <th>open</th>\n",
       "      <th>high</th>\n",
       "      <th>low</th>\n",
       "      <th>close</th>\n",
       "      <th>volume</th>\n",
       "    </tr>\n",
       "  </thead>\n",
       "  <tbody>\n",
       "    <tr>\n",
       "      <th>2021-06-07 00:00:00-04:00</th>\n",
       "      <td>392.89</td>\n",
       "      <td>393.2603</td>\n",
       "      <td>387.550</td>\n",
       "      <td>388.09</td>\n",
       "      <td>1815955</td>\n",
       "    </tr>\n",
       "    <tr>\n",
       "      <th>2021-06-08 00:00:00-04:00</th>\n",
       "      <td>385.79</td>\n",
       "      <td>386.4799</td>\n",
       "      <td>382.220</td>\n",
       "      <td>384.80</td>\n",
       "      <td>1946972</td>\n",
       "    </tr>\n",
       "    <tr>\n",
       "      <th>2021-06-09 00:00:00-04:00</th>\n",
       "      <td>383.44</td>\n",
       "      <td>384.2700</td>\n",
       "      <td>378.880</td>\n",
       "      <td>382.78</td>\n",
       "      <td>1817307</td>\n",
       "    </tr>\n",
       "    <tr>\n",
       "      <th>2021-06-10 00:00:00-04:00</th>\n",
       "      <td>389.08</td>\n",
       "      <td>389.6400</td>\n",
       "      <td>372.345</td>\n",
       "      <td>373.75</td>\n",
       "      <td>3302197</td>\n",
       "    </tr>\n",
       "    <tr>\n",
       "      <th>2021-06-11 00:00:00-04:00</th>\n",
       "      <td>375.47</td>\n",
       "      <td>378.7500</td>\n",
       "      <td>375.110</td>\n",
       "      <td>378.23</td>\n",
       "      <td>1692723</td>\n",
       "    </tr>\n",
       "  </tbody>\n",
       "</table>\n",
       "</div>"
      ],
      "text/plain": [
       "                               GS                                    \n",
       "                             open      high      low   close   volume\n",
       "2021-06-07 00:00:00-04:00  392.89  393.2603  387.550  388.09  1815955\n",
       "2021-06-08 00:00:00-04:00  385.79  386.4799  382.220  384.80  1946972\n",
       "2021-06-09 00:00:00-04:00  383.44  384.2700  378.880  382.78  1817307\n",
       "2021-06-10 00:00:00-04:00  389.08  389.6400  372.345  373.75  3302197\n",
       "2021-06-11 00:00:00-04:00  375.47  378.7500  375.110  378.23  1692723"
      ]
     },
     "execution_count": 65,
     "metadata": {},
     "output_type": "execute_result"
    }
   ],
   "source": [
    "# Get last 30days' worth of historical data for GS \n",
    "#Wells Fargo Co. (WFC), Goldman Sachs Group Inc. (GS), and Morgan Stanley (MS).\n",
    "\n",
    "# Set the ticker\n",
    "ticker = \"GS\"\n",
    "\n",
    "# Set timeframe to '1D'\n",
    "timeframe = \"1D\"\n",
    "\n",
    "# Set current date and the date from one month ago using the ISO format\n",
    "current_date = pd.Timestamp(datetime.now(), tz=\"America/New_York\").isoformat()\n",
    "past_date = pd.Timestamp(datetime.now()- timedelta(30), tz=\"America/New_York\").isoformat()\n",
    "\n",
    "# Get 4 weeks worth of historical data for AAPL\n",
    "df = api.get_barset(\n",
    "    ticker,\n",
    "    timeframe,\n",
    "    limit=None,\n",
    "    start=past_date,\n",
    "    end=current_date,\n",
    "    after=None,\n",
    "    until=None,\n",
    ").df\n",
    "\n",
    "# Display data\n",
    "df.head()"
   ]
  },
  {
   "cell_type": "code",
   "execution_count": 95,
   "metadata": {},
   "outputs": [],
   "source": [
    "#Saving Raw data to Raw Data Folder\n",
    "df.to_csv('../../data/Rawdata/gs_stock_15min.csv')"
   ]
  },
  {
   "cell_type": "code",
   "execution_count": 67,
   "metadata": {},
   "outputs": [
    {
     "data": {
      "text/html": [
       "<div>\n",
       "<style scoped>\n",
       "    .dataframe tbody tr th:only-of-type {\n",
       "        vertical-align: middle;\n",
       "    }\n",
       "\n",
       "    .dataframe tbody tr th {\n",
       "        vertical-align: top;\n",
       "    }\n",
       "\n",
       "    .dataframe thead th {\n",
       "        text-align: right;\n",
       "    }\n",
       "</style>\n",
       "<table border=\"1\" class=\"dataframe\">\n",
       "  <thead>\n",
       "    <tr style=\"text-align: right;\">\n",
       "      <th></th>\n",
       "      <th>close</th>\n",
       "    </tr>\n",
       "  </thead>\n",
       "  <tbody>\n",
       "    <tr>\n",
       "      <th>2021-06-07</th>\n",
       "      <td>388.09</td>\n",
       "    </tr>\n",
       "    <tr>\n",
       "      <th>2021-06-08</th>\n",
       "      <td>384.80</td>\n",
       "    </tr>\n",
       "    <tr>\n",
       "      <th>2021-06-09</th>\n",
       "      <td>382.78</td>\n",
       "    </tr>\n",
       "    <tr>\n",
       "      <th>2021-06-10</th>\n",
       "      <td>373.75</td>\n",
       "    </tr>\n",
       "    <tr>\n",
       "      <th>2021-06-11</th>\n",
       "      <td>378.23</td>\n",
       "    </tr>\n",
       "  </tbody>\n",
       "</table>\n",
       "</div>"
      ],
      "text/plain": [
       "             close\n",
       "2021-06-07  388.09\n",
       "2021-06-08  384.80\n",
       "2021-06-09  382.78\n",
       "2021-06-10  373.75\n",
       "2021-06-11  378.23"
      ]
     },
     "execution_count": 67,
     "metadata": {},
     "output_type": "execute_result"
    }
   ],
   "source": [
    "# Drop Outer Table Level\n",
    "df = df.droplevel(axis=1, level=0)\n",
    "\n",
    "# Use the drop function to drop extra columns\n",
    "df = df.drop(columns=[\"open\", \"high\", \"low\", \"volume\"])\n",
    "\n",
    "# Since this is daily data, we can keep only the date (remove the time) component of the data\n",
    "df.index = df.index.date\n",
    "\n",
    "# Display sample data\n",
    "df.head()"
   ]
  },
  {
   "cell_type": "code",
   "execution_count": 68,
   "metadata": {},
   "outputs": [
    {
     "data": {
      "text/html": [
       "<div>\n",
       "<style scoped>\n",
       "    .dataframe tbody tr th:only-of-type {\n",
       "        vertical-align: middle;\n",
       "    }\n",
       "\n",
       "    .dataframe tbody tr th {\n",
       "        vertical-align: top;\n",
       "    }\n",
       "\n",
       "    .dataframe thead th {\n",
       "        text-align: right;\n",
       "    }\n",
       "</style>\n",
       "<table border=\"1\" class=\"dataframe\">\n",
       "  <thead>\n",
       "    <tr style=\"text-align: right;\">\n",
       "      <th></th>\n",
       "      <th>close</th>\n",
       "    </tr>\n",
       "  </thead>\n",
       "  <tbody>\n",
       "    <tr>\n",
       "      <th>2021-06-08</th>\n",
       "      <td>-0.008477</td>\n",
       "    </tr>\n",
       "    <tr>\n",
       "      <th>2021-06-09</th>\n",
       "      <td>-0.005249</td>\n",
       "    </tr>\n",
       "    <tr>\n",
       "      <th>2021-06-10</th>\n",
       "      <td>-0.023591</td>\n",
       "    </tr>\n",
       "    <tr>\n",
       "      <th>2021-06-11</th>\n",
       "      <td>0.011987</td>\n",
       "    </tr>\n",
       "    <tr>\n",
       "      <th>2021-06-14</th>\n",
       "      <td>-0.013642</td>\n",
       "    </tr>\n",
       "  </tbody>\n",
       "</table>\n",
       "</div>"
      ],
      "text/plain": [
       "               close\n",
       "2021-06-08 -0.008477\n",
       "2021-06-09 -0.005249\n",
       "2021-06-10 -0.023591\n",
       "2021-06-11  0.011987\n",
       "2021-06-14 -0.013642"
      ]
     },
     "execution_count": 68,
     "metadata": {},
     "output_type": "execute_result"
    }
   ],
   "source": [
    "df_returns = df.pct_change().dropna()\n",
    "df_returns.head()"
   ]
  },
  {
   "cell_type": "code",
   "execution_count": 69,
   "metadata": {},
   "outputs": [],
   "source": [
    "# Use newsapi client to get most relevant 20 headlines per day in the past month\n",
    "def get_headlines(keyword):\n",
    "    all_headlines = []\n",
    "    all_dates = []    \n",
    "    date = datetime.strptime(current_date[:10], \"%Y-%m-%d\")\n",
    "    end_date = datetime.strptime(past_date[:10], \"%Y-%m-%d\")\n",
    "    print(f\"Fetching news about '{keyword}'\")\n",
    "    print(\"*\" * 30)\n",
    "    while date > end_date:\n",
    "        print(f\"retrieving news from: {date}\")\n",
    "        articles = newsapi.get_everything(\n",
    "            q=keyword,\n",
    "            from_param=str(date)[:10],\n",
    "            to=str(date)[:10],\n",
    "            language=\"en\",\n",
    "            sort_by=\"relevancy\",\n",
    "            page=1,\n",
    "        )\n",
    "        headlines = []\n",
    "        for i in range(0, len(articles[\"articles\"])):\n",
    "            headlines.append(articles[\"articles\"][i][\"title\"])\n",
    "        all_headlines.append(headlines)\n",
    "        all_dates.append(date)\n",
    "        date = date - timedelta(days=1)\n",
    "    return all_headlines, all_dates"
   ]
  },
  {
   "cell_type": "code",
   "execution_count": null,
   "metadata": {},
   "outputs": [],
   "source": []
  },
  {
   "cell_type": "code",
   "execution_count": 70,
   "metadata": {},
   "outputs": [
    {
     "name": "stdout",
     "output_type": "stream",
     "text": [
      "Fetching news about 'Goldman Sachs Group Inc.'\n",
      "******************************\n",
      "retrieving news from: 2021-07-06 00:00:00\n",
      "retrieving news from: 2021-07-05 00:00:00\n",
      "retrieving news from: 2021-07-04 00:00:00\n",
      "retrieving news from: 2021-07-03 00:00:00\n",
      "retrieving news from: 2021-07-02 00:00:00\n",
      "retrieving news from: 2021-07-01 00:00:00\n",
      "retrieving news from: 2021-06-30 00:00:00\n",
      "retrieving news from: 2021-06-29 00:00:00\n",
      "retrieving news from: 2021-06-28 00:00:00\n",
      "retrieving news from: 2021-06-27 00:00:00\n",
      "retrieving news from: 2021-06-26 00:00:00\n",
      "retrieving news from: 2021-06-25 00:00:00\n",
      "retrieving news from: 2021-06-24 00:00:00\n",
      "retrieving news from: 2021-06-23 00:00:00\n",
      "retrieving news from: 2021-06-22 00:00:00\n",
      "retrieving news from: 2021-06-21 00:00:00\n",
      "retrieving news from: 2021-06-20 00:00:00\n",
      "retrieving news from: 2021-06-19 00:00:00\n",
      "retrieving news from: 2021-06-18 00:00:00\n",
      "retrieving news from: 2021-06-17 00:00:00\n",
      "retrieving news from: 2021-06-16 00:00:00\n",
      "retrieving news from: 2021-06-15 00:00:00\n",
      "retrieving news from: 2021-06-14 00:00:00\n",
      "retrieving news from: 2021-06-13 00:00:00\n",
      "retrieving news from: 2021-06-12 00:00:00\n",
      "retrieving news from: 2021-06-11 00:00:00\n",
      "retrieving news from: 2021-06-10 00:00:00\n",
      "retrieving news from: 2021-06-09 00:00:00\n",
      "retrieving news from: 2021-06-08 00:00:00\n",
      "retrieving news from: 2021-06-07 00:00:00\n"
     ]
    }
   ],
   "source": [
    "goldman_headlines, dates = get_headlines(\"Goldman Sachs Group Inc.\")"
   ]
  },
  {
   "cell_type": "code",
   "execution_count": 71,
   "metadata": {},
   "outputs": [
    {
     "ename": "SyntaxError",
     "evalue": "cannot assign to function call (<ipython-input-71-887b888b1f14>, line 1)",
     "output_type": "error",
     "traceback": [
      "\u001b[1;36m  File \u001b[1;32m\"<ipython-input-71-887b888b1f14>\"\u001b[1;36m, line \u001b[1;32m1\u001b[0m\n\u001b[1;33m    get_headlines(\"Goldman Sachs Group Inc.\") =  pd.DataFrame(goldman_headlines)\u001b[0m\n\u001b[1;37m    ^\u001b[0m\n\u001b[1;31mSyntaxError\u001b[0m\u001b[1;31m:\u001b[0m cannot assign to function call\n"
     ]
    }
   ],
   "source": [
    "get_headlines(\"Goldman Sachs Group Inc.\") =  pd.DataFrame(goldman_headlines)\n",
    "goldman_headlines.to_csv('../../data/Rawdata/goldman_headlines.csv')"
   ]
  },
  {
   "cell_type": "code",
   "execution_count": 38,
   "metadata": {},
   "outputs": [],
   "source": [
    "# Instantiate SentimentIntensityAnalyzer\n",
    "sid = SentimentIntensityAnalyzer()"
   ]
  },
  {
   "cell_type": "code",
   "execution_count": 39,
   "metadata": {},
   "outputs": [],
   "source": [
    "# Create function that computes average compound sentiment of headlines for each day\n",
    "def headline_sentiment_summarizer_avg(headlines):\n",
    "    sentiment = []\n",
    "    for day in headlines:\n",
    "        day_score = []\n",
    "        for h in day:\n",
    "            if h == None:\n",
    "                continue\n",
    "            else:\n",
    "                day_score.append(sid.polarity_scores(h)[\"compound\"])\n",
    "        sentiment.append(sum(day_score) / len(day_score))\n",
    "    return sentiment"
   ]
  },
  {
   "cell_type": "code",
   "execution_count": 40,
   "metadata": {},
   "outputs": [],
   "source": [
    "# Get averages of each topics sentiment\n",
    "goldman_avg = headline_sentiment_summarizer_avg(goldman_headlines)\n"
   ]
  },
  {
   "cell_type": "code",
   "execution_count": 41,
   "metadata": {},
   "outputs": [],
   "source": [
    "# Combine Sentiment Averages into DataFrame\n",
    "topic_sentiments = pd.DataFrame(\n",
    "    {\n",
    "        \"goldman_avg\": goldman_avg\n",
    "    }\n",
    ")"
   ]
  },
  {
   "cell_type": "code",
   "execution_count": 42,
   "metadata": {},
   "outputs": [],
   "source": [
    "# Set the index value of the sentiment averages DataFrame to be the series of dates.\n",
    "topic_sentiments.index = pd.to_datetime(dates)"
   ]
  },
  {
   "cell_type": "code",
   "execution_count": 43,
   "metadata": {},
   "outputs": [
    {
     "data": {
      "text/html": [
       "<div>\n",
       "<style scoped>\n",
       "    .dataframe tbody tr th:only-of-type {\n",
       "        vertical-align: middle;\n",
       "    }\n",
       "\n",
       "    .dataframe tbody tr th {\n",
       "        vertical-align: top;\n",
       "    }\n",
       "\n",
       "    .dataframe thead th {\n",
       "        text-align: right;\n",
       "    }\n",
       "</style>\n",
       "<table border=\"1\" class=\"dataframe\">\n",
       "  <thead>\n",
       "    <tr style=\"text-align: right;\">\n",
       "      <th></th>\n",
       "      <th>close</th>\n",
       "      <th>goldman_avg</th>\n",
       "    </tr>\n",
       "  </thead>\n",
       "  <tbody>\n",
       "    <tr>\n",
       "      <th>2021-06-08</th>\n",
       "      <td>-0.008477</td>\n",
       "      <td>0.130225</td>\n",
       "    </tr>\n",
       "    <tr>\n",
       "      <th>2021-06-09</th>\n",
       "      <td>-0.005249</td>\n",
       "      <td>0.036050</td>\n",
       "    </tr>\n",
       "    <tr>\n",
       "      <th>2021-06-10</th>\n",
       "      <td>-0.023591</td>\n",
       "      <td>0.135205</td>\n",
       "    </tr>\n",
       "    <tr>\n",
       "      <th>2021-06-11</th>\n",
       "      <td>0.011639</td>\n",
       "      <td>0.081830</td>\n",
       "    </tr>\n",
       "    <tr>\n",
       "      <th>2021-06-14</th>\n",
       "      <td>-0.013303</td>\n",
       "      <td>0.014035</td>\n",
       "    </tr>\n",
       "    <tr>\n",
       "      <th>2021-06-15</th>\n",
       "      <td>-0.003940</td>\n",
       "      <td>0.159560</td>\n",
       "    </tr>\n",
       "    <tr>\n",
       "      <th>2021-06-16</th>\n",
       "      <td>-0.001426</td>\n",
       "      <td>0.084235</td>\n",
       "    </tr>\n",
       "    <tr>\n",
       "      <th>2021-06-17</th>\n",
       "      <td>-0.025790</td>\n",
       "      <td>0.102160</td>\n",
       "    </tr>\n",
       "    <tr>\n",
       "      <th>2021-06-18</th>\n",
       "      <td>-0.035159</td>\n",
       "      <td>0.169720</td>\n",
       "    </tr>\n",
       "    <tr>\n",
       "      <th>2021-06-21</th>\n",
       "      <td>0.025488</td>\n",
       "      <td>0.342390</td>\n",
       "    </tr>\n",
       "    <tr>\n",
       "      <th>2021-06-22</th>\n",
       "      <td>-0.000419</td>\n",
       "      <td>0.103825</td>\n",
       "    </tr>\n",
       "    <tr>\n",
       "      <th>2021-06-23</th>\n",
       "      <td>0.010153</td>\n",
       "      <td>0.111520</td>\n",
       "    </tr>\n",
       "    <tr>\n",
       "      <th>2021-06-24</th>\n",
       "      <td>0.020960</td>\n",
       "      <td>0.148895</td>\n",
       "    </tr>\n",
       "    <tr>\n",
       "      <th>2021-06-25</th>\n",
       "      <td>-0.000163</td>\n",
       "      <td>-0.037115</td>\n",
       "    </tr>\n",
       "    <tr>\n",
       "      <th>2021-06-28</th>\n",
       "      <td>-0.000203</td>\n",
       "      <td>0.030190</td>\n",
       "    </tr>\n",
       "    <tr>\n",
       "      <th>2021-06-29</th>\n",
       "      <td>0.010920</td>\n",
       "      <td>0.019590</td>\n",
       "    </tr>\n",
       "    <tr>\n",
       "      <th>2021-06-30</th>\n",
       "      <td>0.018316</td>\n",
       "      <td>0.089135</td>\n",
       "    </tr>\n",
       "    <tr>\n",
       "      <th>2021-07-01</th>\n",
       "      <td>-0.011820</td>\n",
       "      <td>0.069995</td>\n",
       "    </tr>\n",
       "    <tr>\n",
       "      <th>2021-07-02</th>\n",
       "      <td>-0.002134</td>\n",
       "      <td>0.072380</td>\n",
       "    </tr>\n",
       "    <tr>\n",
       "      <th>2021-07-06</th>\n",
       "      <td>-0.015096</td>\n",
       "      <td>0.056170</td>\n",
       "    </tr>\n",
       "  </tbody>\n",
       "</table>\n",
       "</div>"
      ],
      "text/plain": [
       "               close  goldman_avg\n",
       "2021-06-08 -0.008477     0.130225\n",
       "2021-06-09 -0.005249     0.036050\n",
       "2021-06-10 -0.023591     0.135205\n",
       "2021-06-11  0.011639     0.081830\n",
       "2021-06-14 -0.013303     0.014035\n",
       "2021-06-15 -0.003940     0.159560\n",
       "2021-06-16 -0.001426     0.084235\n",
       "2021-06-17 -0.025790     0.102160\n",
       "2021-06-18 -0.035159     0.169720\n",
       "2021-06-21  0.025488     0.342390\n",
       "2021-06-22 -0.000419     0.103825\n",
       "2021-06-23  0.010153     0.111520\n",
       "2021-06-24  0.020960     0.148895\n",
       "2021-06-25 -0.000163    -0.037115\n",
       "2021-06-28 -0.000203     0.030190\n",
       "2021-06-29  0.010920     0.019590\n",
       "2021-06-30  0.018316     0.089135\n",
       "2021-07-01 -0.011820     0.069995\n",
       "2021-07-02 -0.002134     0.072380\n",
       "2021-07-06 -0.015096     0.056170"
      ]
     },
     "metadata": {},
     "output_type": "display_data"
    }
   ],
   "source": [
    "# Merge with goldman returns\n",
    "topic_sentiments = df_returns.join(topic_sentiments).dropna(how=\"any\")\n",
    "\n",
    "# Display data\n",
    "display(topic_sentiments)"
   ]
  },
  {
   "cell_type": "code",
   "execution_count": 44,
   "metadata": {},
   "outputs": [
    {
     "data": {
      "text/html": [
       "<style  type=\"text/css\" >\n",
       "    #T_5407898b_de7e_11eb_bf88_5c3a45366822row0_col0 {\n",
       "            background-color:  #023858;\n",
       "            color:  #f1f1f1;\n",
       "        }    #T_5407898b_de7e_11eb_bf88_5c3a45366822row0_col1 {\n",
       "            background-color:  #fff7fb;\n",
       "            color:  #000000;\n",
       "        }    #T_5407898b_de7e_11eb_bf88_5c3a45366822row1_col0 {\n",
       "            background-color:  #fff7fb;\n",
       "            color:  #000000;\n",
       "        }    #T_5407898b_de7e_11eb_bf88_5c3a45366822row1_col1 {\n",
       "            background-color:  #023858;\n",
       "            color:  #f1f1f1;\n",
       "        }</style><table id=\"T_5407898b_de7e_11eb_bf88_5c3a45366822\" ><thead>    <tr>        <th class=\"blank level0\" ></th>        <th class=\"col_heading level0 col0\" >close</th>        <th class=\"col_heading level0 col1\" >goldman_avg</th>    </tr></thead><tbody>\n",
       "                <tr>\n",
       "                        <th id=\"T_5407898b_de7e_11eb_bf88_5c3a45366822level0_row0\" class=\"row_heading level0 row0\" >close</th>\n",
       "                        <td id=\"T_5407898b_de7e_11eb_bf88_5c3a45366822row0_col0\" class=\"data row0 col0\" >1.000000</td>\n",
       "                        <td id=\"T_5407898b_de7e_11eb_bf88_5c3a45366822row0_col1\" class=\"data row0 col1\" >0.194798</td>\n",
       "            </tr>\n",
       "            <tr>\n",
       "                        <th id=\"T_5407898b_de7e_11eb_bf88_5c3a45366822level0_row1\" class=\"row_heading level0 row1\" >goldman_avg</th>\n",
       "                        <td id=\"T_5407898b_de7e_11eb_bf88_5c3a45366822row1_col0\" class=\"data row1 col0\" >0.194798</td>\n",
       "                        <td id=\"T_5407898b_de7e_11eb_bf88_5c3a45366822row1_col1\" class=\"data row1 col1\" >1.000000</td>\n",
       "            </tr>\n",
       "    </tbody></table>"
      ],
      "text/plain": [
       "<pandas.io.formats.style.Styler at 0x246555d45b0>"
      ]
     },
     "execution_count": 44,
     "metadata": {},
     "output_type": "execute_result"
    }
   ],
   "source": [
    "topic_sentiments.corr().style.background_gradient()"
   ]
  },
  {
   "cell_type": "markdown",
   "metadata": {},
   "source": [
    "# Build and Train the LSTM RNN"
   ]
  },
  {
   "cell_type": "code",
   "execution_count": 80,
   "metadata": {},
   "outputs": [],
   "source": [
    "# This function accepts the column number for the features (X) and the target (y)\n",
    "# It chunks the data up with a rolling window of Xt-n to predict Xt\n",
    "# It returns a numpy array of X any y\n",
    "def window_data(df, window, feature_col_number, target_col_number):\n",
    "    X = []\n",
    "    y = []\n",
    "    for i in range(len(df) - window - 1):\n",
    "        features = df.iloc[i:(i + window), feature_col_number]\n",
    "        target = df.iloc[(i + window), target_col_number]\n",
    "        X.append(features)\n",
    "        y.append(target)\n",
    "    return np.array(X), np.array(y).reshape(-1, 1)"
   ]
  },
  {
   "cell_type": "code",
   "execution_count": 81,
   "metadata": {},
   "outputs": [],
   "source": [
    "# Predict Closing Prices using a 10 day window of previous fng values\n",
    "# Then, experiment with window sizes anywhere from 1 to 10 and see how the model performance changes\n",
    "window_size = 10\n",
    "\n",
    "# Column index 1 is the 'Goldman Average' column\n",
    "# Column index 0 is the `Close` column\n",
    "feature_column = 1\n",
    "target_column = 0\n",
    "X, y = window_data(topic_sentiments, window_size, feature_column, target_column)"
   ]
  },
  {
   "cell_type": "code",
   "execution_count": 122,
   "metadata": {},
   "outputs": [],
   "source": [
    "# Use 70% of the data for training and the remaineder for testing\n",
    "split = int(0.4 * len(X))\n",
    "X_train = X[: split]\n",
    "X_test = X[split:]\n",
    "y_train = y[: split]\n",
    "y_test = y[split:]"
   ]
  },
  {
   "cell_type": "code",
   "execution_count": 123,
   "metadata": {},
   "outputs": [],
   "source": [
    "from sklearn.preprocessing import MinMaxScaler\n",
    "# Use the MinMaxScaler to scale data between 0 and 1.\n",
    "scaler = MinMaxScaler()\n",
    "scaler.fit(X)\n",
    "X_train = scaler.transform(X_train)\n",
    "X_test = scaler.transform(X_test)\n",
    "scaler.fit(y)\n",
    "y_train = scaler.transform(y_train)\n",
    "y_test = scaler.transform(y_test)"
   ]
  },
  {
   "cell_type": "code",
   "execution_count": 124,
   "metadata": {},
   "outputs": [],
   "source": [
    "# Reshape the features for the model\n",
    "X_train = X_train.reshape((X_train.shape[0], X_train.shape[1], 1))\n",
    "X_test = X_test.reshape((X_test.shape[0], X_test.shape[1], 1))"
   ]
  },
  {
   "cell_type": "code",
   "execution_count": 125,
   "metadata": {},
   "outputs": [],
   "source": [
    "from tensorflow.keras.models import Sequential\n",
    "from tensorflow.keras.layers import LSTM, Dense, Dropout"
   ]
  },
  {
   "cell_type": "code",
   "execution_count": 136,
   "metadata": {},
   "outputs": [],
   "source": [
    "#Build the LSTM model. \n",
    "model = Sequential()\n",
    "\n",
    "number_units = 30\n",
    "dropout_fraction = 0.2\n",
    "\n",
    "# Layer 1\n",
    "model.add(LSTM(\n",
    "    units=number_units,\n",
    "    return_sequences=True,\n",
    "    input_shape=(X_train.shape[1], 1))\n",
    "    )\n",
    "model.add(Dropout(dropout_fraction))\n",
    "# Layer 2\n",
    "model.add(LSTM(units=number_units, return_sequences=True))\n",
    "model.add(Dropout(dropout_fraction))\n",
    "# Layer 3\n",
    "model.add(LSTM(units=number_units))\n",
    "model.add(Dropout(dropout_fraction))\n",
    "# Output layer\n",
    "model.add(Dense(1))"
   ]
  },
  {
   "cell_type": "code",
   "execution_count": 127,
   "metadata": {},
   "outputs": [],
   "source": [
    "# Compile the model\n",
    "model.compile(optimizer=\"adam\", loss=\"mean_squared_error\")"
   ]
  },
  {
   "cell_type": "code",
   "execution_count": 128,
   "metadata": {},
   "outputs": [
    {
     "name": "stdout",
     "output_type": "stream",
     "text": [
      "Model: \"sequential_4\"\n",
      "_________________________________________________________________\n",
      "Layer (type)                 Output Shape              Param #   \n",
      "=================================================================\n",
      "lstm_12 (LSTM)               (None, 10, 30)            3840      \n",
      "_________________________________________________________________\n",
      "dropout_12 (Dropout)         (None, 10, 30)            0         \n",
      "_________________________________________________________________\n",
      "lstm_13 (LSTM)               (None, 10, 30)            7320      \n",
      "_________________________________________________________________\n",
      "dropout_13 (Dropout)         (None, 10, 30)            0         \n",
      "_________________________________________________________________\n",
      "lstm_14 (LSTM)               (None, 30)                7320      \n",
      "_________________________________________________________________\n",
      "dropout_14 (Dropout)         (None, 30)                0         \n",
      "_________________________________________________________________\n",
      "dense_4 (Dense)              (None, 1)                 31        \n",
      "=================================================================\n",
      "Total params: 18,511\n",
      "Trainable params: 18,511\n",
      "Non-trainable params: 0\n",
      "_________________________________________________________________\n"
     ]
    }
   ],
   "source": [
    "# Summarize the model\n",
    "model.summary()"
   ]
  },
  {
   "cell_type": "code",
   "execution_count": 129,
   "metadata": {},
   "outputs": [
    {
     "name": "stdout",
     "output_type": "stream",
     "text": [
      "Epoch 1/10\n",
      "3/3 [==============================] - 4s 11ms/step - loss: 0.4761\n",
      "Epoch 2/10\n",
      "3/3 [==============================] - 0s 5ms/step - loss: 0.4318\n",
      "Epoch 3/10\n",
      "3/3 [==============================] - 0s 5ms/step - loss: 0.3559\n",
      "Epoch 4/10\n",
      "3/3 [==============================] - 0s 6ms/step - loss: 0.2840\n",
      "Epoch 5/10\n",
      "3/3 [==============================] - 0s 6ms/step - loss: 0.1648\n",
      "Epoch 6/10\n",
      "3/3 [==============================] - 0s 7ms/step - loss: 0.1071\n",
      "Epoch 7/10\n",
      "3/3 [==============================] - 0s 6ms/step - loss: 0.0997\n",
      "Epoch 8/10\n",
      "3/3 [==============================] - 0s 7ms/step - loss: 0.0274\n",
      "Epoch 9/10\n",
      "3/3 [==============================] - 0s 7ms/step - loss: 0.0888\n",
      "Epoch 10/10\n",
      "3/3 [==============================] - 0s 6ms/step - loss: 0.1152\n"
     ]
    },
    {
     "data": {
      "text/plain": [
       "<tensorflow.python.keras.callbacks.History at 0x24608fcf370>"
      ]
     },
     "execution_count": 129,
     "metadata": {},
     "output_type": "execute_result"
    }
   ],
   "source": [
    "# Train the model\n",
    "# Use at least 10 epochs\n",
    "# Do not shuffle the data\n",
    "# Experiement with the batch size, but a smaller batch size is recommended\n",
    "# YOUR CODE HERE!\n",
    "model.fit(X_train, y_train, epochs=10, shuffle=False, batch_size=1, verbose=1)\n"
   ]
  },
  {
   "cell_type": "code",
   "execution_count": 130,
   "metadata": {},
   "outputs": [
    {
     "name": "stdout",
     "output_type": "stream",
     "text": [
      "WARNING:tensorflow:5 out of the last 5 calls to <function Model.make_test_function.<locals>.test_function at 0x000002460353D820> triggered tf.function retracing. Tracing is expensive and the excessive number of tracings could be due to (1) creating @tf.function repeatedly in a loop, (2) passing tensors with different shapes, (3) passing Python objects instead of tensors. For (1), please define your @tf.function outside of the loop. For (2), @tf.function has experimental_relax_shapes=True option that relaxes argument shapes that can avoid unnecessary retracing. For (3), please refer to https://www.tensorflow.org/guide/function#controlling_retracing and https://www.tensorflow.org/api_docs/python/tf/function for  more details.\n",
      "1/1 [==============================] - 1s 940ms/step - loss: 0.3620\n"
     ]
    },
    {
     "data": {
      "text/plain": [
       "0.3620249330997467"
      ]
     },
     "execution_count": 130,
     "metadata": {},
     "output_type": "execute_result"
    }
   ],
   "source": [
    "# Evaluate the model\n",
    "model.evaluate(X_test, y_test)"
   ]
  },
  {
   "cell_type": "code",
   "execution_count": 131,
   "metadata": {},
   "outputs": [
    {
     "name": "stdout",
     "output_type": "stream",
     "text": [
      "WARNING:tensorflow:5 out of the last 5 calls to <function Model.make_predict_function.<locals>.predict_function at 0x00000246833349D0> triggered tf.function retracing. Tracing is expensive and the excessive number of tracings could be due to (1) creating @tf.function repeatedly in a loop, (2) passing tensors with different shapes, (3) passing Python objects instead of tensors. For (1), please define your @tf.function outside of the loop. For (2), @tf.function has experimental_relax_shapes=True option that relaxes argument shapes that can avoid unnecessary retracing. For (3), please refer to https://www.tensorflow.org/guide/function#controlling_retracing and https://www.tensorflow.org/api_docs/python/tf/function for  more details.\n"
     ]
    }
   ],
   "source": [
    "predicted = model.predict(X_test)"
   ]
  },
  {
   "cell_type": "code",
   "execution_count": 132,
   "metadata": {},
   "outputs": [],
   "source": [
    "# Recover the original prices instead of the scaled version\n",
    "predicted_prices = scaler.inverse_transform(predicted)\n",
    "real_prices = scaler.inverse_transform(y_test.reshape(-1, 1))"
   ]
  },
  {
   "cell_type": "code",
   "execution_count": 133,
   "metadata": {},
   "outputs": [
    {
     "data": {
      "text/html": [
       "<div>\n",
       "<style scoped>\n",
       "    .dataframe tbody tr th:only-of-type {\n",
       "        vertical-align: middle;\n",
       "    }\n",
       "\n",
       "    .dataframe tbody tr th {\n",
       "        vertical-align: top;\n",
       "    }\n",
       "\n",
       "    .dataframe thead th {\n",
       "        text-align: right;\n",
       "    }\n",
       "</style>\n",
       "<table border=\"1\" class=\"dataframe\">\n",
       "  <thead>\n",
       "    <tr style=\"text-align: right;\">\n",
       "      <th></th>\n",
       "      <th>Real</th>\n",
       "      <th>Predicted</th>\n",
       "    </tr>\n",
       "  </thead>\n",
       "  <tbody>\n",
       "    <tr>\n",
       "      <th>2021-06-28</th>\n",
       "      <td>-0.000163</td>\n",
       "      <td>0.016968</td>\n",
       "    </tr>\n",
       "    <tr>\n",
       "      <th>2021-06-29</th>\n",
       "      <td>-0.000203</td>\n",
       "      <td>0.016649</td>\n",
       "    </tr>\n",
       "    <tr>\n",
       "      <th>2021-06-30</th>\n",
       "      <td>0.010920</td>\n",
       "      <td>0.022145</td>\n",
       "    </tr>\n",
       "    <tr>\n",
       "      <th>2021-07-01</th>\n",
       "      <td>0.018316</td>\n",
       "      <td>0.019811</td>\n",
       "    </tr>\n",
       "    <tr>\n",
       "      <th>2021-07-02</th>\n",
       "      <td>-0.011820</td>\n",
       "      <td>0.020591</td>\n",
       "    </tr>\n",
       "  </tbody>\n",
       "</table>\n",
       "</div>"
      ],
      "text/plain": [
       "                Real  Predicted\n",
       "2021-06-28 -0.000163   0.016968\n",
       "2021-06-29 -0.000203   0.016649\n",
       "2021-06-30  0.010920   0.022145\n",
       "2021-07-01  0.018316   0.019811\n",
       "2021-07-02 -0.011820   0.020591"
      ]
     },
     "execution_count": 133,
     "metadata": {},
     "output_type": "execute_result"
    }
   ],
   "source": [
    "# Create a DataFrame of Real and Predicted values\n",
    "stocks = pd.DataFrame({\n",
    "    \"Real\": real_prices.ravel(),\n",
    "    \"Predicted\": predicted_prices.ravel()\n",
    "}, index = df.index[-len(real_prices): ]) \n",
    "stocks.head()"
   ]
  },
  {
   "cell_type": "code",
   "execution_count": 134,
   "metadata": {},
   "outputs": [
    {
     "data": {
      "text/plain": [
       "<matplotlib.axes._subplots.AxesSubplot at 0x2468619f670>"
      ]
     },
     "execution_count": 134,
     "metadata": {},
     "output_type": "execute_result"
    },
    {
     "data": {
      "image/png": "[encoded data removed]",
      "text/plain": [
       "<Figure size 432x288 with 1 Axes>"
      ]
     },
     "metadata": {
      "needs_background": "light"
     },
     "output_type": "display_data"
    }
   ],
   "source": [
    "# Plot the real vs predicted values as a line chart\n",
    "# YOUR CODE HERE!\n",
    "stocks.plot()"
   ]
  },
  {
   "cell_type": "code",
   "execution_count": null,
   "metadata": {},
   "outputs": [],
   "source": []
  }
 ],
 "metadata": {
  "kernelspec": {
   "display_name": "Python [conda env:root] *",
   "language": "python",
   "name": "conda-root-py"
  },
  "language_info": {
   "codemirror_mode": {
    "name": "ipython",
    "version": 3
   },
   "file_extension": ".py",
   "mimetype": "text/x-python",
   "name": "python",
   "nbconvert_exporter": "python",
   "pygments_lexer": "ipython3",
   "version": "3.8.5"
  }
 },
 "nbformat": 4,
 "nbformat_minor": 4
}
