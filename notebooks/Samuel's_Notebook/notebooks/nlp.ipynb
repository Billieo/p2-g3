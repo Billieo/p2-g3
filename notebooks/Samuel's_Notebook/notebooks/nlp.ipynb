{
 "cells": [
  {
   "cell_type": "code",
   "execution_count": 22,
   "metadata": {},
   "outputs": [
    {
     "output_type": "stream",
     "name": "stderr",
     "text": [
      "[nltk_data] Downloading package vader_lexicon to\n[nltk_data]     /Users/samuelarciniega/nltk_data...\n[nltk_data]   Package vader_lexicon is already up-to-date!\n"
     ]
    }
   ],
   "source": [
    "# Initial imports\n",
    "import os\n",
    "import pandas as pd\n",
    "from datetime import datetime, timedelta\n",
    "from pathlib import Path\n",
    "from newsapi import NewsApiClient\n",
    "from dotenv import load_dotenv\n",
    "from nltk.corpus import stopwords, reuters\n",
    "load_dotenv()\n",
    "import nltk as nltk\n",
    "nltk.download('vader_lexicon')\n",
    "from nltk.sentiment.vader import SentimentIntensityAnalyzer\n",
    "analyzer = SentimentIntensityAnalyzer()\n",
    "\n",
    "%matplotlib inline"
   ]
  },
  {
   "cell_type": "code",
   "execution_count": 23,
   "metadata": {},
   "outputs": [
    {
     "output_type": "stream",
     "name": "stdout",
     "text": [
      "6dde5b0486654982bdc6ebe38ab427a4\n"
     ]
    }
   ],
   "source": [
    "api_key = os.getenv(\"NEWS_API_KEY\")\n",
    "print(api_key)"
   ]
  },
  {
   "cell_type": "code",
   "execution_count": 24,
   "metadata": {},
   "outputs": [],
   "source": [
    "newsapi = NewsApiClient(api_key=api_key)"
   ]
  },
  {
   "cell_type": "code",
   "execution_count": 25,
   "metadata": {},
   "outputs": [
    {
     "output_type": "stream",
     "name": "stdout",
     "text": [
      "Total articles about Tech & Regulation: 860\n"
     ]
    },
    {
     "output_type": "execute_result",
     "data": {
      "text/plain": [
       "{'source': {'id': 'techcrunch', 'name': 'TechCrunch'},\n",
       " 'author': 'Natasha Lomas',\n",
       " 'title': 'CJEU ruling could open big tech to more privacy litigation in Europe',\n",
       " 'description': 'A long running privacy fight between Belgium’s data protection authority and Facebook — over the latter’s use of online trackers like pixels and social plug-ins to snoop on web users — has culminated in a ruling by Europe’s top court today that could have wid…',\n",
       " 'url': 'http://techcrunch.com/2021/06/15/cjeu-ruling-could-open-big-tech-to-more-privacy-litigation-in-europe/',\n",
       " 'urlToImage': 'https://techcrunch.com/wp-content/uploads/2015/11/data-privacy-law.png?w=711',\n",
       " 'publishedAt': '2021-06-15T12:57:31Z',\n",
       " 'content': 'A long running privacy fight between Belgium’s data protection authority and Facebook — over the latter’s use of online trackers like pixels and social plug-ins to snoop on web users — has culminated… [+6936 chars]'}"
      ]
     },
     "metadata": {},
     "execution_count": 25
    }
   ],
   "source": [
    "tech_news = newsapi.get_everything(q = \"big tech regulation\", language=\"en\", page_size=100, sort_by=\"relevancy\")\n",
    "print(f\"Total articles about Tech & Regulation: {tech_news['totalResults']}\")\n",
    "tech_news[\"articles\"][0]"
   ]
  },
  {
   "cell_type": "code",
   "execution_count": 33,
   "metadata": {},
   "outputs": [
    {
     "output_type": "execute_result",
     "data": {
      "text/plain": [
       "          Date                                               Text  Compound  \\\n",
       "0   2021-06-15  A long running privacy fight between Belgium’s...    0.0516   \n",
       "1   2021-06-14  Decision comes after company investigated by t...    0.1531   \n",
       "2   2021-06-17  Democratic Senator Kirsten Gillibrand has revi...    0.0000   \n",
       "3   2021-06-25  To get a roundup of TechCrunchs biggest and mo...    0.6240   \n",
       "4   2021-06-18  The UK’s chief data protection regulator has w...   -0.5859   \n",
       "5   2021-06-28  The UK’s digital businesses can breathe a sign...    0.4767   \n",
       "6   2021-06-21  Lina Khan has been one of Big Tech's biggest c...   -0.2960   \n",
       "7   2021-05-31  The Station is a weekly newsletter dedicated t...    0.7184   \n",
       "8   2021-06-15  By Reuters Staff\\r\\nFILE PHOTO: A 3D printed G...    0.0000   \n",
       "9   2021-06-15  If the purpose is to investigate if Google or ...   -0.2732   \n",
       "10  2021-06-15  The UK’s competition watchdog will take a deep...    0.5574   \n",
       "11  2021-06-08  Robotaxis may still be a few years out, but th...    0.0000   \n",
       "12  2021-06-15  At 32, Khan will become the youngest commissio...    0.4588   \n",
       "13  2021-06-22  EU antitrust authorities are finally taking a ...    0.0000   \n",
       "14  2021-06-17  Francis Scialabba.\\r\\nFrancis Scialabba\\r\\nGlo...   -0.0176   \n",
       "15  2021-06-15  The latest big tech antitrust hearing is being...    0.2960   \n",
       "16  2021-06-04  In its latest ambitious digital policy announc...    0.7717   \n",
       "17  2021-06-01  Monster Train isn't alone. We are living throu...    0.5904   \n",
       "18  2021-06-14  Republican Senators Mike Lee and Chuck Grassle...    0.5267   \n",
       "19  2021-06-25  Source: Fairphone\\r\\nReading about the topic o...    0.4215   \n",
       "\n",
       "    Positive  Negative  Neutral  \n",
       "0      0.107     0.073    0.819  \n",
       "1      0.088     0.000    0.912  \n",
       "2      0.000     0.000    1.000  \n",
       "3      0.130     0.000    0.870  \n",
       "4      0.000     0.130    0.870  \n",
       "5      0.086     0.000    0.914  \n",
       "6      0.000     0.059    0.941  \n",
       "7      0.154     0.000    0.846  \n",
       "8      0.000     0.000    1.000  \n",
       "9      0.106     0.130    0.764  \n",
       "10     0.133     0.000    0.867  \n",
       "11     0.000     0.000    1.000  \n",
       "12     0.143     0.060    0.797  \n",
       "13     0.000     0.000    1.000  \n",
       "14     0.076     0.078    0.846  \n",
       "15     0.088     0.000    0.912  \n",
       "16     0.216     0.000    0.784  \n",
       "17     0.128     0.000    0.872  \n",
       "18     0.102     0.000    0.898  \n",
       "19     0.101     0.000    0.899  "
      ],
      "text/html": "<div>\n<style scoped>\n    .dataframe tbody tr th:only-of-type {\n        vertical-align: middle;\n    }\n\n    .dataframe tbody tr th {\n        vertical-align: top;\n    }\n\n    .dataframe thead th {\n        text-align: right;\n    }\n</style>\n<table border=\"1\" class=\"dataframe\">\n  <thead>\n    <tr style=\"text-align: right;\">\n      <th></th>\n      <th>Date</th>\n      <th>Text</th>\n      <th>Compound</th>\n      <th>Positive</th>\n      <th>Negative</th>\n      <th>Neutral</th>\n    </tr>\n  </thead>\n  <tbody>\n    <tr>\n      <th>0</th>\n      <td>2021-06-15</td>\n      <td>A long running privacy fight between Belgium’s...</td>\n      <td>0.0516</td>\n      <td>0.107</td>\n      <td>0.073</td>\n      <td>0.819</td>\n    </tr>\n    <tr>\n      <th>1</th>\n      <td>2021-06-14</td>\n      <td>Decision comes after company investigated by t...</td>\n      <td>0.1531</td>\n      <td>0.088</td>\n      <td>0.000</td>\n      <td>0.912</td>\n    </tr>\n    <tr>\n      <th>2</th>\n      <td>2021-06-17</td>\n      <td>Democratic Senator Kirsten Gillibrand has revi...</td>\n      <td>0.0000</td>\n      <td>0.000</td>\n      <td>0.000</td>\n      <td>1.000</td>\n    </tr>\n    <tr>\n      <th>3</th>\n      <td>2021-06-25</td>\n      <td>To get a roundup of TechCrunchs biggest and mo...</td>\n      <td>0.6240</td>\n      <td>0.130</td>\n      <td>0.000</td>\n      <td>0.870</td>\n    </tr>\n    <tr>\n      <th>4</th>\n      <td>2021-06-18</td>\n      <td>The UK’s chief data protection regulator has w...</td>\n      <td>-0.5859</td>\n      <td>0.000</td>\n      <td>0.130</td>\n      <td>0.870</td>\n    </tr>\n    <tr>\n      <th>5</th>\n      <td>2021-06-28</td>\n      <td>The UK’s digital businesses can breathe a sign...</td>\n      <td>0.4767</td>\n      <td>0.086</td>\n      <td>0.000</td>\n      <td>0.914</td>\n    </tr>\n    <tr>\n      <th>6</th>\n      <td>2021-06-21</td>\n      <td>Lina Khan has been one of Big Tech's biggest c...</td>\n      <td>-0.2960</td>\n      <td>0.000</td>\n      <td>0.059</td>\n      <td>0.941</td>\n    </tr>\n    <tr>\n      <th>7</th>\n      <td>2021-05-31</td>\n      <td>The Station is a weekly newsletter dedicated t...</td>\n      <td>0.7184</td>\n      <td>0.154</td>\n      <td>0.000</td>\n      <td>0.846</td>\n    </tr>\n    <tr>\n      <th>8</th>\n      <td>2021-06-15</td>\n      <td>By Reuters Staff\\r\\nFILE PHOTO: A 3D printed G...</td>\n      <td>0.0000</td>\n      <td>0.000</td>\n      <td>0.000</td>\n      <td>1.000</td>\n    </tr>\n    <tr>\n      <th>9</th>\n      <td>2021-06-15</td>\n      <td>If the purpose is to investigate if Google or ...</td>\n      <td>-0.2732</td>\n      <td>0.106</td>\n      <td>0.130</td>\n      <td>0.764</td>\n    </tr>\n    <tr>\n      <th>10</th>\n      <td>2021-06-15</td>\n      <td>The UK’s competition watchdog will take a deep...</td>\n      <td>0.5574</td>\n      <td>0.133</td>\n      <td>0.000</td>\n      <td>0.867</td>\n    </tr>\n    <tr>\n      <th>11</th>\n      <td>2021-06-08</td>\n      <td>Robotaxis may still be a few years out, but th...</td>\n      <td>0.0000</td>\n      <td>0.000</td>\n      <td>0.000</td>\n      <td>1.000</td>\n    </tr>\n    <tr>\n      <th>12</th>\n      <td>2021-06-15</td>\n      <td>At 32, Khan will become the youngest commissio...</td>\n      <td>0.4588</td>\n      <td>0.143</td>\n      <td>0.060</td>\n      <td>0.797</td>\n    </tr>\n    <tr>\n      <th>13</th>\n      <td>2021-06-22</td>\n      <td>EU antitrust authorities are finally taking a ...</td>\n      <td>0.0000</td>\n      <td>0.000</td>\n      <td>0.000</td>\n      <td>1.000</td>\n    </tr>\n    <tr>\n      <th>14</th>\n      <td>2021-06-17</td>\n      <td>Francis Scialabba.\\r\\nFrancis Scialabba\\r\\nGlo...</td>\n      <td>-0.0176</td>\n      <td>0.076</td>\n      <td>0.078</td>\n      <td>0.846</td>\n    </tr>\n    <tr>\n      <th>15</th>\n      <td>2021-06-15</td>\n      <td>The latest big tech antitrust hearing is being...</td>\n      <td>0.2960</td>\n      <td>0.088</td>\n      <td>0.000</td>\n      <td>0.912</td>\n    </tr>\n    <tr>\n      <th>16</th>\n      <td>2021-06-04</td>\n      <td>In its latest ambitious digital policy announc...</td>\n      <td>0.7717</td>\n      <td>0.216</td>\n      <td>0.000</td>\n      <td>0.784</td>\n    </tr>\n    <tr>\n      <th>17</th>\n      <td>2021-06-01</td>\n      <td>Monster Train isn't alone. We are living throu...</td>\n      <td>0.5904</td>\n      <td>0.128</td>\n      <td>0.000</td>\n      <td>0.872</td>\n    </tr>\n    <tr>\n      <th>18</th>\n      <td>2021-06-14</td>\n      <td>Republican Senators Mike Lee and Chuck Grassle...</td>\n      <td>0.5267</td>\n      <td>0.102</td>\n      <td>0.000</td>\n      <td>0.898</td>\n    </tr>\n    <tr>\n      <th>19</th>\n      <td>2021-06-25</td>\n      <td>Source: Fairphone\\r\\nReading about the topic o...</td>\n      <td>0.4215</td>\n      <td>0.101</td>\n      <td>0.000</td>\n      <td>0.899</td>\n    </tr>\n  </tbody>\n</table>\n</div>"
     },
     "metadata": {},
     "execution_count": 33
    }
   ],
   "source": [
    "sentiments = []\n",
    "for article in tech_news[\"articles\"]:\n",
    "    try:\n",
    "        text = article[\"content\"]\n",
    "        date = article[\"publishedAt\"][:10]\n",
    "        sentiment = analyzer.polarity_scores(text)\n",
    "        compound = sentiment[\"compound\"]\n",
    "        pos = sentiment[\"pos\"]\n",
    "        neu = sentiment[\"neu\"]\n",
    "        neg = sentiment[\"neg\"]\n",
    "\n",
    "        sentiments.append({\n",
    "            \"Text\": text,\n",
    "            \"Date\": date,\n",
    "            \"Compound\":compound,\n",
    "            \"Positive\": pos,\n",
    "            \"Negative\": neg,\n",
    "            \"Neutral\": neu\n",
    "        })\n",
    "    except AttributeError:\n",
    "        pass\n",
    "tech_df = pd.DataFrame(sentiments)\n",
    "\n",
    "columns = [\"Date\", \"Text\", \"Compound\", \"Positive\", \"Negative\", \"Neutral\"]\n",
    "tech_df = tech_df[columns]\n",
    "\n",
    "tech_df.head(20)"
   ]
  },
  {
   "cell_type": "code",
   "execution_count": 27,
   "metadata": {},
   "outputs": [
    {
     "output_type": "execute_result",
     "data": {
      "text/plain": [
       "         Compound    Positive    Negative     Neutral\n",
       "count  100.000000  100.000000  100.000000  100.000000\n",
       "mean     0.116337    0.071880    0.038100    0.880020\n",
       "std      0.417127    0.071691    0.059306    0.121786\n",
       "min     -0.863400    0.000000    0.000000    0.000000\n",
       "25%     -0.102700    0.000000    0.000000    0.832000\n",
       "50%      0.051600    0.062000    0.000000    0.898500\n",
       "75%      0.430825    0.106250    0.070750    0.945250\n",
       "max      0.915300    0.330000    0.285000    1.000000"
      ],
      "text/html": "<div>\n<style scoped>\n    .dataframe tbody tr th:only-of-type {\n        vertical-align: middle;\n    }\n\n    .dataframe tbody tr th {\n        vertical-align: top;\n    }\n\n    .dataframe thead th {\n        text-align: right;\n    }\n</style>\n<table border=\"1\" class=\"dataframe\">\n  <thead>\n    <tr style=\"text-align: right;\">\n      <th></th>\n      <th>Compound</th>\n      <th>Positive</th>\n      <th>Negative</th>\n      <th>Neutral</th>\n    </tr>\n  </thead>\n  <tbody>\n    <tr>\n      <th>count</th>\n      <td>100.000000</td>\n      <td>100.000000</td>\n      <td>100.000000</td>\n      <td>100.000000</td>\n    </tr>\n    <tr>\n      <th>mean</th>\n      <td>0.116337</td>\n      <td>0.071880</td>\n      <td>0.038100</td>\n      <td>0.880020</td>\n    </tr>\n    <tr>\n      <th>std</th>\n      <td>0.417127</td>\n      <td>0.071691</td>\n      <td>0.059306</td>\n      <td>0.121786</td>\n    </tr>\n    <tr>\n      <th>min</th>\n      <td>-0.863400</td>\n      <td>0.000000</td>\n      <td>0.000000</td>\n      <td>0.000000</td>\n    </tr>\n    <tr>\n      <th>25%</th>\n      <td>-0.102700</td>\n      <td>0.000000</td>\n      <td>0.000000</td>\n      <td>0.832000</td>\n    </tr>\n    <tr>\n      <th>50%</th>\n      <td>0.051600</td>\n      <td>0.062000</td>\n      <td>0.000000</td>\n      <td>0.898500</td>\n    </tr>\n    <tr>\n      <th>75%</th>\n      <td>0.430825</td>\n      <td>0.106250</td>\n      <td>0.070750</td>\n      <td>0.945250</td>\n    </tr>\n    <tr>\n      <th>max</th>\n      <td>0.915300</td>\n      <td>0.330000</td>\n      <td>0.285000</td>\n      <td>1.000000</td>\n    </tr>\n  </tbody>\n</table>\n</div>"
     },
     "metadata": {},
     "execution_count": 27
    }
   ],
   "source": [
    "tech_df.describe()"
   ]
  },
  {
   "cell_type": "code",
   "execution_count": 28,
   "metadata": {},
   "outputs": [],
   "source": [
    "from nltk.tokenize import word_tokenize, sent_tokenize\n",
    "from nltk.corpus import stopwords\n",
    "from nltk.stem import WordNetLemmatizer, PorterStemmer\n",
    "from string import punctuation\n",
    "import re"
   ]
  },
  {
   "cell_type": "code",
   "execution_count": 29,
   "metadata": {},
   "outputs": [],
   "source": [
    "lemmatizer = WordNetLemmatizer()\n",
    "sw = set(stopwords.words('english'))"
   ]
  },
  {
   "cell_type": "code",
   "execution_count": 31,
   "metadata": {},
   "outputs": [
    {
     "output_type": "execute_result",
     "data": {
      "text/plain": [
       "['long',\n",
       " 'running',\n",
       " 'privacy',\n",
       " 'fight',\n",
       " 'belgium',\n",
       " 'data',\n",
       " 'protection',\n",
       " 'authority',\n",
       " 'facebook',\n",
       " 'latter',\n",
       " 'use',\n",
       " 'online',\n",
       " 'tracker',\n",
       " 'like',\n",
       " 'pixel',\n",
       " 'social',\n",
       " 'plug',\n",
       " 'snoop',\n",
       " 'web',\n",
       " 'user',\n",
       " 'ha',\n",
       " 'culminated',\n",
       " 'char']"
      ]
     },
     "metadata": {},
     "execution_count": 31
    }
   ],
   "source": [
    "def tokenizer(text):\n",
    "    regex = re.compile(\"[^a-zA-Z]\")\n",
    "    re_clean = regex.sub(' ', text)\n",
    "    words = word_tokenize(re_clean.lower())\n",
    "    lem = [lemmatizer.lemmatize(word) for word in words]\n",
    "    tokens = [word.lower() for word in lem if word.lower() not in sw]\n",
    "    return tokens\n",
    "tokenizer(tech_df.iloc[0][\"Text\"])"
   ]
  },
  {
   "cell_type": "code",
   "execution_count": 34,
   "metadata": {},
   "outputs": [
    {
     "output_type": "execute_result",
     "data": {
      "text/plain": [
       "          Date                                               Text  Compound  \\\n",
       "0   2021-06-15  A long running privacy fight between Belgium’s...    0.0516   \n",
       "1   2021-06-14  Decision comes after company investigated by t...    0.1531   \n",
       "2   2021-06-17  Democratic Senator Kirsten Gillibrand has revi...    0.0000   \n",
       "3   2021-06-25  To get a roundup of TechCrunchs biggest and mo...    0.6240   \n",
       "4   2021-06-18  The UK’s chief data protection regulator has w...   -0.5859   \n",
       "5   2021-06-28  The UK’s digital businesses can breathe a sign...    0.4767   \n",
       "6   2021-06-21  Lina Khan has been one of Big Tech's biggest c...   -0.2960   \n",
       "7   2021-05-31  The Station is a weekly newsletter dedicated t...    0.7184   \n",
       "8   2021-06-15  By Reuters Staff\\r\\nFILE PHOTO: A 3D printed G...    0.0000   \n",
       "9   2021-06-15  If the purpose is to investigate if Google or ...   -0.2732   \n",
       "10  2021-06-15  The UK’s competition watchdog will take a deep...    0.5574   \n",
       "11  2021-06-08  Robotaxis may still be a few years out, but th...    0.0000   \n",
       "12  2021-06-15  At 32, Khan will become the youngest commissio...    0.4588   \n",
       "13  2021-06-22  EU antitrust authorities are finally taking a ...    0.0000   \n",
       "14  2021-06-17  Francis Scialabba.\\r\\nFrancis Scialabba\\r\\nGlo...   -0.0176   \n",
       "15  2021-06-15  The latest big tech antitrust hearing is being...    0.2960   \n",
       "16  2021-06-04  In its latest ambitious digital policy announc...    0.7717   \n",
       "17  2021-06-01  Monster Train isn't alone. We are living throu...    0.5904   \n",
       "18  2021-06-14  Republican Senators Mike Lee and Chuck Grassle...    0.5267   \n",
       "19  2021-06-25  Source: Fairphone\\r\\nReading about the topic o...    0.4215   \n",
       "\n",
       "    Positive  Negative  Neutral  \\\n",
       "0      0.107     0.073    0.819   \n",
       "1      0.088     0.000    0.912   \n",
       "2      0.000     0.000    1.000   \n",
       "3      0.130     0.000    0.870   \n",
       "4      0.000     0.130    0.870   \n",
       "5      0.086     0.000    0.914   \n",
       "6      0.000     0.059    0.941   \n",
       "7      0.154     0.000    0.846   \n",
       "8      0.000     0.000    1.000   \n",
       "9      0.106     0.130    0.764   \n",
       "10     0.133     0.000    0.867   \n",
       "11     0.000     0.000    1.000   \n",
       "12     0.143     0.060    0.797   \n",
       "13     0.000     0.000    1.000   \n",
       "14     0.076     0.078    0.846   \n",
       "15     0.088     0.000    0.912   \n",
       "16     0.216     0.000    0.784   \n",
       "17     0.128     0.000    0.872   \n",
       "18     0.102     0.000    0.898   \n",
       "19     0.101     0.000    0.899   \n",
       "\n",
       "                                               tokens  \n",
       "0   [long, running, privacy, fight, belgium, data,...  \n",
       "1   [decision, come, company, investigated, uk, co...  \n",
       "2   [democratic, senator, kirsten, gillibrand, ha,...  \n",
       "3   [get, roundup, techcrunchs, biggest, important...  \n",
       "4   [uk, chief, data, protection, regulator, ha, w...  \n",
       "5   [uk, digital, business, breathe, sign, relief,...  \n",
       "6   [lina, khan, ha, one, big, tech, biggest, crit...  \n",
       "7   [station, weekly, newsletter, dedicated, thing...  \n",
       "8   [reuters, staff, file, photo, printed, google,...  \n",
       "9   [purpose, investigate, google, apple, anything...  \n",
       "10  [uk, competition, watchdog, take, deep, dive, ...  \n",
       "11  [robotaxis, may, still, year, industry, transf...  \n",
       "12  [khan, become, youngest, commissioner, ever, c...  \n",
       "13  [eu, antitrust, authority, finally, taking, br...  \n",
       "14  [francis, scialabba, francis, scialabba, globa...  \n",
       "15  [latest, big, tech, antitrust, hearing, held, ...  \n",
       "16  [latest, ambitious, digital, policy, announcem...  \n",
       "17  [monster, train, alone, living, renaissance, v...  \n",
       "18  [republican, senator, mike, lee, chuck, grassl...  \n",
       "19  [source, fairphone, reading, topic, sustainabi...  "
      ],
      "text/html": "<div>\n<style scoped>\n    .dataframe tbody tr th:only-of-type {\n        vertical-align: middle;\n    }\n\n    .dataframe tbody tr th {\n        vertical-align: top;\n    }\n\n    .dataframe thead th {\n        text-align: right;\n    }\n</style>\n<table border=\"1\" class=\"dataframe\">\n  <thead>\n    <tr style=\"text-align: right;\">\n      <th></th>\n      <th>Date</th>\n      <th>Text</th>\n      <th>Compound</th>\n      <th>Positive</th>\n      <th>Negative</th>\n      <th>Neutral</th>\n      <th>tokens</th>\n    </tr>\n  </thead>\n  <tbody>\n    <tr>\n      <th>0</th>\n      <td>2021-06-15</td>\n      <td>A long running privacy fight between Belgium’s...</td>\n      <td>0.0516</td>\n      <td>0.107</td>\n      <td>0.073</td>\n      <td>0.819</td>\n      <td>[long, running, privacy, fight, belgium, data,...</td>\n    </tr>\n    <tr>\n      <th>1</th>\n      <td>2021-06-14</td>\n      <td>Decision comes after company investigated by t...</td>\n      <td>0.1531</td>\n      <td>0.088</td>\n      <td>0.000</td>\n      <td>0.912</td>\n      <td>[decision, come, company, investigated, uk, co...</td>\n    </tr>\n    <tr>\n      <th>2</th>\n      <td>2021-06-17</td>\n      <td>Democratic Senator Kirsten Gillibrand has revi...</td>\n      <td>0.0000</td>\n      <td>0.000</td>\n      <td>0.000</td>\n      <td>1.000</td>\n      <td>[democratic, senator, kirsten, gillibrand, ha,...</td>\n    </tr>\n    <tr>\n      <th>3</th>\n      <td>2021-06-25</td>\n      <td>To get a roundup of TechCrunchs biggest and mo...</td>\n      <td>0.6240</td>\n      <td>0.130</td>\n      <td>0.000</td>\n      <td>0.870</td>\n      <td>[get, roundup, techcrunchs, biggest, important...</td>\n    </tr>\n    <tr>\n      <th>4</th>\n      <td>2021-06-18</td>\n      <td>The UK’s chief data protection regulator has w...</td>\n      <td>-0.5859</td>\n      <td>0.000</td>\n      <td>0.130</td>\n      <td>0.870</td>\n      <td>[uk, chief, data, protection, regulator, ha, w...</td>\n    </tr>\n    <tr>\n      <th>5</th>\n      <td>2021-06-28</td>\n      <td>The UK’s digital businesses can breathe a sign...</td>\n      <td>0.4767</td>\n      <td>0.086</td>\n      <td>0.000</td>\n      <td>0.914</td>\n      <td>[uk, digital, business, breathe, sign, relief,...</td>\n    </tr>\n    <tr>\n      <th>6</th>\n      <td>2021-06-21</td>\n      <td>Lina Khan has been one of Big Tech's biggest c...</td>\n      <td>-0.2960</td>\n      <td>0.000</td>\n      <td>0.059</td>\n      <td>0.941</td>\n      <td>[lina, khan, ha, one, big, tech, biggest, crit...</td>\n    </tr>\n    <tr>\n      <th>7</th>\n      <td>2021-05-31</td>\n      <td>The Station is a weekly newsletter dedicated t...</td>\n      <td>0.7184</td>\n      <td>0.154</td>\n      <td>0.000</td>\n      <td>0.846</td>\n      <td>[station, weekly, newsletter, dedicated, thing...</td>\n    </tr>\n    <tr>\n      <th>8</th>\n      <td>2021-06-15</td>\n      <td>By Reuters Staff\\r\\nFILE PHOTO: A 3D printed G...</td>\n      <td>0.0000</td>\n      <td>0.000</td>\n      <td>0.000</td>\n      <td>1.000</td>\n      <td>[reuters, staff, file, photo, printed, google,...</td>\n    </tr>\n    <tr>\n      <th>9</th>\n      <td>2021-06-15</td>\n      <td>If the purpose is to investigate if Google or ...</td>\n      <td>-0.2732</td>\n      <td>0.106</td>\n      <td>0.130</td>\n      <td>0.764</td>\n      <td>[purpose, investigate, google, apple, anything...</td>\n    </tr>\n    <tr>\n      <th>10</th>\n      <td>2021-06-15</td>\n      <td>The UK’s competition watchdog will take a deep...</td>\n      <td>0.5574</td>\n      <td>0.133</td>\n      <td>0.000</td>\n      <td>0.867</td>\n      <td>[uk, competition, watchdog, take, deep, dive, ...</td>\n    </tr>\n    <tr>\n      <th>11</th>\n      <td>2021-06-08</td>\n      <td>Robotaxis may still be a few years out, but th...</td>\n      <td>0.0000</td>\n      <td>0.000</td>\n      <td>0.000</td>\n      <td>1.000</td>\n      <td>[robotaxis, may, still, year, industry, transf...</td>\n    </tr>\n    <tr>\n      <th>12</th>\n      <td>2021-06-15</td>\n      <td>At 32, Khan will become the youngest commissio...</td>\n      <td>0.4588</td>\n      <td>0.143</td>\n      <td>0.060</td>\n      <td>0.797</td>\n      <td>[khan, become, youngest, commissioner, ever, c...</td>\n    </tr>\n    <tr>\n      <th>13</th>\n      <td>2021-06-22</td>\n      <td>EU antitrust authorities are finally taking a ...</td>\n      <td>0.0000</td>\n      <td>0.000</td>\n      <td>0.000</td>\n      <td>1.000</td>\n      <td>[eu, antitrust, authority, finally, taking, br...</td>\n    </tr>\n    <tr>\n      <th>14</th>\n      <td>2021-06-17</td>\n      <td>Francis Scialabba.\\r\\nFrancis Scialabba\\r\\nGlo...</td>\n      <td>-0.0176</td>\n      <td>0.076</td>\n      <td>0.078</td>\n      <td>0.846</td>\n      <td>[francis, scialabba, francis, scialabba, globa...</td>\n    </tr>\n    <tr>\n      <th>15</th>\n      <td>2021-06-15</td>\n      <td>The latest big tech antitrust hearing is being...</td>\n      <td>0.2960</td>\n      <td>0.088</td>\n      <td>0.000</td>\n      <td>0.912</td>\n      <td>[latest, big, tech, antitrust, hearing, held, ...</td>\n    </tr>\n    <tr>\n      <th>16</th>\n      <td>2021-06-04</td>\n      <td>In its latest ambitious digital policy announc...</td>\n      <td>0.7717</td>\n      <td>0.216</td>\n      <td>0.000</td>\n      <td>0.784</td>\n      <td>[latest, ambitious, digital, policy, announcem...</td>\n    </tr>\n    <tr>\n      <th>17</th>\n      <td>2021-06-01</td>\n      <td>Monster Train isn't alone. We are living throu...</td>\n      <td>0.5904</td>\n      <td>0.128</td>\n      <td>0.000</td>\n      <td>0.872</td>\n      <td>[monster, train, alone, living, renaissance, v...</td>\n    </tr>\n    <tr>\n      <th>18</th>\n      <td>2021-06-14</td>\n      <td>Republican Senators Mike Lee and Chuck Grassle...</td>\n      <td>0.5267</td>\n      <td>0.102</td>\n      <td>0.000</td>\n      <td>0.898</td>\n      <td>[republican, senator, mike, lee, chuck, grassl...</td>\n    </tr>\n    <tr>\n      <th>19</th>\n      <td>2021-06-25</td>\n      <td>Source: Fairphone\\r\\nReading about the topic o...</td>\n      <td>0.4215</td>\n      <td>0.101</td>\n      <td>0.000</td>\n      <td>0.899</td>\n      <td>[source, fairphone, reading, topic, sustainabi...</td>\n    </tr>\n  </tbody>\n</table>\n</div>"
     },
     "metadata": {},
     "execution_count": 34
    }
   ],
   "source": [
    "tech_df[\"tokens\"] = tech_df[\"Text\"].apply(tokenizer)\n",
    "tech_df.head(20)"
   ]
  },
  {
   "cell_type": "code",
   "execution_count": 35,
   "metadata": {},
   "outputs": [],
   "source": [
    "current_date = pd.Timestamp(datetime.now(), tz=\"America/New_York\").isoformat()\n",
    "past_date = pd.Timestamp(datetime.now()- timedelta(30), tz=\"America/New_York\").isoformat()"
   ]
  },
  {
   "cell_type": "code",
   "execution_count": 36,
   "metadata": {},
   "outputs": [],
   "source": [
    "def get_headlines(keyword):\n",
    "    all_headlines = []\n",
    "    all_dates = []    \n",
    "    date = datetime.strptime(current_date[:10], \"%Y-%m-%d\")\n",
    "    end_date = datetime.strptime(past_date[:10], \"%Y-%m-%d\")\n",
    "    print(f\"Fetching news about '{keyword}'\")\n",
    "    print(\"*\" * 30)\n",
    "    while date > end_date:\n",
    "        print(f\"retrieving news from: {date}\")\n",
    "        articles = newsapi.get_everything(\n",
    "            q=keyword,\n",
    "            from_param=str(date)[:10],\n",
    "            to=str(date)[:10],\n",
    "            language=\"en\",\n",
    "            sort_by=\"relevancy\",\n",
    "            page=1,\n",
    "        )\n",
    "        headlines = []\n",
    "        for i in range(0, len(articles[\"articles\"])):\n",
    "            headlines.append(articles[\"articles\"][i][\"title\"])\n",
    "        all_headlines.append(headlines)\n",
    "        all_dates.append(date)\n",
    "        date = date - timedelta(days=1)\n",
    "    return all_headlines, all_dates"
   ]
  },
  {
   "cell_type": "code",
   "execution_count": 37,
   "metadata": {},
   "outputs": [
    {
     "output_type": "stream",
     "name": "stdout",
     "text": [
      "Fetching news about 'Inflation'\n",
      "******************************\n",
      "retrieving news from: 2021-06-28 00:00:00\n",
      "retrieving news from: 2021-06-27 00:00:00\n",
      "retrieving news from: 2021-06-26 00:00:00\n",
      "retrieving news from: 2021-06-25 00:00:00\n",
      "retrieving news from: 2021-06-24 00:00:00\n",
      "retrieving news from: 2021-06-23 00:00:00\n",
      "retrieving news from: 2021-06-22 00:00:00\n",
      "retrieving news from: 2021-06-21 00:00:00\n",
      "retrieving news from: 2021-06-20 00:00:00\n",
      "retrieving news from: 2021-06-19 00:00:00\n",
      "retrieving news from: 2021-06-18 00:00:00\n",
      "retrieving news from: 2021-06-17 00:00:00\n",
      "retrieving news from: 2021-06-16 00:00:00\n",
      "retrieving news from: 2021-06-15 00:00:00\n",
      "retrieving news from: 2021-06-14 00:00:00\n",
      "retrieving news from: 2021-06-13 00:00:00\n",
      "retrieving news from: 2021-06-12 00:00:00\n",
      "retrieving news from: 2021-06-11 00:00:00\n",
      "retrieving news from: 2021-06-10 00:00:00\n",
      "retrieving news from: 2021-06-09 00:00:00\n",
      "retrieving news from: 2021-06-08 00:00:00\n",
      "retrieving news from: 2021-06-07 00:00:00\n",
      "retrieving news from: 2021-06-06 00:00:00\n",
      "retrieving news from: 2021-06-05 00:00:00\n",
      "retrieving news from: 2021-06-04 00:00:00\n",
      "retrieving news from: 2021-06-03 00:00:00\n",
      "retrieving news from: 2021-06-02 00:00:00\n",
      "retrieving news from: 2021-06-01 00:00:00\n",
      "retrieving news from: 2021-05-31 00:00:00\n",
      "retrieving news from: 2021-05-30 00:00:00\n"
     ]
    }
   ],
   "source": [
    "inflation_headlines, dates = get_headlines(\"Inflation\")"
   ]
  },
  {
   "cell_type": "code",
   "execution_count": 40,
   "metadata": {},
   "outputs": [
    {
     "output_type": "stream",
     "name": "stdout",
     "text": [
      "Fetching news about 'tech regulation'\n",
      "******************************\n",
      "retrieving news from: 2021-06-28 00:00:00\n",
      "retrieving news from: 2021-06-27 00:00:00\n",
      "retrieving news from: 2021-06-26 00:00:00\n",
      "retrieving news from: 2021-06-25 00:00:00\n",
      "retrieving news from: 2021-06-24 00:00:00\n",
      "retrieving news from: 2021-06-23 00:00:00\n",
      "retrieving news from: 2021-06-22 00:00:00\n",
      "retrieving news from: 2021-06-21 00:00:00\n",
      "retrieving news from: 2021-06-20 00:00:00\n",
      "retrieving news from: 2021-06-19 00:00:00\n",
      "retrieving news from: 2021-06-18 00:00:00\n",
      "retrieving news from: 2021-06-17 00:00:00\n",
      "retrieving news from: 2021-06-16 00:00:00\n",
      "retrieving news from: 2021-06-15 00:00:00\n",
      "retrieving news from: 2021-06-14 00:00:00\n",
      "retrieving news from: 2021-06-13 00:00:00\n",
      "retrieving news from: 2021-06-12 00:00:00\n",
      "retrieving news from: 2021-06-11 00:00:00\n",
      "retrieving news from: 2021-06-10 00:00:00\n",
      "retrieving news from: 2021-06-09 00:00:00\n",
      "retrieving news from: 2021-06-08 00:00:00\n",
      "retrieving news from: 2021-06-07 00:00:00\n",
      "retrieving news from: 2021-06-06 00:00:00\n",
      "retrieving news from: 2021-06-05 00:00:00\n",
      "retrieving news from: 2021-06-04 00:00:00\n",
      "retrieving news from: 2021-06-03 00:00:00\n",
      "retrieving news from: 2021-06-02 00:00:00\n",
      "retrieving news from: 2021-06-01 00:00:00\n",
      "retrieving news from: 2021-05-31 00:00:00\n",
      "retrieving news from: 2021-05-30 00:00:00\n"
     ]
    }
   ],
   "source": [
    "tech_headlines, dates = get_headlines(\"tech regulation\")"
   ]
  },
  {
   "cell_type": "code",
   "execution_count": null,
   "metadata": {},
   "outputs": [],
   "source": []
  }
 ],
 "metadata": {
  "kernelspec": {
   "name": "python3",
   "display_name": "Python 3.8.5 64-bit ('base': conda)",
   "metadata": {
    "interpreter": {
     "hash": "11ef2bb442b8455a3e6b82f3202efe5c7a01a00a0939705f79f87b65f8f45715"
    }
   }
  },
  "language_info": {
   "codemirror_mode": {
    "name": "ipython",
    "version": 3
   },
   "file_extension": ".py",
   "mimetype": "text/x-python",
   "name": "python",
   "nbconvert_exporter": "python",
   "pygments_lexer": "ipython3",
   "version": "3.8.5"
  }
 },
 "nbformat": 4,
 "nbformat_minor": 4
}