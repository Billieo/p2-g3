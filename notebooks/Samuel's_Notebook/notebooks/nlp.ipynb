{
 "cells": [
  {
   "cell_type": "code",
   "execution_count": 1,
   "metadata": {},
   "outputs": [
    {
     "output_type": "stream",
     "name": "stderr",
     "text": [
      "[nltk_data] Downloading package vader_lexicon to\n[nltk_data]     /Users/samuelarciniega/nltk_data...\n[nltk_data]   Package vader_lexicon is already up-to-date!\n"
     ]
    }
   ],
   "source": [
    "# Initial imports\n",
    "import os\n",
    "import pandas as pd\n",
    "from datetime import datetime, timedelta\n",
    "from pathlib import Path\n",
    "from newsapi import NewsApiClient\n",
    "from dotenv import load_dotenv\n",
    "from nltk.corpus import stopwords, reuters\n",
    "load_dotenv()\n",
    "import nltk as nltk\n",
    "nltk.download('vader_lexicon')\n",
    "from nltk.sentiment.vader import SentimentIntensityAnalyzer\n",
    "analyzer = SentimentIntensityAnalyzer()\n",
    "\n",
    "%matplotlib inline"
   ]
  },
  {
   "cell_type": "code",
   "execution_count": 2,
   "metadata": {},
   "outputs": [],
   "source": [
    "api_key = os.getenv(\"news_api\")\n",
    "#print(api_key)"
   ]
  },
  {
   "cell_type": "code",
   "execution_count": 3,
   "metadata": {},
   "outputs": [],
   "source": [
    "newsapi = NewsApiClient(api_key=api_key)"
   ]
  },
  {
   "cell_type": "code",
   "execution_count": 4,
   "metadata": {},
   "outputs": [
    {
     "output_type": "stream",
     "name": "stdout",
     "text": [
      "Total articles about Inflation: 14917\n"
     ]
    },
    {
     "output_type": "execute_result",
     "data": {
      "text/plain": [
       "{'source': {'id': None, 'name': 'New York Times'},\n",
       " 'author': 'David Leonhardt',\n",
       " 'title': 'The Specter of Inflation',\n",
       " 'description': 'Is it haunting the U.S. economy?',\n",
       " 'url': 'https://www.nytimes.com/2021/06/17/briefing/inflation-us-economy-covid-pandemic.html',\n",
       " 'urlToImage': 'https://static01.nyt.com/images/2021/06/17/lens/17ambriefing-promo/17ambriefing-inflation-facebookJumbo-v2.jpg',\n",
       " 'publishedAt': '2021-06-17T10:30:22Z',\n",
       " 'content': 'With excess saving they can afford more of everything, Jason Furman, a Harvard economist and former Obama administration official, wrote this week.\\r\\nAlthough companies are increasing the supply of ma… [+2099 chars]'}"
      ]
     },
     "metadata": {},
     "execution_count": 4
    }
   ],
   "source": [
    "tech_news = newsapi.get_everything(q = \"Inflation\", language=\"en\", page_size=100, sort_by=\"relevancy\")\n",
    "print(f\"Total articles about Inflation: {tech_news['totalResults']}\")\n",
    "tech_news[\"articles\"][0]"
   ]
  },
  {
   "cell_type": "code",
   "execution_count": 5,
   "metadata": {},
   "outputs": [],
   "source": [
    "inflation_news_df = pd.DataFrame(inflation_news)"
   ]
  },
  {
   "cell_type": "code",
   "execution_count": 6,
   "metadata": {},
   "outputs": [],
   "source": [
    "inflation_news_df.to_csv(\"inflation_news.csv\")"
   ]
  },
  {
   "cell_type": "code",
   "execution_count": 13,
   "metadata": {},
   "outputs": [
    {
     "output_type": "execute_result",
     "data": {
      "text/plain": [
       "          Date                                               Text  Compound  \\\n",
       "0   2021-06-17  With excess saving they can afford more of eve...    0.0000   \n",
       "1   2021-06-21  10. And finally, figuring out how to be a supe...    0.0000   \n",
       "2   2021-06-10  4. As the U.S. withdraws from Afghanistan, int...   -0.4939   \n",
       "3   2021-06-16  A day after ousting two top executives, the el...    0.2023   \n",
       "4   2021-06-10                                                       0.0000   \n",
       "..         ...                                                ...       ...   \n",
       "95  2021-06-18  By Reuters Staff\\r\\nFILE PHOTO: A man points a...    0.0000   \n",
       "96  2021-07-01  El Salvador's President Nayib Bukele speaks at...    0.0000   \n",
       "97  2021-06-10  By Reuters Staff\\r\\n* KOSPI rises, foreigners ...    0.7717   \n",
       "98  2021-06-08  BENGALURU, June 8 (Reuters) - Indian shares re...   -0.2500   \n",
       "99  2021-06-08  Indian shares retreated from record highs on T...   -0.2500   \n",
       "\n",
       "    Positive  Negative  Neutral  \n",
       "0      0.000     0.000    1.000  \n",
       "1      0.000     0.000    1.000  \n",
       "2      0.000     0.091    0.909  \n",
       "3      0.050     0.000    0.950  \n",
       "4      0.000     0.000    0.000  \n",
       "..       ...       ...      ...  \n",
       "95     0.000     0.000    1.000  \n",
       "96     0.000     0.000    1.000  \n",
       "97     0.193     0.000    0.807  \n",
       "98     0.114     0.141    0.745  \n",
       "99     0.111     0.137    0.751  \n",
       "\n",
       "[100 rows x 6 columns]"
      ],
      "text/html": "<div>\n<style scoped>\n    .dataframe tbody tr th:only-of-type {\n        vertical-align: middle;\n    }\n\n    .dataframe tbody tr th {\n        vertical-align: top;\n    }\n\n    .dataframe thead th {\n        text-align: right;\n    }\n</style>\n<table border=\"1\" class=\"dataframe\">\n  <thead>\n    <tr style=\"text-align: right;\">\n      <th></th>\n      <th>Date</th>\n      <th>Text</th>\n      <th>Compound</th>\n      <th>Positive</th>\n      <th>Negative</th>\n      <th>Neutral</th>\n    </tr>\n  </thead>\n  <tbody>\n    <tr>\n      <th>0</th>\n      <td>2021-06-17</td>\n      <td>With excess saving they can afford more of eve...</td>\n      <td>0.0000</td>\n      <td>0.000</td>\n      <td>0.000</td>\n      <td>1.000</td>\n    </tr>\n    <tr>\n      <th>1</th>\n      <td>2021-06-21</td>\n      <td>10. And finally, figuring out how to be a supe...</td>\n      <td>0.0000</td>\n      <td>0.000</td>\n      <td>0.000</td>\n      <td>1.000</td>\n    </tr>\n    <tr>\n      <th>2</th>\n      <td>2021-06-10</td>\n      <td>4. As the U.S. withdraws from Afghanistan, int...</td>\n      <td>-0.4939</td>\n      <td>0.000</td>\n      <td>0.091</td>\n      <td>0.909</td>\n    </tr>\n    <tr>\n      <th>3</th>\n      <td>2021-06-16</td>\n      <td>A day after ousting two top executives, the el...</td>\n      <td>0.2023</td>\n      <td>0.050</td>\n      <td>0.000</td>\n      <td>0.950</td>\n    </tr>\n    <tr>\n      <th>4</th>\n      <td>2021-06-10</td>\n      <td></td>\n      <td>0.0000</td>\n      <td>0.000</td>\n      <td>0.000</td>\n      <td>0.000</td>\n    </tr>\n    <tr>\n      <th>...</th>\n      <td>...</td>\n      <td>...</td>\n      <td>...</td>\n      <td>...</td>\n      <td>...</td>\n      <td>...</td>\n    </tr>\n    <tr>\n      <th>95</th>\n      <td>2021-06-18</td>\n      <td>By Reuters Staff\\r\\nFILE PHOTO: A man points a...</td>\n      <td>0.0000</td>\n      <td>0.000</td>\n      <td>0.000</td>\n      <td>1.000</td>\n    </tr>\n    <tr>\n      <th>96</th>\n      <td>2021-07-01</td>\n      <td>El Salvador's President Nayib Bukele speaks at...</td>\n      <td>0.0000</td>\n      <td>0.000</td>\n      <td>0.000</td>\n      <td>1.000</td>\n    </tr>\n    <tr>\n      <th>97</th>\n      <td>2021-06-10</td>\n      <td>By Reuters Staff\\r\\n* KOSPI rises, foreigners ...</td>\n      <td>0.7717</td>\n      <td>0.193</td>\n      <td>0.000</td>\n      <td>0.807</td>\n    </tr>\n    <tr>\n      <th>98</th>\n      <td>2021-06-08</td>\n      <td>BENGALURU, June 8 (Reuters) - Indian shares re...</td>\n      <td>-0.2500</td>\n      <td>0.114</td>\n      <td>0.141</td>\n      <td>0.745</td>\n    </tr>\n    <tr>\n      <th>99</th>\n      <td>2021-06-08</td>\n      <td>Indian shares retreated from record highs on T...</td>\n      <td>-0.2500</td>\n      <td>0.111</td>\n      <td>0.137</td>\n      <td>0.751</td>\n    </tr>\n  </tbody>\n</table>\n<p>100 rows × 6 columns</p>\n</div>"
     },
     "metadata": {},
     "execution_count": 13
    }
   ],
   "source": [
    "sentiments = []\n",
    "for article in tech_news[\"articles\"]:\n",
    "    try:\n",
    "        text = article[\"content\"]\n",
    "        date = article[\"publishedAt\"][:10]\n",
    "        sentiment = analyzer.polarity_scores(text)\n",
    "        compound = sentiment[\"compound\"]\n",
    "        pos = sentiment[\"pos\"]\n",
    "        neu = sentiment[\"neu\"]\n",
    "        neg = sentiment[\"neg\"]\n",
    "\n",
    "        sentiments.append({\n",
    "            \"Text\": text,\n",
    "            \"Date\": date,\n",
    "            \"Compound\":compound,\n",
    "            \"Positive\": pos,\n",
    "            \"Negative\": neg,\n",
    "            \"Neutral\": neu\n",
    "        })\n",
    "    except AttributeError:\n",
    "        pass\n",
    "tech_df = pd.DataFrame(sentiments)\n",
    "\n",
    "columns = [\"Date\", \"Text\", \"Compound\", \"Positive\", \"Negative\", \"Neutral\"]\n",
    "tech_df = tech_df[columns]\n",
    "\n",
    "tech_df.head(100)"
   ]
  },
  {
   "cell_type": "code",
   "execution_count": null,
   "metadata": {},
   "outputs": [],
   "source": []
  },
  {
   "cell_type": "code",
   "execution_count": 31,
   "metadata": {},
   "outputs": [
    {
     "output_type": "execute_result",
     "data": {
      "text/plain": [
       "    Compound  Positive  Negative  Neutral        Date\n",
       "0     0.0000     0.000     0.000    1.000  2021-06-17\n",
       "1     0.0000     0.000     0.000    1.000  2021-06-21\n",
       "2    -0.4939     0.000     0.091    0.909  2021-06-10\n",
       "3     0.2023     0.050     0.000    0.950  2021-06-16\n",
       "4     0.0000     0.000     0.000    0.000  2021-06-10\n",
       "..       ...       ...       ...      ...         ...\n",
       "95    0.0000     0.000     0.000    1.000  2021-06-18\n",
       "96    0.0000     0.000     0.000    1.000  2021-07-01\n",
       "97    0.7717     0.193     0.000    0.807  2021-06-10\n",
       "98   -0.2500     0.114     0.141    0.745  2021-06-08\n",
       "99   -0.2500     0.111     0.137    0.751  2021-06-08\n",
       "\n",
       "[100 rows x 5 columns]"
      ],
      "text/html": "<div>\n<style scoped>\n    .dataframe tbody tr th:only-of-type {\n        vertical-align: middle;\n    }\n\n    .dataframe tbody tr th {\n        vertical-align: top;\n    }\n\n    .dataframe thead th {\n        text-align: right;\n    }\n</style>\n<table border=\"1\" class=\"dataframe\">\n  <thead>\n    <tr style=\"text-align: right;\">\n      <th></th>\n      <th>Compound</th>\n      <th>Positive</th>\n      <th>Negative</th>\n      <th>Neutral</th>\n      <th>Date</th>\n    </tr>\n  </thead>\n  <tbody>\n    <tr>\n      <th>0</th>\n      <td>0.0000</td>\n      <td>0.000</td>\n      <td>0.000</td>\n      <td>1.000</td>\n      <td>2021-06-17</td>\n    </tr>\n    <tr>\n      <th>1</th>\n      <td>0.0000</td>\n      <td>0.000</td>\n      <td>0.000</td>\n      <td>1.000</td>\n      <td>2021-06-21</td>\n    </tr>\n    <tr>\n      <th>2</th>\n      <td>-0.4939</td>\n      <td>0.000</td>\n      <td>0.091</td>\n      <td>0.909</td>\n      <td>2021-06-10</td>\n    </tr>\n    <tr>\n      <th>3</th>\n      <td>0.2023</td>\n      <td>0.050</td>\n      <td>0.000</td>\n      <td>0.950</td>\n      <td>2021-06-16</td>\n    </tr>\n    <tr>\n      <th>4</th>\n      <td>0.0000</td>\n      <td>0.000</td>\n      <td>0.000</td>\n      <td>0.000</td>\n      <td>2021-06-10</td>\n    </tr>\n    <tr>\n      <th>...</th>\n      <td>...</td>\n      <td>...</td>\n      <td>...</td>\n      <td>...</td>\n      <td>...</td>\n    </tr>\n    <tr>\n      <th>95</th>\n      <td>0.0000</td>\n      <td>0.000</td>\n      <td>0.000</td>\n      <td>1.000</td>\n      <td>2021-06-18</td>\n    </tr>\n    <tr>\n      <th>96</th>\n      <td>0.0000</td>\n      <td>0.000</td>\n      <td>0.000</td>\n      <td>1.000</td>\n      <td>2021-07-01</td>\n    </tr>\n    <tr>\n      <th>97</th>\n      <td>0.7717</td>\n      <td>0.193</td>\n      <td>0.000</td>\n      <td>0.807</td>\n      <td>2021-06-10</td>\n    </tr>\n    <tr>\n      <th>98</th>\n      <td>-0.2500</td>\n      <td>0.114</td>\n      <td>0.141</td>\n      <td>0.745</td>\n      <td>2021-06-08</td>\n    </tr>\n    <tr>\n      <th>99</th>\n      <td>-0.2500</td>\n      <td>0.111</td>\n      <td>0.137</td>\n      <td>0.751</td>\n      <td>2021-06-08</td>\n    </tr>\n  </tbody>\n</table>\n<p>100 rows × 5 columns</p>\n</div>"
     },
     "metadata": {},
     "execution_count": 31
    }
   ],
   "source": [
    "df = pd.DataFrame()\n",
    "df[\"Compound\"] = tech_df[\"Compound\"]\n",
    "df[\"Positive\"] = tech_df[\"Positive\"]\n",
    "df[\"Negative\"] = tech_df[\"Negative\"]\n",
    "df[\"Neutral\"] = tech_df[\"Neutral\"]\n",
    "df[\"Date\"] = tech_df[\"Date\"]\n",
    "#df.index = df.index.Date\n",
    "df.head(500)"
   ]
  },
  {
   "cell_type": "code",
   "execution_count": 32,
   "metadata": {},
   "outputs": [
    {
     "output_type": "execute_result",
     "data": {
      "text/plain": [
       "            Compound  Positive  Negative  Neutral\n",
       "Date                                             \n",
       "2021-06-17    0.0000     0.000     0.000    1.000\n",
       "2021-06-21    0.0000     0.000     0.000    1.000\n",
       "2021-06-10   -0.4939     0.000     0.091    0.909\n",
       "2021-06-16    0.2023     0.050     0.000    0.950\n",
       "2021-06-10    0.0000     0.000     0.000    0.000\n",
       "...              ...       ...       ...      ...\n",
       "2021-06-18    0.0000     0.000     0.000    1.000\n",
       "2021-07-01    0.0000     0.000     0.000    1.000\n",
       "2021-06-10    0.7717     0.193     0.000    0.807\n",
       "2021-06-08   -0.2500     0.114     0.141    0.745\n",
       "2021-06-08   -0.2500     0.111     0.137    0.751\n",
       "\n",
       "[100 rows x 4 columns]"
      ],
      "text/html": "<div>\n<style scoped>\n    .dataframe tbody tr th:only-of-type {\n        vertical-align: middle;\n    }\n\n    .dataframe tbody tr th {\n        vertical-align: top;\n    }\n\n    .dataframe thead th {\n        text-align: right;\n    }\n</style>\n<table border=\"1\" class=\"dataframe\">\n  <thead>\n    <tr style=\"text-align: right;\">\n      <th></th>\n      <th>Compound</th>\n      <th>Positive</th>\n      <th>Negative</th>\n      <th>Neutral</th>\n    </tr>\n    <tr>\n      <th>Date</th>\n      <th></th>\n      <th></th>\n      <th></th>\n      <th></th>\n    </tr>\n  </thead>\n  <tbody>\n    <tr>\n      <th>2021-06-17</th>\n      <td>0.0000</td>\n      <td>0.000</td>\n      <td>0.000</td>\n      <td>1.000</td>\n    </tr>\n    <tr>\n      <th>2021-06-21</th>\n      <td>0.0000</td>\n      <td>0.000</td>\n      <td>0.000</td>\n      <td>1.000</td>\n    </tr>\n    <tr>\n      <th>2021-06-10</th>\n      <td>-0.4939</td>\n      <td>0.000</td>\n      <td>0.091</td>\n      <td>0.909</td>\n    </tr>\n    <tr>\n      <th>2021-06-16</th>\n      <td>0.2023</td>\n      <td>0.050</td>\n      <td>0.000</td>\n      <td>0.950</td>\n    </tr>\n    <tr>\n      <th>2021-06-10</th>\n      <td>0.0000</td>\n      <td>0.000</td>\n      <td>0.000</td>\n      <td>0.000</td>\n    </tr>\n    <tr>\n      <th>...</th>\n      <td>...</td>\n      <td>...</td>\n      <td>...</td>\n      <td>...</td>\n    </tr>\n    <tr>\n      <th>2021-06-18</th>\n      <td>0.0000</td>\n      <td>0.000</td>\n      <td>0.000</td>\n      <td>1.000</td>\n    </tr>\n    <tr>\n      <th>2021-07-01</th>\n      <td>0.0000</td>\n      <td>0.000</td>\n      <td>0.000</td>\n      <td>1.000</td>\n    </tr>\n    <tr>\n      <th>2021-06-10</th>\n      <td>0.7717</td>\n      <td>0.193</td>\n      <td>0.000</td>\n      <td>0.807</td>\n    </tr>\n    <tr>\n      <th>2021-06-08</th>\n      <td>-0.2500</td>\n      <td>0.114</td>\n      <td>0.141</td>\n      <td>0.745</td>\n    </tr>\n    <tr>\n      <th>2021-06-08</th>\n      <td>-0.2500</td>\n      <td>0.111</td>\n      <td>0.137</td>\n      <td>0.751</td>\n    </tr>\n  </tbody>\n</table>\n<p>100 rows × 4 columns</p>\n</div>"
     },
     "metadata": {},
     "execution_count": 32
    }
   ],
   "source": [
    "df.set_index(\"Date\")"
   ]
  },
  {
   "cell_type": "code",
   "execution_count": null,
   "metadata": {},
   "outputs": [],
   "source": []
  },
  {
   "cell_type": "code",
   "execution_count": 22,
   "metadata": {},
   "outputs": [
    {
     "output_type": "execute_result",
     "data": {
      "text/plain": [
       "         Compound    Positive    Negative     Neutral\n",
       "count  100.000000  100.000000  100.000000  100.000000\n",
       "mean     0.093097    0.059730    0.035100    0.905160\n",
       "std      0.394231    0.063182    0.051089    0.070182\n",
       "min     -0.757900    0.000000    0.000000    0.751000\n",
       "25%     -0.064375    0.000000    0.000000    0.858750\n",
       "50%      0.000000    0.059500    0.000000    0.912000\n",
       "75%      0.406800    0.088000    0.067500    0.953000\n",
       "max      0.796400    0.239000    0.217000    1.000000"
      ],
      "text/html": "<div>\n<style scoped>\n    .dataframe tbody tr th:only-of-type {\n        vertical-align: middle;\n    }\n\n    .dataframe tbody tr th {\n        vertical-align: top;\n    }\n\n    .dataframe thead th {\n        text-align: right;\n    }\n</style>\n<table border=\"1\" class=\"dataframe\">\n  <thead>\n    <tr style=\"text-align: right;\">\n      <th></th>\n      <th>Compound</th>\n      <th>Positive</th>\n      <th>Negative</th>\n      <th>Neutral</th>\n    </tr>\n  </thead>\n  <tbody>\n    <tr>\n      <th>count</th>\n      <td>100.000000</td>\n      <td>100.000000</td>\n      <td>100.000000</td>\n      <td>100.000000</td>\n    </tr>\n    <tr>\n      <th>mean</th>\n      <td>0.093097</td>\n      <td>0.059730</td>\n      <td>0.035100</td>\n      <td>0.905160</td>\n    </tr>\n    <tr>\n      <th>std</th>\n      <td>0.394231</td>\n      <td>0.063182</td>\n      <td>0.051089</td>\n      <td>0.070182</td>\n    </tr>\n    <tr>\n      <th>min</th>\n      <td>-0.757900</td>\n      <td>0.000000</td>\n      <td>0.000000</td>\n      <td>0.751000</td>\n    </tr>\n    <tr>\n      <th>25%</th>\n      <td>-0.064375</td>\n      <td>0.000000</td>\n      <td>0.000000</td>\n      <td>0.858750</td>\n    </tr>\n    <tr>\n      <th>50%</th>\n      <td>0.000000</td>\n      <td>0.059500</td>\n      <td>0.000000</td>\n      <td>0.912000</td>\n    </tr>\n    <tr>\n      <th>75%</th>\n      <td>0.406800</td>\n      <td>0.088000</td>\n      <td>0.067500</td>\n      <td>0.953000</td>\n    </tr>\n    <tr>\n      <th>max</th>\n      <td>0.796400</td>\n      <td>0.239000</td>\n      <td>0.217000</td>\n      <td>1.000000</td>\n    </tr>\n  </tbody>\n</table>\n</div>"
     },
     "metadata": {},
     "execution_count": 22
    }
   ],
   "source": [
    "tech_df.describe()"
   ]
  },
  {
   "cell_type": "code",
   "execution_count": 10,
   "metadata": {},
   "outputs": [],
   "source": [
    "inflation_df.to_csv(\"inflation_polarity.csv\")"
   ]
  },
  {
   "cell_type": "code",
   "execution_count": 11,
   "metadata": {},
   "outputs": [],
   "source": [
    "from nltk.tokenize import word_tokenize, sent_tokenize\n",
    "from nltk.corpus import stopwords\n",
    "from nltk.stem import WordNetLemmatizer, PorterStemmer\n",
    "from string import punctuation\n",
    "import re"
   ]
  },
  {
   "cell_type": "code",
   "execution_count": 12,
   "metadata": {},
   "outputs": [],
   "source": [
    "lemmatizer = WordNetLemmatizer()\n",
    "sw = set(stopwords.words('english'))"
   ]
  },
  {
   "cell_type": "code",
   "execution_count": 14,
   "metadata": {},
   "outputs": [
    {
     "output_type": "execute_result",
     "data": {
      "text/plain": [
       "['excess',\n",
       " 'saving',\n",
       " 'afford',\n",
       " 'everything',\n",
       " 'jason',\n",
       " 'furman',\n",
       " 'harvard',\n",
       " 'economist',\n",
       " 'former',\n",
       " 'obama',\n",
       " 'administration',\n",
       " 'official',\n",
       " 'wrote',\n",
       " 'week',\n",
       " 'although',\n",
       " 'company',\n",
       " 'increasing',\n",
       " 'supply',\n",
       " 'char']"
      ]
     },
     "metadata": {},
     "execution_count": 14
    }
   ],
   "source": [
    "def tokenizer(text):\n",
    "    regex = re.compile(\"[^a-zA-Z]\")\n",
    "    re_clean = regex.sub(' ', text)\n",
    "    words = word_tokenize(re_clean.lower())\n",
    "    lem = [lemmatizer.lemmatize(word) for word in words]\n",
    "    tokens = [word.lower() for word in lem if word.lower() not in sw]\n",
    "    return tokens\n",
    "tokenizer(inflation_df.iloc[0][\"Text\"])"
   ]
  },
  {
   "cell_type": "code",
   "execution_count": 15,
   "metadata": {},
   "outputs": [
    {
     "output_type": "execute_result",
     "data": {
      "text/plain": [
       "          Date                                               Text  Compound  \\\n",
       "0   2021-06-17  With excess saving they can afford more of eve...    0.0000   \n",
       "1   2021-06-21  10. And finally, figuring out how to be a supe...    0.0000   \n",
       "2   2021-06-10  4. As the U.S. withdraws from Afghanistan, int...   -0.4939   \n",
       "3   2021-06-16  A day after ousting two top executives, the el...    0.2023   \n",
       "4   2021-06-10                                                       0.0000   \n",
       "5   2021-06-14  This story originally appeared on StockMarketA...    0.4404   \n",
       "6   2021-06-07  By Reuters Staff\\r\\nBRASILIA, June 7 (Reuters)...    0.3818   \n",
       "7   2021-06-25  MEXICO CITY, June 25 (Reuters) - Mexico is fac...    0.1027   \n",
       "8   2021-06-25  By Reuters Staff\\r\\nBRASILIA, June 25 (Reuters...    0.0000   \n",
       "9   2021-06-23  U.S. Treasury Secretary Janet Yellen testifies...    0.3818   \n",
       "10  2021-06-09  By Reuters Staff\\r\\n(Adds details)\\r\\nACCRA, J...    0.0000   \n",
       "11  2021-06-09  Employees work on a production line manufactur...    0.0000   \n",
       "12  2021-06-24  Dallas Federal Reserve Bank President Robert K...    0.0000   \n",
       "13  2021-06-25  * Consumer spending unchanged in May; April re...    0.5719   \n",
       "14  2021-06-25  NEW YORK, June 25 (Reuters) - The U.S. dollar ...   -0.2732   \n",
       "15  2021-06-04  Customers visit Macy's flagship store in New Y...    0.2577   \n",
       "16  2021-06-09  The dollar clung to a small bounce on Wednesda...    0.0000   \n",
       "17  2021-06-16  HAVANA, June 16 (Reuters) - Cubans woke up all...    0.0000   \n",
       "18  2021-06-10  By Reuters Staff\\r\\n(The authors are Reuters B...    0.0000   \n",
       "19  2021-06-10  Chairman of the Federal Reserve Jerome Powell ...    0.0000   \n",
       "\n",
       "    Positive  Negative  Neutral  \\\n",
       "0      0.000     0.000    1.000   \n",
       "1      0.000     0.000    1.000   \n",
       "2      0.000     0.091    0.909   \n",
       "3      0.050     0.000    0.950   \n",
       "4      0.000     0.000    0.000   \n",
       "5      0.079     0.000    0.921   \n",
       "6      0.075     0.000    0.925   \n",
       "7      0.080     0.069    0.851   \n",
       "8      0.000     0.000    1.000   \n",
       "9      0.114     0.000    0.886   \n",
       "10     0.000     0.000    1.000   \n",
       "11     0.000     0.000    1.000   \n",
       "12     0.000     0.000    1.000   \n",
       "13     0.144     0.000    0.856   \n",
       "14     0.000     0.065    0.935   \n",
       "15     0.122     0.065    0.814   \n",
       "16     0.000     0.000    1.000   \n",
       "17     0.000     0.000    1.000   \n",
       "18     0.000     0.000    1.000   \n",
       "19     0.000     0.000    1.000   \n",
       "\n",
       "                                               tokens  \n",
       "0   [excess, saving, afford, everything, jason, fu...  \n",
       "1   [finally, figuring, super, ager, maybe, know, ...  \n",
       "2   [u, withdraws, afghanistan, interpreter, fear,...  \n",
       "3   [day, ousting, two, top, executive, electric, ...  \n",
       "4                                                  []  \n",
       "5   [story, originally, appeared, stockmarketare, ...  \n",
       "6   [reuters, staff, brasilia, june, reuters, fore...  \n",
       "7   [mexico, city, june, reuters, mexico, facing, ...  \n",
       "8   [reuters, staff, brasilia, june, reuters, braz...  \n",
       "9   [u, treasury, secretary, janet, yellen, testif...  \n",
       "10  [reuters, staff, add, detail, accra, june, reu...  \n",
       "11  [employee, work, production, line, manufacturi...  \n",
       "12  [dallas, federal, reserve, bank, president, ro...  \n",
       "13  [consumer, spending, unchanged, may, april, re...  \n",
       "14  [new, york, june, reuters, u, dollar, ended, u...  \n",
       "15  [customer, visit, macy, flagship, store, new, ...  \n",
       "16  [dollar, clung, small, bounce, wednesday, trad...  \n",
       "17  [havana, june, reuters, cuban, woke, last, yea...  \n",
       "18  [reuters, staff, author, reuters, breakingview...  \n",
       "19  [chairman, federal, reserve, jerome, powell, l...  "
      ],
      "text/html": "<div>\n<style scoped>\n    .dataframe tbody tr th:only-of-type {\n        vertical-align: middle;\n    }\n\n    .dataframe tbody tr th {\n        vertical-align: top;\n    }\n\n    .dataframe thead th {\n        text-align: right;\n    }\n</style>\n<table border=\"1\" class=\"dataframe\">\n  <thead>\n    <tr style=\"text-align: right;\">\n      <th></th>\n      <th>Date</th>\n      <th>Text</th>\n      <th>Compound</th>\n      <th>Positive</th>\n      <th>Negative</th>\n      <th>Neutral</th>\n      <th>tokens</th>\n    </tr>\n  </thead>\n  <tbody>\n    <tr>\n      <th>0</th>\n      <td>2021-06-17</td>\n      <td>With excess saving they can afford more of eve...</td>\n      <td>0.0000</td>\n      <td>0.000</td>\n      <td>0.000</td>\n      <td>1.000</td>\n      <td>[excess, saving, afford, everything, jason, fu...</td>\n    </tr>\n    <tr>\n      <th>1</th>\n      <td>2021-06-21</td>\n      <td>10. And finally, figuring out how to be a supe...</td>\n      <td>0.0000</td>\n      <td>0.000</td>\n      <td>0.000</td>\n      <td>1.000</td>\n      <td>[finally, figuring, super, ager, maybe, know, ...</td>\n    </tr>\n    <tr>\n      <th>2</th>\n      <td>2021-06-10</td>\n      <td>4. As the U.S. withdraws from Afghanistan, int...</td>\n      <td>-0.4939</td>\n      <td>0.000</td>\n      <td>0.091</td>\n      <td>0.909</td>\n      <td>[u, withdraws, afghanistan, interpreter, fear,...</td>\n    </tr>\n    <tr>\n      <th>3</th>\n      <td>2021-06-16</td>\n      <td>A day after ousting two top executives, the el...</td>\n      <td>0.2023</td>\n      <td>0.050</td>\n      <td>0.000</td>\n      <td>0.950</td>\n      <td>[day, ousting, two, top, executive, electric, ...</td>\n    </tr>\n    <tr>\n      <th>4</th>\n      <td>2021-06-10</td>\n      <td></td>\n      <td>0.0000</td>\n      <td>0.000</td>\n      <td>0.000</td>\n      <td>0.000</td>\n      <td>[]</td>\n    </tr>\n    <tr>\n      <th>5</th>\n      <td>2021-06-14</td>\n      <td>This story originally appeared on StockMarketA...</td>\n      <td>0.4404</td>\n      <td>0.079</td>\n      <td>0.000</td>\n      <td>0.921</td>\n      <td>[story, originally, appeared, stockmarketare, ...</td>\n    </tr>\n    <tr>\n      <th>6</th>\n      <td>2021-06-07</td>\n      <td>By Reuters Staff\\r\\nBRASILIA, June 7 (Reuters)...</td>\n      <td>0.3818</td>\n      <td>0.075</td>\n      <td>0.000</td>\n      <td>0.925</td>\n      <td>[reuters, staff, brasilia, june, reuters, fore...</td>\n    </tr>\n    <tr>\n      <th>7</th>\n      <td>2021-06-25</td>\n      <td>MEXICO CITY, June 25 (Reuters) - Mexico is fac...</td>\n      <td>0.1027</td>\n      <td>0.080</td>\n      <td>0.069</td>\n      <td>0.851</td>\n      <td>[mexico, city, june, reuters, mexico, facing, ...</td>\n    </tr>\n    <tr>\n      <th>8</th>\n      <td>2021-06-25</td>\n      <td>By Reuters Staff\\r\\nBRASILIA, June 25 (Reuters...</td>\n      <td>0.0000</td>\n      <td>0.000</td>\n      <td>0.000</td>\n      <td>1.000</td>\n      <td>[reuters, staff, brasilia, june, reuters, braz...</td>\n    </tr>\n    <tr>\n      <th>9</th>\n      <td>2021-06-23</td>\n      <td>U.S. Treasury Secretary Janet Yellen testifies...</td>\n      <td>0.3818</td>\n      <td>0.114</td>\n      <td>0.000</td>\n      <td>0.886</td>\n      <td>[u, treasury, secretary, janet, yellen, testif...</td>\n    </tr>\n    <tr>\n      <th>10</th>\n      <td>2021-06-09</td>\n      <td>By Reuters Staff\\r\\n(Adds details)\\r\\nACCRA, J...</td>\n      <td>0.0000</td>\n      <td>0.000</td>\n      <td>0.000</td>\n      <td>1.000</td>\n      <td>[reuters, staff, add, detail, accra, june, reu...</td>\n    </tr>\n    <tr>\n      <th>11</th>\n      <td>2021-06-09</td>\n      <td>Employees work on a production line manufactur...</td>\n      <td>0.0000</td>\n      <td>0.000</td>\n      <td>0.000</td>\n      <td>1.000</td>\n      <td>[employee, work, production, line, manufacturi...</td>\n    </tr>\n    <tr>\n      <th>12</th>\n      <td>2021-06-24</td>\n      <td>Dallas Federal Reserve Bank President Robert K...</td>\n      <td>0.0000</td>\n      <td>0.000</td>\n      <td>0.000</td>\n      <td>1.000</td>\n      <td>[dallas, federal, reserve, bank, president, ro...</td>\n    </tr>\n    <tr>\n      <th>13</th>\n      <td>2021-06-25</td>\n      <td>* Consumer spending unchanged in May; April re...</td>\n      <td>0.5719</td>\n      <td>0.144</td>\n      <td>0.000</td>\n      <td>0.856</td>\n      <td>[consumer, spending, unchanged, may, april, re...</td>\n    </tr>\n    <tr>\n      <th>14</th>\n      <td>2021-06-25</td>\n      <td>NEW YORK, June 25 (Reuters) - The U.S. dollar ...</td>\n      <td>-0.2732</td>\n      <td>0.000</td>\n      <td>0.065</td>\n      <td>0.935</td>\n      <td>[new, york, june, reuters, u, dollar, ended, u...</td>\n    </tr>\n    <tr>\n      <th>15</th>\n      <td>2021-06-04</td>\n      <td>Customers visit Macy's flagship store in New Y...</td>\n      <td>0.2577</td>\n      <td>0.122</td>\n      <td>0.065</td>\n      <td>0.814</td>\n      <td>[customer, visit, macy, flagship, store, new, ...</td>\n    </tr>\n    <tr>\n      <th>16</th>\n      <td>2021-06-09</td>\n      <td>The dollar clung to a small bounce on Wednesda...</td>\n      <td>0.0000</td>\n      <td>0.000</td>\n      <td>0.000</td>\n      <td>1.000</td>\n      <td>[dollar, clung, small, bounce, wednesday, trad...</td>\n    </tr>\n    <tr>\n      <th>17</th>\n      <td>2021-06-16</td>\n      <td>HAVANA, June 16 (Reuters) - Cubans woke up all...</td>\n      <td>0.0000</td>\n      <td>0.000</td>\n      <td>0.000</td>\n      <td>1.000</td>\n      <td>[havana, june, reuters, cuban, woke, last, yea...</td>\n    </tr>\n    <tr>\n      <th>18</th>\n      <td>2021-06-10</td>\n      <td>By Reuters Staff\\r\\n(The authors are Reuters B...</td>\n      <td>0.0000</td>\n      <td>0.000</td>\n      <td>0.000</td>\n      <td>1.000</td>\n      <td>[reuters, staff, author, reuters, breakingview...</td>\n    </tr>\n    <tr>\n      <th>19</th>\n      <td>2021-06-10</td>\n      <td>Chairman of the Federal Reserve Jerome Powell ...</td>\n      <td>0.0000</td>\n      <td>0.000</td>\n      <td>0.000</td>\n      <td>1.000</td>\n      <td>[chairman, federal, reserve, jerome, powell, l...</td>\n    </tr>\n  </tbody>\n</table>\n</div>"
     },
     "metadata": {},
     "execution_count": 15
    }
   ],
   "source": [
    "inflation_df[\"tokens\"] = inflation_df[\"Text\"].apply(tokenizer)\n",
    "inflation_df.head(20)"
   ]
  },
  {
   "cell_type": "code",
   "execution_count": null,
   "metadata": {},
   "outputs": [],
   "source": []
  },
  {
   "cell_type": "code",
   "execution_count": null,
   "metadata": {},
   "outputs": [],
   "source": []
  },
  {
   "cell_type": "code",
   "execution_count": null,
   "metadata": {},
   "outputs": [],
   "source": []
  },
  {
   "cell_type": "code",
   "execution_count": 5,
   "metadata": {},
   "outputs": [],
   "source": [
    "current_date = pd.Timestamp(datetime.now(), tz=\"America/New_York\").isoformat()\n",
    "past_date = pd.Timestamp(datetime.now()- timedelta(30), tz=\"America/New_York\").isoformat()"
   ]
  },
  {
   "cell_type": "code",
   "execution_count": 6,
   "metadata": {},
   "outputs": [],
   "source": [
    "def get_headlines(keyword):\n",
    "    all_headlines = []\n",
    "    all_dates = []    \n",
    "    date = datetime.strptime(current_date[:10], \"%Y-%m-%d\")\n",
    "    end_date = datetime.strptime(past_date[:10], \"%Y-%m-%d\")\n",
    "    print(f\"Fetching news about '{keyword}'\")\n",
    "    print(\"*\" * 30)\n",
    "    while date > end_date:\n",
    "        print(f\"retrieving news from: {date}\")\n",
    "        articles = newsapi.get_everything(\n",
    "            q=keyword,\n",
    "            from_param=str(date)[:10],\n",
    "            to=str(date)[:10],\n",
    "            language=\"en\",\n",
    "            sort_by=\"relevancy\",\n",
    "            page=1,\n",
    "        )\n",
    "        headlines = []\n",
    "        for i in range(0, len(articles[\"articles\"])):\n",
    "            headlines.append(articles[\"articles\"][i][\"title\"])\n",
    "        all_headlines.append(headlines)\n",
    "        all_dates.append(date)\n",
    "        date = date - timedelta(days=1)\n",
    "    return all_headlines, all_dates"
   ]
  },
  {
   "cell_type": "code",
   "execution_count": 37,
   "metadata": {},
   "outputs": [
    {
     "output_type": "stream",
     "name": "stdout",
     "text": [
      "Fetching news about 'Inflation'\n",
      "******************************\n",
      "retrieving news from: 2021-06-28 00:00:00\n",
      "retrieving news from: 2021-06-27 00:00:00\n",
      "retrieving news from: 2021-06-26 00:00:00\n",
      "retrieving news from: 2021-06-25 00:00:00\n",
      "retrieving news from: 2021-06-24 00:00:00\n",
      "retrieving news from: 2021-06-23 00:00:00\n",
      "retrieving news from: 2021-06-22 00:00:00\n",
      "retrieving news from: 2021-06-21 00:00:00\n",
      "retrieving news from: 2021-06-20 00:00:00\n",
      "retrieving news from: 2021-06-19 00:00:00\n",
      "retrieving news from: 2021-06-18 00:00:00\n",
      "retrieving news from: 2021-06-17 00:00:00\n",
      "retrieving news from: 2021-06-16 00:00:00\n",
      "retrieving news from: 2021-06-15 00:00:00\n",
      "retrieving news from: 2021-06-14 00:00:00\n",
      "retrieving news from: 2021-06-13 00:00:00\n",
      "retrieving news from: 2021-06-12 00:00:00\n",
      "retrieving news from: 2021-06-11 00:00:00\n",
      "retrieving news from: 2021-06-10 00:00:00\n",
      "retrieving news from: 2021-06-09 00:00:00\n",
      "retrieving news from: 2021-06-08 00:00:00\n",
      "retrieving news from: 2021-06-07 00:00:00\n",
      "retrieving news from: 2021-06-06 00:00:00\n",
      "retrieving news from: 2021-06-05 00:00:00\n",
      "retrieving news from: 2021-06-04 00:00:00\n",
      "retrieving news from: 2021-06-03 00:00:00\n",
      "retrieving news from: 2021-06-02 00:00:00\n",
      "retrieving news from: 2021-06-01 00:00:00\n",
      "retrieving news from: 2021-05-31 00:00:00\n",
      "retrieving news from: 2021-05-30 00:00:00\n"
     ]
    }
   ],
   "source": [
    "inflation_headlines, dates = get_headlines(\"Inflation\")"
   ]
  },
  {
   "cell_type": "code",
   "execution_count": 7,
   "metadata": {},
   "outputs": [
    {
     "output_type": "stream",
     "name": "stdout",
     "text": [
      "Fetching news about 'tesla'\n",
      "******************************\n",
      "retrieving news from: 2021-07-04 00:00:00\n",
      "retrieving news from: 2021-07-03 00:00:00\n",
      "retrieving news from: 2021-07-02 00:00:00\n",
      "retrieving news from: 2021-07-01 00:00:00\n",
      "retrieving news from: 2021-06-30 00:00:00\n",
      "retrieving news from: 2021-06-29 00:00:00\n",
      "retrieving news from: 2021-06-28 00:00:00\n",
      "retrieving news from: 2021-06-27 00:00:00\n",
      "retrieving news from: 2021-06-26 00:00:00\n",
      "retrieving news from: 2021-06-25 00:00:00\n"
     ]
    },
    {
     "output_type": "error",
     "ename": "NewsAPIException",
     "evalue": "{'status': 'error', 'code': 'rateLimited', 'message': 'You have made too many requests recently. Developer accounts are limited to 100 requests over a 24 hour period (50 requests available every 12 hours). Please upgrade to a paid plan if you need more requests.'}",
     "traceback": [
      "\u001b[0;31m---------------------------------------------------------------------------\u001b[0m",
      "\u001b[0;31mNewsAPIException\u001b[0m                          Traceback (most recent call last)",
      "\u001b[0;32m<ipython-input-7-b9282e269cbd>\u001b[0m in \u001b[0;36m<module>\u001b[0;34m\u001b[0m\n\u001b[0;32m----> 1\u001b[0;31m \u001b[0mtesla_headlines\u001b[0m\u001b[0;34m,\u001b[0m \u001b[0mdates\u001b[0m \u001b[0;34m=\u001b[0m \u001b[0mget_headlines\u001b[0m\u001b[0;34m(\u001b[0m\u001b[0;34m\"tesla\"\u001b[0m\u001b[0;34m)\u001b[0m\u001b[0;34m\u001b[0m\u001b[0;34m\u001b[0m\u001b[0m\n\u001b[0m",
      "\u001b[0;32m<ipython-input-6-ee817dada03e>\u001b[0m in \u001b[0;36mget_headlines\u001b[0;34m(keyword)\u001b[0m\n\u001b[1;32m      8\u001b[0m     \u001b[0;32mwhile\u001b[0m \u001b[0mdate\u001b[0m \u001b[0;34m>\u001b[0m \u001b[0mend_date\u001b[0m\u001b[0;34m:\u001b[0m\u001b[0;34m\u001b[0m\u001b[0;34m\u001b[0m\u001b[0m\n\u001b[1;32m      9\u001b[0m         \u001b[0mprint\u001b[0m\u001b[0;34m(\u001b[0m\u001b[0;34mf\"retrieving news from: {date}\"\u001b[0m\u001b[0;34m)\u001b[0m\u001b[0;34m\u001b[0m\u001b[0;34m\u001b[0m\u001b[0m\n\u001b[0;32m---> 10\u001b[0;31m         articles = newsapi.get_everything(\n\u001b[0m\u001b[1;32m     11\u001b[0m             \u001b[0mq\u001b[0m\u001b[0;34m=\u001b[0m\u001b[0mkeyword\u001b[0m\u001b[0;34m,\u001b[0m\u001b[0;34m\u001b[0m\u001b[0;34m\u001b[0m\u001b[0m\n\u001b[1;32m     12\u001b[0m             \u001b[0mfrom_param\u001b[0m\u001b[0;34m=\u001b[0m\u001b[0mstr\u001b[0m\u001b[0;34m(\u001b[0m\u001b[0mdate\u001b[0m\u001b[0;34m)\u001b[0m\u001b[0;34m[\u001b[0m\u001b[0;34m:\u001b[0m\u001b[0;36m10\u001b[0m\u001b[0;34m]\u001b[0m\u001b[0;34m,\u001b[0m\u001b[0;34m\u001b[0m\u001b[0;34m\u001b[0m\u001b[0m\n",
      "\u001b[0;32m~/opt/anaconda3/lib/python3.8/site-packages/newsapi/newsapi_client.py\u001b[0m in \u001b[0;36mget_everything\u001b[0;34m(self, q, qintitle, sources, domains, exclude_domains, from_param, to, language, sort_by, page, page_size)\u001b[0m\n\u001b[1;32m    324\u001b[0m         \u001b[0;31m# Check Status of Request\u001b[0m\u001b[0;34m\u001b[0m\u001b[0;34m\u001b[0m\u001b[0;34m\u001b[0m\u001b[0m\n\u001b[1;32m    325\u001b[0m         \u001b[0;32mif\u001b[0m \u001b[0mr\u001b[0m\u001b[0;34m.\u001b[0m\u001b[0mstatus_code\u001b[0m \u001b[0;34m!=\u001b[0m \u001b[0mrequests\u001b[0m\u001b[0;34m.\u001b[0m\u001b[0mcodes\u001b[0m\u001b[0;34m.\u001b[0m\u001b[0mok\u001b[0m\u001b[0;34m:\u001b[0m\u001b[0;34m\u001b[0m\u001b[0;34m\u001b[0m\u001b[0m\n\u001b[0;32m--> 326\u001b[0;31m             \u001b[0;32mraise\u001b[0m \u001b[0mNewsAPIException\u001b[0m\u001b[0;34m(\u001b[0m\u001b[0mr\u001b[0m\u001b[0;34m.\u001b[0m\u001b[0mjson\u001b[0m\u001b[0;34m(\u001b[0m\u001b[0;34m)\u001b[0m\u001b[0;34m)\u001b[0m\u001b[0;34m\u001b[0m\u001b[0;34m\u001b[0m\u001b[0m\n\u001b[0m\u001b[1;32m    327\u001b[0m \u001b[0;34m\u001b[0m\u001b[0m\n\u001b[1;32m    328\u001b[0m         \u001b[0;32mreturn\u001b[0m \u001b[0mr\u001b[0m\u001b[0;34m.\u001b[0m\u001b[0mjson\u001b[0m\u001b[0;34m(\u001b[0m\u001b[0;34m)\u001b[0m\u001b[0;34m\u001b[0m\u001b[0;34m\u001b[0m\u001b[0m\n",
      "\u001b[0;31mNewsAPIException\u001b[0m: {'status': 'error', 'code': 'rateLimited', 'message': 'You have made too many requests recently. Developer accounts are limited to 100 requests over a 24 hour period (50 requests available every 12 hours). Please upgrade to a paid plan if you need more requests.'}"
     ]
    }
   ],
   "source": [
    "tesla_headlines, dates = get_headlines(\"tesla\")"
   ]
  },
  {
   "cell_type": "code",
   "execution_count": 8,
   "metadata": {},
   "outputs": [
    {
     "output_type": "error",
     "ename": "NameError",
     "evalue": "name 'tesla_headlines' is not defined",
     "traceback": [
      "\u001b[0;31m---------------------------------------------------------------------------\u001b[0m",
      "\u001b[0;31mNameError\u001b[0m                                 Traceback (most recent call last)",
      "\u001b[0;32m<ipython-input-8-e5aba7beab14>\u001b[0m in \u001b[0;36m<module>\u001b[0;34m\u001b[0m\n\u001b[0;32m----> 1\u001b[0;31m \u001b[0mtesla_headlines\u001b[0m\u001b[0;34m.\u001b[0m\u001b[0mto_csv\u001b[0m\u001b[0;34m(\u001b[0m\u001b[0;34m\"tesla.csv\"\u001b[0m\u001b[0;34m)\u001b[0m\u001b[0;34m\u001b[0m\u001b[0;34m\u001b[0m\u001b[0m\n\u001b[0m",
      "\u001b[0;31mNameError\u001b[0m: name 'tesla_headlines' is not defined"
     ]
    }
   ],
   "source": [
    "tesla_headlines.to_csv(\"tesla.csv\")"
   ]
  },
  {
   "cell_type": "code",
   "execution_count": null,
   "metadata": {},
   "outputs": [],
   "source": []
  }
 ],
 "metadata": {
  "kernelspec": {
   "name": "python3",
   "display_name": "Python 3.8.5 64-bit ('base': conda)",
   "metadata": {
    "interpreter": {
     "hash": "11ef2bb442b8455a3e6b82f3202efe5c7a01a00a0939705f79f87b65f8f45715"
    }
   }
  },
  "language_info": {
   "codemirror_mode": {
    "name": "ipython",
    "version": 3
   },
   "file_extension": ".py",
   "mimetype": "text/x-python",
   "name": "python",
   "nbconvert_exporter": "python",
   "pygments_lexer": "ipython3",
   "version": "3.8.5"
  }
 },
 "nbformat": 4,
 "nbformat_minor": 4
}