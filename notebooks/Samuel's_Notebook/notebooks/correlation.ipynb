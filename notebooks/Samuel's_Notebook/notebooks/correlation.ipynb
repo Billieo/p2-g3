{
 "metadata": {
  "language_info": {
   "codemirror_mode": {
    "name": "ipython",
    "version": 3
   },
   "file_extension": ".py",
   "mimetype": "text/x-python",
   "name": "python",
   "nbconvert_exporter": "python",
   "pygments_lexer": "ipython3",
   "version": "3.8.5"
  },
  "orig_nbformat": 2,
  "kernelspec": {
   "name": "python3",
   "display_name": "Python 3.8.5 64-bit ('base': conda)",
   "metadata": {
    "interpreter": {
     "hash": "11ef2bb442b8455a3e6b82f3202efe5c7a01a00a0939705f79f87b65f8f45715"
    }
   }
  }
 },
 "nbformat": 4,
 "nbformat_minor": 2,
 "cells": [
  {
   "cell_type": "code",
   "execution_count": 41,
   "metadata": {},
   "outputs": [
    {
     "output_type": "stream",
     "name": "stderr",
     "text": [
      "[nltk_data] Downloading package vader_lexicon to\n[nltk_data]     /Users/samuelarciniega/nltk_data...\n[nltk_data]   Package vader_lexicon is already up-to-date!\n"
     ]
    }
   ],
   "source": [
    "import os\n",
    "import numpy as np\n",
    "import pandas as pd\n",
    "from pathlib import Path\n",
    "from dotenv import load_dotenv\n",
    "import alpaca_trade_api as tradeapi\n",
    "from newsapi import NewsApiClient\n",
    "from datetime import datetime, timedelta\n",
    "import numpy as np\n",
    "import requests\n",
    "import nltk as nltk\n",
    "nltk.download('vader_lexicon')\n",
    "from nltk.sentiment.vader import SentimentIntensityAnalyzer\n",
    "analyzer = SentimentIntensityAnalyzer()\n",
    "from nltk.corpus import stopwords, reuters\n",
    "import hvplot.pandas\n",
    "%matplotlib inline"
   ]
  },
  {
   "cell_type": "code",
   "execution_count": 42,
   "metadata": {},
   "outputs": [
    {
     "output_type": "execute_result",
     "data": {
      "text/plain": [
       "True"
      ]
     },
     "metadata": {},
     "execution_count": 42
    }
   ],
   "source": [
    "load_dotenv()"
   ]
  },
  {
   "cell_type": "code",
   "execution_count": 43,
   "metadata": {},
   "outputs": [],
   "source": [
    "alpaca_api_key = os.getenv(\"ALPACA_API_KEY\")\n",
    "alpaca_secret_key = os.getenv(\"ALPACA_SECRET_KEY\")\n",
    "alpaca = tradeapi.REST(\n",
    "    alpaca_api_key,\n",
    "    alpaca_secret_key,\n",
    "    api_version=\"v2\")\n",
    "#print(alpaca_api_key)"
   ]
  },
  {
   "cell_type": "code",
   "execution_count": 44,
   "metadata": {},
   "outputs": [],
   "source": [
    "api_key = os.getenv(\"news_api\")\n",
    "#print(api_key)"
   ]
  },
  {
   "cell_type": "code",
   "execution_count": 45,
   "metadata": {},
   "outputs": [],
   "source": [
    "newsapi = NewsApiClient(api_key=api_key)"
   ]
  },
  {
   "cell_type": "code",
   "execution_count": 46,
   "metadata": {},
   "outputs": [
    {
     "output_type": "execute_result",
     "data": {
      "text/plain": [
       "                             AAPL                                       \n",
       "                             open     high       low     close    volume\n",
       "time                                                                    \n",
       "2021-06-07 00:00:00-04:00  126.18  126.320  124.8321  125.9100  62351961\n",
       "2021-06-08 00:00:00-04:00  126.62  128.460  126.2101  126.7400  67231488\n",
       "2021-06-09 00:00:00-04:00  127.21  127.750  126.5200  127.1600  46854275\n",
       "2021-06-10 00:00:00-04:00  127.02  128.190  125.9400  126.1100  63377192\n",
       "2021-06-11 00:00:00-04:00  126.53  127.440  126.1000  127.3521  46206013\n",
       "2021-06-14 00:00:00-04:00  127.82  130.490  127.0700  130.4900  73169843\n",
       "2021-06-15 00:00:00-04:00  129.88  130.600  129.3900  129.7400  53587032\n",
       "2021-06-16 00:00:00-04:00  130.29  130.890  128.4610  130.1400  81577235\n",
       "2021-06-17 00:00:00-04:00  129.80  132.550  129.6500  131.7800  82434812\n",
       "2021-06-18 00:00:00-04:00  130.65  131.510  130.2400  130.4000  78114203\n",
       "2021-06-21 00:00:00-04:00  130.32  132.410  129.2100  132.2900  63245869\n",
       "2021-06-22 00:00:00-04:00  132.10  134.080  131.6200  133.9700  61664813\n",
       "2021-06-23 00:00:00-04:00  133.78  134.320  133.2300  133.7000  54089974\n",
       "2021-06-24 00:00:00-04:00  134.45  134.640  132.9300  133.4000  57263070\n",
       "2021-06-25 00:00:00-04:00  133.47  133.890  132.8100  133.1100  42633100\n",
       "2021-06-28 00:00:00-04:00  133.42  135.245  133.3500  134.7500  53815255\n",
       "2021-06-29 00:00:00-04:00  134.82  136.490  134.3500  136.3300  55081959\n",
       "2021-06-30 00:00:00-04:00  136.17  137.410  135.8700  136.9400  51014239\n",
       "2021-07-01 00:00:00-04:00  136.60  137.330  135.7600  137.2700  46267213\n",
       "2021-07-02 00:00:00-04:00  137.92  140.000  137.7450  139.9600  69160944"
      ],
      "text/html": "<div>\n<style scoped>\n    .dataframe tbody tr th:only-of-type {\n        vertical-align: middle;\n    }\n\n    .dataframe tbody tr th {\n        vertical-align: top;\n    }\n\n    .dataframe thead tr th {\n        text-align: left;\n    }\n\n    .dataframe thead tr:last-of-type th {\n        text-align: right;\n    }\n</style>\n<table border=\"1\" class=\"dataframe\">\n  <thead>\n    <tr>\n      <th></th>\n      <th colspan=\"5\" halign=\"left\">AAPL</th>\n    </tr>\n    <tr>\n      <th></th>\n      <th>open</th>\n      <th>high</th>\n      <th>low</th>\n      <th>close</th>\n      <th>volume</th>\n    </tr>\n    <tr>\n      <th>time</th>\n      <th></th>\n      <th></th>\n      <th></th>\n      <th></th>\n      <th></th>\n    </tr>\n  </thead>\n  <tbody>\n    <tr>\n      <th>2021-06-07 00:00:00-04:00</th>\n      <td>126.18</td>\n      <td>126.320</td>\n      <td>124.8321</td>\n      <td>125.9100</td>\n      <td>62351961</td>\n    </tr>\n    <tr>\n      <th>2021-06-08 00:00:00-04:00</th>\n      <td>126.62</td>\n      <td>128.460</td>\n      <td>126.2101</td>\n      <td>126.7400</td>\n      <td>67231488</td>\n    </tr>\n    <tr>\n      <th>2021-06-09 00:00:00-04:00</th>\n      <td>127.21</td>\n      <td>127.750</td>\n      <td>126.5200</td>\n      <td>127.1600</td>\n      <td>46854275</td>\n    </tr>\n    <tr>\n      <th>2021-06-10 00:00:00-04:00</th>\n      <td>127.02</td>\n      <td>128.190</td>\n      <td>125.9400</td>\n      <td>126.1100</td>\n      <td>63377192</td>\n    </tr>\n    <tr>\n      <th>2021-06-11 00:00:00-04:00</th>\n      <td>126.53</td>\n      <td>127.440</td>\n      <td>126.1000</td>\n      <td>127.3521</td>\n      <td>46206013</td>\n    </tr>\n    <tr>\n      <th>2021-06-14 00:00:00-04:00</th>\n      <td>127.82</td>\n      <td>130.490</td>\n      <td>127.0700</td>\n      <td>130.4900</td>\n      <td>73169843</td>\n    </tr>\n    <tr>\n      <th>2021-06-15 00:00:00-04:00</th>\n      <td>129.88</td>\n      <td>130.600</td>\n      <td>129.3900</td>\n      <td>129.7400</td>\n      <td>53587032</td>\n    </tr>\n    <tr>\n      <th>2021-06-16 00:00:00-04:00</th>\n      <td>130.29</td>\n      <td>130.890</td>\n      <td>128.4610</td>\n      <td>130.1400</td>\n      <td>81577235</td>\n    </tr>\n    <tr>\n      <th>2021-06-17 00:00:00-04:00</th>\n      <td>129.80</td>\n      <td>132.550</td>\n      <td>129.6500</td>\n      <td>131.7800</td>\n      <td>82434812</td>\n    </tr>\n    <tr>\n      <th>2021-06-18 00:00:00-04:00</th>\n      <td>130.65</td>\n      <td>131.510</td>\n      <td>130.2400</td>\n      <td>130.4000</td>\n      <td>78114203</td>\n    </tr>\n    <tr>\n      <th>2021-06-21 00:00:00-04:00</th>\n      <td>130.32</td>\n      <td>132.410</td>\n      <td>129.2100</td>\n      <td>132.2900</td>\n      <td>63245869</td>\n    </tr>\n    <tr>\n      <th>2021-06-22 00:00:00-04:00</th>\n      <td>132.10</td>\n      <td>134.080</td>\n      <td>131.6200</td>\n      <td>133.9700</td>\n      <td>61664813</td>\n    </tr>\n    <tr>\n      <th>2021-06-23 00:00:00-04:00</th>\n      <td>133.78</td>\n      <td>134.320</td>\n      <td>133.2300</td>\n      <td>133.7000</td>\n      <td>54089974</td>\n    </tr>\n    <tr>\n      <th>2021-06-24 00:00:00-04:00</th>\n      <td>134.45</td>\n      <td>134.640</td>\n      <td>132.9300</td>\n      <td>133.4000</td>\n      <td>57263070</td>\n    </tr>\n    <tr>\n      <th>2021-06-25 00:00:00-04:00</th>\n      <td>133.47</td>\n      <td>133.890</td>\n      <td>132.8100</td>\n      <td>133.1100</td>\n      <td>42633100</td>\n    </tr>\n    <tr>\n      <th>2021-06-28 00:00:00-04:00</th>\n      <td>133.42</td>\n      <td>135.245</td>\n      <td>133.3500</td>\n      <td>134.7500</td>\n      <td>53815255</td>\n    </tr>\n    <tr>\n      <th>2021-06-29 00:00:00-04:00</th>\n      <td>134.82</td>\n      <td>136.490</td>\n      <td>134.3500</td>\n      <td>136.3300</td>\n      <td>55081959</td>\n    </tr>\n    <tr>\n      <th>2021-06-30 00:00:00-04:00</th>\n      <td>136.17</td>\n      <td>137.410</td>\n      <td>135.8700</td>\n      <td>136.9400</td>\n      <td>51014239</td>\n    </tr>\n    <tr>\n      <th>2021-07-01 00:00:00-04:00</th>\n      <td>136.60</td>\n      <td>137.330</td>\n      <td>135.7600</td>\n      <td>137.2700</td>\n      <td>46267213</td>\n    </tr>\n    <tr>\n      <th>2021-07-02 00:00:00-04:00</th>\n      <td>137.92</td>\n      <td>140.000</td>\n      <td>137.7450</td>\n      <td>139.9600</td>\n      <td>69160944</td>\n    </tr>\n  </tbody>\n</table>\n</div>"
     },
     "metadata": {},
     "execution_count": 46
    }
   ],
   "source": [
    "#15Min interval\n",
    "timeframe = \"1D\"\n",
    "start_date = pd.Timestamp(datetime.now(), tz=\"America/New_York\").isoformat()\n",
    "end_date = pd.Timestamp(datetime.now()- timedelta(30), tz=\"America/New_York\").isoformat()\n",
    "\n",
    "#today = pd.Timestamp(\"2021-01-02\", tz=\"America/New_York\").isoformat()\n",
    "ticker = [\"AAPL\"]\n",
    "apple_ticker = alpaca.get_barset(\n",
    "    ticker,\n",
    "    timeframe,\n",
    "    limit=None,\n",
    "    start=end_date,\n",
    "    end=start_date,\n",
    "    after=None,\n",
    "    until=None,\n",
    ").df\n",
    "apple_ticker.dropna(inplace=True)\n",
    "apple_ticker.head(50)"
   ]
  },
  {
   "cell_type": "code",
   "execution_count": 47,
   "metadata": {},
   "outputs": [
    {
     "output_type": "execute_result",
     "data": {
      "text/plain": [
       "            Apple_Close\n",
       "2021-06-28       134.75\n",
       "2021-06-29       136.33\n",
       "2021-06-30       136.94\n",
       "2021-07-01       137.27\n",
       "2021-07-02       139.96"
      ],
      "text/html": "<div>\n<style scoped>\n    .dataframe tbody tr th:only-of-type {\n        vertical-align: middle;\n    }\n\n    .dataframe tbody tr th {\n        vertical-align: top;\n    }\n\n    .dataframe thead th {\n        text-align: right;\n    }\n</style>\n<table border=\"1\" class=\"dataframe\">\n  <thead>\n    <tr style=\"text-align: right;\">\n      <th></th>\n      <th>Apple_Close</th>\n    </tr>\n  </thead>\n  <tbody>\n    <tr>\n      <th>2021-06-28</th>\n      <td>134.75</td>\n    </tr>\n    <tr>\n      <th>2021-06-29</th>\n      <td>136.33</td>\n    </tr>\n    <tr>\n      <th>2021-06-30</th>\n      <td>136.94</td>\n    </tr>\n    <tr>\n      <th>2021-07-01</th>\n      <td>137.27</td>\n    </tr>\n    <tr>\n      <th>2021-07-02</th>\n      <td>139.96</td>\n    </tr>\n  </tbody>\n</table>\n</div>"
     },
     "metadata": {},
     "execution_count": 47
    }
   ],
   "source": [
    "apple_df = pd.DataFrame()\n",
    "apple_df[\"Apple_Close\"] = apple_ticker[\"AAPL\"][\"close\"]\n",
    "#apple_df = apple_df.pct_change().dropna()\n",
    "apple_df.index = apple_df.index.date \n",
    "apple_df.tail()"
   ]
  },
  {
   "cell_type": "code",
   "execution_count": 48,
   "metadata": {},
   "outputs": [
    {
     "output_type": "execute_result",
     "data": {
      "text/plain": [
       "            Apple_Close\n",
       "2021-06-08     0.006592\n",
       "2021-06-09     0.003314\n",
       "2021-06-10    -0.008257\n",
       "2021-06-11     0.009849\n",
       "2021-06-14     0.024640\n",
       "2021-06-15    -0.005748\n",
       "2021-06-16     0.003083\n",
       "2021-06-17     0.012602\n",
       "2021-06-18    -0.010472\n",
       "2021-06-21     0.014494\n",
       "2021-06-22     0.012699\n",
       "2021-06-23    -0.002015\n",
       "2021-06-24    -0.002244\n",
       "2021-06-25    -0.002174\n",
       "2021-06-28     0.012321\n",
       "2021-06-29     0.011725\n",
       "2021-06-30     0.004474\n",
       "2021-07-01     0.002410\n",
       "2021-07-02     0.019596"
      ],
      "text/html": "<div>\n<style scoped>\n    .dataframe tbody tr th:only-of-type {\n        vertical-align: middle;\n    }\n\n    .dataframe tbody tr th {\n        vertical-align: top;\n    }\n\n    .dataframe thead th {\n        text-align: right;\n    }\n</style>\n<table border=\"1\" class=\"dataframe\">\n  <thead>\n    <tr style=\"text-align: right;\">\n      <th></th>\n      <th>Apple_Close</th>\n    </tr>\n  </thead>\n  <tbody>\n    <tr>\n      <th>2021-06-08</th>\n      <td>0.006592</td>\n    </tr>\n    <tr>\n      <th>2021-06-09</th>\n      <td>0.003314</td>\n    </tr>\n    <tr>\n      <th>2021-06-10</th>\n      <td>-0.008257</td>\n    </tr>\n    <tr>\n      <th>2021-06-11</th>\n      <td>0.009849</td>\n    </tr>\n    <tr>\n      <th>2021-06-14</th>\n      <td>0.024640</td>\n    </tr>\n    <tr>\n      <th>2021-06-15</th>\n      <td>-0.005748</td>\n    </tr>\n    <tr>\n      <th>2021-06-16</th>\n      <td>0.003083</td>\n    </tr>\n    <tr>\n      <th>2021-06-17</th>\n      <td>0.012602</td>\n    </tr>\n    <tr>\n      <th>2021-06-18</th>\n      <td>-0.010472</td>\n    </tr>\n    <tr>\n      <th>2021-06-21</th>\n      <td>0.014494</td>\n    </tr>\n    <tr>\n      <th>2021-06-22</th>\n      <td>0.012699</td>\n    </tr>\n    <tr>\n      <th>2021-06-23</th>\n      <td>-0.002015</td>\n    </tr>\n    <tr>\n      <th>2021-06-24</th>\n      <td>-0.002244</td>\n    </tr>\n    <tr>\n      <th>2021-06-25</th>\n      <td>-0.002174</td>\n    </tr>\n    <tr>\n      <th>2021-06-28</th>\n      <td>0.012321</td>\n    </tr>\n    <tr>\n      <th>2021-06-29</th>\n      <td>0.011725</td>\n    </tr>\n    <tr>\n      <th>2021-06-30</th>\n      <td>0.004474</td>\n    </tr>\n    <tr>\n      <th>2021-07-01</th>\n      <td>0.002410</td>\n    </tr>\n    <tr>\n      <th>2021-07-02</th>\n      <td>0.019596</td>\n    </tr>\n  </tbody>\n</table>\n</div>"
     },
     "metadata": {},
     "execution_count": 48
    }
   ],
   "source": [
    "apple_returns = apple_df.pct_change().dropna()\n",
    "apple_returns.head(50)"
   ]
  },
  {
   "cell_type": "code",
   "execution_count": 49,
   "metadata": {},
   "outputs": [],
   "source": [
    "def get_headlines(keyword):\n",
    "    all_headlines = []\n",
    "    all_dates = []    \n",
    "    date = datetime.strptime(start_date[:10], \"%Y-%m-%d\")\n",
    "    past_date = datetime.strptime(end_date[:10], \"%Y-%m-%d\")\n",
    "    print(f\"Fetching news about '{keyword}'\")\n",
    "    print(\"*\" * 30)\n",
    "    while date > past_date:\n",
    "        print(f\"retrieving news from: {date}\")\n",
    "        articles = newsapi.get_everything(\n",
    "            q=keyword,\n",
    "            from_param=str(date)[:10],\n",
    "            to=str(date)[:10],\n",
    "            language=\"en\",\n",
    "            sort_by=\"relevancy\",\n",
    "            page=1,\n",
    "        )\n",
    "        headlines = []\n",
    "        for i in range(0, len(articles[\"articles\"])):\n",
    "            headlines.append(articles[\"articles\"][i][\"title\"])\n",
    "        all_headlines.append(headlines)\n",
    "        all_dates.append(date)\n",
    "        date = date - timedelta(days=1)\n",
    "        \n",
    "    return all_headlines, all_dates"
   ]
  },
  {
   "cell_type": "code",
   "execution_count": 50,
   "metadata": {
    "tags": []
   },
   "outputs": [],
   "source": [
    "#inflation_headlines, dates = get_headlines(\"inflation\")"
   ]
  },
  {
   "cell_type": "code",
   "execution_count": 51,
   "metadata": {
    "tags": []
   },
   "outputs": [
    {
     "output_type": "stream",
     "name": "stdout",
     "text": [
      "Fetching news about 'security'\n",
      "******************************\n",
      "retrieving news from: 2021-07-05 00:00:00\n",
      "retrieving news from: 2021-07-04 00:00:00\n",
      "retrieving news from: 2021-07-03 00:00:00\n",
      "retrieving news from: 2021-07-02 00:00:00\n",
      "retrieving news from: 2021-07-01 00:00:00\n",
      "retrieving news from: 2021-06-30 00:00:00\n",
      "retrieving news from: 2021-06-29 00:00:00\n",
      "retrieving news from: 2021-06-28 00:00:00\n",
      "retrieving news from: 2021-06-27 00:00:00\n",
      "retrieving news from: 2021-06-26 00:00:00\n",
      "retrieving news from: 2021-06-25 00:00:00\n"
     ]
    },
    {
     "output_type": "error",
     "ename": "NewsAPIException",
     "evalue": "{'status': 'error', 'code': 'rateLimited', 'message': 'You have made too many requests recently. Developer accounts are limited to 100 requests over a 24 hour period (50 requests available every 12 hours). Please upgrade to a paid plan if you need more requests.'}",
     "traceback": [
      "\u001b[0;31m---------------------------------------------------------------------------\u001b[0m",
      "\u001b[0;31mNewsAPIException\u001b[0m                          Traceback (most recent call last)",
      "\u001b[0;32m<ipython-input-51-4b3ae741dc33>\u001b[0m in \u001b[0;36m<module>\u001b[0;34m\u001b[0m\n\u001b[0;32m----> 1\u001b[0;31m \u001b[0mRegTech_headlines\u001b[0m\u001b[0;34m,\u001b[0m \u001b[0mdates\u001b[0m \u001b[0;34m=\u001b[0m \u001b[0mget_headlines\u001b[0m\u001b[0;34m(\u001b[0m\u001b[0;34m\"security\"\u001b[0m\u001b[0;34m)\u001b[0m\u001b[0;34m\u001b[0m\u001b[0;34m\u001b[0m\u001b[0m\n\u001b[0m",
      "\u001b[0;32m<ipython-input-49-14b713aa032e>\u001b[0m in \u001b[0;36mget_headlines\u001b[0;34m(keyword)\u001b[0m\n\u001b[1;32m      8\u001b[0m     \u001b[0;32mwhile\u001b[0m \u001b[0mdate\u001b[0m \u001b[0;34m>\u001b[0m \u001b[0mpast_date\u001b[0m\u001b[0;34m:\u001b[0m\u001b[0;34m\u001b[0m\u001b[0;34m\u001b[0m\u001b[0m\n\u001b[1;32m      9\u001b[0m         \u001b[0mprint\u001b[0m\u001b[0;34m(\u001b[0m\u001b[0;34mf\"retrieving news from: {date}\"\u001b[0m\u001b[0;34m)\u001b[0m\u001b[0;34m\u001b[0m\u001b[0;34m\u001b[0m\u001b[0m\n\u001b[0;32m---> 10\u001b[0;31m         articles = newsapi.get_everything(\n\u001b[0m\u001b[1;32m     11\u001b[0m             \u001b[0mq\u001b[0m\u001b[0;34m=\u001b[0m\u001b[0mkeyword\u001b[0m\u001b[0;34m,\u001b[0m\u001b[0;34m\u001b[0m\u001b[0;34m\u001b[0m\u001b[0m\n\u001b[1;32m     12\u001b[0m             \u001b[0mfrom_param\u001b[0m\u001b[0;34m=\u001b[0m\u001b[0mstr\u001b[0m\u001b[0;34m(\u001b[0m\u001b[0mdate\u001b[0m\u001b[0;34m)\u001b[0m\u001b[0;34m[\u001b[0m\u001b[0;34m:\u001b[0m\u001b[0;36m10\u001b[0m\u001b[0;34m]\u001b[0m\u001b[0;34m,\u001b[0m\u001b[0;34m\u001b[0m\u001b[0;34m\u001b[0m\u001b[0m\n",
      "\u001b[0;32m~/opt/anaconda3/lib/python3.8/site-packages/newsapi/newsapi_client.py\u001b[0m in \u001b[0;36mget_everything\u001b[0;34m(self, q, qintitle, sources, domains, exclude_domains, from_param, to, language, sort_by, page, page_size)\u001b[0m\n\u001b[1;32m    324\u001b[0m         \u001b[0;31m# Check Status of Request\u001b[0m\u001b[0;34m\u001b[0m\u001b[0;34m\u001b[0m\u001b[0;34m\u001b[0m\u001b[0m\n\u001b[1;32m    325\u001b[0m         \u001b[0;32mif\u001b[0m \u001b[0mr\u001b[0m\u001b[0;34m.\u001b[0m\u001b[0mstatus_code\u001b[0m \u001b[0;34m!=\u001b[0m \u001b[0mrequests\u001b[0m\u001b[0;34m.\u001b[0m\u001b[0mcodes\u001b[0m\u001b[0;34m.\u001b[0m\u001b[0mok\u001b[0m\u001b[0;34m:\u001b[0m\u001b[0;34m\u001b[0m\u001b[0;34m\u001b[0m\u001b[0m\n\u001b[0;32m--> 326\u001b[0;31m             \u001b[0;32mraise\u001b[0m \u001b[0mNewsAPIException\u001b[0m\u001b[0;34m(\u001b[0m\u001b[0mr\u001b[0m\u001b[0;34m.\u001b[0m\u001b[0mjson\u001b[0m\u001b[0;34m(\u001b[0m\u001b[0;34m)\u001b[0m\u001b[0;34m)\u001b[0m\u001b[0;34m\u001b[0m\u001b[0;34m\u001b[0m\u001b[0m\n\u001b[0m\u001b[1;32m    327\u001b[0m \u001b[0;34m\u001b[0m\u001b[0m\n\u001b[1;32m    328\u001b[0m         \u001b[0;32mreturn\u001b[0m \u001b[0mr\u001b[0m\u001b[0;34m.\u001b[0m\u001b[0mjson\u001b[0m\u001b[0;34m(\u001b[0m\u001b[0;34m)\u001b[0m\u001b[0;34m\u001b[0m\u001b[0;34m\u001b[0m\u001b[0m\n",
      "\u001b[0;31mNewsAPIException\u001b[0m: {'status': 'error', 'code': 'rateLimited', 'message': 'You have made too many requests recently. Developer accounts are limited to 100 requests over a 24 hour period (50 requests available every 12 hours). Please upgrade to a paid plan if you need more requests.'}"
     ]
    }
   ],
   "source": [
    "RegTech_headlines, dates = get_headlines(\"security\")"
   ]
  },
  {
   "cell_type": "code",
   "execution_count": 13,
   "metadata": {},
   "outputs": [],
   "source": [
    "#covid_headlines,_ = get_headlines(\"coronavirus\")"
   ]
  },
  {
   "cell_type": "code",
   "execution_count": 14,
   "metadata": {},
   "outputs": [],
   "source": [
    "sid = SentimentIntensityAnalyzer()"
   ]
  },
  {
   "cell_type": "code",
   "execution_count": 15,
   "metadata": {},
   "outputs": [],
   "source": [
    "def headline_sentiment_summarizer_avg(headlines):\n",
    "    sentiment = []\n",
    "    for day in headlines:\n",
    "        day_score = []\n",
    "        for h in day:\n",
    "            if h == None:\n",
    "                continue\n",
    "            else:\n",
    "                day_score.append(sid.polarity_scores(h)[\"compound\"])\n",
    "        sentiment.append(sum(day_score) / len(day_score))\n",
    "    return sentiment"
   ]
  },
  {
   "cell_type": "code",
   "execution_count": 16,
   "metadata": {},
   "outputs": [],
   "source": [
    "#inflation = headline_sentiment_summarizer_avg(inflation_headlines)\n",
    "regtech = headline_sentiment_summarizer_avg(RegTech_headlines)\n",
    "#regtech.to_csv(\"security.csv\")\n",
    "#covid = headline_sentiment_summarizer_avg(covid_headlines)"
   ]
  },
  {
   "cell_type": "code",
   "execution_count": 17,
   "metadata": {},
   "outputs": [
    {
     "output_type": "stream",
     "name": "stdout",
     "text": [
      "    Security_avg\n0      -0.129230\n1      -0.024340\n2      -0.185975\n3      -0.068425\n4       0.157910\n5      -0.089700\n6      -0.048560\n7       0.030735\n8      -0.031050\n9      -0.073945\n10     -0.029625\n11     -0.154075\n12      0.012780\n13      0.091980\n14      0.105125\n15      0.009300\n16      0.058350\n17     -0.098280\n18     -0.072455\n19      0.018640\n20      0.061830\n21      0.173350\n22     -0.007175\n23     -0.111010\n24      0.206090\n25     -0.083360\n26     -0.268535\n27     -0.021220\n28     -0.053740\n29     -0.267230\n"
     ]
    }
   ],
   "source": [
    "topic_sentiments = pd.DataFrame(\n",
    "    {\n",
    "        \"Security_avg\": regtech,\n",
    "    }\n",
    ")\n",
    "#\"Inflation_avg\": inflation,\n",
    "#\"Security_avg\": regtech,\n",
    "#\"Covid_avg\": covid,\n",
    "print(topic_sentiments)\n",
    "#topic_sentiments.to_csv(\"test.csv\")"
   ]
  },
  {
   "cell_type": "code",
   "execution_count": 18,
   "metadata": {},
   "outputs": [
    {
     "output_type": "display_data",
     "data": {
      "text/plain": "            Apple_Close  Security_avg\n2021-06-08     0.006592     -0.021220\n2021-06-09     0.003314     -0.268535\n2021-06-10    -0.008257     -0.083360\n2021-06-11     0.009849      0.206090\n2021-06-14     0.024640      0.173350\n2021-06-15    -0.005748      0.061830\n2021-06-16     0.003083      0.018640\n2021-06-17     0.012602     -0.072455\n2021-06-18    -0.010472     -0.098280\n2021-06-21     0.014494      0.105125\n2021-06-22     0.012699      0.091980\n2021-06-23    -0.002015      0.012780\n2021-06-24    -0.002244     -0.154075\n2021-06-25    -0.002174     -0.029625\n2021-06-28     0.012321      0.030735\n2021-06-29     0.011725     -0.048560\n2021-06-30     0.004474     -0.089700\n2021-07-01     0.002410      0.157910\n2021-07-02     0.019596     -0.068425",
      "text/html": "<div>\n<style scoped>\n    .dataframe tbody tr th:only-of-type {\n        vertical-align: middle;\n    }\n\n    .dataframe tbody tr th {\n        vertical-align: top;\n    }\n\n    .dataframe thead th {\n        text-align: right;\n    }\n</style>\n<table border=\"1\" class=\"dataframe\">\n  <thead>\n    <tr style=\"text-align: right;\">\n      <th></th>\n      <th>Apple_Close</th>\n      <th>Security_avg</th>\n    </tr>\n  </thead>\n  <tbody>\n    <tr>\n      <th>2021-06-08</th>\n      <td>0.006592</td>\n      <td>-0.021220</td>\n    </tr>\n    <tr>\n      <th>2021-06-09</th>\n      <td>0.003314</td>\n      <td>-0.268535</td>\n    </tr>\n    <tr>\n      <th>2021-06-10</th>\n      <td>-0.008257</td>\n      <td>-0.083360</td>\n    </tr>\n    <tr>\n      <th>2021-06-11</th>\n      <td>0.009849</td>\n      <td>0.206090</td>\n    </tr>\n    <tr>\n      <th>2021-06-14</th>\n      <td>0.024640</td>\n      <td>0.173350</td>\n    </tr>\n    <tr>\n      <th>2021-06-15</th>\n      <td>-0.005748</td>\n      <td>0.061830</td>\n    </tr>\n    <tr>\n      <th>2021-06-16</th>\n      <td>0.003083</td>\n      <td>0.018640</td>\n    </tr>\n    <tr>\n      <th>2021-06-17</th>\n      <td>0.012602</td>\n      <td>-0.072455</td>\n    </tr>\n    <tr>\n      <th>2021-06-18</th>\n      <td>-0.010472</td>\n      <td>-0.098280</td>\n    </tr>\n    <tr>\n      <th>2021-06-21</th>\n      <td>0.014494</td>\n      <td>0.105125</td>\n    </tr>\n    <tr>\n      <th>2021-06-22</th>\n      <td>0.012699</td>\n      <td>0.091980</td>\n    </tr>\n    <tr>\n      <th>2021-06-23</th>\n      <td>-0.002015</td>\n      <td>0.012780</td>\n    </tr>\n    <tr>\n      <th>2021-06-24</th>\n      <td>-0.002244</td>\n      <td>-0.154075</td>\n    </tr>\n    <tr>\n      <th>2021-06-25</th>\n      <td>-0.002174</td>\n      <td>-0.029625</td>\n    </tr>\n    <tr>\n      <th>2021-06-28</th>\n      <td>0.012321</td>\n      <td>0.030735</td>\n    </tr>\n    <tr>\n      <th>2021-06-29</th>\n      <td>0.011725</td>\n      <td>-0.048560</td>\n    </tr>\n    <tr>\n      <th>2021-06-30</th>\n      <td>0.004474</td>\n      <td>-0.089700</td>\n    </tr>\n    <tr>\n      <th>2021-07-01</th>\n      <td>0.002410</td>\n      <td>0.157910</td>\n    </tr>\n    <tr>\n      <th>2021-07-02</th>\n      <td>0.019596</td>\n      <td>-0.068425</td>\n    </tr>\n  </tbody>\n</table>\n</div>"
     },
     "metadata": {}
    }
   ],
   "source": [
    "import datetime\n",
    "topic_sentiments.index = pd.to_datetime(dates)\n",
    "topic_sentiments = apple_returns.join(topic_sentiments).dropna(how=\"any\")\n",
    "#topic_sentiments.to_csv(\"topic_sentiment.csv\")\n",
    "display(topic_sentiments)"
   ]
  },
  {
   "cell_type": "code",
   "execution_count": 19,
   "metadata": {},
   "outputs": [
    {
     "output_type": "execute_result",
     "data": {
      "text/plain": [
       "<pandas.io.formats.style.Styler at 0x7f9d96f04d30>"
      ],
      "text/html": "<style  type=\"text/css\" >\n#T_d5344_row0_col0,#T_d5344_row1_col1{\n            background-color:  #023858;\n            color:  #f1f1f1;\n        }#T_d5344_row0_col1,#T_d5344_row1_col0{\n            background-color:  #fff7fb;\n            color:  #000000;\n        }</style><table id=\"T_d5344_\" ><thead>    <tr>        <th class=\"blank level0\" ></th>        <th class=\"col_heading level0 col0\" >Apple_Close</th>        <th class=\"col_heading level0 col1\" >Security_avg</th>    </tr></thead><tbody>\n                <tr>\n                        <th id=\"T_d5344_level0_row0\" class=\"row_heading level0 row0\" >Apple_Close</th>\n                        <td id=\"T_d5344_row0_col0\" class=\"data row0 col0\" >1.000000</td>\n                        <td id=\"T_d5344_row0_col1\" class=\"data row0 col1\" >0.379347</td>\n            </tr>\n            <tr>\n                        <th id=\"T_d5344_level0_row1\" class=\"row_heading level0 row1\" >Security_avg</th>\n                        <td id=\"T_d5344_row1_col0\" class=\"data row1 col0\" >0.379347</td>\n                        <td id=\"T_d5344_row1_col1\" class=\"data row1 col1\" >1.000000</td>\n            </tr>\n    </tbody></table>"
     },
     "metadata": {},
     "execution_count": 19
    }
   ],
   "source": [
    "topic_sentiments.corr().style.background_gradient()"
   ]
  },
  {
   "cell_type": "code",
   "execution_count": 20,
   "metadata": {},
   "outputs": [
    {
     "output_type": "display_data",
     "data": {},
     "metadata": {}
    },
    {
     "output_type": "execute_result",
     "data": {
      "text/html": "<div id='1001'>\n\n\n\n\n\n  <div class=\"bk-root\" id=\"988f0e77-4f1b-4617-8f0e-47d62fe74037\" data-root-id=\"1001\"></div>\n</div>\n<script type=\"application/javascript\">(function(root) {\n  function embed_document(root) {\n  var docs_json = {\"91ad50af-b095-4e13-ae39-2a5dd62482ec\":{\"roots\":{\"references\":[{\"attributes\":{\"axis\":{\"id\":\"1020\"},\"dimension\":1,\"grid_line_color\":null,\"ticker\":null},\"id\":\"1023\",\"type\":\"Grid\"},{\"attributes\":{\"axis_label\":\"\",\"bounds\":\"auto\",\"formatter\":{\"id\":\"1039\"},\"major_label_orientation\":\"horizontal\",\"ticker\":{\"id\":\"1021\"}},\"id\":\"1020\",\"type\":\"LinearAxis\"},{\"attributes\":{},\"id\":\"1021\",\"type\":\"BasicTicker\"},{\"attributes\":{\"label\":{\"value\":\"Apple_Close\"},\"renderers\":[{\"id\":\"1047\"}]},\"id\":\"1068\",\"type\":\"LegendItem\"},{\"attributes\":{},\"id\":\"1070\",\"type\":\"Selection\"},{\"attributes\":{\"active_drag\":\"auto\",\"active_inspect\":\"auto\",\"active_multi\":null,\"active_scroll\":\"auto\",\"active_tap\":\"auto\",\"tools\":[{\"id\":\"1005\"},{\"id\":\"1024\"},{\"id\":\"1025\"},{\"id\":\"1026\"},{\"id\":\"1027\"},{\"id\":\"1028\"}]},\"id\":\"1030\",\"type\":\"Toolbar\"},{\"attributes\":{\"source\":{\"id\":\"1069\"}},\"id\":\"1076\",\"type\":\"CDSView\"},{\"attributes\":{},\"id\":\"1024\",\"type\":\"SaveTool\"},{\"attributes\":{},\"id\":\"1025\",\"type\":\"PanTool\"},{\"attributes\":{\"mantissas\":[1,2,5],\"max_interval\":500.0,\"num_minor_ticks\":0},\"id\":\"1054\",\"type\":\"AdaptiveTicker\"},{\"attributes\":{},\"id\":\"1026\",\"type\":\"WheelZoomTool\"},{\"attributes\":{},\"id\":\"1037\",\"type\":\"DatetimeTickFormatter\"},{\"attributes\":{\"line_color\":\"#ff7e0e\",\"line_width\":2,\"x\":{\"field\":\"index\"},\"y\":{\"field\":\"value\"}},\"id\":\"1072\",\"type\":\"Line\"},{\"attributes\":{\"overlay\":{\"id\":\"1029\"}},\"id\":\"1027\",\"type\":\"BoxZoomTool\"},{\"attributes\":{\"end\":0.2535525,\"reset_end\":0.2535525,\"reset_start\":-0.31599750000000004,\"start\":-0.31599750000000004,\"tags\":[[[\"value\",\"value\",null]]]},\"id\":\"1004\",\"type\":\"Range1d\"},{\"attributes\":{\"base\":60,\"mantissas\":[1,2,5,10,15,20,30],\"max_interval\":1800000.0,\"min_interval\":1000.0,\"num_minor_ticks\":0},\"id\":\"1055\",\"type\":\"AdaptiveTicker\"},{\"attributes\":{},\"id\":\"1028\",\"type\":\"ResetTool\"},{\"attributes\":{\"data_source\":{\"id\":\"1069\"},\"glyph\":{\"id\":\"1072\"},\"hover_glyph\":null,\"muted_glyph\":{\"id\":\"1074\"},\"nonselection_glyph\":{\"id\":\"1073\"},\"selection_glyph\":null,\"view\":{\"id\":\"1076\"}},\"id\":\"1075\",\"type\":\"GlyphRenderer\"},{\"attributes\":{\"days\":[1,2,3,4,5,6,7,8,9,10,11,12,13,14,15,16,17,18,19,20,21,22,23,24,25,26,27,28,29,30,31]},\"id\":\"1057\",\"type\":\"DaysTicker\"},{\"attributes\":{\"click_policy\":\"mute\",\"items\":[{\"id\":\"1068\"},{\"id\":\"1097\"}],\"location\":[0,0],\"title\":\"Variable\"},\"id\":\"1067\",\"type\":\"Legend\"},{\"attributes\":{\"base\":24,\"mantissas\":[1,2,4,6,8,12],\"max_interval\":43200000.0,\"min_interval\":3600000.0,\"num_minor_ticks\":0},\"id\":\"1056\",\"type\":\"AdaptiveTicker\"},{\"attributes\":{\"months\":[0,1,2,3,4,5,6,7,8,9,10,11]},\"id\":\"1061\",\"type\":\"MonthsTicker\"},{\"attributes\":{},\"id\":\"1014\",\"type\":\"LinearScale\"},{\"attributes\":{\"months\":[0,2,4,6,8,10]},\"id\":\"1062\",\"type\":\"MonthsTicker\"},{\"attributes\":{\"line_color\":\"#1f77b3\",\"line_width\":2,\"x\":{\"field\":\"index\"},\"y\":{\"field\":\"value\"}},\"id\":\"1044\",\"type\":\"Line\"},{\"attributes\":{\"days\":[1,4,7,10,13,16,19,22,25,28]},\"id\":\"1058\",\"type\":\"DaysTicker\"},{\"attributes\":{\"days\":[1,15]},\"id\":\"1060\",\"type\":\"DaysTicker\"},{\"attributes\":{\"months\":[0,6]},\"id\":\"1064\",\"type\":\"MonthsTicker\"},{\"attributes\":{\"days\":[1,8,15,22]},\"id\":\"1059\",\"type\":\"DaysTicker\"},{\"attributes\":{\"line_alpha\":0.1,\"line_color\":\"#ff7e0e\",\"line_width\":2,\"x\":{\"field\":\"index\"},\"y\":{\"field\":\"value\"}},\"id\":\"1073\",\"type\":\"Line\"},{\"attributes\":{},\"id\":\"1065\",\"type\":\"YearsTicker\"},{\"attributes\":{\"line_alpha\":0.2,\"line_color\":\"#ff7e0e\",\"line_width\":2,\"x\":{\"field\":\"index\"},\"y\":{\"field\":\"value\"}},\"id\":\"1074\",\"type\":\"Line\"},{\"attributes\":{\"data\":{\"Variable\":[\"Security_avg\",\"Security_avg\",\"Security_avg\",\"Security_avg\",\"Security_avg\",\"Security_avg\",\"Security_avg\",\"Security_avg\",\"Security_avg\",\"Security_avg\",\"Security_avg\",\"Security_avg\",\"Security_avg\",\"Security_avg\",\"Security_avg\",\"Security_avg\",\"Security_avg\",\"Security_avg\",\"Security_avg\"],\"index\":{\"__ndarray__\":\"AACAs46ed0IAAEAZ4Z53QgAAAH8zn3dCAADA5IWfd0IAAAAWfaB3QgAAwHvPoHdCAACA4SGhd0IAAEBHdKF3QgAAAK3GoXdCAABA3r2id0IAAABEEKN3QgAAwKlio3dCAACAD7Wjd0IAAEB1B6R3QgAAgKb+pHdCAABADFGld0IAAAByo6V3QgAAwNf1pXdCAACAPUimd0I=\",\"dtype\":\"float64\",\"shape\":[19]},\"value\":{\"__ndarray__\":\"eqAVGLK6lb8BNbVsrS/Rv0toy7kUV7W/jS0EOShhyj8efGEyVTDGP7bH0ocuqK8/hfqWOV0Wkz+Vgm4vaYyyv0bT2cngKLm/tvP91Hjpuj8i1uJTAIy3P3vRV5BmLIo/KssQx7q4w7+6dJMYBFaevw3IXu/+eJ8/6prJN9vcqL/ZgXNGlPa2v9gN2xZlNsQ/o5I6AU2Esb8=\",\"dtype\":\"float64\",\"shape\":[19]}},\"selected\":{\"id\":\"1070\"},\"selection_policy\":{\"id\":\"1119\"}},\"id\":\"1069\",\"type\":\"ColumnDataSource\"},{\"attributes\":{},\"id\":\"1119\",\"type\":\"UnionRenderers\"},{\"attributes\":{\"source\":{\"id\":\"1041\"}},\"id\":\"1048\",\"type\":\"CDSView\"},{\"attributes\":{\"months\":[0,4,8]},\"id\":\"1063\",\"type\":\"MonthsTicker\"},{\"attributes\":{},\"id\":\"1012\",\"type\":\"LinearScale\"},{\"attributes\":{\"end\":1625184000000.0,\"reset_end\":1625184000000.0,\"reset_start\":1623110400000.0,\"start\":1623110400000.0,\"tags\":[[[\"index\",\"index\",null]]]},\"id\":\"1003\",\"type\":\"Range1d\"},{\"attributes\":{\"data_source\":{\"id\":\"1041\"},\"glyph\":{\"id\":\"1044\"},\"hover_glyph\":null,\"muted_glyph\":{\"id\":\"1046\"},\"nonselection_glyph\":{\"id\":\"1045\"},\"selection_glyph\":null,\"view\":{\"id\":\"1048\"}},\"id\":\"1047\",\"type\":\"GlyphRenderer\"},{\"attributes\":{\"label\":{\"value\":\"Security_avg\"},\"renderers\":[{\"id\":\"1075\"}]},\"id\":\"1097\",\"type\":\"LegendItem\"},{\"attributes\":{\"axis\":{\"id\":\"1016\"},\"grid_line_color\":null,\"ticker\":null},\"id\":\"1019\",\"type\":\"Grid\"},{\"attributes\":{},\"id\":\"1039\",\"type\":\"BasicTickFormatter\"},{\"attributes\":{},\"id\":\"1042\",\"type\":\"Selection\"},{\"attributes\":{\"children\":[{\"id\":\"1002\"},{\"id\":\"1007\"},{\"id\":\"1274\"}],\"margin\":[0,0,0,0],\"name\":\"Row01543\",\"tags\":[\"embedded\"]},\"id\":\"1001\",\"type\":\"Row\"},{\"attributes\":{\"num_minor_ticks\":5,\"tickers\":[{\"id\":\"1054\"},{\"id\":\"1055\"},{\"id\":\"1056\"},{\"id\":\"1057\"},{\"id\":\"1058\"},{\"id\":\"1059\"},{\"id\":\"1060\"},{\"id\":\"1061\"},{\"id\":\"1062\"},{\"id\":\"1063\"},{\"id\":\"1064\"},{\"id\":\"1065\"}]},\"id\":\"1017\",\"type\":\"DatetimeTicker\"},{\"attributes\":{\"bottom_units\":\"screen\",\"fill_alpha\":0.5,\"fill_color\":\"lightgrey\",\"left_units\":\"screen\",\"level\":\"overlay\",\"line_alpha\":1.0,\"line_color\":\"black\",\"line_dash\":[4,4],\"line_width\":2,\"render_mode\":\"css\",\"right_units\":\"screen\",\"top_units\":\"screen\"},\"id\":\"1029\",\"type\":\"BoxAnnotation\"},{\"attributes\":{\"callback\":null,\"formatters\":{\"@{index}\":\"datetime\"},\"renderers\":[{\"id\":\"1047\"},{\"id\":\"1075\"}],\"tags\":[\"hv_created\"],\"tooltips\":[[\"Variable\",\"@{Variable}\"],[\"index\",\"@{index}{%F %T}\"],[\"value\",\"@{value}\"]]},\"id\":\"1005\",\"type\":\"HoverTool\"},{\"attributes\":{\"below\":[{\"id\":\"1016\"}],\"center\":[{\"id\":\"1019\"},{\"id\":\"1023\"}],\"left\":[{\"id\":\"1020\"}],\"margin\":null,\"min_border_bottom\":10,\"min_border_left\":10,\"min_border_right\":10,\"min_border_top\":10,\"plot_height\":300,\"plot_width\":700,\"renderers\":[{\"id\":\"1047\"},{\"id\":\"1075\"}],\"right\":[{\"id\":\"1067\"}],\"sizing_mode\":\"fixed\",\"title\":{\"id\":\"1008\"},\"toolbar\":{\"id\":\"1030\"},\"x_range\":{\"id\":\"1003\"},\"x_scale\":{\"id\":\"1012\"},\"y_range\":{\"id\":\"1004\"},\"y_scale\":{\"id\":\"1014\"}},\"id\":\"1007\",\"subtype\":\"Figure\",\"type\":\"Plot\"},{\"attributes\":{\"line_alpha\":0.2,\"line_color\":\"#1f77b3\",\"line_width\":2,\"x\":{\"field\":\"index\"},\"y\":{\"field\":\"value\"}},\"id\":\"1046\",\"type\":\"Line\"},{\"attributes\":{\"text\":\"\",\"text_color\":{\"value\":\"black\"},\"text_font_size\":{\"value\":\"12pt\"}},\"id\":\"1008\",\"type\":\"Title\"},{\"attributes\":{\"margin\":[5,5,5,5],\"name\":\"HSpacer01547\",\"sizing_mode\":\"stretch_width\"},\"id\":\"1002\",\"type\":\"Spacer\"},{\"attributes\":{\"data\":{\"Variable\":[\"Apple_Close\",\"Apple_Close\",\"Apple_Close\",\"Apple_Close\",\"Apple_Close\",\"Apple_Close\",\"Apple_Close\",\"Apple_Close\",\"Apple_Close\",\"Apple_Close\",\"Apple_Close\",\"Apple_Close\",\"Apple_Close\",\"Apple_Close\",\"Apple_Close\",\"Apple_Close\",\"Apple_Close\",\"Apple_Close\",\"Apple_Close\"],\"index\":{\"__ndarray__\":\"AACAs46ed0IAAEAZ4Z53QgAAAH8zn3dCAADA5IWfd0IAAAAWfaB3QgAAwHvPoHdCAACA4SGhd0IAAEBHdKF3QgAAAK3GoXdCAABA3r2id0IAAABEEKN3QgAAwKlio3dCAACAD7Wjd0IAAEB1B6R3QgAAgKb+pHdCAABADFGld0IAAAByo6V3QgAAwNf1pXdCAACAPUimd0I=\",\"dtype\":\"float64\",\"shape\":[19]},\"value\":{\"__ndarray__\":\"AM4+QTkAez8AYMDmsCVrP4CnoN816YC/gF+kwOMrhD/AEMwIHTuZP4D4WrvCine/AES68LRBaT+ApXnE+s6JP8DUeOJXcoW/gCRlovWujT+A5qXvIAKKPwDakg+NgmC/AMj7xaZhYr8AgaKtBs9hv4D2JuqPO4k/gNl7434DiD8AFT2LyVNyPwAAUlG/vWM/wL5PNBURlD8=\",\"dtype\":\"float64\",\"shape\":[19]}},\"selected\":{\"id\":\"1042\"},\"selection_policy\":{\"id\":\"1096\"}},\"id\":\"1041\",\"type\":\"ColumnDataSource\"},{\"attributes\":{\"line_alpha\":0.1,\"line_color\":\"#1f77b3\",\"line_width\":2,\"x\":{\"field\":\"index\"},\"y\":{\"field\":\"value\"}},\"id\":\"1045\",\"type\":\"Line\"},{\"attributes\":{},\"id\":\"1096\",\"type\":\"UnionRenderers\"},{\"attributes\":{\"axis_label\":\"\",\"bounds\":\"auto\",\"formatter\":{\"id\":\"1037\"},\"major_label_orientation\":\"horizontal\",\"ticker\":{\"id\":\"1017\"}},\"id\":\"1016\",\"type\":\"DatetimeAxis\"},{\"attributes\":{\"margin\":[5,5,5,5],\"name\":\"HSpacer01548\",\"sizing_mode\":\"stretch_width\"},\"id\":\"1274\",\"type\":\"Spacer\"}],\"root_ids\":[\"1001\"]},\"title\":\"Bokeh Application\",\"version\":\"2.0.2\"}};\n  var render_items = [{\"docid\":\"91ad50af-b095-4e13-ae39-2a5dd62482ec\",\"root_ids\":[\"1001\"],\"roots\":{\"1001\":\"988f0e77-4f1b-4617-8f0e-47d62fe74037\"}}];\n  root.Bokeh.embed.embed_items_notebook(docs_json, render_items);\n  }\nif (root.Bokeh !== undefined) {\n    embed_document(root);\n  } else {\n    var attempts = 0;\n    var timer = setInterval(function(root) {\n      if (root.Bokeh !== undefined) {\n        clearInterval(timer);\n        embed_document(root);\n      } else if (document.readyState == \"complete\") {\n        attempts++;\n        if (attempts > 100) {\n          clearInterval(timer);\n          console.log(\"Bokeh: ERROR: Unable to run BokehJS code because BokehJS library is missing\");\n        }\n      }\n    }, 10, root)\n  }\n})(window);</script>",
      "application/vnd.holoviews_exec.v0+json": "",
      "text/plain": [
       ":NdOverlay   [Variable]\n",
       "   :Curve   [index]   (value)"
      ]
     },
     "metadata": {
      "application/vnd.holoviews_exec.v0+json": {
       "id": "1001"
      }
     },
     "execution_count": 20
    }
   ],
   "source": [
    "topic_sentiments.hvplot.line(figsize=(20,10))"
   ]
  },
  {
   "cell_type": "code",
   "execution_count": 37,
   "metadata": {},
   "outputs": [],
   "source": [
    "def window_data(df, window, feature_col_number, target_col_number):\n",
    "    X = []\n",
    "    y = []\n",
    "    for i in range(len(df) - window - 1):\n",
    "        features = df.iloc[i:(i + window), feature_col_number]\n",
    "        target = df.iloc[(i + window), target_col_number]\n",
    "        X.append(features)\n",
    "        y.append(target)\n",
    "    return np.array(X), np.array(y).reshape(-1, 1)"
   ]
  },
  {
   "cell_type": "code",
   "execution_count": 38,
   "metadata": {},
   "outputs": [],
   "source": [
    "window_size = 1\n",
    "feature_column = 0\n",
    "target_column = 1\n",
    "X, y = window_data(topic_sentiments, window_size, feature_column, target_column)\n",
    "#topic_sentiments.head()"
   ]
  },
  {
   "cell_type": "code",
   "execution_count": 39,
   "metadata": {},
   "outputs": [],
   "source": [
    "split = int(0.7 * len(X))\n",
    "X_train = X[: split]\n",
    "X_test = X[split :]\n",
    "y_train = y[: split]\n",
    "y_test = y[split :]"
   ]
  },
  {
   "cell_type": "code",
   "execution_count": 40,
   "metadata": {},
   "outputs": [],
   "source": [
    "from sklearn.preprocessing import MinMaxScaler\n",
    "scaler = MinMaxScaler()\n",
    "scaler.fit(X)\n",
    "X_train = scaler.transform(X_train)\n",
    "X_test = scaler.transform(X_test)\n",
    "scaler.fit(y)\n",
    "y_train = scaler.transform(y_train)\n",
    "y_test = scaler.transform(y_test)"
   ]
  },
  {
   "cell_type": "code",
   "execution_count": 25,
   "metadata": {},
   "outputs": [
    {
     "output_type": "stream",
     "name": "stdout",
     "text": [
      "X_train sample values:\n[[[0.48599403]]\n\n [[0.3926305 ]]\n\n [[0.06307567]]\n\n [[0.57876483]]\n\n [[1.        ]]]\n\nX_test sample values:\n[[[0.24085008]]\n\n [[0.23434359]]\n\n [[0.23633486]]\n\n [[0.64914903]]\n\n [[0.63219679]]]\n"
     ]
    }
   ],
   "source": [
    "X_train = X_train.reshape((X_train.shape[0], X_train.shape[1], 1))\n",
    "X_test = X_test.reshape((X_test.shape[0], X_test.shape[1], 1))\n",
    "print(f\"X_train sample values:\\n{X_train[:5]}\\n\")\n",
    "print(f\"X_test sample values:\\n{X_test[:5]}\")"
   ]
  },
  {
   "cell_type": "code",
   "execution_count": 26,
   "metadata": {},
   "outputs": [],
   "source": [
    "from tensorflow.keras.models import Sequential\n",
    "from tensorflow.keras.layers import LSTM, Dense, Dropout"
   ]
  },
  {
   "cell_type": "code",
   "execution_count": 27,
   "metadata": {},
   "outputs": [],
   "source": [
    "model = Sequential()\n",
    "number_units = 5 \n",
    "dropout_fraction = .2\n",
    "\n",
    "#Layer1\n",
    "model.add(LSTM(units=number_units, return_sequences=True, input_shape=(X_train.shape[1], 1)))\n",
    "model.add(Dropout(dropout_fraction))\n",
    "#Layer2\n",
    "model.add(LSTM(units=number_units, return_sequences=True))\n",
    "model.add(Dropout(dropout_fraction))\n",
    "#Layer3\n",
    "model.add(LSTM(units=number_units))\n",
    "model.add(Dropout(dropout_fraction))\n",
    "#Output Layer\n",
    "model.add(Dense(1))"
   ]
  },
  {
   "cell_type": "code",
   "execution_count": 28,
   "metadata": {},
   "outputs": [],
   "source": [
    "model.compile(optimizer=\"adam\", loss=\"mean_squared_error\")"
   ]
  },
  {
   "cell_type": "code",
   "execution_count": 29,
   "metadata": {},
   "outputs": [
    {
     "output_type": "stream",
     "name": "stdout",
     "text": [
      "Model: \"sequential\"\n_________________________________________________________________\nLayer (type)                 Output Shape              Param #   \n=================================================================\nlstm (LSTM)                  (None, 1, 5)              140       \n_________________________________________________________________\ndropout (Dropout)            (None, 1, 5)              0         \n_________________________________________________________________\nlstm_1 (LSTM)                (None, 1, 5)              220       \n_________________________________________________________________\ndropout_1 (Dropout)          (None, 1, 5)              0         \n_________________________________________________________________\nlstm_2 (LSTM)                (None, 5)                 220       \n_________________________________________________________________\ndropout_2 (Dropout)          (None, 5)                 0         \n_________________________________________________________________\ndense (Dense)                (None, 1)                 6         \n=================================================================\nTotal params: 586\nTrainable params: 586\nNon-trainable params: 0\n_________________________________________________________________\n"
     ]
    }
   ],
   "source": [
    "model.summary()"
   ]
  },
  {
   "cell_type": "code",
   "execution_count": 30,
   "metadata": {},
   "outputs": [
    {
     "output_type": "stream",
     "name": "stdout",
     "text": [
      "Epoch 1/10\n",
      "11/11 [==============================] - 3s 3ms/step - loss: 0.4241 \n",
      "Epoch 2/10\n",
      "11/11 [==============================] - 0s 2ms/step - loss: 0.4062\n",
      "Epoch 3/10\n",
      "11/11 [==============================] - 0s 3ms/step - loss: 0.3871\n",
      "Epoch 4/10\n",
      "11/11 [==============================] - 0s 4ms/step - loss: 0.3715\n",
      "Epoch 5/10\n",
      "11/11 [==============================] - 0s 2ms/step - loss: 0.3469\n",
      "Epoch 6/10\n",
      "11/11 [==============================] - 0s 3ms/step - loss: 0.3287\n",
      "Epoch 7/10\n",
      "11/11 [==============================] - 0s 3ms/step - loss: 0.3096\n",
      "Epoch 8/10\n",
      "11/11 [==============================] - 0s 2ms/step - loss: 0.2870\n",
      "Epoch 9/10\n",
      "11/11 [==============================] - 0s 2ms/step - loss: 0.2759\n",
      "Epoch 10/10\n",
      "11/11 [==============================] - 0s 2ms/step - loss: 0.2580\n"
     ]
    },
    {
     "output_type": "execute_result",
     "data": {
      "text/plain": [
       "<tensorflow.python.keras.callbacks.History at 0x7f9d7ce87370>"
      ]
     },
     "metadata": {},
     "execution_count": 30
    }
   ],
   "source": [
    "model.fit(X_train, y_train, epochs=10, shuffle=False, batch_size=1, verbose=1)"
   ]
  },
  {
   "cell_type": "code",
   "execution_count": 31,
   "metadata": {},
   "outputs": [
    {
     "output_type": "stream",
     "name": "stdout",
     "text": [
      "1/1 [==============================] - 1s 898ms/step - loss: 0.1564\n"
     ]
    },
    {
     "output_type": "execute_result",
     "data": {
      "text/plain": [
       "0.15635451674461365"
      ]
     },
     "metadata": {},
     "execution_count": 31
    }
   ],
   "source": [
    "model.evaluate(X_test, y_test)  "
   ]
  },
  {
   "cell_type": "code",
   "execution_count": 32,
   "metadata": {},
   "outputs": [],
   "source": [
    "predicted = model.predict(X_test)"
   ]
  },
  {
   "cell_type": "code",
   "execution_count": 33,
   "metadata": {},
   "outputs": [],
   "source": [
    "predicted_prices = scaler.inverse_transform(predicted)\n",
    "real_prices = scaler.inverse_transform(y_test.reshape(-1, 1))"
   ]
  },
  {
   "cell_type": "code",
   "execution_count": 34,
   "metadata": {},
   "outputs": [
    {
     "output_type": "execute_result",
     "data": {
      "text/plain": [
       "                Real  Predicted\n",
       "2021-06-25 -0.154075  -0.182663\n",
       "2021-06-28 -0.029625  -0.182685\n",
       "2021-06-29  0.030735  -0.182678\n",
       "2021-06-30 -0.048560  -0.181224\n",
       "2021-07-01 -0.089700  -0.181285\n",
       "2021-07-02  0.157910  -0.182022"
      ],
      "text/html": "<div>\n<style scoped>\n    .dataframe tbody tr th:only-of-type {\n        vertical-align: middle;\n    }\n\n    .dataframe tbody tr th {\n        vertical-align: top;\n    }\n\n    .dataframe thead th {\n        text-align: right;\n    }\n</style>\n<table border=\"1\" class=\"dataframe\">\n  <thead>\n    <tr style=\"text-align: right;\">\n      <th></th>\n      <th>Real</th>\n      <th>Predicted</th>\n    </tr>\n  </thead>\n  <tbody>\n    <tr>\n      <th>2021-06-25</th>\n      <td>-0.154075</td>\n      <td>-0.182663</td>\n    </tr>\n    <tr>\n      <th>2021-06-28</th>\n      <td>-0.029625</td>\n      <td>-0.182685</td>\n    </tr>\n    <tr>\n      <th>2021-06-29</th>\n      <td>0.030735</td>\n      <td>-0.182678</td>\n    </tr>\n    <tr>\n      <th>2021-06-30</th>\n      <td>-0.048560</td>\n      <td>-0.181224</td>\n    </tr>\n    <tr>\n      <th>2021-07-01</th>\n      <td>-0.089700</td>\n      <td>-0.181285</td>\n    </tr>\n    <tr>\n      <th>2021-07-02</th>\n      <td>0.157910</td>\n      <td>-0.182022</td>\n    </tr>\n  </tbody>\n</table>\n</div>"
     },
     "metadata": {},
     "execution_count": 34
    }
   ],
   "source": [
    "stocks = pd.DataFrame({\n",
    "    \"Real\": real_prices.ravel(),\n",
    "    \"Predicted\": predicted_prices.ravel()\n",
    "}, index = topic_sentiments.index[-len(real_prices): ]) \n",
    "stocks.head(100)"
   ]
  },
  {
   "cell_type": "code",
   "execution_count": 36,
   "metadata": {},
   "outputs": [
    {
     "output_type": "display_data",
     "data": {},
     "metadata": {}
    },
    {
     "output_type": "execute_result",
     "data": {
      "text/html": "<div id='1771'>\n\n\n\n\n\n  <div class=\"bk-root\" id=\"0de40612-a01e-4d23-8de8-9e2202068659\" data-root-id=\"1771\"></div>\n</div>\n<script type=\"application/javascript\">(function(root) {\n  function embed_document(root) {\n  var docs_json = {\"42eaf680-85d4-41a4-8ecb-1caa8f141137\":{\"roots\":{\"references\":[{\"attributes\":{\"children\":[{\"id\":\"1772\"},{\"id\":\"1777\"},{\"id\":\"2044\"}],\"margin\":[0,0,0,0],\"name\":\"Row02433\",\"tags\":[\"embedded\"]},\"id\":\"1771\",\"type\":\"Row\"},{\"attributes\":{\"callback\":null,\"formatters\":{\"@{index}\":\"datetime\"},\"renderers\":[{\"id\":\"1817\"},{\"id\":\"1845\"}],\"tags\":[\"hv_created\"],\"tooltips\":[[\"Variable\",\"@{Variable}\"],[\"index\",\"@{index}{%F %T}\"],[\"value\",\"@{value}\"]]},\"id\":\"1775\",\"type\":\"HoverTool\"},{\"attributes\":{\"text\":\"\",\"text_color\":{\"value\":\"black\"},\"text_font_size\":{\"value\":\"12pt\"}},\"id\":\"1778\",\"type\":\"Title\"},{\"attributes\":{\"label\":{\"value\":\"Predicted\"},\"renderers\":[{\"id\":\"1845\"}]},\"id\":\"1867\",\"type\":\"LegendItem\"},{\"attributes\":{\"bottom_units\":\"screen\",\"fill_alpha\":0.5,\"fill_color\":\"lightgrey\",\"left_units\":\"screen\",\"level\":\"overlay\",\"line_alpha\":1.0,\"line_color\":\"black\",\"line_dash\":[4,4],\"line_width\":2,\"render_mode\":\"css\",\"right_units\":\"screen\",\"top_units\":\"screen\"},\"id\":\"1799\",\"type\":\"BoxAnnotation\"},{\"attributes\":{\"num_minor_ticks\":5,\"tickers\":[{\"id\":\"1824\"},{\"id\":\"1825\"},{\"id\":\"1826\"},{\"id\":\"1827\"},{\"id\":\"1828\"},{\"id\":\"1829\"},{\"id\":\"1830\"},{\"id\":\"1831\"},{\"id\":\"1832\"},{\"id\":\"1833\"},{\"id\":\"1834\"},{\"id\":\"1835\"}]},\"id\":\"1787\",\"type\":\"DatetimeTicker\"},{\"attributes\":{\"below\":[{\"id\":\"1786\"}],\"center\":[{\"id\":\"1789\"},{\"id\":\"1793\"}],\"left\":[{\"id\":\"1790\"}],\"margin\":null,\"min_border_bottom\":10,\"min_border_left\":10,\"min_border_right\":10,\"min_border_top\":10,\"plot_height\":300,\"plot_width\":700,\"renderers\":[{\"id\":\"1817\"},{\"id\":\"1845\"}],\"right\":[{\"id\":\"1837\"}],\"sizing_mode\":\"fixed\",\"title\":{\"id\":\"1778\"},\"toolbar\":{\"id\":\"1800\"},\"x_range\":{\"id\":\"1773\"},\"x_scale\":{\"id\":\"1782\"},\"y_range\":{\"id\":\"1774\"},\"y_scale\":{\"id\":\"1784\"}},\"id\":\"1777\",\"subtype\":\"Figure\",\"type\":\"Plot\"},{\"attributes\":{\"margin\":[5,5,5,5],\"name\":\"HSpacer02438\",\"sizing_mode\":\"stretch_width\"},\"id\":\"2044\",\"type\":\"Spacer\"},{\"attributes\":{\"end\":1625184000000.0,\"reset_end\":1625184000000.0,\"reset_start\":1624579200000.0,\"start\":1624579200000.0,\"tags\":[[[\"index\",\"index\",null]]]},\"id\":\"1773\",\"type\":\"Range1d\"},{\"attributes\":{},\"id\":\"1866\",\"type\":\"UnionRenderers\"},{\"attributes\":{},\"id\":\"1784\",\"type\":\"LinearScale\"},{\"attributes\":{},\"id\":\"1807\",\"type\":\"DatetimeTickFormatter\"},{\"attributes\":{},\"id\":\"1796\",\"type\":\"WheelZoomTool\"},{\"attributes\":{},\"id\":\"1782\",\"type\":\"LinearScale\"},{\"attributes\":{},\"id\":\"1795\",\"type\":\"PanTool\"},{\"attributes\":{\"axis\":{\"id\":\"1786\"},\"grid_line_color\":null,\"ticker\":null},\"id\":\"1789\",\"type\":\"Grid\"},{\"attributes\":{\"axis\":{\"id\":\"1790\"},\"dimension\":1,\"grid_line_color\":null,\"ticker\":null},\"id\":\"1793\",\"type\":\"Grid\"},{\"attributes\":{},\"id\":\"1791\",\"type\":\"BasicTicker\"},{\"attributes\":{},\"id\":\"1794\",\"type\":\"SaveTool\"},{\"attributes\":{\"axis_label\":\"Date\",\"bounds\":\"auto\",\"formatter\":{\"id\":\"1807\"},\"major_label_orientation\":\"horizontal\",\"ticker\":{\"id\":\"1787\"}},\"id\":\"1786\",\"type\":\"DatetimeAxis\"},{\"attributes\":{\"data\":{\"Variable\":[\"Predicted\",\"Predicted\",\"Predicted\",\"Predicted\",\"Predicted\",\"Predicted\"],\"index\":{\"__ndarray__\":\"AABAdQekd0IAAICm/qR3QgAAQAxRpXdCAAAAcqOld0IAAMDX9aV3QgAAgD1IpndC\",\"dtype\":\"float64\",\"shape\":[6]},\"value\":{\"__ndarray__\":\"AAw7vtERO74JEDu+vJI5vr+iOb7ZYzq+\",\"dtype\":\"float32\",\"shape\":[6]}},\"selected\":{\"id\":\"1840\"},\"selection_policy\":{\"id\":\"1889\"}},\"id\":\"1839\",\"type\":\"ColumnDataSource\"},{\"attributes\":{\"margin\":[5,5,5,5],\"name\":\"HSpacer02437\",\"sizing_mode\":\"stretch_width\"},\"id\":\"1772\",\"type\":\"Spacer\"},{\"attributes\":{\"line_color\":\"#1f77b3\",\"line_width\":2,\"x\":{\"field\":\"index\"},\"y\":{\"field\":\"value\"}},\"id\":\"1814\",\"type\":\"Line\"},{\"attributes\":{\"mantissas\":[1,2,5],\"max_interval\":500.0,\"num_minor_ticks\":0},\"id\":\"1824\",\"type\":\"AdaptiveTicker\"},{\"attributes\":{},\"id\":\"1840\",\"type\":\"Selection\"},{\"attributes\":{\"base\":60,\"mantissas\":[1,2,5,10,15,20,30],\"max_interval\":1800000.0,\"min_interval\":1000.0,\"num_minor_ticks\":0},\"id\":\"1825\",\"type\":\"AdaptiveTicker\"},{\"attributes\":{\"source\":{\"id\":\"1839\"}},\"id\":\"1846\",\"type\":\"CDSView\"},{\"attributes\":{\"overlay\":{\"id\":\"1799\"}},\"id\":\"1797\",\"type\":\"BoxZoomTool\"},{\"attributes\":{\"days\":[1,2,3,4,5,6,7,8,9,10,11,12,13,14,15,16,17,18,19,20,21,22,23,24,25,26,27,28,29,30,31]},\"id\":\"1827\",\"type\":\"DaysTicker\"},{\"attributes\":{},\"id\":\"1889\",\"type\":\"UnionRenderers\"},{\"attributes\":{},\"id\":\"1798\",\"type\":\"ResetTool\"},{\"attributes\":{\"base\":24,\"mantissas\":[1,2,4,6,8,12],\"max_interval\":43200000.0,\"min_interval\":3600000.0,\"num_minor_ticks\":0},\"id\":\"1826\",\"type\":\"AdaptiveTicker\"},{\"attributes\":{},\"id\":\"1809\",\"type\":\"BasicTickFormatter\"},{\"attributes\":{\"active_drag\":\"auto\",\"active_inspect\":\"auto\",\"active_multi\":null,\"active_scroll\":\"auto\",\"active_tap\":\"auto\",\"tools\":[{\"id\":\"1775\"},{\"id\":\"1794\"},{\"id\":\"1795\"},{\"id\":\"1796\"},{\"id\":\"1797\"},{\"id\":\"1798\"}]},\"id\":\"1800\",\"type\":\"Toolbar\"},{\"attributes\":{\"line_color\":\"#ff7e0e\",\"line_width\":2,\"x\":{\"field\":\"index\"},\"y\":{\"field\":\"value\"}},\"id\":\"1842\",\"type\":\"Line\"},{\"attributes\":{\"months\":[0,1,2,3,4,5,6,7,8,9,10,11]},\"id\":\"1831\",\"type\":\"MonthsTicker\"},{\"attributes\":{\"months\":[0,2,4,6,8,10]},\"id\":\"1832\",\"type\":\"MonthsTicker\"},{\"attributes\":{\"data_source\":{\"id\":\"1839\"},\"glyph\":{\"id\":\"1842\"},\"hover_glyph\":null,\"muted_glyph\":{\"id\":\"1844\"},\"nonselection_glyph\":{\"id\":\"1843\"},\"selection_glyph\":null,\"view\":{\"id\":\"1846\"}},\"id\":\"1845\",\"type\":\"GlyphRenderer\"},{\"attributes\":{\"days\":[1,4,7,10,13,16,19,22,25,28]},\"id\":\"1828\",\"type\":\"DaysTicker\"},{\"attributes\":{\"source\":{\"id\":\"1811\"}},\"id\":\"1818\",\"type\":\"CDSView\"},{\"attributes\":{\"line_alpha\":0.1,\"line_color\":\"#ff7e0e\",\"line_width\":2,\"x\":{\"field\":\"index\"},\"y\":{\"field\":\"value\"}},\"id\":\"1843\",\"type\":\"Line\"},{\"attributes\":{\"data_source\":{\"id\":\"1811\"},\"glyph\":{\"id\":\"1814\"},\"hover_glyph\":null,\"muted_glyph\":{\"id\":\"1816\"},\"nonselection_glyph\":{\"id\":\"1815\"},\"selection_glyph\":null,\"view\":{\"id\":\"1818\"}},\"id\":\"1817\",\"type\":\"GlyphRenderer\"},{\"attributes\":{\"data\":{\"Variable\":[\"Real\",\"Real\",\"Real\",\"Real\",\"Real\",\"Real\"],\"index\":{\"__ndarray__\":\"AABAdQekd0IAAICm/qR3QgAAQAxRpXdCAAAAcqOld0IAAMDX9aV3QgAAgD1IpndC\",\"dtype\":\"float64\",\"shape\":[6]},\"value\":{\"__ndarray__\":\"KssQx7q4w7+9dJMYBFaevwvIXu/+eJ8/6prJN9vcqL/YgXNGlPa2v9kN2xZlNsQ/\",\"dtype\":\"float64\",\"shape\":[6]}},\"selected\":{\"id\":\"1812\"},\"selection_policy\":{\"id\":\"1866\"}},\"id\":\"1811\",\"type\":\"ColumnDataSource\"},{\"attributes\":{\"days\":[1,15]},\"id\":\"1830\",\"type\":\"DaysTicker\"},{\"attributes\":{\"months\":[0,6]},\"id\":\"1834\",\"type\":\"MonthsTicker\"},{\"attributes\":{},\"id\":\"1812\",\"type\":\"Selection\"},{\"attributes\":{\"days\":[1,8,15,22]},\"id\":\"1829\",\"type\":\"DaysTicker\"},{\"attributes\":{},\"id\":\"1835\",\"type\":\"YearsTicker\"},{\"attributes\":{\"line_alpha\":0.1,\"line_color\":\"#1f77b3\",\"line_width\":2,\"x\":{\"field\":\"index\"},\"y\":{\"field\":\"value\"}},\"id\":\"1815\",\"type\":\"Line\"},{\"attributes\":{\"label\":{\"value\":\"Real\"},\"renderers\":[{\"id\":\"1817\"}]},\"id\":\"1838\",\"type\":\"LegendItem\"},{\"attributes\":{\"months\":[0,4,8]},\"id\":\"1833\",\"type\":\"MonthsTicker\"},{\"attributes\":{\"line_alpha\":0.2,\"line_color\":\"#ff7e0e\",\"line_width\":2,\"x\":{\"field\":\"index\"},\"y\":{\"field\":\"value\"}},\"id\":\"1844\",\"type\":\"Line\"},{\"attributes\":{\"click_policy\":\"mute\",\"items\":[{\"id\":\"1838\"},{\"id\":\"1867\"}],\"location\":[0,0],\"title\":\"Variable\"},\"id\":\"1837\",\"type\":\"Legend\"},{\"attributes\":{\"axis_label\":\"Price\",\"bounds\":\"auto\",\"formatter\":{\"id\":\"1809\"},\"major_label_orientation\":\"horizontal\",\"ticker\":{\"id\":\"1791\"}},\"id\":\"1790\",\"type\":\"LinearAxis\"},{\"attributes\":{\"line_alpha\":0.2,\"line_color\":\"#1f77b3\",\"line_width\":2,\"x\":{\"field\":\"index\"},\"y\":{\"field\":\"value\"}},\"id\":\"1816\",\"type\":\"Line\"},{\"attributes\":{\"end\":0.19196951516962055,\"reset_end\":0.19196951516962055,\"reset_start\":-0.21674466686582566,\"start\":-0.21674466686582566,\"tags\":[[[\"value\",\"value\",null]]]},\"id\":\"1774\",\"type\":\"Range1d\"}],\"root_ids\":[\"1771\"]},\"title\":\"Bokeh Application\",\"version\":\"2.0.2\"}};\n  var render_items = [{\"docid\":\"42eaf680-85d4-41a4-8ecb-1caa8f141137\",\"root_ids\":[\"1771\"],\"roots\":{\"1771\":\"0de40612-a01e-4d23-8de8-9e2202068659\"}}];\n  root.Bokeh.embed.embed_items_notebook(docs_json, render_items);\n  }\nif (root.Bokeh !== undefined) {\n    embed_document(root);\n  } else {\n    var attempts = 0;\n    var timer = setInterval(function(root) {\n      if (root.Bokeh !== undefined) {\n        clearInterval(timer);\n        embed_document(root);\n      } else if (document.readyState == \"complete\") {\n        attempts++;\n        if (attempts > 100) {\n          clearInterval(timer);\n          console.log(\"Bokeh: ERROR: Unable to run BokehJS code because BokehJS library is missing\");\n        }\n      }\n    }, 10, root)\n  }\n})(window);</script>",
      "application/vnd.holoviews_exec.v0+json": "",
      "text/plain": [
       ":NdOverlay   [Variable]\n",
       "   :Curve   [index]   (value)"
      ]
     },
     "metadata": {
      "application/vnd.holoviews_exec.v0+json": {
       "id": "1771"
      }
     },
     "execution_count": 36
    }
   ],
   "source": [
    "stocks.hvplot.line(xlabel = \"Date\", ylabel= \"Price\")"
   ]
  },
  {
   "cell_type": "code",
   "execution_count": null,
   "metadata": {},
   "outputs": [],
   "source": []
  }
 ]
}