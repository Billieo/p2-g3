{
 "metadata": {
  "language_info": {
   "codemirror_mode": {
    "name": "ipython",
    "version": 3
   },
   "file_extension": ".py",
   "mimetype": "text/x-python",
   "name": "python",
   "nbconvert_exporter": "python",
   "pygments_lexer": "ipython3",
   "version": "3.8.5"
  },
  "orig_nbformat": 2,
  "kernelspec": {
   "name": "python3",
   "display_name": "Python 3.8.5 64-bit ('base': conda)",
   "metadata": {
    "interpreter": {
     "hash": "11ef2bb442b8455a3e6b82f3202efe5c7a01a00a0939705f79f87b65f8f45715"
    }
   }
  }
 },
 "nbformat": 4,
 "nbformat_minor": 2,
 "cells": [
  {
   "cell_type": "code",
   "execution_count": 1,
   "metadata": {},
   "outputs": [
    {
     "output_type": "stream",
     "name": "stderr",
     "text": [
      "[nltk_data] Downloading package vader_lexicon to\n[nltk_data]     /Users/samuelarciniega/nltk_data...\n[nltk_data]   Package vader_lexicon is already up-to-date!\n"
     ]
    }
   ],
   "source": [
    "import os\n",
    "import numpy as np\n",
    "import pandas as pd\n",
    "from pathlib import Path\n",
    "from dotenv import load_dotenv\n",
    "import alpaca_trade_api as tradeapi\n",
    "from newsapi import NewsApiClient\n",
    "from datetime import datetime, timedelta\n",
    "import numpy as np\n",
    "import requests\n",
    "import nltk as nltk\n",
    "nltk.download('vader_lexicon')\n",
    "from nltk.sentiment.vader import SentimentIntensityAnalyzer\n",
    "analyzer = SentimentIntensityAnalyzer()\n",
    "from nltk.corpus import stopwords, reuters\n",
    "%matplotlib inline"
   ]
  },
  {
   "cell_type": "code",
   "execution_count": 2,
   "metadata": {},
   "outputs": [
    {
     "output_type": "execute_result",
     "data": {
      "text/plain": [
       "True"
      ]
     },
     "metadata": {},
     "execution_count": 2
    }
   ],
   "source": [
    "load_dotenv()"
   ]
  },
  {
   "cell_type": "code",
   "execution_count": 3,
   "metadata": {},
   "outputs": [],
   "source": [
    "alpaca_api_key = os.getenv(\"ALPACA_API_KEY\")\n",
    "alpaca_secret_key = os.getenv(\"ALPACA_SECRET_KEY\")\n",
    "alpaca = tradeapi.REST(\n",
    "    alpaca_api_key,\n",
    "    alpaca_secret_key,\n",
    "    api_version=\"v2\")\n",
    "#print(alpaca_api_key)"
   ]
  },
  {
   "cell_type": "code",
   "execution_count": 4,
   "metadata": {},
   "outputs": [],
   "source": [
    "api_key = os.getenv(\"news_api\")\n",
    "#print(api_key)"
   ]
  },
  {
   "cell_type": "code",
   "execution_count": 14,
   "metadata": {},
   "outputs": [],
   "source": [
    "newsapi = NewsApiClient(api_key=api_key)"
   ]
  },
  {
   "cell_type": "code",
   "execution_count": 15,
   "metadata": {},
   "outputs": [
    {
     "output_type": "execute_result",
     "data": {
      "text/plain": [
       "                             AAPL                                       \n",
       "                             open     high       low     close    volume\n",
       "time                                                                    \n",
       "2021-06-03 00:00:00-04:00  124.66  124.850  123.1300  123.5550  68331470\n",
       "2021-06-04 00:00:00-04:00  124.07  126.160  123.8500  125.8800  63613126\n",
       "2021-06-07 00:00:00-04:00  126.18  126.320  124.8321  125.9100  62351961\n",
       "2021-06-08 00:00:00-04:00  126.62  128.460  126.2101  126.7400  67231488\n",
       "2021-06-09 00:00:00-04:00  127.21  127.750  126.5200  127.1600  46854275\n",
       "2021-06-10 00:00:00-04:00  127.02  128.190  125.9400  126.1100  63377192\n",
       "2021-06-11 00:00:00-04:00  126.53  127.440  126.1000  127.3521  46206013\n",
       "2021-06-14 00:00:00-04:00  127.82  130.490  127.0700  130.4900  73169843\n",
       "2021-06-15 00:00:00-04:00  129.88  130.600  129.3900  129.7400  53587032\n",
       "2021-06-16 00:00:00-04:00  130.29  130.890  128.4610  130.1400  81577235\n",
       "2021-06-17 00:00:00-04:00  129.80  132.550  129.6500  131.7800  82434812\n",
       "2021-06-18 00:00:00-04:00  130.65  131.510  130.2400  130.4000  78114203\n",
       "2021-06-21 00:00:00-04:00  130.32  132.410  129.2100  132.2900  63245869\n",
       "2021-06-22 00:00:00-04:00  132.10  134.080  131.6200  133.9700  61664813\n",
       "2021-06-23 00:00:00-04:00  133.78  134.320  133.2300  133.7000  54089974\n",
       "2021-06-24 00:00:00-04:00  134.45  134.640  132.9300  133.4000  57263070\n",
       "2021-06-25 00:00:00-04:00  133.47  133.890  132.8100  133.1100  42633100\n",
       "2021-06-28 00:00:00-04:00  133.42  135.245  133.3500  134.7500  53815255\n",
       "2021-06-29 00:00:00-04:00  134.82  136.490  134.3500  136.3300  55081959\n",
       "2021-06-30 00:00:00-04:00  136.17  137.410  135.8700  136.9400  51014239"
      ],
      "text/html": "<div>\n<style scoped>\n    .dataframe tbody tr th:only-of-type {\n        vertical-align: middle;\n    }\n\n    .dataframe tbody tr th {\n        vertical-align: top;\n    }\n\n    .dataframe thead tr th {\n        text-align: left;\n    }\n\n    .dataframe thead tr:last-of-type th {\n        text-align: right;\n    }\n</style>\n<table border=\"1\" class=\"dataframe\">\n  <thead>\n    <tr>\n      <th></th>\n      <th colspan=\"5\" halign=\"left\">AAPL</th>\n    </tr>\n    <tr>\n      <th></th>\n      <th>open</th>\n      <th>high</th>\n      <th>low</th>\n      <th>close</th>\n      <th>volume</th>\n    </tr>\n    <tr>\n      <th>time</th>\n      <th></th>\n      <th></th>\n      <th></th>\n      <th></th>\n      <th></th>\n    </tr>\n  </thead>\n  <tbody>\n    <tr>\n      <th>2021-06-03 00:00:00-04:00</th>\n      <td>124.66</td>\n      <td>124.850</td>\n      <td>123.1300</td>\n      <td>123.5550</td>\n      <td>68331470</td>\n    </tr>\n    <tr>\n      <th>2021-06-04 00:00:00-04:00</th>\n      <td>124.07</td>\n      <td>126.160</td>\n      <td>123.8500</td>\n      <td>125.8800</td>\n      <td>63613126</td>\n    </tr>\n    <tr>\n      <th>2021-06-07 00:00:00-04:00</th>\n      <td>126.18</td>\n      <td>126.320</td>\n      <td>124.8321</td>\n      <td>125.9100</td>\n      <td>62351961</td>\n    </tr>\n    <tr>\n      <th>2021-06-08 00:00:00-04:00</th>\n      <td>126.62</td>\n      <td>128.460</td>\n      <td>126.2101</td>\n      <td>126.7400</td>\n      <td>67231488</td>\n    </tr>\n    <tr>\n      <th>2021-06-09 00:00:00-04:00</th>\n      <td>127.21</td>\n      <td>127.750</td>\n      <td>126.5200</td>\n      <td>127.1600</td>\n      <td>46854275</td>\n    </tr>\n    <tr>\n      <th>2021-06-10 00:00:00-04:00</th>\n      <td>127.02</td>\n      <td>128.190</td>\n      <td>125.9400</td>\n      <td>126.1100</td>\n      <td>63377192</td>\n    </tr>\n    <tr>\n      <th>2021-06-11 00:00:00-04:00</th>\n      <td>126.53</td>\n      <td>127.440</td>\n      <td>126.1000</td>\n      <td>127.3521</td>\n      <td>46206013</td>\n    </tr>\n    <tr>\n      <th>2021-06-14 00:00:00-04:00</th>\n      <td>127.82</td>\n      <td>130.490</td>\n      <td>127.0700</td>\n      <td>130.4900</td>\n      <td>73169843</td>\n    </tr>\n    <tr>\n      <th>2021-06-15 00:00:00-04:00</th>\n      <td>129.88</td>\n      <td>130.600</td>\n      <td>129.3900</td>\n      <td>129.7400</td>\n      <td>53587032</td>\n    </tr>\n    <tr>\n      <th>2021-06-16 00:00:00-04:00</th>\n      <td>130.29</td>\n      <td>130.890</td>\n      <td>128.4610</td>\n      <td>130.1400</td>\n      <td>81577235</td>\n    </tr>\n    <tr>\n      <th>2021-06-17 00:00:00-04:00</th>\n      <td>129.80</td>\n      <td>132.550</td>\n      <td>129.6500</td>\n      <td>131.7800</td>\n      <td>82434812</td>\n    </tr>\n    <tr>\n      <th>2021-06-18 00:00:00-04:00</th>\n      <td>130.65</td>\n      <td>131.510</td>\n      <td>130.2400</td>\n      <td>130.4000</td>\n      <td>78114203</td>\n    </tr>\n    <tr>\n      <th>2021-06-21 00:00:00-04:00</th>\n      <td>130.32</td>\n      <td>132.410</td>\n      <td>129.2100</td>\n      <td>132.2900</td>\n      <td>63245869</td>\n    </tr>\n    <tr>\n      <th>2021-06-22 00:00:00-04:00</th>\n      <td>132.10</td>\n      <td>134.080</td>\n      <td>131.6200</td>\n      <td>133.9700</td>\n      <td>61664813</td>\n    </tr>\n    <tr>\n      <th>2021-06-23 00:00:00-04:00</th>\n      <td>133.78</td>\n      <td>134.320</td>\n      <td>133.2300</td>\n      <td>133.7000</td>\n      <td>54089974</td>\n    </tr>\n    <tr>\n      <th>2021-06-24 00:00:00-04:00</th>\n      <td>134.45</td>\n      <td>134.640</td>\n      <td>132.9300</td>\n      <td>133.4000</td>\n      <td>57263070</td>\n    </tr>\n    <tr>\n      <th>2021-06-25 00:00:00-04:00</th>\n      <td>133.47</td>\n      <td>133.890</td>\n      <td>132.8100</td>\n      <td>133.1100</td>\n      <td>42633100</td>\n    </tr>\n    <tr>\n      <th>2021-06-28 00:00:00-04:00</th>\n      <td>133.42</td>\n      <td>135.245</td>\n      <td>133.3500</td>\n      <td>134.7500</td>\n      <td>53815255</td>\n    </tr>\n    <tr>\n      <th>2021-06-29 00:00:00-04:00</th>\n      <td>134.82</td>\n      <td>136.490</td>\n      <td>134.3500</td>\n      <td>136.3300</td>\n      <td>55081959</td>\n    </tr>\n    <tr>\n      <th>2021-06-30 00:00:00-04:00</th>\n      <td>136.17</td>\n      <td>137.410</td>\n      <td>135.8700</td>\n      <td>136.9400</td>\n      <td>51014239</td>\n    </tr>\n  </tbody>\n</table>\n</div>"
     },
     "metadata": {},
     "execution_count": 15
    }
   ],
   "source": [
    "#15Min interval\n",
    "timeframe = \"1D\"\n",
    "start_date = pd.Timestamp(datetime.now(), tz=\"America/New_York\").isoformat()\n",
    "end_date = pd.Timestamp(datetime.now()- timedelta(30), tz=\"America/New_York\").isoformat()\n",
    "#today = pd.Timestamp(\"2021-01-02\", tz=\"America/New_York\").isoformat()\n",
    "ticker = [\"AAPL\"]\n",
    "apple_ticker = alpaca.get_barset(\n",
    "    ticker,\n",
    "    timeframe,\n",
    "    limit=None,\n",
    "    start=end_date,\n",
    "    end=start_date,\n",
    "    after=None,\n",
    "    until=None,\n",
    ").df\n",
    "apple_ticker.dropna(inplace=True)\n",
    "apple_ticker.head(20)"
   ]
  },
  {
   "cell_type": "code",
   "execution_count": 16,
   "metadata": {},
   "outputs": [
    {
     "output_type": "execute_result",
     "data": {
      "text/plain": [
       "            Apple_Close\n",
       "2021-06-28       134.75\n",
       "2021-06-29       136.33\n",
       "2021-06-30       136.94\n",
       "2021-07-01       137.27\n",
       "2021-07-02       139.96"
      ],
      "text/html": "<div>\n<style scoped>\n    .dataframe tbody tr th:only-of-type {\n        vertical-align: middle;\n    }\n\n    .dataframe tbody tr th {\n        vertical-align: top;\n    }\n\n    .dataframe thead th {\n        text-align: right;\n    }\n</style>\n<table border=\"1\" class=\"dataframe\">\n  <thead>\n    <tr style=\"text-align: right;\">\n      <th></th>\n      <th>Apple_Close</th>\n    </tr>\n  </thead>\n  <tbody>\n    <tr>\n      <th>2021-06-28</th>\n      <td>134.75</td>\n    </tr>\n    <tr>\n      <th>2021-06-29</th>\n      <td>136.33</td>\n    </tr>\n    <tr>\n      <th>2021-06-30</th>\n      <td>136.94</td>\n    </tr>\n    <tr>\n      <th>2021-07-01</th>\n      <td>137.27</td>\n    </tr>\n    <tr>\n      <th>2021-07-02</th>\n      <td>139.96</td>\n    </tr>\n  </tbody>\n</table>\n</div>"
     },
     "metadata": {},
     "execution_count": 16
    }
   ],
   "source": [
    "apple_df = pd.DataFrame()\n",
    "apple_df[\"Apple_Close\"] = apple_ticker[\"AAPL\"][\"close\"]\n",
    "#apple_df = apple_df.pct_change().dropna()\n",
    "apple_df.index = apple_df.index.date \n",
    "apple_df.tail()"
   ]
  },
  {
   "cell_type": "code",
   "execution_count": 17,
   "metadata": {},
   "outputs": [
    {
     "output_type": "execute_result",
     "data": {
      "text/plain": [
       "            Apple_Close\n",
       "2021-06-04     0.018818\n",
       "2021-06-07     0.000238\n",
       "2021-06-08     0.006592\n",
       "2021-06-09     0.003314\n",
       "2021-06-10    -0.008257\n",
       "2021-06-11     0.009849\n",
       "2021-06-14     0.024640\n",
       "2021-06-15    -0.005748\n",
       "2021-06-16     0.003083\n",
       "2021-06-17     0.012602\n",
       "2021-06-18    -0.010472\n",
       "2021-06-21     0.014494\n",
       "2021-06-22     0.012699\n",
       "2021-06-23    -0.002015\n",
       "2021-06-24    -0.002244\n",
       "2021-06-25    -0.002174\n",
       "2021-06-28     0.012321\n",
       "2021-06-29     0.011725\n",
       "2021-06-30     0.004474\n",
       "2021-07-01     0.002410\n",
       "2021-07-02     0.019596"
      ],
      "text/html": "<div>\n<style scoped>\n    .dataframe tbody tr th:only-of-type {\n        vertical-align: middle;\n    }\n\n    .dataframe tbody tr th {\n        vertical-align: top;\n    }\n\n    .dataframe thead th {\n        text-align: right;\n    }\n</style>\n<table border=\"1\" class=\"dataframe\">\n  <thead>\n    <tr style=\"text-align: right;\">\n      <th></th>\n      <th>Apple_Close</th>\n    </tr>\n  </thead>\n  <tbody>\n    <tr>\n      <th>2021-06-04</th>\n      <td>0.018818</td>\n    </tr>\n    <tr>\n      <th>2021-06-07</th>\n      <td>0.000238</td>\n    </tr>\n    <tr>\n      <th>2021-06-08</th>\n      <td>0.006592</td>\n    </tr>\n    <tr>\n      <th>2021-06-09</th>\n      <td>0.003314</td>\n    </tr>\n    <tr>\n      <th>2021-06-10</th>\n      <td>-0.008257</td>\n    </tr>\n    <tr>\n      <th>2021-06-11</th>\n      <td>0.009849</td>\n    </tr>\n    <tr>\n      <th>2021-06-14</th>\n      <td>0.024640</td>\n    </tr>\n    <tr>\n      <th>2021-06-15</th>\n      <td>-0.005748</td>\n    </tr>\n    <tr>\n      <th>2021-06-16</th>\n      <td>0.003083</td>\n    </tr>\n    <tr>\n      <th>2021-06-17</th>\n      <td>0.012602</td>\n    </tr>\n    <tr>\n      <th>2021-06-18</th>\n      <td>-0.010472</td>\n    </tr>\n    <tr>\n      <th>2021-06-21</th>\n      <td>0.014494</td>\n    </tr>\n    <tr>\n      <th>2021-06-22</th>\n      <td>0.012699</td>\n    </tr>\n    <tr>\n      <th>2021-06-23</th>\n      <td>-0.002015</td>\n    </tr>\n    <tr>\n      <th>2021-06-24</th>\n      <td>-0.002244</td>\n    </tr>\n    <tr>\n      <th>2021-06-25</th>\n      <td>-0.002174</td>\n    </tr>\n    <tr>\n      <th>2021-06-28</th>\n      <td>0.012321</td>\n    </tr>\n    <tr>\n      <th>2021-06-29</th>\n      <td>0.011725</td>\n    </tr>\n    <tr>\n      <th>2021-06-30</th>\n      <td>0.004474</td>\n    </tr>\n    <tr>\n      <th>2021-07-01</th>\n      <td>0.002410</td>\n    </tr>\n    <tr>\n      <th>2021-07-02</th>\n      <td>0.019596</td>\n    </tr>\n  </tbody>\n</table>\n</div>"
     },
     "metadata": {},
     "execution_count": 17
    }
   ],
   "source": [
    "apple_returns = apple_df.pct_change().dropna()\n",
    "apple_returns.head(50)"
   ]
  },
  {
   "cell_type": "code",
   "execution_count": 18,
   "metadata": {},
   "outputs": [],
   "source": [
    "def get_headlines(keyword):\n",
    "    all_headlines = []\n",
    "    all_dates = []    \n",
    "    date = datetime.strptime(start_date[:10], \"%Y-%m-%d\")\n",
    "    past_date = datetime.strptime(end_date[:10], \"%Y-%m-%d\")\n",
    "    print(f\"Fetching news about '{keyword}'\")\n",
    "    print(\"*\" * 30)\n",
    "    while date > past_date:\n",
    "        print(f\"retrieving news from: {date}\")\n",
    "        articles = newsapi.get_everything(\n",
    "            q=keyword,\n",
    "            from_param=str(date)[:10],\n",
    "            to=str(date)[:10],\n",
    "            language=\"en\",\n",
    "            sort_by=\"relevancy\",\n",
    "            page=1,\n",
    "        )\n",
    "        headlines = []\n",
    "        for i in range(0, len(articles[\"articles\"])):\n",
    "            headlines.append(articles[\"articles\"][i][\"title\"])\n",
    "        all_headlines.append(headlines)\n",
    "        all_dates.append(date)\n",
    "        date = date - timedelta(days=1)\n",
    "    return all_headlines, all_dates"
   ]
  },
  {
   "cell_type": "code",
   "execution_count": 19,
   "metadata": {},
   "outputs": [
    {
     "output_type": "stream",
     "name": "stdout",
     "text": [
      "Fetching news about 'inflation'\n",
      "******************************\n",
      "retrieving news from: 2021-07-03 00:00:00\n",
      "retrieving news from: 2021-07-02 00:00:00\n",
      "retrieving news from: 2021-07-01 00:00:00\n",
      "retrieving news from: 2021-06-30 00:00:00\n",
      "retrieving news from: 2021-06-29 00:00:00\n",
      "retrieving news from: 2021-06-28 00:00:00\n",
      "retrieving news from: 2021-06-27 00:00:00\n",
      "retrieving news from: 2021-06-26 00:00:00\n",
      "retrieving news from: 2021-06-25 00:00:00\n",
      "retrieving news from: 2021-06-24 00:00:00\n",
      "retrieving news from: 2021-06-23 00:00:00\n"
     ]
    },
    {
     "output_type": "error",
     "ename": "NewsAPIException",
     "evalue": "{'status': 'error', 'code': 'rateLimited', 'message': 'You have made too many requests recently. Developer accounts are limited to 100 requests over a 24 hour period (50 requests available every 12 hours). Please upgrade to a paid plan if you need more requests.'}",
     "traceback": [
      "\u001b[0;31m---------------------------------------------------------------------------\u001b[0m",
      "\u001b[0;31mNewsAPIException\u001b[0m                          Traceback (most recent call last)",
      "\u001b[0;32m<ipython-input-19-acb9633eadb9>\u001b[0m in \u001b[0;36m<module>\u001b[0;34m\u001b[0m\n\u001b[0;32m----> 1\u001b[0;31m \u001b[0minflation_headlines\u001b[0m\u001b[0;34m,\u001b[0m \u001b[0mdates\u001b[0m \u001b[0;34m=\u001b[0m \u001b[0mget_headlines\u001b[0m\u001b[0;34m(\u001b[0m\u001b[0;34m\"inflation\"\u001b[0m\u001b[0;34m)\u001b[0m\u001b[0;34m\u001b[0m\u001b[0;34m\u001b[0m\u001b[0m\n\u001b[0m",
      "\u001b[0;32m<ipython-input-18-b04b6babcc01>\u001b[0m in \u001b[0;36mget_headlines\u001b[0;34m(keyword)\u001b[0m\n\u001b[1;32m      8\u001b[0m     \u001b[0;32mwhile\u001b[0m \u001b[0mdate\u001b[0m \u001b[0;34m>\u001b[0m \u001b[0mpast_date\u001b[0m\u001b[0;34m:\u001b[0m\u001b[0;34m\u001b[0m\u001b[0;34m\u001b[0m\u001b[0m\n\u001b[1;32m      9\u001b[0m         \u001b[0mprint\u001b[0m\u001b[0;34m(\u001b[0m\u001b[0;34mf\"retrieving news from: {date}\"\u001b[0m\u001b[0;34m)\u001b[0m\u001b[0;34m\u001b[0m\u001b[0;34m\u001b[0m\u001b[0m\n\u001b[0;32m---> 10\u001b[0;31m         articles = newsapi.get_everything(\n\u001b[0m\u001b[1;32m     11\u001b[0m             \u001b[0mq\u001b[0m\u001b[0;34m=\u001b[0m\u001b[0mkeyword\u001b[0m\u001b[0;34m,\u001b[0m\u001b[0;34m\u001b[0m\u001b[0;34m\u001b[0m\u001b[0m\n\u001b[1;32m     12\u001b[0m             \u001b[0mfrom_param\u001b[0m\u001b[0;34m=\u001b[0m\u001b[0mstr\u001b[0m\u001b[0;34m(\u001b[0m\u001b[0mdate\u001b[0m\u001b[0;34m)\u001b[0m\u001b[0;34m[\u001b[0m\u001b[0;34m:\u001b[0m\u001b[0;36m10\u001b[0m\u001b[0;34m]\u001b[0m\u001b[0;34m,\u001b[0m\u001b[0;34m\u001b[0m\u001b[0;34m\u001b[0m\u001b[0m\n",
      "\u001b[0;32m~/opt/anaconda3/lib/python3.8/site-packages/newsapi/newsapi_client.py\u001b[0m in \u001b[0;36mget_everything\u001b[0;34m(self, q, qintitle, sources, domains, exclude_domains, from_param, to, language, sort_by, page, page_size)\u001b[0m\n\u001b[1;32m    324\u001b[0m         \u001b[0;31m# Check Status of Request\u001b[0m\u001b[0;34m\u001b[0m\u001b[0;34m\u001b[0m\u001b[0;34m\u001b[0m\u001b[0m\n\u001b[1;32m    325\u001b[0m         \u001b[0;32mif\u001b[0m \u001b[0mr\u001b[0m\u001b[0;34m.\u001b[0m\u001b[0mstatus_code\u001b[0m \u001b[0;34m!=\u001b[0m \u001b[0mrequests\u001b[0m\u001b[0;34m.\u001b[0m\u001b[0mcodes\u001b[0m\u001b[0;34m.\u001b[0m\u001b[0mok\u001b[0m\u001b[0;34m:\u001b[0m\u001b[0;34m\u001b[0m\u001b[0;34m\u001b[0m\u001b[0m\n\u001b[0;32m--> 326\u001b[0;31m             \u001b[0;32mraise\u001b[0m \u001b[0mNewsAPIException\u001b[0m\u001b[0;34m(\u001b[0m\u001b[0mr\u001b[0m\u001b[0;34m.\u001b[0m\u001b[0mjson\u001b[0m\u001b[0;34m(\u001b[0m\u001b[0;34m)\u001b[0m\u001b[0;34m)\u001b[0m\u001b[0;34m\u001b[0m\u001b[0;34m\u001b[0m\u001b[0m\n\u001b[0m\u001b[1;32m    327\u001b[0m \u001b[0;34m\u001b[0m\u001b[0m\n\u001b[1;32m    328\u001b[0m         \u001b[0;32mreturn\u001b[0m \u001b[0mr\u001b[0m\u001b[0;34m.\u001b[0m\u001b[0mjson\u001b[0m\u001b[0;34m(\u001b[0m\u001b[0;34m)\u001b[0m\u001b[0;34m\u001b[0m\u001b[0;34m\u001b[0m\u001b[0m\n",
      "\u001b[0;31mNewsAPIException\u001b[0m: {'status': 'error', 'code': 'rateLimited', 'message': 'You have made too many requests recently. Developer accounts are limited to 100 requests over a 24 hour period (50 requests available every 12 hours). Please upgrade to a paid plan if you need more requests.'}"
     ]
    }
   ],
   "source": [
    "inflation_headlines, dates = get_headlines(\"inflation\")"
   ]
  },
  {
   "cell_type": "code",
   "execution_count": 20,
   "metadata": {},
   "outputs": [
    {
     "output_type": "stream",
     "name": "stdout",
     "text": [
      "Fetching news about 'security'\n******************************\nretrieving news from: 2021-07-03 00:00:00\n"
     ]
    },
    {
     "output_type": "error",
     "ename": "NewsAPIException",
     "evalue": "{'status': 'error', 'code': 'rateLimited', 'message': 'You have made too many requests recently. Developer accounts are limited to 100 requests over a 24 hour period (50 requests available every 12 hours). Please upgrade to a paid plan if you need more requests.'}",
     "traceback": [
      "\u001b[0;31m---------------------------------------------------------------------------\u001b[0m",
      "\u001b[0;31mNewsAPIException\u001b[0m                          Traceback (most recent call last)",
      "\u001b[0;32m<ipython-input-20-b4881891906b>\u001b[0m in \u001b[0;36m<module>\u001b[0;34m\u001b[0m\n\u001b[0;32m----> 1\u001b[0;31m \u001b[0mRegTech_headlines\u001b[0m\u001b[0;34m,\u001b[0m\u001b[0m_\u001b[0m \u001b[0;34m=\u001b[0m \u001b[0mget_headlines\u001b[0m\u001b[0;34m(\u001b[0m\u001b[0;34m\"security\"\u001b[0m\u001b[0;34m)\u001b[0m\u001b[0;34m\u001b[0m\u001b[0;34m\u001b[0m\u001b[0m\n\u001b[0m",
      "\u001b[0;32m<ipython-input-18-b04b6babcc01>\u001b[0m in \u001b[0;36mget_headlines\u001b[0;34m(keyword)\u001b[0m\n\u001b[1;32m      8\u001b[0m     \u001b[0;32mwhile\u001b[0m \u001b[0mdate\u001b[0m \u001b[0;34m>\u001b[0m \u001b[0mpast_date\u001b[0m\u001b[0;34m:\u001b[0m\u001b[0;34m\u001b[0m\u001b[0;34m\u001b[0m\u001b[0m\n\u001b[1;32m      9\u001b[0m         \u001b[0mprint\u001b[0m\u001b[0;34m(\u001b[0m\u001b[0;34mf\"retrieving news from: {date}\"\u001b[0m\u001b[0;34m)\u001b[0m\u001b[0;34m\u001b[0m\u001b[0;34m\u001b[0m\u001b[0m\n\u001b[0;32m---> 10\u001b[0;31m         articles = newsapi.get_everything(\n\u001b[0m\u001b[1;32m     11\u001b[0m             \u001b[0mq\u001b[0m\u001b[0;34m=\u001b[0m\u001b[0mkeyword\u001b[0m\u001b[0;34m,\u001b[0m\u001b[0;34m\u001b[0m\u001b[0;34m\u001b[0m\u001b[0m\n\u001b[1;32m     12\u001b[0m             \u001b[0mfrom_param\u001b[0m\u001b[0;34m=\u001b[0m\u001b[0mstr\u001b[0m\u001b[0;34m(\u001b[0m\u001b[0mdate\u001b[0m\u001b[0;34m)\u001b[0m\u001b[0;34m[\u001b[0m\u001b[0;34m:\u001b[0m\u001b[0;36m10\u001b[0m\u001b[0;34m]\u001b[0m\u001b[0;34m,\u001b[0m\u001b[0;34m\u001b[0m\u001b[0;34m\u001b[0m\u001b[0m\n",
      "\u001b[0;32m~/opt/anaconda3/lib/python3.8/site-packages/newsapi/newsapi_client.py\u001b[0m in \u001b[0;36mget_everything\u001b[0;34m(self, q, qintitle, sources, domains, exclude_domains, from_param, to, language, sort_by, page, page_size)\u001b[0m\n\u001b[1;32m    324\u001b[0m         \u001b[0;31m# Check Status of Request\u001b[0m\u001b[0;34m\u001b[0m\u001b[0;34m\u001b[0m\u001b[0;34m\u001b[0m\u001b[0m\n\u001b[1;32m    325\u001b[0m         \u001b[0;32mif\u001b[0m \u001b[0mr\u001b[0m\u001b[0;34m.\u001b[0m\u001b[0mstatus_code\u001b[0m \u001b[0;34m!=\u001b[0m \u001b[0mrequests\u001b[0m\u001b[0;34m.\u001b[0m\u001b[0mcodes\u001b[0m\u001b[0;34m.\u001b[0m\u001b[0mok\u001b[0m\u001b[0;34m:\u001b[0m\u001b[0;34m\u001b[0m\u001b[0;34m\u001b[0m\u001b[0m\n\u001b[0;32m--> 326\u001b[0;31m             \u001b[0;32mraise\u001b[0m \u001b[0mNewsAPIException\u001b[0m\u001b[0;34m(\u001b[0m\u001b[0mr\u001b[0m\u001b[0;34m.\u001b[0m\u001b[0mjson\u001b[0m\u001b[0;34m(\u001b[0m\u001b[0;34m)\u001b[0m\u001b[0;34m)\u001b[0m\u001b[0;34m\u001b[0m\u001b[0;34m\u001b[0m\u001b[0m\n\u001b[0m\u001b[1;32m    327\u001b[0m \u001b[0;34m\u001b[0m\u001b[0m\n\u001b[1;32m    328\u001b[0m         \u001b[0;32mreturn\u001b[0m \u001b[0mr\u001b[0m\u001b[0;34m.\u001b[0m\u001b[0mjson\u001b[0m\u001b[0;34m(\u001b[0m\u001b[0;34m)\u001b[0m\u001b[0;34m\u001b[0m\u001b[0;34m\u001b[0m\u001b[0m\n",
      "\u001b[0;31mNewsAPIException\u001b[0m: {'status': 'error', 'code': 'rateLimited', 'message': 'You have made too many requests recently. Developer accounts are limited to 100 requests over a 24 hour period (50 requests available every 12 hours). Please upgrade to a paid plan if you need more requests.'}"
     ]
    }
   ],
   "source": [
    "RegTech_headlines,_ = get_headlines(\"security\")"
   ]
  },
  {
   "cell_type": "code",
   "execution_count": 21,
   "metadata": {},
   "outputs": [
    {
     "output_type": "stream",
     "name": "stdout",
     "text": [
      "Fetching news about 'coronavirus'\n******************************\nretrieving news from: 2021-07-03 00:00:00\n"
     ]
    },
    {
     "output_type": "error",
     "ename": "NewsAPIException",
     "evalue": "{'status': 'error', 'code': 'rateLimited', 'message': 'You have made too many requests recently. Developer accounts are limited to 100 requests over a 24 hour period (50 requests available every 12 hours). Please upgrade to a paid plan if you need more requests.'}",
     "traceback": [
      "\u001b[0;31m---------------------------------------------------------------------------\u001b[0m",
      "\u001b[0;31mNewsAPIException\u001b[0m                          Traceback (most recent call last)",
      "\u001b[0;32m<ipython-input-21-cd4d7a5d4fe2>\u001b[0m in \u001b[0;36m<module>\u001b[0;34m\u001b[0m\n\u001b[0;32m----> 1\u001b[0;31m \u001b[0mcovid_headlines\u001b[0m\u001b[0;34m,\u001b[0m\u001b[0m_\u001b[0m \u001b[0;34m=\u001b[0m \u001b[0mget_headlines\u001b[0m\u001b[0;34m(\u001b[0m\u001b[0;34m\"coronavirus\"\u001b[0m\u001b[0;34m)\u001b[0m\u001b[0;34m\u001b[0m\u001b[0;34m\u001b[0m\u001b[0m\n\u001b[0m",
      "\u001b[0;32m<ipython-input-18-b04b6babcc01>\u001b[0m in \u001b[0;36mget_headlines\u001b[0;34m(keyword)\u001b[0m\n\u001b[1;32m      8\u001b[0m     \u001b[0;32mwhile\u001b[0m \u001b[0mdate\u001b[0m \u001b[0;34m>\u001b[0m \u001b[0mpast_date\u001b[0m\u001b[0;34m:\u001b[0m\u001b[0;34m\u001b[0m\u001b[0;34m\u001b[0m\u001b[0m\n\u001b[1;32m      9\u001b[0m         \u001b[0mprint\u001b[0m\u001b[0;34m(\u001b[0m\u001b[0;34mf\"retrieving news from: {date}\"\u001b[0m\u001b[0;34m)\u001b[0m\u001b[0;34m\u001b[0m\u001b[0;34m\u001b[0m\u001b[0m\n\u001b[0;32m---> 10\u001b[0;31m         articles = newsapi.get_everything(\n\u001b[0m\u001b[1;32m     11\u001b[0m             \u001b[0mq\u001b[0m\u001b[0;34m=\u001b[0m\u001b[0mkeyword\u001b[0m\u001b[0;34m,\u001b[0m\u001b[0;34m\u001b[0m\u001b[0;34m\u001b[0m\u001b[0m\n\u001b[1;32m     12\u001b[0m             \u001b[0mfrom_param\u001b[0m\u001b[0;34m=\u001b[0m\u001b[0mstr\u001b[0m\u001b[0;34m(\u001b[0m\u001b[0mdate\u001b[0m\u001b[0;34m)\u001b[0m\u001b[0;34m[\u001b[0m\u001b[0;34m:\u001b[0m\u001b[0;36m10\u001b[0m\u001b[0;34m]\u001b[0m\u001b[0;34m,\u001b[0m\u001b[0;34m\u001b[0m\u001b[0;34m\u001b[0m\u001b[0m\n",
      "\u001b[0;32m~/opt/anaconda3/lib/python3.8/site-packages/newsapi/newsapi_client.py\u001b[0m in \u001b[0;36mget_everything\u001b[0;34m(self, q, qintitle, sources, domains, exclude_domains, from_param, to, language, sort_by, page, page_size)\u001b[0m\n\u001b[1;32m    324\u001b[0m         \u001b[0;31m# Check Status of Request\u001b[0m\u001b[0;34m\u001b[0m\u001b[0;34m\u001b[0m\u001b[0;34m\u001b[0m\u001b[0m\n\u001b[1;32m    325\u001b[0m         \u001b[0;32mif\u001b[0m \u001b[0mr\u001b[0m\u001b[0;34m.\u001b[0m\u001b[0mstatus_code\u001b[0m \u001b[0;34m!=\u001b[0m \u001b[0mrequests\u001b[0m\u001b[0;34m.\u001b[0m\u001b[0mcodes\u001b[0m\u001b[0;34m.\u001b[0m\u001b[0mok\u001b[0m\u001b[0;34m:\u001b[0m\u001b[0;34m\u001b[0m\u001b[0;34m\u001b[0m\u001b[0m\n\u001b[0;32m--> 326\u001b[0;31m             \u001b[0;32mraise\u001b[0m \u001b[0mNewsAPIException\u001b[0m\u001b[0;34m(\u001b[0m\u001b[0mr\u001b[0m\u001b[0;34m.\u001b[0m\u001b[0mjson\u001b[0m\u001b[0;34m(\u001b[0m\u001b[0;34m)\u001b[0m\u001b[0;34m)\u001b[0m\u001b[0;34m\u001b[0m\u001b[0;34m\u001b[0m\u001b[0m\n\u001b[0m\u001b[1;32m    327\u001b[0m \u001b[0;34m\u001b[0m\u001b[0m\n\u001b[1;32m    328\u001b[0m         \u001b[0;32mreturn\u001b[0m \u001b[0mr\u001b[0m\u001b[0;34m.\u001b[0m\u001b[0mjson\u001b[0m\u001b[0;34m(\u001b[0m\u001b[0;34m)\u001b[0m\u001b[0;34m\u001b[0m\u001b[0;34m\u001b[0m\u001b[0m\n",
      "\u001b[0;31mNewsAPIException\u001b[0m: {'status': 'error', 'code': 'rateLimited', 'message': 'You have made too many requests recently. Developer accounts are limited to 100 requests over a 24 hour period (50 requests available every 12 hours). Please upgrade to a paid plan if you need more requests.'}"
     ]
    }
   ],
   "source": [
    "covid_headlines,_ = get_headlines(\"coronavirus\")"
   ]
  },
  {
   "cell_type": "code",
   "execution_count": 23,
   "metadata": {},
   "outputs": [],
   "source": [
    "sid = SentimentIntensityAnalyzer()"
   ]
  },
  {
   "cell_type": "code",
   "execution_count": 25,
   "metadata": {},
   "outputs": [],
   "source": [
    "def headline_sentiment_summarizer_avg(headlines):\n",
    "    sentiment = []\n",
    "    for day in headlines:\n",
    "        day_score = []\n",
    "        for h in day:\n",
    "            if h == None:\n",
    "                continue\n",
    "            else:\n",
    "                day_score.append(sid.polarity_scores(h)[\"compound\"])\n",
    "        sentiment.append(sum(day_score) / len(day_score))\n",
    "    return sentiment"
   ]
  },
  {
   "cell_type": "code",
   "execution_count": 27,
   "metadata": {},
   "outputs": [
    {
     "output_type": "error",
     "ename": "NameError",
     "evalue": "name 'inflation_headlines' is not defined",
     "traceback": [
      "\u001b[0;31m---------------------------------------------------------------------------\u001b[0m",
      "\u001b[0;31mNameError\u001b[0m                                 Traceback (most recent call last)",
      "\u001b[0;32m<ipython-input-27-186687c98461>\u001b[0m in \u001b[0;36m<module>\u001b[0;34m\u001b[0m\n\u001b[0;32m----> 1\u001b[0;31m \u001b[0minflation\u001b[0m \u001b[0;34m=\u001b[0m \u001b[0mheadline_sentiment_summarizer_avg\u001b[0m\u001b[0;34m(\u001b[0m\u001b[0minflation_headlines\u001b[0m\u001b[0;34m)\u001b[0m\u001b[0;34m\u001b[0m\u001b[0;34m\u001b[0m\u001b[0m\n\u001b[0m\u001b[1;32m      2\u001b[0m \u001b[0mregtech\u001b[0m \u001b[0;34m=\u001b[0m \u001b[0mheadline_sentiment_summarizer_avg\u001b[0m\u001b[0;34m(\u001b[0m\u001b[0mRegTech_headlines\u001b[0m\u001b[0;34m)\u001b[0m\u001b[0;34m\u001b[0m\u001b[0;34m\u001b[0m\u001b[0m\n\u001b[1;32m      3\u001b[0m \u001b[0mcovid\u001b[0m \u001b[0;34m=\u001b[0m \u001b[0mheadline_sentiment_summarizer_avg\u001b[0m\u001b[0;34m(\u001b[0m\u001b[0mcovid_headlines\u001b[0m\u001b[0;34m)\u001b[0m\u001b[0;34m\u001b[0m\u001b[0;34m\u001b[0m\u001b[0m\n",
      "\u001b[0;31mNameError\u001b[0m: name 'inflation_headlines' is not defined"
     ]
    }
   ],
   "source": [
    "inflation = headline_sentiment_summarizer_avg(inflation_headlines)\n",
    "regtech = headline_sentiment_summarizer_avg(RegTech_headlines)\n",
    "covid = headline_sentiment_summarizer_avg(covid_headlines)"
   ]
  },
  {
   "cell_type": "code",
   "execution_count": 16,
   "metadata": {},
   "outputs": [],
   "source": [
    "topic_sentiments = pd.DataFrame(\n",
    "    {\n",
    "        \"Inflation_avg\": inflation,\n",
    "        \"RegTech_avg\": regtech,\n",
    "        \"Covid_avg\": covid,\n",
    "    }\n",
    ")"
   ]
  },
  {
   "cell_type": "code",
   "execution_count": 17,
   "metadata": {},
   "outputs": [
    {
     "output_type": "display_data",
     "data": {
      "text/plain": "            Apple_Close  Inflation_avg  RegTech_avg  Covid_avg\n2021-06-04     0.018818      -0.168915     0.093365  -0.090420\n2021-06-07     0.000238       0.085070    -0.053740   0.067275\n2021-06-08     0.006592       0.160855    -0.021220   0.003990\n2021-06-09     0.003314      -0.052685    -0.268535  -0.026815\n2021-06-10    -0.008257      -0.007730    -0.083360   0.063360\n2021-06-11     0.009849       0.060070     0.206090   0.030350\n2021-06-14     0.024640       0.160030     0.173350  -0.051515\n2021-06-15    -0.005748      -0.026630     0.061830  -0.061655\n2021-06-16     0.003083       0.068935     0.018640  -0.018875\n2021-06-17     0.012602       0.061725    -0.072455  -0.016150\n2021-06-18    -0.010472       0.111965    -0.098280  -0.100735\n2021-06-21     0.014494       0.031665     0.105125  -0.022605\n2021-06-22     0.012699       0.181120     0.091980   0.086710\n2021-06-23    -0.002015       0.084110     0.012780  -0.033995\n2021-06-24    -0.002244       0.009060    -0.154075  -0.100530\n2021-06-25    -0.002174      -0.060610    -0.029625  -0.081700\n2021-06-28     0.012321      -0.053415     0.030735  -0.030965\n2021-06-29     0.011725       0.037555    -0.048560   0.009470\n2021-06-30     0.004474       0.008740    -0.089700   0.031275\n2021-07-01     0.002410      -0.102815     0.157910  -0.038875\n2021-07-02     0.019596       0.035320    -0.068425  -0.063535",
      "text/html": "<div>\n<style scoped>\n    .dataframe tbody tr th:only-of-type {\n        vertical-align: middle;\n    }\n\n    .dataframe tbody tr th {\n        vertical-align: top;\n    }\n\n    .dataframe thead th {\n        text-align: right;\n    }\n</style>\n<table border=\"1\" class=\"dataframe\">\n  <thead>\n    <tr style=\"text-align: right;\">\n      <th></th>\n      <th>Apple_Close</th>\n      <th>Inflation_avg</th>\n      <th>RegTech_avg</th>\n      <th>Covid_avg</th>\n    </tr>\n  </thead>\n  <tbody>\n    <tr>\n      <th>2021-06-04</th>\n      <td>0.018818</td>\n      <td>-0.168915</td>\n      <td>0.093365</td>\n      <td>-0.090420</td>\n    </tr>\n    <tr>\n      <th>2021-06-07</th>\n      <td>0.000238</td>\n      <td>0.085070</td>\n      <td>-0.053740</td>\n      <td>0.067275</td>\n    </tr>\n    <tr>\n      <th>2021-06-08</th>\n      <td>0.006592</td>\n      <td>0.160855</td>\n      <td>-0.021220</td>\n      <td>0.003990</td>\n    </tr>\n    <tr>\n      <th>2021-06-09</th>\n      <td>0.003314</td>\n      <td>-0.052685</td>\n      <td>-0.268535</td>\n      <td>-0.026815</td>\n    </tr>\n    <tr>\n      <th>2021-06-10</th>\n      <td>-0.008257</td>\n      <td>-0.007730</td>\n      <td>-0.083360</td>\n      <td>0.063360</td>\n    </tr>\n    <tr>\n      <th>2021-06-11</th>\n      <td>0.009849</td>\n      <td>0.060070</td>\n      <td>0.206090</td>\n      <td>0.030350</td>\n    </tr>\n    <tr>\n      <th>2021-06-14</th>\n      <td>0.024640</td>\n      <td>0.160030</td>\n      <td>0.173350</td>\n      <td>-0.051515</td>\n    </tr>\n    <tr>\n      <th>2021-06-15</th>\n      <td>-0.005748</td>\n      <td>-0.026630</td>\n      <td>0.061830</td>\n      <td>-0.061655</td>\n    </tr>\n    <tr>\n      <th>2021-06-16</th>\n      <td>0.003083</td>\n      <td>0.068935</td>\n      <td>0.018640</td>\n      <td>-0.018875</td>\n    </tr>\n    <tr>\n      <th>2021-06-17</th>\n      <td>0.012602</td>\n      <td>0.061725</td>\n      <td>-0.072455</td>\n      <td>-0.016150</td>\n    </tr>\n    <tr>\n      <th>2021-06-18</th>\n      <td>-0.010472</td>\n      <td>0.111965</td>\n      <td>-0.098280</td>\n      <td>-0.100735</td>\n    </tr>\n    <tr>\n      <th>2021-06-21</th>\n      <td>0.014494</td>\n      <td>0.031665</td>\n      <td>0.105125</td>\n      <td>-0.022605</td>\n    </tr>\n    <tr>\n      <th>2021-06-22</th>\n      <td>0.012699</td>\n      <td>0.181120</td>\n      <td>0.091980</td>\n      <td>0.086710</td>\n    </tr>\n    <tr>\n      <th>2021-06-23</th>\n      <td>-0.002015</td>\n      <td>0.084110</td>\n      <td>0.012780</td>\n      <td>-0.033995</td>\n    </tr>\n    <tr>\n      <th>2021-06-24</th>\n      <td>-0.002244</td>\n      <td>0.009060</td>\n      <td>-0.154075</td>\n      <td>-0.100530</td>\n    </tr>\n    <tr>\n      <th>2021-06-25</th>\n      <td>-0.002174</td>\n      <td>-0.060610</td>\n      <td>-0.029625</td>\n      <td>-0.081700</td>\n    </tr>\n    <tr>\n      <th>2021-06-28</th>\n      <td>0.012321</td>\n      <td>-0.053415</td>\n      <td>0.030735</td>\n      <td>-0.030965</td>\n    </tr>\n    <tr>\n      <th>2021-06-29</th>\n      <td>0.011725</td>\n      <td>0.037555</td>\n      <td>-0.048560</td>\n      <td>0.009470</td>\n    </tr>\n    <tr>\n      <th>2021-06-30</th>\n      <td>0.004474</td>\n      <td>0.008740</td>\n      <td>-0.089700</td>\n      <td>0.031275</td>\n    </tr>\n    <tr>\n      <th>2021-07-01</th>\n      <td>0.002410</td>\n      <td>-0.102815</td>\n      <td>0.157910</td>\n      <td>-0.038875</td>\n    </tr>\n    <tr>\n      <th>2021-07-02</th>\n      <td>0.019596</td>\n      <td>0.035320</td>\n      <td>-0.068425</td>\n      <td>-0.063535</td>\n    </tr>\n  </tbody>\n</table>\n</div>"
     },
     "metadata": {}
    }
   ],
   "source": [
    "topic_sentiments.index = pd.to_datetime(dates)\n",
    "topic_sentiments = apple_returns.join(topic_sentiments).dropna(how=\"any\")\n",
    "topic_sentiments.to_csv(\"topic_sentiment.csv\")\n",
    "display(topic_sentiments)"
   ]
  },
  {
   "cell_type": "code",
   "execution_count": 18,
   "metadata": {},
   "outputs": [
    {
     "output_type": "execute_result",
     "data": {
      "text/plain": [
       "<pandas.io.formats.style.Styler at 0x7fed8728ce20>"
      ],
      "text/html": "<style  type=\"text/css\" >\n#T_79b54_row0_col0,#T_79b54_row1_col1,#T_79b54_row2_col2,#T_79b54_row3_col3{\n            background-color:  #023858;\n            color:  #f1f1f1;\n        }#T_79b54_row0_col1{\n            background-color:  #fdf5fa;\n            color:  #000000;\n        }#T_79b54_row0_col2{\n            background-color:  #a7bddb;\n            color:  #000000;\n        }#T_79b54_row0_col3,#T_79b54_row1_col2,#T_79b54_row2_col1,#T_79b54_row3_col0{\n            background-color:  #fff7fb;\n            color:  #000000;\n        }#T_79b54_row1_col0{\n            background-color:  #f7f0f7;\n            color:  #000000;\n        }#T_79b54_row1_col3{\n            background-color:  #a9bfdc;\n            color:  #000000;\n        }#T_79b54_row2_col0{\n            background-color:  #9cb9d9;\n            color:  #000000;\n        }#T_79b54_row2_col3{\n            background-color:  #f8f1f8;\n            color:  #000000;\n        }#T_79b54_row3_col1{\n            background-color:  #b1c2de;\n            color:  #000000;\n        }#T_79b54_row3_col2{\n            background-color:  #fef6fa;\n            color:  #000000;\n        }</style><table id=\"T_79b54_\" ><thead>    <tr>        <th class=\"blank level0\" ></th>        <th class=\"col_heading level0 col0\" >Apple_Close</th>        <th class=\"col_heading level0 col1\" >Inflation_avg</th>        <th class=\"col_heading level0 col2\" >RegTech_avg</th>        <th class=\"col_heading level0 col3\" >Covid_avg</th>    </tr></thead><tbody>\n                <tr>\n                        <th id=\"T_79b54_level0_row0\" class=\"row_heading level0 row0\" >Apple_Close</th>\n                        <td id=\"T_79b54_row0_col0\" class=\"data row0 col0\" >1.000000</td>\n                        <td id=\"T_79b54_row0_col1\" class=\"data row0 col1\" >0.089954</td>\n                        <td id=\"T_79b54_row0_col2\" class=\"data row0 col2\" >0.419371</td>\n                        <td id=\"T_79b54_row0_col3\" class=\"data row0 col3\" >0.034195</td>\n            </tr>\n            <tr>\n                        <th id=\"T_79b54_level0_row1\" class=\"row_heading level0 row1\" >Inflation_avg</th>\n                        <td id=\"T_79b54_row1_col0\" class=\"data row1 col0\" >0.089954</td>\n                        <td id=\"T_79b54_row1_col1\" class=\"data row1 col1\" >1.000000</td>\n                        <td id=\"T_79b54_row1_col2\" class=\"data row1 col2\" >0.072733</td>\n                        <td id=\"T_79b54_row1_col3\" class=\"data row1 col3\" >0.388038</td>\n            </tr>\n            <tr>\n                        <th id=\"T_79b54_level0_row2\" class=\"row_heading level0 row2\" >RegTech_avg</th>\n                        <td id=\"T_79b54_row2_col0\" class=\"data row2 col0\" >0.419371</td>\n                        <td id=\"T_79b54_row2_col1\" class=\"data row2 col1\" >0.072733</td>\n                        <td id=\"T_79b54_row2_col2\" class=\"data row2 col2\" >1.000000</td>\n                        <td id=\"T_79b54_row2_col3\" class=\"data row2 col3\" >0.081515</td>\n            </tr>\n            <tr>\n                        <th id=\"T_79b54_level0_row3\" class=\"row_heading level0 row3\" >Covid_avg</th>\n                        <td id=\"T_79b54_row3_col0\" class=\"data row3 col0\" >0.034195</td>\n                        <td id=\"T_79b54_row3_col1\" class=\"data row3 col1\" >0.388038</td>\n                        <td id=\"T_79b54_row3_col2\" class=\"data row3 col2\" >0.081515</td>\n                        <td id=\"T_79b54_row3_col3\" class=\"data row3 col3\" >1.000000</td>\n            </tr>\n    </tbody></table>"
     },
     "metadata": {},
     "execution_count": 18
    }
   ],
   "source": [
    "topic_sentiments.corr().style.background_gradient()"
   ]
  },
  {
   "cell_type": "code",
   "execution_count": 9,
   "metadata": {},
   "outputs": [
    {
     "output_type": "error",
     "ename": "NameError",
     "evalue": "name 'topic_sentiments' is not defined",
     "traceback": [
      "\u001b[0;31m---------------------------------------------------------------------------\u001b[0m",
      "\u001b[0;31mNameError\u001b[0m                                 Traceback (most recent call last)",
      "\u001b[0;32m<ipython-input-9-34567108941b>\u001b[0m in \u001b[0;36m<module>\u001b[0;34m\u001b[0m\n\u001b[0;32m----> 1\u001b[0;31m \u001b[0mtopic_sentiments\u001b[0m\u001b[0;34m.\u001b[0m\u001b[0mplot\u001b[0m\u001b[0;34m(\u001b[0m\u001b[0;34m)\u001b[0m\u001b[0;34m\u001b[0m\u001b[0;34m\u001b[0m\u001b[0m\n\u001b[0m",
      "\u001b[0;31mNameError\u001b[0m: name 'topic_sentiments' is not defined"
     ]
    }
   ],
   "source": [
    "topic_sentiments.plot()"
   ]
  },
  {
   "cell_type": "code",
   "execution_count": null,
   "metadata": {},
   "outputs": [],
   "source": []
  }
 ]
}