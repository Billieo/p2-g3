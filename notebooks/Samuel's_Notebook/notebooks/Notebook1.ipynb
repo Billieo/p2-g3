{
 "metadata": {
  "language_info": {
   "codemirror_mode": {
    "name": "ipython",
    "version": 3
   },
   "file_extension": ".py",
   "mimetype": "text/x-python",
   "name": "python",
   "nbconvert_exporter": "python",
   "pygments_lexer": "ipython3",
   "version": "3.8.5"
  },
  "orig_nbformat": 2,
  "kernelspec": {
   "name": "python3",
   "display_name": "Python 3.8.5 64-bit ('base': conda)",
   "metadata": {
    "interpreter": {
     "hash": "11ef2bb442b8455a3e6b82f3202efe5c7a01a00a0939705f79f87b65f8f45715"
    }
   }
  }
 },
 "nbformat": 4,
 "nbformat_minor": 2,
 "cells": [
  {
   "cell_type": "code",
   "execution_count": 71,
   "metadata": {},
   "outputs": [
    {
     "output_type": "stream",
     "name": "stderr",
     "text": [
      "[nltk_data] Downloading package vader_lexicon to\n[nltk_data]     /Users/samuelarciniega/nltk_data...\n[nltk_data]   Package vader_lexicon is already up-to-date!\n"
     ]
    }
   ],
   "source": [
    "import os\n",
    "import numpy as np\n",
    "import pandas as pd\n",
    "from pathlib import Path\n",
    "from dotenv import load_dotenv\n",
    "import alpaca_trade_api as tradeapi\n",
    "from newsapi import NewsApiClient\n",
    "from datetime import datetime, timedelta\n",
    "import numpy as np\n",
    "import requests\n",
    "import nltk as nltk\n",
    "nltk.download('vader_lexicon')\n",
    "from nltk.sentiment.vader import SentimentIntensityAnalyzer\n",
    "analyzer = SentimentIntensityAnalyzer()\n",
    "from nltk.corpus import stopwords, reuters\n",
    "import hvplot.pandas\n",
    "%matplotlib inline"
   ]
  },
  {
   "cell_type": "code",
   "execution_count": 72,
   "metadata": {},
   "outputs": [
    {
     "output_type": "execute_result",
     "data": {
      "text/plain": [
       "True"
      ]
     },
     "metadata": {},
     "execution_count": 72
    }
   ],
   "source": [
    "load_dotenv()"
   ]
  },
  {
   "cell_type": "code",
   "execution_count": 73,
   "metadata": {},
   "outputs": [],
   "source": [
    "alpaca_api_key = os.getenv(\"ALPACA_API_KEY\")\n",
    "alpaca_secret_key = os.getenv(\"ALPACA_SECRET_KEY\")\n",
    "alpaca = tradeapi.REST(\n",
    "    alpaca_api_key,\n",
    "    alpaca_secret_key,\n",
    "    api_version=\"v2\")\n",
    "#print(alpaca_api_key)"
   ]
  },
  {
   "cell_type": "code",
   "execution_count": 74,
   "metadata": {},
   "outputs": [],
   "source": [
    "api_key = os.getenv(\"news_api\")\n",
    "#print(api_key)"
   ]
  },
  {
   "cell_type": "code",
   "execution_count": 75,
   "metadata": {},
   "outputs": [],
   "source": [
    "newsapi = NewsApiClient(api_key=api_key)"
   ]
  },
  {
   "cell_type": "code",
   "execution_count": 76,
   "metadata": {},
   "outputs": [
    {
     "output_type": "execute_result",
     "data": {
      "text/plain": [
       "                             GOOGL                                         \n",
       "                              open       high        low     close   volume\n",
       "time                                                                       \n",
       "2021-06-08 00:00:00-04:00  2412.00  2419.5203  2394.7800  2397.950  1025802\n",
       "2021-06-09 00:00:00-04:00  2413.49  2412.8800  2396.9000  2407.840   749436\n",
       "2021-06-10 00:00:00-04:00  2406.92  2436.0000  2403.7800  2435.150  1124766\n",
       "2021-06-11 00:00:00-04:00  2439.00  2441.7200  2418.9600  2430.290   884578\n",
       "2021-06-14 00:00:00-04:00  2432.50  2448.9200  2418.0000  2448.920   865732\n",
       "2021-06-15 00:00:00-04:00  2448.00  2455.5100  2421.1200  2429.160   800654\n",
       "2021-06-16 00:00:00-04:00  2437.07  2437.7200  2389.4000  2415.400  1132794\n",
       "2021-06-17 00:00:00-04:00  2407.66  2450.4500  2410.0000  2433.660  1087814\n",
       "2021-06-18 00:00:00-04:00  2424.92  2432.0600  2400.3000  2400.620  1588611\n",
       "2021-06-21 00:00:00-04:00  2411.09  2440.0000  2397.9700  2436.250   990946\n",
       "2021-06-22 00:00:00-04:00  2435.77  2448.0000  2421.2800  2446.610   892332\n",
       "2021-06-23 00:00:00-04:00  2443.50  2461.9100  2436.6900  2442.550   802706\n",
       "2021-06-24 00:00:00-04:00  2453.60  2461.1106  2446.0000  2450.000   807016\n",
       "2021-06-25 00:00:00-04:00  2441.63  2452.6600  2431.3050  2450.180   932717\n",
       "2021-06-28 00:00:00-04:00  2451.00  2455.6950  2428.1100  2451.550  1119397\n",
       "2021-06-29 00:00:00-04:00  2456.00  2460.4150  2433.8150  2444.890   826965\n",
       "2021-06-30 00:00:00-04:00  2442.32  2445.1400  2427.0900  2441.389   916801\n",
       "2021-07-01 00:00:00-04:00  2433.17  2451.7400  2430.6300  2448.890   753713\n",
       "2021-07-02 00:00:00-04:00  2460.99  2508.0800  2461.1900  2505.680  1105587\n",
       "2021-07-06 00:00:00-04:00  2512.97  2528.5600  2491.6501  2523.800  1093703\n",
       "2021-07-07 00:00:00-04:00  2540.32  2545.6800  2523.0600  2529.470   992014\n",
       "2021-07-08 00:00:00-04:00  2487.35  2511.9100  2480.4400  2501.850   992966"
      ],
      "text/html": "<div>\n<style scoped>\n    .dataframe tbody tr th:only-of-type {\n        vertical-align: middle;\n    }\n\n    .dataframe tbody tr th {\n        vertical-align: top;\n    }\n\n    .dataframe thead tr th {\n        text-align: left;\n    }\n\n    .dataframe thead tr:last-of-type th {\n        text-align: right;\n    }\n</style>\n<table border=\"1\" class=\"dataframe\">\n  <thead>\n    <tr>\n      <th></th>\n      <th colspan=\"5\" halign=\"left\">GOOGL</th>\n    </tr>\n    <tr>\n      <th></th>\n      <th>open</th>\n      <th>high</th>\n      <th>low</th>\n      <th>close</th>\n      <th>volume</th>\n    </tr>\n    <tr>\n      <th>time</th>\n      <th></th>\n      <th></th>\n      <th></th>\n      <th></th>\n      <th></th>\n    </tr>\n  </thead>\n  <tbody>\n    <tr>\n      <th>2021-06-08 00:00:00-04:00</th>\n      <td>2412.00</td>\n      <td>2419.5203</td>\n      <td>2394.7800</td>\n      <td>2397.950</td>\n      <td>1025802</td>\n    </tr>\n    <tr>\n      <th>2021-06-09 00:00:00-04:00</th>\n      <td>2413.49</td>\n      <td>2412.8800</td>\n      <td>2396.9000</td>\n      <td>2407.840</td>\n      <td>749436</td>\n    </tr>\n    <tr>\n      <th>2021-06-10 00:00:00-04:00</th>\n      <td>2406.92</td>\n      <td>2436.0000</td>\n      <td>2403.7800</td>\n      <td>2435.150</td>\n      <td>1124766</td>\n    </tr>\n    <tr>\n      <th>2021-06-11 00:00:00-04:00</th>\n      <td>2439.00</td>\n      <td>2441.7200</td>\n      <td>2418.9600</td>\n      <td>2430.290</td>\n      <td>884578</td>\n    </tr>\n    <tr>\n      <th>2021-06-14 00:00:00-04:00</th>\n      <td>2432.50</td>\n      <td>2448.9200</td>\n      <td>2418.0000</td>\n      <td>2448.920</td>\n      <td>865732</td>\n    </tr>\n    <tr>\n      <th>2021-06-15 00:00:00-04:00</th>\n      <td>2448.00</td>\n      <td>2455.5100</td>\n      <td>2421.1200</td>\n      <td>2429.160</td>\n      <td>800654</td>\n    </tr>\n    <tr>\n      <th>2021-06-16 00:00:00-04:00</th>\n      <td>2437.07</td>\n      <td>2437.7200</td>\n      <td>2389.4000</td>\n      <td>2415.400</td>\n      <td>1132794</td>\n    </tr>\n    <tr>\n      <th>2021-06-17 00:00:00-04:00</th>\n      <td>2407.66</td>\n      <td>2450.4500</td>\n      <td>2410.0000</td>\n      <td>2433.660</td>\n      <td>1087814</td>\n    </tr>\n    <tr>\n      <th>2021-06-18 00:00:00-04:00</th>\n      <td>2424.92</td>\n      <td>2432.0600</td>\n      <td>2400.3000</td>\n      <td>2400.620</td>\n      <td>1588611</td>\n    </tr>\n    <tr>\n      <th>2021-06-21 00:00:00-04:00</th>\n      <td>2411.09</td>\n      <td>2440.0000</td>\n      <td>2397.9700</td>\n      <td>2436.250</td>\n      <td>990946</td>\n    </tr>\n    <tr>\n      <th>2021-06-22 00:00:00-04:00</th>\n      <td>2435.77</td>\n      <td>2448.0000</td>\n      <td>2421.2800</td>\n      <td>2446.610</td>\n      <td>892332</td>\n    </tr>\n    <tr>\n      <th>2021-06-23 00:00:00-04:00</th>\n      <td>2443.50</td>\n      <td>2461.9100</td>\n      <td>2436.6900</td>\n      <td>2442.550</td>\n      <td>802706</td>\n    </tr>\n    <tr>\n      <th>2021-06-24 00:00:00-04:00</th>\n      <td>2453.60</td>\n      <td>2461.1106</td>\n      <td>2446.0000</td>\n      <td>2450.000</td>\n      <td>807016</td>\n    </tr>\n    <tr>\n      <th>2021-06-25 00:00:00-04:00</th>\n      <td>2441.63</td>\n      <td>2452.6600</td>\n      <td>2431.3050</td>\n      <td>2450.180</td>\n      <td>932717</td>\n    </tr>\n    <tr>\n      <th>2021-06-28 00:00:00-04:00</th>\n      <td>2451.00</td>\n      <td>2455.6950</td>\n      <td>2428.1100</td>\n      <td>2451.550</td>\n      <td>1119397</td>\n    </tr>\n    <tr>\n      <th>2021-06-29 00:00:00-04:00</th>\n      <td>2456.00</td>\n      <td>2460.4150</td>\n      <td>2433.8150</td>\n      <td>2444.890</td>\n      <td>826965</td>\n    </tr>\n    <tr>\n      <th>2021-06-30 00:00:00-04:00</th>\n      <td>2442.32</td>\n      <td>2445.1400</td>\n      <td>2427.0900</td>\n      <td>2441.389</td>\n      <td>916801</td>\n    </tr>\n    <tr>\n      <th>2021-07-01 00:00:00-04:00</th>\n      <td>2433.17</td>\n      <td>2451.7400</td>\n      <td>2430.6300</td>\n      <td>2448.890</td>\n      <td>753713</td>\n    </tr>\n    <tr>\n      <th>2021-07-02 00:00:00-04:00</th>\n      <td>2460.99</td>\n      <td>2508.0800</td>\n      <td>2461.1900</td>\n      <td>2505.680</td>\n      <td>1105587</td>\n    </tr>\n    <tr>\n      <th>2021-07-06 00:00:00-04:00</th>\n      <td>2512.97</td>\n      <td>2528.5600</td>\n      <td>2491.6501</td>\n      <td>2523.800</td>\n      <td>1093703</td>\n    </tr>\n    <tr>\n      <th>2021-07-07 00:00:00-04:00</th>\n      <td>2540.32</td>\n      <td>2545.6800</td>\n      <td>2523.0600</td>\n      <td>2529.470</td>\n      <td>992014</td>\n    </tr>\n    <tr>\n      <th>2021-07-08 00:00:00-04:00</th>\n      <td>2487.35</td>\n      <td>2511.9100</td>\n      <td>2480.4400</td>\n      <td>2501.850</td>\n      <td>992966</td>\n    </tr>\n  </tbody>\n</table>\n</div>"
     },
     "metadata": {},
     "execution_count": 76
    }
   ],
   "source": [
    "#15Min interval\n",
    "timeframe = \"1D\"\n",
    "start_date = pd.Timestamp(datetime.now(), tz=\"America/New_York\").isoformat()\n",
    "end_date = pd.Timestamp(datetime.now()- timedelta(30), tz=\"America/New_York\").isoformat()\n",
    "\n",
    "#today = pd.Timestamp(\"2021-01-02\", tz=\"America/New_York\").isoformat()\n",
    "ticker = [\"GOOGL\"]\n",
    "apple_ticker = alpaca.get_barset(\n",
    "    ticker,\n",
    "    timeframe,\n",
    "    limit=None,\n",
    "    start=end_date,\n",
    "    end=start_date,\n",
    "    after=None,\n",
    "    until=None,\n",
    ").df\n",
    "apple_ticker.dropna(inplace=True)\n",
    "apple_ticker.head(50)"
   ]
  },
  {
   "cell_type": "code",
   "execution_count": 77,
   "metadata": {},
   "outputs": [
    {
     "output_type": "execute_result",
     "data": {
      "text/plain": [
       "             Google\n",
       "2021-07-01  2448.89\n",
       "2021-07-02  2505.68\n",
       "2021-07-06  2523.80\n",
       "2021-07-07  2529.47\n",
       "2021-07-08  2501.85"
      ],
      "text/html": "<div>\n<style scoped>\n    .dataframe tbody tr th:only-of-type {\n        vertical-align: middle;\n    }\n\n    .dataframe tbody tr th {\n        vertical-align: top;\n    }\n\n    .dataframe thead th {\n        text-align: right;\n    }\n</style>\n<table border=\"1\" class=\"dataframe\">\n  <thead>\n    <tr style=\"text-align: right;\">\n      <th></th>\n      <th>Google</th>\n    </tr>\n  </thead>\n  <tbody>\n    <tr>\n      <th>2021-07-01</th>\n      <td>2448.89</td>\n    </tr>\n    <tr>\n      <th>2021-07-02</th>\n      <td>2505.68</td>\n    </tr>\n    <tr>\n      <th>2021-07-06</th>\n      <td>2523.80</td>\n    </tr>\n    <tr>\n      <th>2021-07-07</th>\n      <td>2529.47</td>\n    </tr>\n    <tr>\n      <th>2021-07-08</th>\n      <td>2501.85</td>\n    </tr>\n  </tbody>\n</table>\n</div>"
     },
     "metadata": {},
     "execution_count": 77
    }
   ],
   "source": [
    "apple_df = pd.DataFrame()\n",
    "apple_df[\"Google\"] = apple_ticker[\"GOOGL\"][\"close\"]\n",
    "#apple_df = apple_df.pct_change().dropna()\n",
    "apple_df.index = apple_df.index.date \n",
    "apple_df.tail()"
   ]
  },
  {
   "cell_type": "code",
   "execution_count": 78,
   "metadata": {},
   "outputs": [
    {
     "output_type": "execute_result",
     "data": {
      "text/plain": [
       "              Google\n",
       "2021-06-09  0.004124\n",
       "2021-06-10  0.011342\n",
       "2021-06-11 -0.001996\n",
       "2021-06-14  0.007666\n",
       "2021-06-15 -0.008069\n",
       "2021-06-16 -0.005665\n",
       "2021-06-17  0.007560\n",
       "2021-06-18 -0.013576\n",
       "2021-06-21  0.014842\n",
       "2021-06-22  0.004252\n",
       "2021-06-23 -0.001659\n",
       "2021-06-24  0.003050\n",
       "2021-06-25  0.000073\n",
       "2021-06-28  0.000559\n",
       "2021-06-29 -0.002717\n",
       "2021-06-30 -0.001432\n",
       "2021-07-01  0.003072\n",
       "2021-07-02  0.023190\n",
       "2021-07-06  0.007232\n",
       "2021-07-07  0.002247\n",
       "2021-07-08 -0.010919"
      ],
      "text/html": "<div>\n<style scoped>\n    .dataframe tbody tr th:only-of-type {\n        vertical-align: middle;\n    }\n\n    .dataframe tbody tr th {\n        vertical-align: top;\n    }\n\n    .dataframe thead th {\n        text-align: right;\n    }\n</style>\n<table border=\"1\" class=\"dataframe\">\n  <thead>\n    <tr style=\"text-align: right;\">\n      <th></th>\n      <th>Google</th>\n    </tr>\n  </thead>\n  <tbody>\n    <tr>\n      <th>2021-06-09</th>\n      <td>0.004124</td>\n    </tr>\n    <tr>\n      <th>2021-06-10</th>\n      <td>0.011342</td>\n    </tr>\n    <tr>\n      <th>2021-06-11</th>\n      <td>-0.001996</td>\n    </tr>\n    <tr>\n      <th>2021-06-14</th>\n      <td>0.007666</td>\n    </tr>\n    <tr>\n      <th>2021-06-15</th>\n      <td>-0.008069</td>\n    </tr>\n    <tr>\n      <th>2021-06-16</th>\n      <td>-0.005665</td>\n    </tr>\n    <tr>\n      <th>2021-06-17</th>\n      <td>0.007560</td>\n    </tr>\n    <tr>\n      <th>2021-06-18</th>\n      <td>-0.013576</td>\n    </tr>\n    <tr>\n      <th>2021-06-21</th>\n      <td>0.014842</td>\n    </tr>\n    <tr>\n      <th>2021-06-22</th>\n      <td>0.004252</td>\n    </tr>\n    <tr>\n      <th>2021-06-23</th>\n      <td>-0.001659</td>\n    </tr>\n    <tr>\n      <th>2021-06-24</th>\n      <td>0.003050</td>\n    </tr>\n    <tr>\n      <th>2021-06-25</th>\n      <td>0.000073</td>\n    </tr>\n    <tr>\n      <th>2021-06-28</th>\n      <td>0.000559</td>\n    </tr>\n    <tr>\n      <th>2021-06-29</th>\n      <td>-0.002717</td>\n    </tr>\n    <tr>\n      <th>2021-06-30</th>\n      <td>-0.001432</td>\n    </tr>\n    <tr>\n      <th>2021-07-01</th>\n      <td>0.003072</td>\n    </tr>\n    <tr>\n      <th>2021-07-02</th>\n      <td>0.023190</td>\n    </tr>\n    <tr>\n      <th>2021-07-06</th>\n      <td>0.007232</td>\n    </tr>\n    <tr>\n      <th>2021-07-07</th>\n      <td>0.002247</td>\n    </tr>\n    <tr>\n      <th>2021-07-08</th>\n      <td>-0.010919</td>\n    </tr>\n  </tbody>\n</table>\n</div>"
     },
     "metadata": {},
     "execution_count": 78
    }
   ],
   "source": [
    "apple_returns = apple_df.pct_change().dropna()\n",
    "apple_returns.head(50)"
   ]
  },
  {
   "cell_type": "code",
   "execution_count": 79,
   "metadata": {},
   "outputs": [],
   "source": [
    "def get_headlines(keyword):\n",
    "    all_headlines = []\n",
    "    all_dates = []    \n",
    "    date = datetime.strptime(start_date[:10], \"%Y-%m-%d\")\n",
    "    past_date = datetime.strptime(end_date[:10], \"%Y-%m-%d\")\n",
    "    print(f\"Fetching news about '{keyword}'\")\n",
    "    print(\"*\" * 30)\n",
    "    while date > past_date:\n",
    "        print(f\"retrieving news from: {date}\")\n",
    "        articles = newsapi.get_everything(\n",
    "            q=keyword,\n",
    "            from_param=str(date)[:10],\n",
    "            to=str(date)[:10],\n",
    "            language=\"en\",\n",
    "            sort_by=\"relevancy\",\n",
    "            page=1,\n",
    "        )\n",
    "        headlines = []\n",
    "        for i in range(0, len(articles[\"articles\"])):\n",
    "            headlines.append(articles[\"articles\"][i][\"title\"])\n",
    "        all_headlines.append(headlines)\n",
    "        all_dates.append(date)\n",
    "        date = date - timedelta(days=1)\n",
    "        \n",
    "    return all_headlines, all_dates"
   ]
  },
  {
   "cell_type": "code",
   "execution_count": 80,
   "metadata": {
    "tags": []
   },
   "outputs": [],
   "source": [
    "#inflation_headlines, dates = get_headlines(\"inflation\")"
   ]
  },
  {
   "cell_type": "code",
   "execution_count": 81,
   "metadata": {
    "tags": []
   },
   "outputs": [
    {
     "output_type": "stream",
     "name": "stdout",
     "text": [
      "Fetching news about 'advertising'\n",
      "******************************\n",
      "retrieving news from: 2021-07-08 00:00:00\n",
      "retrieving news from: 2021-07-07 00:00:00\n",
      "retrieving news from: 2021-07-06 00:00:00\n",
      "retrieving news from: 2021-07-05 00:00:00\n",
      "retrieving news from: 2021-07-04 00:00:00\n",
      "retrieving news from: 2021-07-03 00:00:00\n",
      "retrieving news from: 2021-07-02 00:00:00\n",
      "retrieving news from: 2021-07-01 00:00:00\n",
      "retrieving news from: 2021-06-30 00:00:00\n",
      "retrieving news from: 2021-06-29 00:00:00\n",
      "retrieving news from: 2021-06-28 00:00:00\n",
      "retrieving news from: 2021-06-27 00:00:00\n",
      "retrieving news from: 2021-06-26 00:00:00\n",
      "retrieving news from: 2021-06-25 00:00:00\n",
      "retrieving news from: 2021-06-24 00:00:00\n",
      "retrieving news from: 2021-06-23 00:00:00\n",
      "retrieving news from: 2021-06-22 00:00:00\n",
      "retrieving news from: 2021-06-21 00:00:00\n",
      "retrieving news from: 2021-06-20 00:00:00\n",
      "retrieving news from: 2021-06-19 00:00:00\n",
      "retrieving news from: 2021-06-18 00:00:00\n",
      "retrieving news from: 2021-06-17 00:00:00\n",
      "retrieving news from: 2021-06-16 00:00:00\n",
      "retrieving news from: 2021-06-15 00:00:00\n",
      "retrieving news from: 2021-06-14 00:00:00\n",
      "retrieving news from: 2021-06-13 00:00:00\n",
      "retrieving news from: 2021-06-12 00:00:00\n",
      "retrieving news from: 2021-06-11 00:00:00\n",
      "retrieving news from: 2021-06-10 00:00:00\n",
      "retrieving news from: 2021-06-09 00:00:00\n"
     ]
    }
   ],
   "source": [
    "advt_headlines, dates = get_headlines(\"advertising\")"
   ]
  },
  {
   "cell_type": "code",
   "execution_count": 82,
   "metadata": {},
   "outputs": [],
   "source": [
    "#covid_headlines,_ = get_headlines(\"coronavirus\")"
   ]
  },
  {
   "cell_type": "code",
   "execution_count": 83,
   "metadata": {},
   "outputs": [],
   "source": [
    "sid = SentimentIntensityAnalyzer()"
   ]
  },
  {
   "cell_type": "code",
   "execution_count": 84,
   "metadata": {},
   "outputs": [],
   "source": [
    "def headline_sentiment_summarizer_avg(headlines):\n",
    "    sentiment = []\n",
    "    for day in headlines:\n",
    "        day_score = []\n",
    "        for h in day:\n",
    "            if h == None:\n",
    "                continue\n",
    "            else:\n",
    "                day_score.append(sid.polarity_scores(h)[\"compound\"])\n",
    "        sentiment.append(sum(day_score) / len(day_score))\n",
    "    return sentiment"
   ]
  },
  {
   "cell_type": "code",
   "execution_count": 85,
   "metadata": {},
   "outputs": [],
   "source": [
    "#inflation = headline_sentiment_summarizer_avg(inflation_headlines)\n",
    "advertising = headline_sentiment_summarizer_avg(advt_headlines)\n",
    "#regtech.to_csv(\"security.csv\")\n",
    "#covid = headline_sentiment_summarizer_avg(covid_headlines)"
   ]
  },
  {
   "cell_type": "code",
   "execution_count": 86,
   "metadata": {},
   "outputs": [
    {
     "output_type": "stream",
     "name": "stdout",
     "text": [
      "    advertising_avg\n0         -0.032835\n1         -0.139690\n2          0.147860\n3          0.049995\n4          0.100415\n5          0.009015\n6          0.083680\n7          0.130385\n8         -0.037580\n9          0.067540\n10         0.031515\n11         0.056470\n12         0.088585\n13         0.027995\n14        -0.078795\n15        -0.052875\n16         0.069120\n17         0.094835\n18         0.109955\n19         0.183010\n20         0.010360\n21         0.083395\n22        -0.004190\n23         0.033005\n24         0.069805\n25         0.088610\n26         0.154360\n27         0.013340\n28         0.027290\n29         0.016745\n"
     ]
    }
   ],
   "source": [
    "topic_sentiments = pd.DataFrame(\n",
    "    {\n",
    "        \"advertising_avg\": advertising,\n",
    "    }\n",
    ")\n",
    "#\"Inflation_avg\": inflation,\n",
    "#\"Security_avg\": regtech,\n",
    "#\"Covid_avg\": covid,\n",
    "print(topic_sentiments)\n",
    "#topic_sentiments.to_csv(\"test.csv\")"
   ]
  },
  {
   "cell_type": "code",
   "execution_count": 87,
   "metadata": {},
   "outputs": [
    {
     "output_type": "display_data",
     "data": {
      "text/plain": "              Google  advertising_avg\n2021-06-09  0.004124         0.016745\n2021-06-10  0.011342         0.027290\n2021-06-11 -0.001996         0.013340\n2021-06-14  0.007666         0.069805\n2021-06-15 -0.008069         0.033005\n2021-06-16 -0.005665        -0.004190\n2021-06-17  0.007560         0.083395\n2021-06-18 -0.013576         0.010360\n2021-06-21  0.014842         0.094835\n2021-06-22  0.004252         0.069120\n2021-06-23 -0.001659        -0.052875\n2021-06-24  0.003050        -0.078795\n2021-06-25  0.000073         0.027995\n2021-06-28  0.000559         0.031515\n2021-06-29 -0.002717         0.067540\n2021-06-30 -0.001432        -0.037580\n2021-07-01  0.003072         0.130385\n2021-07-02  0.023190         0.083680\n2021-07-06  0.007232         0.147860\n2021-07-07  0.002247        -0.139690\n2021-07-08 -0.010919        -0.032835",
      "text/html": "<div>\n<style scoped>\n    .dataframe tbody tr th:only-of-type {\n        vertical-align: middle;\n    }\n\n    .dataframe tbody tr th {\n        vertical-align: top;\n    }\n\n    .dataframe thead th {\n        text-align: right;\n    }\n</style>\n<table border=\"1\" class=\"dataframe\">\n  <thead>\n    <tr style=\"text-align: right;\">\n      <th></th>\n      <th>Google</th>\n      <th>advertising_avg</th>\n    </tr>\n  </thead>\n  <tbody>\n    <tr>\n      <th>2021-06-09</th>\n      <td>0.004124</td>\n      <td>0.016745</td>\n    </tr>\n    <tr>\n      <th>2021-06-10</th>\n      <td>0.011342</td>\n      <td>0.027290</td>\n    </tr>\n    <tr>\n      <th>2021-06-11</th>\n      <td>-0.001996</td>\n      <td>0.013340</td>\n    </tr>\n    <tr>\n      <th>2021-06-14</th>\n      <td>0.007666</td>\n      <td>0.069805</td>\n    </tr>\n    <tr>\n      <th>2021-06-15</th>\n      <td>-0.008069</td>\n      <td>0.033005</td>\n    </tr>\n    <tr>\n      <th>2021-06-16</th>\n      <td>-0.005665</td>\n      <td>-0.004190</td>\n    </tr>\n    <tr>\n      <th>2021-06-17</th>\n      <td>0.007560</td>\n      <td>0.083395</td>\n    </tr>\n    <tr>\n      <th>2021-06-18</th>\n      <td>-0.013576</td>\n      <td>0.010360</td>\n    </tr>\n    <tr>\n      <th>2021-06-21</th>\n      <td>0.014842</td>\n      <td>0.094835</td>\n    </tr>\n    <tr>\n      <th>2021-06-22</th>\n      <td>0.004252</td>\n      <td>0.069120</td>\n    </tr>\n    <tr>\n      <th>2021-06-23</th>\n      <td>-0.001659</td>\n      <td>-0.052875</td>\n    </tr>\n    <tr>\n      <th>2021-06-24</th>\n      <td>0.003050</td>\n      <td>-0.078795</td>\n    </tr>\n    <tr>\n      <th>2021-06-25</th>\n      <td>0.000073</td>\n      <td>0.027995</td>\n    </tr>\n    <tr>\n      <th>2021-06-28</th>\n      <td>0.000559</td>\n      <td>0.031515</td>\n    </tr>\n    <tr>\n      <th>2021-06-29</th>\n      <td>-0.002717</td>\n      <td>0.067540</td>\n    </tr>\n    <tr>\n      <th>2021-06-30</th>\n      <td>-0.001432</td>\n      <td>-0.037580</td>\n    </tr>\n    <tr>\n      <th>2021-07-01</th>\n      <td>0.003072</td>\n      <td>0.130385</td>\n    </tr>\n    <tr>\n      <th>2021-07-02</th>\n      <td>0.023190</td>\n      <td>0.083680</td>\n    </tr>\n    <tr>\n      <th>2021-07-06</th>\n      <td>0.007232</td>\n      <td>0.147860</td>\n    </tr>\n    <tr>\n      <th>2021-07-07</th>\n      <td>0.002247</td>\n      <td>-0.139690</td>\n    </tr>\n    <tr>\n      <th>2021-07-08</th>\n      <td>-0.010919</td>\n      <td>-0.032835</td>\n    </tr>\n  </tbody>\n</table>\n</div>"
     },
     "metadata": {}
    }
   ],
   "source": [
    "import datetime\n",
    "topic_sentiments.index = pd.to_datetime(dates)\n",
    "topic_sentiments = apple_returns.join(topic_sentiments).dropna(how=\"any\")\n",
    "#topic_sentiments.to_csv(\"topic_sentiment.csv\")\n",
    "display(topic_sentiments)"
   ]
  },
  {
   "cell_type": "code",
   "execution_count": 88,
   "metadata": {},
   "outputs": [
    {
     "output_type": "execute_result",
     "data": {
      "text/plain": [
       "<pandas.io.formats.style.Styler at 0x7ff4cbd22910>"
      ],
      "text/html": "<style  type=\"text/css\" >\n#T_bfd03_row0_col0,#T_bfd03_row1_col1{\n            background-color:  #023858;\n            color:  #f1f1f1;\n        }#T_bfd03_row0_col1,#T_bfd03_row1_col0{\n            background-color:  #fff7fb;\n            color:  #000000;\n        }</style><table id=\"T_bfd03_\" ><thead>    <tr>        <th class=\"blank level0\" ></th>        <th class=\"col_heading level0 col0\" >Google</th>        <th class=\"col_heading level0 col1\" >advertising_avg</th>    </tr></thead><tbody>\n                <tr>\n                        <th id=\"T_bfd03_level0_row0\" class=\"row_heading level0 row0\" >Google</th>\n                        <td id=\"T_bfd03_row0_col0\" class=\"data row0 col0\" >1.000000</td>\n                        <td id=\"T_bfd03_row0_col1\" class=\"data row0 col1\" >0.413777</td>\n            </tr>\n            <tr>\n                        <th id=\"T_bfd03_level0_row1\" class=\"row_heading level0 row1\" >advertising_avg</th>\n                        <td id=\"T_bfd03_row1_col0\" class=\"data row1 col0\" >0.413777</td>\n                        <td id=\"T_bfd03_row1_col1\" class=\"data row1 col1\" >1.000000</td>\n            </tr>\n    </tbody></table>"
     },
     "metadata": {},
     "execution_count": 88
    }
   ],
   "source": [
    "topic_sentiments.corr().style.background_gradient()"
   ]
  },
  {
   "cell_type": "code",
   "execution_count": 89,
   "metadata": {},
   "outputs": [
    {
     "output_type": "display_data",
     "data": {},
     "metadata": {}
    },
    {
     "output_type": "execute_result",
     "data": {
      "text/html": "<div id='2926'>\n\n\n\n\n\n  <div class=\"bk-root\" id=\"4c0cf63d-3dd5-446c-be1f-f35883f509f3\" data-root-id=\"2926\"></div>\n</div>\n<script type=\"application/javascript\">(function(root) {\n  function embed_document(root) {\n  var docs_json = {\"607600a7-cfab-4eae-94d0-2d952059c549\":{\"roots\":{\"references\":[{\"attributes\":{\"data_source\":{\"id\":\"2966\"},\"glyph\":{\"id\":\"2969\"},\"hover_glyph\":null,\"muted_glyph\":{\"id\":\"2971\"},\"nonselection_glyph\":{\"id\":\"2970\"},\"selection_glyph\":null,\"view\":{\"id\":\"2973\"}},\"id\":\"2972\",\"type\":\"GlyphRenderer\"},{\"attributes\":{\"months\":[0,2,4,6,8,10]},\"id\":\"2988\",\"type\":\"MonthsTicker\"},{\"attributes\":{\"margin\":[5,5,5,5],\"name\":\"HSpacer03773\",\"sizing_mode\":\"stretch_width\"},\"id\":\"3199\",\"type\":\"Spacer\"},{\"attributes\":{\"months\":[0,4,8]},\"id\":\"2989\",\"type\":\"MonthsTicker\"},{\"attributes\":{\"children\":[{\"id\":\"2927\"},{\"id\":\"2932\"},{\"id\":\"3199\"}],\"margin\":[0,0,0,0],\"name\":\"Row03768\",\"tags\":[\"embedded\"]},\"id\":\"2926\",\"type\":\"Row\"},{\"attributes\":{},\"id\":\"2953\",\"type\":\"ResetTool\"},{\"attributes\":{\"label\":{\"value\":\"Google\"},\"renderers\":[{\"id\":\"2972\"}]},\"id\":\"2993\",\"type\":\"LegendItem\"},{\"attributes\":{},\"id\":\"2991\",\"type\":\"YearsTicker\"},{\"attributes\":{\"overlay\":{\"id\":\"2954\"}},\"id\":\"2952\",\"type\":\"BoxZoomTool\"},{\"attributes\":{\"line_alpha\":0.1,\"line_color\":\"#ff7e0e\",\"line_width\":2,\"x\":{\"field\":\"index\"},\"y\":{\"field\":\"value\"}},\"id\":\"2998\",\"type\":\"Line\"},{\"attributes\":{\"months\":[0,6]},\"id\":\"2990\",\"type\":\"MonthsTicker\"},{\"attributes\":{\"line_color\":\"#ff7e0e\",\"line_width\":2,\"x\":{\"field\":\"index\"},\"y\":{\"field\":\"value\"}},\"id\":\"2997\",\"type\":\"Line\"},{\"attributes\":{\"axis\":{\"id\":\"2945\"},\"dimension\":1,\"grid_line_color\":null,\"ticker\":null},\"id\":\"2948\",\"type\":\"Grid\"},{\"attributes\":{\"end\":0.176615,\"reset_end\":0.176615,\"reset_start\":-0.168445,\"start\":-0.168445,\"tags\":[[[\"value\",\"value\",null]]]},\"id\":\"2929\",\"type\":\"Range1d\"},{\"attributes\":{\"line_alpha\":0.2,\"line_color\":\"#ff7e0e\",\"line_width\":2,\"x\":{\"field\":\"index\"},\"y\":{\"field\":\"value\"}},\"id\":\"2999\",\"type\":\"Line\"},{\"attributes\":{\"line_color\":\"#1f77b3\",\"line_width\":2,\"x\":{\"field\":\"index\"},\"y\":{\"field\":\"value\"}},\"id\":\"2969\",\"type\":\"Line\"},{\"attributes\":{\"line_alpha\":0.2,\"line_color\":\"#1f77b3\",\"line_width\":2,\"x\":{\"field\":\"index\"},\"y\":{\"field\":\"value\"}},\"id\":\"2971\",\"type\":\"Line\"},{\"attributes\":{\"source\":{\"id\":\"2994\"}},\"id\":\"3001\",\"type\":\"CDSView\"},{\"attributes\":{\"below\":[{\"id\":\"2941\"}],\"center\":[{\"id\":\"2944\"},{\"id\":\"2948\"}],\"left\":[{\"id\":\"2945\"}],\"margin\":null,\"min_border_bottom\":10,\"min_border_left\":10,\"min_border_right\":10,\"min_border_top\":10,\"plot_height\":300,\"plot_width\":700,\"renderers\":[{\"id\":\"2972\"},{\"id\":\"3000\"}],\"right\":[{\"id\":\"2992\"}],\"sizing_mode\":\"fixed\",\"title\":{\"id\":\"2933\"},\"toolbar\":{\"id\":\"2955\"},\"x_range\":{\"id\":\"2928\"},\"x_scale\":{\"id\":\"2937\"},\"y_range\":{\"id\":\"2929\"},\"y_scale\":{\"id\":\"2939\"}},\"id\":\"2932\",\"subtype\":\"Figure\",\"type\":\"Plot\"},{\"attributes\":{},\"id\":\"2939\",\"type\":\"LinearScale\"},{\"attributes\":{\"label\":{\"value\":\"advertising_avg\"},\"renderers\":[{\"id\":\"3000\"}]},\"id\":\"3022\",\"type\":\"LegendItem\"},{\"attributes\":{\"days\":[1,15]},\"id\":\"2986\",\"type\":\"DaysTicker\"},{\"attributes\":{},\"id\":\"2951\",\"type\":\"WheelZoomTool\"},{\"attributes\":{},\"id\":\"2962\",\"type\":\"DatetimeTickFormatter\"},{\"attributes\":{},\"id\":\"3043\",\"type\":\"UnionRenderers\"},{\"attributes\":{\"bottom_units\":\"screen\",\"fill_alpha\":0.5,\"fill_color\":\"lightgrey\",\"left_units\":\"screen\",\"level\":\"overlay\",\"line_alpha\":1.0,\"line_color\":\"black\",\"line_dash\":[4,4],\"line_width\":2,\"render_mode\":\"css\",\"right_units\":\"screen\",\"top_units\":\"screen\"},\"id\":\"2954\",\"type\":\"BoxAnnotation\"},{\"attributes\":{\"days\":[1,4,7,10,13,16,19,22,25,28]},\"id\":\"2984\",\"type\":\"DaysTicker\"},{\"attributes\":{\"line_alpha\":0.1,\"line_color\":\"#1f77b3\",\"line_width\":2,\"x\":{\"field\":\"index\"},\"y\":{\"field\":\"value\"}},\"id\":\"2970\",\"type\":\"Line\"},{\"attributes\":{\"click_policy\":\"mute\",\"items\":[{\"id\":\"2993\"},{\"id\":\"3022\"}],\"location\":[0,0],\"title\":\"Variable\"},\"id\":\"2992\",\"type\":\"Legend\"},{\"attributes\":{\"axis_label\":\"\",\"bounds\":\"auto\",\"formatter\":{\"id\":\"2962\"},\"major_label_orientation\":\"horizontal\",\"ticker\":{\"id\":\"2942\"}},\"id\":\"2941\",\"type\":\"DatetimeAxis\"},{\"attributes\":{\"num_minor_ticks\":5,\"tickers\":[{\"id\":\"2980\"},{\"id\":\"2981\"},{\"id\":\"2982\"},{\"id\":\"2983\"},{\"id\":\"2984\"},{\"id\":\"2985\"},{\"id\":\"2986\"},{\"id\":\"2987\"},{\"id\":\"2988\"},{\"id\":\"2989\"},{\"id\":\"2990\"},{\"id\":\"2991\"}]},\"id\":\"2942\",\"type\":\"DatetimeTicker\"},{\"attributes\":{\"active_drag\":\"auto\",\"active_inspect\":\"auto\",\"active_multi\":null,\"active_scroll\":\"auto\",\"active_tap\":\"auto\",\"tools\":[{\"id\":\"2930\"},{\"id\":\"2949\"},{\"id\":\"2950\"},{\"id\":\"2951\"},{\"id\":\"2952\"},{\"id\":\"2953\"}]},\"id\":\"2955\",\"type\":\"Toolbar\"},{\"attributes\":{},\"id\":\"2964\",\"type\":\"BasicTickFormatter\"},{\"attributes\":{\"base\":24,\"mantissas\":[1,2,4,6,8,12],\"max_interval\":43200000.0,\"min_interval\":3600000.0,\"num_minor_ticks\":0},\"id\":\"2982\",\"type\":\"AdaptiveTicker\"},{\"attributes\":{\"source\":{\"id\":\"2966\"}},\"id\":\"2973\",\"type\":\"CDSView\"},{\"attributes\":{},\"id\":\"2950\",\"type\":\"PanTool\"},{\"attributes\":{},\"id\":\"2937\",\"type\":\"LinearScale\"},{\"attributes\":{\"axis\":{\"id\":\"2941\"},\"grid_line_color\":null,\"ticker\":null},\"id\":\"2944\",\"type\":\"Grid\"},{\"attributes\":{\"months\":[0,1,2,3,4,5,6,7,8,9,10,11]},\"id\":\"2987\",\"type\":\"MonthsTicker\"},{\"attributes\":{},\"id\":\"3020\",\"type\":\"UnionRenderers\"},{\"attributes\":{\"margin\":[5,5,5,5],\"name\":\"HSpacer03772\",\"sizing_mode\":\"stretch_width\"},\"id\":\"2927\",\"type\":\"Spacer\"},{\"attributes\":{},\"id\":\"2949\",\"type\":\"SaveTool\"},{\"attributes\":{\"data\":{\"Variable\":[\"Google\",\"Google\",\"Google\",\"Google\",\"Google\",\"Google\",\"Google\",\"Google\",\"Google\",\"Google\",\"Google\",\"Google\",\"Google\",\"Google\",\"Google\",\"Google\",\"Google\",\"Google\",\"Google\",\"Google\",\"Google\"],\"index\":{\"__ndarray__\":\"AABAGeGed0IAAAB/M593QgAAwOSFn3dCAAAAFn2gd0IAAMB7z6B3QgAAgOEhoXdCAABAR3Shd0IAAACtxqF3QgAAQN69ondCAAAARBCjd0IAAMCpYqN3QgAAgA+1o3dCAABAdQekd0IAAICm/qR3QgAAQAxRpXdCAAAAcqOld0IAAMDX9aV3QgAAgD1IpndCAACA1JGnd0IAAEA65Kd3QgAAAKA2qHdC\",\"dtype\":\"float64\",\"shape\":[21]},\"value\":{\"__ndarray__\":\"ADNgcbPkcD8AY+MBiTqHPwDCzQJvWWC/AJsflh9mfz8Anup1aIaAv4AmuDOrM3e/AHcW7Qz3fj+A17643s2LvwDdqGd7ZY4/ALKc5wBrcT8A3jMJMTBbvwBc3C+B/Gg/AEB9eHJCEz8AiKCTbVJCPwBChqM5QWa/AL6NERp2V78AIKr/WitpP0ArYSglv5c/AGCrwdmefT8AbK/EfGdiP4AJwWvZXIa/\",\"dtype\":\"float64\",\"shape\":[21]}},\"selected\":{\"id\":\"2967\"},\"selection_policy\":{\"id\":\"3020\"}},\"id\":\"2966\",\"type\":\"ColumnDataSource\"},{\"attributes\":{\"mantissas\":[1,2,5],\"max_interval\":500.0,\"num_minor_ticks\":0},\"id\":\"2980\",\"type\":\"AdaptiveTicker\"},{\"attributes\":{\"text\":\"\",\"text_color\":{\"value\":\"black\"},\"text_font_size\":{\"value\":\"12pt\"}},\"id\":\"2933\",\"type\":\"Title\"},{\"attributes\":{\"end\":1625702400000.0,\"reset_end\":1625702400000.0,\"reset_start\":1623196800000.0,\"start\":1623196800000.0,\"tags\":[[[\"index\",\"index\",null]]]},\"id\":\"2928\",\"type\":\"Range1d\"},{\"attributes\":{\"days\":[1,8,15,22]},\"id\":\"2985\",\"type\":\"DaysTicker\"},{\"attributes\":{},\"id\":\"2946\",\"type\":\"BasicTicker\"},{\"attributes\":{\"data\":{\"Variable\":[\"advertising_avg\",\"advertising_avg\",\"advertising_avg\",\"advertising_avg\",\"advertising_avg\",\"advertising_avg\",\"advertising_avg\",\"advertising_avg\",\"advertising_avg\",\"advertising_avg\",\"advertising_avg\",\"advertising_avg\",\"advertising_avg\",\"advertising_avg\",\"advertising_avg\",\"advertising_avg\",\"advertising_avg\",\"advertising_avg\",\"advertising_avg\",\"advertising_avg\",\"advertising_avg\"],\"index\":{\"__ndarray__\":\"AABAGeGed0IAAAB/M593QgAAwOSFn3dCAAAAFn2gd0IAAMB7z6B3QgAAgOEhoXdCAABAR3Shd0IAAACtxqF3QgAAQN69ondCAAAARBCjd0IAAMCpYqN3QgAAgA+1o3dCAABAdQekd0IAAICm/qR3QgAAQAxRpXdCAAAAcqOld0IAAMDX9aV3QgAAgD1IpndCAACA1JGnd0IAAEA65Kd3QgAAAKA2qHdC\",\"dtype\":\"float64\",\"shape\":[21]},\"value\":{\"__ndarray__\":\"vW987ZklkT82Bwjm6PGbPzZB1H0AUos/WecYkL3esT9mfjUHCOagP2Maho+IKXG/KWGm7V9ZtT8uE36pnzeFPw8jhEcbR7g/i+B/K9mxsT/iT42XbhKrvyScFrzoK7S/QFvOpbiqnD+muKrsuyKgP7X9KytNSrE/6qT3ja89o79wyXGndLDAP7JLVG8NbLU/zHoxlBPtwj/FA8qmXOHBv8YMVMa/z6C/\",\"dtype\":\"float64\",\"shape\":[21]}},\"selected\":{\"id\":\"2995\"},\"selection_policy\":{\"id\":\"3043\"}},\"id\":\"2994\",\"type\":\"ColumnDataSource\"},{\"attributes\":{\"data_source\":{\"id\":\"2994\"},\"glyph\":{\"id\":\"2997\"},\"hover_glyph\":null,\"muted_glyph\":{\"id\":\"2999\"},\"nonselection_glyph\":{\"id\":\"2998\"},\"selection_glyph\":null,\"view\":{\"id\":\"3001\"}},\"id\":\"3000\",\"type\":\"GlyphRenderer\"},{\"attributes\":{\"base\":60,\"mantissas\":[1,2,5,10,15,20,30],\"max_interval\":1800000.0,\"min_interval\":1000.0,\"num_minor_ticks\":0},\"id\":\"2981\",\"type\":\"AdaptiveTicker\"},{\"attributes\":{\"days\":[1,2,3,4,5,6,7,8,9,10,11,12,13,14,15,16,17,18,19,20,21,22,23,24,25,26,27,28,29,30,31]},\"id\":\"2983\",\"type\":\"DaysTicker\"},{\"attributes\":{},\"id\":\"2995\",\"type\":\"Selection\"},{\"attributes\":{\"axis_label\":\"\",\"bounds\":\"auto\",\"formatter\":{\"id\":\"2964\"},\"major_label_orientation\":\"horizontal\",\"ticker\":{\"id\":\"2946\"}},\"id\":\"2945\",\"type\":\"LinearAxis\"},{\"attributes\":{},\"id\":\"2967\",\"type\":\"Selection\"},{\"attributes\":{\"callback\":null,\"formatters\":{\"@{index}\":\"datetime\"},\"renderers\":[{\"id\":\"2972\"},{\"id\":\"3000\"}],\"tags\":[\"hv_created\"],\"tooltips\":[[\"Variable\",\"@{Variable}\"],[\"index\",\"@{index}{%F %T}\"],[\"value\",\"@{value}\"]]},\"id\":\"2930\",\"type\":\"HoverTool\"}],\"root_ids\":[\"2926\"]},\"title\":\"Bokeh Application\",\"version\":\"2.0.2\"}};\n  var render_items = [{\"docid\":\"607600a7-cfab-4eae-94d0-2d952059c549\",\"root_ids\":[\"2926\"],\"roots\":{\"2926\":\"4c0cf63d-3dd5-446c-be1f-f35883f509f3\"}}];\n  root.Bokeh.embed.embed_items_notebook(docs_json, render_items);\n  }\nif (root.Bokeh !== undefined) {\n    embed_document(root);\n  } else {\n    var attempts = 0;\n    var timer = setInterval(function(root) {\n      if (root.Bokeh !== undefined) {\n        clearInterval(timer);\n        embed_document(root);\n      } else if (document.readyState == \"complete\") {\n        attempts++;\n        if (attempts > 100) {\n          clearInterval(timer);\n          console.log(\"Bokeh: ERROR: Unable to run BokehJS code because BokehJS library is missing\");\n        }\n      }\n    }, 10, root)\n  }\n})(window);</script>",
      "application/vnd.holoviews_exec.v0+json": "",
      "text/plain": [
       ":NdOverlay   [Variable]\n",
       "   :Curve   [index]   (value)"
      ]
     },
     "metadata": {
      "application/vnd.holoviews_exec.v0+json": {
       "id": "2926"
      }
     },
     "execution_count": 89
    }
   ],
   "source": [
    "topic_sentiments.hvplot.line(figsize=(20,10))"
   ]
  },
  {
   "cell_type": "code",
   "execution_count": 90,
   "metadata": {},
   "outputs": [],
   "source": [
    "def window_data(df, window, feature_col_number, target_col_number):\n",
    "    X = []\n",
    "    y = []\n",
    "    for i in range(len(df) - window - 1):\n",
    "        features = df.iloc[i:(i + window), feature_col_number]\n",
    "        target = df.iloc[(i + window), target_col_number]\n",
    "        X.append(features)\n",
    "        y.append(target)\n",
    "    return np.array(X), np.array(y).reshape(-1, 1)"
   ]
  },
  {
   "cell_type": "code",
   "execution_count": 91,
   "metadata": {},
   "outputs": [],
   "source": [
    "window_size = 2\n",
    "feature_column = 1\n",
    "target_column = 0\n",
    "X, y = window_data(topic_sentiments, window_size, feature_column, target_column)\n",
    "#topic_sentiments.head()"
   ]
  },
  {
   "cell_type": "code",
   "execution_count": 92,
   "metadata": {},
   "outputs": [],
   "source": [
    "split = int(0.7 * len(X))\n",
    "X_train = X[: split]\n",
    "X_test = X[split :]\n",
    "y_train = y[: split]\n",
    "y_test = y[split :]"
   ]
  },
  {
   "cell_type": "code",
   "execution_count": 93,
   "metadata": {},
   "outputs": [],
   "source": [
    "from sklearn.preprocessing import MinMaxScaler\n",
    "scaler = MinMaxScaler()\n",
    "scaler.fit(X)\n",
    "X_train = scaler.transform(X_train)\n",
    "X_test = scaler.transform(X_test)\n",
    "scaler.fit(y)\n",
    "y_train = scaler.transform(y_train)\n",
    "y_test = scaler.transform(y_test)"
   ]
  },
  {
   "cell_type": "code",
   "execution_count": 94,
   "metadata": {},
   "outputs": [
    {
     "output_type": "stream",
     "name": "stdout",
     "text": [
      "X_train sample values:\n[[[0.45673583]\n  [0.46804615]]\n\n [[0.50714695]\n  [0.40649886]]\n\n [[0.44045798]\n  [0.65562198]]\n\n [[0.71039296]\n  [0.49326068]]\n\n [[0.53446792]\n  [0.32915665]]]\n\nX_test sample values:\n[[[0.51051726]\n  [0.48668681]]\n\n [[0.52734487]\n  [0.64562882]]\n\n [[0.69956497]\n  [0.18184024]]\n\n [[0.19703126]\n  [0.92290044]]\n\n [[1.        ]\n  [0.71683837]]]\n"
     ]
    }
   ],
   "source": [
    "X_train = X_train.reshape((X_train.shape[0], X_train.shape[1], 1))\n",
    "X_test = X_test.reshape((X_test.shape[0], X_test.shape[1], 1))\n",
    "print(f\"X_train sample values:\\n{X_train[:5]}\\n\")\n",
    "print(f\"X_test sample values:\\n{X_test[:5]}\")"
   ]
  },
  {
   "cell_type": "code",
   "execution_count": 95,
   "metadata": {},
   "outputs": [],
   "source": [
    "from tensorflow.keras.models import Sequential\n",
    "from tensorflow.keras.layers import LSTM, Dense, Dropout"
   ]
  },
  {
   "cell_type": "code",
   "execution_count": 96,
   "metadata": {},
   "outputs": [],
   "source": [
    "model = Sequential()\n",
    "number_units = 30 \n",
    "dropout_fraction = .2\n",
    "\n",
    "#Layer1\n",
    "model.add(LSTM(units=number_units, return_sequences=True, input_shape=(X_train.shape[1], 1)))\n",
    "model.add(Dropout(dropout_fraction))\n",
    "#Layer2\n",
    "model.add(LSTM(units=number_units, return_sequences=True))\n",
    "model.add(Dropout(dropout_fraction))\n",
    "#Layer3\n",
    "model.add(LSTM(units=number_units))\n",
    "model.add(Dropout(dropout_fraction))\n",
    "#Output Layer\n",
    "model.add(Dense(1))"
   ]
  },
  {
   "cell_type": "code",
   "execution_count": 97,
   "metadata": {},
   "outputs": [],
   "source": [
    "model.compile(optimizer=\"adam\", loss=\"mean_squared_error\")"
   ]
  },
  {
   "cell_type": "code",
   "execution_count": 98,
   "metadata": {},
   "outputs": [
    {
     "output_type": "stream",
     "name": "stdout",
     "text": [
      "Model: \"sequential_2\"\n_________________________________________________________________\nLayer (type)                 Output Shape              Param #   \n=================================================================\nlstm_6 (LSTM)                (None, 2, 30)             3840      \n_________________________________________________________________\ndropout_6 (Dropout)          (None, 2, 30)             0         \n_________________________________________________________________\nlstm_7 (LSTM)                (None, 2, 30)             7320      \n_________________________________________________________________\ndropout_7 (Dropout)          (None, 2, 30)             0         \n_________________________________________________________________\nlstm_8 (LSTM)                (None, 30)                7320      \n_________________________________________________________________\ndropout_8 (Dropout)          (None, 30)                0         \n_________________________________________________________________\ndense_2 (Dense)              (None, 1)                 31        \n=================================================================\nTotal params: 18,511\nTrainable params: 18,511\nNon-trainable params: 0\n_________________________________________________________________\n"
     ]
    }
   ],
   "source": [
    "model.summary()"
   ]
  },
  {
   "cell_type": "code",
   "execution_count": 99,
   "metadata": {},
   "outputs": [
    {
     "output_type": "stream",
     "name": "stdout",
     "text": [
      "Epoch 1/10\n",
      "12/12 [==============================] - 3s 3ms/step - loss: 0.1686\n",
      "Epoch 2/10\n",
      "12/12 [==============================] - 0s 3ms/step - loss: 0.1294\n",
      "Epoch 3/10\n",
      "12/12 [==============================] - 0s 3ms/step - loss: 0.0867\n",
      "Epoch 4/10\n",
      "12/12 [==============================] - 0s 3ms/step - loss: 0.0514\n",
      "Epoch 5/10\n",
      "12/12 [==============================] - 0s 3ms/step - loss: 0.0480\n",
      "Epoch 6/10\n",
      "12/12 [==============================] - 0s 3ms/step - loss: 0.0380\n",
      "Epoch 7/10\n",
      "12/12 [==============================] - 0s 3ms/step - loss: 0.0402\n",
      "Epoch 8/10\n",
      "12/12 [==============================] - 0s 3ms/step - loss: 0.0436\n",
      "Epoch 9/10\n",
      "12/12 [==============================] - 0s 3ms/step - loss: 0.0395\n",
      "Epoch 10/10\n",
      "12/12 [==============================] - 0s 3ms/step - loss: 0.0503\n"
     ]
    },
    {
     "output_type": "execute_result",
     "data": {
      "text/plain": [
       "<tensorflow.python.keras.callbacks.History at 0x7ff4a6355310>"
      ]
     },
     "metadata": {},
     "execution_count": 99
    }
   ],
   "source": [
    "model.fit(X_train, y_train, epochs=10, shuffle=False, batch_size=1, verbose=1)"
   ]
  },
  {
   "cell_type": "code",
   "execution_count": 100,
   "metadata": {},
   "outputs": [
    {
     "output_type": "stream",
     "name": "stdout",
     "text": [
      "1/1 [==============================] - 1s 887ms/step - loss: 0.0699\n"
     ]
    },
    {
     "output_type": "execute_result",
     "data": {
      "text/plain": [
       "0.06990326195955276"
      ]
     },
     "metadata": {},
     "execution_count": 100
    }
   ],
   "source": [
    "model.evaluate(X_test, y_test)  "
   ]
  },
  {
   "cell_type": "code",
   "execution_count": 101,
   "metadata": {},
   "outputs": [],
   "source": [
    "predicted = model.predict(X_test)"
   ]
  },
  {
   "cell_type": "code",
   "execution_count": 102,
   "metadata": {},
   "outputs": [],
   "source": [
    "predicted_prices = scaler.inverse_transform(predicted)\n",
    "real_prices = scaler.inverse_transform(y_test.reshape(-1, 1))"
   ]
  },
  {
   "cell_type": "code",
   "execution_count": 103,
   "metadata": {},
   "outputs": [
    {
     "output_type": "execute_result",
     "data": {
      "text/plain": [
       "                Real  Predicted\n",
       "2021-06-30 -0.002717   0.000877\n",
       "2021-07-01 -0.001432   0.001185\n",
       "2021-07-02  0.003072   0.001231\n",
       "2021-07-06  0.023190   0.000204\n",
       "2021-07-07  0.007232   0.003341\n",
       "2021-07-08  0.002247   0.002792"
      ],
      "text/html": "<div>\n<style scoped>\n    .dataframe tbody tr th:only-of-type {\n        vertical-align: middle;\n    }\n\n    .dataframe tbody tr th {\n        vertical-align: top;\n    }\n\n    .dataframe thead th {\n        text-align: right;\n    }\n</style>\n<table border=\"1\" class=\"dataframe\">\n  <thead>\n    <tr style=\"text-align: right;\">\n      <th></th>\n      <th>Real</th>\n      <th>Predicted</th>\n    </tr>\n  </thead>\n  <tbody>\n    <tr>\n      <th>2021-06-30</th>\n      <td>-0.002717</td>\n      <td>0.000877</td>\n    </tr>\n    <tr>\n      <th>2021-07-01</th>\n      <td>-0.001432</td>\n      <td>0.001185</td>\n    </tr>\n    <tr>\n      <th>2021-07-02</th>\n      <td>0.003072</td>\n      <td>0.001231</td>\n    </tr>\n    <tr>\n      <th>2021-07-06</th>\n      <td>0.023190</td>\n      <td>0.000204</td>\n    </tr>\n    <tr>\n      <th>2021-07-07</th>\n      <td>0.007232</td>\n      <td>0.003341</td>\n    </tr>\n    <tr>\n      <th>2021-07-08</th>\n      <td>0.002247</td>\n      <td>0.002792</td>\n    </tr>\n  </tbody>\n</table>\n</div>"
     },
     "metadata": {},
     "execution_count": 103
    }
   ],
   "source": [
    "stocks = pd.DataFrame({\n",
    "    \"Real\": real_prices.ravel(),\n",
    "    \"Predicted\": predicted_prices.ravel()\n",
    "}, index = topic_sentiments.index[-len(real_prices): ]) \n",
    "stocks.head(100)"
   ]
  },
  {
   "cell_type": "code",
   "execution_count": 104,
   "metadata": {},
   "outputs": [
    {
     "output_type": "display_data",
     "data": {},
     "metadata": {}
    },
    {
     "output_type": "execute_result",
     "data": {
      "text/html": "<div id='3311'>\n\n\n\n\n\n  <div class=\"bk-root\" id=\"a8725c6a-da27-4f5b-824d-6612a043a4e5\" data-root-id=\"3311\"></div>\n</div>\n<script type=\"application/javascript\">(function(root) {\n  function embed_document(root) {\n  var docs_json = {\"f27c2db7-ee92-4965-9662-48bb12e2bb7f\":{\"roots\":{\"references\":[{\"attributes\":{},\"id\":\"3405\",\"type\":\"UnionRenderers\"},{\"attributes\":{\"bottom_units\":\"screen\",\"fill_alpha\":0.5,\"fill_color\":\"lightgrey\",\"left_units\":\"screen\",\"level\":\"overlay\",\"line_alpha\":1.0,\"line_color\":\"black\",\"line_dash\":[4,4],\"line_width\":2,\"render_mode\":\"css\",\"right_units\":\"screen\",\"top_units\":\"screen\"},\"id\":\"3339\",\"type\":\"BoxAnnotation\"},{\"attributes\":{\"text\":\"Predicting Google's Return Using NLP - (2Day Window)\",\"text_color\":{\"value\":\"black\"},\"text_font_size\":{\"value\":\"12pt\"}},\"id\":\"3318\",\"type\":\"Title\"},{\"attributes\":{\"margin\":[5,5,5,5],\"name\":\"HSpacer04217\",\"sizing_mode\":\"stretch_width\"},\"id\":\"3312\",\"type\":\"Spacer\"},{\"attributes\":{\"num_minor_ticks\":5,\"tickers\":[{\"id\":\"3365\"},{\"id\":\"3366\"},{\"id\":\"3367\"},{\"id\":\"3368\"},{\"id\":\"3369\"},{\"id\":\"3370\"},{\"id\":\"3371\"},{\"id\":\"3372\"},{\"id\":\"3373\"},{\"id\":\"3374\"},{\"id\":\"3375\"},{\"id\":\"3376\"}]},\"id\":\"3327\",\"type\":\"DatetimeTicker\"},{\"attributes\":{\"below\":[{\"id\":\"3326\"}],\"center\":[{\"id\":\"3329\"},{\"id\":\"3333\"}],\"left\":[{\"id\":\"3330\"}],\"margin\":null,\"min_border_bottom\":10,\"min_border_left\":10,\"min_border_right\":10,\"min_border_top\":10,\"plot_height\":300,\"plot_width\":700,\"renderers\":[{\"id\":\"3357\"},{\"id\":\"3385\"}],\"right\":[{\"id\":\"3377\"}],\"sizing_mode\":\"fixed\",\"title\":{\"id\":\"3318\"},\"toolbar\":{\"id\":\"3340\"},\"x_range\":{\"id\":\"3313\"},\"x_scale\":{\"id\":\"3322\"},\"y_range\":{\"id\":\"3314\"},\"y_scale\":{\"id\":\"3324\"}},\"id\":\"3317\",\"subtype\":\"Figure\",\"type\":\"Plot\"},{\"attributes\":{\"end\":1625702400000.0,\"reset_end\":1625702400000.0,\"reset_start\":1625011200000.0,\"start\":1625011200000.0,\"tags\":[[[\"index\",\"index\",null]]]},\"id\":\"3313\",\"type\":\"Range1d\"},{\"attributes\":{},\"id\":\"3324\",\"type\":\"LinearScale\"},{\"attributes\":{\"mantissas\":[1,2,5],\"max_interval\":500.0,\"num_minor_ticks\":0},\"id\":\"3365\",\"type\":\"AdaptiveTicker\"},{\"attributes\":{},\"id\":\"3336\",\"type\":\"WheelZoomTool\"},{\"attributes\":{\"base\":60,\"mantissas\":[1,2,5,10,15,20,30],\"max_interval\":1800000.0,\"min_interval\":1000.0,\"num_minor_ticks\":0},\"id\":\"3366\",\"type\":\"AdaptiveTicker\"},{\"attributes\":{},\"id\":\"3322\",\"type\":\"LinearScale\"},{\"attributes\":{\"days\":[1,2,3,4,5,6,7,8,9,10,11,12,13,14,15,16,17,18,19,20,21,22,23,24,25,26,27,28,29,30,31]},\"id\":\"3368\",\"type\":\"DaysTicker\"},{\"attributes\":{},\"id\":\"3335\",\"type\":\"PanTool\"},{\"attributes\":{\"base\":24,\"mantissas\":[1,2,4,6,8,12],\"max_interval\":43200000.0,\"min_interval\":3600000.0,\"num_minor_ticks\":0},\"id\":\"3367\",\"type\":\"AdaptiveTicker\"},{\"attributes\":{},\"id\":\"3380\",\"type\":\"Selection\"},{\"attributes\":{\"axis\":{\"id\":\"3326\"},\"grid_line_color\":null,\"ticker\":null},\"id\":\"3329\",\"type\":\"Grid\"},{\"attributes\":{\"axis\":{\"id\":\"3330\"},\"dimension\":1,\"grid_line_color\":null,\"ticker\":null},\"id\":\"3333\",\"type\":\"Grid\"},{\"attributes\":{\"months\":[0,1,2,3,4,5,6,7,8,9,10,11]},\"id\":\"3372\",\"type\":\"MonthsTicker\"},{\"attributes\":{\"source\":{\"id\":\"3379\"}},\"id\":\"3386\",\"type\":\"CDSView\"},{\"attributes\":{},\"id\":\"3331\",\"type\":\"BasicTicker\"},{\"attributes\":{\"data\":{\"Variable\":[\"Predicted\",\"Predicted\",\"Predicted\",\"Predicted\",\"Predicted\",\"Predicted\"],\"index\":{\"__ndarray__\":\"AAAAcqOld0IAAMDX9aV3QgAAgD1IpndCAACA1JGnd0IAAEA65Kd3QgAAAKA2qHdC\",\"dtype\":\"float64\",\"shape\":[6]},\"value\":{\"__ndarray__\":\"+c1lOsxYmzo2YKE6mbtVObLtWjsN9DY7\",\"dtype\":\"float32\",\"shape\":[6]}},\"selected\":{\"id\":\"3380\"},\"selection_policy\":{\"id\":\"3428\"}},\"id\":\"3379\",\"type\":\"ColumnDataSource\"},{\"attributes\":{\"months\":[0,2,4,6,8,10]},\"id\":\"3373\",\"type\":\"MonthsTicker\"},{\"attributes\":{},\"id\":\"3334\",\"type\":\"SaveTool\"},{\"attributes\":{\"days\":[1,4,7,10,13,16,19,22,25,28]},\"id\":\"3369\",\"type\":\"DaysTicker\"},{\"attributes\":{},\"id\":\"3352\",\"type\":\"Selection\"},{\"attributes\":{\"axis_label\":\"Date\",\"bounds\":\"auto\",\"formatter\":{\"id\":\"3347\"},\"major_label_orientation\":\"horizontal\",\"ticker\":{\"id\":\"3327\"}},\"id\":\"3326\",\"type\":\"DatetimeAxis\"},{\"attributes\":{\"days\":[1,15]},\"id\":\"3371\",\"type\":\"DaysTicker\"},{\"attributes\":{\"label\":{\"value\":\"Real\"},\"renderers\":[{\"id\":\"3357\"}]},\"id\":\"3378\",\"type\":\"LegendItem\"},{\"attributes\":{\"line_color\":\"#ff7e0e\",\"line_width\":2,\"x\":{\"field\":\"index\"},\"y\":{\"field\":\"value\"}},\"id\":\"3382\",\"type\":\"Line\"},{\"attributes\":{\"months\":[0,6]},\"id\":\"3375\",\"type\":\"MonthsTicker\"},{\"attributes\":{\"data_source\":{\"id\":\"3351\"},\"glyph\":{\"id\":\"3354\"},\"hover_glyph\":null,\"muted_glyph\":{\"id\":\"3356\"},\"nonselection_glyph\":{\"id\":\"3355\"},\"selection_glyph\":null,\"view\":{\"id\":\"3358\"}},\"id\":\"3357\",\"type\":\"GlyphRenderer\"},{\"attributes\":{\"days\":[1,8,15,22]},\"id\":\"3370\",\"type\":\"DaysTicker\"},{\"attributes\":{\"data_source\":{\"id\":\"3379\"},\"glyph\":{\"id\":\"3382\"},\"hover_glyph\":null,\"muted_glyph\":{\"id\":\"3384\"},\"nonselection_glyph\":{\"id\":\"3383\"},\"selection_glyph\":null,\"view\":{\"id\":\"3386\"}},\"id\":\"3385\",\"type\":\"GlyphRenderer\"},{\"attributes\":{},\"id\":\"3376\",\"type\":\"YearsTicker\"},{\"attributes\":{\"line_color\":\"#1f77b3\",\"line_width\":2,\"x\":{\"field\":\"index\"},\"y\":{\"field\":\"value\"}},\"id\":\"3354\",\"type\":\"Line\"},{\"attributes\":{\"overlay\":{\"id\":\"3339\"}},\"id\":\"3337\",\"type\":\"BoxZoomTool\"},{\"attributes\":{\"line_alpha\":0.1,\"line_color\":\"#ff7e0e\",\"line_width\":2,\"x\":{\"field\":\"index\"},\"y\":{\"field\":\"value\"}},\"id\":\"3383\",\"type\":\"Line\"},{\"attributes\":{\"children\":[{\"id\":\"3312\"},{\"id\":\"3317\"},{\"id\":\"3584\"}],\"margin\":[0,0,0,0],\"name\":\"Row04213\",\"tags\":[\"embedded\"]},\"id\":\"3311\",\"type\":\"Row\"},{\"attributes\":{},\"id\":\"3338\",\"type\":\"ResetTool\"},{\"attributes\":{\"line_alpha\":0.2,\"line_color\":\"#1f77b3\",\"line_width\":2,\"x\":{\"field\":\"index\"},\"y\":{\"field\":\"value\"}},\"id\":\"3356\",\"type\":\"Line\"},{\"attributes\":{\"active_drag\":\"auto\",\"active_inspect\":\"auto\",\"active_multi\":null,\"active_scroll\":\"auto\",\"active_tap\":\"auto\",\"tools\":[{\"id\":\"3315\"},{\"id\":\"3334\"},{\"id\":\"3335\"},{\"id\":\"3336\"},{\"id\":\"3337\"},{\"id\":\"3338\"}]},\"id\":\"3340\",\"type\":\"Toolbar\"},{\"attributes\":{\"months\":[0,4,8]},\"id\":\"3374\",\"type\":\"MonthsTicker\"},{\"attributes\":{\"source\":{\"id\":\"3351\"}},\"id\":\"3358\",\"type\":\"CDSView\"},{\"attributes\":{},\"id\":\"3428\",\"type\":\"UnionRenderers\"},{\"attributes\":{\"click_policy\":\"mute\",\"items\":[{\"id\":\"3378\"},{\"id\":\"3407\"}],\"location\":[0,0],\"title\":\"Variable\"},\"id\":\"3377\",\"type\":\"Legend\"},{\"attributes\":{\"line_alpha\":0.2,\"line_color\":\"#ff7e0e\",\"line_width\":2,\"x\":{\"field\":\"index\"},\"y\":{\"field\":\"value\"}},\"id\":\"3384\",\"type\":\"Line\"},{\"attributes\":{\"line_alpha\":0.1,\"line_color\":\"#1f77b3\",\"line_width\":2,\"x\":{\"field\":\"index\"},\"y\":{\"field\":\"value\"}},\"id\":\"3355\",\"type\":\"Line\"},{\"attributes\":{},\"id\":\"3349\",\"type\":\"BasicTickFormatter\"},{\"attributes\":{\"label\":{\"value\":\"Predicted\"},\"renderers\":[{\"id\":\"3385\"}]},\"id\":\"3407\",\"type\":\"LegendItem\"},{\"attributes\":{\"margin\":[5,5,5,5],\"name\":\"HSpacer04218\",\"sizing_mode\":\"stretch_width\"},\"id\":\"3584\",\"type\":\"Spacer\"},{\"attributes\":{},\"id\":\"3347\",\"type\":\"DatetimeTickFormatter\"},{\"attributes\":{\"data\":{\"Variable\":[\"Real\",\"Real\",\"Real\",\"Real\",\"Real\",\"Real\"],\"index\":{\"__ndarray__\":\"AAAAcqOld0IAAMDX9aV3QgAAgD1IpndCAACA1JGnd0IAAEA65Kd3QgAAAKA2qHdC\",\"dtype\":\"float64\",\"shape\":[6]},\"value\":{\"__ndarray__\":\"AUKGozlBZr/9vY0RGnZXv/4fqv9aK2k/QCthKCW/lz//X6vB2Z59PwJsr8R8Z2I/\",\"dtype\":\"float64\",\"shape\":[6]}},\"selected\":{\"id\":\"3352\"},\"selection_policy\":{\"id\":\"3405\"}},\"id\":\"3351\",\"type\":\"ColumnDataSource\"},{\"attributes\":{\"axis_label\":\"Return\",\"bounds\":\"auto\",\"formatter\":{\"id\":\"3349\"},\"major_label_orientation\":\"horizontal\",\"ticker\":{\"id\":\"3331\"}},\"id\":\"3330\",\"type\":\"LinearAxis\"},{\"attributes\":{\"end\":0.02578077307329387,\"reset_end\":0.02578077307329387,\"reset_start\":-0.005307323353048865,\"start\":-0.005307323353048865,\"tags\":[[[\"value\",\"value\",null]]]},\"id\":\"3314\",\"type\":\"Range1d\"},{\"attributes\":{\"callback\":null,\"formatters\":{\"@{index}\":\"datetime\"},\"renderers\":[{\"id\":\"3357\"},{\"id\":\"3385\"}],\"tags\":[\"hv_created\"],\"tooltips\":[[\"Variable\",\"@{Variable}\"],[\"index\",\"@{index}{%F %T}\"],[\"value\",\"@{value}\"]]},\"id\":\"3315\",\"type\":\"HoverTool\"}],\"root_ids\":[\"3311\"]},\"title\":\"Bokeh Application\",\"version\":\"2.0.2\"}};\n  var render_items = [{\"docid\":\"f27c2db7-ee92-4965-9662-48bb12e2bb7f\",\"root_ids\":[\"3311\"],\"roots\":{\"3311\":\"a8725c6a-da27-4f5b-824d-6612a043a4e5\"}}];\n  root.Bokeh.embed.embed_items_notebook(docs_json, render_items);\n  }\nif (root.Bokeh !== undefined) {\n    embed_document(root);\n  } else {\n    var attempts = 0;\n    var timer = setInterval(function(root) {\n      if (root.Bokeh !== undefined) {\n        clearInterval(timer);\n        embed_document(root);\n      } else if (document.readyState == \"complete\") {\n        attempts++;\n        if (attempts > 100) {\n          clearInterval(timer);\n          console.log(\"Bokeh: ERROR: Unable to run BokehJS code because BokehJS library is missing\");\n        }\n      }\n    }, 10, root)\n  }\n})(window);</script>",
      "application/vnd.holoviews_exec.v0+json": "",
      "text/plain": [
       ":NdOverlay   [Variable]\n",
       "   :Curve   [index]   (value)"
      ]
     },
     "metadata": {
      "application/vnd.holoviews_exec.v0+json": {
       "id": "3311"
      }
     },
     "execution_count": 104
    }
   ],
   "source": [
    "stocks.hvplot.line(label = \"Predicting Google's Return Using NLP - (2Day Window)\",xlabel = \"Date\", ylabel= \"Return\" )"
   ]
  },
  {
   "cell_type": "code",
   "execution_count": null,
   "metadata": {},
   "outputs": [],
   "source": []
  }
 ]
}