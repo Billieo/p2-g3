{
 "metadata": {
  "language_info": {
   "codemirror_mode": {
    "name": "ipython",
    "version": 3
   },
   "file_extension": ".py",
   "mimetype": "text/x-python",
   "name": "python",
   "nbconvert_exporter": "python",
   "pygments_lexer": "ipython3",
   "version": "3.8.5"
  },
  "orig_nbformat": 2,
  "kernelspec": {
   "name": "python3",
   "display_name": "Python 3.8.5 64-bit ('base': conda)",
   "metadata": {
    "interpreter": {
     "hash": "11ef2bb442b8455a3e6b82f3202efe5c7a01a00a0939705f79f87b65f8f45715"
    }
   }
  }
 },
 "nbformat": 4,
 "nbformat_minor": 2,
 "cells": [
  {
   "cell_type": "code",
   "execution_count": 556,
   "metadata": {},
   "outputs": [],
   "source": [
    "import os\n",
    "import numpy as np\n",
    "import pandas as pd\n",
    "from pathlib import Path\n",
    "from dotenv import load_dotenv\n",
    "import alpaca_trade_api as tradeapi\n",
    "from newsapi import NewsApiClient\n",
    "from datetime import datetime, timedelta\n",
    "import numpy as np\n",
    "from numpy.random import seed\n",
    "seed(1)\n",
    "import requests\n",
    "from tensorflow import random\n",
    "random.set_seed(2)\n",
    "#import nltk as nltk\n",
    "#nltk.download('vader_lexicon')\n",
    "#from nltk.sentiment.vader import SentimentIntensityAnalyzer\n",
    "#analyzer = SentimentIntensityAnalyzer()\n",
    "#from nltk.corpus import stopwords, reuters\n",
    "import hvplot.pandas\n",
    "%matplotlib inline"
   ]
  },
  {
   "cell_type": "code",
   "execution_count": 557,
   "metadata": {},
   "outputs": [
    {
     "output_type": "execute_result",
     "data": {
      "text/plain": [
       "True"
      ]
     },
     "metadata": {},
     "execution_count": 557
    }
   ],
   "source": [
    "load_dotenv()"
   ]
  },
  {
   "cell_type": "code",
   "execution_count": 558,
   "metadata": {},
   "outputs": [],
   "source": [
    "alpaca_api_key = os.getenv(\"ALPACA_API_KEY\")\n",
    "alpaca_secret_key = os.getenv(\"ALPACA_SECRET_KEY\")\n",
    "alpaca = tradeapi.REST(\n",
    "    alpaca_api_key,\n",
    "    alpaca_secret_key,\n",
    "    api_version=\"v2\")\n",
    "#print(alpaca_api_key)"
   ]
  },
  {
   "cell_type": "code",
   "execution_count": 559,
   "metadata": {},
   "outputs": [],
   "source": [
    "api_key = os.getenv(\"news_api\")\n",
    "#print(api_key)"
   ]
  },
  {
   "cell_type": "code",
   "execution_count": 560,
   "metadata": {},
   "outputs": [],
   "source": [
    "newsapi = NewsApiClient(api_key=api_key)"
   ]
  },
  {
   "cell_type": "code",
   "execution_count": 561,
   "metadata": {},
   "outputs": [
    {
     "output_type": "execute_result",
     "data": {
      "text/plain": [
       "                             AAPL                                        \\\n",
       "                             open      high     low     close    volume   \n",
       "time                                                                      \n",
       "2019-01-02 00:00:00-05:00  154.89  158.8500  154.23  157.5225  27803621   \n",
       "2019-01-03 00:00:00-05:00  143.98  145.7200  142.00  142.2900  82418448   \n",
       "2019-01-04 00:00:00-05:00  144.53  148.5499  143.80  148.1200  51267225   \n",
       "2019-01-07 00:00:00-05:00  148.70  148.8300  145.90  147.9100  49982480   \n",
       "2019-01-08 00:00:00-05:00  149.56  151.8200  148.52  150.6300  36592406   \n",
       "\n",
       "                               CVX                                       FB  \\\n",
       "                              open    high     low   close   volume    open   \n",
       "time                                                                          \n",
       "2019-01-02 00:00:00-05:00  107.340  111.68  107.10  110.50  4901089  128.99   \n",
       "2019-01-03 00:00:00-05:00  111.055  111.29  108.07  108.78  5048448  134.69   \n",
       "2019-01-04 00:00:00-05:00  110.280  110.99  109.47  110.74  5839159  134.01   \n",
       "2019-01-07 00:00:00-05:00  111.060  112.93  109.92  112.35  4566504  137.45   \n",
       "2019-01-08 00:00:00-05:00  113.400  113.79  111.67  111.85  4371673  139.89   \n",
       "\n",
       "                                                                 GOOGL  \\\n",
       "                             high     low     close    volume     open   \n",
       "time                                                                     \n",
       "2019-01-02 00:00:00-05:00  137.51  128.56  135.4100  25465924  1027.20   \n",
       "2019-01-03 00:00:00-05:00  137.17  131.12  131.8902  18011900  1050.67   \n",
       "2019-01-04 00:00:00-05:00  138.00  133.75  137.9400  23927539  1041.63   \n",
       "2019-01-07 00:00:00-05:00  138.87  135.91  138.2300  16261533  1080.97   \n",
       "2019-01-08 00:00:00-05:00  143.14  139.54  142.5843  22239823  1084.77   \n",
       "\n",
       "                                                                  \n",
       "                              high        low     close   volume  \n",
       "time                                                              \n",
       "2019-01-02 00:00:00-05:00  1060.79  1025.2750  1053.240  1346501  \n",
       "2019-01-03 00:00:00-05:00  1066.26  1022.3700  1026.505  1546910  \n",
       "2019-01-04 00:00:00-05:00  1080.00  1036.8600  1076.550  1792417  \n",
       "2019-01-07 00:00:00-05:00  1082.70  1062.6400  1076.010  1872050  \n",
       "2019-01-08 00:00:00-05:00  1093.35  1068.3486  1085.510  1402631  "
      ],
      "text/html": "<div>\n<style scoped>\n    .dataframe tbody tr th:only-of-type {\n        vertical-align: middle;\n    }\n\n    .dataframe tbody tr th {\n        vertical-align: top;\n    }\n\n    .dataframe thead tr th {\n        text-align: left;\n    }\n\n    .dataframe thead tr:last-of-type th {\n        text-align: right;\n    }\n</style>\n<table border=\"1\" class=\"dataframe\">\n  <thead>\n    <tr>\n      <th></th>\n      <th colspan=\"5\" halign=\"left\">AAPL</th>\n      <th colspan=\"5\" halign=\"left\">CVX</th>\n      <th colspan=\"5\" halign=\"left\">FB</th>\n      <th colspan=\"5\" halign=\"left\">GOOGL</th>\n    </tr>\n    <tr>\n      <th></th>\n      <th>open</th>\n      <th>high</th>\n      <th>low</th>\n      <th>close</th>\n      <th>volume</th>\n      <th>open</th>\n      <th>high</th>\n      <th>low</th>\n      <th>close</th>\n      <th>volume</th>\n      <th>open</th>\n      <th>high</th>\n      <th>low</th>\n      <th>close</th>\n      <th>volume</th>\n      <th>open</th>\n      <th>high</th>\n      <th>low</th>\n      <th>close</th>\n      <th>volume</th>\n    </tr>\n    <tr>\n      <th>time</th>\n      <th></th>\n      <th></th>\n      <th></th>\n      <th></th>\n      <th></th>\n      <th></th>\n      <th></th>\n      <th></th>\n      <th></th>\n      <th></th>\n      <th></th>\n      <th></th>\n      <th></th>\n      <th></th>\n      <th></th>\n      <th></th>\n      <th></th>\n      <th></th>\n      <th></th>\n      <th></th>\n    </tr>\n  </thead>\n  <tbody>\n    <tr>\n      <th>2019-01-02 00:00:00-05:00</th>\n      <td>154.89</td>\n      <td>158.8500</td>\n      <td>154.23</td>\n      <td>157.5225</td>\n      <td>27803621</td>\n      <td>107.340</td>\n      <td>111.68</td>\n      <td>107.10</td>\n      <td>110.50</td>\n      <td>4901089</td>\n      <td>128.99</td>\n      <td>137.51</td>\n      <td>128.56</td>\n      <td>135.4100</td>\n      <td>25465924</td>\n      <td>1027.20</td>\n      <td>1060.79</td>\n      <td>1025.2750</td>\n      <td>1053.240</td>\n      <td>1346501</td>\n    </tr>\n    <tr>\n      <th>2019-01-03 00:00:00-05:00</th>\n      <td>143.98</td>\n      <td>145.7200</td>\n      <td>142.00</td>\n      <td>142.2900</td>\n      <td>82418448</td>\n      <td>111.055</td>\n      <td>111.29</td>\n      <td>108.07</td>\n      <td>108.78</td>\n      <td>5048448</td>\n      <td>134.69</td>\n      <td>137.17</td>\n      <td>131.12</td>\n      <td>131.8902</td>\n      <td>18011900</td>\n      <td>1050.67</td>\n      <td>1066.26</td>\n      <td>1022.3700</td>\n      <td>1026.505</td>\n      <td>1546910</td>\n    </tr>\n    <tr>\n      <th>2019-01-04 00:00:00-05:00</th>\n      <td>144.53</td>\n      <td>148.5499</td>\n      <td>143.80</td>\n      <td>148.1200</td>\n      <td>51267225</td>\n      <td>110.280</td>\n      <td>110.99</td>\n      <td>109.47</td>\n      <td>110.74</td>\n      <td>5839159</td>\n      <td>134.01</td>\n      <td>138.00</td>\n      <td>133.75</td>\n      <td>137.9400</td>\n      <td>23927539</td>\n      <td>1041.63</td>\n      <td>1080.00</td>\n      <td>1036.8600</td>\n      <td>1076.550</td>\n      <td>1792417</td>\n    </tr>\n    <tr>\n      <th>2019-01-07 00:00:00-05:00</th>\n      <td>148.70</td>\n      <td>148.8300</td>\n      <td>145.90</td>\n      <td>147.9100</td>\n      <td>49982480</td>\n      <td>111.060</td>\n      <td>112.93</td>\n      <td>109.92</td>\n      <td>112.35</td>\n      <td>4566504</td>\n      <td>137.45</td>\n      <td>138.87</td>\n      <td>135.91</td>\n      <td>138.2300</td>\n      <td>16261533</td>\n      <td>1080.97</td>\n      <td>1082.70</td>\n      <td>1062.6400</td>\n      <td>1076.010</td>\n      <td>1872050</td>\n    </tr>\n    <tr>\n      <th>2019-01-08 00:00:00-05:00</th>\n      <td>149.56</td>\n      <td>151.8200</td>\n      <td>148.52</td>\n      <td>150.6300</td>\n      <td>36592406</td>\n      <td>113.400</td>\n      <td>113.79</td>\n      <td>111.67</td>\n      <td>111.85</td>\n      <td>4371673</td>\n      <td>139.89</td>\n      <td>143.14</td>\n      <td>139.54</td>\n      <td>142.5843</td>\n      <td>22239823</td>\n      <td>1084.77</td>\n      <td>1093.35</td>\n      <td>1068.3486</td>\n      <td>1085.510</td>\n      <td>1402631</td>\n    </tr>\n  </tbody>\n</table>\n</div>"
     },
     "metadata": {},
     "execution_count": 561
    }
   ],
   "source": [
    "#15Min interval\n",
    "timeframe = \"1D\"\n",
    "start_date = pd.Timestamp(\"2019-01-01\", tz=\"America/New_York\").isoformat()\n",
    "end_date = pd.Timestamp(\"2021-12-31\", tz=\"America/New_York\").isoformat()\n",
    "#today = pd.Timestamp(\"2021-01-02\", tz=\"America/New_York\").isoformat()\n",
    "ticker = [\"CVX\", \"AAPL\", \"GOOGL\", \"FB\"]\n",
    "nasdaq_ticker = alpaca.get_barset(\n",
    "    ticker,\n",
    "    timeframe,\n",
    "    start=start_date,\n",
    "    end=end_date,\n",
    "    limit=1000,\n",
    ").df\n",
    "nasdaq_ticker.dropna(inplace=True)\n",
    "nasdaq_ticker.head(5)\n",
    "#apple_ticker.dropna(inplace=True)"
   ]
  },
  {
   "cell_type": "code",
   "execution_count": 562,
   "metadata": {},
   "outputs": [
    {
     "output_type": "execute_result",
     "data": {
      "text/plain": [
       "            Chevron     Apple    Google  Facebook\n",
       "2019-01-02   110.50  157.5225  1053.240  135.4100\n",
       "2019-01-03   108.78  142.2900  1026.505  131.8902\n",
       "2019-01-04   110.74  148.1200  1076.550  137.9400\n",
       "2019-01-07   112.35  147.9100  1076.010  138.2300\n",
       "2019-01-08   111.85  150.6300  1085.510  142.5843"
      ],
      "text/html": "<div>\n<style scoped>\n    .dataframe tbody tr th:only-of-type {\n        vertical-align: middle;\n    }\n\n    .dataframe tbody tr th {\n        vertical-align: top;\n    }\n\n    .dataframe thead th {\n        text-align: right;\n    }\n</style>\n<table border=\"1\" class=\"dataframe\">\n  <thead>\n    <tr style=\"text-align: right;\">\n      <th></th>\n      <th>Chevron</th>\n      <th>Apple</th>\n      <th>Google</th>\n      <th>Facebook</th>\n    </tr>\n  </thead>\n  <tbody>\n    <tr>\n      <th>2019-01-02</th>\n      <td>110.50</td>\n      <td>157.5225</td>\n      <td>1053.240</td>\n      <td>135.4100</td>\n    </tr>\n    <tr>\n      <th>2019-01-03</th>\n      <td>108.78</td>\n      <td>142.2900</td>\n      <td>1026.505</td>\n      <td>131.8902</td>\n    </tr>\n    <tr>\n      <th>2019-01-04</th>\n      <td>110.74</td>\n      <td>148.1200</td>\n      <td>1076.550</td>\n      <td>137.9400</td>\n    </tr>\n    <tr>\n      <th>2019-01-07</th>\n      <td>112.35</td>\n      <td>147.9100</td>\n      <td>1076.010</td>\n      <td>138.2300</td>\n    </tr>\n    <tr>\n      <th>2019-01-08</th>\n      <td>111.85</td>\n      <td>150.6300</td>\n      <td>1085.510</td>\n      <td>142.5843</td>\n    </tr>\n  </tbody>\n</table>\n</div>"
     },
     "metadata": {},
     "execution_count": 562
    }
   ],
   "source": [
    "tech_df = pd.DataFrame()\n",
    "tech_df[\"Chevron\"] = nasdaq_ticker[\"CVX\"][\"close\"]\n",
    "tech_df[\"Apple\"] = nasdaq_ticker[\"AAPL\"][\"close\"]\n",
    "tech_df[\"Google\"] = nasdaq_ticker[\"GOOGL\"][\"close\"]\n",
    "tech_df[\"Facebook\"] = nasdaq_ticker[\"FB\"][\"close\"]\n",
    "#apple_df = apple_df.pct_change().dropna()\n",
    "tech_df.index = tech_df.index.date \n",
    "tech_df.dropna(inplace=True)\n",
    "tech_df.head()"
   ]
  },
  {
   "cell_type": "code",
   "execution_count": 563,
   "metadata": {},
   "outputs": [
    {
     "output_type": "execute_result",
     "data": {
      "text/plain": [
       "             Chevron     Apple    Google  Facebook\n",
       "2019-01-03 -0.015566 -0.096700 -0.025384 -0.025994\n",
       "2019-01-04  0.018018  0.040973  0.048753  0.045870\n",
       "2019-01-07  0.014539 -0.001418 -0.000502  0.002102\n",
       "2019-01-08 -0.004450  0.018390  0.008829  0.031500\n",
       "2019-01-09  0.012114  0.018190 -0.002110  0.011682"
      ],
      "text/html": "<div>\n<style scoped>\n    .dataframe tbody tr th:only-of-type {\n        vertical-align: middle;\n    }\n\n    .dataframe tbody tr th {\n        vertical-align: top;\n    }\n\n    .dataframe thead th {\n        text-align: right;\n    }\n</style>\n<table border=\"1\" class=\"dataframe\">\n  <thead>\n    <tr style=\"text-align: right;\">\n      <th></th>\n      <th>Chevron</th>\n      <th>Apple</th>\n      <th>Google</th>\n      <th>Facebook</th>\n    </tr>\n  </thead>\n  <tbody>\n    <tr>\n      <th>2019-01-03</th>\n      <td>-0.015566</td>\n      <td>-0.096700</td>\n      <td>-0.025384</td>\n      <td>-0.025994</td>\n    </tr>\n    <tr>\n      <th>2019-01-04</th>\n      <td>0.018018</td>\n      <td>0.040973</td>\n      <td>0.048753</td>\n      <td>0.045870</td>\n    </tr>\n    <tr>\n      <th>2019-01-07</th>\n      <td>0.014539</td>\n      <td>-0.001418</td>\n      <td>-0.000502</td>\n      <td>0.002102</td>\n    </tr>\n    <tr>\n      <th>2019-01-08</th>\n      <td>-0.004450</td>\n      <td>0.018390</td>\n      <td>0.008829</td>\n      <td>0.031500</td>\n    </tr>\n    <tr>\n      <th>2019-01-09</th>\n      <td>0.012114</td>\n      <td>0.018190</td>\n      <td>-0.002110</td>\n      <td>0.011682</td>\n    </tr>\n  </tbody>\n</table>\n</div>"
     },
     "metadata": {},
     "execution_count": 563
    }
   ],
   "source": [
    "tech_returns = tech_df.pct_change().dropna()\n",
    "tech_returns.head()"
   ]
  },
  {
   "cell_type": "code",
   "execution_count": 564,
   "metadata": {},
   "outputs": [
    {
     "output_type": "execute_result",
     "data": {
      "text/plain": [
       "            Cushing, OK WTI Spot Price FOB (Dollars per Barrel)\n",
       "Date                                                           \n",
       "1986-01-02                                              25.56  \n",
       "1986-01-03                                              26.00  \n",
       "1986-01-06                                              26.53  \n",
       "1986-01-07                                              25.85  \n",
       "1986-01-08                                              25.87  "
      ],
      "text/html": "<div>\n<style scoped>\n    .dataframe tbody tr th:only-of-type {\n        vertical-align: middle;\n    }\n\n    .dataframe tbody tr th {\n        vertical-align: top;\n    }\n\n    .dataframe thead th {\n        text-align: right;\n    }\n</style>\n<table border=\"1\" class=\"dataframe\">\n  <thead>\n    <tr style=\"text-align: right;\">\n      <th></th>\n      <th>Cushing, OK WTI Spot Price FOB (Dollars per Barrel)</th>\n    </tr>\n    <tr>\n      <th>Date</th>\n      <th></th>\n    </tr>\n  </thead>\n  <tbody>\n    <tr>\n      <th>1986-01-02</th>\n      <td>25.56</td>\n    </tr>\n    <tr>\n      <th>1986-01-03</th>\n      <td>26.00</td>\n    </tr>\n    <tr>\n      <th>1986-01-06</th>\n      <td>26.53</td>\n    </tr>\n    <tr>\n      <th>1986-01-07</th>\n      <td>25.85</td>\n    </tr>\n    <tr>\n      <th>1986-01-08</th>\n      <td>25.87</td>\n    </tr>\n  </tbody>\n</table>\n</div>"
     },
     "metadata": {},
     "execution_count": 564
    }
   ],
   "source": [
    "csv_path = Path(\"../csvs/Book1.csv/\")\n",
    "oil_data = pd.read_csv(csv_path, index_col=\"Date\", parse_dates=True, infer_datetime_format=True)\n",
    "oil_data.sort_index(ascending = True, inplace = True)\n",
    "oil_data.head()"
   ]
  },
  {
   "cell_type": "code",
   "execution_count": 565,
   "metadata": {},
   "outputs": [],
   "source": [
    "oil = pd.DataFrame()\n",
    "oil[\"DPB\"] = oil_data[\"Cushing, OK WTI Spot Price FOB (Dollars per Barrel)\"]"
   ]
  },
  {
   "cell_type": "code",
   "execution_count": 566,
   "metadata": {},
   "outputs": [
    {
     "output_type": "execute_result",
     "data": {
      "text/plain": [
       "              DPB\n",
       "Date             \n",
       "1986-01-02  25.56\n",
       "1986-01-03  26.00\n",
       "1986-01-06  26.53\n",
       "1986-01-07  25.85\n",
       "1986-01-08  25.87"
      ],
      "text/html": "<div>\n<style scoped>\n    .dataframe tbody tr th:only-of-type {\n        vertical-align: middle;\n    }\n\n    .dataframe tbody tr th {\n        vertical-align: top;\n    }\n\n    .dataframe thead th {\n        text-align: right;\n    }\n</style>\n<table border=\"1\" class=\"dataframe\">\n  <thead>\n    <tr style=\"text-align: right;\">\n      <th></th>\n      <th>DPB</th>\n    </tr>\n    <tr>\n      <th>Date</th>\n      <th></th>\n    </tr>\n  </thead>\n  <tbody>\n    <tr>\n      <th>1986-01-02</th>\n      <td>25.56</td>\n    </tr>\n    <tr>\n      <th>1986-01-03</th>\n      <td>26.00</td>\n    </tr>\n    <tr>\n      <th>1986-01-06</th>\n      <td>26.53</td>\n    </tr>\n    <tr>\n      <th>1986-01-07</th>\n      <td>25.85</td>\n    </tr>\n    <tr>\n      <th>1986-01-08</th>\n      <td>25.87</td>\n    </tr>\n  </tbody>\n</table>\n</div>"
     },
     "metadata": {},
     "execution_count": 566
    }
   ],
   "source": [
    "oil.head()"
   ]
  },
  {
   "cell_type": "code",
   "execution_count": 567,
   "metadata": {},
   "outputs": [
    {
     "output_type": "execute_result",
     "data": {
      "text/plain": [
       "            New Cases  7-Day Moving Avg  Historic Cases\n",
       "Date                                                   \n",
       "2020-01-26          3                 6               0\n",
       "2020-01-25          3                 5               0\n",
       "2020-01-24          1                 5               0\n",
       "2020-01-23          2                 5               0\n",
       "2020-01-22         33                 4               0"
      ],
      "text/html": "<div>\n<style scoped>\n    .dataframe tbody tr th:only-of-type {\n        vertical-align: middle;\n    }\n\n    .dataframe tbody tr th {\n        vertical-align: top;\n    }\n\n    .dataframe thead th {\n        text-align: right;\n    }\n</style>\n<table border=\"1\" class=\"dataframe\">\n  <thead>\n    <tr style=\"text-align: right;\">\n      <th></th>\n      <th>New Cases</th>\n      <th>7-Day Moving Avg</th>\n      <th>Historic Cases</th>\n    </tr>\n    <tr>\n      <th>Date</th>\n      <th></th>\n      <th></th>\n      <th></th>\n    </tr>\n  </thead>\n  <tbody>\n    <tr>\n      <th>2020-01-26</th>\n      <td>3</td>\n      <td>6</td>\n      <td>0</td>\n    </tr>\n    <tr>\n      <th>2020-01-25</th>\n      <td>3</td>\n      <td>5</td>\n      <td>0</td>\n    </tr>\n    <tr>\n      <th>2020-01-24</th>\n      <td>1</td>\n      <td>5</td>\n      <td>0</td>\n    </tr>\n    <tr>\n      <th>2020-01-23</th>\n      <td>2</td>\n      <td>5</td>\n      <td>0</td>\n    </tr>\n    <tr>\n      <th>2020-01-22</th>\n      <td>33</td>\n      <td>4</td>\n      <td>0</td>\n    </tr>\n  </tbody>\n</table>\n</div>"
     },
     "metadata": {},
     "execution_count": 567
    }
   ],
   "source": [
    "csv_path = Path(\"../csvs/covid_cases.csv/\")\n",
    "covid_data = pd.read_csv(csv_path, index_col=\"Date\", parse_dates=True, infer_datetime_format=True)\n",
    "##covid_data.sort_index(ascending = True, inplace = True)\n",
    "covid_data.tail()"
   ]
  },
  {
   "cell_type": "code",
   "execution_count": 568,
   "metadata": {},
   "outputs": [
    {
     "output_type": "execute_result",
     "data": {
      "text/plain": [
       "            US_Covid_Cases\n",
       "Date                      \n",
       "2021-07-02           15555\n",
       "2021-07-01           17911\n",
       "2021-06-30           14353\n",
       "2021-06-29           14823\n",
       "2021-06-28            8669"
      ],
      "text/html": "<div>\n<style scoped>\n    .dataframe tbody tr th:only-of-type {\n        vertical-align: middle;\n    }\n\n    .dataframe tbody tr th {\n        vertical-align: top;\n    }\n\n    .dataframe thead th {\n        text-align: right;\n    }\n</style>\n<table border=\"1\" class=\"dataframe\">\n  <thead>\n    <tr style=\"text-align: right;\">\n      <th></th>\n      <th>US_Covid_Cases</th>\n    </tr>\n    <tr>\n      <th>Date</th>\n      <th></th>\n    </tr>\n  </thead>\n  <tbody>\n    <tr>\n      <th>2021-07-02</th>\n      <td>15555</td>\n    </tr>\n    <tr>\n      <th>2021-07-01</th>\n      <td>17911</td>\n    </tr>\n    <tr>\n      <th>2021-06-30</th>\n      <td>14353</td>\n    </tr>\n    <tr>\n      <th>2021-06-29</th>\n      <td>14823</td>\n    </tr>\n    <tr>\n      <th>2021-06-28</th>\n      <td>8669</td>\n    </tr>\n  </tbody>\n</table>\n</div>"
     },
     "metadata": {},
     "execution_count": 568
    }
   ],
   "source": [
    "covid_df = pd.DataFrame()\n",
    "covid_df[\"US_Covid_Cases\"] = covid_data[\"New Cases\"]\n",
    "#covid_df[\"Date\"] = covid_data[\"Date\"]\n",
    "covid_df.head()"
   ]
  },
  {
   "cell_type": "code",
   "execution_count": 569,
   "metadata": {},
   "outputs": [
    {
     "output_type": "execute_result",
     "data": {
      "text/plain": [
       "            Chevron     Apple    Google  Facebook    DPB\n",
       "2019-01-02   110.50  157.5225  1053.240  135.4100  46.31\n",
       "2019-01-03   108.78  142.2900  1026.505  131.8902  46.92\n",
       "2019-01-04   110.74  148.1200  1076.550  137.9400  47.76\n",
       "2019-01-07   112.35  147.9100  1076.010  138.2300  48.27\n",
       "2019-01-08   111.85  150.6300  1085.510  142.5843  49.58"
      ],
      "text/html": "<div>\n<style scoped>\n    .dataframe tbody tr th:only-of-type {\n        vertical-align: middle;\n    }\n\n    .dataframe tbody tr th {\n        vertical-align: top;\n    }\n\n    .dataframe thead th {\n        text-align: right;\n    }\n</style>\n<table border=\"1\" class=\"dataframe\">\n  <thead>\n    <tr style=\"text-align: right;\">\n      <th></th>\n      <th>Chevron</th>\n      <th>Apple</th>\n      <th>Google</th>\n      <th>Facebook</th>\n      <th>DPB</th>\n    </tr>\n  </thead>\n  <tbody>\n    <tr>\n      <th>2019-01-02</th>\n      <td>110.50</td>\n      <td>157.5225</td>\n      <td>1053.240</td>\n      <td>135.4100</td>\n      <td>46.31</td>\n    </tr>\n    <tr>\n      <th>2019-01-03</th>\n      <td>108.78</td>\n      <td>142.2900</td>\n      <td>1026.505</td>\n      <td>131.8902</td>\n      <td>46.92</td>\n    </tr>\n    <tr>\n      <th>2019-01-04</th>\n      <td>110.74</td>\n      <td>148.1200</td>\n      <td>1076.550</td>\n      <td>137.9400</td>\n      <td>47.76</td>\n    </tr>\n    <tr>\n      <th>2019-01-07</th>\n      <td>112.35</td>\n      <td>147.9100</td>\n      <td>1076.010</td>\n      <td>138.2300</td>\n      <td>48.27</td>\n    </tr>\n    <tr>\n      <th>2019-01-08</th>\n      <td>111.85</td>\n      <td>150.6300</td>\n      <td>1085.510</td>\n      <td>142.5843</td>\n      <td>49.58</td>\n    </tr>\n  </tbody>\n</table>\n</div>"
     },
     "metadata": {},
     "execution_count": 569
    }
   ],
   "source": [
    "df = tech_df.join(oil, how=\"inner\")\n",
    "df.head()"
   ]
  },
  {
   "cell_type": "code",
   "execution_count": 570,
   "metadata": {},
   "outputs": [
    {
     "output_type": "execute_result",
     "data": {
      "text/plain": [
       "            US_Covid_Cases  Chevron     Apple   Google  Facebook    DPB\n",
       "2020-01-22              33  112.910  317.7000  1483.56   221.290  56.76\n",
       "2020-01-23               2  113.110  319.2899  1484.02   219.670  55.51\n",
       "2020-01-24               1  111.855  318.3300  1466.05   217.929  54.09\n",
       "2020-01-27               1  110.370  308.9600  1431.43   214.870  53.09\n",
       "2020-01-28               1  111.120  317.7600  1449.61   217.790  53.33"
      ],
      "text/html": "<div>\n<style scoped>\n    .dataframe tbody tr th:only-of-type {\n        vertical-align: middle;\n    }\n\n    .dataframe tbody tr th {\n        vertical-align: top;\n    }\n\n    .dataframe thead th {\n        text-align: right;\n    }\n</style>\n<table border=\"1\" class=\"dataframe\">\n  <thead>\n    <tr style=\"text-align: right;\">\n      <th></th>\n      <th>US_Covid_Cases</th>\n      <th>Chevron</th>\n      <th>Apple</th>\n      <th>Google</th>\n      <th>Facebook</th>\n      <th>DPB</th>\n    </tr>\n  </thead>\n  <tbody>\n    <tr>\n      <th>2020-01-22</th>\n      <td>33</td>\n      <td>112.910</td>\n      <td>317.7000</td>\n      <td>1483.56</td>\n      <td>221.290</td>\n      <td>56.76</td>\n    </tr>\n    <tr>\n      <th>2020-01-23</th>\n      <td>2</td>\n      <td>113.110</td>\n      <td>319.2899</td>\n      <td>1484.02</td>\n      <td>219.670</td>\n      <td>55.51</td>\n    </tr>\n    <tr>\n      <th>2020-01-24</th>\n      <td>1</td>\n      <td>111.855</td>\n      <td>318.3300</td>\n      <td>1466.05</td>\n      <td>217.929</td>\n      <td>54.09</td>\n    </tr>\n    <tr>\n      <th>2020-01-27</th>\n      <td>1</td>\n      <td>110.370</td>\n      <td>308.9600</td>\n      <td>1431.43</td>\n      <td>214.870</td>\n      <td>53.09</td>\n    </tr>\n    <tr>\n      <th>2020-01-28</th>\n      <td>1</td>\n      <td>111.120</td>\n      <td>317.7600</td>\n      <td>1449.61</td>\n      <td>217.790</td>\n      <td>53.33</td>\n    </tr>\n  </tbody>\n</table>\n</div>"
     },
     "metadata": {},
     "execution_count": 570
    }
   ],
   "source": [
    "data = covid_df.join(df, how=\"inner\")\n",
    "#data = data.join(vaccine_df, how=\"inner\")\n",
    "data.sort_index(inplace=True)\n",
    "data.head()"
   ]
  },
  {
   "cell_type": "code",
   "execution_count": 571,
   "metadata": {},
   "outputs": [
    {
     "output_type": "execute_result",
     "data": {
      "text/plain": [
       "252.7"
      ]
     },
     "metadata": {},
     "execution_count": 571
    }
   ],
   "source": [
    "data.shape[0]*.7"
   ]
  },
  {
   "cell_type": "code",
   "execution_count": 572,
   "metadata": {},
   "outputs": [
    {
     "output_type": "execute_result",
     "data": {
      "text/plain": [
       "US_Covid_Cases    121277.00\n",
       "Chevron               90.93\n",
       "Apple                142.90\n",
       "Google              1894.28\n",
       "Facebook             278.00\n",
       "DPB                   52.78\n",
       "Name: 2021-01-25 00:00:00, dtype: float64"
      ]
     },
     "metadata": {},
     "execution_count": 572
    }
   ],
   "source": [
    "data.iloc[253]"
   ]
  },
  {
   "cell_type": "code",
   "execution_count": 573,
   "metadata": {},
   "outputs": [],
   "source": [
    "def window_data(df, window, feature_col_number, target_col_number):\n",
    "    X = []\n",
    "    y = []\n",
    "    for i in range(len(df) - window):\n",
    "        features = df.iloc[i : (i + window), feature_col_number]\n",
    "        target = df.iloc[(i + window), target_col_number]\n",
    "        X.append(features)\n",
    "        y.append(target)\n",
    "    return np.array(X), np.array(y).reshape(-1, 1)"
   ]
  },
  {
   "cell_type": "code",
   "execution_count": 574,
   "metadata": {},
   "outputs": [
    {
     "output_type": "stream",
     "name": "stdout",
     "text": [
      "X sample values:\n[[112.91  113.11  111.855]\n [113.11  111.855 110.37 ]\n [111.855 110.37  111.12 ]\n [110.37  111.12  110.39 ]\n [111.12  110.39  111.42 ]] \n\ny sample values:\n[[53.09]\n [53.33]\n [53.29]\n [52.19]\n [51.58]]\n"
     ]
    }
   ],
   "source": [
    "window_size = 3\n",
    "feature_column = 1\n",
    "target_column = 5\n",
    "X, y = window_data(data, window_size, feature_column, target_column)\n",
    "print (f\"X sample values:\\n{X[:5]} \\n\")\n",
    "print (f\"y sample values:\\n{y[:5]}\")"
   ]
  },
  {
   "cell_type": "code",
   "execution_count": 575,
   "metadata": {},
   "outputs": [
    {
     "output_type": "stream",
     "name": "stdout",
     "text": [
      "[[112.91  113.11  111.855]\n [113.11  111.855 110.37 ]\n [111.855 110.37  111.12 ]\n ...\n [106.06  106.4   106.26 ]\n [106.4   106.26  107.14 ]\n [106.26  107.14  107.31 ]]\n"
     ]
    }
   ],
   "source": [
    "print(X)"
   ]
  },
  {
   "cell_type": "code",
   "execution_count": 576,
   "metadata": {},
   "outputs": [
    {
     "output_type": "execute_result",
     "data": {
      "text/plain": [
       "array([[112.91  , 113.11  , 111.855 ],\n",
       "       [113.11  , 111.855 , 110.37  ],\n",
       "       [111.855 , 110.37  , 111.12  ],\n",
       "       [110.37  , 111.12  , 110.39  ],\n",
       "       [111.12  , 110.39  , 111.42  ],\n",
       "       [110.39  , 111.42  , 107.11  ],\n",
       "       [111.42  , 107.11  , 106.25  ],\n",
       "       [107.11  , 106.25  , 106.86  ],\n",
       "       [106.25  , 106.86  , 110.29  ],\n",
       "       [106.86  , 110.29  , 109.51  ],\n",
       "       [110.29  , 109.51  , 108.95  ],\n",
       "       [109.51  , 108.95  , 109.79  ],\n",
       "       [108.95  , 109.79  , 111.21  ],\n",
       "       [109.79  , 111.21  , 112.05  ],\n",
       "       [111.21  , 112.05  , 111.6924],\n",
       "       [112.05  , 111.6924, 110.07  ],\n",
       "       [111.6924, 110.07  , 110.25  ],\n",
       "       [110.07  , 110.25  , 110.73  ],\n",
       "       [110.25  , 110.73  , 109.8   ],\n",
       "       [110.73  , 109.8   , 109.    ],\n",
       "       [109.8   , 109.    , 104.72  ],\n",
       "       [109.    , 104.72  , 100.73  ],\n",
       "       [104.72  , 100.73  ,  98.05  ],\n",
       "       [100.73  ,  98.05  ,  94.085 ],\n",
       "       [ 98.05  ,  94.085 ,  93.33  ],\n",
       "       [ 94.085 ,  93.33  ,  96.6   ],\n",
       "       [ 93.33  ,  96.6   ,  94.32  ],\n",
       "       [ 96.6   ,  94.32  ,  98.55  ],\n",
       "       [ 94.32  ,  98.55  ,  97.19  ],\n",
       "       [ 98.55  ,  97.19  ,  95.33  ],\n",
       "       [ 97.19  ,  95.33  ,  80.64  ],\n",
       "       [ 95.33  ,  80.64  ,  84.925 ],\n",
       "       [ 80.64  ,  84.925 ,  83.05  ],\n",
       "       [ 84.925 ,  83.05  ,  76.25  ],\n",
       "       [ 83.05  ,  76.25  ,  83.42  ],\n",
       "       [ 76.25  ,  83.42  ,  69.7   ],\n",
       "       [ 83.42  ,  69.7   ,  70.68  ],\n",
       "       [ 69.7   ,  70.68  ,  55.06  ],\n",
       "       [ 70.68  ,  55.06  ,  57.3801],\n",
       "       [ 55.06  ,  57.3801,  59.44  ],\n",
       "       [ 57.3801,  59.44  ,  54.23  ],\n",
       "       [ 59.44  ,  54.23  ,  66.54  ],\n",
       "       [ 54.23  ,  66.54  ,  69.17  ],\n",
       "       [ 66.54  ,  69.17  ,  76.08  ],\n",
       "       [ 69.17  ,  76.08  ,  68.78  ],\n",
       "       [ 76.08  ,  68.78  ,  71.93  ],\n",
       "       [ 68.78  ,  71.93  ,  72.47  ],\n",
       "       [ 71.93  ,  72.47  ,  68.59  ],\n",
       "       [ 72.47  ,  68.59  ,  76.11  ],\n",
       "       [ 68.59  ,  76.11  ,  75.13  ],\n",
       "       [ 76.11  ,  75.13  ,  80.31  ],\n",
       "       [ 75.13  ,  80.31  ,  80.9   ],\n",
       "       [ 80.31  ,  80.9   ,  86.04  ],\n",
       "       [ 80.9   ,  86.04  ,  84.33  ],\n",
       "       [ 86.04  ,  84.33  ,  84.87  ],\n",
       "       [ 84.33  ,  84.87  ,  84.61  ],\n",
       "       [ 84.87  ,  84.61  ,  82.49  ],\n",
       "       [ 84.61  ,  82.49  ,  79.99  ],\n",
       "       [ 82.49  ,  79.99  ,  87.21  ],\n",
       "       [ 79.99  ,  87.21  ,  83.51  ],\n",
       "       [ 87.21  ,  83.51  ,  81.67  ],\n",
       "       [ 83.51  ,  81.67  ,  84.69  ],\n",
       "       [ 81.67  ,  84.69  ,  86.8   ],\n",
       "       [ 84.69  ,  86.8   ,  86.98  ],\n",
       "       [ 86.8   ,  86.98  ,  89.66  ],\n",
       "       [ 86.98  ,  89.66  ,  89.93  ],\n",
       "       [ 89.66  ,  89.93  ,  94.61  ],\n",
       "       [ 89.93  ,  94.61  ,  92.    ],\n",
       "       [ 94.61  ,  92.    ,  89.44  ],\n",
       "       [ 92.    ,  89.44  ,  91.44  ],\n",
       "       [ 89.44  ,  91.44  ,  92.86  ],\n",
       "       [ 91.44  ,  92.86  ,  90.06  ],\n",
       "       [ 92.86  ,  90.06  ,  92.68  ],\n",
       "       [ 90.06  ,  92.68  ,  95.5   ],\n",
       "       [ 92.68  ,  95.5   ,  93.37  ],\n",
       "       [ 95.5   ,  93.37  ,  91.1   ],\n",
       "       [ 93.37  ,  91.1   ,  88.67  ],\n",
       "       [ 91.1   ,  88.67  ,  90.09  ],\n",
       "       [ 88.67  ,  90.09  ,  89.16  ],\n",
       "       [ 90.09  ,  89.16  ,  92.54  ],\n",
       "       [ 89.16  ,  92.54  ,  89.57  ],\n",
       "       [ 92.54  ,  89.57  ,  93.    ],\n",
       "       [ 89.57  ,  93.    ,  92.1   ],\n",
       "       [ 93.    ,  92.1   ,  90.27  ],\n",
       "       [ 92.1   ,  90.27  ,  93.33  ],\n",
       "       [ 90.27  ,  93.33  ,  93.88  ],\n",
       "       [ 93.33  ,  93.88  ,  90.87  ],\n",
       "       [ 93.88  ,  90.87  ,  91.59  ],\n",
       "       [ 90.87  ,  91.59  ,  92.79  ],\n",
       "       [ 91.59  ,  92.79  ,  94.65  ],\n",
       "       [ 92.79  ,  94.65  ,  97.16  ],\n",
       "       [ 94.65  ,  97.16  ,  96.29  ],\n",
       "       [ 97.16  ,  96.29  , 100.875 ],\n",
       "       [ 96.29  , 100.875 , 103.19  ],\n",
       "       [100.875 , 103.19  , 101.73  ],\n",
       "       [103.19  , 101.73  ,  97.63  ],\n",
       "       [101.73  ,  97.63  ,  89.31  ],\n",
       "       [ 97.63  ,  89.31  ,  90.74  ],\n",
       "       [ 89.31  ,  90.74  ,  91.25  ],\n",
       "       [ 90.74  ,  91.25  ,  94.08  ],\n",
       "       [ 91.25  ,  94.08  ,  91.54  ],\n",
       "       [ 94.08  ,  91.54  ,  91.94  ],\n",
       "       [ 91.54  ,  91.94  ,  90.65  ],\n",
       "       [ 91.94  ,  90.65  ,  91.58  ],\n",
       "       [ 90.65  ,  91.58  ,  91.4   ],\n",
       "       [ 91.58  ,  91.4   ,  87.67  ],\n",
       "       [ 91.4   ,  87.67  ,  89.21  ],\n",
       "       [ 87.67  ,  89.21  ,  86.47  ],\n",
       "       [ 89.21  ,  86.47  ,  87.63  ],\n",
       "       [ 86.47  ,  87.63  ,  89.24  ],\n",
       "       [ 87.63  ,  89.24  ,  87.62  ],\n",
       "       [ 89.24  ,  87.62  ,  88.33  ],\n",
       "       [ 87.62  ,  88.33  ,  88.54  ],\n",
       "       [ 88.33  ,  88.54  ,  86.41  ],\n",
       "       [ 88.54  ,  86.41  ,  86.35  ],\n",
       "       [ 86.41  ,  86.35  ,  82.79  ],\n",
       "       [ 86.35  ,  82.79  ,  85.21  ],\n",
       "       [ 82.79  ,  85.21  ,  85.42  ],\n",
       "       [ 85.21  ,  85.42  ,  88.41  ],\n",
       "       [ 85.42  ,  88.41  ,  88.95  ],\n",
       "       [ 88.41  ,  88.95  ,  88.4   ],\n",
       "       [ 88.95  ,  88.4   ,  87.21  ],\n",
       "       [ 88.4   ,  87.21  ,  85.29  ],\n",
       "       [ 87.21  ,  85.29  ,  91.38  ],\n",
       "       [ 85.29  ,  91.38  ,  91.04  ],\n",
       "       [ 91.38  ,  91.04  ,  91.    ],\n",
       "       [ 91.04  ,  91.    ,  90.15  ],\n",
       "       [ 91.    ,  90.15  ,  91.04  ],\n",
       "       [ 90.15  ,  91.04  ,  89.11  ],\n",
       "       [ 91.04  ,  89.11  ,  90.07  ],\n",
       "       [ 89.11  ,  90.07  ,  86.41  ],\n",
       "       [ 90.07  ,  86.41  ,  83.94  ],\n",
       "       [ 86.41  ,  83.94  ,  84.81  ],\n",
       "       [ 83.94  ,  84.81  ,  86.54  ],\n",
       "       [ 84.81  ,  86.54  ,  87.22  ],\n",
       "       [ 86.54  ,  87.22  ,  87.48  ],\n",
       "       [ 87.22  ,  87.48  ,  86.83  ],\n",
       "       [ 87.48  ,  86.83  ,  89.74  ],\n",
       "       [ 86.83  ,  89.74  ,  89.67  ],\n",
       "       [ 89.74  ,  89.67  ,  90.72  ],\n",
       "       [ 89.67  ,  90.72  ,  89.84  ],\n",
       "       [ 90.72  ,  89.84  ,  90.36  ],\n",
       "       [ 89.84  ,  90.36  ,  90.75  ],\n",
       "       [ 90.36  ,  90.75  ,  87.63  ],\n",
       "       [ 90.75  ,  87.63  ,  86.39  ],\n",
       "       [ 87.63  ,  86.39  ,  84.86  ],\n",
       "       [ 86.39  ,  84.86  ,  85.08  ],\n",
       "       [ 84.86  ,  85.08  ,  87.2   ],\n",
       "       [ 85.08  ,  87.2   ,  86.14  ],\n",
       "       [ 87.2   ,  86.14  ,  84.79  ],\n",
       "       [ 86.14  ,  84.79  ,  84.92  ],\n",
       "       [ 84.79  ,  84.92  ,  85.6   ],\n",
       "       [ 84.92  ,  85.6   ,  83.92  ],\n",
       "       [ 85.6   ,  83.92  ,  83.13  ],\n",
       "       [ 83.92  ,  83.13  ,  83.15  ],\n",
       "       [ 83.13  ,  83.15  ,  82.26  ],\n",
       "       [ 83.15  ,  82.26  ,  81.92  ],\n",
       "       [ 82.26  ,  81.92  ,  78.97  ],\n",
       "       [ 81.92  ,  78.97  ,  80.05  ],\n",
       "       [ 78.97  ,  80.05  ,  78.11  ],\n",
       "       [ 80.05  ,  78.11  ,  77.66  ],\n",
       "       [ 78.11  ,  77.66  ,  77.28  ],\n",
       "       [ 77.66  ,  77.28  ,  76.33  ],\n",
       "       [ 77.28  ,  76.33  ,  78.6   ],\n",
       "       [ 76.33  ,  78.6   ,  78.73  ],\n",
       "       [ 78.6   ,  78.73  ,  78.216 ],\n",
       "       [ 78.73  ,  78.216 ,  76.3   ],\n",
       "       [ 78.216 ,  76.3   ,  75.52  ],\n",
       "       [ 76.3   ,  75.52  ,  71.96  ],\n",
       "       [ 75.52  ,  71.96  ,  71.81  ],\n",
       "       [ 71.96  ,  71.81  ,  71.86  ],\n",
       "       [ 71.81  ,  71.86  ,  73.97  ],\n",
       "       [ 71.86  ,  73.97  ,  71.9   ],\n",
       "       [ 73.97  ,  71.9   ,  71.99  ],\n",
       "       [ 71.9   ,  71.99  ,  70.4   ],\n",
       "       [ 71.99  ,  70.4   ,  71.19  ],\n",
       "       [ 70.4   ,  71.19  ,  72.7   ],\n",
       "       [ 71.19  ,  72.7   ,  72.33  ],\n",
       "       [ 72.7   ,  72.33  ,  73.78  ],\n",
       "       [ 72.33  ,  73.78  ,  75.22  ],\n",
       "       [ 73.78  ,  75.22  ,  74.    ],\n",
       "       [ 75.22  ,  74.    ,  74.51  ],\n",
       "       [ 74.    ,  74.51  ,  73.42  ],\n",
       "       [ 74.51  ,  73.42  ,  72.96  ],\n",
       "       [ 73.42  ,  72.96  ,  73.51  ],\n",
       "       [ 72.96  ,  73.51  ,  72.91  ],\n",
       "       [ 73.51  ,  72.91  ,  71.3   ],\n",
       "       [ 72.91  ,  71.3   ,  71.7   ],\n",
       "       [ 71.3   ,  71.7   ,  70.85  ],\n",
       "       [ 71.7   ,  70.85  ,  73.39  ],\n",
       "       [ 70.85  ,  73.39  ,  72.59  ],\n",
       "       [ 73.39  ,  72.59  ,  70.94  ],\n",
       "       [ 72.59  ,  70.94  ,  69.51  ],\n",
       "       [ 70.94  ,  69.51  ,  66.92  ],\n",
       "       [ 69.51  ,  66.92  ,  68.86  ],\n",
       "       [ 66.92  ,  68.86  ,  69.54  ],\n",
       "       [ 68.86  ,  69.54  ,  72.17  ],\n",
       "       [ 69.54  ,  72.17  ,  71.73  ],\n",
       "       [ 72.17  ,  71.73  ,  71.77  ],\n",
       "       [ 71.73  ,  71.77  ,  72.16  ],\n",
       "       [ 71.77  ,  72.16  ,  71.14  ],\n",
       "       [ 72.16  ,  71.14  ,  79.4   ],\n",
       "       [ 71.14  ,  79.4   ,  83.09  ],\n",
       "       [ 79.4   ,  83.09  ,  82.47  ],\n",
       "       [ 83.09  ,  82.47  ,  80.67  ],\n",
       "       [ 82.47  ,  80.67  ,  82.91  ],\n",
       "       [ 80.67  ,  82.91  ,  88.97  ],\n",
       "       [ 82.91  ,  88.97  ,  87.02  ],\n",
       "       [ 88.97  ,  87.02  ,  84.27  ],\n",
       "       [ 87.02  ,  84.27  ,  85.71  ],\n",
       "       [ 84.27  ,  85.71  ,  85.81  ],\n",
       "       [ 85.71  ,  85.81  ,  91.11  ],\n",
       "       [ 85.81  ,  91.11  ,  95.61  ],\n",
       "       [ 91.11  ,  95.61  ,  92.18  ],\n",
       "       [ 95.61  ,  92.18  ,  87.21  ],\n",
       "       [ 92.18  ,  87.21  ,  87.46  ],\n",
       "       [ 87.21  ,  87.46  ,  89.87  ],\n",
       "       [ 87.46  ,  89.87  ,  89.84  ],\n",
       "       [ 89.87  ,  89.84  ,  93.28  ],\n",
       "       [ 89.84  ,  93.28  ,  90.72  ],\n",
       "       [ 93.28  ,  90.72  ,  91.519 ],\n",
       "       [ 90.72  ,  91.519 ,  90.43  ],\n",
       "       [ 91.519 ,  90.43  ,  93.34  ],\n",
       "       [ 90.43  ,  93.34  ,  92.435 ],\n",
       "       [ 93.34  ,  92.435 ,  89.43  ],\n",
       "       [ 92.435 ,  89.43  ,  89.38  ],\n",
       "       [ 89.43  ,  89.38  ,  88.71  ],\n",
       "       [ 89.38  ,  88.71  ,  88.4   ],\n",
       "       [ 88.71  ,  88.4   ,  87.22  ],\n",
       "       [ 88.4   ,  87.22  ,  86.06  ],\n",
       "       [ 87.22  ,  86.06  ,  84.36  ],\n",
       "       [ 86.06  ,  84.36  ,  85.6948],\n",
       "       [ 84.36  ,  85.6948,  85.42  ],\n",
       "       [ 85.6948,  85.42  ,  84.91  ],\n",
       "       [ 85.42  ,  84.91  ,  84.64  ],\n",
       "       [ 84.91  ,  84.64  ,  85.33  ],\n",
       "       [ 84.64  ,  85.33  ,  84.4   ],\n",
       "       [ 85.33  ,  84.4   ,  84.745 ],\n",
       "       [ 84.4   ,  84.745 ,  87.    ],\n",
       "       [ 84.745 ,  87.    ,  89.8   ],\n",
       "       [ 87.    ,  89.8   ,  90.25  ],\n",
       "       [ 89.8   ,  90.25  ,  91.    ],\n",
       "       [ 90.25  ,  91.    ,  91.57  ],\n",
       "       [ 91.    ,  91.57  ,  93.34  ],\n",
       "       [ 91.57  ,  93.34  ,  93.24  ],\n",
       "       [ 93.34  ,  93.24  ,  95.49  ],\n",
       "       [ 93.24  ,  95.49  ,  92.08  ],\n",
       "       [ 95.49  ,  92.08  ,  94.51  ],\n",
       "       [ 92.08  ,  94.51  ,  95.38  ],\n",
       "       [ 94.51  ,  95.38  ,  92.01  ]])"
      ]
     },
     "metadata": {},
     "execution_count": 576
    }
   ],
   "source": [
    "split = int(0.7 * len(X))\n",
    "X_train = X[: split]\n",
    "X_test = X[split :]\n",
    "y_train = y[: split]\n",
    "y_test = y[split :]\n",
    "X_train"
   ]
  },
  {
   "cell_type": "code",
   "execution_count": 577,
   "metadata": {},
   "outputs": [],
   "source": [
    "from sklearn.preprocessing import MinMaxScaler\n",
    "\n",
    "scaler = MinMaxScaler()\n",
    "scaler.fit(X)\n",
    "X_train = scaler.transform(X_train)\n",
    "X_test = scaler.transform(X_test)\n",
    "scaler.fit(y)\n",
    "y_train = scaler.transform(y_train)\n",
    "y_test = scaler.transform(y_test)"
   ]
  },
  {
   "cell_type": "code",
   "execution_count": 578,
   "metadata": {},
   "outputs": [
    {
     "output_type": "stream",
     "name": "stdout",
     "text": [
      "X_train sample values:\n[[[0.99660326]\n  [1.        ]\n  [0.99662746]]\n\n [[1.        ]\n  [0.97868546]\n  [0.97094431]]\n\n [[0.97868546]\n  [0.95346467]\n  [0.9839156 ]]\n\n [[0.95346467]\n  [0.96620245]\n  [0.97129021]]\n\n [[0.96620245]\n  [0.95380435]\n  [0.98910412]]] \n\nX_test sample values:\n[[[0.69887908]\n  [0.64164402]\n  [0.64856451]]\n\n [[0.64164402]\n  [0.63688859]\n  [0.63472847]]\n\n [[0.63688859]\n  [0.62330163]\n  [0.60774818]]\n\n [[0.62330163]\n  [0.59680707]\n  [0.58855067]]\n\n [[0.59680707]\n  [0.57795516]\n  [0.60048426]]]\n"
     ]
    }
   ],
   "source": [
    "X_train = X_train.reshape((X_train.shape[0], X_train.shape[1], 1))\n",
    "X_test = X_test.reshape((X_test.shape[0], X_test.shape[1], 1))\n",
    "print (f\"X_train sample values:\\n{X_train[:5]} \\n\")\n",
    "print (f\"X_test sample values:\\n{X_test[:5]}\")"
   ]
  },
  {
   "cell_type": "code",
   "execution_count": 579,
   "metadata": {},
   "outputs": [],
   "source": [
    "from tensorflow.keras.models import Sequential\n",
    "from tensorflow.keras.layers import LSTM, Dense, Dropout"
   ]
  },
  {
   "cell_type": "code",
   "execution_count": 580,
   "metadata": {},
   "outputs": [],
   "source": [
    "model = Sequential()\n",
    "\n",
    "number_units = 5\n",
    "dropout_fraction = 0.2\n",
    "\n",
    "# Layer 1\n",
    "model.add(LSTM(units=number_units, return_sequences=True, input_shape=(X_train.shape[1], 1)))\n",
    "model.add(Dropout(dropout_fraction))\n",
    "# Layer 2\n",
    "model.add(LSTM(units=number_units, return_sequences=True))\n",
    "model.add(Dropout(dropout_fraction))\n",
    "# Layer 3\n",
    "model.add(LSTM(units=number_units))\n",
    "model.add(Dropout(dropout_fraction))\n",
    "# Output layer\n",
    "model.add(Dense(1))"
   ]
  },
  {
   "cell_type": "code",
   "execution_count": 581,
   "metadata": {},
   "outputs": [],
   "source": [
    "model.compile(optimizer=\"adam\", loss=\"mean_squared_error\")"
   ]
  },
  {
   "cell_type": "code",
   "execution_count": 582,
   "metadata": {},
   "outputs": [
    {
     "output_type": "stream",
     "name": "stdout",
     "text": [
      "Model: \"sequential_16\"\n_________________________________________________________________\nLayer (type)                 Output Shape              Param #   \n=================================================================\nlstm_48 (LSTM)               (None, 3, 5)              140       \n_________________________________________________________________\ndropout_48 (Dropout)         (None, 3, 5)              0         \n_________________________________________________________________\nlstm_49 (LSTM)               (None, 3, 5)              220       \n_________________________________________________________________\ndropout_49 (Dropout)         (None, 3, 5)              0         \n_________________________________________________________________\nlstm_50 (LSTM)               (None, 5)                 220       \n_________________________________________________________________\ndropout_50 (Dropout)         (None, 5)                 0         \n_________________________________________________________________\ndense_16 (Dense)             (None, 1)                 6         \n=================================================================\nTotal params: 586\nTrainable params: 586\nNon-trainable params: 0\n_________________________________________________________________\n"
     ]
    }
   ],
   "source": [
    "model.summary()"
   ]
  },
  {
   "cell_type": "code",
   "execution_count": 583,
   "metadata": {},
   "outputs": [
    {
     "output_type": "stream",
     "name": "stdout",
     "text": [
      "Epoch 1/15\n",
      "250/250 [==============================] - 5s 4ms/step - loss: 0.1309\n",
      "Epoch 2/15\n",
      "250/250 [==============================] - 1s 3ms/step - loss: 0.0236\n",
      "Epoch 3/15\n",
      "250/250 [==============================] - 1s 3ms/step - loss: 0.0207\n",
      "Epoch 4/15\n",
      "250/250 [==============================] - 1s 4ms/step - loss: 0.0185\n",
      "Epoch 5/15\n",
      "250/250 [==============================] - 1s 4ms/step - loss: 0.0169\n",
      "Epoch 6/15\n",
      "250/250 [==============================] - 1s 4ms/step - loss: 0.0168\n",
      "Epoch 7/15\n",
      "250/250 [==============================] - 1s 4ms/step - loss: 0.0158\n",
      "Epoch 8/15\n",
      "250/250 [==============================] - 1s 4ms/step - loss: 0.0164\n",
      "Epoch 9/15\n",
      "250/250 [==============================] - 1s 4ms/step - loss: 0.0121\n",
      "Epoch 10/15\n",
      "250/250 [==============================] - 1s 4ms/step - loss: 0.0134\n",
      "Epoch 11/15\n",
      "250/250 [==============================] - 1s 4ms/step - loss: 0.0111\n",
      "Epoch 12/15\n",
      "250/250 [==============================] - 1s 4ms/step - loss: 0.0109\n",
      "Epoch 13/15\n",
      "250/250 [==============================] - 1s 4ms/step - loss: 0.0096\n",
      "Epoch 14/15\n",
      "250/250 [==============================] - 1s 4ms/step - loss: 0.0101\n",
      "Epoch 15/15\n",
      "250/250 [==============================] - 1s 4ms/step - loss: 0.0099\n"
     ]
    },
    {
     "output_type": "execute_result",
     "data": {
      "text/plain": [
       "<tensorflow.python.keras.callbacks.History at 0x7ff4dd0c4970>"
      ]
     },
     "metadata": {},
     "execution_count": 583
    }
   ],
   "source": [
    "model.fit(X_train, y_train, epochs=15, shuffle=False, batch_size=1, verbose=1)"
   ]
  },
  {
   "cell_type": "code",
   "execution_count": 584,
   "metadata": {},
   "outputs": [
    {
     "output_type": "stream",
     "name": "stdout",
     "text": [
      "4/4 [==============================] - 1s 2ms/step - loss: 0.0185\n"
     ]
    },
    {
     "output_type": "execute_result",
     "data": {
      "text/plain": [
       "0.01853838749229908"
      ]
     },
     "metadata": {},
     "execution_count": 584
    }
   ],
   "source": [
    "model.evaluate(X_test, y_test)"
   ]
  },
  {
   "cell_type": "code",
   "execution_count": 585,
   "metadata": {},
   "outputs": [],
   "source": [
    "predicted = model.predict(X_test)"
   ]
  },
  {
   "cell_type": "code",
   "execution_count": 586,
   "metadata": {},
   "outputs": [],
   "source": [
    "predicted_prices = scaler.inverse_transform(predicted)\n",
    "real_prices = scaler.inverse_transform(y_test.reshape(-1, 1))"
   ]
  },
  {
   "cell_type": "code",
   "execution_count": 587,
   "metadata": {},
   "outputs": [
    {
     "output_type": "execute_result",
     "data": {
      "text/plain": [
       "             Real  Predicted\n",
       "2021-01-25  52.78  47.153328\n",
       "2021-01-26  52.61  46.753361\n",
       "2021-01-27  52.81  46.627998\n",
       "2021-01-28  52.26  46.408039\n",
       "2021-01-29  52.16  46.183479\n",
       "...           ...        ...\n",
       "2021-06-10  70.34  49.839958\n",
       "2021-06-11  71.00  49.895531\n",
       "2021-06-14  70.94  49.829659\n",
       "2021-06-15  72.06  49.862411\n",
       "2021-06-16  72.03  49.875278\n",
       "\n",
       "[100 rows x 2 columns]"
      ],
      "text/html": "<div>\n<style scoped>\n    .dataframe tbody tr th:only-of-type {\n        vertical-align: middle;\n    }\n\n    .dataframe tbody tr th {\n        vertical-align: top;\n    }\n\n    .dataframe thead th {\n        text-align: right;\n    }\n</style>\n<table border=\"1\" class=\"dataframe\">\n  <thead>\n    <tr style=\"text-align: right;\">\n      <th></th>\n      <th>Real</th>\n      <th>Predicted</th>\n    </tr>\n  </thead>\n  <tbody>\n    <tr>\n      <th>2021-01-25</th>\n      <td>52.78</td>\n      <td>47.153328</td>\n    </tr>\n    <tr>\n      <th>2021-01-26</th>\n      <td>52.61</td>\n      <td>46.753361</td>\n    </tr>\n    <tr>\n      <th>2021-01-27</th>\n      <td>52.81</td>\n      <td>46.627998</td>\n    </tr>\n    <tr>\n      <th>2021-01-28</th>\n      <td>52.26</td>\n      <td>46.408039</td>\n    </tr>\n    <tr>\n      <th>2021-01-29</th>\n      <td>52.16</td>\n      <td>46.183479</td>\n    </tr>\n    <tr>\n      <th>...</th>\n      <td>...</td>\n      <td>...</td>\n    </tr>\n    <tr>\n      <th>2021-06-10</th>\n      <td>70.34</td>\n      <td>49.839958</td>\n    </tr>\n    <tr>\n      <th>2021-06-11</th>\n      <td>71.00</td>\n      <td>49.895531</td>\n    </tr>\n    <tr>\n      <th>2021-06-14</th>\n      <td>70.94</td>\n      <td>49.829659</td>\n    </tr>\n    <tr>\n      <th>2021-06-15</th>\n      <td>72.06</td>\n      <td>49.862411</td>\n    </tr>\n    <tr>\n      <th>2021-06-16</th>\n      <td>72.03</td>\n      <td>49.875278</td>\n    </tr>\n  </tbody>\n</table>\n<p>100 rows × 2 columns</p>\n</div>"
     },
     "metadata": {},
     "execution_count": 587
    }
   ],
   "source": [
    "stocks = pd.DataFrame({\n",
    "    \"Real\": real_prices.ravel(),\n",
    "    \"Predicted\": predicted_prices.ravel()\n",
    "    }, index = data.index[-len(real_prices): ])\n",
    "stocks.head(100)"
   ]
  },
  {
   "cell_type": "code",
   "execution_count": 588,
   "metadata": {},
   "outputs": [
    {
     "output_type": "display_data",
     "data": {},
     "metadata": {}
    },
    {
     "output_type": "execute_result",
     "data": {
      "text/html": "<div id='13321'>\n\n\n\n\n\n  <div class=\"bk-root\" id=\"fe76a2e8-6899-456a-a3e0-441313ca6853\" data-root-id=\"13321\"></div>\n</div>\n<script type=\"application/javascript\">(function(root) {\n  function embed_document(root) {\n  var docs_json = {\"84096330-d4d5-472d-9fbf-de096a8cd801\":{\"roots\":{\"references\":[{\"attributes\":{\"text\":\"\",\"text_color\":{\"value\":\"black\"},\"text_font_size\":{\"value\":\"12pt\"}},\"id\":\"13328\",\"type\":\"Title\"},{\"attributes\":{\"source\":{\"id\":\"13361\"}},\"id\":\"13368\",\"type\":\"CDSView\"},{\"attributes\":{},\"id\":\"13414\",\"type\":\"UnionRenderers\"},{\"attributes\":{},\"id\":\"13341\",\"type\":\"BasicTicker\"},{\"attributes\":{\"below\":[{\"id\":\"13336\"}],\"center\":[{\"id\":\"13339\"},{\"id\":\"13343\"}],\"left\":[{\"id\":\"13340\"}],\"margin\":null,\"min_border_bottom\":10,\"min_border_left\":10,\"min_border_right\":10,\"min_border_top\":10,\"plot_height\":300,\"plot_width\":700,\"renderers\":[{\"id\":\"13367\"},{\"id\":\"13395\"}],\"right\":[{\"id\":\"13387\"}],\"sizing_mode\":\"fixed\",\"title\":{\"id\":\"13328\"},\"toolbar\":{\"id\":\"13350\"},\"x_range\":{\"id\":\"13323\"},\"x_scale\":{\"id\":\"13332\"},\"y_range\":{\"id\":\"13324\"},\"y_scale\":{\"id\":\"13334\"}},\"id\":\"13327\",\"subtype\":\"Figure\",\"type\":\"Plot\"},{\"attributes\":{\"margin\":[5,5,5,5],\"name\":\"HSpacer15788\",\"sizing_mode\":\"stretch_width\"},\"id\":\"13594\",\"type\":\"Spacer\"},{\"attributes\":{\"overlay\":{\"id\":\"13349\"}},\"id\":\"13347\",\"type\":\"BoxZoomTool\"},{\"attributes\":{\"mantissas\":[1,2,5],\"max_interval\":500.0,\"num_minor_ticks\":0},\"id\":\"13374\",\"type\":\"AdaptiveTicker\"},{\"attributes\":{\"base\":60,\"mantissas\":[1,2,5,10,15,20,30],\"max_interval\":1800000.0,\"min_interval\":1000.0,\"num_minor_ticks\":0},\"id\":\"13375\",\"type\":\"AdaptiveTicker\"},{\"attributes\":{\"days\":[1,2,3,4,5,6,7,8,9,10,11,12,13,14,15,16,17,18,19,20,21,22,23,24,25,26,27,28,29,30,31]},\"id\":\"13377\",\"type\":\"DaysTicker\"},{\"attributes\":{\"base\":24,\"mantissas\":[1,2,4,6,8,12],\"max_interval\":43200000.0,\"min_interval\":3600000.0,\"num_minor_ticks\":0},\"id\":\"13376\",\"type\":\"AdaptiveTicker\"},{\"attributes\":{\"axis_label\":\"Price\",\"bounds\":\"auto\",\"formatter\":{\"id\":\"13360\"},\"major_label_orientation\":\"horizontal\",\"ticker\":{\"id\":\"13341\"}},\"id\":\"13340\",\"type\":\"LinearAxis\"},{\"attributes\":{},\"id\":\"13334\",\"type\":\"LinearScale\"},{\"attributes\":{},\"id\":\"13348\",\"type\":\"ResetTool\"},{\"attributes\":{},\"id\":\"13332\",\"type\":\"LinearScale\"},{\"attributes\":{\"data\":{\"Variable\":[\"Predicted\",\"Predicted\",\"Predicted\",\"Predicted\",\"Predicted\",\"Predicted\",\"Predicted\",\"Predicted\",\"Predicted\",\"Predicted\",\"Predicted\",\"Predicted\",\"Predicted\",\"Predicted\",\"Predicted\",\"Predicted\",\"Predicted\",\"Predicted\",\"Predicted\",\"Predicted\",\"Predicted\",\"Predicted\",\"Predicted\",\"Predicted\",\"Predicted\",\"Predicted\",\"Predicted\",\"Predicted\",\"Predicted\",\"Predicted\",\"Predicted\",\"Predicted\",\"Predicted\",\"Predicted\",\"Predicted\",\"Predicted\",\"Predicted\",\"Predicted\",\"Predicted\",\"Predicted\",\"Predicted\",\"Predicted\",\"Predicted\",\"Predicted\",\"Predicted\",\"Predicted\",\"Predicted\",\"Predicted\",\"Predicted\",\"Predicted\",\"Predicted\",\"Predicted\",\"Predicted\",\"Predicted\",\"Predicted\",\"Predicted\",\"Predicted\",\"Predicted\",\"Predicted\",\"Predicted\",\"Predicted\",\"Predicted\",\"Predicted\",\"Predicted\",\"Predicted\",\"Predicted\",\"Predicted\",\"Predicted\",\"Predicted\",\"Predicted\",\"Predicted\",\"Predicted\",\"Predicted\",\"Predicted\",\"Predicted\",\"Predicted\",\"Predicted\",\"Predicted\",\"Predicted\",\"Predicted\",\"Predicted\",\"Predicted\",\"Predicted\",\"Predicted\",\"Predicted\",\"Predicted\",\"Predicted\",\"Predicted\",\"Predicted\",\"Predicted\",\"Predicted\",\"Predicted\",\"Predicted\",\"Predicted\",\"Predicted\",\"Predicted\",\"Predicted\",\"Predicted\",\"Predicted\",\"Predicted\",\"Predicted\",\"Predicted\",\"Predicted\",\"Predicted\",\"Predicted\",\"Predicted\",\"Predicted\",\"Predicted\"],\"index\":{\"__ndarray__\":\"AAAAcW1zd0IAAMDWv3N3QgAAgDwSdHdCAABAomR0d0IAAAAIt3R3QgAAQDmudXdCAAAAnwB2d0IAAMAEU3Z3QgAAgGqldndCAABA0Pd2d0IAAIAB73d3QgAAQGdBeHdCAAAAzZN4d0IAAMAy5nh3QgAAgJg4eXdCAACAL4J6d0IAAECV1Hp3QgAAAPsme3dCAADAYHl7d0IAAACScHx3QgAAwPfCfHdCAACAXRV9d0IAAEDDZ313QgAAACm6fXdCAABAWrF+d0IAAADAA393QgAAwCVWf3dCAACAi6h/d0IAAEDx+n93QgAAgCLygHdCAABAiESBd0IAAADuloF3QgAAwFPpgXdCAACAuTuCd0IAAMDqMoN3QgAAgFCFg3dCAABAtteDd0IAAAAcKoR3QgAAwIF8hHdCAAAAs3OFd0IAAMAYxoV3QgAAgH4YhndCAABA5GqGd0IAAABKvYZ3QgAAQHu0h3dCAAAA4QaId0IAAMBGWYh3QgAAgKyriHdCAACAQ/WJd0IAAECpR4p3QgAAAA+aindCAADAdOyKd0IAAIDaPot3QgAAwAs2jHdCAACAcYiMd0IAAEDX2ox3QgAAAD0tjXdCAADAon+Nd0IAAADUdo53QgAAwDnJjndCAACAnxuPd0IAAEAFbo93QgAAAGvAj3dCAABAnLeQd0IAAAACCpF3QgAAwGdckXdCAACAza6Rd0IAAEAzAZJ3QgAAgGT4kndCAABAykqTd0IAAAAwnZN3QgAAwJXvk3dCAACA+0GUd0IAAMAsOZV3QgAAgJKLlXdCAABA+N2Vd0IAAABeMJZ3QgAAwMOClndCAAAA9XmXd0IAAMBazJd3QgAAgMAemHdCAABAJnGYd0IAAACMw5h3QgAAQL26mXdCAAAAIw2ad0IAAMCIX5p3QgAAgO6xmndCAABAVASbd0IAAEDrTZx3QgAAAFGgnHdCAADAtvKcd0IAAIAcRZ13QgAAwE08nndCAACAs46ed0IAAEAZ4Z53QgAAAH8zn3dCAADA5IWfd0IAAAAWfaB3QgAAwHvPoHdCAACA4SGhd0IAAEBHdKF3QgAAAK3GoXdCAABA3r2id0IAAABEEKN3QgAAwKlio3dCAACAD7Wjd0IAAEB1B6R3QgAAgKb+pHdC\",\"dtype\":\"float64\",\"shape\":[108]},\"value\":{\"__ndarray__\":\"Ap08QnEDO0ISgzpC1aE5QuK7OEKFAjhCpHA3QkEsNkIWHjdC4+c3QuvGOEJfHTlCbb85QjfGOkKx5TpC0Xo7QrVyO0JqIDxCcQA9QioOPkLoJT5CxUQ/QisFQUKcVEJCOFpDQoaYQkJvLUJCuztDQqLFQ0Kp4kRCkVZGQsw6SEK5qUhCbPpIQpygSULbgklCEB5JQhsSSEIFz0ZCVvNFQvMnRELYkkNCDW9DQjnoQ0L2VkVCU/pFQv+nRkK5GEZC3YRFQro7RULVM0VCcYtEQiA2REIhJ0RCCotDQndFQ0JCKUNC4MFDQohOREJU5UNCdpZDQgpjQ0KAwUJCM/ZCQvxfQkLyuUJCDENDQnuDREKzh0VCr31FQvehREKXBUZCV+hGQt8WSEKESkhC+k1IQtONR0JBikZCIOhGQgZoR0KDU0hCjntHQmYORUJfCERC0HREQvbYRELTCkVCG1JEQgpBREKnS0RCIWVFQrjGRkIaTEdC0jtHQtN+R0IeXEdCBpVHQpJRR0Icc0dCSYBHQnP/R0L7fEhC9T5HQj+bRUIEyERCBQhGQlk3RkI/YkZC\",\"dtype\":\"float32\",\"shape\":[108]}},\"selected\":{\"id\":\"13390\"},\"selection_policy\":{\"id\":\"13437\"}},\"id\":\"13389\",\"type\":\"ColumnDataSource\"},{\"attributes\":{\"line_color\":\"#ff7e0e\",\"line_width\":2,\"x\":{\"field\":\"index\"},\"y\":{\"field\":\"value\"}},\"id\":\"13392\",\"type\":\"Line\"},{\"attributes\":{},\"id\":\"13344\",\"type\":\"SaveTool\"},{\"attributes\":{\"days\":[1,4,7,10,13,16,19,22,25,28]},\"id\":\"13378\",\"type\":\"DaysTicker\"},{\"attributes\":{\"months\":[0,1,2,3,4,5,6,7,8,9,10,11]},\"id\":\"13381\",\"type\":\"MonthsTicker\"},{\"attributes\":{\"data_source\":{\"id\":\"13389\"},\"glyph\":{\"id\":\"13392\"},\"hover_glyph\":null,\"muted_glyph\":{\"id\":\"13394\"},\"nonselection_glyph\":{\"id\":\"13393\"},\"selection_glyph\":null,\"view\":{\"id\":\"13396\"}},\"id\":\"13395\",\"type\":\"GlyphRenderer\"},{\"attributes\":{},\"id\":\"13358\",\"type\":\"DatetimeTickFormatter\"},{\"attributes\":{\"days\":[1,15]},\"id\":\"13380\",\"type\":\"DaysTicker\"},{\"attributes\":{\"line_alpha\":0.1,\"line_color\":\"#ff7e0e\",\"line_width\":2,\"x\":{\"field\":\"index\"},\"y\":{\"field\":\"value\"}},\"id\":\"13393\",\"type\":\"Line\"},{\"attributes\":{\"months\":[0,2,4,6,8,10]},\"id\":\"13382\",\"type\":\"MonthsTicker\"},{\"attributes\":{\"months\":[0,6]},\"id\":\"13384\",\"type\":\"MonthsTicker\"},{\"attributes\":{\"days\":[1,8,15,22]},\"id\":\"13379\",\"type\":\"DaysTicker\"},{\"attributes\":{},\"id\":\"13437\",\"type\":\"UnionRenderers\"},{\"attributes\":{},\"id\":\"13345\",\"type\":\"PanTool\"},{\"attributes\":{},\"id\":\"13385\",\"type\":\"YearsTicker\"},{\"attributes\":{\"data\":{\"Variable\":[\"Real\",\"Real\",\"Real\",\"Real\",\"Real\",\"Real\",\"Real\",\"Real\",\"Real\",\"Real\",\"Real\",\"Real\",\"Real\",\"Real\",\"Real\",\"Real\",\"Real\",\"Real\",\"Real\",\"Real\",\"Real\",\"Real\",\"Real\",\"Real\",\"Real\",\"Real\",\"Real\",\"Real\",\"Real\",\"Real\",\"Real\",\"Real\",\"Real\",\"Real\",\"Real\",\"Real\",\"Real\",\"Real\",\"Real\",\"Real\",\"Real\",\"Real\",\"Real\",\"Real\",\"Real\",\"Real\",\"Real\",\"Real\",\"Real\",\"Real\",\"Real\",\"Real\",\"Real\",\"Real\",\"Real\",\"Real\",\"Real\",\"Real\",\"Real\",\"Real\",\"Real\",\"Real\",\"Real\",\"Real\",\"Real\",\"Real\",\"Real\",\"Real\",\"Real\",\"Real\",\"Real\",\"Real\",\"Real\",\"Real\",\"Real\",\"Real\",\"Real\",\"Real\",\"Real\",\"Real\",\"Real\",\"Real\",\"Real\",\"Real\",\"Real\",\"Real\",\"Real\",\"Real\",\"Real\",\"Real\",\"Real\",\"Real\",\"Real\",\"Real\",\"Real\",\"Real\",\"Real\",\"Real\",\"Real\",\"Real\",\"Real\",\"Real\",\"Real\",\"Real\",\"Real\",\"Real\",\"Real\",\"Real\"],\"index\":{\"__ndarray__\":\"AAAAcW1zd0IAAMDWv3N3QgAAgDwSdHdCAABAomR0d0IAAAAIt3R3QgAAQDmudXdCAAAAnwB2d0IAAMAEU3Z3QgAAgGqldndCAABA0Pd2d0IAAIAB73d3QgAAQGdBeHdCAAAAzZN4d0IAAMAy5nh3QgAAgJg4eXdCAACAL4J6d0IAAECV1Hp3QgAAAPsme3dCAADAYHl7d0IAAACScHx3QgAAwPfCfHdCAACAXRV9d0IAAEDDZ313QgAAACm6fXdCAABAWrF+d0IAAADAA393QgAAwCVWf3dCAACAi6h/d0IAAEDx+n93QgAAgCLygHdCAABAiESBd0IAAADuloF3QgAAwFPpgXdCAACAuTuCd0IAAMDqMoN3QgAAgFCFg3dCAABAtteDd0IAAAAcKoR3QgAAwIF8hHdCAAAAs3OFd0IAAMAYxoV3QgAAgH4YhndCAABA5GqGd0IAAABKvYZ3QgAAQHu0h3dCAAAA4QaId0IAAMBGWYh3QgAAgKyriHdCAACAQ/WJd0IAAECpR4p3QgAAAA+aindCAADAdOyKd0IAAIDaPot3QgAAwAs2jHdCAACAcYiMd0IAAEDX2ox3QgAAAD0tjXdCAADAon+Nd0IAAADUdo53QgAAwDnJjndCAACAnxuPd0IAAEAFbo93QgAAAGvAj3dCAABAnLeQd0IAAAACCpF3QgAAwGdckXdCAACAza6Rd0IAAEAzAZJ3QgAAgGT4kndCAABAykqTd0IAAAAwnZN3QgAAwJXvk3dCAACA+0GUd0IAAMAsOZV3QgAAgJKLlXdCAABA+N2Vd0IAAABeMJZ3QgAAwMOClndCAAAA9XmXd0IAAMBazJd3QgAAgMAemHdCAABAJnGYd0IAAACMw5h3QgAAQL26mXdCAAAAIw2ad0IAAMCIX5p3QgAAgO6xmndCAABAVASbd0IAAEDrTZx3QgAAAFGgnHdCAADAtvKcd0IAAIAcRZ13QgAAwE08nndCAACAs46ed0IAAEAZ4Z53QgAAAH8zn3dCAADA5IWfd0IAAAAWfaB3QgAAwHvPoHdCAACA4SGhd0IAAEBHdKF3QgAAAK3GoXdCAABA3r2id0IAAABEEKN3QgAAwKlio3dCAACAD7Wjd0IAAEB1B6R3QgAAgKb+pHdC\",\"dtype\":\"float64\",\"shape\":[108]},\"value\":{\"__ndarray__\":\"o3A9CtdjSkCtR+F6FE5KQEjhehSuZ0pA4HoUrkchSkATrkfhehRKQGVmZmZmxkpAw/UoXI9iS0D2KFyPwtVLQLkehetRGExAZ2ZmZmZmTECamZmZmflMQOxRuB6FK01AuR6F61FYTUBcj8L1KBxNQAAAAAAAwE1AKVyPwvUITkDsUbgehYtOQDMzMzMzM05AkML1KFyPTUD2KFyPwtVOQBWuR+F61E5AexSuR+GaT0DXo3A9CrdPQGdmZmZmxk5AhetRuB5FTkCamZmZmdlNQArXo3A9qk5ASOF6FK7nT0CF61G4HoVQQFK4HoXrQVBA4XoUrkcBUEDNzMzMzBxQQOF6FK5HgVBA9ihcj8JlUEDXo3A9CldQQBSuR+F6NFBAMzMzMzMjUECamZmZmflNQNejcD0Kt05APgrXo3C9TkAAAAAAAOBMQJDC9Shcj05AXI/C9Sg8TUDXo3A9CndOQB+F61G4vk5AZ2ZmZmZGTkC5HoXrUZhNQBWuR+F6tE5APgrXo3BdTUDsUbgehatNQMP1KFyP4k1ArkfhehTOTUCF61G4HqVNQJqZmZmZ2U1AmpmZmZkZTkAzMzMzM5NPQPYoXI/CtU9AFa5H4XqUT0AK16NwPapPQK5H4XoUTk9A7FG4HoWrTkCamZmZmblOQNejcD0KF09Aw/UoXI8CT0CkcD0K14NPQEjhehSu509AAAAAAABAUEAAAAAAAMBPQD0K16NwHVBArkfhehRuUEC4HoXrUWhQQB+F61G4LlBAPQrXo3A9UEB7FK5H4TpQQKRwPQrXU1BAPQrXo3B9UEApXI/C9ehPQBSuR+F6VFBAj8L1KFyPUECPwvUoXF9QQKRwPQrXo09AmpmZmZn5TkCuR+F6FM5PQLgehetRiFBA4XoUrkeRUEAK16NwPZpQQEjhehSut1BApHA9CteTUEAzMzMzM/NQQMP1KFyPMlFApHA9CtczUUAUrkfhemRRQD0K16NwTVFA16NwPQqHUUCamZmZmXlRQPYoXI/ClVFAAAAAAADAUUBcj8L1KLxRQKRwPQrXA1JAUrgehesBUkCkcD0K18NRQClcj8L16FFAKVyPwvVoUkCamZmZmUlSQNejcD0KR1JApHA9CtdTUkA9CtejcI1SQB+F61G4PlJA\",\"dtype\":\"float64\",\"shape\":[108]}},\"selected\":{\"id\":\"13362\"},\"selection_policy\":{\"id\":\"13414\"}},\"id\":\"13361\",\"type\":\"ColumnDataSource\"},{\"attributes\":{},\"id\":\"13362\",\"type\":\"Selection\"},{\"attributes\":{},\"id\":\"13346\",\"type\":\"WheelZoomTool\"},{\"attributes\":{\"active_drag\":\"auto\",\"active_inspect\":\"auto\",\"active_multi\":null,\"active_scroll\":\"auto\",\"active_tap\":\"auto\",\"tools\":[{\"id\":\"13325\"},{\"id\":\"13344\"},{\"id\":\"13345\"},{\"id\":\"13346\"},{\"id\":\"13347\"},{\"id\":\"13348\"}]},\"id\":\"13350\",\"type\":\"Toolbar\"},{\"attributes\":{\"months\":[0,4,8]},\"id\":\"13383\",\"type\":\"MonthsTicker\"},{\"attributes\":{\"axis\":{\"id\":\"13336\"},\"grid_line_color\":null,\"ticker\":null},\"id\":\"13339\",\"type\":\"Grid\"},{\"attributes\":{},\"id\":\"13390\",\"type\":\"Selection\"},{\"attributes\":{\"line_alpha\":0.1,\"line_color\":\"#1f77b3\",\"line_width\":2,\"x\":{\"field\":\"index\"},\"y\":{\"field\":\"value\"}},\"id\":\"13365\",\"type\":\"Line\"},{\"attributes\":{\"line_alpha\":0.2,\"line_color\":\"#ff7e0e\",\"line_width\":2,\"x\":{\"field\":\"index\"},\"y\":{\"field\":\"value\"}},\"id\":\"13394\",\"type\":\"Line\"},{\"attributes\":{},\"id\":\"13360\",\"type\":\"BasicTickFormatter\"},{\"attributes\":{\"callback\":null,\"formatters\":{\"@{index}\":\"datetime\"},\"renderers\":[{\"id\":\"13367\"},{\"id\":\"13395\"}],\"tags\":[\"hv_created\"],\"tooltips\":[[\"Variable\",\"@{Variable}\"],[\"index\",\"@{index}{%F %T}\"],[\"value\",\"@{value}\"]]},\"id\":\"13325\",\"type\":\"HoverTool\"},{\"attributes\":{\"axis_label\":\"Date\",\"bounds\":\"auto\",\"formatter\":{\"id\":\"13358\"},\"major_label_orientation\":\"horizontal\",\"ticker\":{\"id\":\"13337\"}},\"id\":\"13336\",\"type\":\"DatetimeAxis\"},{\"attributes\":{\"source\":{\"id\":\"13389\"}},\"id\":\"13396\",\"type\":\"CDSView\"},{\"attributes\":{\"num_minor_ticks\":5,\"tickers\":[{\"id\":\"13374\"},{\"id\":\"13375\"},{\"id\":\"13376\"},{\"id\":\"13377\"},{\"id\":\"13378\"},{\"id\":\"13379\"},{\"id\":\"13380\"},{\"id\":\"13381\"},{\"id\":\"13382\"},{\"id\":\"13383\"},{\"id\":\"13384\"},{\"id\":\"13385\"}]},\"id\":\"13337\",\"type\":\"DatetimeTicker\"},{\"attributes\":{\"line_alpha\":0.2,\"line_color\":\"#1f77b3\",\"line_width\":2,\"x\":{\"field\":\"index\"},\"y\":{\"field\":\"value\"}},\"id\":\"13366\",\"type\":\"Line\"},{\"attributes\":{\"line_color\":\"#1f77b3\",\"line_width\":2,\"x\":{\"field\":\"index\"},\"y\":{\"field\":\"value\"}},\"id\":\"13364\",\"type\":\"Line\"},{\"attributes\":{\"label\":{\"value\":\"Predicted\"},\"renderers\":[{\"id\":\"13395\"}]},\"id\":\"13417\",\"type\":\"LegendItem\"},{\"attributes\":{\"label\":{\"value\":\"Real\"},\"renderers\":[{\"id\":\"13367\"}]},\"id\":\"13388\",\"type\":\"LegendItem\"},{\"attributes\":{\"margin\":[5,5,5,5],\"name\":\"HSpacer15787\",\"sizing_mode\":\"stretch_width\"},\"id\":\"13322\",\"type\":\"Spacer\"},{\"attributes\":{\"end\":77.07667832946777,\"reset_end\":77.07667832946777,\"reset_start\":42.67653837585449,\"start\":42.67653837585449,\"tags\":[[[\"value\",\"value\",null]]]},\"id\":\"13324\",\"type\":\"Range1d\"},{\"attributes\":{\"bottom_units\":\"screen\",\"fill_alpha\":0.5,\"fill_color\":\"lightgrey\",\"left_units\":\"screen\",\"level\":\"overlay\",\"line_alpha\":1.0,\"line_color\":\"black\",\"line_dash\":[4,4],\"line_width\":2,\"render_mode\":\"css\",\"right_units\":\"screen\",\"top_units\":\"screen\"},\"id\":\"13349\",\"type\":\"BoxAnnotation\"},{\"attributes\":{\"click_policy\":\"mute\",\"items\":[{\"id\":\"13388\"},{\"id\":\"13417\"}],\"location\":[0,0],\"title\":\"Variable\"},\"id\":\"13387\",\"type\":\"Legend\"},{\"attributes\":{\"children\":[{\"id\":\"13322\"},{\"id\":\"13327\"},{\"id\":\"13594\"}],\"margin\":[0,0,0,0],\"name\":\"Row15783\",\"tags\":[\"embedded\"]},\"id\":\"13321\",\"type\":\"Row\"},{\"attributes\":{\"end\":1624838400000.0,\"reset_end\":1624838400000.0,\"reset_start\":1611532800000.0,\"start\":1611532800000.0,\"tags\":[[[\"index\",\"index\",null]]]},\"id\":\"13323\",\"type\":\"Range1d\"},{\"attributes\":{\"data_source\":{\"id\":\"13361\"},\"glyph\":{\"id\":\"13364\"},\"hover_glyph\":null,\"muted_glyph\":{\"id\":\"13366\"},\"nonselection_glyph\":{\"id\":\"13365\"},\"selection_glyph\":null,\"view\":{\"id\":\"13368\"}},\"id\":\"13367\",\"type\":\"GlyphRenderer\"},{\"attributes\":{\"axis\":{\"id\":\"13340\"},\"dimension\":1,\"grid_line_color\":null,\"ticker\":null},\"id\":\"13343\",\"type\":\"Grid\"}],\"root_ids\":[\"13321\"]},\"title\":\"Bokeh Application\",\"version\":\"2.0.2\"}};\n  var render_items = [{\"docid\":\"84096330-d4d5-472d-9fbf-de096a8cd801\",\"root_ids\":[\"13321\"],\"roots\":{\"13321\":\"fe76a2e8-6899-456a-a3e0-441313ca6853\"}}];\n  root.Bokeh.embed.embed_items_notebook(docs_json, render_items);\n  }\nif (root.Bokeh !== undefined) {\n    embed_document(root);\n  } else {\n    var attempts = 0;\n    var timer = setInterval(function(root) {\n      if (root.Bokeh !== undefined) {\n        clearInterval(timer);\n        embed_document(root);\n      } else if (document.readyState == \"complete\") {\n        attempts++;\n        if (attempts > 100) {\n          clearInterval(timer);\n          console.log(\"Bokeh: ERROR: Unable to run BokehJS code because BokehJS library is missing\");\n        }\n      }\n    }, 10, root)\n  }\n})(window);</script>",
      "application/vnd.holoviews_exec.v0+json": "",
      "text/plain": [
       ":NdOverlay   [Variable]\n",
       "   :Curve   [index]   (value)"
      ]
     },
     "metadata": {
      "application/vnd.holoviews_exec.v0+json": {
       "id": "13321"
      }
     },
     "execution_count": 588
    }
   ],
   "source": [
    "stocks.hvplot.line(xlabel=\"Date\", ylabel=\"Price\")"
   ]
  },
  {
   "cell_type": "code",
   "execution_count": 589,
   "metadata": {},
   "outputs": [
    {
     "output_type": "display_data",
     "data": {},
     "metadata": {}
    },
    {
     "output_type": "execute_result",
     "data": {
      "text/html": "<div id='13706'>\n\n\n\n\n\n  <div class=\"bk-root\" id=\"e2c505bc-6c8a-467b-9777-73c0c2185325\" data-root-id=\"13706\"></div>\n</div>\n<script type=\"application/javascript\">(function(root) {\n  function embed_document(root) {\n  var docs_json = {\"6e3b3d34-c979-4768-8fe0-a0ad34c84af8\":{\"roots\":{\"references\":[{\"attributes\":{\"months\":[0,4,8]},\"id\":\"13768\",\"type\":\"MonthsTicker\"},{\"attributes\":{},\"id\":\"13743\",\"type\":\"DatetimeTickFormatter\"},{\"attributes\":{\"source\":{\"id\":\"13774\"}},\"id\":\"13781\",\"type\":\"CDSView\"},{\"attributes\":{\"margin\":[5,5,5,5],\"name\":\"HSpacer16233\",\"sizing_mode\":\"stretch_width\"},\"id\":\"13979\",\"type\":\"Spacer\"},{\"attributes\":{\"margin\":[5,5,5,5],\"name\":\"HSpacer16232\",\"sizing_mode\":\"stretch_width\"},\"id\":\"13707\",\"type\":\"Spacer\"},{\"attributes\":{},\"id\":\"13719\",\"type\":\"LinearScale\"},{\"attributes\":{},\"id\":\"13745\",\"type\":\"BasicTickFormatter\"},{\"attributes\":{},\"id\":\"13822\",\"type\":\"UnionRenderers\"},{\"attributes\":{\"label\":{\"value\":\"Predicted\"},\"renderers\":[{\"id\":\"13780\"}]},\"id\":\"13802\",\"type\":\"LegendItem\"},{\"attributes\":{\"click_policy\":\"mute\",\"items\":[{\"id\":\"13773\"},{\"id\":\"13802\"}],\"location\":[0,0],\"title\":\"Variable\"},\"id\":\"13772\",\"type\":\"Legend\"},{\"attributes\":{\"line_alpha\":0.2,\"line_color\":\"#1f77b3\",\"line_width\":2,\"x\":{\"field\":\"index\"},\"y\":{\"field\":\"value\"}},\"id\":\"13751\",\"type\":\"Line\"},{\"attributes\":{},\"id\":\"13747\",\"type\":\"Selection\"},{\"attributes\":{\"label\":{\"value\":\"Real\"},\"renderers\":[{\"id\":\"13752\"}]},\"id\":\"13773\",\"type\":\"LegendItem\"},{\"attributes\":{\"end\":77.07667832946777,\"reset_end\":77.07667832946777,\"reset_start\":42.67653837585449,\"start\":42.67653837585449,\"tags\":[[[\"value\",\"value\",null]]]},\"id\":\"13709\",\"type\":\"Range1d\"},{\"attributes\":{\"source\":{\"id\":\"13746\"}},\"id\":\"13753\",\"type\":\"CDSView\"},{\"attributes\":{\"text\":\"\",\"text_color\":{\"value\":\"black\"},\"text_font_size\":{\"value\":\"12pt\"}},\"id\":\"13713\",\"type\":\"Title\"},{\"attributes\":{\"bottom_units\":\"screen\",\"fill_alpha\":0.5,\"fill_color\":\"lightgrey\",\"left_units\":\"screen\",\"level\":\"overlay\",\"line_alpha\":1.0,\"line_color\":\"black\",\"line_dash\":[4,4],\"line_width\":2,\"render_mode\":\"css\",\"right_units\":\"screen\",\"top_units\":\"screen\"},\"id\":\"13734\",\"type\":\"BoxAnnotation\"},{\"attributes\":{\"data\":{\"Variable\":[\"Predicted\",\"Predicted\",\"Predicted\",\"Predicted\",\"Predicted\",\"Predicted\",\"Predicted\",\"Predicted\",\"Predicted\",\"Predicted\",\"Predicted\",\"Predicted\",\"Predicted\",\"Predicted\",\"Predicted\",\"Predicted\",\"Predicted\",\"Predicted\",\"Predicted\",\"Predicted\",\"Predicted\",\"Predicted\",\"Predicted\",\"Predicted\",\"Predicted\",\"Predicted\",\"Predicted\",\"Predicted\",\"Predicted\",\"Predicted\",\"Predicted\",\"Predicted\",\"Predicted\",\"Predicted\",\"Predicted\",\"Predicted\",\"Predicted\",\"Predicted\",\"Predicted\",\"Predicted\",\"Predicted\",\"Predicted\",\"Predicted\",\"Predicted\",\"Predicted\",\"Predicted\",\"Predicted\",\"Predicted\",\"Predicted\",\"Predicted\",\"Predicted\",\"Predicted\",\"Predicted\",\"Predicted\",\"Predicted\",\"Predicted\",\"Predicted\",\"Predicted\",\"Predicted\",\"Predicted\",\"Predicted\",\"Predicted\",\"Predicted\",\"Predicted\",\"Predicted\",\"Predicted\",\"Predicted\",\"Predicted\",\"Predicted\",\"Predicted\",\"Predicted\",\"Predicted\",\"Predicted\",\"Predicted\",\"Predicted\",\"Predicted\",\"Predicted\",\"Predicted\",\"Predicted\",\"Predicted\",\"Predicted\",\"Predicted\",\"Predicted\",\"Predicted\",\"Predicted\",\"Predicted\",\"Predicted\",\"Predicted\",\"Predicted\",\"Predicted\",\"Predicted\",\"Predicted\",\"Predicted\",\"Predicted\",\"Predicted\",\"Predicted\",\"Predicted\",\"Predicted\",\"Predicted\",\"Predicted\",\"Predicted\",\"Predicted\",\"Predicted\",\"Predicted\",\"Predicted\",\"Predicted\",\"Predicted\",\"Predicted\"],\"index\":{\"__ndarray__\":\"AAAAcW1zd0IAAMDWv3N3QgAAgDwSdHdCAABAomR0d0IAAAAIt3R3QgAAQDmudXdCAAAAnwB2d0IAAMAEU3Z3QgAAgGqldndCAABA0Pd2d0IAAIAB73d3QgAAQGdBeHdCAAAAzZN4d0IAAMAy5nh3QgAAgJg4eXdCAACAL4J6d0IAAECV1Hp3QgAAAPsme3dCAADAYHl7d0IAAACScHx3QgAAwPfCfHdCAACAXRV9d0IAAEDDZ313QgAAACm6fXdCAABAWrF+d0IAAADAA393QgAAwCVWf3dCAACAi6h/d0IAAEDx+n93QgAAgCLygHdCAABAiESBd0IAAADuloF3QgAAwFPpgXdCAACAuTuCd0IAAMDqMoN3QgAAgFCFg3dCAABAtteDd0IAAAAcKoR3QgAAwIF8hHdCAAAAs3OFd0IAAMAYxoV3QgAAgH4YhndCAABA5GqGd0IAAABKvYZ3QgAAQHu0h3dCAAAA4QaId0IAAMBGWYh3QgAAgKyriHdCAACAQ/WJd0IAAECpR4p3QgAAAA+aindCAADAdOyKd0IAAIDaPot3QgAAwAs2jHdCAACAcYiMd0IAAEDX2ox3QgAAAD0tjXdCAADAon+Nd0IAAADUdo53QgAAwDnJjndCAACAnxuPd0IAAEAFbo93QgAAAGvAj3dCAABAnLeQd0IAAAACCpF3QgAAwGdckXdCAACAza6Rd0IAAEAzAZJ3QgAAgGT4kndCAABAykqTd0IAAAAwnZN3QgAAwJXvk3dCAACA+0GUd0IAAMAsOZV3QgAAgJKLlXdCAABA+N2Vd0IAAABeMJZ3QgAAwMOClndCAAAA9XmXd0IAAMBazJd3QgAAgMAemHdCAABAJnGYd0IAAACMw5h3QgAAQL26mXdCAAAAIw2ad0IAAMCIX5p3QgAAgO6xmndCAABAVASbd0IAAEDrTZx3QgAAAFGgnHdCAADAtvKcd0IAAIAcRZ13QgAAwE08nndCAACAs46ed0IAAEAZ4Z53QgAAAH8zn3dCAADA5IWfd0IAAAAWfaB3QgAAwHvPoHdCAACA4SGhd0IAAEBHdKF3QgAAAK3GoXdCAABA3r2id0IAAABEEKN3QgAAwKlio3dCAACAD7Wjd0IAAEB1B6R3QgAAgKb+pHdC\",\"dtype\":\"float64\",\"shape\":[108]},\"value\":{\"__ndarray__\":\"Ap08QnEDO0ISgzpC1aE5QuK7OEKFAjhCpHA3QkEsNkIWHjdC4+c3QuvGOEJfHTlCbb85QjfGOkKx5TpC0Xo7QrVyO0JqIDxCcQA9QioOPkLoJT5CxUQ/QisFQUKcVEJCOFpDQoaYQkJvLUJCuztDQqLFQ0Kp4kRCkVZGQsw6SEK5qUhCbPpIQpygSULbgklCEB5JQhsSSEIFz0ZCVvNFQvMnRELYkkNCDW9DQjnoQ0L2VkVCU/pFQv+nRkK5GEZC3YRFQro7RULVM0VCcYtEQiA2REIhJ0RCCotDQndFQ0JCKUNC4MFDQohOREJU5UNCdpZDQgpjQ0KAwUJCM/ZCQvxfQkLyuUJCDENDQnuDREKzh0VCr31FQvehREKXBUZCV+hGQt8WSEKESkhC+k1IQtONR0JBikZCIOhGQgZoR0KDU0hCjntHQmYORUJfCERC0HREQvbYRELTCkVCG1JEQgpBREKnS0RCIWVFQrjGRkIaTEdC0jtHQtN+R0IeXEdCBpVHQpJRR0Icc0dCSYBHQnP/R0L7fEhC9T5HQj+bRUIEyERCBQhGQlk3RkI/YkZC\",\"dtype\":\"float32\",\"shape\":[108]}},\"selected\":{\"id\":\"13775\"},\"selection_policy\":{\"id\":\"13822\"}},\"id\":\"13774\",\"type\":\"ColumnDataSource\"},{\"attributes\":{\"line_color\":\"#1f77b3\",\"line_width\":2,\"x\":{\"field\":\"index\"},\"y\":{\"field\":\"value\"}},\"id\":\"13749\",\"type\":\"Line\"},{\"attributes\":{\"axis_label\":\"Price\",\"bounds\":\"auto\",\"formatter\":{\"id\":\"13745\"},\"major_label_orientation\":\"horizontal\",\"ticker\":{\"id\":\"13726\"}},\"id\":\"13725\",\"type\":\"LinearAxis\"},{\"attributes\":{\"callback\":null,\"formatters\":{\"@{index}\":\"datetime\"},\"renderers\":[{\"id\":\"13752\"},{\"id\":\"13780\"}],\"tags\":[\"hv_created\"],\"tooltips\":[[\"Variable\",\"@{Variable}\"],[\"index\",\"@{index}{%F %T}\"],[\"value\",\"@{value}\"]]},\"id\":\"13710\",\"type\":\"HoverTool\"},{\"attributes\":{\"num_minor_ticks\":5,\"tickers\":[{\"id\":\"13759\"},{\"id\":\"13760\"},{\"id\":\"13761\"},{\"id\":\"13762\"},{\"id\":\"13763\"},{\"id\":\"13764\"},{\"id\":\"13765\"},{\"id\":\"13766\"},{\"id\":\"13767\"},{\"id\":\"13768\"},{\"id\":\"13769\"},{\"id\":\"13770\"}]},\"id\":\"13722\",\"type\":\"DatetimeTicker\"},{\"attributes\":{},\"id\":\"13799\",\"type\":\"UnionRenderers\"},{\"attributes\":{\"line_alpha\":0.1,\"line_color\":\"#1f77b3\",\"line_width\":2,\"x\":{\"field\":\"index\"},\"y\":{\"field\":\"value\"}},\"id\":\"13750\",\"type\":\"Line\"},{\"attributes\":{},\"id\":\"13730\",\"type\":\"PanTool\"},{\"attributes\":{\"children\":[{\"id\":\"13707\"},{\"id\":\"13712\"},{\"id\":\"13979\"}],\"margin\":[0,0,0,0],\"name\":\"Row16228\",\"tags\":[\"embedded\"]},\"id\":\"13706\",\"type\":\"Row\"},{\"attributes\":{\"below\":[{\"id\":\"13721\"}],\"center\":[{\"id\":\"13724\"},{\"id\":\"13728\"}],\"left\":[{\"id\":\"13725\"}],\"margin\":null,\"min_border_bottom\":10,\"min_border_left\":10,\"min_border_right\":10,\"min_border_top\":10,\"plot_height\":300,\"plot_width\":700,\"renderers\":[{\"id\":\"13752\"},{\"id\":\"13780\"}],\"right\":[{\"id\":\"13772\"}],\"sizing_mode\":\"fixed\",\"title\":{\"id\":\"13713\"},\"toolbar\":{\"id\":\"13735\"},\"x_range\":{\"id\":\"13708\"},\"x_scale\":{\"id\":\"13717\"},\"y_range\":{\"id\":\"13709\"},\"y_scale\":{\"id\":\"13719\"}},\"id\":\"13712\",\"subtype\":\"Figure\",\"type\":\"Plot\"},{\"attributes\":{},\"id\":\"13731\",\"type\":\"WheelZoomTool\"},{\"attributes\":{\"end\":1624838400000.0,\"reset_end\":1624838400000.0,\"reset_start\":1611532800000.0,\"start\":1611532800000.0,\"tags\":[[[\"index\",\"index\",null]]]},\"id\":\"13708\",\"type\":\"Range1d\"},{\"attributes\":{},\"id\":\"13717\",\"type\":\"LinearScale\"},{\"attributes\":{\"axis\":{\"id\":\"13721\"},\"grid_line_color\":null,\"ticker\":null},\"id\":\"13724\",\"type\":\"Grid\"},{\"attributes\":{\"data_source\":{\"id\":\"13746\"},\"glyph\":{\"id\":\"13749\"},\"hover_glyph\":null,\"muted_glyph\":{\"id\":\"13751\"},\"nonselection_glyph\":{\"id\":\"13750\"},\"selection_glyph\":null,\"view\":{\"id\":\"13753\"}},\"id\":\"13752\",\"type\":\"GlyphRenderer\"},{\"attributes\":{\"mantissas\":[1,2,5],\"max_interval\":500.0,\"num_minor_ticks\":0},\"id\":\"13759\",\"type\":\"AdaptiveTicker\"},{\"attributes\":{\"axis\":{\"id\":\"13725\"},\"dimension\":1,\"grid_line_color\":null,\"ticker\":null},\"id\":\"13728\",\"type\":\"Grid\"},{\"attributes\":{\"base\":60,\"mantissas\":[1,2,5,10,15,20,30],\"max_interval\":1800000.0,\"min_interval\":1000.0,\"num_minor_ticks\":0},\"id\":\"13760\",\"type\":\"AdaptiveTicker\"},{\"attributes\":{},\"id\":\"13726\",\"type\":\"BasicTicker\"},{\"attributes\":{\"days\":[1,2,3,4,5,6,7,8,9,10,11,12,13,14,15,16,17,18,19,20,21,22,23,24,25,26,27,28,29,30,31]},\"id\":\"13762\",\"type\":\"DaysTicker\"},{\"attributes\":{},\"id\":\"13729\",\"type\":\"SaveTool\"},{\"attributes\":{\"base\":24,\"mantissas\":[1,2,4,6,8,12],\"max_interval\":43200000.0,\"min_interval\":3600000.0,\"num_minor_ticks\":0},\"id\":\"13761\",\"type\":\"AdaptiveTicker\"},{\"attributes\":{\"axis_label\":\"Date\",\"bounds\":\"auto\",\"formatter\":{\"id\":\"13743\"},\"major_label_orientation\":\"horizontal\",\"ticker\":{\"id\":\"13722\"}},\"id\":\"13721\",\"type\":\"DatetimeAxis\"},{\"attributes\":{\"line_color\":\"#ff7e0e\",\"line_width\":2,\"x\":{\"field\":\"index\"},\"y\":{\"field\":\"value\"}},\"id\":\"13777\",\"type\":\"Line\"},{\"attributes\":{\"months\":[0,1,2,3,4,5,6,7,8,9,10,11]},\"id\":\"13766\",\"type\":\"MonthsTicker\"},{\"attributes\":{\"active_drag\":\"auto\",\"active_inspect\":\"auto\",\"active_multi\":null,\"active_scroll\":\"auto\",\"active_tap\":\"auto\",\"tools\":[{\"id\":\"13710\"},{\"id\":\"13729\"},{\"id\":\"13730\"},{\"id\":\"13731\"},{\"id\":\"13732\"},{\"id\":\"13733\"}]},\"id\":\"13735\",\"type\":\"Toolbar\"},{\"attributes\":{\"months\":[0,2,4,6,8,10]},\"id\":\"13767\",\"type\":\"MonthsTicker\"},{\"attributes\":{\"data_source\":{\"id\":\"13774\"},\"glyph\":{\"id\":\"13777\"},\"hover_glyph\":null,\"muted_glyph\":{\"id\":\"13779\"},\"nonselection_glyph\":{\"id\":\"13778\"},\"selection_glyph\":null,\"view\":{\"id\":\"13781\"}},\"id\":\"13780\",\"type\":\"GlyphRenderer\"},{\"attributes\":{\"data\":{\"Variable\":[\"Real\",\"Real\",\"Real\",\"Real\",\"Real\",\"Real\",\"Real\",\"Real\",\"Real\",\"Real\",\"Real\",\"Real\",\"Real\",\"Real\",\"Real\",\"Real\",\"Real\",\"Real\",\"Real\",\"Real\",\"Real\",\"Real\",\"Real\",\"Real\",\"Real\",\"Real\",\"Real\",\"Real\",\"Real\",\"Real\",\"Real\",\"Real\",\"Real\",\"Real\",\"Real\",\"Real\",\"Real\",\"Real\",\"Real\",\"Real\",\"Real\",\"Real\",\"Real\",\"Real\",\"Real\",\"Real\",\"Real\",\"Real\",\"Real\",\"Real\",\"Real\",\"Real\",\"Real\",\"Real\",\"Real\",\"Real\",\"Real\",\"Real\",\"Real\",\"Real\",\"Real\",\"Real\",\"Real\",\"Real\",\"Real\",\"Real\",\"Real\",\"Real\",\"Real\",\"Real\",\"Real\",\"Real\",\"Real\",\"Real\",\"Real\",\"Real\",\"Real\",\"Real\",\"Real\",\"Real\",\"Real\",\"Real\",\"Real\",\"Real\",\"Real\",\"Real\",\"Real\",\"Real\",\"Real\",\"Real\",\"Real\",\"Real\",\"Real\",\"Real\",\"Real\",\"Real\",\"Real\",\"Real\",\"Real\",\"Real\",\"Real\",\"Real\",\"Real\",\"Real\",\"Real\",\"Real\",\"Real\",\"Real\"],\"index\":{\"__ndarray__\":\"AAAAcW1zd0IAAMDWv3N3QgAAgDwSdHdCAABAomR0d0IAAAAIt3R3QgAAQDmudXdCAAAAnwB2d0IAAMAEU3Z3QgAAgGqldndCAABA0Pd2d0IAAIAB73d3QgAAQGdBeHdCAAAAzZN4d0IAAMAy5nh3QgAAgJg4eXdCAACAL4J6d0IAAECV1Hp3QgAAAPsme3dCAADAYHl7d0IAAACScHx3QgAAwPfCfHdCAACAXRV9d0IAAEDDZ313QgAAACm6fXdCAABAWrF+d0IAAADAA393QgAAwCVWf3dCAACAi6h/d0IAAEDx+n93QgAAgCLygHdCAABAiESBd0IAAADuloF3QgAAwFPpgXdCAACAuTuCd0IAAMDqMoN3QgAAgFCFg3dCAABAtteDd0IAAAAcKoR3QgAAwIF8hHdCAAAAs3OFd0IAAMAYxoV3QgAAgH4YhndCAABA5GqGd0IAAABKvYZ3QgAAQHu0h3dCAAAA4QaId0IAAMBGWYh3QgAAgKyriHdCAACAQ/WJd0IAAECpR4p3QgAAAA+aindCAADAdOyKd0IAAIDaPot3QgAAwAs2jHdCAACAcYiMd0IAAEDX2ox3QgAAAD0tjXdCAADAon+Nd0IAAADUdo53QgAAwDnJjndCAACAnxuPd0IAAEAFbo93QgAAAGvAj3dCAABAnLeQd0IAAAACCpF3QgAAwGdckXdCAACAza6Rd0IAAEAzAZJ3QgAAgGT4kndCAABAykqTd0IAAAAwnZN3QgAAwJXvk3dCAACA+0GUd0IAAMAsOZV3QgAAgJKLlXdCAABA+N2Vd0IAAABeMJZ3QgAAwMOClndCAAAA9XmXd0IAAMBazJd3QgAAgMAemHdCAABAJnGYd0IAAACMw5h3QgAAQL26mXdCAAAAIw2ad0IAAMCIX5p3QgAAgO6xmndCAABAVASbd0IAAEDrTZx3QgAAAFGgnHdCAADAtvKcd0IAAIAcRZ13QgAAwE08nndCAACAs46ed0IAAEAZ4Z53QgAAAH8zn3dCAADA5IWfd0IAAAAWfaB3QgAAwHvPoHdCAACA4SGhd0IAAEBHdKF3QgAAAK3GoXdCAABA3r2id0IAAABEEKN3QgAAwKlio3dCAACAD7Wjd0IAAEB1B6R3QgAAgKb+pHdC\",\"dtype\":\"float64\",\"shape\":[108]},\"value\":{\"__ndarray__\":\"o3A9CtdjSkCtR+F6FE5KQEjhehSuZ0pA4HoUrkchSkATrkfhehRKQGVmZmZmxkpAw/UoXI9iS0D2KFyPwtVLQLkehetRGExAZ2ZmZmZmTECamZmZmflMQOxRuB6FK01AuR6F61FYTUBcj8L1KBxNQAAAAAAAwE1AKVyPwvUITkDsUbgehYtOQDMzMzMzM05AkML1KFyPTUD2KFyPwtVOQBWuR+F61E5AexSuR+GaT0DXo3A9CrdPQGdmZmZmxk5AhetRuB5FTkCamZmZmdlNQArXo3A9qk5ASOF6FK7nT0CF61G4HoVQQFK4HoXrQVBA4XoUrkcBUEDNzMzMzBxQQOF6FK5HgVBA9ihcj8JlUEDXo3A9CldQQBSuR+F6NFBAMzMzMzMjUECamZmZmflNQNejcD0Kt05APgrXo3C9TkAAAAAAAOBMQJDC9Shcj05AXI/C9Sg8TUDXo3A9CndOQB+F61G4vk5AZ2ZmZmZGTkC5HoXrUZhNQBWuR+F6tE5APgrXo3BdTUDsUbgehatNQMP1KFyP4k1ArkfhehTOTUCF61G4HqVNQJqZmZmZ2U1AmpmZmZkZTkAzMzMzM5NPQPYoXI/CtU9AFa5H4XqUT0AK16NwPapPQK5H4XoUTk9A7FG4HoWrTkCamZmZmblOQNejcD0KF09Aw/UoXI8CT0CkcD0K14NPQEjhehSu509AAAAAAABAUEAAAAAAAMBPQD0K16NwHVBArkfhehRuUEC4HoXrUWhQQB+F61G4LlBAPQrXo3A9UEB7FK5H4TpQQKRwPQrXU1BAPQrXo3B9UEApXI/C9ehPQBSuR+F6VFBAj8L1KFyPUECPwvUoXF9QQKRwPQrXo09AmpmZmZn5TkCuR+F6FM5PQLgehetRiFBA4XoUrkeRUEAK16NwPZpQQEjhehSut1BApHA9CteTUEAzMzMzM/NQQMP1KFyPMlFApHA9CtczUUAUrkfhemRRQD0K16NwTVFA16NwPQqHUUCamZmZmXlRQPYoXI/ClVFAAAAAAADAUUBcj8L1KLxRQKRwPQrXA1JAUrgehesBUkCkcD0K18NRQClcj8L16FFAKVyPwvVoUkCamZmZmUlSQNejcD0KR1JApHA9CtdTUkA9CtejcI1SQB+F61G4PlJA\",\"dtype\":\"float64\",\"shape\":[108]}},\"selected\":{\"id\":\"13747\"},\"selection_policy\":{\"id\":\"13799\"}},\"id\":\"13746\",\"type\":\"ColumnDataSource\"},{\"attributes\":{\"days\":[1,4,7,10,13,16,19,22,25,28]},\"id\":\"13763\",\"type\":\"DaysTicker\"},{\"attributes\":{\"line_alpha\":0.2,\"line_color\":\"#ff7e0e\",\"line_width\":2,\"x\":{\"field\":\"index\"},\"y\":{\"field\":\"value\"}},\"id\":\"13779\",\"type\":\"Line\"},{\"attributes\":{\"overlay\":{\"id\":\"13734\"}},\"id\":\"13732\",\"type\":\"BoxZoomTool\"},{\"attributes\":{\"days\":[1,15]},\"id\":\"13765\",\"type\":\"DaysTicker\"},{\"attributes\":{},\"id\":\"13733\",\"type\":\"ResetTool\"},{\"attributes\":{\"months\":[0,6]},\"id\":\"13769\",\"type\":\"MonthsTicker\"},{\"attributes\":{\"days\":[1,8,15,22]},\"id\":\"13764\",\"type\":\"DaysTicker\"},{\"attributes\":{},\"id\":\"13775\",\"type\":\"Selection\"},{\"attributes\":{},\"id\":\"13770\",\"type\":\"YearsTicker\"},{\"attributes\":{\"line_alpha\":0.1,\"line_color\":\"#ff7e0e\",\"line_width\":2,\"x\":{\"field\":\"index\"},\"y\":{\"field\":\"value\"}},\"id\":\"13778\",\"type\":\"Line\"}],\"root_ids\":[\"13706\"]},\"title\":\"Bokeh Application\",\"version\":\"2.0.2\"}};\n  var render_items = [{\"docid\":\"6e3b3d34-c979-4768-8fe0-a0ad34c84af8\",\"root_ids\":[\"13706\"],\"roots\":{\"13706\":\"e2c505bc-6c8a-467b-9777-73c0c2185325\"}}];\n  root.Bokeh.embed.embed_items_notebook(docs_json, render_items);\n  }\nif (root.Bokeh !== undefined) {\n    embed_document(root);\n  } else {\n    var attempts = 0;\n    var timer = setInterval(function(root) {\n      if (root.Bokeh !== undefined) {\n        clearInterval(timer);\n        embed_document(root);\n      } else if (document.readyState == \"complete\") {\n        attempts++;\n        if (attempts > 100) {\n          clearInterval(timer);\n          console.log(\"Bokeh: ERROR: Unable to run BokehJS code because BokehJS library is missing\");\n        }\n      }\n    }, 10, root)\n  }\n})(window);</script>",
      "application/vnd.holoviews_exec.v0+json": "",
      "text/plain": [
       ":NdOverlay   [Variable]\n",
       "   :Curve   [index]   (value)"
      ]
     },
     "metadata": {
      "application/vnd.holoviews_exec.v0+json": {
       "id": "13706"
      }
     },
     "execution_count": 589
    }
   ],
   "source": [
    "stocks.hvplot.line(xlabel=\"Date\", ylabel=\"Price\")"
   ]
  },
  {
   "cell_type": "code",
   "execution_count": null,
   "metadata": {},
   "outputs": [],
   "source": []
  }
 ]
}