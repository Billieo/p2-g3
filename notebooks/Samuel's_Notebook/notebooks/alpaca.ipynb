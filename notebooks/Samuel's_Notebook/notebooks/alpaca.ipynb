{
 "metadata": {
  "language_info": {
   "codemirror_mode": {
    "name": "ipython",
    "version": 3
   },
   "file_extension": ".py",
   "mimetype": "text/x-python",
   "name": "python",
   "nbconvert_exporter": "python",
   "pygments_lexer": "ipython3",
   "version": "3.8.5"
  },
  "orig_nbformat": 2,
  "kernelspec": {
   "name": "python3",
   "display_name": "Python 3.8.5 64-bit ('base': conda)",
   "metadata": {
    "interpreter": {
     "hash": "11ef2bb442b8455a3e6b82f3202efe5c7a01a00a0939705f79f87b65f8f45715"
    }
   }
  }
 },
 "nbformat": 4,
 "nbformat_minor": 2,
 "cells": [
  {
   "cell_type": "code",
   "execution_count": 62,
   "metadata": {},
   "outputs": [
    {
     "output_type": "stream",
     "name": "stderr",
     "text": [
      "[nltk_data] Downloading package vader_lexicon to\n[nltk_data]     /Users/samuelarciniega/nltk_data...\n[nltk_data]   Package vader_lexicon is already up-to-date!\n"
     ]
    }
   ],
   "source": [
    "import requests\n",
    "import pandas as pd\n",
    "from dotenv import load_dotenv\n",
    "import alpaca_trade_api as tradeapi\n",
    "import numpy as np\n",
    "import datetime as dt\n",
    "from pathlib import Path\n",
    "from newsapi import NewsApiClient\n",
    "from nltk.corpus import stopwords, reuters\n",
    "import nltk as nltk\n",
    "nltk.download('vader_lexicon')\n",
    "from nltk.sentiment.vader import SentimentIntensityAnalyzer\n",
    "analyzer = SentimentIntensityAnalyzer()\n",
    "import os\n",
    "import csv\n",
    "import hvplot.pandas\n",
    "import datetime as dt\n",
    "import matplotlib.pyplot as plt\n",
    "%matplotlib inline"
   ]
  },
  {
   "cell_type": "code",
   "execution_count": 63,
   "metadata": {},
   "outputs": [
    {
     "output_type": "execute_result",
     "data": {
      "text/plain": [
       "True"
      ]
     },
     "metadata": {},
     "execution_count": 63
    }
   ],
   "source": [
    "load_dotenv()"
   ]
  },
  {
   "cell_type": "code",
   "execution_count": 64,
   "metadata": {},
   "outputs": [],
   "source": [
    "alpaca_api_key = os.getenv(\"ALPACA_API_KEY\")\n",
    "alpaca_secret_key = os.getenv(\"ALPACA_SECRET_KEY\")\n",
    "alpaca = tradeapi.REST(\n",
    "    alpaca_api_key,\n",
    "    alpaca_secret_key,\n",
    "    api_version=\"v2\")\n",
    "#print(alpaca_api_key)"
   ]
  },
  {
   "cell_type": "code",
   "execution_count": 65,
   "metadata": {},
   "outputs": [
    {
     "output_type": "execute_result",
     "data": {
      "text/plain": [
       "                             AAPL                                          \\\n",
       "                             open      high      low     close     volume   \n",
       "time                                                                        \n",
       "2021-01-04 00:00:00-05:00  133.52  133.6116  126.760  129.4100  123353442   \n",
       "2021-01-05 00:00:00-05:00  128.89  131.7400  128.430  130.9500   85139362   \n",
       "2021-01-06 00:00:00-05:00  127.72  131.0499  126.382  126.5800  142064548   \n",
       "2021-01-07 00:00:00-05:00  128.36  131.6300  127.860  130.8500   95314687   \n",
       "2021-01-08 00:00:00-05:00  132.43  132.6300  130.230  131.9900   93211863   \n",
       "2021-01-11 00:00:00-05:00  129.19  130.1700  128.500  128.9800   84845947   \n",
       "2021-01-12 00:00:00-05:00  128.50  129.6900  126.860  128.8199   83381829   \n",
       "2021-01-13 00:00:00-05:00  128.76  131.4500  128.490  130.8900   77928722   \n",
       "2021-01-14 00:00:00-05:00  130.80  131.0000  128.760  128.9200   78672922   \n",
       "2021-01-15 00:00:00-05:00  128.78  130.2242  127.000  127.0700   97478662   \n",
       "2021-01-19 00:00:00-05:00  127.78  128.7100  126.938  127.8200   77372754   \n",
       "2021-01-20 00:00:00-05:00  128.66  132.4900  128.550  131.9700   90745056   \n",
       "2021-01-21 00:00:00-05:00  133.80  139.6700  133.590  136.8700  107349916   \n",
       "2021-01-22 00:00:00-05:00  136.28  139.8500  135.020  138.9699  104455613   \n",
       "2021-01-25 00:00:00-05:00  143.07  145.0900  136.540  142.9000  142335837   \n",
       "2021-01-26 00:00:00-05:00  143.60  144.3000  141.370  143.1850   85816874   \n",
       "2021-01-27 00:00:00-05:00  143.43  144.3000  140.410  142.5300  110342303   \n",
       "2021-01-28 00:00:00-05:00  139.52  141.9900  136.700  137.0400  127192871   \n",
       "2021-01-29 00:00:00-05:00  135.83  136.7400  130.210  131.8300  162479747   \n",
       "2021-02-01 00:00:00-05:00  133.75  135.3800  130.930  134.1000   96660055   \n",
       "\n",
       "                                 FB                                      \\\n",
       "                               open    high       low   close    volume   \n",
       "time                                                                      \n",
       "2021-01-04 00:00:00-05:00  274.7800  275.00  265.2000  268.94  12460207   \n",
       "2021-01-05 00:00:00-05:00  268.2900  272.40  268.2111  270.97   8053296   \n",
       "2021-01-06 00:00:00-05:00  262.0000  267.75  260.0100  263.24  21446415   \n",
       "2021-01-07 00:00:00-05:00  265.9000  271.61  264.7800  268.63  13968342   \n",
       "2021-01-08 00:00:00-05:00  268.3100  268.95  263.1800  267.54  16730340   \n",
       "2021-01-11 00:00:00-05:00  260.4800  263.47  255.9000  256.81  27236030   \n",
       "2021-01-12 00:00:00-05:00  256.6300  259.72  250.3000  250.91  24074761   \n",
       "2021-01-13 00:00:00-05:00  251.5500  253.95  249.2000  251.64  16896303   \n",
       "2021-01-14 00:00:00-05:00  253.4000  255.03  244.6100  245.71  27927382   \n",
       "2021-01-15 00:00:00-05:00  247.9000  253.86  247.1600  251.36  22675147   \n",
       "2021-01-19 00:00:00-05:00  256.9000  262.20  252.7201  261.08  25191870   \n",
       "2021-01-20 00:00:00-05:00  268.9300  270.32  263.6000  267.35  22539886   \n",
       "2021-01-21 00:00:00-05:00  269.2600  273.60  267.4901  272.89  17034362   \n",
       "2021-01-22 00:00:00-05:00  272.0100  278.47  272.0000  274.53  19132340   \n",
       "2021-01-25 00:00:00-05:00  278.1400  280.10  271.5100  278.00  17646954   \n",
       "2021-01-26 00:00:00-05:00  278.1398  285.39  277.8100  282.02  17018388   \n",
       "2021-01-27 00:00:00-05:00  282.5300  283.45  268.1201  272.39  27484121   \n",
       "2021-01-28 00:00:00-05:00  277.1800  286.79  264.7000  265.00  35383730   \n",
       "2021-01-29 00:00:00-05:00  265.3000  266.56  254.8500  258.33  28139673   \n",
       "2021-02-01 00:00:00-05:00  259.5200  264.17  254.9100  261.98  19629047   \n",
       "\n",
       "                              GOOGL                                          \\\n",
       "                               open       high        low    close   volume   \n",
       "time                                                                          \n",
       "2021-01-04 00:00:00-05:00  1760.000  1762.4899  1707.1400  1726.39  1476533   \n",
       "2021-01-05 00:00:00-05:00  1725.090  1746.8300  1716.9000  1739.26   831935   \n",
       "2021-01-06 00:00:00-05:00  1700.255  1743.9650  1696.1014  1723.38  2091919   \n",
       "2021-01-07 00:00:00-05:00  1726.760  1777.8200  1726.7600  1775.18  1874897   \n",
       "2021-01-08 00:00:00-05:00  1777.160  1799.3550  1761.2200  1798.00  1499115   \n",
       "2021-01-11 00:00:00-05:00  1777.020  1784.3800  1752.1400  1756.28  1190190   \n",
       "2021-01-12 00:00:00-05:00  1745.360  1767.9000  1716.3750  1737.67  1325811   \n",
       "2021-01-13 00:00:00-05:00  1727.320  1756.3900  1727.3200  1747.40   935066   \n",
       "2021-01-14 00:00:00-05:00  1748.870  1767.5499  1726.0700  1731.60  1225951   \n",
       "2021-01-15 00:00:00-05:00  1729.020  1747.6200  1711.7100  1727.62  1310844   \n",
       "2021-01-19 00:00:00-05:00  1743.000  1803.8400  1732.8300  1784.38  1725321   \n",
       "2021-01-20 00:00:00-05:00  1826.370  1899.7234  1819.5100  1880.06  2913639   \n",
       "2021-01-21 00:00:00-05:00  1893.650  1932.0800  1879.4100  1885.50  2610180   \n",
       "2021-01-22 00:00:00-05:00  1891.460  1904.3900  1876.4950  1892.16  1461932   \n",
       "2021-01-25 00:00:00-05:00  1912.740  1921.8200  1859.1600  1894.28  2208242   \n",
       "2021-01-26 00:00:00-05:00  1885.990  1915.7500  1876.1300  1907.86  1410227   \n",
       "2021-01-27 00:00:00-05:00  1874.910  1880.4700  1797.2800  1818.98  3778436   \n",
       "2021-01-28 00:00:00-05:00  1831.000  1887.9900  1831.0000  1851.39  2396427   \n",
       "2021-01-29 00:00:00-05:00  1834.020  1847.5350  1801.5600  1826.38  1931121   \n",
       "2021-02-01 00:00:00-05:00  1844.585  1915.5400  1844.5850  1893.07  1830664   \n",
       "\n",
       "                              SPY                                         \n",
       "                             open      high       low   close     volume  \n",
       "time                                                                      \n",
       "2021-01-04 00:00:00-05:00  375.31  375.4500  364.8200  368.85   92938087  \n",
       "2021-01-05 00:00:00-05:00  368.10  372.5000  368.0500  371.32   53668865  \n",
       "2021-01-06 00:00:00-05:00  369.71  376.9800  369.1200  373.53   91989131  \n",
       "2021-01-07 00:00:00-05:00  376.10  379.9000  375.9100  379.06   58862006  \n",
       "2021-01-08 00:00:00-05:00  380.59  381.4900  377.1000  381.24   60275466  \n",
       "2021-01-11 00:00:00-05:00  377.85  380.5800  377.7189  378.74   44814805  \n",
       "2021-01-12 00:00:00-05:00  378.89  379.8600  376.3600  378.81   45364896  \n",
       "2021-01-13 00:00:00-05:00  378.69  380.8600  377.8500  379.76   38355050  \n",
       "2021-01-14 00:00:00-05:00  380.59  381.1300  378.1000  378.45   41045335  \n",
       "2021-01-15 00:00:00-05:00  376.72  377.5800  373.7000  375.68   78405054  \n",
       "2021-01-19 00:00:00-05:00  378.34  379.2300  376.7500  378.63   42257108  \n",
       "2021-01-20 00:00:00-05:00  381.11  384.7900  380.6900  383.86   53064901  \n",
       "2021-01-21 00:00:00-05:00  384.49  384.9500  383.2500  384.20   41800991  \n",
       "2021-01-22 00:00:00-05:00  382.25  384.1256  381.8350  382.86   39108239  \n",
       "2021-01-25 00:00:00-05:00  383.67  384.7700  378.4600  384.40   61090775  \n",
       "2021-01-26 00:00:00-05:00  385.41  385.8500  383.5400  383.83   36871235  \n",
       "2021-01-27 00:00:00-05:00  380.22  380.3200  372.0100  374.44   99246554  \n",
       "2021-01-28 00:00:00-05:00  376.36  381.9300  375.8900  377.60   75229306  \n",
       "2021-01-29 00:00:00-05:00  375.63  376.6700  368.2700  370.19  106397082  \n",
       "2021-02-01 00:00:00-05:00  373.72  377.3400  370.3760  376.18   64056510  "
      ],
      "text/html": "<div>\n<style scoped>\n    .dataframe tbody tr th:only-of-type {\n        vertical-align: middle;\n    }\n\n    .dataframe tbody tr th {\n        vertical-align: top;\n    }\n\n    .dataframe thead tr th {\n        text-align: left;\n    }\n\n    .dataframe thead tr:last-of-type th {\n        text-align: right;\n    }\n</style>\n<table border=\"1\" class=\"dataframe\">\n  <thead>\n    <tr>\n      <th></th>\n      <th colspan=\"5\" halign=\"left\">AAPL</th>\n      <th colspan=\"5\" halign=\"left\">FB</th>\n      <th colspan=\"5\" halign=\"left\">GOOGL</th>\n      <th colspan=\"5\" halign=\"left\">SPY</th>\n    </tr>\n    <tr>\n      <th></th>\n      <th>open</th>\n      <th>high</th>\n      <th>low</th>\n      <th>close</th>\n      <th>volume</th>\n      <th>open</th>\n      <th>high</th>\n      <th>low</th>\n      <th>close</th>\n      <th>volume</th>\n      <th>open</th>\n      <th>high</th>\n      <th>low</th>\n      <th>close</th>\n      <th>volume</th>\n      <th>open</th>\n      <th>high</th>\n      <th>low</th>\n      <th>close</th>\n      <th>volume</th>\n    </tr>\n    <tr>\n      <th>time</th>\n      <th></th>\n      <th></th>\n      <th></th>\n      <th></th>\n      <th></th>\n      <th></th>\n      <th></th>\n      <th></th>\n      <th></th>\n      <th></th>\n      <th></th>\n      <th></th>\n      <th></th>\n      <th></th>\n      <th></th>\n      <th></th>\n      <th></th>\n      <th></th>\n      <th></th>\n      <th></th>\n    </tr>\n  </thead>\n  <tbody>\n    <tr>\n      <th>2021-01-04 00:00:00-05:00</th>\n      <td>133.52</td>\n      <td>133.6116</td>\n      <td>126.760</td>\n      <td>129.4100</td>\n      <td>123353442</td>\n      <td>274.7800</td>\n      <td>275.00</td>\n      <td>265.2000</td>\n      <td>268.94</td>\n      <td>12460207</td>\n      <td>1760.000</td>\n      <td>1762.4899</td>\n      <td>1707.1400</td>\n      <td>1726.39</td>\n      <td>1476533</td>\n      <td>375.31</td>\n      <td>375.4500</td>\n      <td>364.8200</td>\n      <td>368.85</td>\n      <td>92938087</td>\n    </tr>\n    <tr>\n      <th>2021-01-05 00:00:00-05:00</th>\n      <td>128.89</td>\n      <td>131.7400</td>\n      <td>128.430</td>\n      <td>130.9500</td>\n      <td>85139362</td>\n      <td>268.2900</td>\n      <td>272.40</td>\n      <td>268.2111</td>\n      <td>270.97</td>\n      <td>8053296</td>\n      <td>1725.090</td>\n      <td>1746.8300</td>\n      <td>1716.9000</td>\n      <td>1739.26</td>\n      <td>831935</td>\n      <td>368.10</td>\n      <td>372.5000</td>\n      <td>368.0500</td>\n      <td>371.32</td>\n      <td>53668865</td>\n    </tr>\n    <tr>\n      <th>2021-01-06 00:00:00-05:00</th>\n      <td>127.72</td>\n      <td>131.0499</td>\n      <td>126.382</td>\n      <td>126.5800</td>\n      <td>142064548</td>\n      <td>262.0000</td>\n      <td>267.75</td>\n      <td>260.0100</td>\n      <td>263.24</td>\n      <td>21446415</td>\n      <td>1700.255</td>\n      <td>1743.9650</td>\n      <td>1696.1014</td>\n      <td>1723.38</td>\n      <td>2091919</td>\n      <td>369.71</td>\n      <td>376.9800</td>\n      <td>369.1200</td>\n      <td>373.53</td>\n      <td>91989131</td>\n    </tr>\n    <tr>\n      <th>2021-01-07 00:00:00-05:00</th>\n      <td>128.36</td>\n      <td>131.6300</td>\n      <td>127.860</td>\n      <td>130.8500</td>\n      <td>95314687</td>\n      <td>265.9000</td>\n      <td>271.61</td>\n      <td>264.7800</td>\n      <td>268.63</td>\n      <td>13968342</td>\n      <td>1726.760</td>\n      <td>1777.8200</td>\n      <td>1726.7600</td>\n      <td>1775.18</td>\n      <td>1874897</td>\n      <td>376.10</td>\n      <td>379.9000</td>\n      <td>375.9100</td>\n      <td>379.06</td>\n      <td>58862006</td>\n    </tr>\n    <tr>\n      <th>2021-01-08 00:00:00-05:00</th>\n      <td>132.43</td>\n      <td>132.6300</td>\n      <td>130.230</td>\n      <td>131.9900</td>\n      <td>93211863</td>\n      <td>268.3100</td>\n      <td>268.95</td>\n      <td>263.1800</td>\n      <td>267.54</td>\n      <td>16730340</td>\n      <td>1777.160</td>\n      <td>1799.3550</td>\n      <td>1761.2200</td>\n      <td>1798.00</td>\n      <td>1499115</td>\n      <td>380.59</td>\n      <td>381.4900</td>\n      <td>377.1000</td>\n      <td>381.24</td>\n      <td>60275466</td>\n    </tr>\n    <tr>\n      <th>2021-01-11 00:00:00-05:00</th>\n      <td>129.19</td>\n      <td>130.1700</td>\n      <td>128.500</td>\n      <td>128.9800</td>\n      <td>84845947</td>\n      <td>260.4800</td>\n      <td>263.47</td>\n      <td>255.9000</td>\n      <td>256.81</td>\n      <td>27236030</td>\n      <td>1777.020</td>\n      <td>1784.3800</td>\n      <td>1752.1400</td>\n      <td>1756.28</td>\n      <td>1190190</td>\n      <td>377.85</td>\n      <td>380.5800</td>\n      <td>377.7189</td>\n      <td>378.74</td>\n      <td>44814805</td>\n    </tr>\n    <tr>\n      <th>2021-01-12 00:00:00-05:00</th>\n      <td>128.50</td>\n      <td>129.6900</td>\n      <td>126.860</td>\n      <td>128.8199</td>\n      <td>83381829</td>\n      <td>256.6300</td>\n      <td>259.72</td>\n      <td>250.3000</td>\n      <td>250.91</td>\n      <td>24074761</td>\n      <td>1745.360</td>\n      <td>1767.9000</td>\n      <td>1716.3750</td>\n      <td>1737.67</td>\n      <td>1325811</td>\n      <td>378.89</td>\n      <td>379.8600</td>\n      <td>376.3600</td>\n      <td>378.81</td>\n      <td>45364896</td>\n    </tr>\n    <tr>\n      <th>2021-01-13 00:00:00-05:00</th>\n      <td>128.76</td>\n      <td>131.4500</td>\n      <td>128.490</td>\n      <td>130.8900</td>\n      <td>77928722</td>\n      <td>251.5500</td>\n      <td>253.95</td>\n      <td>249.2000</td>\n      <td>251.64</td>\n      <td>16896303</td>\n      <td>1727.320</td>\n      <td>1756.3900</td>\n      <td>1727.3200</td>\n      <td>1747.40</td>\n      <td>935066</td>\n      <td>378.69</td>\n      <td>380.8600</td>\n      <td>377.8500</td>\n      <td>379.76</td>\n      <td>38355050</td>\n    </tr>\n    <tr>\n      <th>2021-01-14 00:00:00-05:00</th>\n      <td>130.80</td>\n      <td>131.0000</td>\n      <td>128.760</td>\n      <td>128.9200</td>\n      <td>78672922</td>\n      <td>253.4000</td>\n      <td>255.03</td>\n      <td>244.6100</td>\n      <td>245.71</td>\n      <td>27927382</td>\n      <td>1748.870</td>\n      <td>1767.5499</td>\n      <td>1726.0700</td>\n      <td>1731.60</td>\n      <td>1225951</td>\n      <td>380.59</td>\n      <td>381.1300</td>\n      <td>378.1000</td>\n      <td>378.45</td>\n      <td>41045335</td>\n    </tr>\n    <tr>\n      <th>2021-01-15 00:00:00-05:00</th>\n      <td>128.78</td>\n      <td>130.2242</td>\n      <td>127.000</td>\n      <td>127.0700</td>\n      <td>97478662</td>\n      <td>247.9000</td>\n      <td>253.86</td>\n      <td>247.1600</td>\n      <td>251.36</td>\n      <td>22675147</td>\n      <td>1729.020</td>\n      <td>1747.6200</td>\n      <td>1711.7100</td>\n      <td>1727.62</td>\n      <td>1310844</td>\n      <td>376.72</td>\n      <td>377.5800</td>\n      <td>373.7000</td>\n      <td>375.68</td>\n      <td>78405054</td>\n    </tr>\n    <tr>\n      <th>2021-01-19 00:00:00-05:00</th>\n      <td>127.78</td>\n      <td>128.7100</td>\n      <td>126.938</td>\n      <td>127.8200</td>\n      <td>77372754</td>\n      <td>256.9000</td>\n      <td>262.20</td>\n      <td>252.7201</td>\n      <td>261.08</td>\n      <td>25191870</td>\n      <td>1743.000</td>\n      <td>1803.8400</td>\n      <td>1732.8300</td>\n      <td>1784.38</td>\n      <td>1725321</td>\n      <td>378.34</td>\n      <td>379.2300</td>\n      <td>376.7500</td>\n      <td>378.63</td>\n      <td>42257108</td>\n    </tr>\n    <tr>\n      <th>2021-01-20 00:00:00-05:00</th>\n      <td>128.66</td>\n      <td>132.4900</td>\n      <td>128.550</td>\n      <td>131.9700</td>\n      <td>90745056</td>\n      <td>268.9300</td>\n      <td>270.32</td>\n      <td>263.6000</td>\n      <td>267.35</td>\n      <td>22539886</td>\n      <td>1826.370</td>\n      <td>1899.7234</td>\n      <td>1819.5100</td>\n      <td>1880.06</td>\n      <td>2913639</td>\n      <td>381.11</td>\n      <td>384.7900</td>\n      <td>380.6900</td>\n      <td>383.86</td>\n      <td>53064901</td>\n    </tr>\n    <tr>\n      <th>2021-01-21 00:00:00-05:00</th>\n      <td>133.80</td>\n      <td>139.6700</td>\n      <td>133.590</td>\n      <td>136.8700</td>\n      <td>107349916</td>\n      <td>269.2600</td>\n      <td>273.60</td>\n      <td>267.4901</td>\n      <td>272.89</td>\n      <td>17034362</td>\n      <td>1893.650</td>\n      <td>1932.0800</td>\n      <td>1879.4100</td>\n      <td>1885.50</td>\n      <td>2610180</td>\n      <td>384.49</td>\n      <td>384.9500</td>\n      <td>383.2500</td>\n      <td>384.20</td>\n      <td>41800991</td>\n    </tr>\n    <tr>\n      <th>2021-01-22 00:00:00-05:00</th>\n      <td>136.28</td>\n      <td>139.8500</td>\n      <td>135.020</td>\n      <td>138.9699</td>\n      <td>104455613</td>\n      <td>272.0100</td>\n      <td>278.47</td>\n      <td>272.0000</td>\n      <td>274.53</td>\n      <td>19132340</td>\n      <td>1891.460</td>\n      <td>1904.3900</td>\n      <td>1876.4950</td>\n      <td>1892.16</td>\n      <td>1461932</td>\n      <td>382.25</td>\n      <td>384.1256</td>\n      <td>381.8350</td>\n      <td>382.86</td>\n      <td>39108239</td>\n    </tr>\n    <tr>\n      <th>2021-01-25 00:00:00-05:00</th>\n      <td>143.07</td>\n      <td>145.0900</td>\n      <td>136.540</td>\n      <td>142.9000</td>\n      <td>142335837</td>\n      <td>278.1400</td>\n      <td>280.10</td>\n      <td>271.5100</td>\n      <td>278.00</td>\n      <td>17646954</td>\n      <td>1912.740</td>\n      <td>1921.8200</td>\n      <td>1859.1600</td>\n      <td>1894.28</td>\n      <td>2208242</td>\n      <td>383.67</td>\n      <td>384.7700</td>\n      <td>378.4600</td>\n      <td>384.40</td>\n      <td>61090775</td>\n    </tr>\n    <tr>\n      <th>2021-01-26 00:00:00-05:00</th>\n      <td>143.60</td>\n      <td>144.3000</td>\n      <td>141.370</td>\n      <td>143.1850</td>\n      <td>85816874</td>\n      <td>278.1398</td>\n      <td>285.39</td>\n      <td>277.8100</td>\n      <td>282.02</td>\n      <td>17018388</td>\n      <td>1885.990</td>\n      <td>1915.7500</td>\n      <td>1876.1300</td>\n      <td>1907.86</td>\n      <td>1410227</td>\n      <td>385.41</td>\n      <td>385.8500</td>\n      <td>383.5400</td>\n      <td>383.83</td>\n      <td>36871235</td>\n    </tr>\n    <tr>\n      <th>2021-01-27 00:00:00-05:00</th>\n      <td>143.43</td>\n      <td>144.3000</td>\n      <td>140.410</td>\n      <td>142.5300</td>\n      <td>110342303</td>\n      <td>282.5300</td>\n      <td>283.45</td>\n      <td>268.1201</td>\n      <td>272.39</td>\n      <td>27484121</td>\n      <td>1874.910</td>\n      <td>1880.4700</td>\n      <td>1797.2800</td>\n      <td>1818.98</td>\n      <td>3778436</td>\n      <td>380.22</td>\n      <td>380.3200</td>\n      <td>372.0100</td>\n      <td>374.44</td>\n      <td>99246554</td>\n    </tr>\n    <tr>\n      <th>2021-01-28 00:00:00-05:00</th>\n      <td>139.52</td>\n      <td>141.9900</td>\n      <td>136.700</td>\n      <td>137.0400</td>\n      <td>127192871</td>\n      <td>277.1800</td>\n      <td>286.79</td>\n      <td>264.7000</td>\n      <td>265.00</td>\n      <td>35383730</td>\n      <td>1831.000</td>\n      <td>1887.9900</td>\n      <td>1831.0000</td>\n      <td>1851.39</td>\n      <td>2396427</td>\n      <td>376.36</td>\n      <td>381.9300</td>\n      <td>375.8900</td>\n      <td>377.60</td>\n      <td>75229306</td>\n    </tr>\n    <tr>\n      <th>2021-01-29 00:00:00-05:00</th>\n      <td>135.83</td>\n      <td>136.7400</td>\n      <td>130.210</td>\n      <td>131.8300</td>\n      <td>162479747</td>\n      <td>265.3000</td>\n      <td>266.56</td>\n      <td>254.8500</td>\n      <td>258.33</td>\n      <td>28139673</td>\n      <td>1834.020</td>\n      <td>1847.5350</td>\n      <td>1801.5600</td>\n      <td>1826.38</td>\n      <td>1931121</td>\n      <td>375.63</td>\n      <td>376.6700</td>\n      <td>368.2700</td>\n      <td>370.19</td>\n      <td>106397082</td>\n    </tr>\n    <tr>\n      <th>2021-02-01 00:00:00-05:00</th>\n      <td>133.75</td>\n      <td>135.3800</td>\n      <td>130.930</td>\n      <td>134.1000</td>\n      <td>96660055</td>\n      <td>259.5200</td>\n      <td>264.17</td>\n      <td>254.9100</td>\n      <td>261.98</td>\n      <td>19629047</td>\n      <td>1844.585</td>\n      <td>1915.5400</td>\n      <td>1844.5850</td>\n      <td>1893.07</td>\n      <td>1830664</td>\n      <td>373.72</td>\n      <td>377.3400</td>\n      <td>370.3760</td>\n      <td>376.18</td>\n      <td>64056510</td>\n    </tr>\n  </tbody>\n</table>\n</div>"
     },
     "metadata": {},
     "execution_count": 65
    }
   ],
   "source": [
    "#15Min interval\n",
    "timeframe = \"1D\"\n",
    "start_date = pd.Timestamp(\"2021-01-01\", tz=\"America/New_York\").isoformat()\n",
    "end_date = pd.Timestamp(\"2021-12-31\", tz=\"America/New_York\").isoformat()\n",
    "#today = pd.Timestamp(\"2021-01-02\", tz=\"America/New_York\").isoformat()\n",
    "ticker = [\"AAPL\", \"FB\", \"GOOGL\", \"SPY\"]\n",
    "tech_ticker = alpaca.get_barset(\n",
    "    ticker,\n",
    "    timeframe,\n",
    "    start=start_date,\n",
    "    end=end_date,\n",
    "    limit=1000,\n",
    ").df\n",
    "tech_ticker.dropna(inplace=True)\n",
    "tech_ticker.head(20)"
   ]
  },
  {
   "cell_type": "code",
   "execution_count": 66,
   "metadata": {},
   "outputs": [
    {
     "output_type": "execute_result",
     "data": {
      "text/plain": [
       "                             AAPL                                       \n",
       "                             open     high       low     close    volume\n",
       "time                                                                    \n",
       "2021-06-02 00:00:00-04:00  124.29  125.240  124.0500  125.0900  51393692\n",
       "2021-06-03 00:00:00-04:00  124.66  124.850  123.1300  123.5550  68331470\n",
       "2021-06-04 00:00:00-04:00  124.07  126.160  123.8500  125.8800  63613126\n",
       "2021-06-07 00:00:00-04:00  126.18  126.320  124.8321  125.9100  62351961\n",
       "2021-06-08 00:00:00-04:00  126.62  128.460  126.2101  126.7400  67231488\n",
       "2021-06-09 00:00:00-04:00  127.21  127.750  126.5200  127.1600  46854275\n",
       "2021-06-10 00:00:00-04:00  127.02  128.190  125.9400  126.1100  63377192\n",
       "2021-06-11 00:00:00-04:00  126.53  127.440  126.1000  127.3521  46206013\n",
       "2021-06-14 00:00:00-04:00  127.82  130.490  127.0700  130.4900  73169843\n",
       "2021-06-15 00:00:00-04:00  129.88  130.600  129.3900  129.7400  53587032\n",
       "2021-06-16 00:00:00-04:00  130.29  130.890  128.4610  130.1400  81577235\n",
       "2021-06-17 00:00:00-04:00  129.80  132.550  129.6500  131.7800  82434812\n",
       "2021-06-18 00:00:00-04:00  130.65  131.510  130.2400  130.4000  78114203\n",
       "2021-06-21 00:00:00-04:00  130.32  132.410  129.2100  132.2900  63245869\n",
       "2021-06-22 00:00:00-04:00  132.10  134.080  131.6200  133.9700  61664813\n",
       "2021-06-23 00:00:00-04:00  133.78  134.320  133.2300  133.7000  54089975\n",
       "2021-06-24 00:00:00-04:00  134.45  134.640  132.9300  133.4000  57263070\n",
       "2021-06-25 00:00:00-04:00  133.47  133.890  132.8100  133.1100  42633100\n",
       "2021-06-28 00:00:00-04:00  133.42  135.245  133.3500  134.7500  53815255\n",
       "2021-06-29 00:00:00-04:00  134.82  136.490  134.3500  136.3300  55081959"
      ],
      "text/html": "<div>\n<style scoped>\n    .dataframe tbody tr th:only-of-type {\n        vertical-align: middle;\n    }\n\n    .dataframe tbody tr th {\n        vertical-align: top;\n    }\n\n    .dataframe thead tr th {\n        text-align: left;\n    }\n\n    .dataframe thead tr:last-of-type th {\n        text-align: right;\n    }\n</style>\n<table border=\"1\" class=\"dataframe\">\n  <thead>\n    <tr>\n      <th></th>\n      <th colspan=\"5\" halign=\"left\">AAPL</th>\n    </tr>\n    <tr>\n      <th></th>\n      <th>open</th>\n      <th>high</th>\n      <th>low</th>\n      <th>close</th>\n      <th>volume</th>\n    </tr>\n    <tr>\n      <th>time</th>\n      <th></th>\n      <th></th>\n      <th></th>\n      <th></th>\n      <th></th>\n    </tr>\n  </thead>\n  <tbody>\n    <tr>\n      <th>2021-06-02 00:00:00-04:00</th>\n      <td>124.29</td>\n      <td>125.240</td>\n      <td>124.0500</td>\n      <td>125.0900</td>\n      <td>51393692</td>\n    </tr>\n    <tr>\n      <th>2021-06-03 00:00:00-04:00</th>\n      <td>124.66</td>\n      <td>124.850</td>\n      <td>123.1300</td>\n      <td>123.5550</td>\n      <td>68331470</td>\n    </tr>\n    <tr>\n      <th>2021-06-04 00:00:00-04:00</th>\n      <td>124.07</td>\n      <td>126.160</td>\n      <td>123.8500</td>\n      <td>125.8800</td>\n      <td>63613126</td>\n    </tr>\n    <tr>\n      <th>2021-06-07 00:00:00-04:00</th>\n      <td>126.18</td>\n      <td>126.320</td>\n      <td>124.8321</td>\n      <td>125.9100</td>\n      <td>62351961</td>\n    </tr>\n    <tr>\n      <th>2021-06-08 00:00:00-04:00</th>\n      <td>126.62</td>\n      <td>128.460</td>\n      <td>126.2101</td>\n      <td>126.7400</td>\n      <td>67231488</td>\n    </tr>\n    <tr>\n      <th>2021-06-09 00:00:00-04:00</th>\n      <td>127.21</td>\n      <td>127.750</td>\n      <td>126.5200</td>\n      <td>127.1600</td>\n      <td>46854275</td>\n    </tr>\n    <tr>\n      <th>2021-06-10 00:00:00-04:00</th>\n      <td>127.02</td>\n      <td>128.190</td>\n      <td>125.9400</td>\n      <td>126.1100</td>\n      <td>63377192</td>\n    </tr>\n    <tr>\n      <th>2021-06-11 00:00:00-04:00</th>\n      <td>126.53</td>\n      <td>127.440</td>\n      <td>126.1000</td>\n      <td>127.3521</td>\n      <td>46206013</td>\n    </tr>\n    <tr>\n      <th>2021-06-14 00:00:00-04:00</th>\n      <td>127.82</td>\n      <td>130.490</td>\n      <td>127.0700</td>\n      <td>130.4900</td>\n      <td>73169843</td>\n    </tr>\n    <tr>\n      <th>2021-06-15 00:00:00-04:00</th>\n      <td>129.88</td>\n      <td>130.600</td>\n      <td>129.3900</td>\n      <td>129.7400</td>\n      <td>53587032</td>\n    </tr>\n    <tr>\n      <th>2021-06-16 00:00:00-04:00</th>\n      <td>130.29</td>\n      <td>130.890</td>\n      <td>128.4610</td>\n      <td>130.1400</td>\n      <td>81577235</td>\n    </tr>\n    <tr>\n      <th>2021-06-17 00:00:00-04:00</th>\n      <td>129.80</td>\n      <td>132.550</td>\n      <td>129.6500</td>\n      <td>131.7800</td>\n      <td>82434812</td>\n    </tr>\n    <tr>\n      <th>2021-06-18 00:00:00-04:00</th>\n      <td>130.65</td>\n      <td>131.510</td>\n      <td>130.2400</td>\n      <td>130.4000</td>\n      <td>78114203</td>\n    </tr>\n    <tr>\n      <th>2021-06-21 00:00:00-04:00</th>\n      <td>130.32</td>\n      <td>132.410</td>\n      <td>129.2100</td>\n      <td>132.2900</td>\n      <td>63245869</td>\n    </tr>\n    <tr>\n      <th>2021-06-22 00:00:00-04:00</th>\n      <td>132.10</td>\n      <td>134.080</td>\n      <td>131.6200</td>\n      <td>133.9700</td>\n      <td>61664813</td>\n    </tr>\n    <tr>\n      <th>2021-06-23 00:00:00-04:00</th>\n      <td>133.78</td>\n      <td>134.320</td>\n      <td>133.2300</td>\n      <td>133.7000</td>\n      <td>54089975</td>\n    </tr>\n    <tr>\n      <th>2021-06-24 00:00:00-04:00</th>\n      <td>134.45</td>\n      <td>134.640</td>\n      <td>132.9300</td>\n      <td>133.4000</td>\n      <td>57263070</td>\n    </tr>\n    <tr>\n      <th>2021-06-25 00:00:00-04:00</th>\n      <td>133.47</td>\n      <td>133.890</td>\n      <td>132.8100</td>\n      <td>133.1100</td>\n      <td>42633100</td>\n    </tr>\n    <tr>\n      <th>2021-06-28 00:00:00-04:00</th>\n      <td>133.42</td>\n      <td>135.245</td>\n      <td>133.3500</td>\n      <td>134.7500</td>\n      <td>53815255</td>\n    </tr>\n    <tr>\n      <th>2021-06-29 00:00:00-04:00</th>\n      <td>134.82</td>\n      <td>136.490</td>\n      <td>134.3500</td>\n      <td>136.3300</td>\n      <td>55081959</td>\n    </tr>\n  </tbody>\n</table>\n</div>"
     },
     "metadata": {},
     "execution_count": 66
    }
   ],
   "source": [
    "timeframe = \"1D\"\n",
    "start_date = pd.Timestamp(\"2021-06-02\", tz=\"America/New_York\").isoformat()\n",
    "end_date = pd.Timestamp(\"2021-06-29\", tz=\"America/New_York\").isoformat()\n",
    "#today = pd.Timestamp(\"2021-01-02\", tz=\"America/New_York\").isoformat()\n",
    "ticker = [\"AAPL\"]\n",
    "appl_ticker = alpaca.get_barset(\n",
    "    ticker,\n",
    "    timeframe,\n",
    "    start=start_date,\n",
    "    end=end_date,\n",
    "    limit=1000,\n",
    ").df\n",
    "appl_ticker.dropna(inplace=True)\n",
    "appl_ticker.head(20)"
   ]
  },
  {
   "cell_type": "code",
   "execution_count": 68,
   "metadata": {},
   "outputs": [
    {
     "output_type": "execute_result",
     "data": {
      "text/plain": [
       "                              Apple\n",
       "time                               \n",
       "2021-06-02 00:00:00-04:00  125.0900\n",
       "2021-06-03 00:00:00-04:00  123.5550\n",
       "2021-06-04 00:00:00-04:00  125.8800\n",
       "2021-06-07 00:00:00-04:00  125.9100\n",
       "2021-06-08 00:00:00-04:00  126.7400\n",
       "2021-06-09 00:00:00-04:00  127.1600\n",
       "2021-06-10 00:00:00-04:00  126.1100\n",
       "2021-06-11 00:00:00-04:00  127.3521\n",
       "2021-06-14 00:00:00-04:00  130.4900\n",
       "2021-06-15 00:00:00-04:00  129.7400\n",
       "2021-06-16 00:00:00-04:00  130.1400\n",
       "2021-06-17 00:00:00-04:00  131.7800\n",
       "2021-06-18 00:00:00-04:00  130.4000\n",
       "2021-06-21 00:00:00-04:00  132.2900\n",
       "2021-06-22 00:00:00-04:00  133.9700\n",
       "2021-06-23 00:00:00-04:00  133.7000\n",
       "2021-06-24 00:00:00-04:00  133.4000\n",
       "2021-06-25 00:00:00-04:00  133.1100\n",
       "2021-06-28 00:00:00-04:00  134.7500\n",
       "2021-06-29 00:00:00-04:00  136.3300"
      ],
      "text/html": "<div>\n<style scoped>\n    .dataframe tbody tr th:only-of-type {\n        vertical-align: middle;\n    }\n\n    .dataframe tbody tr th {\n        vertical-align: top;\n    }\n\n    .dataframe thead th {\n        text-align: right;\n    }\n</style>\n<table border=\"1\" class=\"dataframe\">\n  <thead>\n    <tr style=\"text-align: right;\">\n      <th></th>\n      <th>Apple</th>\n    </tr>\n    <tr>\n      <th>time</th>\n      <th></th>\n    </tr>\n  </thead>\n  <tbody>\n    <tr>\n      <th>2021-06-02 00:00:00-04:00</th>\n      <td>125.0900</td>\n    </tr>\n    <tr>\n      <th>2021-06-03 00:00:00-04:00</th>\n      <td>123.5550</td>\n    </tr>\n    <tr>\n      <th>2021-06-04 00:00:00-04:00</th>\n      <td>125.8800</td>\n    </tr>\n    <tr>\n      <th>2021-06-07 00:00:00-04:00</th>\n      <td>125.9100</td>\n    </tr>\n    <tr>\n      <th>2021-06-08 00:00:00-04:00</th>\n      <td>126.7400</td>\n    </tr>\n    <tr>\n      <th>2021-06-09 00:00:00-04:00</th>\n      <td>127.1600</td>\n    </tr>\n    <tr>\n      <th>2021-06-10 00:00:00-04:00</th>\n      <td>126.1100</td>\n    </tr>\n    <tr>\n      <th>2021-06-11 00:00:00-04:00</th>\n      <td>127.3521</td>\n    </tr>\n    <tr>\n      <th>2021-06-14 00:00:00-04:00</th>\n      <td>130.4900</td>\n    </tr>\n    <tr>\n      <th>2021-06-15 00:00:00-04:00</th>\n      <td>129.7400</td>\n    </tr>\n    <tr>\n      <th>2021-06-16 00:00:00-04:00</th>\n      <td>130.1400</td>\n    </tr>\n    <tr>\n      <th>2021-06-17 00:00:00-04:00</th>\n      <td>131.7800</td>\n    </tr>\n    <tr>\n      <th>2021-06-18 00:00:00-04:00</th>\n      <td>130.4000</td>\n    </tr>\n    <tr>\n      <th>2021-06-21 00:00:00-04:00</th>\n      <td>132.2900</td>\n    </tr>\n    <tr>\n      <th>2021-06-22 00:00:00-04:00</th>\n      <td>133.9700</td>\n    </tr>\n    <tr>\n      <th>2021-06-23 00:00:00-04:00</th>\n      <td>133.7000</td>\n    </tr>\n    <tr>\n      <th>2021-06-24 00:00:00-04:00</th>\n      <td>133.4000</td>\n    </tr>\n    <tr>\n      <th>2021-06-25 00:00:00-04:00</th>\n      <td>133.1100</td>\n    </tr>\n    <tr>\n      <th>2021-06-28 00:00:00-04:00</th>\n      <td>134.7500</td>\n    </tr>\n    <tr>\n      <th>2021-06-29 00:00:00-04:00</th>\n      <td>136.3300</td>\n    </tr>\n  </tbody>\n</table>\n</div>"
     },
     "metadata": {},
     "execution_count": 68
    }
   ],
   "source": [
    "apple_df = pd.DataFrame()\n",
    "apple_df[\"Apple\"] = appl_ticker[\"AAPL\"][\"close\"]\n",
    "#apple_df[\" \"] = apple_df[\"Date\"]\n",
    "#apple_df.index = apple_df.index.date\n",
    "apple_df.head(20)"
   ]
  },
  {
   "cell_type": "code",
   "execution_count": 46,
   "metadata": {},
   "outputs": [
    {
     "output_type": "stream",
     "name": "stdout",
     "text": [
      "6dde5b0486654982bdc6ebe38ab427a4\n"
     ]
    }
   ],
   "source": [
    "api_key = os.getenv(\"news_api\")\n",
    "print(api_key)"
   ]
  },
  {
   "cell_type": "code",
   "execution_count": 47,
   "metadata": {},
   "outputs": [],
   "source": [
    "newsapi = NewsApiClient(api_key=api_key)"
   ]
  },
  {
   "cell_type": "code",
   "execution_count": 48,
   "metadata": {},
   "outputs": [
    {
     "output_type": "stream",
     "name": "stdout",
     "text": [
      "Total articles about Inflation: 3657\n"
     ]
    },
    {
     "output_type": "execute_result",
     "data": {
      "text/plain": [
       "{'source': {'id': 'engadget', 'name': 'Engadget'},\n",
       " 'author': 'Igor Bonifacic',\n",
       " 'title': 'Automakers must report crashes involving self-driving and driver-assist systems',\n",
       " 'description': 'The National Highway Traffic Safety Administration (NHTSA) has implemented a new policy that will require car companies to report incidents involving semi- and fully autonomous driving systems within one day of learning of an accident. In an\\xa0order\\xa0spotted by\\xa0…',\n",
       " 'url': 'https://www.engadget.com/nhtsa-automated-driving-system-crash-report-174552853.html',\n",
       " 'urlToImage': 'https://s.yimg.com/os/creatr-images/2020-01/1e88d580-3edd-11ea-8a57-ce70dbfb73e6',\n",
       " 'publishedAt': '2021-06-29T17:45:52Z',\n",
       " 'content': 'The National Highway Traffic Safety Administration (NHTSA) has implemented a new policy that will require car companies to report incidents involving semi- and fully autonomous driving systems within… [+1815 chars]'}"
      ]
     },
     "metadata": {},
     "execution_count": 48
    }
   ],
   "source": [
    "tech_news = newsapi.get_everything(q = \"Technology & Regulation\", language=\"en\", page_size=100, sort_by=\"relevancy\")\n",
    "print(f\"Total articles about Inflation: {tech_news['totalResults']}\")\n",
    "tech_news[\"articles\"][0]"
   ]
  },
  {
   "cell_type": "code",
   "execution_count": 49,
   "metadata": {},
   "outputs": [
    {
     "output_type": "execute_result",
     "data": {
      "text/plain": [
       "                  Date                                               Text  \\\n",
       "Date                                                                        \n",
       "2021-06-29  2021-06-29  The National Highway Traffic Safety Administra...   \n",
       "2021-06-23  2021-06-23  TOKYO, June 23 (Reuters) - The Japanese govern...   \n",
       "2021-06-28  2021-06-28  Telefonica's Chairman and CEO Jose Maria Alvar...   \n",
       "2021-06-09  2021-06-09  Representations of cryptocurrencies including ...   \n",
       "2021-06-18  2021-06-18  The UK’s chief data protection regulator has w...   \n",
       "...                ...                                                ...   \n",
       "2021-06-14  2021-06-14  Nvidia announced last fall that it was officia...   \n",
       "2021-06-04  2021-06-04  This week, King county, Washington, became the...   \n",
       "2021-06-29  2021-06-29  Edge computing can often deliver the same resu...   \n",
       "2021-07-02  2021-07-02  If youre hoping to mingle with multi-millionai...   \n",
       "2021-06-02  2021-06-02  CANBERRA, AUSTRALIA -- \\r\\nThe world's largest...   \n",
       "\n",
       "            Compound  Positive  Negative  Neutral  \n",
       "Date                                               \n",
       "2021-06-29    0.4215     0.091     0.000    0.909  \n",
       "2021-06-23    0.2023     0.055     0.000    0.945  \n",
       "2021-06-28    0.2023     0.060     0.000    0.940  \n",
       "2021-06-09    0.0000     0.000     0.000    1.000  \n",
       "2021-06-18   -0.5859     0.000     0.130    0.870  \n",
       "...              ...       ...       ...      ...  \n",
       "2021-06-14    0.0000     0.000     0.000    1.000  \n",
       "2021-06-04   -0.5574     0.000     0.098    0.902  \n",
       "2021-06-29   -0.6012     0.000     0.169    0.831  \n",
       "2021-07-02    0.4215     0.080     0.000    0.920  \n",
       "2021-06-02   -0.7579     0.000     0.217    0.783  \n",
       "\n",
       "[100 rows x 6 columns]"
      ],
      "text/html": "<div>\n<style scoped>\n    .dataframe tbody tr th:only-of-type {\n        vertical-align: middle;\n    }\n\n    .dataframe tbody tr th {\n        vertical-align: top;\n    }\n\n    .dataframe thead th {\n        text-align: right;\n    }\n</style>\n<table border=\"1\" class=\"dataframe\">\n  <thead>\n    <tr style=\"text-align: right;\">\n      <th></th>\n      <th>Date</th>\n      <th>Text</th>\n      <th>Compound</th>\n      <th>Positive</th>\n      <th>Negative</th>\n      <th>Neutral</th>\n    </tr>\n    <tr>\n      <th>Date</th>\n      <th></th>\n      <th></th>\n      <th></th>\n      <th></th>\n      <th></th>\n      <th></th>\n    </tr>\n  </thead>\n  <tbody>\n    <tr>\n      <th>2021-06-29</th>\n      <td>2021-06-29</td>\n      <td>The National Highway Traffic Safety Administra...</td>\n      <td>0.4215</td>\n      <td>0.091</td>\n      <td>0.000</td>\n      <td>0.909</td>\n    </tr>\n    <tr>\n      <th>2021-06-23</th>\n      <td>2021-06-23</td>\n      <td>TOKYO, June 23 (Reuters) - The Japanese govern...</td>\n      <td>0.2023</td>\n      <td>0.055</td>\n      <td>0.000</td>\n      <td>0.945</td>\n    </tr>\n    <tr>\n      <th>2021-06-28</th>\n      <td>2021-06-28</td>\n      <td>Telefonica's Chairman and CEO Jose Maria Alvar...</td>\n      <td>0.2023</td>\n      <td>0.060</td>\n      <td>0.000</td>\n      <td>0.940</td>\n    </tr>\n    <tr>\n      <th>2021-06-09</th>\n      <td>2021-06-09</td>\n      <td>Representations of cryptocurrencies including ...</td>\n      <td>0.0000</td>\n      <td>0.000</td>\n      <td>0.000</td>\n      <td>1.000</td>\n    </tr>\n    <tr>\n      <th>2021-06-18</th>\n      <td>2021-06-18</td>\n      <td>The UK’s chief data protection regulator has w...</td>\n      <td>-0.5859</td>\n      <td>0.000</td>\n      <td>0.130</td>\n      <td>0.870</td>\n    </tr>\n    <tr>\n      <th>...</th>\n      <td>...</td>\n      <td>...</td>\n      <td>...</td>\n      <td>...</td>\n      <td>...</td>\n      <td>...</td>\n    </tr>\n    <tr>\n      <th>2021-06-14</th>\n      <td>2021-06-14</td>\n      <td>Nvidia announced last fall that it was officia...</td>\n      <td>0.0000</td>\n      <td>0.000</td>\n      <td>0.000</td>\n      <td>1.000</td>\n    </tr>\n    <tr>\n      <th>2021-06-04</th>\n      <td>2021-06-04</td>\n      <td>This week, King county, Washington, became the...</td>\n      <td>-0.5574</td>\n      <td>0.000</td>\n      <td>0.098</td>\n      <td>0.902</td>\n    </tr>\n    <tr>\n      <th>2021-06-29</th>\n      <td>2021-06-29</td>\n      <td>Edge computing can often deliver the same resu...</td>\n      <td>-0.6012</td>\n      <td>0.000</td>\n      <td>0.169</td>\n      <td>0.831</td>\n    </tr>\n    <tr>\n      <th>2021-07-02</th>\n      <td>2021-07-02</td>\n      <td>If youre hoping to mingle with multi-millionai...</td>\n      <td>0.4215</td>\n      <td>0.080</td>\n      <td>0.000</td>\n      <td>0.920</td>\n    </tr>\n    <tr>\n      <th>2021-06-02</th>\n      <td>2021-06-02</td>\n      <td>CANBERRA, AUSTRALIA -- \\r\\nThe world's largest...</td>\n      <td>-0.7579</td>\n      <td>0.000</td>\n      <td>0.217</td>\n      <td>0.783</td>\n    </tr>\n  </tbody>\n</table>\n<p>100 rows × 6 columns</p>\n</div>"
     },
     "metadata": {},
     "execution_count": 49
    }
   ],
   "source": [
    "sentiments = []\n",
    "for article in tech_news[\"articles\"]:\n",
    "    try:\n",
    "        text = article[\"content\"]\n",
    "        date = article[\"publishedAt\"][:10]\n",
    "        sentiment = analyzer.polarity_scores(text)\n",
    "        compound = sentiment[\"compound\"]\n",
    "        pos = sentiment[\"pos\"]\n",
    "        neu = sentiment[\"neu\"]\n",
    "        neg = sentiment[\"neg\"]\n",
    "\n",
    "        sentiments.append({\n",
    "            \"Text\": text,\n",
    "            \"Date\": date,\n",
    "            \"Compound\":compound,\n",
    "            \"Positive\": pos,\n",
    "            \"Negative\": neg,\n",
    "            \"Neutral\": neu\n",
    "        })\n",
    "    except AttributeError:\n",
    "        pass\n",
    "tech_df = pd.DataFrame(sentiments)\n",
    "\n",
    "columns = [\"Date\", \"Text\", \"Compound\", \"Positive\", \"Negative\", \"Neutral\"]\n",
    "tech_df = tech_df[columns]\n",
    "#apple_df.index = apple_df.index.date\n",
    "tech_df.index = tech_df.Date\n",
    "tech_df.head(100)"
   ]
  },
  {
   "cell_type": "code",
   "execution_count": 51,
   "metadata": {},
   "outputs": [
    {
     "output_type": "error",
     "ename": "ValueError",
     "evalue": "Only can inner (intersect) or outer (union) join the other axis",
     "traceback": [
      "\u001b[0;31m---------------------------------------------------------------------------\u001b[0m",
      "\u001b[0;31mValueError\u001b[0m                                Traceback (most recent call last)",
      "\u001b[0;32m<ipython-input-51-c8caa4c6e6ad>\u001b[0m in \u001b[0;36m<module>\u001b[0;34m\u001b[0m\n\u001b[0;32m----> 1\u001b[0;31m \u001b[0mapple_joined\u001b[0m \u001b[0;34m=\u001b[0m \u001b[0mpd\u001b[0m\u001b[0;34m.\u001b[0m\u001b[0mconcat\u001b[0m\u001b[0;34m(\u001b[0m\u001b[0;34m[\u001b[0m\u001b[0mapple_df\u001b[0m\u001b[0;34m,\u001b[0m \u001b[0mtech_df\u001b[0m\u001b[0;34m]\u001b[0m\u001b[0;34m,\u001b[0m \u001b[0maxis\u001b[0m\u001b[0;34m=\u001b[0m\u001b[0;34m\"columns\"\u001b[0m\u001b[0;34m,\u001b[0m \u001b[0mjoin\u001b[0m\u001b[0;34m=\u001b[0m\u001b[0;34m\"right\"\u001b[0m\u001b[0;34m,\u001b[0m\u001b[0;34m)\u001b[0m\u001b[0;34m\u001b[0m\u001b[0;34m\u001b[0m\u001b[0m\n\u001b[0m\u001b[1;32m      2\u001b[0m \u001b[0mapple_joined\u001b[0m\u001b[0;34m\u001b[0m\u001b[0;34m\u001b[0m\u001b[0m\n",
      "\u001b[0;32m~/opt/anaconda3/lib/python3.8/site-packages/pandas/core/reshape/concat.py\u001b[0m in \u001b[0;36mconcat\u001b[0;34m(objs, axis, join, ignore_index, keys, levels, names, verify_integrity, sort, copy)\u001b[0m\n\u001b[1;32m    283\u001b[0m     \u001b[0mValueError\u001b[0m\u001b[0;34m:\u001b[0m \u001b[0mIndexes\u001b[0m \u001b[0mhave\u001b[0m \u001b[0moverlapping\u001b[0m \u001b[0mvalues\u001b[0m\u001b[0;34m:\u001b[0m \u001b[0;34m[\u001b[0m\u001b[0;34m'a'\u001b[0m\u001b[0;34m]\u001b[0m\u001b[0;34m\u001b[0m\u001b[0;34m\u001b[0m\u001b[0m\n\u001b[1;32m    284\u001b[0m     \"\"\"\n\u001b[0;32m--> 285\u001b[0;31m     op = _Concatenator(\n\u001b[0m\u001b[1;32m    286\u001b[0m         \u001b[0mobjs\u001b[0m\u001b[0;34m,\u001b[0m\u001b[0;34m\u001b[0m\u001b[0;34m\u001b[0m\u001b[0m\n\u001b[1;32m    287\u001b[0m         \u001b[0maxis\u001b[0m\u001b[0;34m=\u001b[0m\u001b[0maxis\u001b[0m\u001b[0;34m,\u001b[0m\u001b[0;34m\u001b[0m\u001b[0;34m\u001b[0m\u001b[0m\n",
      "\u001b[0;32m~/opt/anaconda3/lib/python3.8/site-packages/pandas/core/reshape/concat.py\u001b[0m in \u001b[0;36m__init__\u001b[0;34m(self, objs, axis, join, keys, levels, names, ignore_index, verify_integrity, copy, sort)\u001b[0m\n\u001b[1;32m    328\u001b[0m             \u001b[0mself\u001b[0m\u001b[0;34m.\u001b[0m\u001b[0mintersect\u001b[0m \u001b[0;34m=\u001b[0m \u001b[0;32mTrue\u001b[0m\u001b[0;34m\u001b[0m\u001b[0;34m\u001b[0m\u001b[0m\n\u001b[1;32m    329\u001b[0m         \u001b[0;32melse\u001b[0m\u001b[0;34m:\u001b[0m  \u001b[0;31m# pragma: no cover\u001b[0m\u001b[0;34m\u001b[0m\u001b[0;34m\u001b[0m\u001b[0m\n\u001b[0;32m--> 330\u001b[0;31m             raise ValueError(\n\u001b[0m\u001b[1;32m    331\u001b[0m                 \u001b[0;34m\"Only can inner (intersect) or outer (union) join the other axis\"\u001b[0m\u001b[0;34m\u001b[0m\u001b[0;34m\u001b[0m\u001b[0m\n\u001b[1;32m    332\u001b[0m             )\n",
      "\u001b[0;31mValueError\u001b[0m: Only can inner (intersect) or outer (union) join the other axis"
     ]
    }
   ],
   "source": [
    "apple_joined = pd.concat([apple_df, tech_df], axis=\"columns\", join=\"right\",)\n",
    "apple_joined"
   ]
  },
  {
   "cell_type": "code",
   "execution_count": null,
   "metadata": {},
   "outputs": [],
   "source": []
  },
  {
   "cell_type": "code",
   "execution_count": 59,
   "metadata": {},
   "outputs": [],
   "source": [
    "appl_df = pd.DataFrame(appl_ticker)"
   ]
  },
  {
   "cell_type": "code",
   "execution_count": 69,
   "metadata": {},
   "outputs": [
    {
     "output_type": "error",
     "ename": "KeyError",
     "evalue": "\"Passing list-likes to .loc or [] with any missing labels is no longer supported. The following labels were missing: Index(['time'], dtype='object'). See https://pandas.pydata.org/pandas-docs/stable/user_guide/indexing.html#deprecate-loc-reindex-listlike\"",
     "traceback": [
      "\u001b[0;31m---------------------------------------------------------------------------\u001b[0m",
      "\u001b[0;31mKeyError\u001b[0m                                  Traceback (most recent call last)",
      "\u001b[0;32m<ipython-input-69-fc64171d9fa7>\u001b[0m in \u001b[0;36m<module>\u001b[0;34m\u001b[0m\n\u001b[0;32m----> 1\u001b[0;31m \u001b[0msignals_df\u001b[0m \u001b[0;34m=\u001b[0m \u001b[0mapple_df\u001b[0m\u001b[0;34m.\u001b[0m\u001b[0mloc\u001b[0m\u001b[0;34m[\u001b[0m\u001b[0;34m:\u001b[0m\u001b[0;34m,\u001b[0m \u001b[0;34m[\u001b[0m\u001b[0;34m'time'\u001b[0m\u001b[0;34m,\u001b[0m \u001b[0;34m'Apple'\u001b[0m\u001b[0;34m]\u001b[0m\u001b[0;34m]\u001b[0m\u001b[0;34m.\u001b[0m\u001b[0mcopy\u001b[0m\u001b[0;34m(\u001b[0m\u001b[0;34m)\u001b[0m\u001b[0;34m\u001b[0m\u001b[0;34m\u001b[0m\u001b[0m\n\u001b[0m\u001b[1;32m      2\u001b[0m \u001b[0msignals_df\u001b[0m \u001b[0;34m=\u001b[0m \u001b[0msignals_df\u001b[0m\u001b[0;34m.\u001b[0m\u001b[0mset_index\u001b[0m\u001b[0;34m(\u001b[0m\u001b[0;34m\"time\"\u001b[0m\u001b[0;34m,\u001b[0m \u001b[0mdrop\u001b[0m\u001b[0;34m=\u001b[0m\u001b[0;32mTrue\u001b[0m\u001b[0;34m)\u001b[0m\u001b[0;34m\u001b[0m\u001b[0;34m\u001b[0m\u001b[0m\n\u001b[1;32m      3\u001b[0m \u001b[0mshort_window\u001b[0m \u001b[0;34m=\u001b[0m \u001b[0;36m50\u001b[0m\u001b[0;34m\u001b[0m\u001b[0;34m\u001b[0m\u001b[0m\n\u001b[1;32m      4\u001b[0m \u001b[0mlong_window\u001b[0m \u001b[0;34m=\u001b[0m \u001b[0;36m100\u001b[0m\u001b[0;34m\u001b[0m\u001b[0;34m\u001b[0m\u001b[0m\n\u001b[1;32m      5\u001b[0m \u001b[0;31m#signals_df = signals_df.set_index(\"Date\", drop=True)\u001b[0m\u001b[0;34m\u001b[0m\u001b[0;34m\u001b[0m\u001b[0;34m\u001b[0m\u001b[0m\n",
      "\u001b[0;32m~/opt/anaconda3/lib/python3.8/site-packages/pandas/core/indexing.py\u001b[0m in \u001b[0;36m__getitem__\u001b[0;34m(self, key)\u001b[0m\n\u001b[1;32m    887\u001b[0m                     \u001b[0;31m# AttributeError for IntervalTree get_value\u001b[0m\u001b[0;34m\u001b[0m\u001b[0;34m\u001b[0m\u001b[0;34m\u001b[0m\u001b[0m\n\u001b[1;32m    888\u001b[0m                     \u001b[0;32mreturn\u001b[0m \u001b[0mself\u001b[0m\u001b[0;34m.\u001b[0m\u001b[0mobj\u001b[0m\u001b[0;34m.\u001b[0m\u001b[0m_get_value\u001b[0m\u001b[0;34m(\u001b[0m\u001b[0;34m*\u001b[0m\u001b[0mkey\u001b[0m\u001b[0;34m,\u001b[0m \u001b[0mtakeable\u001b[0m\u001b[0;34m=\u001b[0m\u001b[0mself\u001b[0m\u001b[0;34m.\u001b[0m\u001b[0m_takeable\u001b[0m\u001b[0;34m)\u001b[0m\u001b[0;34m\u001b[0m\u001b[0;34m\u001b[0m\u001b[0m\n\u001b[0;32m--> 889\u001b[0;31m             \u001b[0;32mreturn\u001b[0m \u001b[0mself\u001b[0m\u001b[0;34m.\u001b[0m\u001b[0m_getitem_tuple\u001b[0m\u001b[0;34m(\u001b[0m\u001b[0mkey\u001b[0m\u001b[0;34m)\u001b[0m\u001b[0;34m\u001b[0m\u001b[0;34m\u001b[0m\u001b[0m\n\u001b[0m\u001b[1;32m    890\u001b[0m         \u001b[0;32melse\u001b[0m\u001b[0;34m:\u001b[0m\u001b[0;34m\u001b[0m\u001b[0;34m\u001b[0m\u001b[0m\n\u001b[1;32m    891\u001b[0m             \u001b[0;31m# we by definition only have the 0th axis\u001b[0m\u001b[0;34m\u001b[0m\u001b[0;34m\u001b[0m\u001b[0;34m\u001b[0m\u001b[0m\n",
      "\u001b[0;32m~/opt/anaconda3/lib/python3.8/site-packages/pandas/core/indexing.py\u001b[0m in \u001b[0;36m_getitem_tuple\u001b[0;34m(self, tup)\u001b[0m\n\u001b[1;32m   1067\u001b[0m             \u001b[0;32mreturn\u001b[0m \u001b[0mself\u001b[0m\u001b[0;34m.\u001b[0m\u001b[0m_multi_take\u001b[0m\u001b[0;34m(\u001b[0m\u001b[0mtup\u001b[0m\u001b[0;34m)\u001b[0m\u001b[0;34m\u001b[0m\u001b[0;34m\u001b[0m\u001b[0m\n\u001b[1;32m   1068\u001b[0m \u001b[0;34m\u001b[0m\u001b[0m\n\u001b[0;32m-> 1069\u001b[0;31m         \u001b[0;32mreturn\u001b[0m \u001b[0mself\u001b[0m\u001b[0;34m.\u001b[0m\u001b[0m_getitem_tuple_same_dim\u001b[0m\u001b[0;34m(\u001b[0m\u001b[0mtup\u001b[0m\u001b[0;34m)\u001b[0m\u001b[0;34m\u001b[0m\u001b[0;34m\u001b[0m\u001b[0m\n\u001b[0m\u001b[1;32m   1070\u001b[0m \u001b[0;34m\u001b[0m\u001b[0m\n\u001b[1;32m   1071\u001b[0m     \u001b[0;32mdef\u001b[0m \u001b[0m_get_label\u001b[0m\u001b[0;34m(\u001b[0m\u001b[0mself\u001b[0m\u001b[0;34m,\u001b[0m \u001b[0mlabel\u001b[0m\u001b[0;34m,\u001b[0m \u001b[0maxis\u001b[0m\u001b[0;34m:\u001b[0m \u001b[0mint\u001b[0m\u001b[0;34m)\u001b[0m\u001b[0;34m:\u001b[0m\u001b[0;34m\u001b[0m\u001b[0;34m\u001b[0m\u001b[0m\n",
      "\u001b[0;32m~/opt/anaconda3/lib/python3.8/site-packages/pandas/core/indexing.py\u001b[0m in \u001b[0;36m_getitem_tuple_same_dim\u001b[0;34m(self, tup)\u001b[0m\n\u001b[1;32m    773\u001b[0m                 \u001b[0;32mcontinue\u001b[0m\u001b[0;34m\u001b[0m\u001b[0;34m\u001b[0m\u001b[0m\n\u001b[1;32m    774\u001b[0m \u001b[0;34m\u001b[0m\u001b[0m\n\u001b[0;32m--> 775\u001b[0;31m             \u001b[0mretval\u001b[0m \u001b[0;34m=\u001b[0m \u001b[0mgetattr\u001b[0m\u001b[0;34m(\u001b[0m\u001b[0mretval\u001b[0m\u001b[0;34m,\u001b[0m \u001b[0mself\u001b[0m\u001b[0;34m.\u001b[0m\u001b[0mname\u001b[0m\u001b[0;34m)\u001b[0m\u001b[0;34m.\u001b[0m\u001b[0m_getitem_axis\u001b[0m\u001b[0;34m(\u001b[0m\u001b[0mkey\u001b[0m\u001b[0;34m,\u001b[0m \u001b[0maxis\u001b[0m\u001b[0;34m=\u001b[0m\u001b[0mi\u001b[0m\u001b[0;34m)\u001b[0m\u001b[0;34m\u001b[0m\u001b[0;34m\u001b[0m\u001b[0m\n\u001b[0m\u001b[1;32m    776\u001b[0m             \u001b[0;31m# We should never have retval.ndim < self.ndim, as that should\u001b[0m\u001b[0;34m\u001b[0m\u001b[0;34m\u001b[0m\u001b[0;34m\u001b[0m\u001b[0m\n\u001b[1;32m    777\u001b[0m             \u001b[0;31m#  be handled by the _getitem_lowerdim call above.\u001b[0m\u001b[0;34m\u001b[0m\u001b[0;34m\u001b[0m\u001b[0;34m\u001b[0m\u001b[0m\n",
      "\u001b[0;32m~/opt/anaconda3/lib/python3.8/site-packages/pandas/core/indexing.py\u001b[0m in \u001b[0;36m_getitem_axis\u001b[0;34m(self, key, axis)\u001b[0m\n\u001b[1;32m   1111\u001b[0m                     \u001b[0;32mraise\u001b[0m \u001b[0mValueError\u001b[0m\u001b[0;34m(\u001b[0m\u001b[0;34m\"Cannot index with multidimensional key\"\u001b[0m\u001b[0;34m)\u001b[0m\u001b[0;34m\u001b[0m\u001b[0;34m\u001b[0m\u001b[0m\n\u001b[1;32m   1112\u001b[0m \u001b[0;34m\u001b[0m\u001b[0m\n\u001b[0;32m-> 1113\u001b[0;31m                 \u001b[0;32mreturn\u001b[0m \u001b[0mself\u001b[0m\u001b[0;34m.\u001b[0m\u001b[0m_getitem_iterable\u001b[0m\u001b[0;34m(\u001b[0m\u001b[0mkey\u001b[0m\u001b[0;34m,\u001b[0m \u001b[0maxis\u001b[0m\u001b[0;34m=\u001b[0m\u001b[0maxis\u001b[0m\u001b[0;34m)\u001b[0m\u001b[0;34m\u001b[0m\u001b[0;34m\u001b[0m\u001b[0m\n\u001b[0m\u001b[1;32m   1114\u001b[0m \u001b[0;34m\u001b[0m\u001b[0m\n\u001b[1;32m   1115\u001b[0m             \u001b[0;31m# nested tuple slicing\u001b[0m\u001b[0;34m\u001b[0m\u001b[0;34m\u001b[0m\u001b[0;34m\u001b[0m\u001b[0m\n",
      "\u001b[0;32m~/opt/anaconda3/lib/python3.8/site-packages/pandas/core/indexing.py\u001b[0m in \u001b[0;36m_getitem_iterable\u001b[0;34m(self, key, axis)\u001b[0m\n\u001b[1;32m   1051\u001b[0m \u001b[0;34m\u001b[0m\u001b[0m\n\u001b[1;32m   1052\u001b[0m         \u001b[0;31m# A collection of keys\u001b[0m\u001b[0;34m\u001b[0m\u001b[0;34m\u001b[0m\u001b[0;34m\u001b[0m\u001b[0m\n\u001b[0;32m-> 1053\u001b[0;31m         \u001b[0mkeyarr\u001b[0m\u001b[0;34m,\u001b[0m \u001b[0mindexer\u001b[0m \u001b[0;34m=\u001b[0m \u001b[0mself\u001b[0m\u001b[0;34m.\u001b[0m\u001b[0m_get_listlike_indexer\u001b[0m\u001b[0;34m(\u001b[0m\u001b[0mkey\u001b[0m\u001b[0;34m,\u001b[0m \u001b[0maxis\u001b[0m\u001b[0;34m,\u001b[0m \u001b[0mraise_missing\u001b[0m\u001b[0;34m=\u001b[0m\u001b[0;32mFalse\u001b[0m\u001b[0;34m)\u001b[0m\u001b[0;34m\u001b[0m\u001b[0;34m\u001b[0m\u001b[0m\n\u001b[0m\u001b[1;32m   1054\u001b[0m         return self.obj._reindex_with_indexers(\n\u001b[1;32m   1055\u001b[0m             \u001b[0;34m{\u001b[0m\u001b[0maxis\u001b[0m\u001b[0;34m:\u001b[0m \u001b[0;34m[\u001b[0m\u001b[0mkeyarr\u001b[0m\u001b[0;34m,\u001b[0m \u001b[0mindexer\u001b[0m\u001b[0;34m]\u001b[0m\u001b[0;34m}\u001b[0m\u001b[0;34m,\u001b[0m \u001b[0mcopy\u001b[0m\u001b[0;34m=\u001b[0m\u001b[0;32mTrue\u001b[0m\u001b[0;34m,\u001b[0m \u001b[0mallow_dups\u001b[0m\u001b[0;34m=\u001b[0m\u001b[0;32mTrue\u001b[0m\u001b[0;34m\u001b[0m\u001b[0;34m\u001b[0m\u001b[0m\n",
      "\u001b[0;32m~/opt/anaconda3/lib/python3.8/site-packages/pandas/core/indexing.py\u001b[0m in \u001b[0;36m_get_listlike_indexer\u001b[0;34m(self, key, axis, raise_missing)\u001b[0m\n\u001b[1;32m   1264\u001b[0m             \u001b[0mkeyarr\u001b[0m\u001b[0;34m,\u001b[0m \u001b[0mindexer\u001b[0m\u001b[0;34m,\u001b[0m \u001b[0mnew_indexer\u001b[0m \u001b[0;34m=\u001b[0m \u001b[0max\u001b[0m\u001b[0;34m.\u001b[0m\u001b[0m_reindex_non_unique\u001b[0m\u001b[0;34m(\u001b[0m\u001b[0mkeyarr\u001b[0m\u001b[0;34m)\u001b[0m\u001b[0;34m\u001b[0m\u001b[0;34m\u001b[0m\u001b[0m\n\u001b[1;32m   1265\u001b[0m \u001b[0;34m\u001b[0m\u001b[0m\n\u001b[0;32m-> 1266\u001b[0;31m         \u001b[0mself\u001b[0m\u001b[0;34m.\u001b[0m\u001b[0m_validate_read_indexer\u001b[0m\u001b[0;34m(\u001b[0m\u001b[0mkeyarr\u001b[0m\u001b[0;34m,\u001b[0m \u001b[0mindexer\u001b[0m\u001b[0;34m,\u001b[0m \u001b[0maxis\u001b[0m\u001b[0;34m,\u001b[0m \u001b[0mraise_missing\u001b[0m\u001b[0;34m=\u001b[0m\u001b[0mraise_missing\u001b[0m\u001b[0;34m)\u001b[0m\u001b[0;34m\u001b[0m\u001b[0;34m\u001b[0m\u001b[0m\n\u001b[0m\u001b[1;32m   1267\u001b[0m         \u001b[0;32mreturn\u001b[0m \u001b[0mkeyarr\u001b[0m\u001b[0;34m,\u001b[0m \u001b[0mindexer\u001b[0m\u001b[0;34m\u001b[0m\u001b[0;34m\u001b[0m\u001b[0m\n\u001b[1;32m   1268\u001b[0m \u001b[0;34m\u001b[0m\u001b[0m\n",
      "\u001b[0;32m~/opt/anaconda3/lib/python3.8/site-packages/pandas/core/indexing.py\u001b[0m in \u001b[0;36m_validate_read_indexer\u001b[0;34m(self, key, indexer, axis, raise_missing)\u001b[0m\n\u001b[1;32m   1319\u001b[0m \u001b[0;34m\u001b[0m\u001b[0m\n\u001b[1;32m   1320\u001b[0m             \u001b[0;32mwith\u001b[0m \u001b[0moption_context\u001b[0m\u001b[0;34m(\u001b[0m\u001b[0;34m\"display.max_seq_items\"\u001b[0m\u001b[0;34m,\u001b[0m \u001b[0;36m10\u001b[0m\u001b[0;34m,\u001b[0m \u001b[0;34m\"display.width\"\u001b[0m\u001b[0;34m,\u001b[0m \u001b[0;36m80\u001b[0m\u001b[0;34m)\u001b[0m\u001b[0;34m:\u001b[0m\u001b[0;34m\u001b[0m\u001b[0;34m\u001b[0m\u001b[0m\n\u001b[0;32m-> 1321\u001b[0;31m                 raise KeyError(\n\u001b[0m\u001b[1;32m   1322\u001b[0m                     \u001b[0;34m\"Passing list-likes to .loc or [] with any missing labels \"\u001b[0m\u001b[0;34m\u001b[0m\u001b[0;34m\u001b[0m\u001b[0m\n\u001b[1;32m   1323\u001b[0m                     \u001b[0;34m\"is no longer supported. \"\u001b[0m\u001b[0;34m\u001b[0m\u001b[0;34m\u001b[0m\u001b[0m\n",
      "\u001b[0;31mKeyError\u001b[0m: \"Passing list-likes to .loc or [] with any missing labels is no longer supported. The following labels were missing: Index(['time'], dtype='object'). See https://pandas.pydata.org/pandas-docs/stable/user_guide/indexing.html#deprecate-loc-reindex-listlike\""
     ]
    }
   ],
   "source": [
    "signals_df = apple_df.loc[:, ['time', 'Apple']].copy()\n",
    "signals_df = signals_df.set_index(\"time\", drop=True)\n",
    "short_window = 50\n",
    "long_window = 100\n",
    "#signals_df = signals_df.set_index(\"Date\", drop=True)\n",
    "signals_df[\"SMA50\"] = signals_df[\"Apple\"].rolling(window=short_window).mean()\n",
    "signals_df[\"SMA100\"] = signals_df[\"Apple\"].rolling(window=long_window).mean()\n",
    "signals_df[\"Signal\"] = 0.0\n",
    "signals_df[\"Signal\"][short_window:] = np.where(\n",
    "    signals_df[\"SMA50\"][short_window:] < signals_df[\"SMA100\"][short_window:], 1.0, 0.0\n",
    ")\n",
    "signals_df['Entry/Exit'] = signals_df['Signal'].diff()\n",
    "signals_df.tail(10)"
   ]
  },
  {
   "cell_type": "code",
   "execution_count": null,
   "metadata": {},
   "outputs": [],
   "source": []
  }
 ]
}