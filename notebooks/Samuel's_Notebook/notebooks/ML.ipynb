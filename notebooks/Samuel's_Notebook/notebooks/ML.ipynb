{
 "metadata": {
  "language_info": {
   "codemirror_mode": {
    "name": "ipython",
    "version": 3
   },
   "file_extension": ".py",
   "mimetype": "text/x-python",
   "name": "python",
   "nbconvert_exporter": "python",
   "pygments_lexer": "ipython3",
   "version": "3.8.5"
  },
  "orig_nbformat": 2,
  "kernelspec": {
   "name": "python3",
   "display_name": "Python 3.8.5 64-bit ('base': conda)",
   "metadata": {
    "interpreter": {
     "hash": "11ef2bb442b8455a3e6b82f3202efe5c7a01a00a0939705f79f87b65f8f45715"
    }
   }
  }
 },
 "nbformat": 4,
 "nbformat_minor": 2,
 "cells": [
  {
   "cell_type": "code",
   "execution_count": 1,
   "metadata": {},
   "outputs": [],
   "source": [
    "import os\n",
    "import numpy as np\n",
    "import pandas as pd\n",
    "from pathlib import Path\n",
    "from dotenv import load_dotenv\n",
    "import alpaca_trade_api as tradeapi\n",
    "import numpy as np\n",
    "import requests\n",
    "%matplotlib inline"
   ]
  },
  {
   "cell_type": "code",
   "execution_count": 2,
   "metadata": {},
   "outputs": [
    {
     "output_type": "execute_result",
     "data": {
      "text/plain": [
       "True"
      ]
     },
     "metadata": {},
     "execution_count": 2
    }
   ],
   "source": [
    "load_dotenv()"
   ]
  },
  {
   "cell_type": "code",
   "execution_count": 3,
   "metadata": {},
   "outputs": [],
   "source": [
    "alpaca_api_key = os.getenv(\"ALPACA_API_KEY\")\n",
    "alpaca_secret_key = os.getenv(\"ALPACA_SECRET_KEY\")\n",
    "alpaca = tradeapi.REST(\n",
    "    alpaca_api_key,\n",
    "    alpaca_secret_key,\n",
    "    api_version=\"v2\")\n",
    "#print(alpaca_api_key)"
   ]
  },
  {
   "cell_type": "code",
   "execution_count": 17,
   "metadata": {},
   "outputs": [
    {
     "output_type": "execute_result",
     "data": {
      "text/plain": [
       "                             AAPL                                        \n",
       "                             open      high       low     close    volume\n",
       "time                                                                     \n",
       "2020-01-02 00:00:00-05:00  296.24  300.6000  295.1900  300.5800  30589026\n",
       "2020-01-03 00:00:00-05:00  297.15  300.5800  296.5000  297.3800  31609363\n",
       "2020-01-06 00:00:00-05:00  293.79  299.9600  292.7500  299.7800  27487207\n",
       "2020-01-07 00:00:00-05:00  299.84  300.9000  297.4800  298.2700  24353387\n",
       "2020-01-08 00:00:00-05:00  297.16  304.4399  297.1560  303.1500  28984028\n",
       "2020-01-09 00:00:00-05:00  307.25  310.4300  306.2000  309.7100  38540792\n",
       "2020-01-10 00:00:00-05:00  310.60  312.6700  308.2500  310.3700  32304453\n",
       "2020-01-13 00:00:00-05:00  311.66  317.0700  311.1500  316.9700  27840727\n",
       "2020-01-14 00:00:00-05:00  316.70  317.5700  312.1700  312.6900  37279469\n",
       "2020-01-15 00:00:00-05:00  311.85  315.5000  309.5500  311.5000  27936506\n",
       "2020-01-16 00:00:00-05:00  313.59  315.7000  312.0900  315.3300  24013095\n",
       "2020-01-17 00:00:00-05:00  316.27  318.7400  315.0000  318.6700  30627564\n",
       "2020-01-21 00:00:00-05:00  317.19  319.0200  316.0000  316.5500  44685529\n",
       "2020-01-22 00:00:00-05:00  318.75  319.9900  317.3100  317.7000  44852758\n",
       "2020-01-23 00:00:00-05:00  317.86  319.5600  315.6500  319.2899  41293070\n",
       "2020-01-24 00:00:00-05:00  320.25  323.3300  317.5188  318.3300  67508467\n",
       "2020-01-27 00:00:00-05:00  310.06  311.7700  304.8800  308.9600  35383266\n",
       "2020-01-28 00:00:00-05:00  312.60  318.4000  312.1900  317.7600  30754951\n",
       "2020-01-29 00:00:00-05:00  324.45  327.8500  321.3800  324.3200  49204103\n",
       "2020-01-30 00:00:00-05:00  320.65  324.0900  318.7500  323.8762  29239643"
      ],
      "text/html": "<div>\n<style scoped>\n    .dataframe tbody tr th:only-of-type {\n        vertical-align: middle;\n    }\n\n    .dataframe tbody tr th {\n        vertical-align: top;\n    }\n\n    .dataframe thead tr th {\n        text-align: left;\n    }\n\n    .dataframe thead tr:last-of-type th {\n        text-align: right;\n    }\n</style>\n<table border=\"1\" class=\"dataframe\">\n  <thead>\n    <tr>\n      <th></th>\n      <th colspan=\"5\" halign=\"left\">AAPL</th>\n    </tr>\n    <tr>\n      <th></th>\n      <th>open</th>\n      <th>high</th>\n      <th>low</th>\n      <th>close</th>\n      <th>volume</th>\n    </tr>\n    <tr>\n      <th>time</th>\n      <th></th>\n      <th></th>\n      <th></th>\n      <th></th>\n      <th></th>\n    </tr>\n  </thead>\n  <tbody>\n    <tr>\n      <th>2020-01-02 00:00:00-05:00</th>\n      <td>296.24</td>\n      <td>300.6000</td>\n      <td>295.1900</td>\n      <td>300.5800</td>\n      <td>30589026</td>\n    </tr>\n    <tr>\n      <th>2020-01-03 00:00:00-05:00</th>\n      <td>297.15</td>\n      <td>300.5800</td>\n      <td>296.5000</td>\n      <td>297.3800</td>\n      <td>31609363</td>\n    </tr>\n    <tr>\n      <th>2020-01-06 00:00:00-05:00</th>\n      <td>293.79</td>\n      <td>299.9600</td>\n      <td>292.7500</td>\n      <td>299.7800</td>\n      <td>27487207</td>\n    </tr>\n    <tr>\n      <th>2020-01-07 00:00:00-05:00</th>\n      <td>299.84</td>\n      <td>300.9000</td>\n      <td>297.4800</td>\n      <td>298.2700</td>\n      <td>24353387</td>\n    </tr>\n    <tr>\n      <th>2020-01-08 00:00:00-05:00</th>\n      <td>297.16</td>\n      <td>304.4399</td>\n      <td>297.1560</td>\n      <td>303.1500</td>\n      <td>28984028</td>\n    </tr>\n    <tr>\n      <th>2020-01-09 00:00:00-05:00</th>\n      <td>307.25</td>\n      <td>310.4300</td>\n      <td>306.2000</td>\n      <td>309.7100</td>\n      <td>38540792</td>\n    </tr>\n    <tr>\n      <th>2020-01-10 00:00:00-05:00</th>\n      <td>310.60</td>\n      <td>312.6700</td>\n      <td>308.2500</td>\n      <td>310.3700</td>\n      <td>32304453</td>\n    </tr>\n    <tr>\n      <th>2020-01-13 00:00:00-05:00</th>\n      <td>311.66</td>\n      <td>317.0700</td>\n      <td>311.1500</td>\n      <td>316.9700</td>\n      <td>27840727</td>\n    </tr>\n    <tr>\n      <th>2020-01-14 00:00:00-05:00</th>\n      <td>316.70</td>\n      <td>317.5700</td>\n      <td>312.1700</td>\n      <td>312.6900</td>\n      <td>37279469</td>\n    </tr>\n    <tr>\n      <th>2020-01-15 00:00:00-05:00</th>\n      <td>311.85</td>\n      <td>315.5000</td>\n      <td>309.5500</td>\n      <td>311.5000</td>\n      <td>27936506</td>\n    </tr>\n    <tr>\n      <th>2020-01-16 00:00:00-05:00</th>\n      <td>313.59</td>\n      <td>315.7000</td>\n      <td>312.0900</td>\n      <td>315.3300</td>\n      <td>24013095</td>\n    </tr>\n    <tr>\n      <th>2020-01-17 00:00:00-05:00</th>\n      <td>316.27</td>\n      <td>318.7400</td>\n      <td>315.0000</td>\n      <td>318.6700</td>\n      <td>30627564</td>\n    </tr>\n    <tr>\n      <th>2020-01-21 00:00:00-05:00</th>\n      <td>317.19</td>\n      <td>319.0200</td>\n      <td>316.0000</td>\n      <td>316.5500</td>\n      <td>44685529</td>\n    </tr>\n    <tr>\n      <th>2020-01-22 00:00:00-05:00</th>\n      <td>318.75</td>\n      <td>319.9900</td>\n      <td>317.3100</td>\n      <td>317.7000</td>\n      <td>44852758</td>\n    </tr>\n    <tr>\n      <th>2020-01-23 00:00:00-05:00</th>\n      <td>317.86</td>\n      <td>319.5600</td>\n      <td>315.6500</td>\n      <td>319.2899</td>\n      <td>41293070</td>\n    </tr>\n    <tr>\n      <th>2020-01-24 00:00:00-05:00</th>\n      <td>320.25</td>\n      <td>323.3300</td>\n      <td>317.5188</td>\n      <td>318.3300</td>\n      <td>67508467</td>\n    </tr>\n    <tr>\n      <th>2020-01-27 00:00:00-05:00</th>\n      <td>310.06</td>\n      <td>311.7700</td>\n      <td>304.8800</td>\n      <td>308.9600</td>\n      <td>35383266</td>\n    </tr>\n    <tr>\n      <th>2020-01-28 00:00:00-05:00</th>\n      <td>312.60</td>\n      <td>318.4000</td>\n      <td>312.1900</td>\n      <td>317.7600</td>\n      <td>30754951</td>\n    </tr>\n    <tr>\n      <th>2020-01-29 00:00:00-05:00</th>\n      <td>324.45</td>\n      <td>327.8500</td>\n      <td>321.3800</td>\n      <td>324.3200</td>\n      <td>49204103</td>\n    </tr>\n    <tr>\n      <th>2020-01-30 00:00:00-05:00</th>\n      <td>320.65</td>\n      <td>324.0900</td>\n      <td>318.7500</td>\n      <td>323.8762</td>\n      <td>29239643</td>\n    </tr>\n  </tbody>\n</table>\n</div>"
     },
     "metadata": {},
     "execution_count": 17
    }
   ],
   "source": [
    "#15Min interval\n",
    "timeframe = \"1D\"\n",
    "start_date = pd.Timestamp(\"2020-01-01\", tz=\"America/New_York\").isoformat()\n",
    "end_date = pd.Timestamp(\"2021-12-31\", tz=\"America/New_York\").isoformat()\n",
    "#today = pd.Timestamp(\"2021-01-02\", tz=\"America/New_York\").isoformat()\n",
    "ticker = [\"AAPL\"]\n",
    "apple_ticker = alpaca.get_barset(\n",
    "    ticker,\n",
    "    timeframe,\n",
    "    start=start_date,\n",
    "    end=end_date,\n",
    "    limit=1000,\n",
    ").df\n",
    "apple_ticker.dropna(inplace=True)\n",
    "apple_ticker.head(20)"
   ]
  },
  {
   "cell_type": "code",
   "execution_count": 41,
   "metadata": {},
   "outputs": [
    {
     "output_type": "execute_result",
     "data": {
      "text/plain": [
       "             Apple   returns    lagged\n",
       "2021-06-28  134.75  1.232064 -0.217391\n",
       "2021-06-29  136.33  1.172542  1.232064\n",
       "2021-06-30  136.94  0.447444  1.172542\n",
       "2021-07-01  137.27  0.240981  0.447444\n",
       "2021-07-02  139.96  1.959642  0.240981"
      ],
      "text/html": "<div>\n<style scoped>\n    .dataframe tbody tr th:only-of-type {\n        vertical-align: middle;\n    }\n\n    .dataframe tbody tr th {\n        vertical-align: top;\n    }\n\n    .dataframe thead th {\n        text-align: right;\n    }\n</style>\n<table border=\"1\" class=\"dataframe\">\n  <thead>\n    <tr style=\"text-align: right;\">\n      <th></th>\n      <th>Apple</th>\n      <th>returns</th>\n      <th>lagged</th>\n    </tr>\n  </thead>\n  <tbody>\n    <tr>\n      <th>2021-06-28</th>\n      <td>134.75</td>\n      <td>1.232064</td>\n      <td>-0.217391</td>\n    </tr>\n    <tr>\n      <th>2021-06-29</th>\n      <td>136.33</td>\n      <td>1.172542</td>\n      <td>1.232064</td>\n    </tr>\n    <tr>\n      <th>2021-06-30</th>\n      <td>136.94</td>\n      <td>0.447444</td>\n      <td>1.172542</td>\n    </tr>\n    <tr>\n      <th>2021-07-01</th>\n      <td>137.27</td>\n      <td>0.240981</td>\n      <td>0.447444</td>\n    </tr>\n    <tr>\n      <th>2021-07-02</th>\n      <td>139.96</td>\n      <td>1.959642</td>\n      <td>0.240981</td>\n    </tr>\n  </tbody>\n</table>\n</div>"
     },
     "metadata": {},
     "execution_count": 41
    }
   ],
   "source": [
    "apple_df = pd.DataFrame()\n",
    "apple_df[\"Apple\"] = apple_ticker[\"AAPL\"][\"close\"]\n",
    "apple_df.index = apple_df.index.date \n",
    "apple_df[\"returns\"] = apple_df.pct_change()*100\n",
    "apple_df = apple_df.replace(-np.inf, np.nan).dropna()\n",
    "apple_df[\"lagged\"] = apple_df[\"returns\"].shift()\n",
    "apple_df.dropna(inplace=True)\n",
    "apple_df.tail()"
   ]
  },
  {
   "cell_type": "code",
   "execution_count": 42,
   "metadata": {},
   "outputs": [
    {
     "output_type": "execute_result",
     "data": {
      "text/plain": [
       "             Apple   returns    lagged\n",
       "2020-01-06  299.78  0.807048 -1.064608\n",
       "2020-01-07  298.27 -0.503703  0.807048\n",
       "2020-01-08  303.15  1.636102 -0.503703\n",
       "2020-01-09  309.71  2.163945  1.636102\n",
       "2020-01-10  310.37  0.213103  2.163945\n",
       "...            ...       ...       ...\n",
       "2021-06-28  134.75  1.232064 -0.217391\n",
       "2021-06-29  136.33  1.172542  1.232064\n",
       "2021-06-30  136.94  0.447444  1.172542\n",
       "2021-07-01  137.27  0.240981  0.447444\n",
       "2021-07-02  139.96  1.959642  0.240981\n",
       "\n",
       "[377 rows x 3 columns]"
      ],
      "text/html": "<div>\n<style scoped>\n    .dataframe tbody tr th:only-of-type {\n        vertical-align: middle;\n    }\n\n    .dataframe tbody tr th {\n        vertical-align: top;\n    }\n\n    .dataframe thead th {\n        text-align: right;\n    }\n</style>\n<table border=\"1\" class=\"dataframe\">\n  <thead>\n    <tr style=\"text-align: right;\">\n      <th></th>\n      <th>Apple</th>\n      <th>returns</th>\n      <th>lagged</th>\n    </tr>\n  </thead>\n  <tbody>\n    <tr>\n      <th>2020-01-06</th>\n      <td>299.78</td>\n      <td>0.807048</td>\n      <td>-1.064608</td>\n    </tr>\n    <tr>\n      <th>2020-01-07</th>\n      <td>298.27</td>\n      <td>-0.503703</td>\n      <td>0.807048</td>\n    </tr>\n    <tr>\n      <th>2020-01-08</th>\n      <td>303.15</td>\n      <td>1.636102</td>\n      <td>-0.503703</td>\n    </tr>\n    <tr>\n      <th>2020-01-09</th>\n      <td>309.71</td>\n      <td>2.163945</td>\n      <td>1.636102</td>\n    </tr>\n    <tr>\n      <th>2020-01-10</th>\n      <td>310.37</td>\n      <td>0.213103</td>\n      <td>2.163945</td>\n    </tr>\n    <tr>\n      <th>...</th>\n      <td>...</td>\n      <td>...</td>\n      <td>...</td>\n    </tr>\n    <tr>\n      <th>2021-06-28</th>\n      <td>134.75</td>\n      <td>1.232064</td>\n      <td>-0.217391</td>\n    </tr>\n    <tr>\n      <th>2021-06-29</th>\n      <td>136.33</td>\n      <td>1.172542</td>\n      <td>1.232064</td>\n    </tr>\n    <tr>\n      <th>2021-06-30</th>\n      <td>136.94</td>\n      <td>0.447444</td>\n      <td>1.172542</td>\n    </tr>\n    <tr>\n      <th>2021-07-01</th>\n      <td>137.27</td>\n      <td>0.240981</td>\n      <td>0.447444</td>\n    </tr>\n    <tr>\n      <th>2021-07-02</th>\n      <td>139.96</td>\n      <td>1.959642</td>\n      <td>0.240981</td>\n    </tr>\n  </tbody>\n</table>\n<p>377 rows × 3 columns</p>\n</div>"
     },
     "metadata": {},
     "execution_count": 42
    }
   ],
   "source": [
    "apple_df.rename_axis(index=None)\n",
    "#apple_df[\"Date\"] = apple_df[\"index\"]\n",
    "#apple_df[\"index\"].head()\n",
    "#apple_df.to_csv(\"test3.csv\")\n",
    "apple_df"
   ]
  },
  {
   "cell_type": "code",
   "execution_count": null,
   "metadata": {},
   "outputs": [],
   "source": []
  },
  {
   "cell_type": "code",
   "execution_count": 22,
   "metadata": {},
   "outputs": [
    {
     "output_type": "error",
     "ename": "NameError",
     "evalue": "name 'train' is not defined",
     "traceback": [
      "\u001b[0;31m---------------------------------------------------------------------------\u001b[0m",
      "\u001b[0;31mNameError\u001b[0m                                 Traceback (most recent call last)",
      "\u001b[0;32m<ipython-input-22-d5d05b2687a1>\u001b[0m in \u001b[0;36m<module>\u001b[0;34m\u001b[0m\n\u001b[0;32m----> 1\u001b[0;31m \u001b[0mX_train\u001b[0m \u001b[0;34m=\u001b[0m \u001b[0mtrain\u001b[0m\u001b[0;34m[\u001b[0m\u001b[0;34m\"lagged\"\u001b[0m\u001b[0;34m]\u001b[0m\u001b[0;34m.\u001b[0m\u001b[0mto_frame\u001b[0m\u001b[0;34m(\u001b[0m\u001b[0;34m)\u001b[0m\u001b[0;34m\u001b[0m\u001b[0;34m\u001b[0m\u001b[0m\n\u001b[0m\u001b[1;32m      2\u001b[0m \u001b[0mX_test\u001b[0m \u001b[0;34m=\u001b[0m \u001b[0mtest\u001b[0m\u001b[0;34m[\u001b[0m\u001b[0;34m\"lagged\"\u001b[0m\u001b[0;34m]\u001b[0m\u001b[0;34m.\u001b[0m\u001b[0mto_frame\u001b[0m\u001b[0;34m(\u001b[0m\u001b[0;34m)\u001b[0m\u001b[0;34m\u001b[0m\u001b[0;34m\u001b[0m\u001b[0m\n\u001b[1;32m      3\u001b[0m \u001b[0my_train\u001b[0m \u001b[0;34m=\u001b[0m \u001b[0mtrain\u001b[0m\u001b[0;34m[\u001b[0m\u001b[0;34m\"returns\"\u001b[0m\u001b[0;34m]\u001b[0m\u001b[0;34m\u001b[0m\u001b[0;34m\u001b[0m\u001b[0m\n\u001b[1;32m      4\u001b[0m \u001b[0my_test\u001b[0m \u001b[0;34m=\u001b[0m \u001b[0mtest\u001b[0m\u001b[0;34m[\u001b[0m\u001b[0;34m\"returns\"\u001b[0m\u001b[0;34m]\u001b[0m\u001b[0;34m\u001b[0m\u001b[0;34m\u001b[0m\u001b[0m\n",
      "\u001b[0;31mNameError\u001b[0m: name 'train' is not defined"
     ]
    }
   ],
   "source": [
    "X_train = train[\"lagged\"].to_frame()\n",
    "X_test = test[\"lagged\"].to_frame()\n",
    "y_train = train[\"returns\"]\n",
    "y_test = test[\"returns\"]"
   ]
  },
  {
   "cell_type": "code",
   "execution_count": null,
   "metadata": {},
   "outputs": [],
   "source": []
  }
 ]
}