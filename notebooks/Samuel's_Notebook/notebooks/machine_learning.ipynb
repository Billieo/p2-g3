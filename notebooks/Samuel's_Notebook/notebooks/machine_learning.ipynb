{
 "metadata": {
  "language_info": {
   "codemirror_mode": {
    "name": "ipython",
    "version": 3
   },
   "file_extension": ".py",
   "mimetype": "text/x-python",
   "name": "python",
   "nbconvert_exporter": "python",
   "pygments_lexer": "ipython3",
   "version": "3.8.5"
  },
  "orig_nbformat": 2,
  "kernelspec": {
   "name": "python3",
   "display_name": "Python 3.8.5 64-bit ('base': conda)",
   "metadata": {
    "interpreter": {
     "hash": "11ef2bb442b8455a3e6b82f3202efe5c7a01a00a0939705f79f87b65f8f45715"
    }
   }
  }
 },
 "nbformat": 4,
 "nbformat_minor": 2,
 "cells": [
  {
   "cell_type": "code",
   "execution_count": 55,
   "metadata": {},
   "outputs": [],
   "source": [
    "import os\n",
    "import numpy as np\n",
    "import pandas as pd\n",
    "from pathlib import Path\n",
    "from dotenv import load_dotenv\n",
    "import alpaca_trade_api as tradeapi\n",
    "from newsapi import NewsApiClient\n",
    "from datetime import datetime, timedelta\n",
    "import numpy as np\n",
    "from numpy.random import seed\n",
    "seed(1)\n",
    "import requests\n",
    "from tensorflow import random\n",
    "from sklearn.preprocessing import StandardScaler\n",
    "from sklearn.decomposition import PCA\n",
    "from sklearn.cluster import KMeans\n",
    "import hvplot.pandas\n",
    "import plotly.express as px\n",
    "random.set_seed(2)\n",
    "#import nltk as nltk\n",
    "#nltk.download('vader_lexicon')\n",
    "#from nltk.sentiment.vader import SentimentIntensityAnalyzer\n",
    "#analyzer = SentimentIntensityAnalyzer()\n",
    "#from nltk.corpus import stopwords, reuters\n",
    "import hvplot.pandas\n",
    "%matplotlib inline"
   ]
  },
  {
   "cell_type": "code",
   "execution_count": 56,
   "metadata": {},
   "outputs": [
    {
     "output_type": "execute_result",
     "data": {
      "text/plain": [
       "True"
      ]
     },
     "metadata": {},
     "execution_count": 56
    }
   ],
   "source": [
    "load_dotenv()"
   ]
  },
  {
   "cell_type": "code",
   "execution_count": 57,
   "metadata": {},
   "outputs": [],
   "source": [
    "alpaca_api_key = os.getenv(\"ALPACA_API_KEY\")\n",
    "alpaca_secret_key = os.getenv(\"ALPACA_SECRET_KEY\")\n",
    "alpaca = tradeapi.REST(\n",
    "    alpaca_api_key,\n",
    "    alpaca_secret_key,\n",
    "    api_version=\"v2\")\n",
    "#print(alpaca_api_key)"
   ]
  },
  {
   "cell_type": "code",
   "execution_count": 58,
   "metadata": {},
   "outputs": [],
   "source": [
    "api_key = os.getenv(\"news_api\")\n",
    "#print(api_key)"
   ]
  },
  {
   "cell_type": "code",
   "execution_count": 59,
   "metadata": {},
   "outputs": [],
   "source": [
    "newsapi = NewsApiClient(api_key=api_key)"
   ]
  },
  {
   "cell_type": "code",
   "execution_count": 60,
   "metadata": {},
   "outputs": [
    {
     "output_type": "execute_result",
     "data": {
      "text/plain": [
       "                             AAPL                                      \n",
       "                             open      high     low     close    volume\n",
       "time                                                                   \n",
       "2019-01-02 00:00:00-05:00  154.89  158.8500  154.23  157.5225  27803621\n",
       "2019-01-03 00:00:00-05:00  143.98  145.7200  142.00  142.2900  82418448\n",
       "2019-01-04 00:00:00-05:00  144.53  148.5499  143.80  148.1200  51267225\n",
       "2019-01-07 00:00:00-05:00  148.70  148.8300  145.90  147.9100  49982480\n",
       "2019-01-08 00:00:00-05:00  149.56  151.8200  148.52  150.6300  36592406"
      ],
      "text/html": "<div>\n<style scoped>\n    .dataframe tbody tr th:only-of-type {\n        vertical-align: middle;\n    }\n\n    .dataframe tbody tr th {\n        vertical-align: top;\n    }\n\n    .dataframe thead tr th {\n        text-align: left;\n    }\n\n    .dataframe thead tr:last-of-type th {\n        text-align: right;\n    }\n</style>\n<table border=\"1\" class=\"dataframe\">\n  <thead>\n    <tr>\n      <th></th>\n      <th colspan=\"5\" halign=\"left\">AAPL</th>\n    </tr>\n    <tr>\n      <th></th>\n      <th>open</th>\n      <th>high</th>\n      <th>low</th>\n      <th>close</th>\n      <th>volume</th>\n    </tr>\n    <tr>\n      <th>time</th>\n      <th></th>\n      <th></th>\n      <th></th>\n      <th></th>\n      <th></th>\n    </tr>\n  </thead>\n  <tbody>\n    <tr>\n      <th>2019-01-02 00:00:00-05:00</th>\n      <td>154.89</td>\n      <td>158.8500</td>\n      <td>154.23</td>\n      <td>157.5225</td>\n      <td>27803621</td>\n    </tr>\n    <tr>\n      <th>2019-01-03 00:00:00-05:00</th>\n      <td>143.98</td>\n      <td>145.7200</td>\n      <td>142.00</td>\n      <td>142.2900</td>\n      <td>82418448</td>\n    </tr>\n    <tr>\n      <th>2019-01-04 00:00:00-05:00</th>\n      <td>144.53</td>\n      <td>148.5499</td>\n      <td>143.80</td>\n      <td>148.1200</td>\n      <td>51267225</td>\n    </tr>\n    <tr>\n      <th>2019-01-07 00:00:00-05:00</th>\n      <td>148.70</td>\n      <td>148.8300</td>\n      <td>145.90</td>\n      <td>147.9100</td>\n      <td>49982480</td>\n    </tr>\n    <tr>\n      <th>2019-01-08 00:00:00-05:00</th>\n      <td>149.56</td>\n      <td>151.8200</td>\n      <td>148.52</td>\n      <td>150.6300</td>\n      <td>36592406</td>\n    </tr>\n  </tbody>\n</table>\n</div>"
     },
     "metadata": {},
     "execution_count": 60
    }
   ],
   "source": [
    "#15Min interval\n",
    "timeframe = \"1D\"\n",
    "start_date = pd.Timestamp(\"2019-01-01\", tz=\"America/New_York\").isoformat()\n",
    "end_date = pd.Timestamp(\"2021-12-31\", tz=\"America/New_York\").isoformat()\n",
    "#today = pd.Timestamp(\"2021-01-02\", tz=\"America/New_York\").isoformat()\n",
    "ticker = [\"AAPL\"]\n",
    "nasdaq_ticker = alpaca.get_barset(\n",
    "    ticker,\n",
    "    timeframe,\n",
    "    start=start_date,\n",
    "    end=end_date,\n",
    "    limit=1000,\n",
    ").df\n",
    "nasdaq_ticker.dropna(inplace=True)\n",
    "nasdaq_ticker.head(5)\n",
    "#apple_ticker.dropna(inplace=True)"
   ]
  },
  {
   "cell_type": "code",
   "execution_count": 61,
   "metadata": {},
   "outputs": [
    {
     "output_type": "execute_result",
     "data": {
      "text/plain": [
       "               Apple\n",
       "2019-01-02  157.5225\n",
       "2019-01-03  142.2900\n",
       "2019-01-04  148.1200\n",
       "2019-01-07  147.9100\n",
       "2019-01-08  150.6300"
      ],
      "text/html": "<div>\n<style scoped>\n    .dataframe tbody tr th:only-of-type {\n        vertical-align: middle;\n    }\n\n    .dataframe tbody tr th {\n        vertical-align: top;\n    }\n\n    .dataframe thead th {\n        text-align: right;\n    }\n</style>\n<table border=\"1\" class=\"dataframe\">\n  <thead>\n    <tr style=\"text-align: right;\">\n      <th></th>\n      <th>Apple</th>\n    </tr>\n  </thead>\n  <tbody>\n    <tr>\n      <th>2019-01-02</th>\n      <td>157.5225</td>\n    </tr>\n    <tr>\n      <th>2019-01-03</th>\n      <td>142.2900</td>\n    </tr>\n    <tr>\n      <th>2019-01-04</th>\n      <td>148.1200</td>\n    </tr>\n    <tr>\n      <th>2019-01-07</th>\n      <td>147.9100</td>\n    </tr>\n    <tr>\n      <th>2019-01-08</th>\n      <td>150.6300</td>\n    </tr>\n  </tbody>\n</table>\n</div>"
     },
     "metadata": {},
     "execution_count": 61
    }
   ],
   "source": [
    "tech_df = pd.DataFrame()\n",
    "#tech_df[\"NASDAQ\"] = nasdaq_ticker[\"NDAQ\"][\"close\"]\n",
    "tech_df[\"Apple\"] = nasdaq_ticker[\"AAPL\"][\"close\"]\n",
    "#tech_df[\"Google\"] = nasdaq_ticker[\"GOOGL\"][\"close\"]\n",
    "#tech_df[\"Facebook\"] = nasdaq_ticker[\"FB\"][\"close\"]\n",
    "#apple_df = apple_df.pct_change().dropna()\n",
    "tech_df.index = tech_df.index.date \n",
    "tech_df.dropna(inplace=True)\n",
    "tech_df.head()"
   ]
  },
  {
   "cell_type": "code",
   "execution_count": 62,
   "metadata": {},
   "outputs": [
    {
     "output_type": "execute_result",
     "data": {
      "text/plain": [
       "               Apple\n",
       "2019-01-03 -0.096700\n",
       "2019-01-04  0.040973\n",
       "2019-01-07 -0.001418\n",
       "2019-01-08  0.018390\n",
       "2019-01-09  0.018190"
      ],
      "text/html": "<div>\n<style scoped>\n    .dataframe tbody tr th:only-of-type {\n        vertical-align: middle;\n    }\n\n    .dataframe tbody tr th {\n        vertical-align: top;\n    }\n\n    .dataframe thead th {\n        text-align: right;\n    }\n</style>\n<table border=\"1\" class=\"dataframe\">\n  <thead>\n    <tr style=\"text-align: right;\">\n      <th></th>\n      <th>Apple</th>\n    </tr>\n  </thead>\n  <tbody>\n    <tr>\n      <th>2019-01-03</th>\n      <td>-0.096700</td>\n    </tr>\n    <tr>\n      <th>2019-01-04</th>\n      <td>0.040973</td>\n    </tr>\n    <tr>\n      <th>2019-01-07</th>\n      <td>-0.001418</td>\n    </tr>\n    <tr>\n      <th>2019-01-08</th>\n      <td>0.018390</td>\n    </tr>\n    <tr>\n      <th>2019-01-09</th>\n      <td>0.018190</td>\n    </tr>\n  </tbody>\n</table>\n</div>"
     },
     "metadata": {},
     "execution_count": 62
    }
   ],
   "source": [
    "tech_returns = tech_df.pct_change().dropna()\n",
    "tech_returns.head()"
   ]
  },
  {
   "cell_type": "code",
   "execution_count": 63,
   "metadata": {},
   "outputs": [
    {
     "output_type": "execute_result",
     "data": {
      "text/plain": [
       "            Cushing, OK WTI Spot Price FOB (Dollars per Barrel)\n",
       "Date                                                           \n",
       "1986-01-02                                              25.56  \n",
       "1986-01-03                                              26.00  \n",
       "1986-01-06                                              26.53  \n",
       "1986-01-07                                              25.85  \n",
       "1986-01-08                                              25.87  "
      ],
      "text/html": "<div>\n<style scoped>\n    .dataframe tbody tr th:only-of-type {\n        vertical-align: middle;\n    }\n\n    .dataframe tbody tr th {\n        vertical-align: top;\n    }\n\n    .dataframe thead th {\n        text-align: right;\n    }\n</style>\n<table border=\"1\" class=\"dataframe\">\n  <thead>\n    <tr style=\"text-align: right;\">\n      <th></th>\n      <th>Cushing, OK WTI Spot Price FOB (Dollars per Barrel)</th>\n    </tr>\n    <tr>\n      <th>Date</th>\n      <th></th>\n    </tr>\n  </thead>\n  <tbody>\n    <tr>\n      <th>1986-01-02</th>\n      <td>25.56</td>\n    </tr>\n    <tr>\n      <th>1986-01-03</th>\n      <td>26.00</td>\n    </tr>\n    <tr>\n      <th>1986-01-06</th>\n      <td>26.53</td>\n    </tr>\n    <tr>\n      <th>1986-01-07</th>\n      <td>25.85</td>\n    </tr>\n    <tr>\n      <th>1986-01-08</th>\n      <td>25.87</td>\n    </tr>\n  </tbody>\n</table>\n</div>"
     },
     "metadata": {},
     "execution_count": 63
    }
   ],
   "source": [
    "csv_path = Path(\"../csvs/Book1.csv/\")\n",
    "oil_data = pd.read_csv(csv_path, index_col=\"Date\", parse_dates=True, infer_datetime_format=True)\n",
    "oil_data.sort_index(ascending = True, inplace = True)\n",
    "oil_data.head()"
   ]
  },
  {
   "cell_type": "code",
   "execution_count": 64,
   "metadata": {},
   "outputs": [],
   "source": [
    "oil = pd.DataFrame()\n",
    "oil[\"DPB\"] = oil_data[\"Cushing, OK WTI Spot Price FOB (Dollars per Barrel)\"]"
   ]
  },
  {
   "cell_type": "code",
   "execution_count": 65,
   "metadata": {},
   "outputs": [
    {
     "output_type": "execute_result",
     "data": {
      "text/plain": [
       "              DPB\n",
       "Date             \n",
       "1986-01-02  25.56\n",
       "1986-01-03  26.00\n",
       "1986-01-06  26.53\n",
       "1986-01-07  25.85\n",
       "1986-01-08  25.87"
      ],
      "text/html": "<div>\n<style scoped>\n    .dataframe tbody tr th:only-of-type {\n        vertical-align: middle;\n    }\n\n    .dataframe tbody tr th {\n        vertical-align: top;\n    }\n\n    .dataframe thead th {\n        text-align: right;\n    }\n</style>\n<table border=\"1\" class=\"dataframe\">\n  <thead>\n    <tr style=\"text-align: right;\">\n      <th></th>\n      <th>DPB</th>\n    </tr>\n    <tr>\n      <th>Date</th>\n      <th></th>\n    </tr>\n  </thead>\n  <tbody>\n    <tr>\n      <th>1986-01-02</th>\n      <td>25.56</td>\n    </tr>\n    <tr>\n      <th>1986-01-03</th>\n      <td>26.00</td>\n    </tr>\n    <tr>\n      <th>1986-01-06</th>\n      <td>26.53</td>\n    </tr>\n    <tr>\n      <th>1986-01-07</th>\n      <td>25.85</td>\n    </tr>\n    <tr>\n      <th>1986-01-08</th>\n      <td>25.87</td>\n    </tr>\n  </tbody>\n</table>\n</div>"
     },
     "metadata": {},
     "execution_count": 65
    }
   ],
   "source": [
    "oil.head()"
   ]
  },
  {
   "cell_type": "code",
   "execution_count": 66,
   "metadata": {},
   "outputs": [
    {
     "output_type": "execute_result",
     "data": {
      "text/plain": [
       "            New Cases  7-Day Moving Avg  Historic Cases\n",
       "Date                                                   \n",
       "2020-01-26          3                 6               0\n",
       "2020-01-25          3                 5               0\n",
       "2020-01-24          1                 5               0\n",
       "2020-01-23          2                 5               0\n",
       "2020-01-22         33                 4               0"
      ],
      "text/html": "<div>\n<style scoped>\n    .dataframe tbody tr th:only-of-type {\n        vertical-align: middle;\n    }\n\n    .dataframe tbody tr th {\n        vertical-align: top;\n    }\n\n    .dataframe thead th {\n        text-align: right;\n    }\n</style>\n<table border=\"1\" class=\"dataframe\">\n  <thead>\n    <tr style=\"text-align: right;\">\n      <th></th>\n      <th>New Cases</th>\n      <th>7-Day Moving Avg</th>\n      <th>Historic Cases</th>\n    </tr>\n    <tr>\n      <th>Date</th>\n      <th></th>\n      <th></th>\n      <th></th>\n    </tr>\n  </thead>\n  <tbody>\n    <tr>\n      <th>2020-01-26</th>\n      <td>3</td>\n      <td>6</td>\n      <td>0</td>\n    </tr>\n    <tr>\n      <th>2020-01-25</th>\n      <td>3</td>\n      <td>5</td>\n      <td>0</td>\n    </tr>\n    <tr>\n      <th>2020-01-24</th>\n      <td>1</td>\n      <td>5</td>\n      <td>0</td>\n    </tr>\n    <tr>\n      <th>2020-01-23</th>\n      <td>2</td>\n      <td>5</td>\n      <td>0</td>\n    </tr>\n    <tr>\n      <th>2020-01-22</th>\n      <td>33</td>\n      <td>4</td>\n      <td>0</td>\n    </tr>\n  </tbody>\n</table>\n</div>"
     },
     "metadata": {},
     "execution_count": 66
    }
   ],
   "source": [
    "csv_path = Path(\"../csvs/covid_cases.csv/\")\n",
    "covid_data = pd.read_csv(csv_path, index_col=\"Date\", parse_dates=True, infer_datetime_format=True)\n",
    "##covid_data.sort_index(ascending = True, inplace = True)\n",
    "covid_data.tail()"
   ]
  },
  {
   "cell_type": "code",
   "execution_count": 67,
   "metadata": {},
   "outputs": [
    {
     "output_type": "execute_result",
     "data": {
      "text/plain": [
       "            US_Covid_Cases\n",
       "Date                      \n",
       "2021-07-02           15555\n",
       "2021-07-01           17911\n",
       "2021-06-30           14353\n",
       "2021-06-29           14823\n",
       "2021-06-28            8669"
      ],
      "text/html": "<div>\n<style scoped>\n    .dataframe tbody tr th:only-of-type {\n        vertical-align: middle;\n    }\n\n    .dataframe tbody tr th {\n        vertical-align: top;\n    }\n\n    .dataframe thead th {\n        text-align: right;\n    }\n</style>\n<table border=\"1\" class=\"dataframe\">\n  <thead>\n    <tr style=\"text-align: right;\">\n      <th></th>\n      <th>US_Covid_Cases</th>\n    </tr>\n    <tr>\n      <th>Date</th>\n      <th></th>\n    </tr>\n  </thead>\n  <tbody>\n    <tr>\n      <th>2021-07-02</th>\n      <td>15555</td>\n    </tr>\n    <tr>\n      <th>2021-07-01</th>\n      <td>17911</td>\n    </tr>\n    <tr>\n      <th>2021-06-30</th>\n      <td>14353</td>\n    </tr>\n    <tr>\n      <th>2021-06-29</th>\n      <td>14823</td>\n    </tr>\n    <tr>\n      <th>2021-06-28</th>\n      <td>8669</td>\n    </tr>\n  </tbody>\n</table>\n</div>"
     },
     "metadata": {},
     "execution_count": 67
    }
   ],
   "source": [
    "covid_df = pd.DataFrame()\n",
    "covid_df[\"US_Covid_Cases\"] = covid_data[\"New Cases\"]\n",
    "#covid_df[\"Date\"] = covid_data[\"Date\"]\n",
    "covid_df.head()"
   ]
  },
  {
   "cell_type": "code",
   "execution_count": 68,
   "metadata": {},
   "outputs": [
    {
     "output_type": "execute_result",
     "data": {
      "text/plain": [
       "               Apple    DPB\n",
       "2019-01-02  157.5225  46.31\n",
       "2019-01-03  142.2900  46.92\n",
       "2019-01-04  148.1200  47.76\n",
       "2019-01-07  147.9100  48.27\n",
       "2019-01-08  150.6300  49.58"
      ],
      "text/html": "<div>\n<style scoped>\n    .dataframe tbody tr th:only-of-type {\n        vertical-align: middle;\n    }\n\n    .dataframe tbody tr th {\n        vertical-align: top;\n    }\n\n    .dataframe thead th {\n        text-align: right;\n    }\n</style>\n<table border=\"1\" class=\"dataframe\">\n  <thead>\n    <tr style=\"text-align: right;\">\n      <th></th>\n      <th>Apple</th>\n      <th>DPB</th>\n    </tr>\n  </thead>\n  <tbody>\n    <tr>\n      <th>2019-01-02</th>\n      <td>157.5225</td>\n      <td>46.31</td>\n    </tr>\n    <tr>\n      <th>2019-01-03</th>\n      <td>142.2900</td>\n      <td>46.92</td>\n    </tr>\n    <tr>\n      <th>2019-01-04</th>\n      <td>148.1200</td>\n      <td>47.76</td>\n    </tr>\n    <tr>\n      <th>2019-01-07</th>\n      <td>147.9100</td>\n      <td>48.27</td>\n    </tr>\n    <tr>\n      <th>2019-01-08</th>\n      <td>150.6300</td>\n      <td>49.58</td>\n    </tr>\n  </tbody>\n</table>\n</div>"
     },
     "metadata": {},
     "execution_count": 68
    }
   ],
   "source": [
    "df = tech_df.join(oil, how=\"inner\")\n",
    "df.head()"
   ]
  },
  {
   "cell_type": "code",
   "execution_count": 69,
   "metadata": {},
   "outputs": [
    {
     "output_type": "execute_result",
     "data": {
      "text/plain": [
       "            US_Covid_Cases     Apple    DPB\n",
       "2020-01-28               1  317.7600  53.33\n",
       "2020-01-27               1  308.9600  53.09\n",
       "2020-01-24               1  318.3300  54.09\n",
       "2020-01-23               2  319.2899  55.51\n",
       "2020-01-22              33  317.7000  56.76"
      ],
      "text/html": "<div>\n<style scoped>\n    .dataframe tbody tr th:only-of-type {\n        vertical-align: middle;\n    }\n\n    .dataframe tbody tr th {\n        vertical-align: top;\n    }\n\n    .dataframe thead th {\n        text-align: right;\n    }\n</style>\n<table border=\"1\" class=\"dataframe\">\n  <thead>\n    <tr style=\"text-align: right;\">\n      <th></th>\n      <th>US_Covid_Cases</th>\n      <th>Apple</th>\n      <th>DPB</th>\n    </tr>\n  </thead>\n  <tbody>\n    <tr>\n      <th>2020-01-28</th>\n      <td>1</td>\n      <td>317.7600</td>\n      <td>53.33</td>\n    </tr>\n    <tr>\n      <th>2020-01-27</th>\n      <td>1</td>\n      <td>308.9600</td>\n      <td>53.09</td>\n    </tr>\n    <tr>\n      <th>2020-01-24</th>\n      <td>1</td>\n      <td>318.3300</td>\n      <td>54.09</td>\n    </tr>\n    <tr>\n      <th>2020-01-23</th>\n      <td>2</td>\n      <td>319.2899</td>\n      <td>55.51</td>\n    </tr>\n    <tr>\n      <th>2020-01-22</th>\n      <td>33</td>\n      <td>317.7000</td>\n      <td>56.76</td>\n    </tr>\n  </tbody>\n</table>\n</div>"
     },
     "metadata": {},
     "execution_count": 69
    }
   ],
   "source": [
    "data = covid_df.join(df, how=\"inner\")\n",
    "#data = data.join(vaccine_df, how=\"inner\")\n",
    "data.tail()"
   ]
  },
  {
   "cell_type": "code",
   "execution_count": 70,
   "metadata": {},
   "outputs": [
    {
     "output_type": "execute_result",
     "data": {
      "text/plain": [
       "               Apple      SMA10      EWMA10\n",
       "2020-01-28  317.7600  319.12262  316.410544\n",
       "2020-01-27  308.9600  317.86462  315.446075\n",
       "2020-01-24  318.3300  317.69362  315.819398\n",
       "2020-01-23  319.2899  317.10161  316.268652\n",
       "2020-01-22  317.7000  316.71361  316.453939"
      ],
      "text/html": "<div>\n<style scoped>\n    .dataframe tbody tr th:only-of-type {\n        vertical-align: middle;\n    }\n\n    .dataframe tbody tr th {\n        vertical-align: top;\n    }\n\n    .dataframe thead th {\n        text-align: right;\n    }\n</style>\n<table border=\"1\" class=\"dataframe\">\n  <thead>\n    <tr style=\"text-align: right;\">\n      <th></th>\n      <th>Apple</th>\n      <th>SMA10</th>\n      <th>EWMA10</th>\n    </tr>\n  </thead>\n  <tbody>\n    <tr>\n      <th>2020-01-28</th>\n      <td>317.7600</td>\n      <td>319.12262</td>\n      <td>316.410544</td>\n    </tr>\n    <tr>\n      <th>2020-01-27</th>\n      <td>308.9600</td>\n      <td>317.86462</td>\n      <td>315.446075</td>\n    </tr>\n    <tr>\n      <th>2020-01-24</th>\n      <td>318.3300</td>\n      <td>317.69362</td>\n      <td>315.819398</td>\n    </tr>\n    <tr>\n      <th>2020-01-23</th>\n      <td>319.2899</td>\n      <td>317.10161</td>\n      <td>316.268652</td>\n    </tr>\n    <tr>\n      <th>2020-01-22</th>\n      <td>317.7000</td>\n      <td>316.71361</td>\n      <td>316.453939</td>\n    </tr>\n  </tbody>\n</table>\n</div>"
     },
     "metadata": {},
     "execution_count": 70
    }
   ],
   "source": [
    "ewma = pd.DataFrame()\n",
    "ewma[\"Apple\"] = data[\"Apple\"]\n",
    "ewma[\"SMA10\"] = data.Apple.rolling(window=10).mean()\n",
    "ewma[\"EWMA10\"] = data[\"Apple\"].ewm(halflife=5).mean()\n",
    "ewma.tail()"
   ]
  },
  {
   "cell_type": "code",
   "execution_count": 71,
   "metadata": {},
   "outputs": [],
   "source": [
    "data = ewma.join(covid_df, how=\"inner\")\n",
    "data.dropna(inplace=True)"
   ]
  },
  {
   "cell_type": "code",
   "execution_count": 72,
   "metadata": {},
   "outputs": [
    {
     "output_type": "execute_result",
     "data": {
      "text/plain": [
       "               Apple      SMA10      EWMA10  US_Covid_Cases\n",
       "2021-06-15  129.7400  132.32800  131.737022           12891\n",
       "2021-06-14  130.4900  131.90200  131.530690            7833\n",
       "2021-06-11  127.3521  131.32621  130.863333           14362\n",
       "2021-06-10  126.1100  130.59721  130.126482           12350\n",
       "2021-06-09  127.1600  129.94321  129.678089           21517"
      ],
      "text/html": "<div>\n<style scoped>\n    .dataframe tbody tr th:only-of-type {\n        vertical-align: middle;\n    }\n\n    .dataframe tbody tr th {\n        vertical-align: top;\n    }\n\n    .dataframe thead th {\n        text-align: right;\n    }\n</style>\n<table border=\"1\" class=\"dataframe\">\n  <thead>\n    <tr style=\"text-align: right;\">\n      <th></th>\n      <th>Apple</th>\n      <th>SMA10</th>\n      <th>EWMA10</th>\n      <th>US_Covid_Cases</th>\n    </tr>\n  </thead>\n  <tbody>\n    <tr>\n      <th>2021-06-15</th>\n      <td>129.7400</td>\n      <td>132.32800</td>\n      <td>131.737022</td>\n      <td>12891</td>\n    </tr>\n    <tr>\n      <th>2021-06-14</th>\n      <td>130.4900</td>\n      <td>131.90200</td>\n      <td>131.530690</td>\n      <td>7833</td>\n    </tr>\n    <tr>\n      <th>2021-06-11</th>\n      <td>127.3521</td>\n      <td>131.32621</td>\n      <td>130.863333</td>\n      <td>14362</td>\n    </tr>\n    <tr>\n      <th>2021-06-10</th>\n      <td>126.1100</td>\n      <td>130.59721</td>\n      <td>130.126482</td>\n      <td>12350</td>\n    </tr>\n    <tr>\n      <th>2021-06-09</th>\n      <td>127.1600</td>\n      <td>129.94321</td>\n      <td>129.678089</td>\n      <td>21517</td>\n    </tr>\n  </tbody>\n</table>\n</div>"
     },
     "metadata": {},
     "execution_count": 72
    }
   ],
   "source": [
    "data.head()"
   ]
  },
  {
   "cell_type": "code",
   "execution_count": 73,
   "metadata": {},
   "outputs": [
    {
     "output_type": "stream",
     "name": "stdout",
     "text": [
      "[[-0.76645482 -0.74502525 -0.76474617 -0.81610335]\n [-0.75981788 -0.74891214 -0.76669233 -0.89242927]\n [-0.78758595 -0.75416573 -0.77298696 -0.79390576]\n [-0.79857761 -0.76081723 -0.77993708 -0.82426712]\n [-0.78928589 -0.76678442 -0.78416641 -0.68593583]]\n"
     ]
    }
   ],
   "source": [
    "data_scaled = StandardScaler().fit_transform(data)\n",
    "print(data_scaled[0:5])"
   ]
  },
  {
   "cell_type": "code",
   "execution_count": 74,
   "metadata": {},
   "outputs": [],
   "source": [
    "pca = PCA(n_components=2)\n",
    "data_pca = pca.fit_transform(data_scaled)"
   ]
  },
  {
   "cell_type": "code",
   "execution_count": 75,
   "metadata": {},
   "outputs": [
    {
     "output_type": "execute_result",
     "data": {
      "text/plain": [
       "   principal component 1  principal component 2\n",
       "0              -0.990562              -1.187820\n",
       "1              -0.966156              -1.260196\n",
       "2              -1.018585              -1.173667\n",
       "3              -1.022487              -1.206921\n",
       "4              -1.066585              -1.075897"
      ],
      "text/html": "<div>\n<style scoped>\n    .dataframe tbody tr th:only-of-type {\n        vertical-align: middle;\n    }\n\n    .dataframe tbody tr th {\n        vertical-align: top;\n    }\n\n    .dataframe thead th {\n        text-align: right;\n    }\n</style>\n<table border=\"1\" class=\"dataframe\">\n  <thead>\n    <tr style=\"text-align: right;\">\n      <th></th>\n      <th>principal component 1</th>\n      <th>principal component 2</th>\n    </tr>\n  </thead>\n  <tbody>\n    <tr>\n      <th>0</th>\n      <td>-0.990562</td>\n      <td>-1.187820</td>\n    </tr>\n    <tr>\n      <th>1</th>\n      <td>-0.966156</td>\n      <td>-1.260196</td>\n    </tr>\n    <tr>\n      <th>2</th>\n      <td>-1.018585</td>\n      <td>-1.173667</td>\n    </tr>\n    <tr>\n      <th>3</th>\n      <td>-1.022487</td>\n      <td>-1.206921</td>\n    </tr>\n    <tr>\n      <th>4</th>\n      <td>-1.066585</td>\n      <td>-1.075897</td>\n    </tr>\n  </tbody>\n</table>\n</div>"
     },
     "metadata": {},
     "execution_count": 75
    }
   ],
   "source": [
    "df_pca = pd.DataFrame(\n",
    "    data=data_pca, columns=[\"principal component 1\", \"principal component 2\"]\n",
    ")\n",
    "df_pca.head()"
   ]
  },
  {
   "cell_type": "code",
   "execution_count": 76,
   "metadata": {},
   "outputs": [
    {
     "output_type": "execute_result",
     "data": {
      "text/plain": [
       "array([0.79218232, 0.19044676])"
      ]
     },
     "metadata": {},
     "execution_count": 76
    }
   ],
   "source": [
    "pca.explained_variance_ratio_"
   ]
  },
  {
   "cell_type": "code",
   "execution_count": 77,
   "metadata": {},
   "outputs": [],
   "source": [
    "pca = PCA(n_components=3)\n",
    "\n",
    "# Get two principal components for the iris data.\n",
    "data_pca = pca.fit_transform(shopping_scaled)"
   ]
  },
  {
   "cell_type": "code",
   "execution_count": 78,
   "metadata": {},
   "outputs": [
    {
     "output_type": "execute_result",
     "data": {
      "text/plain": [
       "   principal component 1  principal component 2  principal component 3\n",
       "0              -0.990548              -1.187819              -0.025386\n",
       "1              -0.966142              -1.260195              -0.018043\n",
       "2              -1.018572              -1.173666              -0.035622\n",
       "3              -1.022474              -1.206920              -0.039337\n",
       "4              -1.066572              -1.075896              -0.026827"
      ],
      "text/html": "<div>\n<style scoped>\n    .dataframe tbody tr th:only-of-type {\n        vertical-align: middle;\n    }\n\n    .dataframe tbody tr th {\n        vertical-align: top;\n    }\n\n    .dataframe thead th {\n        text-align: right;\n    }\n</style>\n<table border=\"1\" class=\"dataframe\">\n  <thead>\n    <tr style=\"text-align: right;\">\n      <th></th>\n      <th>principal component 1</th>\n      <th>principal component 2</th>\n      <th>principal component 3</th>\n    </tr>\n  </thead>\n  <tbody>\n    <tr>\n      <th>0</th>\n      <td>-0.990548</td>\n      <td>-1.187819</td>\n      <td>-0.025386</td>\n    </tr>\n    <tr>\n      <th>1</th>\n      <td>-0.966142</td>\n      <td>-1.260195</td>\n      <td>-0.018043</td>\n    </tr>\n    <tr>\n      <th>2</th>\n      <td>-1.018572</td>\n      <td>-1.173666</td>\n      <td>-0.035622</td>\n    </tr>\n    <tr>\n      <th>3</th>\n      <td>-1.022474</td>\n      <td>-1.206920</td>\n      <td>-0.039337</td>\n    </tr>\n    <tr>\n      <th>4</th>\n      <td>-1.066572</td>\n      <td>-1.075896</td>\n      <td>-0.026827</td>\n    </tr>\n  </tbody>\n</table>\n</div>"
     },
     "metadata": {},
     "execution_count": 78
    }
   ],
   "source": [
    "df_pca = pd.DataFrame(\n",
    "    data=data_pca,\n",
    "    columns=[\"principal component 1\", \"principal component 2\", \"principal component 3\"],\n",
    ")\n",
    "df_pca.head()"
   ]
  },
  {
   "cell_type": "code",
   "execution_count": 79,
   "metadata": {},
   "outputs": [
    {
     "output_type": "execute_result",
     "data": {
      "text/plain": [
       "array([0.7921823 , 0.19044578, 0.01612334])"
      ]
     },
     "metadata": {},
     "execution_count": 79
    }
   ],
   "source": [
    "pca.explained_variance_ratio_"
   ]
  },
  {
   "cell_type": "code",
   "execution_count": 80,
   "metadata": {},
   "outputs": [
    {
     "output_type": "execute_result",
     "data": {
      "text/plain": [
       "   principal component 1  principal component 2  principal component 3  class\n",
       "0              -0.990548              -1.187819              -0.025386      0\n",
       "1              -0.966142              -1.260195              -0.018043      0\n",
       "2              -1.018572              -1.173666              -0.035622      0\n",
       "3              -1.022474              -1.206920              -0.039337      0\n",
       "4              -1.066572              -1.075896              -0.026827      0"
      ],
      "text/html": "<div>\n<style scoped>\n    .dataframe tbody tr th:only-of-type {\n        vertical-align: middle;\n    }\n\n    .dataframe tbody tr th {\n        vertical-align: top;\n    }\n\n    .dataframe thead th {\n        text-align: right;\n    }\n</style>\n<table border=\"1\" class=\"dataframe\">\n  <thead>\n    <tr style=\"text-align: right;\">\n      <th></th>\n      <th>principal component 1</th>\n      <th>principal component 2</th>\n      <th>principal component 3</th>\n      <th>class</th>\n    </tr>\n  </thead>\n  <tbody>\n    <tr>\n      <th>0</th>\n      <td>-0.990548</td>\n      <td>-1.187819</td>\n      <td>-0.025386</td>\n      <td>0</td>\n    </tr>\n    <tr>\n      <th>1</th>\n      <td>-0.966142</td>\n      <td>-1.260195</td>\n      <td>-0.018043</td>\n      <td>0</td>\n    </tr>\n    <tr>\n      <th>2</th>\n      <td>-1.018572</td>\n      <td>-1.173666</td>\n      <td>-0.035622</td>\n      <td>0</td>\n    </tr>\n    <tr>\n      <th>3</th>\n      <td>-1.022474</td>\n      <td>-1.206920</td>\n      <td>-0.039337</td>\n      <td>0</td>\n    </tr>\n    <tr>\n      <th>4</th>\n      <td>-1.066572</td>\n      <td>-1.075896</td>\n      <td>-0.026827</td>\n      <td>0</td>\n    </tr>\n  </tbody>\n</table>\n</div>"
     },
     "metadata": {},
     "execution_count": 80
    }
   ],
   "source": [
    "model = KMeans(n_clusters=6, random_state=0)\n",
    "\n",
    "# Fit the model\n",
    "model.fit(df_pca)\n",
    "\n",
    "# Predict clusters\n",
    "predictions = model.predict(df_pca)\n",
    "\n",
    "# Add the predicted class columns\n",
    "df_pca[\"class\"] = model.labels_\n",
    "df_pca.head()"
   ]
  },
  {
   "cell_type": "code",
   "execution_count": 81,
   "metadata": {},
   "outputs": [
    {
     "output_type": "display_data",
     "data": {
      "application/vnd.plotly.v1+json": {
       "config": {
        "plotlyServerURL": "https://plot.ly"
       },
       "data": [
        {
         "hovertemplate": "class=%{marker.color}<br>principal component 3=%{x}<br>principal component 2=%{y}<br>principal component 1=%{z}<extra></extra>",
         "legendgroup": "0",
         "marker": {
          "color": [
           0,
           0,
           0,
           0,
           0,
           0,
           0,
           0,
           0,
           0,
           0,
           0,
           0,
           0,
           0,
           0,
           0,
           0,
           0,
           0,
           0,
           0,
           0,
           0,
           0,
           0,
           0,
           0,
           0,
           0,
           0,
           0,
           0,
           0,
           0,
           0,
           0,
           0,
           0,
           0,
           0,
           0,
           0,
           0,
           0,
           0,
           0,
           0,
           0,
           0,
           0,
           0,
           0,
           0,
           0,
           0,
           0,
           0,
           0,
           0,
           0,
           0,
           0,
           0,
           0,
           0,
           0,
           0,
           0,
           0,
           0,
           0,
           0,
           0,
           0,
           0,
           0,
           0,
           0,
           0,
           0,
           0,
           0,
           0,
           0,
           0,
           0,
           0,
           0,
           0,
           0,
           0,
           0,
           0,
           0,
           0,
           0,
           0,
           0,
           0,
           0,
           0,
           0,
           0,
           0,
           0,
           0,
           0,
           0,
           0,
           0,
           0,
           0,
           0,
           0,
           0,
           0,
           0,
           0,
           0,
           0,
           0,
           0,
           0,
           0,
           0,
           0,
           0,
           0,
           0,
           0,
           0,
           0,
           0,
           0
          ],
          "coloraxis": "coloraxis",
          "symbol": "circle"
         },
         "mode": "markers",
         "name": "0",
         "scene": "scene",
         "showlegend": true,
         "type": "scatter3d",
         "x": [
          -0.02538628005163858,
          -0.01804305181492126,
          -0.03562173378327942,
          -0.039337008189625,
          -0.026826809059974473,
          -0.02610304556499388,
          -0.028396989855016652,
          -0.024687752771396804,
          -0.036097708664541275,
          -0.021806946691476724,
          -0.024693778464193645,
          -0.018022495154619993,
          -0.010626314203691003,
          -0.0007500367714579728,
          -0.0002952054738114503,
          -0.0001328097126366566,
          -0.010607631848517424,
          0.0022065647881613004,
          -0.016268505555682256,
          -0.014131298101019362,
          -0.005495773798259662,
          0.0021390013331088046,
          -0.014403125638426101,
          -0.02674049107107398,
          -0.00451241866457235,
          0.0015434595765115298,
          0.023570090323704905,
          0.017494005480384392,
          0.00439288032583998,
          0.001036364239809633,
          0.028647198263198587,
          0.01978429743902185,
          0.028532348256796156,
          0.024163059670980303,
          0.02291672958416542,
          0.019129265824956495,
          0.01481464446426387,
          -0.0034930693836962606,
          0.004839158833102623,
          -0.0006539258643518711,
          0.007711855264092056,
          0.0034244505132752694,
          0.004799166239312873,
          -0.011649017843415523,
          0.004349338490450895,
          -0.018297814101542673,
          -0.0033059642043398625,
          -0.020816605664100835,
          -0.03448827915155823,
          -0.042365932380643824,
          -0.03979417304880589,
          -0.051493706453407166,
          -0.049638099599309406,
          -0.05826590246225985,
          -0.040166770673357444,
          -0.033451651478692716,
          -0.03138663609527244,
          -0.02908580532042744,
          -0.008817495627789575,
          -0.002420690788530783,
          -0.022327598150020462,
          -0.014830569193433202,
          0.014129854036454052,
          0.01618782037128775,
          0.00260089843532789,
          -0.015783700316695886,
          -0.00918105728086472,
          -0.021904218324167196,
          -0.012849585671731363,
          -0.04235192270450081,
          -0.0045457678481647815,
          -0.0120823360908993,
          0.00212354865345124,
          0.022287109631004692,
          0.03618741969408655,
          -0.008801499858608185,
          -0.009199441576754175,
          0.019033937647133427,
          0.019377271804352544,
          0.014306773776680642,
          0.03727608932255825,
          0.030052410061190887,
          0.032340706038225996,
          0.041487646212365684,
          0.05392203441884797,
          0.04362437657434681,
          0.03697585072865355,
          0.03398818611265001,
          0.03218500334777632,
          -0.04855819269752725,
          -0.05294516501940698,
          -0.04356741751494497,
          -0.00142164975719106,
          -0.021265029536272517,
          0.015989644162835517,
          0.004697601501720607,
          0.006655299713084805,
          0.012788324972022456,
          0.018231764995955288,
          0.018884002696338192,
          0.004392860319133968,
          0.021793643953569777,
          0.029636203009172957,
          0.027426917973501632,
          0.021626565995019414,
          0.03858557960534056,
          -0.014236189677884575,
          -0.02700305076965757,
          -0.024301871531064428,
          -0.03534149766993316,
          -0.011045635267843818,
          -0.03156618412889699,
          -0.003111965273066835,
          -0.0094099783603889,
          -0.01714026249772259,
          -0.0071669999490431985,
          -0.022293885995543185,
          -0.04618168761499538,
          -0.046932758359161365,
          -0.01169887094813166,
          -0.02091458116622919,
          -0.040391619932148334,
          -0.010242960853384352,
          0.0038936901738507736,
          0.025830773410761003,
          0.02236052894713234,
          -0.0004937071718400546,
          0.007494056239036514,
          0.028528751645271418,
          -0.004245572698869028,
          0.04855215702018644,
          0.04001151898697721,
          0.09898915291153701,
          0.10428123456105948,
          0.054744661290982786
         ],
         "y": [
          -1.1878187247294962,
          -1.2601948152298226,
          -1.1736659092918502,
          -1.2069198918359625,
          -1.0758959500545453,
          -1.1623721811813907,
          -1.2375584986379597,
          -1.1222425834420844,
          -1.143669097274769,
          -1.155759387328357,
          -1.277268140910023,
          -1.1066498377852034,
          -1.092479871011427,
          -1.059166231553526,
          -1.054871634990458,
          -1.184576474652779,
          -1.0184902003414391,
          -0.9988436447131916,
          -1.003691929966176,
          -0.9829461316240861,
          -1.1322825835316788,
          -0.9118570833057441,
          -0.8888647296797081,
          -0.9035466846835879,
          -0.9161726862968388,
          -1.0464318548839968,
          -0.7628631822956677,
          -0.7706270211959367,
          -0.7491038529980948,
          -0.7699220686907301,
          -0.930221762620959,
          -0.6046176304067225,
          -0.5590643865669246,
          -0.5906734938126957,
          -0.6218705555605497,
          -0.8134774639007619,
          -0.4836802039853243,
          -0.4784342329631652,
          -0.4666334957455102,
          -0.4991325774157163,
          -0.8797106715994472,
          -0.3432644984397135,
          -0.30526491827225166,
          -0.3183953155916767,
          -0.2730738258746879,
          -0.5803600835517702,
          -0.23814617001750332,
          -0.26704941606984545,
          -0.2835974615462976,
          -0.4489943601992781,
          -0.5997837289646508,
          -0.33579143031290987,
          -0.38640567567934814,
          -0.5036718187874312,
          -0.5997962357277564,
          -0.3214680364341619,
          -0.4612891872860714,
          -0.4523205238542697,
          -0.5653598231295033,
          -0.7410520818923588,
          -0.5498473410537108,
          -0.5301580786510635,
          -0.5563700631583594,
          -0.6247316230372703,
          -0.8091857620913757,
          -0.542776936212037,
          -0.5753865647148791,
          -0.5810076840270303,
          -0.6474812360883665,
          -0.8400867683686916,
          -0.5190020694372245,
          -0.5065022223277958,
          -0.48323540670835813,
          -0.5955527690026556,
          -0.7486694170819665,
          -0.4007589732290365,
          -0.4167066578067597,
          -0.3706655695830698,
          -0.4089737136731852,
          -0.6335014682771454,
          -0.41225510827993006,
          -0.42990699974090407,
          -0.39812360816157066,
          -0.5792598065466517,
          -0.009959355997184364,
          0.03262403673063362,
          0.04542630582290509,
          -0.05229817008525898,
          -0.23906923923235798,
          0.03479796658932472,
          -0.16909901730157345,
          -0.014921093417412353,
          -0.13455731000861793,
          -0.203223492601783,
          -0.3106364908770836,
          -0.47472742842513493,
          -0.331122591680783,
          -0.3169162401223853,
          -0.45511053440751176,
          -0.5076342576755635,
          -0.6399948665339572,
          -0.43917140215957473,
          -0.523243269423618,
          -0.553794160515463,
          -0.6392881436053595,
          -0.7668368417684193,
          -0.5918673259477986,
          -0.6265599327479928,
          -0.6275585729615896,
          -0.81383264497189,
          -0.8616060794018049,
          -0.7100057564970672,
          -0.7456024859088866,
          -0.7681054826094523,
          -0.8467677649546033,
          -0.9140299195783944,
          -0.7348780679175659,
          -0.8006014706340319,
          -0.834795970224198,
          -0.7241679648836266,
          -0.8941882386817467,
          -0.7890594279282654,
          -0.8033609673254937,
          -0.8234578330019149,
          -0.9109651520267703,
          -0.9854555103233303,
          -0.8221711423137436,
          -0.8863309772863224,
          -0.8910999691049799,
          -1.0723432336481677,
          -0.7496924092283587,
          -0.7799407730811994,
          -0.8029076431077177,
          -0.7711289004065264,
          -0.9609050599290268
         ],
         "z": [
          -0.9905481574150136,
          -0.9661420017442444,
          -1.0185718753597726,
          -1.0224742793320856,
          -1.0665720867426467,
          -1.0466882308560395,
          -1.0325354192157208,
          -1.075824081512492,
          -1.0895775366991356,
          -1.0823109370733859,
          -1.0516692288840945,
          -1.1116098824076646,
          -1.1138478633905335,
          -1.1167091864224468,
          -1.1174937940287588,
          -1.0728317717393225,
          -1.138055771635248,
          -1.1331294802953298,
          -1.1462478764079738,
          -1.1535298440127422,
          -1.0952686405471121,
          -1.1600990486758194,
          -1.181901601363592,
          -1.1930523407741362,
          -1.1732510240724465,
          -1.123987972050834,
          -1.1943165965900988,
          -1.1904790632286204,
          -1.202988401812065,
          -1.1949098541120982,
          -1.1096112587372098,
          -1.217918395545896,
          -1.214020931820959,
          -1.1922351402639613,
          -1.1703040051780782,
          -1.0972154130072906,
          -1.2038701776547454,
          -1.2164645781720351,
          -1.2075624325491963,
          -1.194740843462427,
          -1.0553721190750982,
          -1.2344046882152624,
          -1.2430616732526478,
          -1.2527506655683116,
          -1.2542861837252754,
          -1.1723175208104424,
          -1.277006307042348,
          -1.284032923719756,
          -1.29810448313128,
          -1.2602368639624475,
          -1.220934159292073,
          -1.3356468914198119,
          -1.3355584258501554,
          -1.3222069833103904,
          -1.2940899984233663,
          -1.3969795029821068,
          -1.364584945024807,
          -1.3801558653995762,
          -1.3340083424966493,
          -1.2737083136857426,
          -1.3622919212980518,
          -1.368870840182766,
          -1.3349541509590475,
          -1.303420307629734,
          -1.2489398762421509,
          -1.3550358556728854,
          -1.339781736621749,
          -1.350913546989086,
          -1.3250755738351345,
          -1.2946022428289372,
          -1.3739529714060839,
          -1.3856194968793694,
          -1.3846899697609414,
          -1.328552056551158,
          -1.2574202185388794,
          -1.4088905632740825,
          -1.4063856280295013,
          -1.3935042216056175,
          -1.3730184751539394,
          -1.290234158429629,
          -1.333723312683885,
          -1.319290133762836,
          -1.314599584668226,
          -1.2322524415672163,
          -1.3984967692935473,
          -1.400794524391517,
          -1.3908364511284308,
          -1.3443282878969263,
          -1.2666483511789144,
          -1.6654350643018683,
          -1.6192310823386287,
          -1.681032725502237,
          -1.6146987188449444,
          -1.617526583924117,
          -1.5516083142106825,
          -1.505606793658484,
          -1.5552676197923876,
          -1.5572511189234788,
          -1.503233975280875,
          -1.4767729763875612,
          -1.4364937689513146,
          -1.4792122651284698,
          -1.434869556441095,
          -1.412717939099028,
          -1.3802960972525802,
          -1.309888482131762,
          -1.4075687342662393,
          -1.4097592689963876,
          -1.41218342432906,
          -1.3662035692123904,
          -1.332447728218012,
          -1.4076678647178582,
          -1.3777165623186758,
          -1.380416007343581,
          -1.3678848758649536,
          -1.3469367624927016,
          -1.4261439062511727,
          -1.435238734199078,
          -1.4388828965762652,
          -1.4533548560422962,
          -1.4118585632865157,
          -1.473787590894282,
          -1.4542393844042287,
          -1.4397203999150523,
          -1.3890169715120029,
          -1.3629148582551323,
          -1.4355677361386854,
          -1.4029261928560104,
          -1.37282467445716,
          -1.335670884748387,
          -1.3880268847207422,
          -1.3649150864827,
          -1.278857516326586,
          -1.248533115994832,
          -1.1995753594947254
         ]
        },
        {
         "hovertemplate": "class=%{marker.color}<br>principal component 3=%{x}<br>principal component 2=%{y}<br>principal component 1=%{z}<extra></extra>",
         "legendgroup": "5",
         "marker": {
          "color": [
           5,
           5,
           5,
           5,
           5,
           5,
           5,
           5,
           5,
           5,
           5,
           5,
           5,
           5,
           5,
           5,
           5,
           5,
           5,
           5,
           5,
           5,
           5,
           5,
           5,
           5,
           5,
           5,
           5,
           5,
           5,
           5,
           5,
           5,
           5,
           5,
           5,
           5,
           5,
           5,
           5
          ],
          "coloraxis": "coloraxis",
          "symbol": "diamond"
         },
         "mode": "markers",
         "name": "5",
         "scene": "scene",
         "showlegend": true,
         "type": "scatter3d",
         "x": [
          0.028529598240267077,
          0.027380846419864328,
          -0.0005316174351229382,
          0.005161837178560052,
          -0.0020713421714237674,
          -0.014895320964692762,
          0.021639634878111512,
          0.054913280128291095,
          0.0517881501248941,
          0.04163501020171064,
          0.01714519188977398,
          0.002507271421310971,
          -0.0300823910058741,
          -0.054738866999753576,
          -0.017365402935883834,
          0.0009440344714556965,
          0.039319393997649374,
          0.004947423253669122,
          0.004862177741725515,
          -0.021763329994932523,
          -0.010300421287092128,
          -0.04632746464327557,
          -0.004962268336316035,
          0.0015305275215624905,
          -0.025208054120291125,
          -0.037300007567019726,
          -0.03834085964291336,
          -0.042617073735289814,
          -0.00988918707843388,
          0.0021866739982067313,
          -0.0010990804834139767,
          0.009550845392328748,
          0.015426211303149239,
          0.013661135326132274,
          0.010417101011653575,
          0.010857163497845967,
          -0.013930148626218719,
          -0.01328797083905599,
          0.004972159626122462,
          0.006039216359281639,
          -0.021402019471654352
         ],
         "y": [
          0.4128232860541559,
          0.3656745443333784,
          0.29873123486190445,
          0.3667408309136389,
          0.3634472717885042,
          0.6390998050250719,
          0.8744167275505607,
          0.9624817633183734,
          0.7929121395944086,
          0.4023562886237172,
          1.3929088006812784,
          1.447824173831072,
          1.4018807612850877,
          1.1630088722148222,
          1.3245844244129783,
          1.3863734723221655,
          1.294770338747039,
          1.4303177317794902,
          1.4198683445047002,
          1.1041055138620968,
          1.4007724283305487,
          1.3154866101455647,
          1.2285392288526202,
          1.5230010985234665,
          0.8345071262617115,
          1.438514351670995,
          1.1571564742121065,
          0.8601620658870133,
          1.432256965392634,
          1.3897841237094626,
          1.178878762768981,
          1.0492139013746506,
          0.7124204110374039,
          1.231747380584706,
          0.9586437234910477,
          0.8854300422936758,
          0.7660355281360058,
          0.34753655991152893,
          0.5946953063615255,
          0.4369929000059789,
          0.24905568632179806
         ],
         "z": [
          -1.4733526018481953,
          -1.4461323733899345,
          -1.4393131378083337,
          -1.4522238154298353,
          -1.4545669267662495,
          -1.5610693506880637,
          -1.6073578417280139,
          -1.5966943462098668,
          -1.526688804404009,
          -1.3901116379411793,
          -1.7364922556719484,
          -1.7662827888882988,
          -1.78194022270138,
          -1.7351885501802484,
          -1.825174270171809,
          -1.8661223007365897,
          -1.7752160918614488,
          -1.8440984392779363,
          -1.842915233161657,
          -1.7594532559862979,
          -1.8781324564706345,
          -1.8959260648464862,
          -1.8976940268952294,
          -2.020498855377095,
          -1.817308218328124,
          -2.043229605861134,
          -1.9647601496969875,
          -1.883513746721426,
          -2.061458698491216,
          -2.044576452670204,
          -1.982066094609522,
          -1.9342628293668613,
          -1.818495672183803,
          -1.9973303453924618,
          -1.908508483498079,
          -1.8810137314868034,
          -1.8626071122150762,
          -1.7228266010037547,
          -1.7915626353901601,
          -1.7373578309571378,
          -1.7012197926384256
         ]
        },
        {
         "hovertemplate": "class=%{marker.color}<br>principal component 3=%{x}<br>principal component 2=%{y}<br>principal component 1=%{z}<extra></extra>",
         "legendgroup": "2",
         "marker": {
          "color": [
           2,
           2,
           2,
           2,
           2,
           2,
           2,
           2,
           2,
           2,
           2,
           2,
           2,
           2,
           2,
           2,
           2,
           2,
           2,
           2,
           2,
           2
          ],
          "coloraxis": "coloraxis",
          "symbol": "square"
         },
         "mode": "markers",
         "name": "2",
         "scene": "scene",
         "showlegend": true,
         "type": "scatter3d",
         "x": [
          -0.04850159418753806,
          -0.03206731528565054,
          -0.01335343797880772,
          -0.023539553888105275,
          0.019157496486196284,
          0.012672512205628452,
          -0.01223528615462162,
          0.016499317562124263,
          0.02815669223577986,
          0.033387606269042414,
          0.03450406679398672,
          0.0023833472469936825,
          -0.023506463360398355,
          -0.007256580552282849,
          -0.011056647603400829,
          -0.027218979067554862,
          -0.018787995360448864,
          -0.023206054257197392,
          -0.00029805347110125046,
          -0.008185728027015152,
          0.000619848513676026,
          0.0030450888729990147
         ],
         "y": [
          1.9952006687427843,
          1.8751171732692318,
          2.0212358884386368,
          1.642854535229321,
          3.103589795532335,
          2.8110535026341497,
          2.7572773766878247,
          2.1729472837407435,
          2.547450170100949,
          2.5402049630465404,
          1.7935408638712265,
          2.0558335490124224,
          2.0490176313779513,
          2.08705788434233,
          2.0002490984084442,
          2.229144518700245,
          1.8126379939333788,
          1.9038246514714559,
          1.8511013120786672,
          1.9880504093879445,
          2.043502510138236,
          1.816616922811474
         ],
         "z": [
          -2.025090575945907,
          -1.9810120872249304,
          -2.0243807694454934,
          -1.9208721613047819,
          -2.405149050818178,
          -2.3197262895430484,
          -2.3343652806812227,
          -2.118231615216705,
          -2.2299034497087686,
          -2.2168708959659438,
          -1.9581122751167217,
          -2.0586616450690247,
          -2.0873385656410752,
          -2.0915460906113283,
          -2.0724965518882565,
          -2.2077887504584934,
          -2.0744080364147344,
          -2.12242166418614,
          -2.0968124033071867,
          -2.1631077189625523,
          -2.18294399067276,
          -2.1112176051279343
         ]
        },
        {
         "hovertemplate": "class=%{marker.color}<br>principal component 3=%{x}<br>principal component 2=%{y}<br>principal component 1=%{z}<extra></extra>",
         "legendgroup": "4",
         "marker": {
          "color": [
           4,
           4,
           4,
           4,
           4,
           4
          ],
          "coloraxis": "coloraxis",
          "symbol": "x"
         },
         "mode": "markers",
         "name": "4",
         "scene": "scene",
         "showlegend": true,
         "type": "scatter3d",
         "x": [
          2.416748531915285,
          2.119765042689492,
          1.875349102842626,
          1.5621782887819098,
          1.3427288198173775,
          1.0686371044549339
         ],
         "y": [
          -0.03173914766033415,
          0.14361781869296933,
          0.27627337424918463,
          0.27653374926776003,
          0.32580748169994705,
          0.5886072276392252
         ],
         "z": [
          0.955530542938158,
          1.3673725434259953,
          1.7949569823828124,
          2.157779176010349,
          2.549009317111273,
          2.7774838464438965
         ]
        },
        {
         "hovertemplate": "class=%{marker.color}<br>principal component 3=%{x}<br>principal component 2=%{y}<br>principal component 1=%{z}<extra></extra>",
         "legendgroup": "1",
         "marker": {
          "color": [
           1,
           1,
           1,
           1,
           1,
           1,
           1,
           1,
           1,
           1,
           1,
           1,
           1,
           1,
           1,
           1,
           1,
           1,
           1,
           1,
           1,
           1,
           1,
           1,
           1,
           1,
           1,
           1,
           1,
           1,
           1,
           1,
           1,
           1,
           1,
           1,
           1,
           1,
           1,
           1,
           1,
           1,
           1,
           1,
           1,
           1,
           1,
           1,
           1,
           1
          ],
          "coloraxis": "coloraxis",
          "symbol": "cross"
         },
         "mode": "markers",
         "name": "1",
         "scene": "scene",
         "showlegend": true,
         "type": "scatter3d",
         "x": [
          0.6948929321716668,
          0.44834630953454446,
          0.2775230329801995,
          0.09296792472036146,
          0.0828036387299942,
          0.06779932163980261,
          0.007387955263471938,
          -0.09054000106691,
          0.00721509794727773,
          -0.031938266896039944,
          0.04102343755893859,
          -0.0704024788737473,
          -0.07837887617945179,
          -0.09642654852840865,
          -0.15530480484948556,
          -0.39841990120204984,
          -0.38383323115774903,
          -0.39080880600200335,
          -0.30386594203736683,
          -0.32027465911737235,
          -0.2658648911087452,
          -0.11495244703013091,
          -0.10032088185215082,
          -0.04421700784911657,
          -0.0829079181720343,
          -0.07449943973166162,
          -0.03944776068073401,
          -0.06291066618982352,
          -0.10442834677360932,
          -0.09198893798390295,
          -0.09893402128513308,
          -0.10098522304426223,
          -0.1525629809686096,
          -0.13188058858103413,
          -0.18311243110178588,
          -0.16709013915478924,
          -0.14680942855056928,
          -0.14911834907444685,
          -0.18717810182847283,
          -0.09544078291537414,
          -0.11709063621844061,
          -0.06420354129252821,
          -0.10867968968278947,
          -0.15802215310869902,
          -0.13175031972709808,
          -0.12344007942379451,
          -0.10671787352577151,
          -0.1587430623480385,
          -0.18033725897746528,
          -0.04746747823076489
         ],
         "y": [
          0.6479820133181652,
          0.7171699517031269,
          0.7140870673152434,
          0.7316732933144467,
          0.9625590376584576,
          0.9624603847814456,
          0.9599602940066183,
          0.8860844379434973,
          0.753776777929106,
          1.006004084634654,
          1.0220626849414554,
          0.9856624918672331,
          0.9224032399794251,
          0.8032111752019838,
          1.0846600983540513,
          0.9969563610687835,
          0.9636289293423427,
          0.826598771870879,
          0.717366816750775,
          0.9837772217779239,
          0.9328473321250106,
          0.9431006938755349,
          0.8165277880530546,
          0.7956071685452916,
          1.0285919249122963,
          1.0108566880641963,
          0.96863925511012,
          0.7924091368790501,
          0.7416934752150708,
          0.9874316808470208,
          0.8850259345745188,
          0.8967018674512891,
          0.7065364240228713,
          0.5138736661121598,
          0.7056024837483483,
          0.6911012147110812,
          0.513061801611955,
          0.3805080924246269,
          0.5456988817394691,
          0.5113998830750018,
          0.3930787440241805,
          0.343453696020196,
          0.19645879605163993,
          0.28040975451494127,
          0.2279746455897201,
          0.18310765877118013,
          0.14425835137928825,
          0.021354882503462812,
          0.13241088243092416,
          0.08021697887546682
         ],
         "z": [
          2.926727656101912,
          3.118048250567846,
          3.369326255852001,
          3.5871407413793763,
          3.5482602908099734,
          3.5727921556384232,
          3.5358734406325576,
          3.4659708946147805,
          3.577741468744413,
          3.447616832160463,
          3.517875753329733,
          3.444151546660977,
          3.4510134124308838,
          3.46484378800011,
          3.29201684816043,
          3.03078818331204,
          2.9440317984539557,
          2.880811462912735,
          2.8845816354360814,
          2.6796802454692057,
          2.6315273752610913,
          2.6848836747486473,
          2.685060541790058,
          2.69469539015444,
          2.542667979276988,
          2.5451970883929524,
          2.5906413742059398,
          2.639370225121337,
          2.6161709890605067,
          2.5448066298693197,
          2.5747138019918396,
          2.554216164928573,
          2.550222764997892,
          2.6000461068793856,
          2.457907748458961,
          2.436573957440358,
          2.472772596982041,
          2.4765081600829073,
          2.3453870289159857,
          2.399870987463062,
          2.3920683170318675,
          2.4307035674319013,
          2.4241270736785583,
          2.3188273723259996,
          2.329346298475851,
          2.3256664473718356,
          2.329467226064941,
          2.2967948696318334,
          2.2069172161207797,
          2.269050594568168
         ]
        },
        {
         "hovertemplate": "class=%{marker.color}<br>principal component 3=%{x}<br>principal component 2=%{y}<br>principal component 1=%{z}<extra></extra>",
         "legendgroup": "3",
         "marker": {
          "color": [
           3,
           3,
           3,
           3,
           3,
           3,
           3,
           3,
           3,
           3,
           3,
           3,
           3,
           3,
           3,
           3,
           3,
           3,
           3,
           3,
           3,
           3,
           3,
           3,
           3,
           3,
           3,
           3,
           3,
           3,
           3,
           3,
           3,
           3,
           3,
           3,
           3,
           3,
           3,
           3,
           3,
           3,
           3,
           3,
           3,
           3,
           3,
           3,
           3,
           3,
           3,
           3,
           3,
           3,
           3,
           3,
           3,
           3,
           3,
           3,
           3,
           3,
           3,
           3,
           3,
           3,
           3,
           3,
           3,
           3,
           3,
           3,
           3,
           3,
           3,
           3,
           3,
           3,
           3,
           3,
           3,
           3,
           3,
           3,
           3,
           3,
           3,
           3,
           3,
           3,
           3,
           3,
           3,
           3,
           3,
           3,
           3,
           3
          ],
          "coloraxis": "coloraxis",
          "symbol": "circle"
         },
         "mode": "markers",
         "name": "3",
         "scene": "scene",
         "showlegend": true,
         "type": "scatter3d",
         "x": [
          -0.1717669419938857,
          -0.09696446189822426,
          -0.15759175750445478,
          -0.15505848348134088,
          -0.19949177961085823,
          -0.15995033848769094,
          -0.15276149743624004,
          -0.148667176496044,
          -0.15371851910166073,
          -0.14351027627162294,
          -0.12453675464287735,
          -0.11719983468003065,
          -0.09115387100430994,
          -0.0939756181943548,
          -0.07413822257807474,
          -0.10858111053032954,
          -0.08706518295673862,
          -0.12636169300826974,
          -0.10308505260720457,
          -0.10875423572233789,
          -0.07528132103522814,
          -0.04866767590529809,
          -0.07679417432736782,
          -0.11211326152654756,
          -0.12276919438534012,
          -0.12973038881081966,
          -0.1468316691724206,
          -0.15945844106242849,
          -0.11189629410338514,
          -0.14155545213850276,
          -0.18557046111122,
          -0.13218132803245702,
          -0.11664184450831334,
          -0.154903031099657,
          -0.12904378694122534,
          -0.16405170700308772,
          -0.09096208736462134,
          -0.043781186661974024,
          -0.012669488361886702,
          -0.027704999187013753,
          -0.012413593805653735,
          -0.10304916292995109,
          -0.12690913913296642,
          -0.12969463901652611,
          -0.16190437189719445,
          -0.13112873033274727,
          -0.25259600810862276,
          -0.20058501992570107,
          -0.20098665081862194,
          -0.0872857130067509,
          -0.0682473344946881,
          -0.10409935677863015,
          -0.021132206713473396,
          -0.10152186429623204,
          -0.08139425129701107,
          -0.2212728726955981,
          -0.16650810431980728,
          -0.047711339620419436,
          -0.020263412332776506,
          0.005936916522693165,
          -0.06820565082861198,
          0.17162907852330045,
          -0.04108728646914121,
          0.1346422610162785,
          0.18055080027942125,
          0.019091639930584266,
          0.14906772709469063,
          0.14557031125206452,
          0.17990369975956214,
          0.06027436954724356,
          0.09640567961148412,
          -0.07679345749220204,
          -0.09536534964650212,
          0.03302667160708141,
          -0.006174367902141463,
          0.04640326156194214,
          0.13018278056765314,
          0.15594278832572084,
          0.15587331501777293,
          0.09945594317662797,
          0.11964295966399793,
          0.0896139974500618,
          0.0754408241018728,
          0.004501015020323694,
          0.0002503360615257321,
          -0.023218514690056872,
          0.0032434762679134452,
          -0.027656058958206376,
          -0.04788284422648794,
          -0.11471550660405551,
          -0.1021095846068784,
          -0.0011784624769973645,
          -0.0016537892190452252,
          -0.04946502114449401,
          -0.10516700938474816,
          -0.0379115851171953,
          -0.030585390456126474,
          -0.04148310043963522
         ],
         "y": [
          0.05953536897157897,
          -0.013057219182299767,
          -0.06194829304970327,
          0.04118473629973056,
          -0.004709812402395635,
          -0.024609689803254266,
          -0.0722205807089095,
          -0.13463311163882663,
          -0.02292828356568997,
          -0.052966610946505725,
          -0.09902612705917772,
          -0.18515717202132684,
          -0.038378077147843324,
          -0.02815456490241265,
          -0.0695075794647776,
          -0.13097891716455184,
          -0.0760987149134956,
          -0.06734962256148315,
          -0.027798247661333975,
          -0.1318224644067387,
          -0.10658966933740815,
          -0.17226285854887186,
          -0.058893247140626874,
          -0.020468805130062332,
          -0.1433775243716077,
          -0.1670895651243187,
          -0.21008704506875725,
          -0.09949884743043534,
          -0.06590575336033783,
          -0.1352183191182208,
          -0.23052675247071208,
          -0.231934885595818,
          -0.09625423077549952,
          -0.14415063628898564,
          -0.16443602483772493,
          -0.27290697143916937,
          -0.24753694191792386,
          -0.1819501677392616,
          -0.1639335981568604,
          -0.24613575166256624,
          -0.24493974039594454,
          -0.27462682830219004,
          -0.14859996995097535,
          -0.18027028100150724,
          -0.243709936437682,
          -0.26457383738614026,
          -0.26832978320888645,
          -0.29935798206916775,
          -0.3383623982758225,
          -0.40303415206784166,
          -0.4323375027510539,
          -0.46372251677419485,
          -0.4691603191139173,
          -0.5613708541653605,
          -0.6020072351817793,
          -0.662114028030355,
          -0.7071737681426439,
          -0.6978850198296171,
          -0.7059190829607209,
          -0.7291666597876814,
          -0.7669570606761071,
          -0.7212232450139863,
          -0.7729239308076905,
          -0.7241924861827933,
          -0.697370069173268,
          -0.7195784087363225,
          -0.6728534936959486,
          -0.6526295331124297,
          -0.6206394154193997,
          -0.6308515078263901,
          -0.6020618687256099,
          -0.6410179775470518,
          -0.6402034260818916,
          -0.60310776438484,
          -0.608014231020989,
          -0.5828622188609123,
          -0.5489524364766455,
          -0.5255606134013532,
          -0.5095148055316738,
          -0.5063385548729572,
          -0.48670570868445584,
          -0.4728889283609541,
          -0.4548659391318203,
          -0.4592814491323592,
          -0.44772102224140853,
          -0.44421460124398143,
          -0.43123296074105455,
          -0.434823264051391,
          -0.4388940155976503,
          -0.4574586982710657,
          -0.46071753511821034,
          -0.4361990532909837,
          -0.4339968394221972,
          -0.4441302938212782,
          -0.46156657630890285,
          -0.4467399380586303,
          -0.4455169656704918,
          -0.4478977425548706
         ],
         "z": [
          2.1917126551936086,
          2.2359205241496847,
          2.166053581415623,
          2.0981006230637527,
          2.0287620651946674,
          2.0216077067641134,
          1.9987570155155434,
          1.9856525303044363,
          1.9084702446477815,
          1.8928297495407003,
          1.8775208225712017,
          1.8737909112076354,
          1.82043958710945,
          1.7912403319105907,
          1.8092275107597924,
          1.780989847639113,
          1.761437904289094,
          1.7016300725336584,
          1.6857025016035294,
          1.6949776118773354,
          1.698650339396082,
          1.7365350749915045,
          1.663373683339981,
          1.6001771831653322,
          1.6029350947335754,
          1.5768483879821582,
          1.5414580555198385,
          1.4581968244675527,
          1.4555857689388632,
          1.4224289596471555,
          1.3687706122773955,
          1.3645067639058523,
          1.2921855866581782,
          1.2337668470860896,
          1.221004213813956,
          1.1829302188396338,
          1.2024962699813153,
          1.20593102927533,
          1.2177571890257786,
          1.229980173600879,
          1.2492919314771498,
          1.1705345725863927,
          1.0802189871639838,
          1.063576681840499,
          1.0244810610954367,
          1.0321664828443808,
          0.8773963739579351,
          0.8656700082859597,
          0.8106644120501307,
          0.8798384751057532,
          0.8680463764535591,
          0.815402734623689,
          0.868489734932415,
          0.8076739239485844,
          0.8134177657131468,
          0.6622875928951308,
          0.680839008161438,
          0.7596476991667536,
          0.7896404300906896,
          0.8201151438915043,
          0.7589278629697278,
          0.9775461154446041,
          0.8260032668092634,
          0.9893663179023945,
          1.0805871995330096,
          1.01321001239756,
          1.1750122996826313,
          1.2382005505858642,
          1.3364816057902185,
          1.3018211007513134,
          1.393370231473329,
          1.2738682121481324,
          1.2762041565457265,
          1.3901980730820578,
          1.375763474721552,
          1.4527258236706024,
          1.5569408738498207,
          1.6286039089828996,
          1.6772357312882156,
          1.6862455037302528,
          1.746027356652647,
          1.7869067597604003,
          1.8403472347607766,
          1.8256106659450002,
          1.8601068944280192,
          1.8702250828461044,
          1.9101741386226805,
          1.8987446588384609,
          1.886130731132715,
          1.8277595603678343,
          1.8196659624195706,
          1.8958708784671805,
          1.9028286742433769,
          1.8714384732249354,
          1.817846953768349,
          1.8639276800181295,
          1.8678949941087404,
          1.859127035498613
         ]
        }
       ],
       "layout": {
        "coloraxis": {
         "colorbar": {
          "title": {
           "text": "class"
          }
         },
         "colorscale": [
          [
           0,
           "#0d0887"
          ],
          [
           0.1111111111111111,
           "#46039f"
          ],
          [
           0.2222222222222222,
           "#7201a8"
          ],
          [
           0.3333333333333333,
           "#9c179e"
          ],
          [
           0.4444444444444444,
           "#bd3786"
          ],
          [
           0.5555555555555556,
           "#d8576b"
          ],
          [
           0.6666666666666666,
           "#ed7953"
          ],
          [
           0.7777777777777778,
           "#fb9f3a"
          ],
          [
           0.8888888888888888,
           "#fdca26"
          ],
          [
           1,
           "#f0f921"
          ]
         ]
        },
        "legend": {
         "title": {
          "text": "class"
         },
         "tracegroupgap": 0,
         "x": 0,
         "y": 1
        },
        "margin": {
         "t": 60
        },
        "scene": {
         "domain": {
          "x": [
           0,
           1
          ],
          "y": [
           0,
           1
          ]
         },
         "xaxis": {
          "title": {
           "text": "principal component 3"
          }
         },
         "yaxis": {
          "title": {
           "text": "principal component 2"
          }
         },
         "zaxis": {
          "title": {
           "text": "principal component 1"
          }
         }
        },
        "template": {
         "data": {
          "bar": [
           {
            "error_x": {
             "color": "#2a3f5f"
            },
            "error_y": {
             "color": "#2a3f5f"
            },
            "marker": {
             "line": {
              "color": "#E5ECF6",
              "width": 0.5
             }
            },
            "type": "bar"
           }
          ],
          "barpolar": [
           {
            "marker": {
             "line": {
              "color": "#E5ECF6",
              "width": 0.5
             }
            },
            "type": "barpolar"
           }
          ],
          "carpet": [
           {
            "aaxis": {
             "endlinecolor": "#2a3f5f",
             "gridcolor": "white",
             "linecolor": "white",
             "minorgridcolor": "white",
             "startlinecolor": "#2a3f5f"
            },
            "baxis": {
             "endlinecolor": "#2a3f5f",
             "gridcolor": "white",
             "linecolor": "white",
             "minorgridcolor": "white",
             "startlinecolor": "#2a3f5f"
            },
            "type": "carpet"
           }
          ],
          "choropleth": [
           {
            "colorbar": {
             "outlinewidth": 0,
             "ticks": ""
            },
            "type": "choropleth"
           }
          ],
          "contour": [
           {
            "colorbar": {
             "outlinewidth": 0,
             "ticks": ""
            },
            "colorscale": [
             [
              0,
              "#0d0887"
             ],
             [
              0.1111111111111111,
              "#46039f"
             ],
             [
              0.2222222222222222,
              "#7201a8"
             ],
             [
              0.3333333333333333,
              "#9c179e"
             ],
             [
              0.4444444444444444,
              "#bd3786"
             ],
             [
              0.5555555555555556,
              "#d8576b"
             ],
             [
              0.6666666666666666,
              "#ed7953"
             ],
             [
              0.7777777777777778,
              "#fb9f3a"
             ],
             [
              0.8888888888888888,
              "#fdca26"
             ],
             [
              1,
              "#f0f921"
             ]
            ],
            "type": "contour"
           }
          ],
          "contourcarpet": [
           {
            "colorbar": {
             "outlinewidth": 0,
             "ticks": ""
            },
            "type": "contourcarpet"
           }
          ],
          "heatmap": [
           {
            "colorbar": {
             "outlinewidth": 0,
             "ticks": ""
            },
            "colorscale": [
             [
              0,
              "#0d0887"
             ],
             [
              0.1111111111111111,
              "#46039f"
             ],
             [
              0.2222222222222222,
              "#7201a8"
             ],
             [
              0.3333333333333333,
              "#9c179e"
             ],
             [
              0.4444444444444444,
              "#bd3786"
             ],
             [
              0.5555555555555556,
              "#d8576b"
             ],
             [
              0.6666666666666666,
              "#ed7953"
             ],
             [
              0.7777777777777778,
              "#fb9f3a"
             ],
             [
              0.8888888888888888,
              "#fdca26"
             ],
             [
              1,
              "#f0f921"
             ]
            ],
            "type": "heatmap"
           }
          ],
          "heatmapgl": [
           {
            "colorbar": {
             "outlinewidth": 0,
             "ticks": ""
            },
            "colorscale": [
             [
              0,
              "#0d0887"
             ],
             [
              0.1111111111111111,
              "#46039f"
             ],
             [
              0.2222222222222222,
              "#7201a8"
             ],
             [
              0.3333333333333333,
              "#9c179e"
             ],
             [
              0.4444444444444444,
              "#bd3786"
             ],
             [
              0.5555555555555556,
              "#d8576b"
             ],
             [
              0.6666666666666666,
              "#ed7953"
             ],
             [
              0.7777777777777778,
              "#fb9f3a"
             ],
             [
              0.8888888888888888,
              "#fdca26"
             ],
             [
              1,
              "#f0f921"
             ]
            ],
            "type": "heatmapgl"
           }
          ],
          "histogram": [
           {
            "marker": {
             "colorbar": {
              "outlinewidth": 0,
              "ticks": ""
             }
            },
            "type": "histogram"
           }
          ],
          "histogram2d": [
           {
            "colorbar": {
             "outlinewidth": 0,
             "ticks": ""
            },
            "colorscale": [
             [
              0,
              "#0d0887"
             ],
             [
              0.1111111111111111,
              "#46039f"
             ],
             [
              0.2222222222222222,
              "#7201a8"
             ],
             [
              0.3333333333333333,
              "#9c179e"
             ],
             [
              0.4444444444444444,
              "#bd3786"
             ],
             [
              0.5555555555555556,
              "#d8576b"
             ],
             [
              0.6666666666666666,
              "#ed7953"
             ],
             [
              0.7777777777777778,
              "#fb9f3a"
             ],
             [
              0.8888888888888888,
              "#fdca26"
             ],
             [
              1,
              "#f0f921"
             ]
            ],
            "type": "histogram2d"
           }
          ],
          "histogram2dcontour": [
           {
            "colorbar": {
             "outlinewidth": 0,
             "ticks": ""
            },
            "colorscale": [
             [
              0,
              "#0d0887"
             ],
             [
              0.1111111111111111,
              "#46039f"
             ],
             [
              0.2222222222222222,
              "#7201a8"
             ],
             [
              0.3333333333333333,
              "#9c179e"
             ],
             [
              0.4444444444444444,
              "#bd3786"
             ],
             [
              0.5555555555555556,
              "#d8576b"
             ],
             [
              0.6666666666666666,
              "#ed7953"
             ],
             [
              0.7777777777777778,
              "#fb9f3a"
             ],
             [
              0.8888888888888888,
              "#fdca26"
             ],
             [
              1,
              "#f0f921"
             ]
            ],
            "type": "histogram2dcontour"
           }
          ],
          "mesh3d": [
           {
            "colorbar": {
             "outlinewidth": 0,
             "ticks": ""
            },
            "type": "mesh3d"
           }
          ],
          "parcoords": [
           {
            "line": {
             "colorbar": {
              "outlinewidth": 0,
              "ticks": ""
             }
            },
            "type": "parcoords"
           }
          ],
          "pie": [
           {
            "automargin": true,
            "type": "pie"
           }
          ],
          "scatter": [
           {
            "marker": {
             "colorbar": {
              "outlinewidth": 0,
              "ticks": ""
             }
            },
            "type": "scatter"
           }
          ],
          "scatter3d": [
           {
            "line": {
             "colorbar": {
              "outlinewidth": 0,
              "ticks": ""
             }
            },
            "marker": {
             "colorbar": {
              "outlinewidth": 0,
              "ticks": ""
             }
            },
            "type": "scatter3d"
           }
          ],
          "scattercarpet": [
           {
            "marker": {
             "colorbar": {
              "outlinewidth": 0,
              "ticks": ""
             }
            },
            "type": "scattercarpet"
           }
          ],
          "scattergeo": [
           {
            "marker": {
             "colorbar": {
              "outlinewidth": 0,
              "ticks": ""
             }
            },
            "type": "scattergeo"
           }
          ],
          "scattergl": [
           {
            "marker": {
             "colorbar": {
              "outlinewidth": 0,
              "ticks": ""
             }
            },
            "type": "scattergl"
           }
          ],
          "scattermapbox": [
           {
            "marker": {
             "colorbar": {
              "outlinewidth": 0,
              "ticks": ""
             }
            },
            "type": "scattermapbox"
           }
          ],
          "scatterpolar": [
           {
            "marker": {
             "colorbar": {
              "outlinewidth": 0,
              "ticks": ""
             }
            },
            "type": "scatterpolar"
           }
          ],
          "scatterpolargl": [
           {
            "marker": {
             "colorbar": {
              "outlinewidth": 0,
              "ticks": ""
             }
            },
            "type": "scatterpolargl"
           }
          ],
          "scatterternary": [
           {
            "marker": {
             "colorbar": {
              "outlinewidth": 0,
              "ticks": ""
             }
            },
            "type": "scatterternary"
           }
          ],
          "surface": [
           {
            "colorbar": {
             "outlinewidth": 0,
             "ticks": ""
            },
            "colorscale": [
             [
              0,
              "#0d0887"
             ],
             [
              0.1111111111111111,
              "#46039f"
             ],
             [
              0.2222222222222222,
              "#7201a8"
             ],
             [
              0.3333333333333333,
              "#9c179e"
             ],
             [
              0.4444444444444444,
              "#bd3786"
             ],
             [
              0.5555555555555556,
              "#d8576b"
             ],
             [
              0.6666666666666666,
              "#ed7953"
             ],
             [
              0.7777777777777778,
              "#fb9f3a"
             ],
             [
              0.8888888888888888,
              "#fdca26"
             ],
             [
              1,
              "#f0f921"
             ]
            ],
            "type": "surface"
           }
          ],
          "table": [
           {
            "cells": {
             "fill": {
              "color": "#EBF0F8"
             },
             "line": {
              "color": "white"
             }
            },
            "header": {
             "fill": {
              "color": "#C8D4E3"
             },
             "line": {
              "color": "white"
             }
            },
            "type": "table"
           }
          ]
         },
         "layout": {
          "annotationdefaults": {
           "arrowcolor": "#2a3f5f",
           "arrowhead": 0,
           "arrowwidth": 1
          },
          "autotypenumbers": "strict",
          "coloraxis": {
           "colorbar": {
            "outlinewidth": 0,
            "ticks": ""
           }
          },
          "colorscale": {
           "diverging": [
            [
             0,
             "#8e0152"
            ],
            [
             0.1,
             "#c51b7d"
            ],
            [
             0.2,
             "#de77ae"
            ],
            [
             0.3,
             "#f1b6da"
            ],
            [
             0.4,
             "#fde0ef"
            ],
            [
             0.5,
             "#f7f7f7"
            ],
            [
             0.6,
             "#e6f5d0"
            ],
            [
             0.7,
             "#b8e186"
            ],
            [
             0.8,
             "#7fbc41"
            ],
            [
             0.9,
             "#4d9221"
            ],
            [
             1,
             "#276419"
            ]
           ],
           "sequential": [
            [
             0,
             "#0d0887"
            ],
            [
             0.1111111111111111,
             "#46039f"
            ],
            [
             0.2222222222222222,
             "#7201a8"
            ],
            [
             0.3333333333333333,
             "#9c179e"
            ],
            [
             0.4444444444444444,
             "#bd3786"
            ],
            [
             0.5555555555555556,
             "#d8576b"
            ],
            [
             0.6666666666666666,
             "#ed7953"
            ],
            [
             0.7777777777777778,
             "#fb9f3a"
            ],
            [
             0.8888888888888888,
             "#fdca26"
            ],
            [
             1,
             "#f0f921"
            ]
           ],
           "sequentialminus": [
            [
             0,
             "#0d0887"
            ],
            [
             0.1111111111111111,
             "#46039f"
            ],
            [
             0.2222222222222222,
             "#7201a8"
            ],
            [
             0.3333333333333333,
             "#9c179e"
            ],
            [
             0.4444444444444444,
             "#bd3786"
            ],
            [
             0.5555555555555556,
             "#d8576b"
            ],
            [
             0.6666666666666666,
             "#ed7953"
            ],
            [
             0.7777777777777778,
             "#fb9f3a"
            ],
            [
             0.8888888888888888,
             "#fdca26"
            ],
            [
             1,
             "#f0f921"
            ]
           ]
          },
          "colorway": [
           "#636efa",
           "#EF553B",
           "#00cc96",
           "#ab63fa",
           "#FFA15A",
           "#19d3f3",
           "#FF6692",
           "#B6E880",
           "#FF97FF",
           "#FECB52"
          ],
          "font": {
           "color": "#2a3f5f"
          },
          "geo": {
           "bgcolor": "white",
           "lakecolor": "white",
           "landcolor": "#E5ECF6",
           "showlakes": true,
           "showland": true,
           "subunitcolor": "white"
          },
          "hoverlabel": {
           "align": "left"
          },
          "hovermode": "closest",
          "mapbox": {
           "style": "light"
          },
          "paper_bgcolor": "white",
          "plot_bgcolor": "#E5ECF6",
          "polar": {
           "angularaxis": {
            "gridcolor": "white",
            "linecolor": "white",
            "ticks": ""
           },
           "bgcolor": "#E5ECF6",
           "radialaxis": {
            "gridcolor": "white",
            "linecolor": "white",
            "ticks": ""
           }
          },
          "scene": {
           "xaxis": {
            "backgroundcolor": "#E5ECF6",
            "gridcolor": "white",
            "gridwidth": 2,
            "linecolor": "white",
            "showbackground": true,
            "ticks": "",
            "zerolinecolor": "white"
           },
           "yaxis": {
            "backgroundcolor": "#E5ECF6",
            "gridcolor": "white",
            "gridwidth": 2,
            "linecolor": "white",
            "showbackground": true,
            "ticks": "",
            "zerolinecolor": "white"
           },
           "zaxis": {
            "backgroundcolor": "#E5ECF6",
            "gridcolor": "white",
            "gridwidth": 2,
            "linecolor": "white",
            "showbackground": true,
            "ticks": "",
            "zerolinecolor": "white"
           }
          },
          "shapedefaults": {
           "line": {
            "color": "#2a3f5f"
           }
          },
          "ternary": {
           "aaxis": {
            "gridcolor": "white",
            "linecolor": "white",
            "ticks": ""
           },
           "baxis": {
            "gridcolor": "white",
            "linecolor": "white",
            "ticks": ""
           },
           "bgcolor": "#E5ECF6",
           "caxis": {
            "gridcolor": "white",
            "linecolor": "white",
            "ticks": ""
           }
          },
          "title": {
           "x": 0.05
          },
          "xaxis": {
           "automargin": true,
           "gridcolor": "white",
           "linecolor": "white",
           "ticks": "",
           "title": {
            "standoff": 15
           },
           "zerolinecolor": "white",
           "zerolinewidth": 2
          },
          "yaxis": {
           "automargin": true,
           "gridcolor": "white",
           "linecolor": "white",
           "ticks": "",
           "title": {
            "standoff": 15
           },
           "zerolinecolor": "white",
           "zerolinewidth": 2
          }
         }
        },
        "width": 800
       }
      }
     },
     "metadata": {}
    }
   ],
   "source": [
    "fig = px.scatter_3d(\n",
    "    df_pca,\n",
    "    x=\"principal component 3\",\n",
    "    y=\"principal component 2\",\n",
    "    z=\"principal component 1\",\n",
    "    color=\"class\",\n",
    "    symbol=\"class\",\n",
    "    width=800,\n",
    ")\n",
    "fig.update_layout(legend=dict(x=0, y=1))\n",
    "fig.show()"
   ]
  },
  {
   "cell_type": "code",
   "execution_count": null,
   "metadata": {},
   "outputs": [],
   "source": []
  }
 ]
}