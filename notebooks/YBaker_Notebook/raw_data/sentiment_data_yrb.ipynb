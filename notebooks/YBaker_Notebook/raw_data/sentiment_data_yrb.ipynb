{
 "cells": [
  {
   "cell_type": "code",
   "execution_count": 1,
   "id": "warming-ground",
   "metadata": {},
   "outputs": [],
   "source": [
    "# Getting Data for Sentiment Analysis"
   ]
  },
  {
   "cell_type": "code",
   "execution_count": 2,
   "id": "alive-consolidation",
   "metadata": {},
   "outputs": [],
   "source": [
    "import tweepy\r\n",
    "import pandas as pd\r\n",
    "import os\r\n",
    "from dotenv import load_dotenv"
   ]
  },
  {
   "cell_type": "code",
   "execution_count": 3,
   "id": "atlantic-tunisia",
   "metadata": {},
   "outputs": [
    {
     "data": {
      "text/plain": [
       "True"
      ]
     },
     "execution_count": 3,
     "metadata": {},
     "output_type": "execute_result"
    }
   ],
   "source": [
    "load_dotenv()"
   ]
  },
  {
   "cell_type": "code",
   "execution_count": 4,
   "id": "rational-turkey",
   "metadata": {},
   "outputs": [],
   "source": [
    "consumer_key=os.getenv(\"consumer_key\")\r\n",
    "consumer_secret=os.getenv(\"consumer_secret\")\r\n",
    "access_token=os.getenv(\"access_token\")\r\n",
    "access_token_secret=os.getenv(\"access_token_secret\")\r\n"
   ]
  },
  {
   "cell_type": "code",
   "execution_count": 5,
   "id": "furnished-biology",
   "metadata": {},
   "outputs": [],
   "source": [
    "auth = tweepy.OAuthHandler(consumer_key, consumer_secret)\r\n",
    "auth.set_access_token(access_token, access_token_secret)\r\n",
    "\r\n",
    "api = tweepy.API(auth)"
   ]
  },
  {
   "cell_type": "code",
   "execution_count": 6,
   "id": "vietnamese-brunswick",
   "metadata": {},
   "outputs": [
    {
     "name": "stdout",
     "output_type": "stream",
     "text": [
      "Production &amp; deliveries in Q2 surpassed 200,000 vehicles https://t.co/xyLOa0JHX7\n"
     ]
    }
   ],
   "source": [
    "# to access a tweet from id: tesla - example: show the full tweet using 'full_text'\r\n",
    "cursor = tweepy.Cursor(api.user_timeline, id='tesla', tweet_mode='extended').items(1)\r\n",
    "for i in cursor:\r\n",
    "    print(i.full_text)\r\n"
   ]
  },
  {
   "cell_type": "code",
   "execution_count": 7,
   "id": "inclusive-stack",
   "metadata": {},
   "outputs": [
    {
     "name": "stdout",
     "output_type": "stream",
     "text": [
      "['__class__', '__delattr__', '__dict__', '__dir__', '__doc__', '__eq__', '__format__', '__ge__', '__getattribute__', '__getstate__', '__gt__', '__hash__', '__init__', '__init_subclass__', '__le__', '__lt__', '__module__', '__ne__', '__new__', '__reduce__', '__reduce_ex__', '__repr__', '__setattr__', '__sizeof__', '__str__', '__subclasshook__', '__weakref__', '_api', '_json', 'author', 'contributors', 'coordinates', 'created_at', 'destroy', 'display_text_range', 'entities', 'favorite', 'favorite_count', 'favorited', 'full_text', 'geo', 'id', 'id_str', 'in_reply_to_screen_name', 'in_reply_to_status_id', 'in_reply_to_status_id_str', 'in_reply_to_user_id', 'in_reply_to_user_id_str', 'is_quote_status', 'lang', 'parse', 'parse_list', 'place', 'possibly_sensitive', 'retweet', 'retweet_count', 'retweeted', 'retweets', 'source', 'source_url', 'truncated', 'user']\n"
     ]
    }
   ],
   "source": [
    "# Creating variable 'Cursor' to navigate through Twitter from a specific userID, 'tesla'\r\n",
    "# The information of a single tweet. \r\n",
    "# For example, 'favorite' is containing the amount of likes for a tweet, 'full_text' is the text of the tweet\r\n",
    "cursor = tweepy.Cursor(api.user_timeline, id='tesla', tweet_mode='extended').items(1)\r\n",
    "for i in cursor:\r\n",
    "    print(dir(i))"
   ]
  },
  {
   "cell_type": "code",
   "execution_count": 8,
   "id": "downtown-baghdad",
   "metadata": {},
   "outputs": [],
   "source": [
    "number_of_tweets=200\r\n",
    "tweets=[]\r\n",
    "likes=[]\r\n",
    "time=[]\r\n",
    "\r\n",
    "for i in tweepy.Cursor(api.user_timeline, id='tesla', tweet_mode='extended').items(number_of_tweets):\r\n",
    "    tweets.append(i.full_text)\r\n",
    "    likes.append(i.favorite_count)\r\n",
    "    time.append(i.created_at)"
   ]
  },
  {
   "cell_type": "code",
   "execution_count": 9,
   "id": "equal-championship",
   "metadata": {},
   "outputs": [],
   "source": [
    "tesla_df = pd.DataFrame({'tweets':tweets,'likes':likes,'time':time})"
   ]
  },
  {
   "cell_type": "code",
   "execution_count": 10,
   "id": "stupid-algeria",
   "metadata": {},
   "outputs": [
    {
     "data": {
      "text/html": [
       "<div>\n",
       "<style scoped>\n",
       "    .dataframe tbody tr th:only-of-type {\n",
       "        vertical-align: middle;\n",
       "    }\n",
       "\n",
       "    .dataframe tbody tr th {\n",
       "        vertical-align: top;\n",
       "    }\n",
       "\n",
       "    .dataframe thead th {\n",
       "        text-align: right;\n",
       "    }\n",
       "</style>\n",
       "<table border=\"1\" class=\"dataframe\">\n",
       "  <thead>\n",
       "    <tr style=\"text-align: right;\">\n",
       "      <th></th>\n",
       "      <th>tweets</th>\n",
       "      <th>likes</th>\n",
       "      <th>time</th>\n",
       "    </tr>\n",
       "  </thead>\n",
       "  <tbody>\n",
       "    <tr>\n",
       "      <th>0</th>\n",
       "      <td>Production &amp;amp; deliveries in Q2 surpassed 20...</td>\n",
       "      <td>8031</td>\n",
       "      <td>2021-07-02 13:37:58</td>\n",
       "    </tr>\n",
       "    <tr>\n",
       "      <th>1</th>\n",
       "      <td>RT @elonmusk: @marcodzo @Tesla Sometimes peopl...</td>\n",
       "      <td>0</td>\n",
       "      <td>2021-06-25 22:22:22</td>\n",
       "    </tr>\n",
       "    <tr>\n",
       "      <th>2</th>\n",
       "      <td>RT @elonmusk: @Tesla Peak acceleration is over...</td>\n",
       "      <td>0</td>\n",
       "      <td>2021-06-18 22:46:55</td>\n",
       "    </tr>\n",
       "    <tr>\n",
       "      <th>3</th>\n",
       "      <td>Experiencing Plaid https://t.co/nipaxKbkjY</td>\n",
       "      <td>53179</td>\n",
       "      <td>2021-06-18 18:24:18</td>\n",
       "    </tr>\n",
       "    <tr>\n",
       "      <th>4</th>\n",
       "      <td>https://t.co/v9mFAeSY1v</td>\n",
       "      <td>13871</td>\n",
       "      <td>2021-06-16 17:11:21</td>\n",
       "    </tr>\n",
       "    <tr>\n",
       "      <th>...</th>\n",
       "      <td>...</td>\n",
       "      <td>...</td>\n",
       "      <td>...</td>\n",
       "    </tr>\n",
       "    <tr>\n",
       "      <th>195</th>\n",
       "      <td>Customer: There’s a dent on the front-ish-side...</td>\n",
       "      <td>13025</td>\n",
       "      <td>2019-08-30 20:05:20</td>\n",
       "    </tr>\n",
       "    <tr>\n",
       "      <th>196</th>\n",
       "      <td>Voilà, we’ve unlocked even more power in our E...</td>\n",
       "      <td>5245</td>\n",
       "      <td>2019-08-29 17:52:38</td>\n",
       "    </tr>\n",
       "    <tr>\n",
       "      <th>197</th>\n",
       "      <td>Algorithm update in progress</td>\n",
       "      <td>3287</td>\n",
       "      <td>2019-08-28 23:06:38</td>\n",
       "    </tr>\n",
       "    <tr>\n",
       "      <th>198</th>\n",
       "      <td>We're making some updates to Tesla Insurance a...</td>\n",
       "      <td>3516</td>\n",
       "      <td>2019-08-28 22:49:26</td>\n",
       "    </tr>\n",
       "    <tr>\n",
       "      <th>199</th>\n",
       "      <td>Tesla Insurance launches today in California t...</td>\n",
       "      <td>9261</td>\n",
       "      <td>2019-08-28 19:55:12</td>\n",
       "    </tr>\n",
       "  </tbody>\n",
       "</table>\n",
       "<p>200 rows × 3 columns</p>\n",
       "</div>"
      ],
      "text/plain": [
       "                                                tweets  likes  \\\n",
       "0    Production &amp; deliveries in Q2 surpassed 20...   8031   \n",
       "1    RT @elonmusk: @marcodzo @Tesla Sometimes peopl...      0   \n",
       "2    RT @elonmusk: @Tesla Peak acceleration is over...      0   \n",
       "3           Experiencing Plaid https://t.co/nipaxKbkjY  53179   \n",
       "4                              https://t.co/v9mFAeSY1v  13871   \n",
       "..                                                 ...    ...   \n",
       "195  Customer: There’s a dent on the front-ish-side...  13025   \n",
       "196  Voilà, we’ve unlocked even more power in our E...   5245   \n",
       "197                       Algorithm update in progress   3287   \n",
       "198  We're making some updates to Tesla Insurance a...   3516   \n",
       "199  Tesla Insurance launches today in California t...   9261   \n",
       "\n",
       "                   time  \n",
       "0   2021-07-02 13:37:58  \n",
       "1   2021-06-25 22:22:22  \n",
       "2   2021-06-18 22:46:55  \n",
       "3   2021-06-18 18:24:18  \n",
       "4   2021-06-16 17:11:21  \n",
       "..                  ...  \n",
       "195 2019-08-30 20:05:20  \n",
       "196 2019-08-29 17:52:38  \n",
       "197 2019-08-28 23:06:38  \n",
       "198 2019-08-28 22:49:26  \n",
       "199 2019-08-28 19:55:12  \n",
       "\n",
       "[200 rows x 3 columns]"
      ]
     },
     "execution_count": 10,
     "metadata": {},
     "output_type": "execute_result"
    }
   ],
   "source": [
    "tesla_df"
   ]
  },
  {
   "cell_type": "code",
   "execution_count": 11,
   "id": "direct-transition",
   "metadata": {},
   "outputs": [],
   "source": [
    "# this is reading it out to a csv. do the same for ford and gm, as well as the other industries that\r\n",
    "#bilikisu and Samuel need. We need to show the impact of tweets for our companies. \r\n",
    "# see code below\r\n"
   ]
  },
  {
   "cell_type": "code",
   "execution_count": 12,
   "id": "fantastic-clinic",
   "metadata": {},
   "outputs": [],
   "source": [
    "# This allows the csv to be posted on your tree to the left \r\n",
    "tesla_df.to_csv('tesla.csv')"
   ]
  },
  {
   "cell_type": "markdown",
   "id": "conservative-viewer",
   "metadata": {},
   "source": [
    "# Gathering Twitter API data to create dataframe, .csv for GM "
   ]
  },
  {
   "cell_type": "code",
   "execution_count": 14,
   "id": "raising-brand",
   "metadata": {},
   "outputs": [
    {
     "name": "stdout",
     "output_type": "stream",
     "text": [
      "@StephFernasty We're certainly sorry to hear this news, Stephanie. If you'd like to further discuss this situation, please send us a DM when you get a chance. ^KL\n"
     ]
    }
   ],
   "source": [
    "# to access a tweet from id: gm - example: show the full tweet using 'full_text'\r\n",
    "cursor = tweepy.Cursor(api.user_timeline, id='gm', tweet_mode='extended').items(1)\r\n",
    "for i in cursor:\r\n",
    "    print(i.full_text)\r\n"
   ]
  },
  {
   "cell_type": "code",
   "execution_count": 15,
   "id": "unlike-knight",
   "metadata": {},
   "outputs": [
    {
     "name": "stdout",
     "output_type": "stream",
     "text": [
      "['__class__', '__delattr__', '__dict__', '__dir__', '__doc__', '__eq__', '__format__', '__ge__', '__getattribute__', '__getstate__', '__gt__', '__hash__', '__init__', '__init_subclass__', '__le__', '__lt__', '__module__', '__ne__', '__new__', '__reduce__', '__reduce_ex__', '__repr__', '__setattr__', '__sizeof__', '__str__', '__subclasshook__', '__weakref__', '_api', '_json', 'author', 'contributors', 'coordinates', 'created_at', 'destroy', 'display_text_range', 'entities', 'favorite', 'favorite_count', 'favorited', 'full_text', 'geo', 'id', 'id_str', 'in_reply_to_screen_name', 'in_reply_to_status_id', 'in_reply_to_status_id_str', 'in_reply_to_user_id', 'in_reply_to_user_id_str', 'is_quote_status', 'lang', 'parse', 'parse_list', 'place', 'retweet', 'retweet_count', 'retweeted', 'retweets', 'source', 'source_url', 'truncated', 'user']\n"
     ]
    }
   ],
   "source": [
    "# Creating variable 'Cursor' to navigate through Twitter from a specific userID, 'gm'\r\n",
    "# The information of a single tweet. \r\n",
    "# For example, 'favorite' is containing the amount of likes for a tweet, 'full_text' is the text of the tweet\r\n",
    "cursor = tweepy.Cursor(api.user_timeline, id='gm', tweet_mode='extended').items(1)\r\n",
    "for i in cursor:\r\n",
    "    print(dir(i))"
   ]
  },
  {
   "cell_type": "code",
   "execution_count": 16,
   "id": "ignored-average",
   "metadata": {},
   "outputs": [],
   "source": [
    "number_of_tweets=200\r\n",
    "tweets=[]\r\n",
    "likes=[]\r\n",
    "time=[]\r\n",
    "\r\n",
    "for i in tweepy.Cursor(api.user_timeline, id='gm', tweet_mode='extended').items(number_of_tweets):\r\n",
    "    tweets.append(i.full_text)\r\n",
    "    likes.append(i.favorite_count)\r\n",
    "    time.append(i.created_at)"
   ]
  },
  {
   "cell_type": "code",
   "execution_count": 17,
   "id": "plastic-adjustment",
   "metadata": {},
   "outputs": [
    {
     "data": {
      "text/html": [
       "<div>\n",
       "<style scoped>\n",
       "    .dataframe tbody tr th:only-of-type {\n",
       "        vertical-align: middle;\n",
       "    }\n",
       "\n",
       "    .dataframe tbody tr th {\n",
       "        vertical-align: top;\n",
       "    }\n",
       "\n",
       "    .dataframe thead th {\n",
       "        text-align: right;\n",
       "    }\n",
       "</style>\n",
       "<table border=\"1\" class=\"dataframe\">\n",
       "  <thead>\n",
       "    <tr style=\"text-align: right;\">\n",
       "      <th></th>\n",
       "      <th>tweets</th>\n",
       "      <th>likes</th>\n",
       "      <th>time</th>\n",
       "    </tr>\n",
       "  </thead>\n",
       "  <tbody>\n",
       "    <tr>\n",
       "      <th>0</th>\n",
       "      <td>@StephFernasty We're certainly sorry to hear t...</td>\n",
       "      <td>0</td>\n",
       "      <td>2021-07-01 20:42:22</td>\n",
       "    </tr>\n",
       "    <tr>\n",
       "      <th>1</th>\n",
       "      <td>RT @POTUS: Folks, I’m a car guy – and I firmly...</td>\n",
       "      <td>0</td>\n",
       "      <td>2021-07-01 18:32:49</td>\n",
       "    </tr>\n",
       "    <tr>\n",
       "      <th>2</th>\n",
       "      <td>Finally, Bilingual Sr. Analyst Jeremiah Romero...</td>\n",
       "      <td>10</td>\n",
       "      <td>2021-06-30 22:10:33</td>\n",
       "    </tr>\n",
       "    <tr>\n",
       "      <th>3</th>\n",
       "      <td>GMPlus Co-Vice President and Infotainment Prog...</td>\n",
       "      <td>10</td>\n",
       "      <td>2021-06-30 22:10:31</td>\n",
       "    </tr>\n",
       "    <tr>\n",
       "      <th>4</th>\n",
       "      <td>Software Test Engineer Branden Basche says the...</td>\n",
       "      <td>4</td>\n",
       "      <td>2021-06-30 22:10:29</td>\n",
       "    </tr>\n",
       "    <tr>\n",
       "      <th>...</th>\n",
       "      <td>...</td>\n",
       "      <td>...</td>\n",
       "      <td>...</td>\n",
       "    </tr>\n",
       "    <tr>\n",
       "      <th>195</th>\n",
       "      <td>@maeBe99 Hi there. At GM, we treat any reporte...</td>\n",
       "      <td>0</td>\n",
       "      <td>2021-04-16 23:50:12</td>\n",
       "    </tr>\n",
       "    <tr>\n",
       "      <th>196</th>\n",
       "      <td>We’re excited to announce that Ultium Cells LL...</td>\n",
       "      <td>135</td>\n",
       "      <td>2021-04-16 19:11:21</td>\n",
       "    </tr>\n",
       "    <tr>\n",
       "      <th>197</th>\n",
       "      <td>@BooksbyMelville It's our pleasure, Michael. T...</td>\n",
       "      <td>1</td>\n",
       "      <td>2021-04-16 17:16:44</td>\n",
       "    </tr>\n",
       "    <tr>\n",
       "      <th>198</th>\n",
       "      <td>@Stackin_Change Hello, Al. At GM, we treat any...</td>\n",
       "      <td>2</td>\n",
       "      <td>2021-04-16 17:15:44</td>\n",
       "    </tr>\n",
       "    <tr>\n",
       "      <th>199</th>\n",
       "      <td>@BooksbyMelville Hello, Michel. At GM, we trea...</td>\n",
       "      <td>2</td>\n",
       "      <td>2021-04-16 17:10:15</td>\n",
       "    </tr>\n",
       "  </tbody>\n",
       "</table>\n",
       "<p>200 rows × 3 columns</p>\n",
       "</div>"
      ],
      "text/plain": [
       "                                                tweets  likes  \\\n",
       "0    @StephFernasty We're certainly sorry to hear t...      0   \n",
       "1    RT @POTUS: Folks, I’m a car guy – and I firmly...      0   \n",
       "2    Finally, Bilingual Sr. Analyst Jeremiah Romero...     10   \n",
       "3    GMPlus Co-Vice President and Infotainment Prog...     10   \n",
       "4    Software Test Engineer Branden Basche says the...      4   \n",
       "..                                                 ...    ...   \n",
       "195  @maeBe99 Hi there. At GM, we treat any reporte...      0   \n",
       "196  We’re excited to announce that Ultium Cells LL...    135   \n",
       "197  @BooksbyMelville It's our pleasure, Michael. T...      1   \n",
       "198  @Stackin_Change Hello, Al. At GM, we treat any...      2   \n",
       "199  @BooksbyMelville Hello, Michel. At GM, we trea...      2   \n",
       "\n",
       "                   time  \n",
       "0   2021-07-01 20:42:22  \n",
       "1   2021-07-01 18:32:49  \n",
       "2   2021-06-30 22:10:33  \n",
       "3   2021-06-30 22:10:31  \n",
       "4   2021-06-30 22:10:29  \n",
       "..                  ...  \n",
       "195 2021-04-16 23:50:12  \n",
       "196 2021-04-16 19:11:21  \n",
       "197 2021-04-16 17:16:44  \n",
       "198 2021-04-16 17:15:44  \n",
       "199 2021-04-16 17:10:15  \n",
       "\n",
       "[200 rows x 3 columns]"
      ]
     },
     "execution_count": 17,
     "metadata": {},
     "output_type": "execute_result"
    }
   ],
   "source": [
    "gm_df = pd.DataFrame({'tweets':tweets,'likes':likes,'time':time})\r\n",
    "gm_df"
   ]
  },
  {
   "cell_type": "code",
   "execution_count": 18,
   "id": "living-oklahoma",
   "metadata": {},
   "outputs": [],
   "source": [
    "# This allows the csv to be posted on your tree to the left \r\n",
    "gm_df.to_csv('gm.csv')"
   ]
  },
  {
   "cell_type": "markdown",
   "id": "acoustic-vatican",
   "metadata": {},
   "source": [
    "# Gathering Twitter API data to create dataframe, .csv for Ford "
   ]
  },
  {
   "cell_type": "code",
   "execution_count": 20,
   "id": "immune-thumbnail",
   "metadata": {},
   "outputs": [
    {
     "name": "stdout",
     "output_type": "stream",
     "text": [
      "@KevinKalk Hello, Kevin! Feel free to send us a DM with your VIN and current mileage. I’d be happy to look into this for you.\n"
     ]
    }
   ],
   "source": [
    "# to access a tweet from id: ford - example: show the full tweet using 'full_text'\r\n",
    "cursor = tweepy.Cursor(api.user_timeline, id='ford', tweet_mode='extended').items(1)\r\n",
    "for i in cursor:\r\n",
    "    print(i.full_text)\r\n"
   ]
  },
  {
   "cell_type": "code",
   "execution_count": 21,
   "id": "compressed-visibility",
   "metadata": {},
   "outputs": [
    {
     "name": "stdout",
     "output_type": "stream",
     "text": [
      "['__class__', '__delattr__', '__dict__', '__dir__', '__doc__', '__eq__', '__format__', '__ge__', '__getattribute__', '__getstate__', '__gt__', '__hash__', '__init__', '__init_subclass__', '__le__', '__lt__', '__module__', '__ne__', '__new__', '__reduce__', '__reduce_ex__', '__repr__', '__setattr__', '__sizeof__', '__str__', '__subclasshook__', '__weakref__', '_api', '_json', 'author', 'contributors', 'coordinates', 'created_at', 'destroy', 'display_text_range', 'entities', 'favorite', 'favorite_count', 'favorited', 'full_text', 'geo', 'id', 'id_str', 'in_reply_to_screen_name', 'in_reply_to_status_id', 'in_reply_to_status_id_str', 'in_reply_to_user_id', 'in_reply_to_user_id_str', 'is_quote_status', 'lang', 'parse', 'parse_list', 'place', 'retweet', 'retweet_count', 'retweeted', 'retweets', 'source', 'source_url', 'truncated', 'user']\n"
     ]
    }
   ],
   "source": [
    "# Creating variable 'Cursor' to navigate through Twitter from a specific userID, 'ford'\r\n",
    "# The information of a single tweet. \r\n",
    "# For example, 'favorite' is containing the amount of likes for a tweet, 'full_text' is the text of the tweet\r\n",
    "cursor = tweepy.Cursor(api.user_timeline, id='ford', tweet_mode='extended').items(1)\r\n",
    "for i in cursor:\r\n",
    "    print(dir(i))"
   ]
  },
  {
   "cell_type": "code",
   "execution_count": 22,
   "id": "interior-telescope",
   "metadata": {},
   "outputs": [],
   "source": [
    "number_of_tweets=200\r\n",
    "tweets=[]\r\n",
    "likes=[]\r\n",
    "time=[]\r\n",
    "\r\n",
    "for i in tweepy.Cursor(api.user_timeline, id='ford', tweet_mode='extended').items(number_of_tweets):\r\n",
    "    tweets.append(i.full_text)\r\n",
    "    likes.append(i.favorite_count)\r\n",
    "    time.append(i.created_at)"
   ]
  },
  {
   "cell_type": "code",
   "execution_count": 23,
   "id": "distant-victory",
   "metadata": {},
   "outputs": [
    {
     "data": {
      "text/html": [
       "<div>\n",
       "<style scoped>\n",
       "    .dataframe tbody tr th:only-of-type {\n",
       "        vertical-align: middle;\n",
       "    }\n",
       "\n",
       "    .dataframe tbody tr th {\n",
       "        vertical-align: top;\n",
       "    }\n",
       "\n",
       "    .dataframe thead th {\n",
       "        text-align: right;\n",
       "    }\n",
       "</style>\n",
       "<table border=\"1\" class=\"dataframe\">\n",
       "  <thead>\n",
       "    <tr style=\"text-align: right;\">\n",
       "      <th></th>\n",
       "      <th>tweets</th>\n",
       "      <th>likes</th>\n",
       "      <th>time</th>\n",
       "    </tr>\n",
       "  </thead>\n",
       "  <tbody>\n",
       "    <tr>\n",
       "      <th>0</th>\n",
       "      <td>@KevinKalk Hello, Kevin! Feel free to send us ...</td>\n",
       "      <td>1</td>\n",
       "      <td>2021-07-02 18:28:02</td>\n",
       "    </tr>\n",
       "    <tr>\n",
       "      <th>1</th>\n",
       "      <td>This #4thofJuly, salute those who serve with n...</td>\n",
       "      <td>67</td>\n",
       "      <td>2021-07-02 16:00:03</td>\n",
       "    </tr>\n",
       "    <tr>\n",
       "      <th>2</th>\n",
       "      <td>@Heather49357915 Good morning, Heather. If you...</td>\n",
       "      <td>0</td>\n",
       "      <td>2021-07-02 15:41:22</td>\n",
       "    </tr>\n",
       "    <tr>\n",
       "      <th>3</th>\n",
       "      <td>@beck2323 Good morning, Michael. Please send u...</td>\n",
       "      <td>0</td>\n",
       "      <td>2021-07-02 14:41:40</td>\n",
       "    </tr>\n",
       "    <tr>\n",
       "      <th>4</th>\n",
       "      <td>@Shiloh55 Good morning, Rick. Feel free to sen...</td>\n",
       "      <td>0</td>\n",
       "      <td>2021-07-02 14:09:12</td>\n",
       "    </tr>\n",
       "    <tr>\n",
       "      <th>...</th>\n",
       "      <td>...</td>\n",
       "      <td>...</td>\n",
       "      <td>...</td>\n",
       "    </tr>\n",
       "    <tr>\n",
       "      <th>195</th>\n",
       "      <td>@beth_borderline Good morning, Beth! If you wo...</td>\n",
       "      <td>1</td>\n",
       "      <td>2021-06-11 15:48:54</td>\n",
       "    </tr>\n",
       "    <tr>\n",
       "      <th>196</th>\n",
       "      <td>@FloridaResiden3 Good morning! If you wouldn’t...</td>\n",
       "      <td>0</td>\n",
       "      <td>2021-06-11 14:49:32</td>\n",
       "    </tr>\n",
       "    <tr>\n",
       "      <th>197</th>\n",
       "      <td>@_BigVince Good morning, Vince! Please send us...</td>\n",
       "      <td>1</td>\n",
       "      <td>2021-06-11 13:49:44</td>\n",
       "    </tr>\n",
       "    <tr>\n",
       "      <th>198</th>\n",
       "      <td>@Gimmer Good morning. Can you send us a direct...</td>\n",
       "      <td>0</td>\n",
       "      <td>2021-06-11 13:09:40</td>\n",
       "    </tr>\n",
       "    <tr>\n",
       "      <th>199</th>\n",
       "      <td>@PhrozenFenix Hi there, Giordano. Will you sen...</td>\n",
       "      <td>0</td>\n",
       "      <td>2021-06-10 20:17:55</td>\n",
       "    </tr>\n",
       "  </tbody>\n",
       "</table>\n",
       "<p>200 rows × 3 columns</p>\n",
       "</div>"
      ],
      "text/plain": [
       "                                                tweets  likes  \\\n",
       "0    @KevinKalk Hello, Kevin! Feel free to send us ...      1   \n",
       "1    This #4thofJuly, salute those who serve with n...     67   \n",
       "2    @Heather49357915 Good morning, Heather. If you...      0   \n",
       "3    @beck2323 Good morning, Michael. Please send u...      0   \n",
       "4    @Shiloh55 Good morning, Rick. Feel free to sen...      0   \n",
       "..                                                 ...    ...   \n",
       "195  @beth_borderline Good morning, Beth! If you wo...      1   \n",
       "196  @FloridaResiden3 Good morning! If you wouldn’t...      0   \n",
       "197  @_BigVince Good morning, Vince! Please send us...      1   \n",
       "198  @Gimmer Good morning. Can you send us a direct...      0   \n",
       "199  @PhrozenFenix Hi there, Giordano. Will you sen...      0   \n",
       "\n",
       "                   time  \n",
       "0   2021-07-02 18:28:02  \n",
       "1   2021-07-02 16:00:03  \n",
       "2   2021-07-02 15:41:22  \n",
       "3   2021-07-02 14:41:40  \n",
       "4   2021-07-02 14:09:12  \n",
       "..                  ...  \n",
       "195 2021-06-11 15:48:54  \n",
       "196 2021-06-11 14:49:32  \n",
       "197 2021-06-11 13:49:44  \n",
       "198 2021-06-11 13:09:40  \n",
       "199 2021-06-10 20:17:55  \n",
       "\n",
       "[200 rows x 3 columns]"
      ]
     },
     "execution_count": 23,
     "metadata": {},
     "output_type": "execute_result"
    }
   ],
   "source": [
    "ford_df = pd.DataFrame({'tweets':tweets,'likes':likes,'time':time})\r\n",
    "ford_df"
   ]
  },
  {
   "cell_type": "code",
   "execution_count": 24,
   "id": "molecular-insured",
   "metadata": {},
   "outputs": [],
   "source": [
    "# This allows the csv to be posted on your tree to the left \r\n",
    "ford_df.to_csv('ford.csv')"
   ]
  },
  {
   "cell_type": "code",
   "execution_count": null,
   "id": "expired-isaac",
   "metadata": {},
   "outputs": [],
   "source": []
  }
 ],
 "metadata": {
  "interpreter": {
   "hash": "183bbf6827d058c2a2fb0f4acdc0420849dda2b4380af0e437e38c64d798d8b7"
  },
  "kernelspec": {
   "display_name": "Python 3",
   "language": "python",
   "name": "python3"
  },
  "language_info": {
   "codemirror_mode": {
    "name": "ipython",
    "version": 3
   },
   "file_extension": ".py",
   "mimetype": "text/x-python",
   "name": "python",
   "nbconvert_exporter": "python",
   "pygments_lexer": "ipython3",
   "version": "3.8.5"
  }
 },
 "nbformat": 4,
 "nbformat_minor": 5
}
