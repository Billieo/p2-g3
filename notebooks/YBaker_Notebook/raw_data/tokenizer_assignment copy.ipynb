{
 "cells": [
  {
   "cell_type": "code",
   "execution_count": 34,
   "metadata": {},
   "outputs": [
    {
     "name": "stderr",
     "output_type": "stream",
     "text": [
      "[nltk_data] Downloading package vader_lexicon to\n",
      "[nltk_data]     C:\\Users\\Admin\\AppData\\Roaming\\nltk_data...\n",
      "[nltk_data]   Package vader_lexicon is already up-to-date!\n",
      "[nltk_data] Downloading package punkt to\n",
      "[nltk_data]     C:\\Users\\Admin\\AppData\\Roaming\\nltk_data...\n",
      "[nltk_data]   Package punkt is already up-to-date!\n"
     ]
    }
   ],
   "source": [
    "# Initial imports\r\n",
    "import os\r\n",
    "import pandas as pd\r\n",
    "from datetime import datetime, timedelta\r\n",
    "from pathlib import Path\r\n",
    "from newsapi.newsapi_client import NewsApiClient\r\n",
    "from dotenv import load_dotenv\r\n",
    "from nltk.corpus import stopwords, reuters\r\n",
    "from nltk.tokenize import sent_tokenize, word_tokenize\r\n",
    "load_dotenv()\r\n",
    "import nltk as nltk\r\n",
    "nltk.download('vader_lexicon')\r\n",
    "from nltk.sentiment.vader import SentimentIntensityAnalyzer\r\n",
    "analyzer = SentimentIntensityAnalyzer()\r\n",
    "nltk.download('punkt')\r\n",
    "from nltk.stem import WordNetLemmatizer\r\n",
    "from nltk.tokenize import word_tokenize\r\n",
    "import re\r\n",
    "\r\n",
    "%matplotlib inline"
   ]
  },
  {
   "cell_type": "code",
   "execution_count": 35,
   "metadata": {},
   "outputs": [],
   "source": [
    "api_key = os.getenv(\"news_api\")"
   ]
  },
  {
   "cell_type": "code",
   "execution_count": 36,
   "metadata": {},
   "outputs": [],
   "source": [
    "newsapi = NewsApiClient(api_key=api_key)"
   ]
  },
  {
   "cell_type": "code",
   "execution_count": 37,
   "metadata": {},
   "outputs": [
    {
     "name": "stdout",
     "output_type": "stream",
     "text": [
      "{'source': {'id': 'engadget', 'name': 'Engadget'}, 'author': 'Igor Bonifacic', 'title': 'Automakers must report crashes involving self-driving and driver-assist systems', 'description': 'The National Highway Traffic Safety Administration (NHTSA) has implemented a new policy that will require car companies to report incidents involving semi- and fully autonomous driving systems within one day of learning of an accident. In an\\xa0order\\xa0spotted by\\xa0…', 'url': 'https://www.engadget.com/nhtsa-automated-driving-system-crash-report-174552853.html', 'urlToImage': 'https://s.yimg.com/os/creatr-images/2020-01/1e88d580-3edd-11ea-8a57-ce70dbfb73e6', 'publishedAt': '2021-06-29T17:45:52Z', 'content': 'The National Highway Traffic Safety Administration (NHTSA) has implemented a new policy that will require car companies to report incidents involving semi- and fully autonomous driving systems within… [+1815 chars]'}\n"
     ]
    }
   ],
   "source": [
    "tech_news = newsapi.get_everything(q = \"Technology & Regulation\", language=\"en\", \r\n",
    "page_size=100, sort_by=\"relevancy\")\r\n",
    "print(tech_news[\"articles\"][0])\r\n"
   ]
  },
  {
   "cell_type": "code",
   "execution_count": 38,
   "metadata": {},
   "outputs": [
    {
     "name": "stdout",
     "output_type": "stream",
     "text": [
      "3531\n"
     ]
    }
   ],
   "source": [
    "print(tech_news[\"totalResults\"])"
   ]
  },
  {
   "cell_type": "code",
   "execution_count": 39,
   "metadata": {},
   "outputs": [],
   "source": [
    "#print(f\"Total articles about Inflation: {inflation_news['totalResults']}\")\r\n",
    "#tech_news[\"articles\"][0]"
   ]
  },
  {
   "cell_type": "code",
   "execution_count": 40,
   "metadata": {},
   "outputs": [],
   "source": [
    "article_new = tech_news[\"articles\"][0]"
   ]
  },
  {
   "cell_type": "code",
   "execution_count": 41,
   "metadata": {},
   "outputs": [
    {
     "name": "stdout",
     "output_type": "stream",
     "text": [
      "{'source': {'id': 'engadget', 'name': 'Engadget'}, 'author': 'Igor Bonifacic', 'title': 'Automakers must report crashes involving self-driving and driver-assist systems', 'description': 'The National Highway Traffic Safety Administration (NHTSA) has implemented a new policy that will require car companies to report incidents involving semi- and fully autonomous driving systems within one day of learning of an accident. In an\\xa0order\\xa0spotted by\\xa0…', 'url': 'https://www.engadget.com/nhtsa-automated-driving-system-crash-report-174552853.html', 'urlToImage': 'https://s.yimg.com/os/creatr-images/2020-01/1e88d580-3edd-11ea-8a57-ce70dbfb73e6', 'publishedAt': '2021-06-29T17:45:52Z', 'content': 'The National Highway Traffic Safety Administration (NHTSA) has implemented a new policy that will require car companies to report incidents involving semi- and fully autonomous driving systems within… [+1815 chars]'}\n"
     ]
    }
   ],
   "source": [
    "print(article_new)"
   ]
  },
  {
   "cell_type": "code",
   "execution_count": 42,
   "metadata": {},
   "outputs": [
    {
     "data": {
      "text/plain": [
       "'  source     id    engadget    name    Engadget     author    Igor Bonifacic    title    Automakers must report crashes involving self driving and driver assist systems    description    The National Highway Traffic Safety Administration  NHTSA  has implemented a new policy that will require car companies to report incidents involving semi  and fully autonomous driving systems within one day of learning of an accident  In an xa order xa spotted by xa      url    https   www engadget com nhtsa automated driving system crash report           html    urlToImage    https   s yimg com os creatr images          e  d     edd   ea  a   ce  dbfb  e     publishedAt              T        Z    content    The National Highway Traffic Safety Administration  NHTSA  has implemented a new policy that will require car companies to report incidents involving semi  and fully autonomous driving systems within         chars   '"
      ]
     },
     "execution_count": 42,
     "metadata": {},
     "output_type": "execute_result"
    }
   ],
   "source": [
    "# In order to tokenize properly, all text needs to be strings, not integers or floats\r\n",
    "article_letters_only = re.sub(\"[^a-zA-Z]\", \" \", str(article_new))\r\n",
    "article_letters_only"
   ]
  },
  {
   "cell_type": "code",
   "execution_count": 43,
   "metadata": {},
   "outputs": [
    {
     "name": "stdout",
     "output_type": "stream",
     "text": [
      "['  source     id    engadget    name    Engadget     author    Igor Bonifacic    title    Automakers must report crashes involving self driving and driver assist systems    description    The National Highway Traffic Safety Administration  NHTSA  has implemented a new policy that will require car companies to report incidents involving semi  and fully autonomous driving systems within one day of learning of an accident  In an xa order xa spotted by xa      url    https   www engadget com nhtsa automated driving system crash report           html    urlToImage    https   s yimg com os creatr images          e  d     edd   ea  a   ce  dbfb  e     publishedAt              T        Z    content    The National Highway Traffic Safety Administration  NHTSA  has implemented a new policy that will require car companies to report incidents involving semi  and fully autonomous driving systems within         chars']\n"
     ]
    }
   ],
   "source": [
    "# First, we tokenize sentences\r\n",
    "sent_sample = sent_tokenize(article_letters_only)\r\n",
    "print(sent_sample)"
   ]
  },
  {
   "cell_type": "code",
   "execution_count": 44,
   "metadata": {},
   "outputs": [
    {
     "name": "stdout",
     "output_type": "stream",
     "text": [
      "['source', 'id', 'engadget', 'name', 'Engadget', 'author', 'Igor', 'Bonifacic', 'title', 'Automakers', 'must', 'report', 'crashes', 'involving', 'self', 'driving', 'and', 'driver', 'assist', 'systems', 'description', 'The', 'National', 'Highway', 'Traffic', 'Safety', 'Administration', 'NHTSA', 'has', 'implemented', 'a', 'new', 'policy', 'that', 'will', 'require', 'car', 'companies', 'to', 'report', 'incidents', 'involving', 'semi', 'and', 'fully', 'autonomous', 'driving', 'systems', 'within', 'one', 'day', 'of', 'learning', 'of', 'an', 'accident', 'In', 'an', 'xa', 'order', 'xa', 'spotted', 'by', 'xa', 'url', 'https', 'www', 'engadget', 'com', 'nhtsa', 'automated', 'driving', 'system', 'crash', 'report', 'html', 'urlToImage', 'https', 's', 'yimg', 'com', 'os', 'creatr', 'images', 'e', 'd', 'edd', 'ea', 'a', 'ce', 'dbfb', 'e', 'publishedAt', 'T', 'Z', 'content', 'The', 'National', 'Highway', 'Traffic', 'Safety', 'Administration', 'NHTSA', 'has', 'implemented', 'a', 'new', 'policy', 'that', 'will', 'require', 'car', 'companies', 'to', 'report', 'incidents', 'involving', 'semi', 'and', 'fully', 'autonomous', 'driving', 'systems', 'within', 'chars']\n"
     ]
    }
   ],
   "source": [
    "# Second, we tokenize words within the sentences\r\n",
    "word_sample = word_tokenize(article_letters_only)\r\n",
    "print(word_sample)"
   ]
  },
  {
   "cell_type": "code",
   "execution_count": 45,
   "metadata": {},
   "outputs": [
    {
     "name": "stdout",
     "output_type": "stream",
     "text": [
      "['i', 'me', 'my', 'myself', 'we', 'our', 'ours', 'ourselves', 'you', \"you're\", \"you've\", \"you'll\", \"you'd\", 'your', 'yours', 'yourself', 'yourselves', 'he', 'him', 'his', 'himself', 'she', \"she's\", 'her', 'hers', 'herself', 'it', \"it's\", 'its', 'itself', 'they', 'them', 'their', 'theirs', 'themselves', 'what', 'which', 'who', 'whom', 'this', 'that', \"that'll\", 'these', 'those', 'am', 'is', 'are', 'was', 'were', 'be', 'been', 'being', 'have', 'has', 'had', 'having', 'do', 'does', 'did', 'doing', 'a', 'an', 'the', 'and', 'but', 'if', 'or', 'because', 'as', 'until', 'while', 'of', 'at', 'by', 'for', 'with', 'about', 'against', 'between', 'into', 'through', 'during', 'before', 'after', 'above', 'below', 'to', 'from', 'up', 'down', 'in', 'out', 'on', 'off', 'over', 'under', 'again', 'further', 'then', 'once', 'here', 'there', 'when', 'where', 'why', 'how', 'all', 'any', 'both', 'each', 'few', 'more', 'most', 'other', 'some', 'such', 'no', 'nor', 'not', 'only', 'own', 'same', 'so', 'than', 'too', 'very', 's', 't', 'can', 'will', 'just', 'don', \"don't\", 'should', \"should've\", 'now', 'd', 'll', 'm', 'o', 're', 've', 'y', 'ain', 'aren', \"aren't\", 'couldn', \"couldn't\", 'didn', \"didn't\", 'doesn', \"doesn't\", 'hadn', \"hadn't\", 'hasn', \"hasn't\", 'haven', \"haven't\", 'isn', \"isn't\", 'ma', 'mightn', \"mightn't\", 'mustn', \"mustn't\", 'needn', \"needn't\", 'shan', \"shan't\", 'shouldn', \"shouldn't\", 'wasn', \"wasn't\", 'weren', \"weren't\", 'won', \"won't\", 'wouldn', \"wouldn't\"]\n"
     ]
    }
   ],
   "source": [
    "# Third, we get rid of stopwords that are not useful for proper tokenization. Here is a list.\r\n",
    "print(stopwords.words('english'))\r\n"
   ]
  },
  {
   "cell_type": "code",
   "execution_count": 46,
   "metadata": {},
   "outputs": [
    {
     "name": "stdout",
     "output_type": "stream",
     "text": [
      "['source', 'id', 'engadget', 'name', 'engadget', 'author', 'igor', 'bonifacic', 'title', 'automakers', 'must', 'report', 'crashes', 'involving', 'self', 'driving', 'driver', 'assist', 'systems', 'description', 'national', 'highway', 'traffic', 'safety', 'administration', 'nhtsa', 'implemented', 'new', 'policy', 'require', 'car', 'companies', 'report', 'incidents', 'involving', 'semi', 'fully', 'autonomous', 'driving', 'systems', 'within', 'one', 'day', 'learning', 'accident', 'xa', 'order', 'xa', 'spotted', 'xa', 'url', 'https', 'www', 'engadget', 'com', 'nhtsa', 'automated', 'driving', 'system', 'crash', 'report', 'html', 'urltoimage', 'https', 'yimg', 'com', 'os', 'creatr', 'images', 'e', 'edd', 'ea', 'ce', 'dbfb', 'e', 'publishedat', 'z', 'content', 'national', 'highway', 'traffic', 'safety', 'administration', 'nhtsa', 'implemented', 'new', 'policy', 'require', 'car', 'companies', 'report', 'incidents', 'involving', 'semi', 'fully', 'autonomous', 'driving', 'systems', 'within', 'chars']\n"
     ]
    }
   ],
   "source": [
    "# Fourth, we apply the stopwords function using the above stopwords list\r\n",
    "sw_list = set(stopwords.words('english'))\r\n",
    "sw_result = [word.lower() for word in word_sample if word.lower() not in sw_list]\r\n",
    "print(sw_result)\r\n"
   ]
  },
  {
   "cell_type": "code",
   "execution_count": 47,
   "metadata": {},
   "outputs": [],
   "source": [
    "# Adding customized stopwords taken from the first result\r\n",
    "sw_again = {'https', 'z', 'e', 'url'}\r\n",
    "next_result = [word.lower() for word in word_sample if word.lower() not in sw.union(sw_again)]"
   ]
  },
  {
   "cell_type": "code",
   "execution_count": 48,
   "metadata": {},
   "outputs": [
    {
     "name": "stdout",
     "output_type": "stream",
     "text": [
      "['source', 'id', 'engadget', 'name', 'engadget', 'author', 'igor', 'bonifacic', 'title', 'automakers', 'must', 'report', 'crashes', 'involving', 'self', 'driving', 'driver', 'assist', 'systems', 'description', 'national', 'highway', 'traffic', 'safety', 'administration', 'nhtsa', 'implemented', 'new', 'policy', 'require', 'car', 'companies', 'report', 'incidents', 'involving', 'semi', 'fully', 'autonomous', 'driving', 'systems', 'within', 'one', 'day', 'learning', 'accident', 'xa', 'order', 'xa', 'spotted', 'xa', 'www', 'engadget', 'com', 'nhtsa', 'automated', 'driving', 'system', 'crash', 'report', 'html', 'urltoimage', 'yimg', 'com', 'os', 'creatr', 'images', 'edd', 'ea', 'ce', 'dbfb', 'publishedat', 'content', 'national', 'highway', 'traffic', 'safety', 'administration', 'nhtsa', 'implemented', 'new', 'policy', 'require', 'car', 'companies', 'report', 'incidents', 'involving', 'semi', 'fully', 'autonomous', 'driving', 'systems', 'within', 'chars']\n"
     ]
    }
   ],
   "source": [
    "print(next_result)"
   ]
  },
  {
   "cell_type": "markdown",
   "metadata": {},
   "source": [
    "stopped here. Need to go back and push to github as proof that we did homework for 1st section of NLP"
   ]
  },
  {
   "cell_type": "code",
   "execution_count": null,
   "metadata": {},
   "outputs": [],
   "source": []
  },
  {
   "cell_type": "code",
   "execution_count": null,
   "metadata": {},
   "outputs": [],
   "source": []
  }
 ],
 "metadata": {
  "interpreter": {
   "hash": "183bbf6827d058c2a2fb0f4acdc0420849dda2b4380af0e437e38c64d798d8b7"
  },
  "kernelspec": {
   "display_name": "Python 3.8.5 64-bit ('base': conda)",
   "name": "python3"
  },
  "language_info": {
   "codemirror_mode": {
    "name": "ipython",
    "version": 3
   },
   "file_extension": ".py",
   "mimetype": "text/x-python",
   "name": "python",
   "nbconvert_exporter": "python",
   "pygments_lexer": "ipython3",
   "version": "3.8.5"
  },
  "orig_nbformat": 4
 },
 "nbformat": 4,
 "nbformat_minor": 2
}