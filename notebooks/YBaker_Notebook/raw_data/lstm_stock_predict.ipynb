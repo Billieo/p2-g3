{
 "cells": [
  {
   "cell_type": "code",
   "execution_count": 69,
   "metadata": {},
   "outputs": [],
   "source": [
    "# Importing the usual libraries, including MinMaxScaler to scale values, Dropout to handle overfitting\r\n",
    "import numpy as np\r\n",
    "import pandas as pd\r\n",
    "from pathlib import Path\r\n",
    "from sklearn.preprocessing import MinMaxScaler\r\n",
    "from tensorflow.keras.models import Sequential\r\n",
    "from tensorflow.keras.layers import LSTM, Dense, Dropout\r\n",
    "%matplotlib inline"
   ]
  },
  {
   "cell_type": "code",
   "execution_count": 70,
   "metadata": {},
   "outputs": [],
   "source": [
    "# Random seed set at 5 for protyping the model. Will experiment w/other numbers.\n",
    "from numpy.random import seed\n",
    "\n",
    "seed(1)\n",
    "from tensorflow import random\n",
    "\n",
    "random.set_seed(5)"
   ]
  },
  {
   "cell_type": "code",
   "execution_count": 71,
   "metadata": {},
   "outputs": [
    {
     "data": {
      "text/html": [
       "<div>\n",
       "<style scoped>\n",
       "    .dataframe tbody tr th:only-of-type {\n",
       "        vertical-align: middle;\n",
       "    }\n",
       "\n",
       "    .dataframe tbody tr th {\n",
       "        vertical-align: top;\n",
       "    }\n",
       "\n",
       "    .dataframe thead th {\n",
       "        text-align: right;\n",
       "    }\n",
       "</style>\n",
       "<table border=\"1\" class=\"dataframe\">\n",
       "  <thead>\n",
       "    <tr style=\"text-align: right;\">\n",
       "      <th></th>\n",
       "      <th>TSLA</th>\n",
       "      <th>F</th>\n",
       "      <th>GM</th>\n",
       "      <th>SPX</th>\n",
       "    </tr>\n",
       "    <tr>\n",
       "      <th>Date</th>\n",
       "      <th></th>\n",
       "      <th></th>\n",
       "      <th></th>\n",
       "      <th></th>\n",
       "    </tr>\n",
       "  </thead>\n",
       "  <tbody>\n",
       "    <tr>\n",
       "      <th>2021-07-02</th>\n",
       "      <td>$678.9</td>\n",
       "      <td>$14.93</td>\n",
       "      <td>$58.96</td>\n",
       "      <td>4352.34</td>\n",
       "    </tr>\n",
       "    <tr>\n",
       "      <th>2021-07-01</th>\n",
       "      <td>$677.92</td>\n",
       "      <td>$14.91</td>\n",
       "      <td>$59.11</td>\n",
       "      <td>4319.94</td>\n",
       "    </tr>\n",
       "    <tr>\n",
       "      <th>2021-06-30</th>\n",
       "      <td>$679.7</td>\n",
       "      <td>$14.86</td>\n",
       "      <td>$59.17</td>\n",
       "      <td>4297.50</td>\n",
       "    </tr>\n",
       "    <tr>\n",
       "      <th>2021-06-29</th>\n",
       "      <td>$680.76</td>\n",
       "      <td>$15.01</td>\n",
       "      <td>$58.83</td>\n",
       "      <td>4291.80</td>\n",
       "    </tr>\n",
       "    <tr>\n",
       "      <th>2021-06-28</th>\n",
       "      <td>$688.72</td>\n",
       "      <td>$14.96</td>\n",
       "      <td>$58.64</td>\n",
       "      <td>4290.61</td>\n",
       "    </tr>\n",
       "  </tbody>\n",
       "</table>\n",
       "</div>"
      ],
      "text/plain": [
       "               TSLA       F      GM      SPX\n",
       "Date                                        \n",
       "2021-07-02   $678.9  $14.93  $58.96  4352.34\n",
       "2021-07-01  $677.92  $14.91  $59.11  4319.94\n",
       "2021-06-30   $679.7  $14.86  $59.17  4297.50\n",
       "2021-06-29  $680.76  $15.01  $58.83  4291.80\n",
       "2021-06-28  $688.72  $14.96  $58.64  4290.61"
      ]
     },
     "execution_count": 71,
     "metadata": {},
     "output_type": "execute_result"
    }
   ],
   "source": [
    "# Grab data from csv and display\r\n",
    "stock_df = pd.read_csv(\r\n",
    "    Path(\"stock_data_yrb.csv\"),\r\n",
    "    index_col=\"Date\",\r\n",
    "    infer_datetime_format=True,\r\n",
    "    parse_dates=True,\r\n",
    ")\r\n",
    "stock_df.head()"
   ]
  },
  {
   "cell_type": "code",
   "execution_count": 72,
   "metadata": {},
   "outputs": [
    {
     "data": {
      "text/html": [
       "<div>\n",
       "<style scoped>\n",
       "    .dataframe tbody tr th:only-of-type {\n",
       "        vertical-align: middle;\n",
       "    }\n",
       "\n",
       "    .dataframe tbody tr th {\n",
       "        vertical-align: top;\n",
       "    }\n",
       "\n",
       "    .dataframe thead th {\n",
       "        text-align: right;\n",
       "    }\n",
       "</style>\n",
       "<table border=\"1\" class=\"dataframe\">\n",
       "  <thead>\n",
       "    <tr style=\"text-align: right;\">\n",
       "      <th></th>\n",
       "      <th>TSLA</th>\n",
       "      <th>F</th>\n",
       "      <th>GM</th>\n",
       "      <th>SPX</th>\n",
       "    </tr>\n",
       "    <tr>\n",
       "      <th>Date</th>\n",
       "      <th></th>\n",
       "      <th></th>\n",
       "      <th></th>\n",
       "      <th></th>\n",
       "    </tr>\n",
       "  </thead>\n",
       "  <tbody>\n",
       "    <tr>\n",
       "      <th>2021-07-02</th>\n",
       "      <td>$678.9</td>\n",
       "      <td>$14.93</td>\n",
       "      <td>$58.96</td>\n",
       "      <td>4352.34</td>\n",
       "    </tr>\n",
       "    <tr>\n",
       "      <th>2021-07-01</th>\n",
       "      <td>$677.92</td>\n",
       "      <td>$14.91</td>\n",
       "      <td>$59.11</td>\n",
       "      <td>4319.94</td>\n",
       "    </tr>\n",
       "    <tr>\n",
       "      <th>2021-06-30</th>\n",
       "      <td>$679.7</td>\n",
       "      <td>$14.86</td>\n",
       "      <td>$59.17</td>\n",
       "      <td>4297.50</td>\n",
       "    </tr>\n",
       "    <tr>\n",
       "      <th>2021-06-29</th>\n",
       "      <td>$680.76</td>\n",
       "      <td>$15.01</td>\n",
       "      <td>$58.83</td>\n",
       "      <td>4291.80</td>\n",
       "    </tr>\n",
       "    <tr>\n",
       "      <th>2021-06-28</th>\n",
       "      <td>$688.72</td>\n",
       "      <td>$14.96</td>\n",
       "      <td>$58.64</td>\n",
       "      <td>4290.61</td>\n",
       "    </tr>\n",
       "    <tr>\n",
       "      <th>...</th>\n",
       "      <td>...</td>\n",
       "      <td>...</td>\n",
       "      <td>...</td>\n",
       "      <td>...</td>\n",
       "    </tr>\n",
       "    <tr>\n",
       "      <th>2016-07-11</th>\n",
       "      <td>$44.956</td>\n",
       "      <td>$13.27</td>\n",
       "      <td>$30.13</td>\n",
       "      <td>2152.14</td>\n",
       "    </tr>\n",
       "    <tr>\n",
       "      <th>2016-07-08</th>\n",
       "      <td>$43.356</td>\n",
       "      <td>$13.09</td>\n",
       "      <td>$29.66</td>\n",
       "      <td>2137.16</td>\n",
       "    </tr>\n",
       "    <tr>\n",
       "      <th>2016-07-07</th>\n",
       "      <td>$43.188</td>\n",
       "      <td>$12.75</td>\n",
       "      <td>$28.74</td>\n",
       "      <td>2129.90</td>\n",
       "    </tr>\n",
       "    <tr>\n",
       "      <th>2016-07-06</th>\n",
       "      <td>$42.888</td>\n",
       "      <td>$12.57</td>\n",
       "      <td>$28.4</td>\n",
       "      <td>2097.90</td>\n",
       "    </tr>\n",
       "    <tr>\n",
       "      <th>2016-07-05</th>\n",
       "      <td>$42.796</td>\n",
       "      <td>$12.4</td>\n",
       "      <td>$28.17</td>\n",
       "      <td>2099.73</td>\n",
       "    </tr>\n",
       "  </tbody>\n",
       "</table>\n",
       "<p>1259 rows × 4 columns</p>\n",
       "</div>"
      ],
      "text/plain": [
       "               TSLA       F      GM      SPX\n",
       "Date                                        \n",
       "2021-07-02   $678.9  $14.93  $58.96  4352.34\n",
       "2021-07-01  $677.92  $14.91  $59.11  4319.94\n",
       "2021-06-30   $679.7  $14.86  $59.17  4297.50\n",
       "2021-06-29  $680.76  $15.01  $58.83  4291.80\n",
       "2021-06-28  $688.72  $14.96  $58.64  4290.61\n",
       "...             ...     ...     ...      ...\n",
       "2016-07-11  $44.956  $13.27  $30.13  2152.14\n",
       "2016-07-08  $43.356  $13.09  $29.66  2137.16\n",
       "2016-07-07  $43.188  $12.75  $28.74  2129.90\n",
       "2016-07-06  $42.888  $12.57   $28.4  2097.90\n",
       "2016-07-05  $42.796   $12.4  $28.17  2099.73\n",
       "\n",
       "[1259 rows x 4 columns]"
      ]
     },
     "execution_count": 72,
     "metadata": {},
     "output_type": "execute_result"
    }
   ],
   "source": [
    "# Clearing any nulls from stock_df\r\n",
    "stock_data = stock_df.dropna().copy()\r\n",
    "stock_data"
   ]
  },
  {
   "cell_type": "code",
   "execution_count": 73,
   "metadata": {},
   "outputs": [
    {
     "data": {
      "text/html": [
       "<div>\n",
       "<style scoped>\n",
       "    .dataframe tbody tr th:only-of-type {\n",
       "        vertical-align: middle;\n",
       "    }\n",
       "\n",
       "    .dataframe tbody tr th {\n",
       "        vertical-align: top;\n",
       "    }\n",
       "\n",
       "    .dataframe thead th {\n",
       "        text-align: right;\n",
       "    }\n",
       "</style>\n",
       "<table border=\"1\" class=\"dataframe\">\n",
       "  <thead>\n",
       "    <tr style=\"text-align: right;\">\n",
       "      <th></th>\n",
       "      <th>TSLA</th>\n",
       "      <th>F</th>\n",
       "      <th>GM</th>\n",
       "      <th>SPX</th>\n",
       "    </tr>\n",
       "    <tr>\n",
       "      <th>Date</th>\n",
       "      <th></th>\n",
       "      <th></th>\n",
       "      <th></th>\n",
       "      <th></th>\n",
       "    </tr>\n",
       "  </thead>\n",
       "  <tbody>\n",
       "    <tr>\n",
       "      <th>2021-07-02</th>\n",
       "      <td>678.9</td>\n",
       "      <td>14.93</td>\n",
       "      <td>58.96</td>\n",
       "      <td>4352.34</td>\n",
       "    </tr>\n",
       "    <tr>\n",
       "      <th>2021-07-01</th>\n",
       "      <td>677.92</td>\n",
       "      <td>14.91</td>\n",
       "      <td>59.11</td>\n",
       "      <td>4319.94</td>\n",
       "    </tr>\n",
       "    <tr>\n",
       "      <th>2021-06-30</th>\n",
       "      <td>679.7</td>\n",
       "      <td>14.86</td>\n",
       "      <td>59.17</td>\n",
       "      <td>4297.50</td>\n",
       "    </tr>\n",
       "    <tr>\n",
       "      <th>2021-06-29</th>\n",
       "      <td>680.76</td>\n",
       "      <td>15.01</td>\n",
       "      <td>58.83</td>\n",
       "      <td>4291.80</td>\n",
       "    </tr>\n",
       "    <tr>\n",
       "      <th>2021-06-28</th>\n",
       "      <td>688.72</td>\n",
       "      <td>14.96</td>\n",
       "      <td>58.64</td>\n",
       "      <td>4290.61</td>\n",
       "    </tr>\n",
       "    <tr>\n",
       "      <th>...</th>\n",
       "      <td>...</td>\n",
       "      <td>...</td>\n",
       "      <td>...</td>\n",
       "      <td>...</td>\n",
       "    </tr>\n",
       "    <tr>\n",
       "      <th>2016-07-11</th>\n",
       "      <td>44.956</td>\n",
       "      <td>13.27</td>\n",
       "      <td>30.13</td>\n",
       "      <td>2152.14</td>\n",
       "    </tr>\n",
       "    <tr>\n",
       "      <th>2016-07-08</th>\n",
       "      <td>43.356</td>\n",
       "      <td>13.09</td>\n",
       "      <td>29.66</td>\n",
       "      <td>2137.16</td>\n",
       "    </tr>\n",
       "    <tr>\n",
       "      <th>2016-07-07</th>\n",
       "      <td>43.188</td>\n",
       "      <td>12.75</td>\n",
       "      <td>28.74</td>\n",
       "      <td>2129.90</td>\n",
       "    </tr>\n",
       "    <tr>\n",
       "      <th>2016-07-06</th>\n",
       "      <td>42.888</td>\n",
       "      <td>12.57</td>\n",
       "      <td>28.4</td>\n",
       "      <td>2097.90</td>\n",
       "    </tr>\n",
       "    <tr>\n",
       "      <th>2016-07-05</th>\n",
       "      <td>42.796</td>\n",
       "      <td>12.4</td>\n",
       "      <td>28.17</td>\n",
       "      <td>2099.73</td>\n",
       "    </tr>\n",
       "  </tbody>\n",
       "</table>\n",
       "<p>1259 rows × 4 columns</p>\n",
       "</div>"
      ],
      "text/plain": [
       "              TSLA      F     GM      SPX\n",
       "Date                                     \n",
       "2021-07-02   678.9  14.93  58.96  4352.34\n",
       "2021-07-01  677.92  14.91  59.11  4319.94\n",
       "2021-06-30   679.7  14.86  59.17  4297.50\n",
       "2021-06-29  680.76  15.01  58.83  4291.80\n",
       "2021-06-28  688.72  14.96  58.64  4290.61\n",
       "...            ...    ...    ...      ...\n",
       "2016-07-11  44.956  13.27  30.13  2152.14\n",
       "2016-07-08  43.356  13.09  29.66  2137.16\n",
       "2016-07-07  43.188  12.75  28.74  2129.90\n",
       "2016-07-06  42.888  12.57   28.4  2097.90\n",
       "2016-07-05  42.796   12.4  28.17  2099.73\n",
       "\n",
       "[1259 rows x 4 columns]"
      ]
     },
     "execution_count": 73,
     "metadata": {},
     "output_type": "execute_result"
    }
   ],
   "source": [
    "# Erasing the \"$\" from the database\r\n",
    "stock_data[\"TSLA\"]= stock_data[\"TSLA\"].str.replace(\"$\", \"\")\r\n",
    "stock_data[\"F\"]= stock_data[\"F\"].str.replace(\"$\", \"\")\r\n",
    "stock_data[\"GM\"]= stock_data[\"GM\"].str.replace(\"$\", \"\")\r\n",
    "stock_data\r\n"
   ]
  },
  {
   "cell_type": "code",
   "execution_count": 74,
   "metadata": {},
   "outputs": [
    {
     "data": {
      "text/plain": [
       "TSLA     object\n",
       "F        object\n",
       "GM       object\n",
       "SPX     float64\n",
       "dtype: object"
      ]
     },
     "execution_count": 74,
     "metadata": {},
     "output_type": "execute_result"
    }
   ],
   "source": [
    "# Confirm data types\r\n",
    "stock_data.dtypes"
   ]
  },
  {
   "cell_type": "markdown",
   "metadata": {},
   "source": [
    "# Use closing price of each stock to predict future closing price. \r\n",
    "## Create numpy arrays of input feature vector x and target vector y"
   ]
  },
  {
   "cell_type": "code",
   "execution_count": 75,
   "metadata": {},
   "outputs": [],
   "source": [
    "# Grabbing the dataframe, features and target, returning the X vector array and the y target vector array\r\n",
    "def window_data(df, window, feature_col_number, target_col_number):\r\n",
    "    X = []\r\n",
    "    y = []\r\n",
    "    for info in range(len(df) - window):\r\n",
    "        features = df.iloc[info : (info + window), feature_col_number]\r\n",
    "        target = df.iloc[(info + window), target_col_number]\r\n",
    "        X.append(features)\r\n",
    "        y.append(target)\r\n",
    "    return np.array(X), np.array(y).reshape(-1, 1)"
   ]
  },
  {
   "cell_type": "code",
   "execution_count": 76,
   "metadata": {},
   "outputs": [
    {
     "name": "stdout",
     "output_type": "stream",
     "text": [
      "X features:\n",
      "[[4352.34 4319.94 4297.5  4291.8  4290.61]\n",
      " [4319.94 4297.5  4291.8  4290.61 4280.7 ]\n",
      " [4297.5  4291.8  4290.61 4280.7  4266.49]\n",
      " [4291.8  4290.61 4280.7  4266.49 4241.84]\n",
      " [4290.61 4280.7  4266.49 4241.84 4246.44]] \n",
      "\n",
      "y target:\n",
      "[[4280.7 ]\n",
      " [4266.49]\n",
      " [4241.84]\n",
      " [4246.44]\n",
      " [4224.79]]\n"
     ]
    }
   ],
   "source": [
    "# Using X features and y target with window_data() function.\r\n",
    "# Choosing the features and target column number to 3, because this is the SPX column.\r\n",
    "window_size = 5\r\n",
    "\r\n",
    "feature_column = 3\r\n",
    "target_column = 3\r\n",
    "X, y = window_data(stock_df, window_size, feature_column, target_column)\r\n",
    "print (f\"X features:\\n{X[:5]} \\n\")\r\n",
    "print (f\"y target:\\n{y[:5]}\")"
   ]
  },
  {
   "cell_type": "code",
   "execution_count": 77,
   "metadata": {},
   "outputs": [],
   "source": [
    "# Split data - 70% = training, 30% = testing - to stop randomizing\r\n",
    "split = int(0.7 * len(X))\r\n",
    "X_train = X[: split]\r\n",
    "X_test = X[split:]\r\n",
    "y_train = y[: split]\r\n",
    "y_test = y[split:]"
   ]
  },
  {
   "cell_type": "code",
   "execution_count": 78,
   "metadata": {},
   "outputs": [],
   "source": [
    "# Scaling features and target between 0 and 1 using MinMaxScaler\r\n",
    "scaler = MinMaxScaler()\r\n",
    "scaler.fit(X)\r\n",
    "X_train = scaler.transform(X_train)\r\n",
    "X_test = scaler.transform(X_test)\r\n",
    "scaler.fit(y)\r\n",
    "y_train = scaler.transform(y_train)\r\n",
    "y_test = scaler.transform(y_test)"
   ]
  },
  {
   "cell_type": "code",
   "execution_count": 79,
   "metadata": {},
   "outputs": [
    {
     "name": "stdout",
     "output_type": "stream",
     "text": [
      "X_train sample values:\n",
      "[[[1.        ]\n",
      "  [1.        ]\n",
      "  [1.        ]\n",
      "  [1.        ]\n",
      "  [1.        ]]\n",
      "\n",
      " [[0.98570899]\n",
      "  [0.98995865]\n",
      "  [0.99742352]\n",
      "  [0.99946071]\n",
      "  [0.99550655]]\n",
      "\n",
      " [[0.97581115]\n",
      "  [0.98740804]\n",
      "  [0.99688562]\n",
      "  [0.99496968]\n",
      "  [0.98906336]]\n",
      "\n",
      " [[0.97329699]\n",
      "  [0.98687555]\n",
      "  [0.99240616]\n",
      "  [0.98852997]\n",
      "  [0.9778864 ]]\n",
      "\n",
      " [[0.9727721 ]\n",
      "  [0.98244107]\n",
      "  [0.98598304]\n",
      "  [0.97735904]\n",
      "  [0.97997216]]] \n",
      "\n",
      "X_test sample values:\n",
      "[[[0.29222904]\n",
      "  [0.29442535]\n",
      "  [0.28875118]\n",
      "  [0.28454378]\n",
      "  [0.27687571]]\n",
      "\n",
      " [[0.29021772]\n",
      "  [0.28585172]\n",
      "  [0.28381066]\n",
      "  [0.2767264 ]\n",
      "  [0.26680965]]\n",
      "\n",
      " [[0.28176662]\n",
      "  [0.28096082]\n",
      "  [0.27601342]\n",
      "  [0.26666576]\n",
      "  [0.27312588]]\n",
      "\n",
      " [[0.27694561]\n",
      "  [0.27324187]\n",
      "  [0.2659787 ]\n",
      "  [0.27297858]\n",
      "  [0.27089502]]\n",
      "\n",
      " [[0.26933697]\n",
      "  [0.26330792]\n",
      "  [0.27227526]\n",
      "  [0.27074893]\n",
      "  [0.26993375]]]\n"
     ]
    }
   ],
   "source": [
    "# Training and testing are reshaped here so that the Keras API can accept the data \r\n",
    "X_train = X_train.reshape((X_train.shape[0], X_train.shape[1], 1))\r\n",
    "X_test = X_test.reshape((X_test.shape[0], X_test.shape[1], 1))\r\n",
    "print (f\"X_train sample values:\\n{X_train[:5]} \\n\")\r\n",
    "print (f\"X_test sample values:\\n{X_test[:5]}\")"
   ]
  },
  {
   "cell_type": "markdown",
   "metadata": {},
   "source": [
    "## Creating a LSTM RNN Model Structure"
   ]
  },
  {
   "cell_type": "code",
   "execution_count": 80,
   "metadata": {},
   "outputs": [],
   "source": [
    "# Defining the LSTM model, adding a LSTM layer 1, 2, and 3, and finally, adding an output layer\r\n",
    "# Every LSTM layer has the same number of units as the window size: 5 \r\n",
    "lstm_model = Sequential()\r\n",
    "\r\n",
    "number_units = 5\r\n",
    "dropout_fraction = 0.2\r\n",
    "# First layer: \r\n",
    "lstm_model.add(LSTM(\r\n",
    "    units=number_units,\r\n",
    "    return_sequences=True,\r\n",
    "    input_shape=(X_train.shape[1], 1))\r\n",
    "    )\r\n",
    "lstm_model.add(Dropout(dropout_fraction))\r\n",
    "# Second layer:\r\n",
    "lstm_model.add(LSTM(units=number_units, return_sequences=True))\r\n",
    "lstm_model.add(Dropout(dropout_fraction))\r\n",
    "# Third layer:\r\n",
    "lstm_model.add(LSTM(units=number_units))\r\n",
    "lstm_model.add(Dropout(dropout_fraction))\r\n",
    "# Final output layer:\r\n",
    "lstm_model.add(Dense(1))"
   ]
  },
  {
   "cell_type": "markdown",
   "metadata": {},
   "source": [
    "## Compile and summarize the model to define it"
   ]
  },
  {
   "cell_type": "code",
   "execution_count": 81,
   "metadata": {},
   "outputs": [
    {
     "name": "stdout",
     "output_type": "stream",
     "text": [
      "Model: \"sequential\"\n",
      "_________________________________________________________________\n",
      "Layer (type)                 Output Shape              Param #   \n",
      "=================================================================\n",
      "lstm (LSTM)                  (None, 5, 5)              140       \n",
      "_________________________________________________________________\n",
      "dropout (Dropout)            (None, 5, 5)              0         \n",
      "_________________________________________________________________\n",
      "lstm_1 (LSTM)                (None, 5, 5)              220       \n",
      "_________________________________________________________________\n",
      "dropout_1 (Dropout)          (None, 5, 5)              0         \n",
      "_________________________________________________________________\n",
      "lstm_2 (LSTM)                (None, 5)                 220       \n",
      "_________________________________________________________________\n",
      "dropout_2 (Dropout)          (None, 5)                 0         \n",
      "_________________________________________________________________\n",
      "dense (Dense)                (None, 1)                 6         \n",
      "=================================================================\n",
      "Total params: 586\n",
      "Trainable params: 586\n",
      "Non-trainable params: 0\n",
      "_________________________________________________________________\n"
     ]
    }
   ],
   "source": [
    "# User optimzer = \"adam\", loss function = mean squared error, for continuous predictions\r\n",
    "lstm_model.compile(optimizer=\"adam\", loss=\"mean_squared_error\")\r\n",
    " \r\n",
    "lstm_model.summary()"
   ]
  },
  {
   "cell_type": "code",
   "execution_count": 82,
   "metadata": {},
   "outputs": [
    {
     "name": "stdout",
     "output_type": "stream",
     "text": [
      "Epoch 1/10\n",
      "878/878 [==============================] - 9s 4ms/step - loss: 0.0663\n",
      "Epoch 2/10\n",
      "878/878 [==============================] - 4s 4ms/step - loss: 0.0179\n",
      "Epoch 3/10\n",
      "878/878 [==============================] - 4s 5ms/step - loss: 0.0121\n",
      "Epoch 4/10\n",
      "878/878 [==============================] - 4s 5ms/step - loss: 0.0111\n",
      "Epoch 5/10\n",
      "878/878 [==============================] - 4s 5ms/step - loss: 0.0091\n",
      "Epoch 6/10\n",
      "878/878 [==============================] - 4s 4ms/step - loss: 0.0078\n",
      "Epoch 7/10\n",
      "878/878 [==============================] - 4s 5ms/step - loss: 0.0066\n",
      "Epoch 8/10\n",
      "878/878 [==============================] - 4s 5ms/step - loss: 0.0071\n",
      "Epoch 9/10\n",
      "878/878 [==============================] - 4s 4ms/step - loss: 0.0062\n",
      "Epoch 10/10\n",
      "878/878 [==============================] - 4s 4ms/step - loss: 0.0060\n"
     ]
    },
    {
     "data": {
      "text/plain": [
       "<tensorflow.python.keras.callbacks.History at 0x229e3174c40>"
      ]
     },
     "execution_count": 82,
     "metadata": {},
     "output_type": "execute_result"
    }
   ],
   "source": [
    "# Train the LSTM model with 10 epochs - will keep batch size at 1, will experiment with larger batch\r\n",
    "# sizes if time warrants\r\n",
    "lstm_model.fit(X_train, y_train, epochs=10, shuffle=False, batch_size=1, verbose=1)"
   ]
  },
  {
   "cell_type": "markdown",
   "metadata": {},
   "source": [
    "## Part I - Evaluate the LSTM model by applying the X and y data, predict price using X data\r\n",
    "## Part II - Compare the y test and predicted values, setup a dataframe\r\n",
    "## Part III - From the real and predicted values, plot a line chart"
   ]
  },
  {
   "cell_type": "code",
   "execution_count": 87,
   "metadata": {},
   "outputs": [
    {
     "name": "stdout",
     "output_type": "stream",
     "text": [
      "12/12 [==============================] - 0s 3ms/step - loss: 0.0287\n"
     ]
    },
    {
     "data": {
      "text/plain": [
       "0.028681742027401924"
      ]
     },
     "execution_count": 87,
     "metadata": {},
     "output_type": "execute_result"
    }
   ],
   "source": [
    "# Part I:\r\n",
    "lstm_model.evaluate(X_test, y_test)"
   ]
  },
  {
   "cell_type": "code",
   "execution_count": 88,
   "metadata": {},
   "outputs": [],
   "source": [
    "lstm_predicted = lstm_model.predict(X_test)"
   ]
  },
  {
   "cell_type": "code",
   "execution_count": 89,
   "metadata": {},
   "outputs": [],
   "source": [
    "# Bring the scaled values back to their original prices, so we can analyze the predictions\r\n",
    "predicted_value = scaler.inverse_transform(lstm_predicted)\r\n",
    "original_price = scaler.inverse_transform(y_test.reshape(-1, 1))"
   ]
  },
  {
   "cell_type": "code",
   "execution_count": 91,
   "metadata": {},
   "outputs": [
    {
     "data": {
      "text/html": [
       "<div>\n",
       "<style scoped>\n",
       "    .dataframe tbody tr th:only-of-type {\n",
       "        vertical-align: middle;\n",
       "    }\n",
       "\n",
       "    .dataframe tbody tr th {\n",
       "        vertical-align: top;\n",
       "    }\n",
       "\n",
       "    .dataframe thead th {\n",
       "        text-align: right;\n",
       "    }\n",
       "</style>\n",
       "<table border=\"1\" class=\"dataframe\">\n",
       "  <thead>\n",
       "    <tr style=\"text-align: right;\">\n",
       "      <th></th>\n",
       "      <th>Real</th>\n",
       "      <th>Predicted</th>\n",
       "    </tr>\n",
       "    <tr>\n",
       "      <th>Date</th>\n",
       "      <th></th>\n",
       "      <th></th>\n",
       "    </tr>\n",
       "  </thead>\n",
       "  <tbody>\n",
       "    <tr>\n",
       "      <th>2017-12-28</th>\n",
       "      <td>2673.61</td>\n",
       "      <td>2775.450928</td>\n",
       "    </tr>\n",
       "    <tr>\n",
       "      <th>2017-12-27</th>\n",
       "      <td>2687.54</td>\n",
       "      <td>2772.331543</td>\n",
       "    </tr>\n",
       "    <tr>\n",
       "      <th>2017-12-26</th>\n",
       "      <td>2682.62</td>\n",
       "      <td>2768.498535</td>\n",
       "    </tr>\n",
       "    <tr>\n",
       "      <th>2017-12-22</th>\n",
       "      <td>2680.50</td>\n",
       "      <td>2765.604980</td>\n",
       "    </tr>\n",
       "    <tr>\n",
       "      <th>2017-12-21</th>\n",
       "      <td>2683.34</td>\n",
       "      <td>2763.121582</td>\n",
       "    </tr>\n",
       "  </tbody>\n",
       "</table>\n",
       "</div>"
      ],
      "text/plain": [
       "               Real    Predicted\n",
       "Date                            \n",
       "2017-12-28  2673.61  2775.450928\n",
       "2017-12-27  2687.54  2772.331543\n",
       "2017-12-26  2682.62  2768.498535\n",
       "2017-12-22  2680.50  2765.604980\n",
       "2017-12-21  2683.34  2763.121582"
      ]
     },
     "execution_count": 91,
     "metadata": {},
     "output_type": "execute_result"
    }
   ],
   "source": [
    "# Part II:\r\n",
    "lstm_stocks = pd.DataFrame({\r\n",
    "    \"Real\": original_price.ravel(),\r\n",
    "    \"Predicted\": predicted_value.ravel()\r\n",
    "    }, index = stock_df.index[-len(original_price): ])\r\n",
    "lstm_stocks.head()"
   ]
  },
  {
   "cell_type": "code",
   "execution_count": 93,
   "metadata": {},
   "outputs": [
    {
     "data": {
      "text/plain": [
       "<matplotlib.axes._subplots.AxesSubplot at 0x229ebc93c70>"
      ]
     },
     "execution_count": 93,
     "metadata": {},
     "output_type": "execute_result"
    },
    {
     "data": {
      "image/png": "[encoded data removed]",
      "text/plain": [
       "<Figure size 432x288 with 1 Axes>"
      ]
     },
     "metadata": {
      "needs_background": "light"
     },
     "output_type": "display_data"
    }
   ],
   "source": [
    "lstm_stocks.plot()"
   ]
  },
  {
   "cell_type": "code",
   "execution_count": null,
   "metadata": {},
   "outputs": [],
   "source": []
  }
 ],
 "metadata": {
  "interpreter": {
   "hash": "183bbf6827d058c2a2fb0f4acdc0420849dda2b4380af0e437e38c64d798d8b7"
  },
  "kernelspec": {
   "display_name": "Python 3.8.5 64-bit ('base': conda)",
   "name": "python3"
  },
  "language_info": {
   "name": "python",
   "version": ""
  }
 },
 "nbformat": 4,
 "nbformat_minor": 5
}