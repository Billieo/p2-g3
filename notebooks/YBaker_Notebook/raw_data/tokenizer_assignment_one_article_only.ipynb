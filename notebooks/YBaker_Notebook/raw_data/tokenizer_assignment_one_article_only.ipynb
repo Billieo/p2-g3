{
 "cells": [
  {
   "cell_type": "code",
   "execution_count": 2,
   "metadata": {},
   "outputs": [
    {
     "name": "stderr",
     "output_type": "stream",
     "text": [
      "[nltk_data] Downloading package vader_lexicon to\n",
      "[nltk_data]     C:\\Users\\Admin\\AppData\\Roaming\\nltk_data...\n",
      "[nltk_data]   Package vader_lexicon is already up-to-date!\n",
      "[nltk_data] Downloading package punkt to\n",
      "[nltk_data]     C:\\Users\\Admin\\AppData\\Roaming\\nltk_data...\n",
      "[nltk_data]   Package punkt is already up-to-date!\n"
     ]
    }
   ],
   "source": [
    "# Initial imports\r\n",
    "import os\r\n",
    "import pandas as pd\r\n",
    "from datetime import datetime, timedelta\r\n",
    "from pathlib import Path\r\n",
    "from newsapi.newsapi_client import NewsApiClient\r\n",
    "from dotenv import load_dotenv\r\n",
    "from nltk.corpus import stopwords, reuters\r\n",
    "from nltk.tokenize import sent_tokenize, word_tokenize\r\n",
    "load_dotenv()\r\n",
    "import nltk as nltk\r\n",
    "nltk.download('vader_lexicon')\r\n",
    "from nltk.sentiment.vader import SentimentIntensityAnalyzer\r\n",
    "analyzer = SentimentIntensityAnalyzer()\r\n",
    "nltk.download('punkt')\r\n",
    "from nltk.stem import WordNetLemmatizer\r\n",
    "from nltk.tokenize import word_tokenize\r\n",
    "import re\r\n",
    "\r\n",
    "%matplotlib inline"
   ]
  },
  {
   "cell_type": "code",
   "execution_count": 3,
   "metadata": {},
   "outputs": [],
   "source": [
    "api_key = os.getenv(\"news_api\")"
   ]
  },
  {
   "cell_type": "code",
   "execution_count": 4,
   "metadata": {},
   "outputs": [],
   "source": [
    "newsapi = NewsApiClient(api_key=api_key)"
   ]
  },
  {
   "cell_type": "code",
   "execution_count": 51,
   "metadata": {},
   "outputs": [
    {
     "name": "stdout",
     "output_type": "stream",
     "text": [
      "{'source': {'id': None, 'name': 'New York Times'}, 'author': 'The New York Times', 'title': 'Here is where inflation stands as the Fed meets.', 'description': 'A jump in consumer prices is sure to come up at a news conference on Wednesday after the Federal Reserve’s meeting.', 'url': 'https://www.nytimes.com/live/2021/06/16/business/economy-stock-market-news', 'urlToImage': 'https://static01.nyt.com/images/2021/06/16/business/16economy-briefing-FedInflation/merlin_188586378_b7a0c048-2add-4403-b30c-357399ab4cea-facebookJumbo.jpg', 'publishedAt': '2021-06-16T10:21:32Z', 'content': 'A day after ousting two top executives, the electric truck start-up Lordstown Motors said on Tuesday that it was on track to start production in September even if it does not raise additional funding… [+3149 chars]'}\n"
     ]
    }
   ],
   "source": [
    "tech_news = newsapi.get_everything(q = \"tesla & inflation\", language=\"en\", \r\n",
    "page_size=100, sort_by=\"relevancy\")\r\n",
    "print(tech_news[\"articles\"][0])\r\n"
   ]
  },
  {
   "cell_type": "code",
   "execution_count": 23,
   "metadata": {},
   "outputs": [
    {
     "name": "stdout",
     "output_type": "stream",
     "text": [
      "478\n"
     ]
    }
   ],
   "source": [
    "print(tech_news[\"totalResults\"])"
   ]
  },
  {
   "cell_type": "code",
   "execution_count": 24,
   "metadata": {},
   "outputs": [],
   "source": [
    "#print(f\"Total articles about Tesla and Inflation: {inflation_news['totalResults']}\")\r\n",
    "#tech_news[\"articles\"][0]"
   ]
  },
  {
   "cell_type": "code",
   "execution_count": 25,
   "metadata": {},
   "outputs": [],
   "source": [
    "article_new = tech_news[\"articles\"][0]"
   ]
  },
  {
   "cell_type": "code",
   "execution_count": 26,
   "metadata": {},
   "outputs": [
    {
     "name": "stdout",
     "output_type": "stream",
     "text": [
      "{'source': {'id': None, 'name': 'New York Times'}, 'author': 'The New York Times', 'title': 'Here is where inflation stands as the Fed meets.', 'description': 'A jump in consumer prices is sure to come up at a news conference on Wednesday after the Federal Reserve’s meeting.', 'url': 'https://www.nytimes.com/live/2021/06/16/business/economy-stock-market-news', 'urlToImage': 'https://static01.nyt.com/images/2021/06/16/business/16economy-briefing-FedInflation/merlin_188586378_b7a0c048-2add-4403-b30c-357399ab4cea-facebookJumbo.jpg', 'publishedAt': '2021-06-16T10:21:32Z', 'content': 'A day after ousting two top executives, the electric truck start-up Lordstown Motors said on Tuesday that it was on track to start production in September even if it does not raise additional funding… [+3149 chars]'}\n"
     ]
    }
   ],
   "source": [
    "print(article_new)"
   ]
  },
  {
   "cell_type": "code",
   "execution_count": 35,
   "metadata": {},
   "outputs": [
    {
     "data": {
      "text/plain": [
       "'  source     id   None   name    New York Times     author    The New York Times    title    Here is where inflation stands as the Fed meets     description    A jump in consumer prices is sure to come up at a news conference on Wednesday after the Federal Reserve s meeting     url    https   www nytimes com live            business economy stock market news    urlToImage    https   static   nyt com images            business   economy briefing FedInflation merlin           b a c     add      b  c       ab cea facebookJumbo jpg    publishedAt              T        Z    content    A day after ousting two top executives  the electric truck start up Lordstown Motors said on Tuesday that it was on track to start production in September even if it does not raise additional funding         chars   '"
      ]
     },
     "execution_count": 35,
     "metadata": {},
     "output_type": "execute_result"
    }
   ],
   "source": [
    "# In order to tokenize properly, all text needs to be strings, not integers or floats\r\n",
    "article_letters_only = re.sub(\"[^a-zA-Z]\", \" \", str(article_new))\r\n",
    "article_letters_only"
   ]
  },
  {
   "cell_type": "code",
   "execution_count": 36,
   "metadata": {},
   "outputs": [
    {
     "name": "stdout",
     "output_type": "stream",
     "text": [
      "['  source     id   None   name    New York Times     author    The New York Times    title    Here is where inflation stands as the Fed meets     description    A jump in consumer prices is sure to come up at a news conference on Wednesday after the Federal Reserve s meeting     url    https   www nytimes com live            business economy stock market news    urlToImage    https   static   nyt com images            business   economy briefing FedInflation merlin           b a c     add      b  c       ab cea facebookJumbo jpg    publishedAt              T        Z    content    A day after ousting two top executives  the electric truck start up Lordstown Motors said on Tuesday that it was on track to start production in September even if it does not raise additional funding         chars']\n"
     ]
    }
   ],
   "source": [
    "# First, we tokenize sentences\r\n",
    "sent_sample = sent_tokenize(article_letters_only)\r\n",
    "print(sent_sample)"
   ]
  },
  {
   "cell_type": "code",
   "execution_count": 37,
   "metadata": {},
   "outputs": [
    {
     "name": "stdout",
     "output_type": "stream",
     "text": [
      "['source', 'id', 'None', 'name', 'New', 'York', 'Times', 'author', 'The', 'New', 'York', 'Times', 'title', 'Here', 'is', 'where', 'inflation', 'stands', 'as', 'the', 'Fed', 'meets', 'description', 'A', 'jump', 'in', 'consumer', 'prices', 'is', 'sure', 'to', 'come', 'up', 'at', 'a', 'news', 'conference', 'on', 'Wednesday', 'after', 'the', 'Federal', 'Reserve', 's', 'meeting', 'url', 'https', 'www', 'nytimes', 'com', 'live', 'business', 'economy', 'stock', 'market', 'news', 'urlToImage', 'https', 'static', 'nyt', 'com', 'images', 'business', 'economy', 'briefing', 'FedInflation', 'merlin', 'b', 'a', 'c', 'add', 'b', 'c', 'ab', 'cea', 'facebookJumbo', 'jpg', 'publishedAt', 'T', 'Z', 'content', 'A', 'day', 'after', 'ousting', 'two', 'top', 'executives', 'the', 'electric', 'truck', 'start', 'up', 'Lordstown', 'Motors', 'said', 'on', 'Tuesday', 'that', 'it', 'was', 'on', 'track', 'to', 'start', 'production', 'in', 'September', 'even', 'if', 'it', 'does', 'not', 'raise', 'additional', 'funding', 'chars']\n"
     ]
    }
   ],
   "source": [
    "# Second, we tokenize words within the sentences\r\n",
    "word_sample = word_tokenize(article_letters_only)\r\n",
    "print(word_sample)"
   ]
  },
  {
   "cell_type": "code",
   "execution_count": 38,
   "metadata": {},
   "outputs": [
    {
     "name": "stdout",
     "output_type": "stream",
     "text": [
      "['i', 'me', 'my', 'myself', 'we', 'our', 'ours', 'ourselves', 'you', \"you're\", \"you've\", \"you'll\", \"you'd\", 'your', 'yours', 'yourself', 'yourselves', 'he', 'him', 'his', 'himself', 'she', \"she's\", 'her', 'hers', 'herself', 'it', \"it's\", 'its', 'itself', 'they', 'them', 'their', 'theirs', 'themselves', 'what', 'which', 'who', 'whom', 'this', 'that', \"that'll\", 'these', 'those', 'am', 'is', 'are', 'was', 'were', 'be', 'been', 'being', 'have', 'has', 'had', 'having', 'do', 'does', 'did', 'doing', 'a', 'an', 'the', 'and', 'but', 'if', 'or', 'because', 'as', 'until', 'while', 'of', 'at', 'by', 'for', 'with', 'about', 'against', 'between', 'into', 'through', 'during', 'before', 'after', 'above', 'below', 'to', 'from', 'up', 'down', 'in', 'out', 'on', 'off', 'over', 'under', 'again', 'further', 'then', 'once', 'here', 'there', 'when', 'where', 'why', 'how', 'all', 'any', 'both', 'each', 'few', 'more', 'most', 'other', 'some', 'such', 'no', 'nor', 'not', 'only', 'own', 'same', 'so', 'than', 'too', 'very', 's', 't', 'can', 'will', 'just', 'don', \"don't\", 'should', \"should've\", 'now', 'd', 'll', 'm', 'o', 're', 've', 'y', 'ain', 'aren', \"aren't\", 'couldn', \"couldn't\", 'didn', \"didn't\", 'doesn', \"doesn't\", 'hadn', \"hadn't\", 'hasn', \"hasn't\", 'haven', \"haven't\", 'isn', \"isn't\", 'ma', 'mightn', \"mightn't\", 'mustn', \"mustn't\", 'needn', \"needn't\", 'shan', \"shan't\", 'shouldn', \"shouldn't\", 'wasn', \"wasn't\", 'weren', \"weren't\", 'won', \"won't\", 'wouldn', \"wouldn't\"]\n"
     ]
    }
   ],
   "source": [
    "# Third, we get rid of stopwords that are not useful for proper tokenization. Here is a list.\r\n",
    "print(stopwords.words('english'))\r\n"
   ]
  },
  {
   "cell_type": "code",
   "execution_count": 39,
   "metadata": {},
   "outputs": [
    {
     "name": "stdout",
     "output_type": "stream",
     "text": [
      "['source', 'id', 'none', 'name', 'new', 'york', 'times', 'author', 'new', 'york', 'times', 'title', 'inflation', 'stands', 'fed', 'meets', 'description', 'jump', 'consumer', 'prices', 'sure', 'come', 'news', 'conference', 'wednesday', 'federal', 'reserve', 'meeting', 'url', 'https', 'www', 'nytimes', 'com', 'live', 'business', 'economy', 'stock', 'market', 'news', 'urltoimage', 'https', 'static', 'nyt', 'com', 'images', 'business', 'economy', 'briefing', 'fedinflation', 'merlin', 'b', 'c', 'add', 'b', 'c', 'ab', 'cea', 'facebookjumbo', 'jpg', 'publishedat', 'z', 'content', 'day', 'ousting', 'two', 'top', 'executives', 'electric', 'truck', 'start', 'lordstown', 'motors', 'said', 'tuesday', 'track', 'start', 'production', 'september', 'even', 'raise', 'additional', 'funding', 'chars']\n"
     ]
    }
   ],
   "source": [
    "# Fourth, we apply the stopwords function using the above stopwords list\r\n",
    "sw_list = set(stopwords.words('english'))\r\n",
    "sw_result = [word.lower() for word in word_sample if word.lower() not in sw_list]\r\n",
    "print(sw_result)\r\n"
   ]
  },
  {
   "cell_type": "code",
   "execution_count": 44,
   "metadata": {},
   "outputs": [],
   "source": [
    "# Adding customized stopwords taken from the first result\r\n",
    "sw_custom = {'https', 'z', 'e', 'url', 'www', 'b', 'c'}\r\n",
    "custom_result = [word.lower() for word in word_sample if word.lower() not in sw_list.union(sw_custom)]"
   ]
  },
  {
   "cell_type": "code",
   "execution_count": 45,
   "metadata": {},
   "outputs": [
    {
     "name": "stdout",
     "output_type": "stream",
     "text": [
      "['source', 'id', 'none', 'name', 'new', 'york', 'times', 'author', 'new', 'york', 'times', 'title', 'inflation', 'stands', 'fed', 'meets', 'description', 'jump', 'consumer', 'prices', 'sure', 'come', 'news', 'conference', 'wednesday', 'federal', 'reserve', 'meeting', 'nytimes', 'com', 'live', 'business', 'economy', 'stock', 'market', 'news', 'urltoimage', 'static', 'nyt', 'com', 'images', 'business', 'economy', 'briefing', 'fedinflation', 'merlin', 'add', 'ab', 'cea', 'facebookjumbo', 'jpg', 'publishedat', 'content', 'day', 'ousting', 'two', 'top', 'executives', 'electric', 'truck', 'start', 'lordstown', 'motors', 'said', 'tuesday', 'track', 'start', 'production', 'september', 'even', 'raise', 'additional', 'funding', 'chars']\n"
     ]
    }
   ],
   "source": [
    "print(custom_result)"
   ]
  },
  {
   "cell_type": "code",
   "execution_count": 47,
   "metadata": {},
   "outputs": [],
   "source": [
    "# Activate the lemmatizer\r\n",
    "lemmatizer = WordNetLemmatizer()"
   ]
  },
  {
   "cell_type": "code",
   "execution_count": 48,
   "metadata": {},
   "outputs": [
    {
     "name": "stdout",
     "output_type": "stream",
     "text": [
      "['source', 'id', 'None', 'name', 'New', 'York', 'Times', 'author', 'The', 'New', 'York', 'Times', 'title', 'Here', 'is', 'where', 'inflation', 'stand', 'a', 'the', 'Fed', 'meet', 'description', 'A', 'jump', 'in', 'consumer', 'price', 'is', 'sure', 'to', 'come', 'up', 'at', 'a', 'news', 'conference', 'on', 'Wednesday', 'after', 'the', 'Federal', 'Reserve', 's', 'meeting', 'url', 'http', 'www', 'nytimes', 'com', 'live', 'business', 'economy', 'stock', 'market', 'news', 'urlToImage', 'http', 'static', 'nyt', 'com', 'image', 'business', 'economy', 'briefing', 'FedInflation', 'merlin', 'b', 'a', 'c', 'add', 'b', 'c', 'ab', 'cea', 'facebookJumbo', 'jpg', 'publishedAt', 'T', 'Z', 'content', 'A', 'day', 'after', 'ousting', 'two', 'top', 'executive', 'the', 'electric', 'truck', 'start', 'up', 'Lordstown', 'Motors', 'said', 'on', 'Tuesday', 'that', 'it', 'wa', 'on', 'track', 'to', 'start', 'production', 'in', 'September', 'even', 'if', 'it', 'doe', 'not', 'raise', 'additional', 'funding', 'char']\n"
     ]
    }
   ],
   "source": [
    "next_result = [lemmatizer.lemmatize(word) for word in word_sample]\r\n",
    "print(next_result)"
   ]
  },
  {
   "cell_type": "markdown",
   "metadata": {},
   "source": [
    "stopped here. Need to go back and push to github as proof that we did homework for 1st section of NLP"
   ]
  },
  {
   "cell_type": "code",
   "execution_count": null,
   "metadata": {},
   "outputs": [],
   "source": []
  },
  {
   "cell_type": "code",
   "execution_count": null,
   "metadata": {},
   "outputs": [],
   "source": []
  }
 ],
 "metadata": {
  "interpreter": {
   "hash": "183bbf6827d058c2a2fb0f4acdc0420849dda2b4380af0e437e38c64d798d8b7"
  },
  "kernelspec": {
   "display_name": "Python 3.8.5 64-bit ('base': conda)",
   "name": "python3"
  },
  "language_info": {
   "codemirror_mode": {
    "name": "ipython",
    "version": 3
   },
   "file_extension": ".py",
   "mimetype": "text/x-python",
   "name": "python",
   "nbconvert_exporter": "python",
   "pygments_lexer": "ipython3",
   "version": "3.8.5"
  },
  "orig_nbformat": 4
 },
 "nbformat": 4,
 "nbformat_minor": 2
}