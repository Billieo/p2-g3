{
 "cells": [
  {
   "cell_type": "markdown",
   "metadata": {},
   "source": [
    "## Tesla Api Analysis: Grabbing Data for Sentiment Analysis"
   ]
  },
  {
   "cell_type": "code",
   "execution_count": 7,
   "metadata": {},
   "outputs": [
    {
     "output_type": "execute_result",
     "data": {
      "text/plain": [
       "True"
      ]
     },
     "metadata": {},
     "execution_count": 7
    }
   ],
   "source": [
    "# Initial imports\n",
    "import os\n",
    "import pandas as pd\n",
    "from newsapi.newsapi_client import NewsApiClient\n",
    "from dotenv import load_dotenv\n",
    "load_dotenv()\n"
   ]
  },
  {
   "cell_type": "code",
   "execution_count": 15,
   "metadata": {},
   "outputs": [],
   "source": [
    "# Reading the News API key enviroment variable\n",
    "api_key = os.getenv(\"news_api\")\n",
    "\n"
   ]
  },
  {
   "cell_type": "code",
   "execution_count": 16,
   "metadata": {},
   "outputs": [],
   "source": [
    "# Create a newsapi client\n",
    "newsapi_client = NewsApiClient(api_key=api_key)\n"
   ]
  },
  {
   "cell_type": "code",
   "execution_count": 27,
   "metadata": {},
   "outputs": [
    {
     "output_type": "execute_result",
     "data": {
      "text/plain": [
       "{'status': 'ok',\n",
       " 'totalResults': 7972,\n",
       " 'articles': [{'source': {'id': 'techcrunch', 'name': 'TechCrunch'},\n",
       "   'author': 'Kirsten Korosec',\n",
       "   'title': 'Tesla has activated its in-car camera to monitor drivers using Autopilot',\n",
       "   'description': 'Tesla has enabled the in-car camera in its Model 3 and Model Y vehicles to monitor drivers when its Autopilot advanced driver assistance system is being used. In a software update, Tesla indicated the “cabin camera above the rearview mirror can now detect and…',\n",
       "   'url': 'http://techcrunch.com/2021/05/27/tesla-has-activated-its-in-car-camera-to-monitor-drivers-using-autopilot/',\n",
       "   'urlToImage': 'https://techcrunch.com/wp-content/uploads/2019/01/tesla-cameraAutopilot.jpg?w=764',\n",
       "   'publishedAt': '2021-05-27T22:56:22Z',\n",
       "   'content': 'Tesla has enabled the in-car camera in its Model 3 and Model Y vehicles to monitor drivers when its Autopilot advanced driver assistance system is being used.\\r\\nIn a software update, Tesla indicated t… [+4398 chars]'},\n",
       "  {'source': {'id': 'engadget', 'name': 'Engadget'},\n",
       "   'author': 'https://www.engadget.com/about/editors/jon-fingas',\n",
       "   'title': \"Elon Musk says Tesla Model S Plaid+ is 'canceled'\",\n",
       "   'description': \"Elon Musk claims the Tesla Model S Plaid+ is 'canceled' as the regular Plaid model is good enough..\",\n",
       "   'url': 'https://www.engadget.com/elon-musk-says-tesla-model-s-plaid-plus-canceled-211804141.html',\n",
       "   'urlToImage': 'https://s.yimg.com/os/creatr-uploaded-images/2021-03/a53fc4a0-8d72-11eb-bffa-fac9a7f8b050',\n",
       "   'publishedAt': '2021-06-06T21:18:04Z',\n",
       "   'content': 'You might have to forego dreams of driving Tesla\\'s supercar-level Model S Plaid+ sedan. Elon Musk told Twitter followers that the Plaid+ trim is \"canceled\" as the imminent, lower-priced \\'regular\\' Pla… [+1150 chars]'},\n",
       "  {'source': {'id': 'engadget', 'name': 'Engadget'},\n",
       "   'author': 'https://www.engadget.com/about/editors/devindra-hardawar',\n",
       "   'title': 'Tesla recalls almost 6,000 cars due to loose brake caliper bolts',\n",
       "   'description': 'Tesla is recalling 5,974 electric cars, CNBC reports, based on documents released by the National Highway Traffic Safety Administration..',\n",
       "   'url': 'https://www.engadget.com/tesla-recalls-loose-bolts-model-3-y-140841331.html',\n",
       "   'urlToImage': 'https://s.yimg.com/os/creatr-images/2019-07/d4550620-afc9-11e9-973d-016842c38fee',\n",
       "   'publishedAt': '2021-06-02T14:08:41Z',\n",
       "   'content': 'Tesla is recalling 5,974 electric cars, CNBC reports, based on documents released by the National Highway Traffic Safety Administration. At issue is the brake calipers in the 2019-2021 Model 3 and 20… [+774 chars]'},\n",
       "  {'source': {'id': 'techcrunch', 'name': 'TechCrunch'},\n",
       "   'author': 'Aria Alamalhodaei',\n",
       "   'title': 'The executive in charge of the Tesla Semi has left the company',\n",
       "   'description': 'Jerome Guillen, a critical executive at Tesla who was working on the development and eventual production of the Tesla Semi has left the company, the automaker said Monday in a filing to the U.S. Securities and Exchange Commission. Guillen had a decade-long ca…',\n",
       "   'url': 'http://techcrunch.com/2021/06/07/the-executive-in-charge-of-the-tesla-semi-has-left-the-company/',\n",
       "   'urlToImage': 'https://techcrunch.com/wp-content/uploads/2019/06/Tesla-SX3Semi-Family.jpg?w=711',\n",
       "   'publishedAt': '2021-06-07T21:35:17Z',\n",
       "   'content': 'Jerome Guillen, a critical executive at Tesla who was working on the development and eventual production of the Tesla Semi has left the company, the automaker said Monday in a filing to the U.S. Secu… [+901 chars]'},\n",
       "  {'source': {'id': 'engadget', 'name': 'Engadget'},\n",
       "   'author': 'https://www.engadget.com/about/editors/steve-dent',\n",
       "   'title': 'Tesla has installed over 200,000 Powerwall home batteries',\n",
       "   'description': \"Despite issues with its Solar Roof, Tesla's Powerwall has apparently been a hot-selling item over the last year..\",\n",
       "   'url': 'https://www.engadget.com/tesla-has-installed-over-200000-powerwall-home-batteries-103514068.html',\n",
       "   'urlToImage': 'https://s.yimg.com/os/creatr-uploaded-images/2021-05/aa6bf1f0-bed3-11eb-bdbf-037a08a632fc',\n",
       "   'publishedAt': '2021-05-27T10:35:14Z',\n",
       "   'content': \"Despite issues with its Solar Roof, Tesla's Powerwall has apparently been a hot-selling item over the last year. The company announced on Twitter that it has sold over 200,000 Powerwall units so far,… [+1206 chars]\"},\n",
       "  {'source': {'id': 'engadget', 'name': 'Engadget'},\n",
       "   'author': 'https://www.engadget.com/about/editors/richard-lawler',\n",
       "   'title': \"NHTSA pulls driver assist designations for 'Tesla Vision' cars\",\n",
       "   'description': 'NHTSA took away the checkmarks noting several driver assist safety features on new Model 3 and Model Y EVs that use Tesla Vision..',\n",
       "   'url': 'https://www.engadget.com/nhtsa-safety-tesla-080857344.html',\n",
       "   'urlToImage': 'https://s.yimg.com/os/creatr-uploaded-images/2021-05/b6571250-bec0-11eb-8fa7-b8a20cdb9037',\n",
       "   'publishedAt': '2021-05-27T08:08:57Z',\n",
       "   'content': \"On Tuesday Tesla announced that Model 3 and Model Y vehicles built for the US are now shipping without radar sensors, since they'll rely solely on Tesla Vision to enable various driver assists. Accor… [+1324 chars]\"},\n",
       "  {'source': {'id': 'the-verge', 'name': 'The Verge'},\n",
       "   'author': \"Sean O'Kane\",\n",
       "   'title': 'Tesla delivers the first 25 Model S Plaid sedans',\n",
       "   'description': 'Tesla delivered the first 25 redesigned Model S Plaid sedans on June 10th at an event outside the company’s Fremont, California headquarters. CEO Elon Musk detailed all the changes to the nearly decade-old electric car that put Tesla on the path to becoming t…',\n",
       "   'url': 'https://www.theverge.com/2021/6/11/22528963/tesla-model-s-plaid-ev-price-specs-range-speed',\n",
       "   'urlToImage': 'https://cdn.vox-cdn.com/thumbor/mySRe4Hqi2gaJzszsougrZpmIgY=/63x67:2998x1604/fit-in/1200x630/cdn.vox-cdn.com/uploads/chorus_asset/file/22652104/Screen_Shot_2021_06_10_at_10.47.28_PM.png',\n",
       "   'publishedAt': '2021-06-11T05:05:29Z',\n",
       "   'content': 'A lucky 25 customers received Tesla’s redesigned Model S “Plaid” at an event hosted by CEO Elon Musk in Fremont, California on Thursday night.\\nThe Silicon Valley automaker has billed this new $130,00… [+6728 chars]'},\n",
       "  {'source': {'id': 'techcrunch', 'name': 'TechCrunch'},\n",
       "   'author': 'Kirsten Korosec',\n",
       "   'title': 'Redwood Materials is setting up shop near the Tesla Gigafactory as part of broader expansion',\n",
       "   'description': 'Redwood Materials, the battery recycling startup founded by former Tesla CTO JB Straubel, has purchased 100 acres of land near the Gigafactory that Panasonic operates with Tesla in Sparks, Nevada as part of an expansion plan that aligns with the Biden Adminis…',\n",
       "   'url': 'http://techcrunch.com/2021/06/14/redwood-materials-is-setting-up-shop-near-the-tesla-gigafactory-as-part-of-broader-expansion/',\n",
       "   'urlToImage': 'https://techcrunch.com/wp-content/uploads/2021/01/RedwoodMaterials-5776.jpg?w=600',\n",
       "   'publishedAt': '2021-06-14T18:34:42Z',\n",
       "   'content': 'Redwood Materials, the battery recycling startup founded by former Tesla CTO JB Straubel, has purchased 100 acres of land near the Gigafactory that Panasonic operates with Tesla in Sparks, Nevada as … [+2525 chars]'},\n",
       "  {'source': {'id': 'techcrunch', 'name': 'TechCrunch'},\n",
       "   'author': 'Rebecca Bellan',\n",
       "   'title': 'Tesla backs vision-only approach to autonomy using powerful supercomputer',\n",
       "   'description': 'Tesla CEO Elon Musk has been teasing a neural network training computer called ‘Dojo’ since at least 2019. Musk says Dojo will be able to process vast amounts of video data to achieve vision-only autonomous driving. While Dojo itself is still in development, …',\n",
       "   'url': 'http://techcrunch.com/2021/06/21/tesla-backs-vision-only-approach-to-autonomy-using-powerful-supercomputer/',\n",
       "   'urlToImage': 'https://techcrunch.com/wp-content/uploads/2021/06/Screen-Shot-2021-06-22-at-12.57.01-pm.png?w=640',\n",
       "   'publishedAt': '2021-06-22T02:10:21Z',\n",
       "   'content': 'Tesla CEO Elon Musk has been teasing a neural network training computer called ‘Dojo’ since at least 2019. Musk says Dojo will be able to process vast amounts of video data to achieve vision-only aut… [+5523 chars]'},\n",
       "  {'source': {'id': 'the-verge', 'name': 'The Verge'},\n",
       "   'author': \"Sean O'Kane\",\n",
       "   'title': 'Tesla starts using in-car camera for Autopilot driver monitoring',\n",
       "   'description': 'Tesla is finally adding an extra layer of driver monitoring to its Autopilot advanced driver assistance system. The company has started shipping new software that activates an in-car camera which will watch for “driver inattentiveness.”',\n",
       "   'url': 'https://www.theverge.com/2021/5/27/22457430/tesla-in-car-camera-driver-monitoring-system',\n",
       "   'urlToImage': 'https://cdn.vox-cdn.com/thumbor/ZkL6PYXqem3hecIz6JPE87MwObw=/0x101:1400x834/fit-in/1200x630/cdn.vox-cdn.com/uploads/chorus_asset/file/22544675/d3d70c40_031e_480a_85d6_4bff05670ea3.jpg',\n",
       "   'publishedAt': '2021-05-27T23:09:37Z',\n",
       "   'content': 'Elon Musk previously rejected the idea\\r\\nTesla is starting to use the camera above the rear-view mirror in the Model 3 and Model Y to help make sure people pay attention to the road while using Autopi… [+3147 chars]'},\n",
       "  {'source': {'id': 'engadget', 'name': 'Engadget'},\n",
       "   'author': 'https://www.engadget.com/about/editors/mat-smith',\n",
       "   'title': 'The Morning After: A surprising cloudy day on Mars',\n",
       "   'description': 'Today’s headlines: The first look at a cloudy day on Mars, Apple delays paid podcast subscription launch to June and Tesla may have to ship Texas-made EVs out of state to sell them to Texans..',\n",
       "   'url': 'https://www.engadget.com/the-morning-after-a-surprisingly-cloudy-day-on-mars-112600849.html',\n",
       "   'urlToImage': 'https://s.yimg.com/os/creatr-uploaded-images/2021-05/8e7fbc50-c181-11eb-b7fb-d53cbcea9c7a',\n",
       "   'publishedAt': '2021-05-31T11:26:00Z',\n",
       "   'content': 'NASA\\'s Curiosity rover has been able to register something which, while unremarkable on Earth, is an interesting phenomenon for Mars cloudy skies. The agency has shared images of \"shining\" clouds, ab… [+2650 chars]'},\n",
       "  {'source': {'id': 'techcrunch', 'name': 'TechCrunch'},\n",
       "   'author': 'Rebecca Bellan',\n",
       "   'title': 'Tesla files trademark, hinting at Elon Musk’s restaurant concept plans',\n",
       "   'description': 'Tesla has recently filed a new trademark for its brand under restaurant services, a sign the company might be finally gearing up to deliver on an idea that CEO Elon Musk and other company executives have discussed publicly since at least 2017. The company app…',\n",
       "   'url': 'http://techcrunch.com/2021/06/01/tesla-files-trademark-hinting-at-elon-musks-restaurant-concept-plans/',\n",
       "   'urlToImage': 'https://techcrunch.com/wp-content/uploads/2021/06/0x0-Supercharger_09.jpg?w=616',\n",
       "   'publishedAt': '2021-06-02T00:22:05Z',\n",
       "   'content': 'Tesla has recently filed a new trademark for its brand under restaurant services, a sign the company might be finally gearing up to deliver on an idea that CEO Elon Musk and other company executives … [+3237 chars]'},\n",
       "  {'source': {'id': 'techcrunch', 'name': 'TechCrunch'},\n",
       "   'author': 'Rebecca Bellan',\n",
       "   'title': 'Elon Musk reveals the Tesla Model S Plaid',\n",
       "   'description': 'Tesla finally held the long-awaited, and once rescheduled, “delivery event” for its ultra-fast Model S Plaid at its factory in Fremont, California. The electric vehicle company will begin with 25 deliveries on Friday evening, expanding to several hundred cars…',\n",
       "   'url': 'http://techcrunch.com/2021/06/10/elon-musk-reveals-the-tesla-model-s-plaid/',\n",
       "   'urlToImage': 'https://techcrunch.com/wp-content/uploads/2021/06/Screen-Shot-2021-06-10-at-9.41.14-PM.png?w=724',\n",
       "   'publishedAt': '2021-06-11T05:15:42Z',\n",
       "   'content': 'Tesla finally held the long-awaited, and once rescheduled, “delivery event” for its ultra-fast Model S Plaid at its factory in Fremont, California. The electric vehicle company will begin with 25 del… [+4213 chars]'},\n",
       "  {'source': {'id': 'mashable', 'name': 'Mashable'},\n",
       "   'author': 'Sasha Lekach',\n",
       "   'title': '14 Tesla features your regular car definitely doesn’t have',\n",
       "   'description': 'Tesla\\'s reputation often precedes it. But no matter what you think of the electric car company\\'s \"unique\" CEO — with his active Twitter presence and unorthodox methods for selling EVs (no advertising, no dealerships, all online) — Tesla\\'s vehicles are not lik…',\n",
       "   'url': 'https://mashable.com/article/coolest-tesla-features/',\n",
       "   'urlToImage': 'https://mondrian.mashable.com/2021%252F06%252F20%252F8b%252Ff66fef23f72d435fb373ec1431b6ebaa.d102c.jpg%252F1200x630.jpg?signature=IfrdSHLBX2S23-UyUxSASGAK7K4=',\n",
       "   'publishedAt': '2021-06-20T19:00:00Z',\n",
       "   'content': 'Tesla\\'s reputation often precedes it. But no matter what you think of the electric car company\\'s \"unique\" CEO with his active Twitter presence and unorthodox methods for selling EVs (no advertising, … [+6766 chars]'},\n",
       "  {'source': {'id': 'the-verge', 'name': 'The Verge'},\n",
       "   'author': 'Kim Lyons',\n",
       "   'title': 'Tesla recalls more than 285,000 vehicles in China over cruise control safety concerns',\n",
       "   'description': 'Tesla is recalling Model 3 and Model Y vehicles made in China and Model 3 vehicles that were imported into the country due to a safety concern with their cruise control systems.',\n",
       "   'url': 'https://www.theverge.com/2021/6/26/22551618/tesla-recalls-model-vehicles-china-cruise-control-safety',\n",
       "   'urlToImage': 'https://cdn.vox-cdn.com/thumbor/NtrXLlFjYSqxLfRFBG6QpA2MjeQ=/0x146:2040x1214/fit-in/1200x630/cdn.vox-cdn.com/uploads/chorus_asset/file/10752833/acastro_180430_1777_tesla_0004.jpg',\n",
       "   'publishedAt': '2021-06-26T13:02:51Z',\n",
       "   'content': 'Most of the affected vehicles were made in China at Teslas Shanghai plant\\r\\nIllustration by Alex Castro / The Verge\\r\\nTesla has had a run of bad publicity in China so far this year, with officials rais… [+1405 chars]'},\n",
       "  {'source': {'id': 'the-verge', 'name': 'The Verge'},\n",
       "   'author': 'Sean Hollister',\n",
       "   'title': 'AMD confirms it’s powering the gaming rig inside Tesla’s Model S and Model X',\n",
       "   'description': 'During its Computex 2021 keynote, AMD revealed that the new Tesla Model S and Model X infotainment system consists of an AMD Ryzen processor paired with an AMD RDNA 2 GPU.',\n",
       "   'url': 'https://www.theverge.com/2021/6/1/22462660/amd-tesla-model-x-s-plaid-ryzen-radeon-rdna-2',\n",
       "   'urlToImage': 'https://cdn.vox-cdn.com/thumbor/DLTaI4hph5QMrqGThuada3rxkIs=/0x87:1201x716/fit-in/1200x630/cdn.vox-cdn.com/uploads/chorus_asset/file/22264356/tesla_model_s_witcher_3_3.jpg',\n",
       "   'publishedAt': '2021-06-01T06:53:20Z',\n",
       "   'content': 'Remember when Elon Musk claimed you’d be able to play The Witcher 3 and Cyberpunk 2077 on a 10 teraflop gaming rig he’s stuffing into the new Tesla Model S and X? AMD is officially providing the guts… [+2836 chars]'},\n",
       "  {'source': {'id': 'the-verge', 'name': 'The Verge'},\n",
       "   'author': 'Andrew J. Hawkins',\n",
       "   'title': 'New York City votes to block new licenses for electric taxis, snubbing Revel’s Tesla plans',\n",
       "   'description': 'New York City’s Taxi and Limousine Commission voted to stop issuing for-hire vehicle licenses to electric vehicles, blocking moped company Revel’s plan to launch a fleet of Tesla taxis. The agency argued it wants to prevent congestion.',\n",
       "   'url': 'https://www.theverge.com/2021/6/23/22546955/nyc-tlc-electric-vehicle-license-taxi-vote-revel-tesla',\n",
       "   'urlToImage': 'https://cdn.vox-cdn.com/thumbor/aaC7rZVNB0x__eelnqoEKnMRtNM=/0x146:2040x1214/fit-in/1200x630/cdn.vox-cdn.com/uploads/chorus_asset/file/22473627/revel_pressimage.jpg',\n",
       "   'publishedAt': '2021-06-23T15:00:06Z',\n",
       "   'content': 'The moped company had planned to launch a ride-hail service with 50 Tesla Model Ys\\r\\nNew York Citys Taxi and Limousine Commission (TLC) voted to block the issuance of new for-hire vehicle licenses for… [+4306 chars]'},\n",
       "  {'source': {'id': 'the-verge', 'name': 'The Verge'},\n",
       "   'author': 'Andrew J. Hawkins',\n",
       "   'title': 'Luminar is using lidar to help build the ‘uncrashable car’',\n",
       "   'description': 'Luminar, the lidar company, conducted its first live demo in New York City. The company, which has partnerships with Volvo, Audi, and (maybe?) Tesla, is out to prove its low-cost sensors can be included in production vehicles.',\n",
       "   'url': 'https://www.theverge.com/2021/6/15/22533711/luminar-lidar-autonomous-vehicle-hands-on-demo-austin-russell',\n",
       "   'urlToImage': 'https://cdn.vox-cdn.com/thumbor/JkIzjPL_WUvL1Finhwbjrrthhzo=/0x146:2040x1214/fit-in/1200x630/cdn.vox-cdn.com/uploads/chorus_asset/file/22658742/VRG05AH_210614_4634_004.jpg',\n",
       "   'publishedAt': '2021-06-15T14:30:00Z',\n",
       "   'content': 'EMBARGO: June 15, 2021, 10:30am ET | Photo by Andrew J. Hawkins / The Verge\\r\\n\\n \\n\\n Austin Russell, the 26-year-old CEO of lidar maker Luminar, folds his lanky six-foot, four-inch frame into the back o… [+8554 chars]'},\n",
       "  {'source': {'id': None, 'name': 'Gizmodo.com'},\n",
       "   'author': 'Alyse Stanley',\n",
       "   'title': 'Tesla Recalls Nearly 300,000 Cars in China Over Cruise Control Safety Issues',\n",
       "   'description': 'Tesla has already chalked up plenty of bad press in China this year, with officials scrutinizing its handling of customer data and protests claiming that Chinese customer complaints are going ignored. The electric car manufacturer added another controversy to…',\n",
       "   'url': 'https://gizmodo.com/tesla-recalls-nearly-300-000-cars-in-china-over-cruise-1847179949',\n",
       "   'urlToImage': 'https://i.kinja-img.com/gawker-media/image/upload/c_fill,f_auto,fl_progressive,g_center,h_675,pg_1,q_80,w_1200/1ae325048992a2be9ea138b6d19db0b3.jpg',\n",
       "   'publishedAt': '2021-06-26T19:02:00Z',\n",
       "   'content': 'Tesla has already chalked up plenty of bad press in China this year, with officials scrutinizing its handling of customer data and protests claiming that Chinese customer complaints are going ignored… [+2207 chars]'},\n",
       "  {'source': {'id': None, 'name': 'Gizmodo.com'},\n",
       "   'author': 'Tom McKay',\n",
       "   'title': 'Tesla Makes Cars in Texas but Has to Re-Import Them to Sell in the Lone Star State',\n",
       "   'description': 'The Texas legislature adjourned on May 31 without making any changes to the state’s auto dealer franchise laws—meaning that the only way for Tesla to sell electric cars made at its forthcoming factory in Austin will be to ship them out of state and re-import …',\n",
       "   'url': 'https://gizmodo.com/tesla-makes-cars-in-texas-but-has-to-re-import-them-to-1847010647',\n",
       "   'urlToImage': 'https://i.kinja-img.com/gawker-media/image/upload/c_fill,f_auto,fl_progressive,g_center,h_675,pg_1,q_80,w_1200/769f841891cba7e038e40bba49de928b.jpg',\n",
       "   'publishedAt': '2021-06-01T20:30:00Z',\n",
       "   'content': 'The Texas legislature adjourned on May 31 without making any changes to the states auto dealer franchise lawsmeaning that the only way for Tesla to sell electric cars made at its forthcoming factory … [+3452 chars]'}]}"
      ]
     },
     "metadata": {},
     "execution_count": 27
    }
   ],
   "source": [
    "# Fetch top news articles about Tesla   \n",
    "tesla_all = newsapi_client.get_everything(q=\"Tesla\", language=\"en\")\n",
    "tesla_all\n"
   ]
  },
  {
   "cell_type": "code",
   "execution_count": 28,
   "metadata": {},
   "outputs": [
    {
     "output_type": "stream",
     "name": "stdout",
     "text": [
      "Total Articles: 7972\n"
     ]
    },
    {
     "output_type": "execute_result",
     "data": {
      "text/plain": [
       "{'source': {'id': 'techcrunch', 'name': 'TechCrunch'},\n",
       " 'author': 'Kirsten Korosec',\n",
       " 'title': 'Tesla has activated its in-car camera to monitor drivers using Autopilot',\n",
       " 'description': 'Tesla has enabled the in-car camera in its Model 3 and Model Y vehicles to monitor drivers when its Autopilot advanced driver assistance system is being used. In a software update, Tesla indicated the “cabin camera above the rearview mirror can now detect and…',\n",
       " 'url': 'http://techcrunch.com/2021/05/27/tesla-has-activated-its-in-car-camera-to-monitor-drivers-using-autopilot/',\n",
       " 'urlToImage': 'https://techcrunch.com/wp-content/uploads/2019/01/tesla-cameraAutopilot.jpg?w=764',\n",
       " 'publishedAt': '2021-05-27T22:56:22Z',\n",
       " 'content': 'Tesla has enabled the in-car camera in its Model 3 and Model Y vehicles to monitor drivers when its Autopilot advanced driver assistance system is being used.\\r\\nIn a software update, Tesla indicated t… [+4398 chars]'}"
      ]
     },
     "metadata": {},
     "execution_count": 28
    }
   ],
   "source": [
    "# Print total articles\n",
    "print(f\"Total Articles: {tesla_all['totalResults']}\" )\n",
    "\n",
    "# Show sample article\n",
    "tesla_all[\"articles\"][0]\n"
   ]
  },
  {
   "cell_type": "code",
   "execution_count": 31,
   "metadata": {},
   "outputs": [
    {
     "output_type": "execute_result",
     "data": {
      "text/plain": [
       "                                       source  \\\n",
       "0  {'id': 'techcrunch', 'name': 'TechCrunch'}   \n",
       "1      {'id': 'engadget', 'name': 'Engadget'}   \n",
       "2      {'id': 'engadget', 'name': 'Engadget'}   \n",
       "3  {'id': 'techcrunch', 'name': 'TechCrunch'}   \n",
       "4      {'id': 'engadget', 'name': 'Engadget'}   \n",
       "\n",
       "                                              author  \\\n",
       "0                                    Kirsten Korosec   \n",
       "1  https://www.engadget.com/about/editors/jon-fingas   \n",
       "2  https://www.engadget.com/about/editors/devindr...   \n",
       "3                                  Aria Alamalhodaei   \n",
       "4  https://www.engadget.com/about/editors/steve-dent   \n",
       "\n",
       "                                               title  \\\n",
       "0  Tesla has activated its in-car camera to monit...   \n",
       "1  Elon Musk says Tesla Model S Plaid+ is 'canceled'   \n",
       "2  Tesla recalls almost 6,000 cars due to loose b...   \n",
       "3  The executive in charge of the Tesla Semi has ...   \n",
       "4  Tesla has installed over 200,000 Powerwall hom...   \n",
       "\n",
       "                                         description  \\\n",
       "0  Tesla has enabled the in-car camera in its Mod...   \n",
       "1  Elon Musk claims the Tesla Model S Plaid+ is '...   \n",
       "2  Tesla is recalling 5,974 electric cars, CNBC r...   \n",
       "3  Jerome Guillen, a critical executive at Tesla ...   \n",
       "4  Despite issues with its Solar Roof, Tesla's Po...   \n",
       "\n",
       "                                                 url  \\\n",
       "0  http://techcrunch.com/2021/05/27/tesla-has-act...   \n",
       "1  https://www.engadget.com/elon-musk-says-tesla-...   \n",
       "2  https://www.engadget.com/tesla-recalls-loose-b...   \n",
       "3  http://techcrunch.com/2021/06/07/the-executive...   \n",
       "4  https://www.engadget.com/tesla-has-installed-o...   \n",
       "\n",
       "                                          urlToImage           publishedAt  \\\n",
       "0  https://techcrunch.com/wp-content/uploads/2019...  2021-05-27T22:56:22Z   \n",
       "1  https://s.yimg.com/os/creatr-uploaded-images/2...  2021-06-06T21:18:04Z   \n",
       "2  https://s.yimg.com/os/creatr-images/2019-07/d4...  2021-06-02T14:08:41Z   \n",
       "3  https://techcrunch.com/wp-content/uploads/2019...  2021-06-07T21:35:17Z   \n",
       "4  https://s.yimg.com/os/creatr-uploaded-images/2...  2021-05-27T10:35:14Z   \n",
       "\n",
       "                                             content  \n",
       "0  Tesla has enabled the in-car camera in its Mod...  \n",
       "1  You might have to forego dreams of driving Tes...  \n",
       "2  Tesla is recalling 5,974 electric cars, CNBC r...  \n",
       "3  Jerome Guillen, a critical executive at Tesla ...  \n",
       "4  Despite issues with its Solar Roof, Tesla's Po...  "
      ],
      "text/html": "<div>\n<style scoped>\n    .dataframe tbody tr th:only-of-type {\n        vertical-align: middle;\n    }\n\n    .dataframe tbody tr th {\n        vertical-align: top;\n    }\n\n    .dataframe thead th {\n        text-align: right;\n    }\n</style>\n<table border=\"1\" class=\"dataframe\">\n  <thead>\n    <tr style=\"text-align: right;\">\n      <th></th>\n      <th>source</th>\n      <th>author</th>\n      <th>title</th>\n      <th>description</th>\n      <th>url</th>\n      <th>urlToImage</th>\n      <th>publishedAt</th>\n      <th>content</th>\n    </tr>\n  </thead>\n  <tbody>\n    <tr>\n      <th>0</th>\n      <td>{'id': 'techcrunch', 'name': 'TechCrunch'}</td>\n      <td>Kirsten Korosec</td>\n      <td>Tesla has activated its in-car camera to monit...</td>\n      <td>Tesla has enabled the in-car camera in its Mod...</td>\n      <td>http://techcrunch.com/2021/05/27/tesla-has-act...</td>\n      <td>https://techcrunch.com/wp-content/uploads/2019...</td>\n      <td>2021-05-27T22:56:22Z</td>\n      <td>Tesla has enabled the in-car camera in its Mod...</td>\n    </tr>\n    <tr>\n      <th>1</th>\n      <td>{'id': 'engadget', 'name': 'Engadget'}</td>\n      <td>https://www.engadget.com/about/editors/jon-fingas</td>\n      <td>Elon Musk says Tesla Model S Plaid+ is 'canceled'</td>\n      <td>Elon Musk claims the Tesla Model S Plaid+ is '...</td>\n      <td>https://www.engadget.com/elon-musk-says-tesla-...</td>\n      <td>https://s.yimg.com/os/creatr-uploaded-images/2...</td>\n      <td>2021-06-06T21:18:04Z</td>\n      <td>You might have to forego dreams of driving Tes...</td>\n    </tr>\n    <tr>\n      <th>2</th>\n      <td>{'id': 'engadget', 'name': 'Engadget'}</td>\n      <td>https://www.engadget.com/about/editors/devindr...</td>\n      <td>Tesla recalls almost 6,000 cars due to loose b...</td>\n      <td>Tesla is recalling 5,974 electric cars, CNBC r...</td>\n      <td>https://www.engadget.com/tesla-recalls-loose-b...</td>\n      <td>https://s.yimg.com/os/creatr-images/2019-07/d4...</td>\n      <td>2021-06-02T14:08:41Z</td>\n      <td>Tesla is recalling 5,974 electric cars, CNBC r...</td>\n    </tr>\n    <tr>\n      <th>3</th>\n      <td>{'id': 'techcrunch', 'name': 'TechCrunch'}</td>\n      <td>Aria Alamalhodaei</td>\n      <td>The executive in charge of the Tesla Semi has ...</td>\n      <td>Jerome Guillen, a critical executive at Tesla ...</td>\n      <td>http://techcrunch.com/2021/06/07/the-executive...</td>\n      <td>https://techcrunch.com/wp-content/uploads/2019...</td>\n      <td>2021-06-07T21:35:17Z</td>\n      <td>Jerome Guillen, a critical executive at Tesla ...</td>\n    </tr>\n    <tr>\n      <th>4</th>\n      <td>{'id': 'engadget', 'name': 'Engadget'}</td>\n      <td>https://www.engadget.com/about/editors/steve-dent</td>\n      <td>Tesla has installed over 200,000 Powerwall hom...</td>\n      <td>Despite issues with its Solar Roof, Tesla's Po...</td>\n      <td>https://www.engadget.com/tesla-has-installed-o...</td>\n      <td>https://s.yimg.com/os/creatr-uploaded-images/2...</td>\n      <td>2021-05-27T10:35:14Z</td>\n      <td>Despite issues with its Solar Roof, Tesla's Po...</td>\n    </tr>\n  </tbody>\n</table>\n</div>"
     },
     "metadata": {},
     "execution_count": 31
    }
   ],
   "source": [
    "# Transform the response dictionary to a DataFrame\n",
    "tesla_df = pd.DataFrame.from_dict(tesla_all[\"articles\"])\n",
    "tesla_df.head()\n"
   ]
  },
  {
   "cell_type": "code",
   "execution_count": 20,
   "metadata": {},
   "outputs": [],
   "source": [
    "# Fetch all the news about Facebook Libra\n",
    "\n",
    "# Print total articles\n",
    "\n",
    "# Show sample article\n",
    "\n"
   ]
  },
  {
   "cell_type": "code",
   "execution_count": 21,
   "metadata": {},
   "outputs": [],
   "source": [
    "# Transform the response dictionary to a DataFrame\n",
    "\n"
   ]
  }
 ],
 "metadata": {
  "file_extension": ".py",
  "kernelspec": {
   "name": "python3",
   "display_name": "Python 3.8.5 64-bit ('base': conda)"
  },
  "language_info": {
   "codemirror_mode": {
    "name": "ipython",
    "version": 3
   },
   "file_extension": ".py",
   "mimetype": "text/x-python",
   "name": "python",
   "nbconvert_exporter": "python",
   "pygments_lexer": "ipython3",
   "version": "3.8.5"
  },
  "mimetype": "text/x-python",
  "name": "python",
  "npconvert_exporter": "python",
  "pygments_lexer": "ipython3",
  "version": 3,
  "interpreter": {
   "hash": "183bbf6827d058c2a2fb0f4acdc0420849dda2b4380af0e437e38c64d798d8b7"
  }
 },
 "nbformat": 4,
 "nbformat_minor": 4
}