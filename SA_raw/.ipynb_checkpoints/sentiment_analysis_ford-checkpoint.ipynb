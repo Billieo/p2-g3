{
 "cells": [
  {
   "cell_type": "markdown",
   "metadata": {},
   "source": [
    "## Ford Api Analysis: Grabbing Data for Sentiment Analysis"
   ]
  },
  {
   "cell_type": "code",
   "execution_count": 1,
   "metadata": {},
   "outputs": [
    {
     "data": {
      "text/plain": [
       "True"
      ]
     },
     "execution_count": 1,
     "metadata": {},
     "output_type": "execute_result"
    }
   ],
   "source": [
    "# Initial imports\n",
    "import os\n",
    "import pandas as pd\n",
    "from newsapi.newsapi_client import NewsApiClient\n",
    "from dotenv import load_dotenv\n",
    "load_dotenv()\n"
   ]
  },
  {
   "cell_type": "code",
   "execution_count": 2,
   "metadata": {},
   "outputs": [],
   "source": [
    "# Reading the News API key enviroment variable\n",
    "api_key = os.getenv(\"news_api\")\n",
    "\n"
   ]
  },
  {
   "cell_type": "code",
   "execution_count": 3,
   "metadata": {},
   "outputs": [],
   "source": [
    "# Create a newsapi client\n",
    "newsapi_client = NewsApiClient(api_key=api_key)\n"
   ]
  },
  {
   "cell_type": "code",
   "execution_count": 5,
   "metadata": {},
   "outputs": [
    {
     "data": {
      "text/plain": [
       "{'status': 'ok',\n",
       " 'totalResults': 8271,\n",
       " 'articles': [{'source': {'id': 'engadget', 'name': 'Engadget'},\n",
       "   'author': 'https://www.engadget.com/about/editors/richard-lawler',\n",
       "   'title': \"Ford's Maverick starts at less than $20k with a hybrid engine and built-in LTE\",\n",
       "   'description': 'The first pickup truck to come standard with a hybrid powertrain is the Ford Maverick, and you can buy one for around $20,000..',\n",
       "   'url': 'https://www.engadget.com/ford-maverick-hybrid-pickup-100057297.html',\n",
       "   'urlToImage': 'https://s.yimg.com/os/creatr-uploaded-images/2021-06/548d0e30-c83e-11eb-bf42-53291797875f',\n",
       "   'publishedAt': '2021-06-08T10:00:57Z',\n",
       "   'content': \"After showing off its F-150 Hybrid, Mustang Mach-E and the electric F-150 Lightning, Ford's latest electrified addition to a mostly-carless lineup is this compact pickup, the Maverick. Set to go on s… [+2081 chars]\"},\n",
       "  {'source': {'id': 'engadget', 'name': 'Engadget'},\n",
       "   'author': 'https://www.engadget.com/about/editors/jon-fingas',\n",
       "   'title': \"Ford's electric F-150 range estimates are very conservative\",\n",
       "   'description': \"Ford has revealed that its F-150 Lightning range estimates assume you're carrying heavy cargo — real-world figures may be considerably higher..\",\n",
       "   'url': 'https://www.engadget.com/ford-electric-f-150-lightning-range-estimates-174237685.html',\n",
       "   'urlToImage': 'https://s.yimg.com/os/creatr-uploaded-images/2021-05/f8acb2e0-c0a0-11eb-b57b-75dbabb67dd4',\n",
       "   'publishedAt': '2021-05-29T17:42:37Z',\n",
       "   'content': 'Were you disappointed when Ford said the F-150 Lightning would offer an estimated 300 miles of range in its best trim level? You might not have reason to be so glum. Ford told YouTuber Marques Brownl… [+1335 chars]'},\n",
       "  {'source': {'id': 'techcrunch', 'name': 'TechCrunch'},\n",
       "   'author': 'Kirsten Korosec',\n",
       "   'title': 'Ford acquires Electriphi as it prepares to woo EV fleet customers',\n",
       "   'description': 'Ford has two electric vehicles in the pipeline — \\xa0the E-Transit cargo van and F-150 Lighting Pro —aimed at commercial customers. Now, the automaker is rounding out its future EV commercial business with the acquisition of battery management and fleet monitori…',\n",
       "   'url': 'http://techcrunch.com/2021/06/17/ford-acquires-electriphi-as-it-prepares-to-woo-ev-fleet-customers/',\n",
       "   'urlToImage': 'https://techcrunch.com/wp-content/uploads/2021/06/All-New_Ford-E-Transit_09.jpg?w=600',\n",
       "   'publishedAt': '2021-06-17T23:00:45Z',\n",
       "   'content': 'Ford has two electric vehicles in the pipeline \\xa0the E-Transit cargo van and F-150 Lighting Pro aimed at commercial customers. Now, the automaker is rounding out its future EV commercial business with… [+3012 chars]'},\n",
       "  {'source': {'id': 'techcrunch', 'name': 'TechCrunch'},\n",
       "   'author': 'Brian Heater',\n",
       "   'title': 'Experts from Ford, Toyota and Hyundai outline why automakers are pouring money into robotics',\n",
       "   'description': 'We spoke with Max Bajracharya of Toyota Research Institute, Mario Santillo of Ford and Ernestine Fu of Hyundai Motor Group about their companies’ unique approaches to robotics.',\n",
       "   'url': 'http://techcrunch.com/2021/06/16/experts-from-ford-toyota-and-hyundai-outline-why-automakers-are-pouring-money-into-robotics/',\n",
       "   'urlToImage': 'https://techcrunch.com/wp-content/uploads/2019/09/disrupt-mobility-roundup.png?w=753',\n",
       "   'publishedAt': '2021-06-16T21:27:43Z',\n",
       "   'content': 'Automakers interest in robotics is not a new phenomenon, of course: Robots and automation have long played a role in manufacturing and are both clearly central to their push into AVs. But recently, m… [+1255 chars]'},\n",
       "  {'source': {'id': 'engadget', 'name': 'Engadget'},\n",
       "   'author': 'https://www.engadget.com/about/editors/richard-lawler',\n",
       "   'title': 'Ford brings back the Maverick name for a new compact truck',\n",
       "   'description': \"Rumors about Ford's Maverick pickup have been floating around for a long time, and next week it will reveal the compact truck to the world..\",\n",
       "   'url': 'https://www.engadget.com/ford-maverick-140034597.html',\n",
       "   'urlToImage': 'https://s.yimg.com/os/creatr-uploaded-images/2021-06/f041ba10-c44c-11eb-b7d7-eae98b1f482c',\n",
       "   'publishedAt': '2021-06-03T14:00:34Z',\n",
       "   'content': \"After a number of leaks and spy photos (you can see more than a few over on Autoblog) Ford has confirmed it's building a new compact pickup. Dubbed Maverick, it revives a name that was originally use… [+1056 chars]\"},\n",
       "  {'source': {'id': 'engadget', 'name': 'Engadget'},\n",
       "   'author': 'https://www.engadget.com/about/editors/richard-lawler',\n",
       "   'title': 'Ford snags 100,000 F-150 Lightning pre-orders in three weeks',\n",
       "   'description': \"There are 100,000 pre-orders waiting for Ford's electric F-150, and the company's CEO says an electric Explorer is next up..\",\n",
       "   'url': 'https://www.engadget.com/f-150-lightning-sales-012134743.html',\n",
       "   'urlToImage': 'https://s.yimg.com/os/creatr-uploaded-images/2021-05/44758e90-b971-11eb-bd7f-75299609e081',\n",
       "   'publishedAt': '2021-06-10T01:21:34Z',\n",
       "   'content': \"Even though we just learned about Ford's Maverick pickup, its CEO is talking to the New York Times about the company's other new electrified pickup. Apparently the F-150 Lightning pre-order count has… [+1022 chars]\"},\n",
       "  {'source': {'id': 'techcrunch', 'name': 'TechCrunch'},\n",
       "   'author': 'Kirsten Korosec',\n",
       "   'title': 'Ford officially adds Maverick, a compact pickup truck, to its lineup',\n",
       "   'description': 'Ford is adding a new entry-level truck called Maverick to its lineup as the automaker seeks to offer pickups at every price level in this increasingly competitive market. The company said Thursday it will debut the vehicle June 8, including on its new Tiktok …',\n",
       "   'url': 'http://techcrunch.com/2021/06/03/ford-officially-adds-maverick-a-compact-pickup-truck-to-its-lineup/',\n",
       "   'urlToImage': 'https://techcrunch.com/wp-content/uploads/2021/06/Screen-Shot-2021-06-03-at-6.33.22-AM.png?w=764',\n",
       "   'publishedAt': '2021-06-03T14:03:25Z',\n",
       "   'content': 'Ford is adding a new entry-level truck called Maverick to its lineup as the automaker seeks to offer pickups at every price level in this increasingly competitive market.\\r\\nThe company said Thursday i… [+1252 chars]'},\n",
       "  {'source': {'id': 'engadget', 'name': 'Engadget'},\n",
       "   'author': 'https://www.engadget.com/about/editors/saqib-shah',\n",
       "   'title': 'Lincoln is the latest car maker to promise an all-electric lineup by 2030',\n",
       "   'description': 'Lincoln is planning to introduce an all-electric vehicle lineup by 2030, with a new fully electric car scheduled for next year..',\n",
       "   'url': 'https://www.engadget.com/lincoln-all-electric-vehicles-2030-100028732.html',\n",
       "   'urlToImage': 'https://s.yimg.com/os/creatr-uploaded-images/2021-06/66decd40-ce82-11eb-bbfe-596c81cb862f',\n",
       "   'publishedAt': '2021-06-16T10:00:28Z',\n",
       "   'content': \"Lincoln is replicating some of its parent Ford's all-electric commitments. The automaker today announced plans to electrify its entire vehicle lineup by 2030. It also pledged that half of its global … [+3182 chars]\"},\n",
       "  {'source': {'id': 'the-verge', 'name': 'The Verge'},\n",
       "   'author': \"Sean O'Kane\",\n",
       "   'title': 'Lincoln vehicles getting hands-free driving feature and native Android',\n",
       "   'description': 'Ford’s luxury brand Lincoln plans to reveal its first EV in 2022, and will have a full lineup of electric and hybrid vehicles by 2030, the company has announced. Lincoln’s new vehicles will also come with new features like hands-free driving on highways, and …',\n",
       "   'url': 'https://www.theverge.com/2021/6/16/22535666/lincoln-electric-vehicles-plan-hands-free-google-android',\n",
       "   'urlToImage': 'https://cdn.vox-cdn.com/thumbor/Y3tcqERDcKOCOJyQ6qq7tKFYF_8=/0x38:1920x1043/fit-in/1200x630/cdn.vox-cdn.com/uploads/chorus_asset/file/22661204/Future_Lincoln__Exterior_Tease_with_Embrace_Lighting.jpg',\n",
       "   'publishedAt': '2021-06-16T10:00:00Z',\n",
       "   'content': 'The luxury brand will also debut its first EV in 2022\\r\\nLincoln, Fords luxury brand, has announced plans to make its entire lineup either hybrid or all-electric by 2030 as part of its parent companys … [+2419 chars]'},\n",
       "  {'source': {'id': 'techcrunch', 'name': 'TechCrunch'},\n",
       "   'author': 'Rebecca Bellan',\n",
       "   'title': 'Ford-owned Spin shakes up scooter business with new CEO, e-bikes and city strategy',\n",
       "   'description': 'Spin, the Ford-owned micromobility operator, has added a new CEO, launched a new strategy to capture market share and announced a plan to get back into bike share, although this time with an electric twist.\\xa0 The flurry of moves suggest that Spin is still tryi…',\n",
       "   'url': 'http://techcrunch.com/2021/06/03/ford-owned-spin-shakes-up-scooter-business-with-new-ceo-e-bikes-and-city-strategy/',\n",
       "   'urlToImage': 'https://techcrunch.com/wp-content/uploads/2021/06/Launch-of-bikeshare-in-Seattle-2017.jpg?w=600',\n",
       "   'publishedAt': '2021-06-03T18:45:21Z',\n",
       "   'content': 'Spin, the Ford-owned micromobility operator, has added a new CEO, launched a new strategy to capture market share and announced a plan to get back into bike share, although this time with an electric… [+5586 chars]'},\n",
       "  {'source': {'id': 'techcrunch', 'name': 'TechCrunch'},\n",
       "   'author': 'Aria Alamalhodaei',\n",
       "   'title': 'BMW and Ford-backed Solid Power will go public via SPAC merger in $1.2B deal',\n",
       "   'description': 'Solid Power, a solid-state battery developer backed by Ford and BMW, is going public. The company said Tuesday it would head to the NASDAQ via a merger with special purpose acquisition company Decarbonization Plus Acquisition Corp III at a post-deal implied m…',\n",
       "   'url': 'http://techcrunch.com/2021/06/15/bmw-and-ford-backed-solid-power-will-go-public-via-spac-merger-in-1-2b-deal/',\n",
       "   'urlToImage': 'https://techcrunch.com/wp-content/uploads/2021/05/FinalFordBMW.jpg?w=600',\n",
       "   'publishedAt': '2021-06-15T14:52:54Z',\n",
       "   'content': 'Solid Power, a solid-state battery developer backed by Ford and BMW, is going public. The company said Tuesday it would head to the NASDAQ via a merger with special purpose acquisition company Decarb… [+1943 chars]'},\n",
       "  {'source': {'id': 'techcrunch', 'name': 'TechCrunch'},\n",
       "   'author': 'Rebecca Bellan',\n",
       "   'title': 'Ford micromobility subsidiary Spin launches first in-house built e-scooter',\n",
       "   'description': 'Spin, Ford’s micromobility subsidiary, has launched its first custom designed and built electric scooter. The company says the S-100T scooters are its safest and longest lasting, two qualities that it hopes will attract the attention of cities as it aims its …',\n",
       "   'url': 'http://techcrunch.com/2021/06/23/ford-micromobility-subsidiary-spin-launches-first-in-house-built-e-scooter/',\n",
       "   'urlToImage': 'https://techcrunch.com/wp-content/uploads/2021/06/774A9159.png?w=600',\n",
       "   'publishedAt': '2021-06-23T15:05:27Z',\n",
       "   'content': 'Spin, Ford’s micromobility subsidiary, has launched its first custom designed and built electric scooter. The company says the S-100T scooters are its safest and longest lasting, two qualities that i… [+2727 chars]'},\n",
       "  {'source': {'id': 'the-verge', 'name': 'The Verge'},\n",
       "   'author': 'Andrew J. Hawkins',\n",
       "   'title': 'Bird and Spin release new electric vehicles amid pressure to catch up to Lime',\n",
       "   'description': 'Bird and Spin are both releasing new electric micromobility vehicles. Bird is releasing its first electric bike, while the Ford-owned Spin is releasing a new, more durable scooter. Both companies are eager to improve their financial situation and catch up to …',\n",
       "   'url': 'https://www.theverge.com/2021/6/23/22545335/bird-spin-electric-scooter-bike-shared-lime',\n",
       "   'urlToImage': 'https://cdn.vox-cdn.com/thumbor/lJ3OxhoWtTqFi3aTwJFo4rLyCP0=/0x177:2468x1469/fit-in/1200x630/cdn.vox-cdn.com/uploads/chorus_asset/file/22674785/Bird_Bikeshare_3.jpg',\n",
       "   'publishedAt': '2021-06-23T12:00:00Z',\n",
       "   'content': 'Bird, the original scooter company, is finally branching out into electric bike-share\\r\\nTwo of the top shared electric scooter companies in the US, Bird and Spin, are releasing new vehicles today. Spi… [+5494 chars]'},\n",
       "  {'source': {'id': 'mashable', 'name': 'Mashable'},\n",
       "   'author': 'Sasha Lekach',\n",
       "   'title': 'Ford’s hybrid Maverick truck is a cheaper alternative to the F-150 Lightning',\n",
       "   'description': \"So it's not the all-electric Ford F-150 Lightning, but Ford's newest truck still has an electric boost.\\nThe Ford Maverick was revealed Tuesday as a compact hybrid truck. It'll get a combined 500 miles of range on a single tank of gas thanks to its hybrid engi…\",\n",
       "   'url': 'https://mashable.com/article/ford-maverick-hybrid-truck/',\n",
       "   'urlToImage': 'https://mondrian.mashable.com/2021%252F06%252F08%252Ff0%252F6edd47b55d6d4e3886c480ff2132b025.028a7.jpg%252F1200x630.jpg?signature=mr2XFFkRZbviyxhbhLiL-c_VkLY=',\n",
       "   'publishedAt': '2021-06-08T10:00:00Z',\n",
       "   'content': \"So it's not the all-electric Ford F-150 Lightning, but Ford's newest truck still has an electric boost.\\r\\nThe Ford Maverick was revealed Tuesday as a compact hybrid truck. It'll get a combined 500 mil… [+2876 chars]\"},\n",
       "  {'source': {'id': 'techcrunch', 'name': 'TechCrunch'},\n",
       "   'author': 'Rebecca Bellan',\n",
       "   'title': 'Lincoln’s first EV will arrive in 2022 with three more to follow',\n",
       "   'description': 'Lincoln Motor will launch its first all-electric vehicle in 2022 followed by three other EVs as part of the luxury brand’s goal to electrify its entire portfolio by the end of the decade. The first EV will come to market just in time for Lincoln’s 100th birth…',\n",
       "   'url': 'http://techcrunch.com/2021/06/16/lincolns-first-ev-will-arrive-in-2022-with-three-more-to-follow/',\n",
       "   'urlToImage': 'https://techcrunch.com/wp-content/uploads/2021/06/zephyr.jpeg?w=713',\n",
       "   'publishedAt': '2021-06-16T21:52:14Z',\n",
       "   'content': 'Lincoln Motor will launch its first all-electric vehicle in 2022 followed by three other EVs as part of the luxury brand’s goal to electrify its entire portfolio by the end of the decade.\\r\\nThe first … [+2710 chars]'},\n",
       "  {'source': {'id': 'reuters', 'name': 'Reuters'},\n",
       "   'author': 'Reuters',\n",
       "   'title': 'Ford says it could face $1.3 billion in new penalties after court ruling - Reuters',\n",
       "   'description': 'Ford Motor Co (F.N) said Thursday it could face up to $1.3 billion in penalties in a long running dispute over import duties paid on Ford Transit Connect vehicles.',\n",
       "   'url': 'https://www.reuters.com/business/autos-transportation/ford-says-it-could-face-13-billion-new-penalties-after-court-ruling-2021-06-03/',\n",
       "   'urlToImage': 'https://www.reuters.com/resizer/ao1j4Tb_Z7extOQKS-2BV5ElBKo=/1200x628/smart/filters:quality(80)/cloudfront-us-east-2.images.arcpublishing.com/reuters/HRS6FFXZLJL7NG2I7K3MQT6YG4.jpg',\n",
       "   'publishedAt': '2021-06-03T14:27:00Z',\n",
       "   'content': 'The Ford logo is seen at the North American International Auto Show in Detroit, Michigan, U.S., January 15, 2019. REUTERS/Brendan McDermid\\r\\nFord Motor Co (F.N) said Thursday it could face up to $1.3 … [+545 chars]'},\n",
       "  {'source': {'id': None, 'name': 'CNET'},\n",
       "   'author': 'Erin Carson',\n",
       "   'title': 'Harrison Ford injures shoulder rehearsing for Indiana Jones 5 - CNET',\n",
       "   'description': 'Disney says filming will continue around Ford.',\n",
       "   'url': 'https://www.cnet.com/news/harrison-ford-injures-shoulder-rehearsing-for-indiana-jones-5/',\n",
       "   'urlToImage': 'https://www.cnet.com/a/img/_hxqz1NGWUa1rLssg5onEMRa5yw=/1200x630/2019/06/04/25e93e3b-e167-40e9-93e5-0d373ed81e31/indybig2.jpg',\n",
       "   'publishedAt': '2021-06-23T15:25:09Z',\n",
       "   'content': \"Harrison Ford injured his shoulder.\\r\\nLucasfilm\\r\\nHarrison Ford injured his shoulder on the set of Indiana Jones' fifth installment, Deadline reported\\xa0on Wednesday.\\r\\nThe injury happened while rehearsin… [+496 chars]\"},\n",
       "  {'source': {'id': None, 'name': 'Driving'},\n",
       "   'author': None,\n",
       "   'title': 'First Look: 2022 Ford Maverick - Driving',\n",
       "   'description': '<ol><li>First Look: 2022 Ford Maverick\\xa0\\xa0Driving\\r\\n</li><li>2022 Ford Maverick First Look Review: The Small Truck With the Low Price\\xa0\\xa0Motor Trend\\r\\n</li><li>Ford Maverick (2022) - pictures, information & specs\\xa0\\xa0NetCarShow.com\\r\\n</li><li>Ford Takes Aim at Import C…',\n",
       "   'url': 'https://www.driving.ca/auto-news/news/first-look-2022-ford-maverick',\n",
       "   'urlToImage': 'https://smartcdn.prod.postmedia.digital/driving/images?url=https://smartcdn.prod.postmedia.digital/driving/wp-content/uploads/2021/06/Ford-Maverick_Hybrid_XLT_06.jpg&w=600&h=315',\n",
       "   'publishedAt': '2021-06-08T10:01:07Z',\n",
       "   'content': 'Here’s the deal with pickups: What’s most important is how well they meet their owners’ needs. This first glimpse at the all-new 2022 Ford Maverick has us thinking that while it definitely isnt a tra… [+6014 chars]'},\n",
       "  {'source': {'id': None, 'name': 'CBM (Comic Book Movie)'},\n",
       "   'author': 'RorMachine',\n",
       "   'title': 'INDIANA JONES 5 Star Harrison Ford Suffers Shoulder Injury While Rehearsing Fight Scene - CBM (Comic Book Movie)',\n",
       "   'description': '<ol><li>INDIANA JONES 5 Star Harrison Ford Suffers Shoulder Injury While Rehearsing Fight Scene\\xa0\\xa0CBM (Comic Book Movie)\\r\\n</li><li>Harrison Ford injures shoulder on Indiana Jones 5 film set\\xa0\\xa0BBC News\\r\\n</li><li>Harrison Ford Suffers Shoulder Injury During India…',\n",
       "   'url': 'https://www.comicbookmovie.com/amp/action/indiana_jones/indiana-jones-5-star-harrison-ford-suffers-shoulder-injury-while-rehearsing-fight-scene-a185890',\n",
       "   'urlToImage': 'https://www.comicbookmovie.com/images/articles/banners/185890.jpg',\n",
       "   'publishedAt': '2021-06-23T14:50:06Z',\n",
       "   'content': 'The fifth Indiana Jones movie has been filming for the past couple of weeks in the U.K., but production may have now hit a setback, as Deadline reports that star Harrison Ford has been\\xa0injured while … [+1508 chars]'},\n",
       "  {'source': {'id': 'engadget', 'name': 'Engadget'},\n",
       "   'author': 'https://www.engadget.com/about/editors/jon-fingas',\n",
       "   'title': 'Senate committee moves to raise EV tax credit to as much as $12,500',\n",
       "   'description': 'The Senate has advanced a bill that would offer EV tax credits as large as $12,500, but only for cars made in the US through unions..',\n",
       "   'url': 'https://www.engadget.com/senate-clean-energy-for-america-bill-ev-tax-credit-144851759.html',\n",
       "   'urlToImage': 'https://s.yimg.com/os/creatr-uploaded-images/2021-04/67436680-a3c4-11eb-bff4-923a6b72f859',\n",
       "   'publishedAt': '2021-05-27T14:48:51Z',\n",
       "   'content': \"New legislation could raise the US government's electric car tax credit beyond its current $7,500 cap but only in certain circumstances. Reutersreports that the Senate's Finance Committee has advance… [+1803 chars]\"}]}"
      ]
     },
     "execution_count": 5,
     "metadata": {},
     "output_type": "execute_result"
    }
   ],
   "source": [
    "# Fetch top news articles about GM   \n",
    "ford_top = newsapi_client.get_everything(q=\"Ford\", language=\"en\")\n",
    "ford_top\n"
   ]
  },
  {
   "cell_type": "code",
   "execution_count": null,
   "metadata": {},
   "outputs": [],
   "source": [
    "# Print total articles\n",
    "\n",
    "# Show sample article\n",
    "\n"
   ]
  },
  {
   "cell_type": "code",
   "execution_count": null,
   "metadata": {},
   "outputs": [],
   "source": [
    "# Transform the response dictionary to a DataFrame\n",
    "\n"
   ]
  },
  {
   "cell_type": "code",
   "execution_count": null,
   "metadata": {},
   "outputs": [],
   "source": [
    "# Fetch all the news about Facebook Libra\n",
    "\n",
    "# Print total articles\n",
    "\n",
    "# Show sample article\n",
    "\n"
   ]
  },
  {
   "cell_type": "code",
   "execution_count": null,
   "metadata": {},
   "outputs": [],
   "source": [
    "# Transform the response dictionary to a DataFrame\n",
    "\n"
   ]
  }
 ],
 "metadata": {
  "file_extension": ".py",
  "interpreter": {
   "hash": "183bbf6827d058c2a2fb0f4acdc0420849dda2b4380af0e437e38c64d798d8b7"
  },
  "kernelspec": {
   "display_name": "Python 3",
   "language": "python",
   "name": "python3"
  },
  "language_info": {
   "codemirror_mode": {
    "name": "ipython",
    "version": 3
   },
   "file_extension": ".py",
   "mimetype": "text/x-python",
   "name": "python",
   "nbconvert_exporter": "python",
   "pygments_lexer": "ipython3",
   "version": "3.8.5"
  },
  "mimetype": "text/x-python",
  "name": "python",
  "npconvert_exporter": "python",
  "pygments_lexer": "ipython3",
  "version": 3
 },
 "nbformat": 4,
 "nbformat_minor": 4
}
