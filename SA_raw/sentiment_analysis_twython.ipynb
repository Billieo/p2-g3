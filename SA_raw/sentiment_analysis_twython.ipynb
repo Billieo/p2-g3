{
 "cells": [
  {
   "cell_type": "markdown",
   "metadata": {},
   "source": [
    "# Instructor Do: Getting Data for Sentiment Analysis"
   ]
  },
  {
   "cell_type": "code",
   "execution_count": 3,
   "metadata": {},
   "outputs": [
    {
     "output_type": "execute_result",
     "data": {
      "text/plain": [
       "True"
      ]
     },
     "metadata": {},
     "execution_count": 3
    }
   ],
   "source": [
    "# Initial imports\n",
    "import os\n",
    "import pandas as pd\n",
    "from newsapi.newsapi_client import NewsApiClient\n",
    "from dotenv import load_dotenv\n",
    "load_dotenv()\n"
   ]
  },
  {
   "cell_type": "code",
   "execution_count": 6,
   "metadata": {},
   "outputs": [],
   "source": [
    "# Reading the News API key enviroment variable\n",
    "api_key = os.getenv(\"news_api\")\n",
    "\n"
   ]
  },
  {
   "cell_type": "code",
   "execution_count": 7,
   "metadata": {},
   "outputs": [],
   "source": [
    "# Create a newsapi client\n",
    "newsapi_client = NewsApiClient(api_key=api_key)\n"
   ]
  },
  {
   "cell_type": "code",
   "execution_count": 21,
   "metadata": {},
   "outputs": [
    {
     "output_type": "execute_result",
     "data": {
      "text/plain": [
       "{'status': 'ok',\n",
       " 'totalResults': 18157,\n",
       " 'articles': [{'source': {'id': None, 'name': 'New York Times'},\n",
       "   'author': 'David Leonhardt',\n",
       "   'title': 'The Specter of Inflation',\n",
       "   'description': 'Is it haunting the U.S. economy?',\n",
       "   'url': 'https://www.nytimes.com/2021/06/17/briefing/inflation-us-economy-covid-pandemic.html',\n",
       "   'urlToImage': 'https://static01.nyt.com/images/2021/06/17/lens/17ambriefing-promo/17ambriefing-inflation-facebookJumbo-v2.jpg',\n",
       "   'publishedAt': '2021-06-17T10:30:22Z',\n",
       "   'content': 'With excess saving they can afford more of everything, Jason Furman, a Harvard economist and former Obama administration official, wrote this week.\\r\\nAlthough companies are increasing the supply of ma… [+2099 chars]'},\n",
       "  {'source': {'id': None, 'name': 'New York Times'},\n",
       "   'author': 'Victoria Shannon and Lance Booth',\n",
       "   'title': 'California, N.C.A.A., Inflation: Your Monday Evening Briefing',\n",
       "   'description': 'Here’s what you need to know at the end of the day.',\n",
       "   'url': 'https://www.nytimes.com/2021/06/21/briefing/california-ncaa-inflation.html',\n",
       "   'urlToImage': 'https://static01.nyt.com/images/2021/06/21/us/politics/21evening-briefing-web-promo-new/21dc-scotus-ncaa-facebookJumbo.jpg',\n",
       "   'publishedAt': '2021-06-21T22:30:03Z',\n",
       "   'content': '10. And finally, figuring out how to be a super-ager.\\r\\nMaybe you know some people in their 80s or 90s who are still sharp as a tack, with brains that function as if they were 30 years younger.\\r\\nScien… [+844 chars]'},\n",
       "  {'source': {'id': None, 'name': 'New York Times'},\n",
       "   'author': 'Whet Moser and David Poller',\n",
       "   'title': 'Inflation, Biden in Europe, Yugos: Your Thursday Evening Briefing',\n",
       "   'description': 'Here’s what you need to know at the end of the day.',\n",
       "   'url': 'https://www.nytimes.com/2021/06/10/briefing/inflation-biden-in-europe-yugos.html',\n",
       "   'urlToImage': 'https://static01.nyt.com/images/2021/06/10/multimedia/10PMbriefing-prices-promo/10PMbriefing-prices-facebookJumbo.jpg',\n",
       "   'publishedAt': '2021-06-10T22:05:51Z',\n",
       "   'content': '4. As the U.S. withdraws from Afghanistan, interpreters fear being left behind.\\r\\nA program to bring people employed by the American military to the U.S. is backlogged, with thousands of visa applican… [+481 chars]'},\n",
       "  {'source': {'id': None, 'name': 'New York Times'},\n",
       "   'author': 'The New York Times',\n",
       "   'title': 'Here is where inflation stands as the Fed meets.',\n",
       "   'description': 'A jump in consumer prices is sure to come up at a news conference on Wednesday after the Federal Reserve’s meeting.',\n",
       "   'url': 'https://www.nytimes.com/live/2021/06/16/business/economy-stock-market-news',\n",
       "   'urlToImage': 'https://static01.nyt.com/images/2021/06/16/business/16economy-briefing-FedInflation/merlin_188586378_b7a0c048-2add-4403-b30c-357399ab4cea-facebookJumbo.jpg',\n",
       "   'publishedAt': '2021-06-16T10:21:32Z',\n",
       "   'content': 'A day after ousting two top executives, the electric truck start-up Lordstown Motors said on Tuesday that it was on track to start production in September even if it does not raise additional funding… [+3149 chars]'},\n",
       "  {'source': {'id': 'cnn', 'name': 'CNN'},\n",
       "   'author': None,\n",
       "   'title': 'US consumer prices keep going up',\n",
       "   'description': \"Core inflation, excluding food and energy costs, rose at the fastest rate since 1992. CNN's Christine Romans breaks down the numbers.\",\n",
       "   'url': 'https://www.cnn.com/videos/business/2021/06/10/may-consumer-price-inflation.cnnbusiness',\n",
       "   'urlToImage': 'https://cdn.cnn.com/cnnnext/dam/assets/210609161928-us-consumers-0607-super-tease.jpg',\n",
       "   'publishedAt': '2021-06-10T17:38:51Z',\n",
       "   'content': ''},\n",
       "  {'source': {'id': None, 'name': 'Stockmarket.com'},\n",
       "   'author': 'Jonathan Phillip',\n",
       "   'title': 'Best Inflation Stocks To Buy This Week? 4 To Watch',\n",
       "   'description': 'As inflation measures skyrocket, these inflation stocks could continue to grow.',\n",
       "   'url': 'https://stockmarket.com/featured/inflation-stocks-to-buy-this-week-4-to-watch-2021-06-14',\n",
       "   'urlToImage': 'https://assets.entrepreneur.com/providers/stockmarket/hero-image-stockmarket-374518.jpeg',\n",
       "   'publishedAt': '2021-06-14T16:25:48Z',\n",
       "   'content': 'This story originally appeared on StockMarketAre These Good Inflation Stocks To Invest In Now?\\r\\nAs we start the current week of trading, inflation stocks appear to be on investors minds. For the unin… [+6832 chars]'},\n",
       "  {'source': {'id': 'reuters', 'name': 'Reuters'},\n",
       "   'author': 'Reuters Staff',\n",
       "   'title': \"Brazil 2021 inflation forecasts rise further above cenbank's upper limit -survey - Reuters\",\n",
       "   'description': \"Forecasts for Brazil's growth and inflation in 2021 rose to new highs, a survey of economists showed on Monday, with inflation moving further above the upper limit of the central bank's target range for the year.\",\n",
       "   'url': 'https://www.reuters.com/article/brazil-economy-survey-idUSL5N2NP35X',\n",
       "   'urlToImage': 'https://s1.reutersmedia.net/resources_v2/images/rcom-default.png?w=800',\n",
       "   'publishedAt': '2021-06-07T12:08:00Z',\n",
       "   'content': 'By Reuters Staff\\r\\nBRASILIA, June 7 (Reuters) - Forecasts for Brazils growth and inflation in 2021 rose to new highs, a survey of economists showed on Monday, with inflation moving further above the u… [+1066 chars]'},\n",
       "  {'source': {'id': 'reuters', 'name': 'Reuters'},\n",
       "   'author': 'Reuters',\n",
       "   'title': 'Yellen says inflation should be lower than current levels by year end - Reuters',\n",
       "   'description': 'U.S. Treasury Secretary Janet Yellen said on Wednesday that inflation should retreat by year end from its current elevated level as supply bottlenecks get worked out, adding she sees little evidence inflation expectations are becoming unanchored.',\n",
       "   'url': 'https://www.reuters.com/business/yellen-says-inflation-should-be-lower-than-current-levels-by-year-end-2021-06-23/',\n",
       "   'urlToImage': 'https://www.reuters.com/resizer/3k5sTZpyD6ij6jKWB66EX2sm99M=/1200x628/smart/filters:quality(80)/cloudfront-us-east-2.images.arcpublishing.com/reuters/OQUZ75RP5JIDZDRYSEHWDXUF7I.jpg',\n",
       "   'publishedAt': '2021-06-23T21:27:00Z',\n",
       "   'content': 'U.S. Treasury Secretary Janet Yellen testifies before the Senate Appropriations Subcommittee on Financial Services about the FY22 Treasury budget request on Capitol Hill, in Washington, DC, U.S., Jun… [+2630 chars]'},\n",
       "  {'source': {'id': 'reuters', 'name': 'Reuters'},\n",
       "   'author': 'Anthony Esposito',\n",
       "   'title': \"Banxico says rate moves depend on how 'unprecedented' inflation shocks play out - Reuters\",\n",
       "   'description': 'Mexico is facing an \"unprecedented situation\" in terms of the shocks affecting inflation due to the COVID-19 pandemic and future interest rate moves will depend on the evolution of inflation, said Bank of Mexico Governor Alejandro Diaz de Leon.',\n",
       "   'url': 'https://www.reuters.com/article/mexico-economy-cenbank-idUSL2N2O70A1',\n",
       "   'urlToImage': 'https://s1.reutersmedia.net/resources_v2/images/rcom-default.png?w=800',\n",
       "   'publishedAt': '2021-06-25T11:02:00Z',\n",
       "   'content': 'MEXICO CITY, June 25 (Reuters) - Mexico is facing an unprecedented situation in terms of the shocks affecting inflation due to the COVID-19 pandemic and future interest rate moves will depend on the … [+1677 chars]'},\n",
       "  {'source': {'id': 'reuters', 'name': 'Reuters'},\n",
       "   'author': 'Reuters Staff',\n",
       "   'title': \"Brazil's Campos Neto says policy credibility, anchoring inflation expectations is crucial - Reuters.com\",\n",
       "   'description': \"Brazil's central bank will do whatever it takes to meet its 2024 inflation goal of 3%, bank chief Roberto Campos Neto said on Friday, adding that anchoring inflation expectations and ensuring policy credibility is fundamental to the economy.\",\n",
       "   'url': 'https://www.reuters.com/article/brazil-economy-cenbank-idUSS0N2NM00H',\n",
       "   'urlToImage': 'https://s1.reutersmedia.net/resources_v2/images/rcom-default.png?w=800',\n",
       "   'publishedAt': '2021-06-25T21:17:00Z',\n",
       "   'content': 'By Reuters Staff\\r\\nBRASILIA, June 25 (Reuters) - Brazils central bank will do whatever it takes to meet its 2024 inflation goal of 3%, bank chief Roberto Campos Neto said on Friday, adding that anchor… [+461 chars]'},\n",
       "  {'source': {'id': 'reuters', 'name': 'Reuters'},\n",
       "   'author': 'Karen Brettell',\n",
       "   'title': 'Dollar steady after U.S. inflation data misses estimates - Reuters',\n",
       "   'description': 'The U.S. dollar ended unchanged on Friday, erasing an early drop after tamer-than-expected producer price inflation, with investors continuing to evaluate whether that the Federal Reserve will act sooner to snuff out inflation if it persists.',\n",
       "   'url': 'https://www.reuters.com/business/dollar-steady-after-us-inflation-data-misses-estimates-2021-06-25/',\n",
       "   'urlToImage': None,\n",
       "   'publishedAt': '2021-06-25T19:47:00Z',\n",
       "   'content': 'NEW YORK, June 25 (Reuters) - The U.S. dollar ended unchanged on Friday, erasing an early drop after tamer-than-expected producer price inflation, with investors continuing to evaluate whether that t… [+2874 chars]'},\n",
       "  {'source': {'id': 'reuters', 'name': 'Reuters'},\n",
       "   'author': 'Reuters Staff',\n",
       "   'title': 'UPDATE 1-Ghana May consumer price inflation slows to 7.5% year-on-year - Reuters',\n",
       "   'description': \"Ghana's consumer price inflation was at 7.5% year-on-year in May, down from 8.5% in the previous month, due to an ongoing decline in food inflation, the West African nation's statistics service said on Wednesday.\",\n",
       "   'url': 'https://www.reuters.com/article/ghana-economy-inflation-idUSL5N2NR2NU',\n",
       "   'urlToImage': 'https://s1.reutersmedia.net/resources_v2/images/rcom-default.png?w=800',\n",
       "   'publishedAt': '2021-06-09T10:49:00Z',\n",
       "   'content': 'By Reuters Staff\\r\\n(Adds details)\\r\\nACCRA, June 9 (Reuters) - Ghanas consumer price inflation was at 7.5% year-on-year in May, down from 8.5% in the previous month, due to an ongoing decline in food in… [+900 chars]'},\n",
       "  {'source': {'id': 'reuters', 'name': 'Reuters'},\n",
       "   'author': 'Reuters',\n",
       "   'title': 'Chinese producer price pop pains policymakers - Reuters',\n",
       "   'description': 'The People’s Republic has an unusual inflation problem. A commodities rally , the fastest gain since 2008. Consumer inflation, on the other hand, rose a tepid 1.3%. Companies appear unable to pass higher costs onto their customers.',\n",
       "   'url': 'https://www.reuters.com/breakingviews/chinese-producer-price-pop-pains-policymakers-2021-06-09/',\n",
       "   'urlToImage': 'https://www.reuters.com/resizer/aWkXQgk-7qmQi7k1Sf0ANoq6orA=/1200x628/smart/filters:quality(80)/cloudfront-us-east-2.images.arcpublishing.com/reuters/HCCKL7RNOVI2FJ6DB72WWCJZBI.jpg',\n",
       "   'publishedAt': '2021-06-09T08:55:00Z',\n",
       "   'content': 'Employees work on a production line manufacturing metal parts for furniture at a factory in Hangzhou, Zhejiang province, China April 30, 2020. China Daily via REUTERS The Peoples Republic has an unus… [+1901 chars]'},\n",
       "  {'source': {'id': 'reuters', 'name': 'Reuters'},\n",
       "   'author': 'Reuters',\n",
       "   'title': \"Fed's Kaplan sees 'upside risk' to inflation forecast - Reuters\",\n",
       "   'description': 'Federal Reserve Bank of Dallas President Robert Kaplan said on Thursday he sees \"upside risk\" to his forecast for 3.4% inflation this year and 2.4% inflation next year, as supply-demand imbalances may persist longer than anticipated.',\n",
       "   'url': 'https://www.reuters.com/business/feds-kaplan-sees-upside-risk-inflation-forecast-2021-06-24/',\n",
       "   'urlToImage': 'https://www.reuters.com/resizer/JjDB7JAFV8tNB4kc63tMyVGgWRk=/1200x628/smart/filters:quality(80)/cloudfront-us-east-2.images.arcpublishing.com/reuters/4P5PPHJZSZMMPJCRNKJAJXUDFI.jpg',\n",
       "   'publishedAt': '2021-06-24T17:27:00Z',\n",
       "   'content': \"Dallas Federal Reserve Bank President Robert Kaplan speaks during an interview in his office at the bank's headquarters in Dallas, Texas, U.S. January 9, 2020. REUTERS/ Ann Saphir/File PhotoJune 24 (… [+708 chars]\"},\n",
       "  {'source': {'id': 'reuters', 'name': 'Reuters'},\n",
       "   'author': 'Lucia Mutikani',\n",
       "   'title': 'U.S. consumer spending takes a breather in May - Reuters',\n",
       "   'description': \"U.S. consumer spending paused in May as shortages weighed on motor vehicle purchases, but the supply constraints and increased demand for services helped to boost inflation, with the Federal Reserve's main inflation measure posting its biggest annual increase…\",\n",
       "   'url': 'https://www.reuters.com/article/usa-economy-idUSL2N2O70ZE',\n",
       "   'urlToImage': 'https://s1.reutersmedia.net/resources_v2/images/rcom-default.png?w=800',\n",
       "   'publishedAt': '2021-06-25T14:02:00Z',\n",
       "   'content': '* Consumer spending unchanged in May; April revised up\\r\\n* Core PCE price index rises 0.5%; gains 3.4% year-on-year\\r\\n* Personal income decreases 2.0%: wages increase 0.8%\\r\\nWASHINGTON, June 25 (Reuters… [+4252 chars]'},\n",
       "  {'source': {'id': 'reuters', 'name': 'Reuters'},\n",
       "   'author': 'Reuters',\n",
       "   'title': 'Take Five: U.S. inflation, China trade and the ECB - Reuters',\n",
       "   'description': 'Take Five: U.S. inflation, China trade and the ECB\\xa0\\xa0Reuters',\n",
       "   'url': 'https://www.reuters.com/business/take-five/global-markets-themes-takealook-2021-06-04/',\n",
       "   'urlToImage': 'https://www.reuters.com/resizer/p5T324QZqhmbo2JaZtrcRRlg8Lk=/1200x628/smart/filters:quality(80)/cloudfront-us-east-2.images.arcpublishing.com/reuters/FHCHLHG5UBLL5HSE4TZBNKPOYE.jpg',\n",
       "   'publishedAt': '2021-06-04T08:17:00Z',\n",
       "   'content': \"Customers visit Macy's flagship store in New York City, New York, U.S., May 20, 2021. REUTERS/Eduardo Munoz/File photo1/ HIGH ALERT\\r\\nA critical view into inflation comes with Thursday's May U.S. cons… [+4124 chars]\"},\n",
       "  {'source': {'id': 'reuters', 'name': 'Reuters'},\n",
       "   'author': 'Reuters Editorial',\n",
       "   'title': 'inflation surges in April | Reuters Video - Reuters.com',\n",
       "   'description': 'U.S. consumer prices surged in April, with a measure of underlying inflation posting its largest annual gain in nearly three decades, reflecting pent-up demand as the economy reopens. Fred Katayama reports.',\n",
       "   'url': 'https://www.reuters.com/video/watch/idOVEEVSNEZ',\n",
       "   'urlToImage': 'https://static.reuters.com/resources/r/?d=20210528&i=OVEEVSNEZ&r=OVEEVSNEZ&t=2',\n",
       "   'publishedAt': '2021-05-28T16:48:46Z',\n",
       "   'content': 'Posted \\r\\nU.S. consumer prices surged in April, with a measure of underlying inflation posting its largest annual gain in nearly three decades, reflecting pent-up demand as the economy reopens. Fred K… [+15 chars]'},\n",
       "  {'source': {'id': 'reuters', 'name': 'Reuters'},\n",
       "   'author': 'Reuters Editorial',\n",
       "   'title': 'Wall Street shakes off inflation jump - Reuters.com',\n",
       "   'description': 'U.S. stocks climbed on Friday as investors brushed off a stronger-than-expected inflation reading, as both the Dow and S&P 500 clinched their first weekly gain in the past three weeks.',\n",
       "   'url': 'https://www.reuters.com/video/watch/idOVEEVSOZV',\n",
       "   'urlToImage': 'https://static.reuters.com/resources/r/?d=20210528&i=OVEEVSOZV&r=OVEEVSOZV&t=2',\n",
       "   'publishedAt': '2021-05-28T22:06:21Z',\n",
       "   'content': 'Posted \\r\\nU.S. stocks climbed on Friday as investors brushed off a stronger-than-expected inflation reading, as both the Dow and S&amp;P 500 clinched their first weekly gain in the past three weeks.'},\n",
       "  {'source': {'id': 'reuters', 'name': 'Reuters'},\n",
       "   'author': 'Reuters Editorial',\n",
       "   'title': 'inflation surges in April | Reuters Video - Reuters',\n",
       "   'description': \"U.S. consumer prices surged in April, with a measure of underlying inflation blowing past the Federal Reserve's 2% target and posting its largest annual gain since 1992, reflecting pent-up demand as the economy reopens.\",\n",
       "   'url': 'https://www.reuters.com/video/watch/idPtg1?now=true',\n",
       "   'urlToImage': 'https://ajo.prod.reuters.tv/api/v2/img/60b11925e4b085d3b6c337d5-1622219045687?location=LANDSCAPE',\n",
       "   'publishedAt': '2021-05-28T16:51:29Z',\n",
       "   'content': \"Posted \\r\\nU.S. consumer prices surged in April, with a measure of underlying inflation blowing past the Federal Reserve's 2% target and posting its largest annual gain since 1992, reflecting pent-up d… [+28 chars]\"},\n",
       "  {'source': {'id': 'reuters', 'name': 'Reuters'},\n",
       "   'author': 'Tom Westbrook',\n",
       "   'title': 'Dollar teeters as inflation test looms - Reuters',\n",
       "   'description': \"The dollar clung to a small bounce on Wednesday as traders looked to upcoming U.S. inflation data and a European Central Bank (ECB) meeting to gauge the global recovery and policymakers' thinking.\",\n",
       "   'url': 'https://www.reuters.com/world/china/dollar-teeters-inflation-test-looms-2021-06-09/',\n",
       "   'urlToImage': 'https://www.reuters.com/resizer/cQQaJ8Lg5pORIr9y5fwCFrXcZrY=/1200x628/smart/filters:quality(80)/cloudfront-us-east-2.images.arcpublishing.com/reuters/R34KRMZ2MZMFRDPSDP74AD65O4.jpg',\n",
       "   'publishedAt': '2021-06-09T01:44:00Z',\n",
       "   'content': \"The dollar clung to a small bounce on Wednesday as traders looked to upcoming U.S. inflation data and a European Central Bank (ECB) meeting to gauge the global recovery and policymakers' thinking.\\r\\nI… [+3761 chars]\"}]}"
      ]
     },
     "metadata": {},
     "execution_count": 21
    }
   ],
   "source": [
    "# Fetch top news articles about inflation\n",
    "inflation_headlines = newsapi_client.get_everything(q='inflation')\n",
    "inflation_headlines\n",
    "\n"
   ]
  },
  {
   "cell_type": "code",
   "execution_count": 29,
   "metadata": {},
   "outputs": [
    {
     "output_type": "stream",
     "name": "stdout",
     "text": [
      "Total Articles: 18157\n"
     ]
    },
    {
     "output_type": "execute_result",
     "data": {
      "text/plain": [
       "{'source': {'id': 'reuters', 'name': 'Reuters'},\n",
       " 'author': 'Reuters Staff',\n",
       " 'title': 'UPDATE 1-Ghana May consumer price inflation slows to 7.5% year-on-year - Reuters',\n",
       " 'description': \"Ghana's consumer price inflation was at 7.5% year-on-year in May, down from 8.5% in the previous month, due to an ongoing decline in food inflation, the West African nation's statistics service said on Wednesday.\",\n",
       " 'url': 'https://www.reuters.com/article/ghana-economy-inflation-idUSL5N2NR2NU',\n",
       " 'urlToImage': 'https://s1.reutersmedia.net/resources_v2/images/rcom-default.png?w=800',\n",
       " 'publishedAt': '2021-06-09T10:49:00Z',\n",
       " 'content': 'By Reuters Staff\\r\\n(Adds details)\\r\\nACCRA, June 9 (Reuters) - Ghanas consumer price inflation was at 7.5% year-on-year in May, down from 8.5% in the previous month, due to an ongoing decline in food in… [+900 chars]'}"
      ]
     },
     "metadata": {},
     "execution_count": 29
    }
   ],
   "source": [
    "# Print total articles\n",
    "print(f\"Total Articles: {inflation_headlines['totalResults']}\" )\n",
    "\n",
    "# Show sample article\n",
    "inflation_headlines[\"articles\"][11]\n"
   ]
  },
  {
   "cell_type": "code",
   "execution_count": 35,
   "metadata": {},
   "outputs": [
    {
     "output_type": "execute_result",
     "data": {
      "text/plain": [
       "                                   source                            author  \\\n",
       "0  {'id': None, 'name': 'New York Times'}                   David Leonhardt   \n",
       "1  {'id': None, 'name': 'New York Times'}  Victoria Shannon and Lance Booth   \n",
       "2  {'id': None, 'name': 'New York Times'}       Whet Moser and David Poller   \n",
       "3  {'id': None, 'name': 'New York Times'}                The New York Times   \n",
       "4            {'id': 'cnn', 'name': 'CNN'}                              None   \n",
       "\n",
       "                                               title  \\\n",
       "0                           The Specter of Inflation   \n",
       "1  California, N.C.A.A., Inflation: Your Monday E...   \n",
       "2  Inflation, Biden in Europe, Yugos: Your Thursd...   \n",
       "3   Here is where inflation stands as the Fed meets.   \n",
       "4                   US consumer prices keep going up   \n",
       "\n",
       "                                         description  \\\n",
       "0                   Is it haunting the U.S. economy?   \n",
       "1  Here’s what you need to know at the end of the...   \n",
       "2  Here’s what you need to know at the end of the...   \n",
       "3  A jump in consumer prices is sure to come up a...   \n",
       "4  Core inflation, excluding food and energy cost...   \n",
       "\n",
       "                                                 url  \\\n",
       "0  https://www.nytimes.com/2021/06/17/briefing/in...   \n",
       "1  https://www.nytimes.com/2021/06/21/briefing/ca...   \n",
       "2  https://www.nytimes.com/2021/06/10/briefing/in...   \n",
       "3  https://www.nytimes.com/live/2021/06/16/busine...   \n",
       "4  https://www.cnn.com/videos/business/2021/06/10...   \n",
       "\n",
       "                                          urlToImage           publishedAt  \\\n",
       "0  https://static01.nyt.com/images/2021/06/17/len...  2021-06-17T10:30:22Z   \n",
       "1  https://static01.nyt.com/images/2021/06/21/us/...  2021-06-21T22:30:03Z   \n",
       "2  https://static01.nyt.com/images/2021/06/10/mul...  2021-06-10T22:05:51Z   \n",
       "3  https://static01.nyt.com/images/2021/06/16/bus...  2021-06-16T10:21:32Z   \n",
       "4  https://cdn.cnn.com/cnnnext/dam/assets/2106091...  2021-06-10T17:38:51Z   \n",
       "\n",
       "                                             content  \n",
       "0  With excess saving they can afford more of eve...  \n",
       "1  10. And finally, figuring out how to be a supe...  \n",
       "2  4. As the U.S. withdraws from Afghanistan, int...  \n",
       "3  A day after ousting two top executives, the el...  \n",
       "4                                                     "
      ],
      "text/html": "<div>\n<style scoped>\n    .dataframe tbody tr th:only-of-type {\n        vertical-align: middle;\n    }\n\n    .dataframe tbody tr th {\n        vertical-align: top;\n    }\n\n    .dataframe thead th {\n        text-align: right;\n    }\n</style>\n<table border=\"1\" class=\"dataframe\">\n  <thead>\n    <tr style=\"text-align: right;\">\n      <th></th>\n      <th>source</th>\n      <th>author</th>\n      <th>title</th>\n      <th>description</th>\n      <th>url</th>\n      <th>urlToImage</th>\n      <th>publishedAt</th>\n      <th>content</th>\n    </tr>\n  </thead>\n  <tbody>\n    <tr>\n      <th>0</th>\n      <td>{'id': None, 'name': 'New York Times'}</td>\n      <td>David Leonhardt</td>\n      <td>The Specter of Inflation</td>\n      <td>Is it haunting the U.S. economy?</td>\n      <td>https://www.nytimes.com/2021/06/17/briefing/in...</td>\n      <td>https://static01.nyt.com/images/2021/06/17/len...</td>\n      <td>2021-06-17T10:30:22Z</td>\n      <td>With excess saving they can afford more of eve...</td>\n    </tr>\n    <tr>\n      <th>1</th>\n      <td>{'id': None, 'name': 'New York Times'}</td>\n      <td>Victoria Shannon and Lance Booth</td>\n      <td>California, N.C.A.A., Inflation: Your Monday E...</td>\n      <td>Here’s what you need to know at the end of the...</td>\n      <td>https://www.nytimes.com/2021/06/21/briefing/ca...</td>\n      <td>https://static01.nyt.com/images/2021/06/21/us/...</td>\n      <td>2021-06-21T22:30:03Z</td>\n      <td>10. And finally, figuring out how to be a supe...</td>\n    </tr>\n    <tr>\n      <th>2</th>\n      <td>{'id': None, 'name': 'New York Times'}</td>\n      <td>Whet Moser and David Poller</td>\n      <td>Inflation, Biden in Europe, Yugos: Your Thursd...</td>\n      <td>Here’s what you need to know at the end of the...</td>\n      <td>https://www.nytimes.com/2021/06/10/briefing/in...</td>\n      <td>https://static01.nyt.com/images/2021/06/10/mul...</td>\n      <td>2021-06-10T22:05:51Z</td>\n      <td>4. As the U.S. withdraws from Afghanistan, int...</td>\n    </tr>\n    <tr>\n      <th>3</th>\n      <td>{'id': None, 'name': 'New York Times'}</td>\n      <td>The New York Times</td>\n      <td>Here is where inflation stands as the Fed meets.</td>\n      <td>A jump in consumer prices is sure to come up a...</td>\n      <td>https://www.nytimes.com/live/2021/06/16/busine...</td>\n      <td>https://static01.nyt.com/images/2021/06/16/bus...</td>\n      <td>2021-06-16T10:21:32Z</td>\n      <td>A day after ousting two top executives, the el...</td>\n    </tr>\n    <tr>\n      <th>4</th>\n      <td>{'id': 'cnn', 'name': 'CNN'}</td>\n      <td>None</td>\n      <td>US consumer prices keep going up</td>\n      <td>Core inflation, excluding food and energy cost...</td>\n      <td>https://www.cnn.com/videos/business/2021/06/10...</td>\n      <td>https://cdn.cnn.com/cnnnext/dam/assets/2106091...</td>\n      <td>2021-06-10T17:38:51Z</td>\n      <td></td>\n    </tr>\n  </tbody>\n</table>\n</div>"
     },
     "metadata": {},
     "execution_count": 35
    }
   ],
   "source": [
    "# Transform the response dictionary to a DataFrame\n",
    "inflation_df = pd.DataFrame.from_dict(inflation_headlines[\"articles\"])\n",
    "inflation_df.head()\n"
   ]
  },
  {
   "cell_type": "code",
   "execution_count": null,
   "metadata": {},
   "outputs": [],
   "source": [
    "# Fetch all the news about Facebook Libra\n",
    "\n",
    "# Print total articles\n",
    "\n",
    "# Show sample article\n",
    "\n"
   ]
  },
  {
   "cell_type": "code",
   "execution_count": null,
   "metadata": {},
   "outputs": [],
   "source": [
    "# Transform the response dictionary to a DataFrame\n",
    "\n"
   ]
  }
 ],
 "metadata": {
  "file_extension": ".py",
  "kernelspec": {
   "name": "python3",
   "display_name": "Python 3.8.5 64-bit ('base': conda)"
  },
  "language_info": {
   "codemirror_mode": {
    "name": "ipython",
    "version": 3
   },
   "file_extension": ".py",
   "mimetype": "text/x-python",
   "name": "python",
   "nbconvert_exporter": "python",
   "pygments_lexer": "ipython3",
   "version": "3.8.5"
  },
  "mimetype": "text/x-python",
  "name": "python",
  "npconvert_exporter": "python",
  "pygments_lexer": "ipython3",
  "version": 3,
  "interpreter": {
   "hash": "183bbf6827d058c2a2fb0f4acdc0420849dda2b4380af0e437e38c64d798d8b7"
  }
 },
 "nbformat": 4,
 "nbformat_minor": 4
}