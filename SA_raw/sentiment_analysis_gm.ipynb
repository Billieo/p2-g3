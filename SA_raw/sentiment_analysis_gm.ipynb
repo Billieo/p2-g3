{
 "cells": [
  {
   "cell_type": "markdown",
   "metadata": {},
   "source": [
    "## GM Api Analysis: Grabbing Data for Sentiment Analysis"
   ]
  },
  {
   "cell_type": "code",
   "execution_count": 1,
   "metadata": {},
   "outputs": [
    {
     "data": {
      "text/plain": [
       "True"
      ]
     },
     "execution_count": 1,
     "metadata": {},
     "output_type": "execute_result"
    }
   ],
   "source": [
    "# Initial imports\n",
    "import os\n",
    "import pandas as pd\n",
    "from newsapi.newsapi_client import NewsApiClient\n",
    "from dotenv import load_dotenv\n",
    "load_dotenv()\n"
   ]
  },
  {
   "cell_type": "code",
   "execution_count": 2,
   "metadata": {},
   "outputs": [],
   "source": [
    "# Reading the News API key enviroment variable\n",
    "api_key = os.getenv(\"news_api\")\n",
    "\n"
   ]
  },
  {
   "cell_type": "code",
   "execution_count": 3,
   "metadata": {},
   "outputs": [],
   "source": [
    "# Create a newsapi client\n",
    "newsapi_client = NewsApiClient(api_key=api_key)\n"
   ]
  },
  {
   "cell_type": "code",
   "execution_count": 6,
   "metadata": {},
   "outputs": [
    {
     "data": {
      "text/plain": [
       "{'status': 'ok',\n",
       " 'totalResults': 4206,\n",
       " 'articles': [{'source': {'id': 'engadget', 'name': 'Engadget'},\n",
       "   'author': 'https://www.engadget.com/about/editors/daniel-cooper',\n",
       "   'title': 'General Motors offers OnStar Guardian to non-GM drivers',\n",
       "   'description': 'OnStar Guardian can now be used even if you drive cars from another brand..',\n",
       "   'url': 'https://www.engadget.com/gm-onstar-guardian-mobile-app-open-to-non-gm-drivers-133619150.html',\n",
       "   'urlToImage': 'https://s.yimg.com/os/creatr-uploaded-images/2021-06/c31c5620-c85d-11eb-bfbf-ab4d27e60a3f',\n",
       "   'publishedAt': '2021-06-08T13:36:19Z',\n",
       "   'content': 'OnStar Guardian is General Motors suite of safety and security features that are designed to take the stress out of driving. Now, the company has announced that you dont actually need to own a GM veh… [+1172 chars]'},\n",
       "  {'source': {'id': 'techcrunch', 'name': 'TechCrunch'},\n",
       "   'author': 'Kirsten Korosec',\n",
       "   'title': 'Cruise secures $5B credit line to buy electric, autonomous Cruise Origin vehicles from GM',\n",
       "   'description': 'Cruise, the self-driving subsidiary of GM, has tapped a $5 billion line of credit from the automaker’s financial arm to pay for hundreds of purpose-built electric and autonomous Origin vehicles as they start to roll off the assembly line. The access to the cr…',\n",
       "   'url': 'http://techcrunch.com/2021/06/15/cruise-secures-5b-credit-line-to-buy-electric-autonomous-cruise-origin-vehicles-from-gm/',\n",
       "   'urlToImage': 'https://techcrunch.com/wp-content/uploads/2021/06/Screen-Shot-2021-06-15-at-7.26.26-AM.png?w=712',\n",
       "   'publishedAt': '2021-06-15T14:43:36Z',\n",
       "   'content': 'Cruise, the self-driving subsidiary of GM, has tapped a $5 billion line of credit from the automaker’s financial arm to pay for hundreds of purpose-built electric and autonomous Origin vehicles as th… [+1459 chars]'},\n",
       "  {'source': {'id': 'techcrunch', 'name': 'TechCrunch'},\n",
       "   'author': 'Kirsten Korosec',\n",
       "   'title': 'Inside GM’s startup incubator strategy',\n",
       "   'description': \"GM has launched a series of new subsidiaries tackling electrification, connectivity and even insurance — all part of the automaker's aim to find value beyond its traditional business.\",\n",
       "   'url': 'http://techcrunch.com/2021/06/22/inside-gms-startup-incubator-strategy/',\n",
       "   'urlToImage': 'https://techcrunch.com/wp-content/uploads/2021/06/ChevyPamFletcher103.jpg?w=601',\n",
       "   'publishedAt': '2021-06-22T20:35:13Z',\n",
       "   'content': 'GM has launched a series of new subsidiaries in the past year tackling electrification, connectivity and even insurance all part of the automaker’s aim to find value (and profits) beyond its traditio… [+3608 chars]'},\n",
       "  {'source': {'id': 'techcrunch', 'name': 'TechCrunch'},\n",
       "   'author': 'Aria Alamalhodaei',\n",
       "   'title': 'GM increases EV and AV investments to $35B through 2025',\n",
       "   'description': 'General Motors Co. has yet again upped the amount it says it will spend on electric and autonomous vehicle investments, saying Wednesday that it would spend $35 billion through 2025 – an $8 billion increase from its previous plan announced in November 2020. T…',\n",
       "   'url': 'http://techcrunch.com/2021/06/16/gm-increases-ev-and-av-investments-to-35b-through-2025/',\n",
       "   'urlToImage': 'https://techcrunch.com/wp-content/uploads/2021/04/MY23LYRIQ-HERO-FRONT-3_4-BLACK-ROOF-FINAL.jpg?w=644',\n",
       "   'publishedAt': '2021-06-16T16:04:22Z',\n",
       "   'content': 'General Motors Co. has yet again upped the amount it says it will spend on electric and autonomous vehicle investments, saying Wednesday that it would spend $35 billion through 2025 an $8 billion inc… [+1983 chars]'},\n",
       "  {'source': {'id': 'engadget', 'name': 'Engadget'},\n",
       "   'author': 'https://www.engadget.com/about/editors/saqib-shah',\n",
       "   'title': 'NASA’s autonomous lunar vehicle will be made by GM and Lockheed Martin',\n",
       "   'description': 'NASA has picked General Motors and Lockheed Martin to build the lunar terrain vehicle for its Artemis Moon mission..',\n",
       "   'url': 'https://www.engadget.com/nasa-gm-lockheed-martin-artemis-vehicle-131521711.html',\n",
       "   'urlToImage': 'https://s.yimg.com/os/creatr-uploaded-images/2021-05/afbaed20-beea-11eb-bdf0-6b129d1f92fb',\n",
       "   'publishedAt': '2021-05-27T13:15:21Z',\n",
       "   'content': 'NASA is assembling a crack team of private companies to help it return humans to the Moon for the first time since 1972. After assigning SpaceX the task of the lunar landing, the agency is turning it… [+1490 chars]'},\n",
       "  {'source': {'id': 'the-verge', 'name': 'The Verge'},\n",
       "   'author': 'Andrew J. Hawkins',\n",
       "   'title': 'Cruise starts pre-production of its autonomous shuttle thanks to $5 billion from GM',\n",
       "   'description': 'Cruise is getting a $5 billion line of credit from GM, bringing its total war chest up to $10 billion. This will help as the company enters into pre-production on its autonomous Origin shuttles, which are scheduled to begin series production in 2022.',\n",
       "   'url': 'https://www.theverge.com/2021/6/15/22534945/gm-credit-cruise-autonomous-vehicle-origin-production',\n",
       "   'urlToImage': 'https://cdn.vox-cdn.com/thumbor/WTH1J8LCLbDOGIwjkdibIrYXhbQ=/0x146:2040x1214/fit-in/1200x630/cdn.vox-cdn.com/uploads/chorus_asset/file/22659918/vpavic_200121_3874_0010.0.jpg',\n",
       "   'publishedAt': '2021-06-15T15:33:34Z',\n",
       "   'content': 'GM is extending a line of credit to the autonomous vehicle company\\r\\nCruise is getting a $5 billion line of credit from General Motors financial division as it begins pre-production on its Origin auto… [+2413 chars]'},\n",
       "  {'source': {'id': 'techcrunch', 'name': 'TechCrunch'},\n",
       "   'author': 'Kirsten Korosec',\n",
       "   'title': 'Cruise can now give passengers rides in driverless cars in California',\n",
       "   'description': 'Cruise, the autonomous vehicle subsidiary of GM that also has backing from SoftBank Vision Fund, Microsoft and Honda, has secured a permit that will allow the company to shuttle passengers in its test vehicles without a human safety operator behind the wheel.…',\n",
       "   'url': 'http://techcrunch.com/2021/06/04/cruise-can-now-give-passengers-rides-in-driverless-cars-in-california/',\n",
       "   'urlToImage': 'https://techcrunch.com/wp-content/uploads/2020/01/Cruise-car-in-Hayes-Valley-San-Francisco.jpg?w=711',\n",
       "   'publishedAt': '2021-06-04T22:55:33Z',\n",
       "   'content': 'Cruise, the autonomous vehicle subsidiary of GM that also has backing from SoftBank Vision Fund, Microsoft and Honda, has secured a permit that will allow the company to shuttle passengers in its tes… [+3603 chars]'},\n",
       "  {'source': {'id': 'engadget', 'name': 'Engadget'},\n",
       "   'author': 'https://www.engadget.com/about/editors/jon-fingas',\n",
       "   'title': 'Senate committee moves to raise EV tax credit to as much as $12,500',\n",
       "   'description': 'The Senate has advanced a bill that would offer EV tax credits as large as $12,500, but only for cars made in the US through unions..',\n",
       "   'url': 'https://www.engadget.com/senate-clean-energy-for-america-bill-ev-tax-credit-144851759.html',\n",
       "   'urlToImage': 'https://s.yimg.com/os/creatr-uploaded-images/2021-04/67436680-a3c4-11eb-bff4-923a6b72f859',\n",
       "   'publishedAt': '2021-05-27T14:48:51Z',\n",
       "   'content': \"New legislation could raise the US government's electric car tax credit beyond its current $7,500 cap but only in certain circumstances. Reutersreports that the Senate's Finance Committee has advance… [+1803 chars]\"},\n",
       "  {'source': {'id': 'reuters', 'name': 'Reuters'},\n",
       "   'author': 'Joseph White',\n",
       "   'title': 'GM expands Onstar services beyond its vehicle owner base - Reuters',\n",
       "   'description': 'General Motors Co (GM.N) plans to offer subscriptions for its Onstar Guardian security services to anyone in the United States or Canada who wants to download a smartphone app, expanding beyond owners of GM vehicles in a step to generate recurring revenue.',\n",
       "   'url': 'https://www.reuters.com/business/autos-transportation/gm-expands-onstar-services-beyond-its-vehicle-owner-base-2021-06-07/',\n",
       "   'urlToImage': None,\n",
       "   'publishedAt': '2021-06-07T14:03:00Z',\n",
       "   'content': 'General Motors Co (GM.N) plans to offer subscriptions for its Onstar Guardian security services to anyone in the United States or Canada who wants to download a smartphone app, expanding beyond owner… [+873 chars]'},\n",
       "  {'source': {'id': 'reuters', 'name': 'Reuters'},\n",
       "   'author': 'Reuters',\n",
       "   'title': 'GM restarting some plants hit by chips shortage - Reuters',\n",
       "   'description': 'General Motors Co (GM.N) said Thursday it will be soon be restarting production at five assembly plants around the world that have been idled due to a global semiconductor chips shortage.',\n",
       "   'url': 'https://www.reuters.com/technology/gm-restarting-some-plants-hit-by-chips-shortage-2021-05-27/',\n",
       "   'urlToImage': 'https://www.reuters.com/resizer/UZn1S8TcYZETpVjEqO8zytqrcJ4=/1200x628/smart/filters:quality(80)/cloudfront-us-east-2.images.arcpublishing.com/reuters/BMZJSEAKIFJBHCIX7VIDBLK3UE.jpg',\n",
       "   'publishedAt': '2021-05-27T13:06:00Z',\n",
       "   'content': 'The new GM logo is seen on the facade of the General Motors headquarters in Detroit, Michigan, U.S., March 16, 2021. REUTERS/Rebecca Cook/File PhotoGeneral Motors Co (GM.N) said Thursday it will be s… [+619 chars]'},\n",
       "  {'source': {'id': 'reuters', 'name': 'Reuters'},\n",
       "   'author': 'Reuters',\n",
       "   'title': 'GM backs emissions reductions outlined in California agreement - Reuters',\n",
       "   'description': 'General Motors (GM.N) said Wednesday it supports the emissions reductions outlined in a 2019 deal struck between California and other major automakers but wants the federal government to adopt changes to speed the adoption of electric vehicles.',\n",
       "   'url': 'https://www.reuters.com/business/autos-transportation/gm-backs-emissions-reductions-outlined-california-agreement-2021-06-09/',\n",
       "   'urlToImage': 'https://www.reuters.com/resizer/JQgzEyNvsIR05jxScKMFpmBndEY=/1200x628/smart/filters:quality(80)/cloudfront-us-east-2.images.arcpublishing.com/reuters/AL367UFRNRJZPFJFNOCWNCES4U.jpg',\n",
       "   'publishedAt': '2021-06-09T13:17:00Z',\n",
       "   'content': 'The new GM logo is seen on the facade of the General Motors headquarters in Detroit, Michigan, U.S., March 16, 2021. REUTERS/Rebecca Cook/File PhotoGeneral Motors (GM.N) said Wednesday it supports th… [+1434 chars]'},\n",
       "  {'source': {'id': None, 'name': 'Gmnewshub.com'},\n",
       "   'author': 'gmnewshub',\n",
       "   'title': \"Covid could wipe out 'generation of healthcare workers' in poorest nations as just 10pc vaccinated - GM Newshub - GM Newshub\",\n",
       "   'description': \"<ol><li>Covid could wipe out 'generation of healthcare workers' in poorest nations as just 10pc vaccinated - GM Newshub\\xa0\\xa0GM Newshub\\r\\n</li><li>U.S. unlikely to hit goal of vaccinating 70% of adults against COVID-19 by July 4\\xa0\\xa0Global News\\r\\n</li><li>CDC: High Co…\",\n",
       "   'url': 'https://gmnewshub.com/covid-could-wipe-out-generation-of-healthcare-workers-in-poorest-nations-as-just-10pc-vaccinated/',\n",
       "   'urlToImage': 'https://www.telegraph.co.uk/content/dam/global-health/2021/04/28/TELEMMGLPICT000257134447_trans_NvBQzQNjv4Bq3dDXxxrv_FBe_bxVyxLkOI-BmsTVKaCg_eFiTMLOQoc.jpeg?impolicy=logo-overlay',\n",
       "   'publishedAt': '2021-06-07T18:09:27Z',\n",
       "   'content': 'He added that, at most, 10 per cent of health and social care workers have been inoculated in low income countries, though it varies from place to place depending on available supply and vaccination … [+1245 chars]'},\n",
       "  {'source': {'id': 'techcrunch', 'name': 'TechCrunch'},\n",
       "   'author': 'Rebecca Bellan',\n",
       "   'title': 'Lordstown Motors execs cite binding orders to restore confidence a day after CEO, CFO resignations',\n",
       "   'description': 'Lordstown Motors has enough ‘binding orders’ from customers to fund limited production of its electric pickup truck through May 2022, executives at the company said Tuesday just a a day after an executive shakeup that included the resignation of the company’s…',\n",
       "   'url': 'http://techcrunch.com/2021/06/15/lordstown-motors-execs-cite-binding-orders-to-restore-confidence-a-day-after-ceo-cfo-resignations/',\n",
       "   'urlToImage': 'https://techcrunch.com/wp-content/uploads/2020/06/EnduranceMain07.jpg?w=605',\n",
       "   'publishedAt': '2021-06-15T23:01:20Z',\n",
       "   'content': 'Lordstown Motors has enough ‘binding orders’ from customers to fund limited production of its electric pickup truck through May 2022, executives at the company said Tuesday just a a day after an exec… [+2530 chars]'},\n",
       "  {'source': {'id': 'reuters', 'name': 'Reuters'},\n",
       "   'author': 'Ben Klayman',\n",
       "   'title': 'GM boosts spending on electric vehicles, to add two new U.S. battery plants - Reuters',\n",
       "   'description': 'General Motors Co (GM.N) on Wednesday boosted its spending on electric and autonomous vehicles, pulled ahead plans for two U.S. battery plants and forecast stronger-than-expected second-quarter profits.',\n",
       "   'url': 'https://www.reuters.com/business/autos-transportation/gm-boosts-spending-electric-vehicles-add-two-new-us-battery-plants-2021-06-16/',\n",
       "   'urlToImage': 'https://www.reuters.com/resizer/lulsI8uA29cxAUj_aADtWc5kZmc=/1200x628/smart/filters:quality(80)/cloudfront-us-east-2.images.arcpublishing.com/reuters/PEOFQX43KVJS7NTL5JVMSPYN2M.jpg',\n",
       "   'publishedAt': '2021-06-16T13:05:00Z',\n",
       "   'content': 'The new GM logo is seen on the facade of the General Motors headquarters in Detroit, Michigan, U.S., March 16, 2021. REUTERS/Rebecca Cook//File PhotoDETROIT, June 16 (Reuters) - General Motors Co (GM… [+3266 chars]'},\n",
       "  {'source': {'id': 'reuters', 'name': 'Reuters'},\n",
       "   'author': 'Daina Beth Solomon,David Shepardson',\n",
       "   'title': 'Fresh GM union vote in Mexico headed for delay - sources - Reuters',\n",
       "   'description': \"A key workers' vote at a General Motors Co (GM.N) plant in Mexico that has drawn scrutiny from the Biden administration over alleged rights violations is slated to be delayed past a deadline set by Mexican authorities.\",\n",
       "   'url': 'https://www.reuters.com/business/autos-transportation/fresh-gm-union-vote-mexico-headed-delay-sources-2021-06-07/',\n",
       "   'urlToImage': 'https://www.reuters.com/resizer/W-_ABoKtm9kBAI17m4eABL9iaho=/1200x628/smart/filters:quality(80)/cloudfront-us-east-2.images.arcpublishing.com/reuters/FTGJFKSAQBONRPQJOR3EV66VLM.jpg',\n",
       "   'publishedAt': '2021-06-07T18:56:00Z',\n",
       "   'content': \"The new GM logo is seen on the facade of the General Motors headquarters in Detroit, Michigan, U.S., March 16, 2021. REUTERS/Rebecca CookA key workers' vote at a General Motors Co (GM.N) plant in Mex… [+2300 chars]\"},\n",
       "  {'source': {'id': 'reuters', 'name': 'Reuters'},\n",
       "   'author': 'David Shepardson',\n",
       "   'title': 'U.S. lawmakers press GM CEO on California emissions, Mexico labor - Reuters',\n",
       "   'description': \"General Motors Chief Executive Mary Barra faced questions from U.S. lawmakers on Wednesday on a workers’ vote at a company plant in Mexico and the company's support for emissions reductions.\",\n",
       "   'url': 'https://www.reuters.com/business/autos-transportation/us-lawmakers-press-gm-ceo-california-emissions-mexico-labor-2021-06-17/',\n",
       "   'urlToImage': 'https://www.reuters.com/resizer/NFVJj9-vKJk5A9oimw_nfM-iX8M=/1200x628/smart/filters:quality(80)/cloudfront-us-east-2.images.arcpublishing.com/reuters/SESYUC7RFRLYLNO7IDC55GPZEU.jpg',\n",
       "   'publishedAt': '2021-06-17T00:25:00Z',\n",
       "   'content': \"WASHINGTON, June 16 (Reuters) - General Motors Chief Executive Mary Barra faced questions from U.S. lawmakers on Wednesday on a workers vote at a company plant in Mexico and the company's support for… [+2928 chars]\"},\n",
       "  {'source': {'id': 'reuters', 'name': 'Reuters'},\n",
       "   'author': 'Reuters',\n",
       "   'title': 'GM looking at longer-term supply contracts and partnerships related to chips -CFO - Reuters',\n",
       "   'description': \"General Motors Co (GM.N) is looking at signing longer-term supply contracts or partnering with chip suppliers in the future to mitigate the impact it has seen from the global semiconductor shortage, the automaker's chief financial officer said on Wednesday.\",\n",
       "   'url': 'https://www.reuters.com/business/autos-transportation/gm-looking-longer-term-supply-contracts-partnerships-related-chips-cfo-2021-06-16/',\n",
       "   'urlToImage': 'https://www.reuters.com/resizer/8yjEDaKn8N4bqLQRqXB2oLShyjM=/1200x628/smart/filters:quality(80)/cloudfront-us-east-2.images.arcpublishing.com/reuters/ETADMUVPPJIZTOBMLNSPYUF7CU.jpg',\n",
       "   'publishedAt': '2021-06-16T18:26:00Z',\n",
       "   'content': 'The new GM logo is seen on the facade of the General Motors headquarters in Detroit, Michigan, U.S., March 16, 2021. Picture taken March 16, 2021. REUTERS/Rebecca Cook/File Photo\\r\\nDETROIT, June 16 (R… [+667 chars]'},\n",
       "  {'source': {'id': 'reuters', 'name': 'Reuters'},\n",
       "   'author': 'Reuters',\n",
       "   'title': \"GM sees 'significantly better' first-half 2021 results, to ramp up production - Reuters\",\n",
       "   'description': 'General Motors Co (GM.N) expects first-half 2021 financial results to be significantly better than forecast earlier as semiconductor chip deliveries pick up in the second quarter, the automaker said on Thursday.',\n",
       "   'url': 'https://www.reuters.com/business/autos-transportation/gm-ramp-up-production-sees-significantly-better-first-half-2021-results-2021-06-03/',\n",
       "   'urlToImage': 'https://www.reuters.com/resizer/UZn1S8TcYZETpVjEqO8zytqrcJ4=/1200x628/smart/filters:quality(80)/cloudfront-us-east-2.images.arcpublishing.com/reuters/BMZJSEAKIFJBHCIX7VIDBLK3UE.jpg',\n",
       "   'publishedAt': '2021-06-03T13:11:00Z',\n",
       "   'content': 'The new GM logo is seen on the facade of the General Motors headquarters in Detroit, Michigan, U.S., March 16, 2021. Picture taken March 16, 2021. REUTERS/Rebecca Cook/File PhotoGeneral Motors Co (GM… [+1384 chars]'},\n",
       "  {'source': {'id': 'reuters', 'name': 'Reuters'},\n",
       "   'author': 'Ben Klayman',\n",
       "   'title': 'GM to supply electric batteries, hydrogen fuel cell systems for Wabtec locomotive - Reuters',\n",
       "   'description': \"General Motors Co (GM.N) will supply electric batteries and hydrogen fuel cell systems for rail supplier Wabtec Corp's (WAB.N) locomotives, in a move extending the No. 1 U.S. automaker's reach outside the automotive sector.\",\n",
       "   'url': 'https://www.reuters.com/business/sustainable-business/gm-supply-electric-batteries-hydrogen-fuel-cell-systems-wabtec-locomotive-2021-06-15/',\n",
       "   'urlToImage': 'https://www.reuters.com/resizer/K_BHsPxBPPN92aNth2nAtkfaMhM=/728x381/smart/filters:quality(80)/cloudfront-us-east-2.images.arcpublishing.com/reuters/HGCOIVHFONLWLPBAPD7TBXP47Y.jpg',\n",
       "   'publishedAt': '2021-06-15T13:01:00Z',\n",
       "   'content': 'The new GM logo is seen on the facade of the General Motors headquarters in Detroit, Michigan, U.S., March 16, 2021. REUTERS/Rebecca Cook//File PhotoGeneral Motors Co (GM.N) will supply electric batt… [+2763 chars]'},\n",
       "  {'source': {'id': 'reuters', 'name': 'Reuters'},\n",
       "   'author': 'David Shepardson',\n",
       "   'title': 'EXCLUSIVE GM to boost spending on electric vehicles 30%, add two new battery plants -sources - Reuters',\n",
       "   'description': 'General Motors Co  will boost global spending on electric and autonomous vehicles to $35 billion through 2025, a 30% jump over its most recent forecast as it pursues EV leadership, people briefed on the matter told Reuters.',\n",
       "   'url': 'https://www.reuters.com/business/autos-transportation/exclusive-gm-boost-spending-electric-vehicles-30-add-two-new-battery-plants-2021-06-15/',\n",
       "   'urlToImage': 'https://www.reuters.com/resizer/E1MwhCohjPDZCNoJVRRsKS9x5So=/1200x628/smart/filters:quality(80)/cloudfront-us-east-2.images.arcpublishing.com/reuters/J4GFOAPT4VLIFDHSI4QPIQFN5A.jpg',\n",
       "   'publishedAt': '2021-06-15T23:31:00Z',\n",
       "   'content': 'WASHINGTON, June 15 (Reuters) - General Motors Co will boost global spending on electric and autonomous vehicles to $35 billion through 2025, a 30% jump over its most recent forecast as it pursues EV… [+3558 chars]'}]}"
      ]
     },
     "execution_count": 6,
     "metadata": {},
     "output_type": "execute_result"
    }
   ],
   "source": [
    "# Fetch top news articles about Tesla   \n",
    "gm_top = newsapi_client.get_everything(q=\"GM\", language=\"en\")\n",
    "gm_top\n"
   ]
  },
  {
   "cell_type": "code",
   "execution_count": null,
   "metadata": {},
   "outputs": [],
   "source": [
    "# Print total articles\n",
    "\n",
    "# Show sample article\n",
    "\n"
   ]
  },
  {
   "cell_type": "code",
   "execution_count": null,
   "metadata": {},
   "outputs": [],
   "source": [
    "# Transform the response dictionary to a DataFrame\n",
    "\n"
   ]
  },
  {
   "cell_type": "code",
   "execution_count": null,
   "metadata": {},
   "outputs": [],
   "source": [
    "# Fetch all the news about Facebook Libra\n",
    "\n",
    "# Print total articles\n",
    "\n",
    "# Show sample article\n",
    "\n"
   ]
  },
  {
   "cell_type": "code",
   "execution_count": null,
   "metadata": {},
   "outputs": [],
   "source": [
    "# Transform the response dictionary to a DataFrame\n",
    "\n"
   ]
  }
 ],
 "metadata": {
  "file_extension": ".py",
  "interpreter": {
   "hash": "183bbf6827d058c2a2fb0f4acdc0420849dda2b4380af0e437e38c64d798d8b7"
  },
  "kernelspec": {
   "display_name": "Python 3",
   "language": "python",
   "name": "python3"
  },
  "language_info": {
   "codemirror_mode": {
    "name": "ipython",
    "version": 3
   },
   "file_extension": ".py",
   "mimetype": "text/x-python",
   "name": "python",
   "nbconvert_exporter": "python",
   "pygments_lexer": "ipython3",
   "version": "3.8.5"
  },
  "mimetype": "text/x-python",
  "name": "python",
  "npconvert_exporter": "python",
  "pygments_lexer": "ipython3",
  "version": 3
 },
 "nbformat": 4,
 "nbformat_minor": 4
}
