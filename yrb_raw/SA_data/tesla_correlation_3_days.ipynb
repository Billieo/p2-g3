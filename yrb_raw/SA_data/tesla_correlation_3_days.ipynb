{
 "cells": [
  {
   "cell_type": "markdown",
   "metadata": {},
   "source": [
    "# Correlating Tesla's Returns w/headlines \"Inflation\", \"Security\", and \"COVID\""
   ]
  },
  {
   "cell_type": "code",
   "execution_count": 144,
   "metadata": {},
   "outputs": [],
   "source": [
    "import pandas as pd\n",
    "import os\n",
    "from datetime import datetime, timedelta\n",
    "import alpaca_trade_api as tradeapi\n",
    "from newsapi.newsapi_client import NewsApiClient\n",
    "from nltk.sentiment.vader import SentimentIntensityAnalyzer\n",
    "from dotenv import load_dotenv"
   ]
  },
  {
   "cell_type": "code",
   "execution_count": 145,
   "metadata": {},
   "outputs": [
    {
     "data": {
      "text/plain": [
       "True"
      ]
     },
     "execution_count": 145,
     "metadata": {},
     "output_type": "execute_result"
    }
   ],
   "source": [
    "load_dotenv()"
   ]
  },
  {
   "cell_type": "code",
   "execution_count": 146,
   "metadata": {},
   "outputs": [],
   "source": [
    "# Get news API key\r\n",
    "newsapi = NewsApiClient(api_key=os.environ['news_api'])"
   ]
  },
  {
   "cell_type": "code",
   "execution_count": 147,
   "metadata": {},
   "outputs": [],
   "source": [
    "# Use Alpaca API and secret keys\r\n",
    "alpaca_api_key = os.getenv('alpaca_api_key')\r\n",
    "alpaca_api_secret_key = os.getenv('alpaca_api_secret_key')"
   ]
  },
  {
   "cell_type": "code",
   "execution_count": 148,
   "metadata": {},
   "outputs": [],
   "source": [
    "\r\n",
    "\r\n",
    "api = tradeapi.REST('alpaca_api_key', 'alpaca_api_secret_key', 'https://paper-api.alpaca.markets')\r\n",
    "\r\n",
    "# account = api.get_account()\r\n",
    "\r\n",
    "# \"alpaca_api_key\", \"alpaca_api_secret_key\", \"https://paper-api.alpaca.markets\"\r\n",
    "\r\n"
   ]
  },
  {
   "cell_type": "markdown",
   "metadata": {},
   "source": [
    "## Create a dataframe for Tesla's stock over the past month"
   ]
  },
  {
   "cell_type": "code",
   "execution_count": 149,
   "metadata": {},
   "outputs": [],
   "source": [
    "ticker = \"TSLA\""
   ]
  },
  {
   "cell_type": "code",
   "execution_count": 150,
   "metadata": {},
   "outputs": [],
   "source": [
    "# Timeframe will be one day\r\n",
    "timeframe = \"1D\""
   ]
  },
  {
   "cell_type": "code",
   "execution_count": 194,
   "metadata": {},
   "outputs": [],
   "source": [
    "# Date and time under ISO formatting. \r\n",
    "current_date = pd.Timestamp(datetime.now(), tz=\"America/New_York\").isoformat()\r\n",
    "past_date = pd.Timestamp(datetime.now()- timedelta(5), tz=\"America/New_York\").isoformat()\r\n"
   ]
  },
  {
   "cell_type": "code",
   "execution_count": 195,
   "metadata": {},
   "outputs": [
    {
     "data": {
      "text/html": [
       "<div>\n",
       "<style scoped>\n",
       "    .dataframe tbody tr th:only-of-type {\n",
       "        vertical-align: middle;\n",
       "    }\n",
       "\n",
       "    .dataframe tbody tr th {\n",
       "        vertical-align: top;\n",
       "    }\n",
       "\n",
       "    .dataframe thead th {\n",
       "        text-align: right;\n",
       "    }\n",
       "</style>\n",
       "<table border=\"1\" class=\"dataframe\">\n",
       "  <thead>\n",
       "    <tr style=\"text-align: right;\">\n",
       "      <th></th>\n",
       "      <th>close</th>\n",
       "    </tr>\n",
       "  </thead>\n",
       "  <tbody>\n",
       "    <tr>\n",
       "      <th>2021-06-29</th>\n",
       "      <td>680.76</td>\n",
       "    </tr>\n",
       "    <tr>\n",
       "      <th>2021-06-30</th>\n",
       "      <td>679.78</td>\n",
       "    </tr>\n",
       "    <tr>\n",
       "      <th>2021-07-01</th>\n",
       "      <td>677.92</td>\n",
       "    </tr>\n",
       "    <tr>\n",
       "      <th>2021-07-02</th>\n",
       "      <td>678.90</td>\n",
       "    </tr>\n",
       "  </tbody>\n",
       "</table>\n",
       "</div>"
      ],
      "text/plain": [
       "             close\n",
       "2021-06-29  680.76\n",
       "2021-06-30  679.78\n",
       "2021-07-01  677.92\n",
       "2021-07-02  678.90"
      ]
     },
     "execution_count": 195,
     "metadata": {},
     "output_type": "execute_result"
    }
   ],
   "source": [
    "# Get TSLA historial stock data\r\n",
    "tesla_df = api.get_barset(\r\n",
    "    ticker, \r\n",
    "    timeframe,  \r\n",
    "    start=past_date, \r\n",
    "    end=current_date,  \r\n",
    "    ).df\r\n",
    "\r\n",
    "# Drop the \"Tesla\" header\r\n",
    "tesla_df = tesla_df.droplevel(axis=1, level=0)\r\n",
    "\r\n",
    "# Drop open/high/low/volume\r\n",
    "tesla_df = tesla_df.drop(columns=[\"open\",\"high\", \"low\", \"volume\"])\r\n",
    "\r\n",
    "# Keep YY-MM-DD timeframe\r\n",
    "tesla_df.index = tesla_df.index.date\r\n",
    "\r\n",
    "tesla_df\r\n"
   ]
  },
  {
   "cell_type": "code",
   "execution_count": 196,
   "metadata": {},
   "outputs": [
    {
     "data": {
      "text/html": [
       "<div>\n",
       "<style scoped>\n",
       "    .dataframe tbody tr th:only-of-type {\n",
       "        vertical-align: middle;\n",
       "    }\n",
       "\n",
       "    .dataframe tbody tr th {\n",
       "        vertical-align: top;\n",
       "    }\n",
       "\n",
       "    .dataframe thead th {\n",
       "        text-align: right;\n",
       "    }\n",
       "</style>\n",
       "<table border=\"1\" class=\"dataframe\">\n",
       "  <thead>\n",
       "    <tr style=\"text-align: right;\">\n",
       "      <th></th>\n",
       "      <th>close</th>\n",
       "    </tr>\n",
       "  </thead>\n",
       "  <tbody>\n",
       "    <tr>\n",
       "      <th>2021-06-30</th>\n",
       "      <td>-0.001440</td>\n",
       "    </tr>\n",
       "    <tr>\n",
       "      <th>2021-07-01</th>\n",
       "      <td>-0.002736</td>\n",
       "    </tr>\n",
       "    <tr>\n",
       "      <th>2021-07-02</th>\n",
       "      <td>0.001446</td>\n",
       "    </tr>\n",
       "  </tbody>\n",
       "</table>\n",
       "</div>"
      ],
      "text/plain": [
       "               close\n",
       "2021-06-30 -0.001440\n",
       "2021-07-01 -0.002736\n",
       "2021-07-02  0.001446"
      ]
     },
     "execution_count": 196,
     "metadata": {},
     "output_type": "execute_result"
    }
   ],
   "source": [
    "# calculate Tesla's daily returns for 3 days. \r\n",
    "tesla_returns = tesla_df.pct_change().dropna()\r\n",
    "tesla_returns"
   ]
  },
  {
   "cell_type": "code",
   "execution_count": 199,
   "metadata": {},
   "outputs": [],
   "source": [
    "# Use newsapi client to get most relevant headlines per day in the past five days. We use 5 in order to \r\n",
    "# keep under the newsApi limits.\r\n",
    "def get_headlines(keyword):\r\n",
    "    all_headlines = []\r\n",
    "    all_dates = []    \r\n",
    "    date = datetime.strptime(current_date[:10], \"%Y-%m-%d\")\r\n",
    "    end_date = datetime.strptime(past_date[:10], \"%Y-%m-%d\")\r\n",
    "    print(f\"Fetching news about '{keyword}'\")\r\n",
    "    print(\"*\" * 5)\r\n",
    "    while date > end_date:\r\n",
    "        print(f\"retrieving news from: {date}\")\r\n",
    "        articles = newsapi.get_everything(\r\n",
    "            q=keyword,\r\n",
    "            from_param=str(date)[:10],\r\n",
    "            to=str(date)[:10],\r\n",
    "            language=\"en\",\r\n",
    "            sort_by=\"relevancy\",\r\n",
    "            page=1,\r\n",
    "        )\r\n",
    "        headlines = []\r\n",
    "        for i in range(0, len(articles[\"articles\"])):\r\n",
    "            headlines.append(articles[\"articles\"][i][\"title\"])\r\n",
    "        all_headlines.append(headlines)\r\n",
    "        all_dates.append(date)\r\n",
    "        date = date - timedelta(days=1)\r\n",
    "    return all_headlines, all_dates"
   ]
  },
  {
   "cell_type": "code",
   "execution_count": 198,
   "metadata": {},
   "outputs": [
    {
     "name": "stdout",
     "output_type": "stream",
     "text": [
      "Fetching news about 'tesla'\n",
      "***\n",
      "retrieving news from: 2021-07-04 00:00:00\n",
      "retrieving news from: 2021-07-03 00:00:00\n",
      "retrieving news from: 2021-07-02 00:00:00\n",
      "retrieving news from: 2021-07-01 00:00:00\n",
      "retrieving news from: 2021-06-30 00:00:00\n"
     ]
    }
   ],
   "source": [
    "# First news topic to gather correlation: Tesla\r\n",
    "tsla_headlines, dates = get_headlines(\"tesla\")"
   ]
  },
  {
   "cell_type": "code",
   "execution_count": 181,
   "metadata": {},
   "outputs": [
    {
     "name": "stdout",
     "output_type": "stream",
     "text": [
      "Fetching news about 'inflation'\n",
      "*****\n",
      "retrieving news from: 2021-07-04 00:00:00\n",
      "retrieving news from: 2021-07-03 00:00:00\n",
      "retrieving news from: 2021-07-02 00:00:00\n",
      "retrieving news from: 2021-07-01 00:00:00\n",
      "retrieving news from: 2021-06-30 00:00:00\n"
     ]
    }
   ],
   "source": [
    "# Second news topic to gather correlation: Inflation\r\n",
    "inflation_headlines, dates = get_headlines(\"inflation\")"
   ]
  },
  {
   "cell_type": "code",
   "execution_count": 182,
   "metadata": {},
   "outputs": [
    {
     "name": "stdout",
     "output_type": "stream",
     "text": [
      "Fetching news about 'security'\n",
      "*****\n",
      "retrieving news from: 2021-07-04 00:00:00\n",
      "retrieving news from: 2021-07-03 00:00:00\n",
      "retrieving news from: 2021-07-02 00:00:00\n",
      "retrieving news from: 2021-07-01 00:00:00\n",
      "retrieving news from: 2021-06-30 00:00:00\n"
     ]
    }
   ],
   "source": [
    "# Third news topic to gather correlation: Security\r\n",
    "security_headlines, dates = get_headlines(\"security\")"
   ]
  },
  {
   "cell_type": "code",
   "execution_count": 183,
   "metadata": {},
   "outputs": [
    {
     "name": "stdout",
     "output_type": "stream",
     "text": [
      "Fetching news about 'covid'\n",
      "*****\n",
      "retrieving news from: 2021-07-04 00:00:00\n",
      "retrieving news from: 2021-07-03 00:00:00\n",
      "retrieving news from: 2021-07-02 00:00:00\n",
      "retrieving news from: 2021-07-01 00:00:00\n",
      "retrieving news from: 2021-06-30 00:00:00\n"
     ]
    }
   ],
   "source": [
    "# Fourth news topic to gather correlation: COVID\r\n",
    "covid_headlines, dates = get_headlines(\"covid\")"
   ]
  },
  {
   "cell_type": "code",
   "execution_count": 200,
   "metadata": {},
   "outputs": [],
   "source": [
    "# Use SentimentIntensityAnalyzer\r\n",
    "sid = SentimentIntensityAnalyzer()"
   ]
  },
  {
   "cell_type": "code",
   "execution_count": 201,
   "metadata": {},
   "outputs": [],
   "source": [
    "# Create function that computes average compound sentiment of headlines for each day\r\n",
    "def headline_sentiment_summarizer_avg(headlines):\r\n",
    "    sentiment = []\r\n",
    "    for day in headlines:\r\n",
    "        day_score = []\r\n",
    "        for h in day:\r\n",
    "            if h == None:\r\n",
    "                continue\r\n",
    "            else:\r\n",
    "                day_score.append(sid.polarity_scores(h)[\"compound\"])\r\n",
    "        sentiment.append(sum(day_score) / len(day_score))\r\n",
    "    return sentiment"
   ]
  },
  {
   "cell_type": "code",
   "execution_count": 202,
   "metadata": {},
   "outputs": [],
   "source": [
    "# Get averages of each topics sentiment\r\n",
    "tsla_avg = headline_sentiment_summarizer_avg(tsla_headlines)\r\n",
    "inflation_avg = headline_sentiment_summarizer_avg(inflation_headlines)\r\n",
    "# economy_avg = headline_sentiment_summarizer_avg(economy_headlines)\r\n",
    "security_avg = headline_sentiment_summarizer_avg(security_headlines)\r\n",
    "covid_avg = headline_sentiment_summarizer_avg(covid_headlines)\r\n"
   ]
  },
  {
   "cell_type": "code",
   "execution_count": 203,
   "metadata": {},
   "outputs": [],
   "source": [
    "# Creating a dataframe from all topic sentiment averages\r\n",
    "topic_sentiments = pd.DataFrame(\r\n",
    "    {\"tsla_avg\": tsla_avg, \r\n",
    "    \"inflation_avg\": inflation_avg, \r\n",
    "    \"security_avg\": security_avg, \r\n",
    "    \"covid_avg\": covid_avg\r\n",
    "    }\r\n",
    ")"
   ]
  },
  {
   "cell_type": "code",
   "execution_count": 204,
   "metadata": {},
   "outputs": [],
   "source": [
    "# Set the index value of the sentiment averages DataFrame to be the series of dates.\r\n",
    "topic_sentiments.index = pd.to_datetime(dates)"
   ]
  },
  {
   "cell_type": "code",
   "execution_count": 205,
   "metadata": {},
   "outputs": [
    {
     "data": {
      "text/html": [
       "<div>\n",
       "<style scoped>\n",
       "    .dataframe tbody tr th:only-of-type {\n",
       "        vertical-align: middle;\n",
       "    }\n",
       "\n",
       "    .dataframe tbody tr th {\n",
       "        vertical-align: top;\n",
       "    }\n",
       "\n",
       "    .dataframe thead th {\n",
       "        text-align: right;\n",
       "    }\n",
       "</style>\n",
       "<table border=\"1\" class=\"dataframe\">\n",
       "  <thead>\n",
       "    <tr style=\"text-align: right;\">\n",
       "      <th></th>\n",
       "      <th>close</th>\n",
       "      <th>tsla_avg</th>\n",
       "      <th>inflation_avg</th>\n",
       "      <th>security_avg</th>\n",
       "      <th>covid_avg</th>\n",
       "    </tr>\n",
       "  </thead>\n",
       "  <tbody>\n",
       "    <tr>\n",
       "      <th>2021-06-30</th>\n",
       "      <td>-0.001440</td>\n",
       "      <td>0.069695</td>\n",
       "      <td>0.008740</td>\n",
       "      <td>-0.089700</td>\n",
       "      <td>-0.032705</td>\n",
       "    </tr>\n",
       "    <tr>\n",
       "      <th>2021-07-01</th>\n",
       "      <td>-0.002736</td>\n",
       "      <td>-0.062505</td>\n",
       "      <td>-0.102815</td>\n",
       "      <td>0.157910</td>\n",
       "      <td>0.015200</td>\n",
       "    </tr>\n",
       "    <tr>\n",
       "      <th>2021-07-02</th>\n",
       "      <td>0.001446</td>\n",
       "      <td>-0.010915</td>\n",
       "      <td>0.035320</td>\n",
       "      <td>-0.068425</td>\n",
       "      <td>0.118655</td>\n",
       "    </tr>\n",
       "  </tbody>\n",
       "</table>\n",
       "</div>"
      ],
      "text/plain": [
       "               close  tsla_avg  inflation_avg  security_avg  covid_avg\n",
       "2021-06-30 -0.001440  0.069695       0.008740     -0.089700  -0.032705\n",
       "2021-07-01 -0.002736 -0.062505      -0.102815      0.157910   0.015200\n",
       "2021-07-02  0.001446 -0.010915       0.035320     -0.068425   0.118655"
      ]
     },
     "metadata": {},
     "output_type": "display_data"
    }
   ],
   "source": [
    "# Merge with AAPL returns\r\n",
    "topic_sentiments = tesla_returns.join(topic_sentiments).dropna(how=\"any\")\r\n",
    "\r\n",
    "# Display data\r\n",
    "display(topic_sentiments)"
   ]
  },
  {
   "cell_type": "code",
   "execution_count": 207,
   "metadata": {},
   "outputs": [
    {
     "data": {
      "text/html": [
       "<style  type=\"text/css\" >\n",
       "    #T_9ea9dfc8_dd15_11eb_be9c_f0d5bfd2a752row0_col0 {\n",
       "            background-color:  #023858;\n",
       "            color:  #f1f1f1;\n",
       "        }    #T_9ea9dfc8_dd15_11eb_be9c_f0d5bfd2a752row0_col1 {\n",
       "            background-color:  #589ec8;\n",
       "            color:  #000000;\n",
       "        }    #T_9ea9dfc8_dd15_11eb_be9c_f0d5bfd2a752row0_col2 {\n",
       "            background-color:  #034c78;\n",
       "            color:  #f1f1f1;\n",
       "        }    #T_9ea9dfc8_dd15_11eb_be9c_f0d5bfd2a752row0_col3 {\n",
       "            background-color:  #e8e4f0;\n",
       "            color:  #000000;\n",
       "        }    #T_9ea9dfc8_dd15_11eb_be9c_f0d5bfd2a752row0_col4 {\n",
       "            background-color:  #045b8e;\n",
       "            color:  #f1f1f1;\n",
       "        }    #T_9ea9dfc8_dd15_11eb_be9c_f0d5bfd2a752row1_col0 {\n",
       "            background-color:  #6da6cd;\n",
       "            color:  #000000;\n",
       "        }    #T_9ea9dfc8_dd15_11eb_be9c_f0d5bfd2a752row1_col1 {\n",
       "            background-color:  #023858;\n",
       "            color:  #f1f1f1;\n",
       "        }    #T_9ea9dfc8_dd15_11eb_be9c_f0d5bfd2a752row1_col2 {\n",
       "            background-color:  #046198;\n",
       "            color:  #f1f1f1;\n",
       "        }    #T_9ea9dfc8_dd15_11eb_be9c_f0d5bfd2a752row1_col3 {\n",
       "            background-color:  #f5eff6;\n",
       "            color:  #000000;\n",
       "        }    #T_9ea9dfc8_dd15_11eb_be9c_f0d5bfd2a752row1_col4 {\n",
       "            background-color:  #fff7fb;\n",
       "            color:  #000000;\n",
       "        }    #T_9ea9dfc8_dd15_11eb_be9c_f0d5bfd2a752row2_col0 {\n",
       "            background-color:  #034f7d;\n",
       "            color:  #f1f1f1;\n",
       "        }    #T_9ea9dfc8_dd15_11eb_be9c_f0d5bfd2a752row2_col1 {\n",
       "            background-color:  #04639b;\n",
       "            color:  #f1f1f1;\n",
       "        }    #T_9ea9dfc8_dd15_11eb_be9c_f0d5bfd2a752row2_col2 {\n",
       "            background-color:  #023858;\n",
       "            color:  #f1f1f1;\n",
       "        }    #T_9ea9dfc8_dd15_11eb_be9c_f0d5bfd2a752row2_col3 {\n",
       "            background-color:  #fff7fb;\n",
       "            color:  #000000;\n",
       "        }    #T_9ea9dfc8_dd15_11eb_be9c_f0d5bfd2a752row2_col4 {\n",
       "            background-color:  #549cc7;\n",
       "            color:  #000000;\n",
       "        }    #T_9ea9dfc8_dd15_11eb_be9c_f0d5bfd2a752row3_col0 {\n",
       "            background-color:  #fff7fb;\n",
       "            color:  #000000;\n",
       "        }    #T_9ea9dfc8_dd15_11eb_be9c_f0d5bfd2a752row3_col1 {\n",
       "            background-color:  #fff7fb;\n",
       "            color:  #000000;\n",
       "        }    #T_9ea9dfc8_dd15_11eb_be9c_f0d5bfd2a752row3_col2 {\n",
       "            background-color:  #fff7fb;\n",
       "            color:  #000000;\n",
       "        }    #T_9ea9dfc8_dd15_11eb_be9c_f0d5bfd2a752row3_col3 {\n",
       "            background-color:  #023858;\n",
       "            color:  #f1f1f1;\n",
       "        }    #T_9ea9dfc8_dd15_11eb_be9c_f0d5bfd2a752row3_col4 {\n",
       "            background-color:  #d9d8ea;\n",
       "            color:  #000000;\n",
       "        }    #T_9ea9dfc8_dd15_11eb_be9c_f0d5bfd2a752row4_col0 {\n",
       "            background-color:  #045687;\n",
       "            color:  #f1f1f1;\n",
       "        }    #T_9ea9dfc8_dd15_11eb_be9c_f0d5bfd2a752row4_col1 {\n",
       "            background-color:  #d6d6e9;\n",
       "            color:  #000000;\n",
       "        }    #T_9ea9dfc8_dd15_11eb_be9c_f0d5bfd2a752row4_col2 {\n",
       "            background-color:  #1e80b8;\n",
       "            color:  #000000;\n",
       "        }    #T_9ea9dfc8_dd15_11eb_be9c_f0d5bfd2a752row4_col3 {\n",
       "            background-color:  #93b5d6;\n",
       "            color:  #000000;\n",
       "        }    #T_9ea9dfc8_dd15_11eb_be9c_f0d5bfd2a752row4_col4 {\n",
       "            background-color:  #023858;\n",
       "            color:  #f1f1f1;\n",
       "        }</style><table id=\"T_9ea9dfc8_dd15_11eb_be9c_f0d5bfd2a752\" ><thead>    <tr>        <th class=\"blank level0\" ></th>        <th class=\"col_heading level0 col0\" >close</th>        <th class=\"col_heading level0 col1\" >tsla_avg</th>        <th class=\"col_heading level0 col2\" >inflation_avg</th>        <th class=\"col_heading level0 col3\" >security_avg</th>        <th class=\"col_heading level0 col4\" >covid_avg</th>    </tr></thead><tbody>\n",
       "                <tr>\n",
       "                        <th id=\"T_9ea9dfc8_dd15_11eb_be9c_f0d5bfd2a752level0_row0\" class=\"row_heading level0 row0\" >close</th>\n",
       "                        <td id=\"T_9ea9dfc8_dd15_11eb_be9c_f0d5bfd2a752row0_col0\" class=\"data row0 col0\" >1.000000</td>\n",
       "                        <td id=\"T_9ea9dfc8_dd15_11eb_be9c_f0d5bfd2a752row0_col1\" class=\"data row0 col1\" >0.180634</td>\n",
       "                        <td id=\"T_9ea9dfc8_dd15_11eb_be9c_f0d5bfd2a752row0_col2\" class=\"data row0 col2\" >0.848756</td>\n",
       "                        <td id=\"T_9ea9dfc8_dd15_11eb_be9c_f0d5bfd2a752row0_col3\" class=\"data row0 col3\" >-0.684342</td>\n",
       "                        <td id=\"T_9ea9dfc8_dd15_11eb_be9c_f0d5bfd2a752row0_col4\" class=\"data row0 col4\" >0.812428</td>\n",
       "            </tr>\n",
       "            <tr>\n",
       "                        <th id=\"T_9ea9dfc8_dd15_11eb_be9c_f0d5bfd2a752level0_row1\" class=\"row_heading level0 row1\" >tsla_avg</th>\n",
       "                        <td id=\"T_9ea9dfc8_dd15_11eb_be9c_f0d5bfd2a752row1_col0\" class=\"data row1 col0\" >0.180634</td>\n",
       "                        <td id=\"T_9ea9dfc8_dd15_11eb_be9c_f0d5bfd2a752row1_col1\" class=\"data row1 col1\" >1.000000</td>\n",
       "                        <td id=\"T_9ea9dfc8_dd15_11eb_be9c_f0d5bfd2a752row1_col2\" class=\"data row1 col2\" >0.673401</td>\n",
       "                        <td id=\"T_9ea9dfc8_dd15_11eb_be9c_f0d5bfd2a752row1_col3\" class=\"data row1 col3\" >-0.840782</td>\n",
       "                        <td id=\"T_9ea9dfc8_dd15_11eb_be9c_f0d5bfd2a752row1_col4\" class=\"data row1 col4\" >-0.426719</td>\n",
       "            </tr>\n",
       "            <tr>\n",
       "                        <th id=\"T_9ea9dfc8_dd15_11eb_be9c_f0d5bfd2a752level0_row2\" class=\"row_heading level0 row2\" >inflation_avg</th>\n",
       "                        <td id=\"T_9ea9dfc8_dd15_11eb_be9c_f0d5bfd2a752row2_col0\" class=\"data row2 col0\" >0.848756</td>\n",
       "                        <td id=\"T_9ea9dfc8_dd15_11eb_be9c_f0d5bfd2a752row2_col1\" class=\"data row2 col1\" >0.673401</td>\n",
       "                        <td id=\"T_9ea9dfc8_dd15_11eb_be9c_f0d5bfd2a752row2_col2\" class=\"data row2 col2\" >1.000000</td>\n",
       "                        <td id=\"T_9ea9dfc8_dd15_11eb_be9c_f0d5bfd2a752row2_col3\" class=\"data row2 col3\" >-0.966409</td>\n",
       "                        <td id=\"T_9ea9dfc8_dd15_11eb_be9c_f0d5bfd2a752row2_col4\" class=\"data row2 col4\" >0.381238</td>\n",
       "            </tr>\n",
       "            <tr>\n",
       "                        <th id=\"T_9ea9dfc8_dd15_11eb_be9c_f0d5bfd2a752level0_row3\" class=\"row_heading level0 row3\" >security_avg</th>\n",
       "                        <td id=\"T_9ea9dfc8_dd15_11eb_be9c_f0d5bfd2a752row3_col0\" class=\"data row3 col0\" >-0.684342</td>\n",
       "                        <td id=\"T_9ea9dfc8_dd15_11eb_be9c_f0d5bfd2a752row3_col1\" class=\"data row3 col1\" >-0.840782</td>\n",
       "                        <td id=\"T_9ea9dfc8_dd15_11eb_be9c_f0d5bfd2a752row3_col2\" class=\"data row3 col2\" >-0.966409</td>\n",
       "                        <td id=\"T_9ea9dfc8_dd15_11eb_be9c_f0d5bfd2a752row3_col3\" class=\"data row3 col3\" >1.000000</td>\n",
       "                        <td id=\"T_9ea9dfc8_dd15_11eb_be9c_f0d5bfd2a752row3_col4\" class=\"data row3 col4\" >-0.130832</td>\n",
       "            </tr>\n",
       "            <tr>\n",
       "                        <th id=\"T_9ea9dfc8_dd15_11eb_be9c_f0d5bfd2a752level0_row4\" class=\"row_heading level0 row4\" >covid_avg</th>\n",
       "                        <td id=\"T_9ea9dfc8_dd15_11eb_be9c_f0d5bfd2a752row4_col0\" class=\"data row4 col0\" >0.812428</td>\n",
       "                        <td id=\"T_9ea9dfc8_dd15_11eb_be9c_f0d5bfd2a752row4_col1\" class=\"data row4 col1\" >-0.426719</td>\n",
       "                        <td id=\"T_9ea9dfc8_dd15_11eb_be9c_f0d5bfd2a752row4_col2\" class=\"data row4 col2\" >0.381238</td>\n",
       "                        <td id=\"T_9ea9dfc8_dd15_11eb_be9c_f0d5bfd2a752row4_col3\" class=\"data row4 col3\" >-0.130832</td>\n",
       "                        <td id=\"T_9ea9dfc8_dd15_11eb_be9c_f0d5bfd2a752row4_col4\" class=\"data row4 col4\" >1.000000</td>\n",
       "            </tr>\n",
       "    </tbody></table>"
      ],
      "text/plain": [
       "<pandas.io.formats.style.Styler at 0x22d83689370>"
      ]
     },
     "execution_count": 207,
     "metadata": {},
     "output_type": "execute_result"
    }
   ],
   "source": [
    "topic_sentiments.corr().style.background_gradient()"
   ]
  },
  {
   "cell_type": "code",
   "execution_count": null,
   "metadata": {},
   "outputs": [],
   "source": []
  }
 ],
 "metadata": {
  "interpreter": {
   "hash": "183bbf6827d058c2a2fb0f4acdc0420849dda2b4380af0e437e38c64d798d8b7"
  },
  "kernelspec": {
   "display_name": "Python 3.8.5 64-bit ('base': conda)",
   "name": "python3"
  },
  "language_info": {
   "name": "python",
   "version": ""
  }
 },
 "nbformat": 4,
 "nbformat_minor": 5
}