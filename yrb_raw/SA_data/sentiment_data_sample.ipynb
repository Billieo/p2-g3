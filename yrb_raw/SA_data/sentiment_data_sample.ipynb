{
 "cells": [
  {
   "cell_type": "code",
   "execution_count": 1,
   "metadata": {},
   "outputs": [],
   "source": [
    "# Getting Data for Sentiment Analysis"
   ]
  },
  {
   "cell_type": "code",
   "execution_count": 21,
   "metadata": {},
   "outputs": [],
   "source": [
    "import tweepy\r\n",
    "import pandas as pd\r\n",
    "import os\r\n",
    "from dotenv import load_dotenv"
   ]
  },
  {
   "cell_type": "code",
   "execution_count": 22,
   "metadata": {},
   "outputs": [
    {
     "data": {
      "text/plain": [
       "True"
      ]
     },
     "execution_count": 22,
     "metadata": {},
     "output_type": "execute_result"
    }
   ],
   "source": [
    "load_dotenv()"
   ]
  },
  {
   "cell_type": "code",
   "execution_count": 23,
   "metadata": {},
   "outputs": [],
   "source": [
    "consumer_key=os.getenv(\"consumer_key\")\r\n",
    "consumer_secret=os.getenv(\"consumer_secret\")\r\n",
    "access_token=os.getenv(\"access_token\")\r\n",
    "access_token_secret=os.getenv(\"access_token_secret\")\r\n"
   ]
  },
  {
   "cell_type": "code",
   "execution_count": 24,
   "metadata": {},
   "outputs": [],
   "source": [
    "auth = tweepy.OAuthHandler(consumer_key, consumer_secret)\r\n",
    "auth.set_access_token(access_token, access_token_secret)\r\n",
    "\r\n",
    "api = tweepy.API(auth)"
   ]
  },
  {
   "cell_type": "code",
   "execution_count": 26,
   "metadata": {},
   "outputs": [
    {
     "name": "stdout",
     "output_type": "stream",
     "text": [
      "@StephFernasty We're certainly sorry to hear this news, Stephanie. If you'd like to further discuss this situation, please send us a DM when you get a chance. ^KL\n"
     ]
    }
   ],
   "source": [
    "# to access a tweet from id: tesla - example: show the full tweet using 'full_text'\r\n",
    "cursor = tweepy.Cursor(api.user_timeline, id='GM', tweet_mode='extended').items(1)\r\n",
    "for i in cursor:\r\n",
    "    print(i.full_text)\r\n"
   ]
  },
  {
   "cell_type": "code",
   "execution_count": 28,
   "metadata": {},
   "outputs": [
    {
     "name": "stdout",
     "output_type": "stream",
     "text": [
      "['__class__', '__delattr__', '__dict__', '__dir__', '__doc__', '__eq__', '__format__', '__ge__', '__getattribute__', '__getstate__', '__gt__', '__hash__', '__init__', '__init_subclass__', '__le__', '__lt__', '__module__', '__ne__', '__new__', '__reduce__', '__reduce_ex__', '__repr__', '__setattr__', '__sizeof__', '__str__', '__subclasshook__', '__weakref__', '_api', '_json', 'author', 'contributors', 'coordinates', 'created_at', 'destroy', 'display_text_range', 'entities', 'favorite', 'favorite_count', 'favorited', 'full_text', 'geo', 'id', 'id_str', 'in_reply_to_screen_name', 'in_reply_to_status_id', 'in_reply_to_status_id_str', 'in_reply_to_user_id', 'in_reply_to_user_id_str', 'is_quote_status', 'lang', 'parse', 'parse_list', 'place', 'retweet', 'retweet_count', 'retweeted', 'retweeted_status', 'retweets', 'source', 'source_url', 'truncated', 'user']\n"
     ]
    }
   ],
   "source": [
    "# Creating variable 'Cursor' to navigate through Twitter from a specific userID, 'tesla'\r\n",
    "# The information of a single tweet. \r\n",
    "# For example, 'favorite' is containing the amount of likes for a tweet, 'full_text' is the text of the tweet\r\n",
    "cursor = tweepy.Cursor(api.user_timeline, id='tesla', tweet_mode='extended').items(1)\r\n",
    "for i in cursor:\r\n",
    "    print(dir(i))"
   ]
  },
  {
   "cell_type": "code",
   "execution_count": 30,
   "metadata": {},
   "outputs": [],
   "source": [
    "number_of_tweets=200\r\n",
    "tweets=[]\r\n",
    "likes=[]\r\n",
    "time=[]\r\n",
    "\r\n",
    "for i in tweepy.Cursor(api.user_timeline, id='tesla', tweet_mode='extended').items(number_of_tweets):\r\n",
    "    tweets.append(i.full_text)\r\n",
    "    likes.append(i.favorite_count)\r\n",
    "    time.append(i.created_at)"
   ]
  },
  {
   "cell_type": "code",
   "execution_count": 31,
   "metadata": {},
   "outputs": [],
   "source": [
    "tesla_df = pd.DataFrame({'tweets':tweets,'likes':likes,'time':time})"
   ]
  },
  {
   "cell_type": "code",
   "execution_count": 32,
   "metadata": {},
   "outputs": [
    {
     "data": {
      "text/html": [
       "<div>\n",
       "<style scoped>\n",
       "    .dataframe tbody tr th:only-of-type {\n",
       "        vertical-align: middle;\n",
       "    }\n",
       "\n",
       "    .dataframe tbody tr th {\n",
       "        vertical-align: top;\n",
       "    }\n",
       "\n",
       "    .dataframe thead th {\n",
       "        text-align: right;\n",
       "    }\n",
       "</style>\n",
       "<table border=\"1\" class=\"dataframe\">\n",
       "  <thead>\n",
       "    <tr style=\"text-align: right;\">\n",
       "      <th></th>\n",
       "      <th>tweets</th>\n",
       "      <th>likes</th>\n",
       "      <th>time</th>\n",
       "    </tr>\n",
       "  </thead>\n",
       "  <tbody>\n",
       "    <tr>\n",
       "      <th>0</th>\n",
       "      <td>RT @elonmusk: @marcodzo @Tesla Sometimes peopl...</td>\n",
       "      <td>0</td>\n",
       "      <td>2021-06-25 22:22:22</td>\n",
       "    </tr>\n",
       "    <tr>\n",
       "      <th>1</th>\n",
       "      <td>RT @elonmusk: @Tesla Peak acceleration is over...</td>\n",
       "      <td>0</td>\n",
       "      <td>2021-06-18 22:46:55</td>\n",
       "    </tr>\n",
       "    <tr>\n",
       "      <th>2</th>\n",
       "      <td>Experiencing Plaid https://t.co/nipaxKbkjY</td>\n",
       "      <td>53136</td>\n",
       "      <td>2021-06-18 18:24:18</td>\n",
       "    </tr>\n",
       "    <tr>\n",
       "      <th>3</th>\n",
       "      <td>https://t.co/v9mFAeSY1v</td>\n",
       "      <td>13855</td>\n",
       "      <td>2021-06-16 17:11:21</td>\n",
       "    </tr>\n",
       "    <tr>\n",
       "      <th>4</th>\n",
       "      <td>https://t.co/k1h6oQsE47</td>\n",
       "      <td>31242</td>\n",
       "      <td>2021-06-15 09:25:23</td>\n",
       "    </tr>\n",
       "    <tr>\n",
       "      <th>...</th>\n",
       "      <td>...</td>\n",
       "      <td>...</td>\n",
       "      <td>...</td>\n",
       "    </tr>\n",
       "    <tr>\n",
       "      <th>195</th>\n",
       "      <td>Voilà, we’ve unlocked even more power in our E...</td>\n",
       "      <td>5245</td>\n",
       "      <td>2019-08-29 17:52:38</td>\n",
       "    </tr>\n",
       "    <tr>\n",
       "      <th>196</th>\n",
       "      <td>Algorithm update in progress</td>\n",
       "      <td>3287</td>\n",
       "      <td>2019-08-28 23:06:38</td>\n",
       "    </tr>\n",
       "    <tr>\n",
       "      <th>197</th>\n",
       "      <td>We're making some updates to Tesla Insurance a...</td>\n",
       "      <td>3516</td>\n",
       "      <td>2019-08-28 22:49:26</td>\n",
       "    </tr>\n",
       "    <tr>\n",
       "      <th>198</th>\n",
       "      <td>Tesla Insurance launches today in California t...</td>\n",
       "      <td>9262</td>\n",
       "      <td>2019-08-28 19:55:12</td>\n",
       "    </tr>\n",
       "    <tr>\n",
       "      <th>199</th>\n",
       "      <td>@28delayslater but what a cone</td>\n",
       "      <td>389</td>\n",
       "      <td>2019-08-27 17:09:35</td>\n",
       "    </tr>\n",
       "  </tbody>\n",
       "</table>\n",
       "<p>200 rows × 3 columns</p>\n",
       "</div>"
      ],
      "text/plain": [
       "                                                tweets  likes  \\\n",
       "0    RT @elonmusk: @marcodzo @Tesla Sometimes peopl...      0   \n",
       "1    RT @elonmusk: @Tesla Peak acceleration is over...      0   \n",
       "2           Experiencing Plaid https://t.co/nipaxKbkjY  53136   \n",
       "3                              https://t.co/v9mFAeSY1v  13855   \n",
       "4                              https://t.co/k1h6oQsE47  31242   \n",
       "..                                                 ...    ...   \n",
       "195  Voilà, we’ve unlocked even more power in our E...   5245   \n",
       "196                       Algorithm update in progress   3287   \n",
       "197  We're making some updates to Tesla Insurance a...   3516   \n",
       "198  Tesla Insurance launches today in California t...   9262   \n",
       "199                     @28delayslater but what a cone    389   \n",
       "\n",
       "                   time  \n",
       "0   2021-06-25 22:22:22  \n",
       "1   2021-06-18 22:46:55  \n",
       "2   2021-06-18 18:24:18  \n",
       "3   2021-06-16 17:11:21  \n",
       "4   2021-06-15 09:25:23  \n",
       "..                  ...  \n",
       "195 2019-08-29 17:52:38  \n",
       "196 2019-08-28 23:06:38  \n",
       "197 2019-08-28 22:49:26  \n",
       "198 2019-08-28 19:55:12  \n",
       "199 2019-08-27 17:09:35  \n",
       "\n",
       "[200 rows x 3 columns]"
      ]
     },
     "execution_count": 32,
     "metadata": {},
     "output_type": "execute_result"
    }
   ],
   "source": [
    "tesla_df"
   ]
  },
  {
   "cell_type": "code",
   "execution_count": 36,
   "metadata": {},
   "outputs": [],
   "source": [
    "# this is reading it out to a csv. do the same for ford and gm, as well as the other industries that\r\n",
    "#bilikisu and Samuel need. We need to show the impact of tweets for our companies. \r\n",
    "# see code below\r\n"
   ]
  },
  {
   "cell_type": "code",
   "execution_count": 37,
   "metadata": {},
   "outputs": [],
   "source": [
    "# This allows the csv to be posted on your tree to the left \r\n",
    "tesla_df.to_csv('tesla.csv')"
   ]
  },
  {
   "cell_type": "markdown",
   "metadata": {},
   "source": []
  },
  {
   "cell_type": "code",
   "execution_count": null,
   "metadata": {},
   "outputs": [],
   "source": [
    "# using the below lines to create the df above:\r\n",
    "#cursor = tweepy.Cursor(api.user_timeline, id='GM', tweet_mode='extended').items(1)\r\n",
    "for i in cursor:\r\n",
    "    print(i.full_text)"
   ]
  }
 ],
 "metadata": {
  "interpreter": {
   "hash": "183bbf6827d058c2a2fb0f4acdc0420849dda2b4380af0e437e38c64d798d8b7"
  },
  "kernelspec": {
   "display_name": "Python 3.8.5 64-bit ('base': conda)",
   "name": "python3"
  },
  "language_info": {
   "codemirror_mode": {
    "name": "ipython",
    "version": 3
   },
   "file_extension": ".py",
   "mimetype": "text/x-python",
   "name": "python",
   "nbconvert_exporter": "python",
   "pygments_lexer": "ipython3",
   "version": "3.8.5"
  }
 },
 "nbformat": 4,
 "nbformat_minor": 5
}