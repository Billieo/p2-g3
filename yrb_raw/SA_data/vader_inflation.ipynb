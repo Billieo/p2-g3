{
 "cells": [
  {
   "cell_type": "code",
   "execution_count": 6,
   "metadata": {},
   "outputs": [
    {
     "data": {
      "text/plain": [
       "True"
      ]
     },
     "execution_count": 6,
     "metadata": {},
     "output_type": "execute_result"
    }
   ],
   "source": [
    "import os\r\n",
    "from pathlib import Path\r\n",
    "import pandas as pd\r\n",
    "from newsapi import NewsApiClient\r\n",
    "import nltk\r\n",
    "from nltk.sentiment.vader import SentimentIntensityAnalyzer\r\n",
    "from dotenv import load_dotenv\r\n",
    "load_dotenv()"
   ]
  },
  {
   "cell_type": "markdown",
   "metadata": {},
   "source": [
    "## Using Tesla to create Vader sentiment"
   ]
  },
  {
   "cell_type": "code",
   "execution_count": 7,
   "metadata": {},
   "outputs": [
    {
     "name": "stderr",
     "output_type": "stream",
     "text": [
      "[nltk_data] Downloading package vader_lexicon to\n",
      "[nltk_data]     C:\\Users\\Admin\\AppData\\Roaming\\nltk_data...\n",
      "[nltk_data]   Package vader_lexicon is already up-to-date!\n"
     ]
    }
   ],
   "source": [
    "# Download/Update the VADER Lexicon\r\n",
    "nltk.download('vader_lexicon')\r\n",
    "\r\n",
    "# Initialize the VADER sentiment analyzer\r\n",
    "analyzer = SentimentIntensityAnalyzer()"
   ]
  },
  {
   "cell_type": "code",
   "execution_count": 8,
   "metadata": {},
   "outputs": [],
   "source": [
    "# Reading the News API key enviroment variable\r\n",
    "api_key = os.getenv(\"news_api\")\r\n"
   ]
  },
  {
   "cell_type": "code",
   "execution_count": 9,
   "metadata": {},
   "outputs": [],
   "source": [
    "# Create a newsapi client\r\n",
    "newsapi = NewsApiClient(api_key=api_key)\r\n"
   ]
  },
  {
   "cell_type": "code",
   "execution_count": 10,
   "metadata": {},
   "outputs": [
    {
     "name": "stdout",
     "output_type": "stream",
     "text": [
      "Total articles about inflation: 14645\n"
     ]
    },
    {
     "data": {
      "text/plain": [
       "{'source': {'id': None, 'name': 'New York Times'},\n",
       " 'author': 'David Leonhardt',\n",
       " 'title': 'The Specter of Inflation',\n",
       " 'description': 'Is it haunting the U.S. economy?',\n",
       " 'url': 'https://www.nytimes.com/2021/06/17/briefing/inflation-us-economy-covid-pandemic.html',\n",
       " 'urlToImage': 'https://static01.nyt.com/images/2021/06/17/lens/17ambriefing-promo/17ambriefing-inflation-facebookJumbo-v2.jpg',\n",
       " 'publishedAt': '2021-06-17T10:30:22Z',\n",
       " 'content': 'With excess saving they can afford more of everything, Jason Furman, a Harvard economist and former Obama administration official, wrote this week.\\r\\nAlthough companies are increasing the supply of ma… [+2099 chars]'}"
      ]
     },
     "execution_count": 10,
     "metadata": {},
     "output_type": "execute_result"
    }
   ],
   "source": [
    "# Fetch all the news about inflation\r\n",
    "inflation_headlines = newsapi.get_everything(\r\n",
    "    q=\"inflation\",\r\n",
    "    language=\"en\",\r\n",
    "    page_size=100,\r\n",
    "    sort_by=\"relevancy\"\r\n",
    ")\r\n",
    "\r\n",
    "# Print total articles\r\n",
    "print(f\"Total articles about inflation: {inflation_headlines['totalResults']}\")\r\n",
    "\r\n",
    "# Show sample article\r\n",
    "inflation_headlines[\"articles\"][0]"
   ]
  },
  {
   "cell_type": "code",
   "execution_count": 12,
   "metadata": {},
   "outputs": [
    {
     "data": {
      "text/html": [
       "<div>\n",
       "<style scoped>\n",
       "    .dataframe tbody tr th:only-of-type {\n",
       "        vertical-align: middle;\n",
       "    }\n",
       "\n",
       "    .dataframe tbody tr th {\n",
       "        vertical-align: top;\n",
       "    }\n",
       "\n",
       "    .dataframe thead th {\n",
       "        text-align: right;\n",
       "    }\n",
       "</style>\n",
       "<table border=\"1\" class=\"dataframe\">\n",
       "  <thead>\n",
       "    <tr style=\"text-align: right;\">\n",
       "      <th></th>\n",
       "      <th>date</th>\n",
       "      <th>text</th>\n",
       "      <th>compound</th>\n",
       "      <th>positive</th>\n",
       "      <th>negative</th>\n",
       "      <th>neutral</th>\n",
       "    </tr>\n",
       "  </thead>\n",
       "  <tbody>\n",
       "    <tr>\n",
       "      <th>0</th>\n",
       "      <td>2021-06-17</td>\n",
       "      <td>With excess saving they can afford more of eve...</td>\n",
       "      <td>0.0000</td>\n",
       "      <td>0.00</td>\n",
       "      <td>0.000</td>\n",
       "      <td>1.000</td>\n",
       "    </tr>\n",
       "    <tr>\n",
       "      <th>1</th>\n",
       "      <td>2021-06-21</td>\n",
       "      <td>10. And finally, figuring out how to be a supe...</td>\n",
       "      <td>0.0000</td>\n",
       "      <td>0.00</td>\n",
       "      <td>0.000</td>\n",
       "      <td>1.000</td>\n",
       "    </tr>\n",
       "    <tr>\n",
       "      <th>2</th>\n",
       "      <td>2021-06-10</td>\n",
       "      <td>4. As the U.S. withdraws from Afghanistan, int...</td>\n",
       "      <td>-0.4939</td>\n",
       "      <td>0.00</td>\n",
       "      <td>0.091</td>\n",
       "      <td>0.909</td>\n",
       "    </tr>\n",
       "    <tr>\n",
       "      <th>3</th>\n",
       "      <td>2021-06-16</td>\n",
       "      <td>A day after ousting two top executives, the el...</td>\n",
       "      <td>0.2023</td>\n",
       "      <td>0.05</td>\n",
       "      <td>0.000</td>\n",
       "      <td>0.950</td>\n",
       "    </tr>\n",
       "    <tr>\n",
       "      <th>4</th>\n",
       "      <td>2021-06-10</td>\n",
       "      <td></td>\n",
       "      <td>0.0000</td>\n",
       "      <td>0.00</td>\n",
       "      <td>0.000</td>\n",
       "      <td>0.000</td>\n",
       "    </tr>\n",
       "  </tbody>\n",
       "</table>\n",
       "</div>"
      ],
      "text/plain": [
       "         date                                               text  compound  \\\n",
       "0  2021-06-17  With excess saving they can afford more of eve...    0.0000   \n",
       "1  2021-06-21  10. And finally, figuring out how to be a supe...    0.0000   \n",
       "2  2021-06-10  4. As the U.S. withdraws from Afghanistan, int...   -0.4939   \n",
       "3  2021-06-16  A day after ousting two top executives, the el...    0.2023   \n",
       "4  2021-06-10                                                       0.0000   \n",
       "\n",
       "   positive  negative  neutral  \n",
       "0      0.00     0.000    1.000  \n",
       "1      0.00     0.000    1.000  \n",
       "2      0.00     0.091    0.909  \n",
       "3      0.05     0.000    0.950  \n",
       "4      0.00     0.000    0.000  "
      ]
     },
     "execution_count": 12,
     "metadata": {},
     "output_type": "execute_result"
    }
   ],
   "source": [
    "# Create the inflation sentiment scores DataFrame\r\n",
    "inflation_sentiments = []\r\n",
    "\r\n",
    "for article in inflation_headlines[\"articles\"]:\r\n",
    "    try:\r\n",
    "        text = article[\"content\"]\r\n",
    "        date = article[\"publishedAt\"][:10]\r\n",
    "        sentiment = analyzer.polarity_scores(text)\r\n",
    "        compound = sentiment[\"compound\"]\r\n",
    "        pos = sentiment[\"pos\"]\r\n",
    "        neu = sentiment[\"neu\"]\r\n",
    "        neg = sentiment[\"neg\"]\r\n",
    "        \r\n",
    "        inflation_sentiments.append({\r\n",
    "            \"text\": text,\r\n",
    "            \"date\": date,\r\n",
    "            \"compound\": compound,\r\n",
    "            \"positive\": pos,\r\n",
    "            \"negative\": neg,\r\n",
    "            \"neutral\": neu\r\n",
    "            \r\n",
    "        })\r\n",
    "        \r\n",
    "    except AttributeError:\r\n",
    "        pass\r\n",
    "    \r\n",
    "# Create DataFrame\r\n",
    "inflation_df = pd.DataFrame(inflation_sentiments)\r\n",
    "\r\n",
    "# Reorder DataFrame columns\r\n",
    "cols = [\"date\", \"text\", \"compound\", \"positive\", \"negative\", \"neutral\"]\r\n",
    "inflation_df = inflation_df[cols]\r\n",
    "\r\n",
    "inflation_df.head()\r\n"
   ]
  },
  {
   "cell_type": "code",
   "execution_count": 13,
   "metadata": {},
   "outputs": [
    {
     "data": {
      "text/html": [
       "<div>\n",
       "<style scoped>\n",
       "    .dataframe tbody tr th:only-of-type {\n",
       "        vertical-align: middle;\n",
       "    }\n",
       "\n",
       "    .dataframe tbody tr th {\n",
       "        vertical-align: top;\n",
       "    }\n",
       "\n",
       "    .dataframe thead th {\n",
       "        text-align: right;\n",
       "    }\n",
       "</style>\n",
       "<table border=\"1\" class=\"dataframe\">\n",
       "  <thead>\n",
       "    <tr style=\"text-align: right;\">\n",
       "      <th></th>\n",
       "      <th>compound</th>\n",
       "      <th>positive</th>\n",
       "      <th>negative</th>\n",
       "      <th>neutral</th>\n",
       "    </tr>\n",
       "  </thead>\n",
       "  <tbody>\n",
       "    <tr>\n",
       "      <th>count</th>\n",
       "      <td>100.000000</td>\n",
       "      <td>100.000000</td>\n",
       "      <td>100.000000</td>\n",
       "      <td>100.000000</td>\n",
       "    </tr>\n",
       "    <tr>\n",
       "      <th>mean</th>\n",
       "      <td>0.123166</td>\n",
       "      <td>0.053600</td>\n",
       "      <td>0.026420</td>\n",
       "      <td>0.909940</td>\n",
       "    </tr>\n",
       "    <tr>\n",
       "      <th>std</th>\n",
       "      <td>0.331568</td>\n",
       "      <td>0.065226</td>\n",
       "      <td>0.049701</td>\n",
       "      <td>0.125199</td>\n",
       "    </tr>\n",
       "    <tr>\n",
       "      <th>min</th>\n",
       "      <td>-0.835000</td>\n",
       "      <td>0.000000</td>\n",
       "      <td>0.000000</td>\n",
       "      <td>0.000000</td>\n",
       "    </tr>\n",
       "    <tr>\n",
       "      <th>25%</th>\n",
       "      <td>0.000000</td>\n",
       "      <td>0.000000</td>\n",
       "      <td>0.000000</td>\n",
       "      <td>0.854250</td>\n",
       "    </tr>\n",
       "    <tr>\n",
       "      <th>50%</th>\n",
       "      <td>0.000000</td>\n",
       "      <td>0.015500</td>\n",
       "      <td>0.000000</td>\n",
       "      <td>0.936000</td>\n",
       "    </tr>\n",
       "    <tr>\n",
       "      <th>75%</th>\n",
       "      <td>0.340000</td>\n",
       "      <td>0.085000</td>\n",
       "      <td>0.060000</td>\n",
       "      <td>1.000000</td>\n",
       "    </tr>\n",
       "    <tr>\n",
       "      <th>max</th>\n",
       "      <td>0.840200</td>\n",
       "      <td>0.237000</td>\n",
       "      <td>0.245000</td>\n",
       "      <td>1.000000</td>\n",
       "    </tr>\n",
       "  </tbody>\n",
       "</table>\n",
       "</div>"
      ],
      "text/plain": [
       "         compound    positive    negative     neutral\n",
       "count  100.000000  100.000000  100.000000  100.000000\n",
       "mean     0.123166    0.053600    0.026420    0.909940\n",
       "std      0.331568    0.065226    0.049701    0.125199\n",
       "min     -0.835000    0.000000    0.000000    0.000000\n",
       "25%      0.000000    0.000000    0.000000    0.854250\n",
       "50%      0.000000    0.015500    0.000000    0.936000\n",
       "75%      0.340000    0.085000    0.060000    1.000000\n",
       "max      0.840200    0.237000    0.245000    1.000000"
      ]
     },
     "execution_count": 13,
     "metadata": {},
     "output_type": "execute_result"
    }
   ],
   "source": [
    "inflation_df.describe()\r\n"
   ]
  },
  {
   "cell_type": "code",
   "execution_count": null,
   "metadata": {},
   "outputs": [],
   "source": []
  }
 ],
 "metadata": {
  "interpreter": {
   "hash": "183bbf6827d058c2a2fb0f4acdc0420849dda2b4380af0e437e38c64d798d8b7"
  },
  "kernelspec": {
   "display_name": "Python 3.8.5 64-bit ('base': conda)",
   "name": "python3"
  },
  "language_info": {
   "codemirror_mode": {
    "name": "ipython",
    "version": 3
   },
   "file_extension": ".py",
   "mimetype": "text/x-python",
   "name": "python",
   "nbconvert_exporter": "python",
   "pygments_lexer": "ipython3",
   "version": "3.8.5"
  }
 },
 "nbformat": 4,
 "nbformat_minor": 5
}