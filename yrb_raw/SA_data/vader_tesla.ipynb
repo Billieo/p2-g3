{
 "cells": [
  {
   "cell_type": "code",
   "execution_count": 1,
   "metadata": {},
   "outputs": [
    {
     "data": {
      "text/plain": [
       "True"
      ]
     },
     "execution_count": 1,
     "metadata": {},
     "output_type": "execute_result"
    }
   ],
   "source": [
    "import os\r\n",
    "from pathlib import Path\r\n",
    "import pandas as pd\r\n",
    "from newsapi import NewsApiClient\r\n",
    "import nltk\r\n",
    "from nltk.sentiment.vader import SentimentIntensityAnalyzer\r\n",
    "from dotenv import load_dotenv\r\n",
    "load_dotenv()"
   ]
  },
  {
   "cell_type": "markdown",
   "metadata": {},
   "source": [
    "## Using Tesla to create Vader sentiment"
   ]
  },
  {
   "cell_type": "code",
   "execution_count": 2,
   "metadata": {},
   "outputs": [
    {
     "name": "stderr",
     "output_type": "stream",
     "text": [
      "[nltk_data] Downloading package vader_lexicon to\n",
      "[nltk_data]     C:\\Users\\Admin\\AppData\\Roaming\\nltk_data...\n",
      "[nltk_data]   Package vader_lexicon is already up-to-date!\n"
     ]
    }
   ],
   "source": [
    "# Download/Update the VADER Lexicon\r\n",
    "nltk.download('vader_lexicon')\r\n",
    "\r\n",
    "# Initialize the VADER sentiment analyzer\r\n",
    "analyzer = SentimentIntensityAnalyzer()"
   ]
  },
  {
   "cell_type": "code",
   "execution_count": 3,
   "metadata": {},
   "outputs": [],
   "source": [
    "# Reading the News API key enviroment variable\r\n",
    "api_key = os.getenv(\"news_api\")\r\n"
   ]
  },
  {
   "cell_type": "code",
   "execution_count": 4,
   "metadata": {},
   "outputs": [],
   "source": [
    "# Create a newsapi client\r\n",
    "newsapi = NewsApiClient(api_key=api_key)\r\n"
   ]
  },
  {
   "cell_type": "code",
   "execution_count": 5,
   "metadata": {},
   "outputs": [
    {
     "name": "stdout",
     "output_type": "stream",
     "text": [
      "Total articles about Tesla: 7153\n"
     ]
    },
    {
     "data": {
      "text/plain": [
       "{'source': {'id': 'engadget', 'name': 'Engadget'},\n",
       " 'author': 'https://www.engadget.com/about/editors/jon-fingas',\n",
       " 'title': \"Elon Musk says Tesla Model S Plaid+ is 'canceled'\",\n",
       " 'description': \"Elon Musk claims the Tesla Model S Plaid+ is 'canceled' as the regular Plaid model is good enough..\",\n",
       " 'url': 'https://www.engadget.com/elon-musk-says-tesla-model-s-plaid-plus-canceled-211804141.html',\n",
       " 'urlToImage': 'https://s.yimg.com/os/creatr-uploaded-images/2021-03/a53fc4a0-8d72-11eb-bffa-fac9a7f8b050',\n",
       " 'publishedAt': '2021-06-06T21:18:04Z',\n",
       " 'content': 'You might have to forego dreams of driving Tesla\\'s supercar-level Model S Plaid+ sedan. Elon Musk told Twitter followers that the Plaid+ trim is \"canceled\" as the imminent, lower-priced \\'regular\\' Pla… [+1150 chars]'}"
      ]
     },
     "execution_count": 5,
     "metadata": {},
     "output_type": "execute_result"
    }
   ],
   "source": [
    "# Fetch all the news about Tesla\r\n",
    "tesla_headlines = newsapi.get_everything(\r\n",
    "    q=\"tesla\",\r\n",
    "    language=\"en\",\r\n",
    "    page_size=100,\r\n",
    "    sort_by=\"relevancy\"\r\n",
    ")\r\n",
    "\r\n",
    "# Print total articles\r\n",
    "print(f\"Total articles about Tesla: {tesla_headlines['totalResults']}\")\r\n",
    "\r\n",
    "# Show sample article\r\n",
    "tesla_headlines[\"articles\"][0]"
   ]
  },
  {
   "cell_type": "code",
   "execution_count": 6,
   "metadata": {},
   "outputs": [
    {
     "data": {
      "text/html": [
       "<div>\n",
       "<style scoped>\n",
       "    .dataframe tbody tr th:only-of-type {\n",
       "        vertical-align: middle;\n",
       "    }\n",
       "\n",
       "    .dataframe tbody tr th {\n",
       "        vertical-align: top;\n",
       "    }\n",
       "\n",
       "    .dataframe thead th {\n",
       "        text-align: right;\n",
       "    }\n",
       "</style>\n",
       "<table border=\"1\" class=\"dataframe\">\n",
       "  <thead>\n",
       "    <tr style=\"text-align: right;\">\n",
       "      <th></th>\n",
       "      <th>date</th>\n",
       "      <th>text</th>\n",
       "      <th>compound</th>\n",
       "      <th>positive</th>\n",
       "      <th>negative</th>\n",
       "      <th>neutral</th>\n",
       "    </tr>\n",
       "  </thead>\n",
       "  <tbody>\n",
       "    <tr>\n",
       "      <th>0</th>\n",
       "      <td>2021-06-06</td>\n",
       "      <td>You might have to forego dreams of driving Tes...</td>\n",
       "      <td>0.4019</td>\n",
       "      <td>0.08</td>\n",
       "      <td>0.000</td>\n",
       "      <td>0.920</td>\n",
       "    </tr>\n",
       "    <tr>\n",
       "      <th>1</th>\n",
       "      <td>2021-06-07</td>\n",
       "      <td>Jerome Guillen, a critical executive at Tesla ...</td>\n",
       "      <td>-0.3182</td>\n",
       "      <td>0.00</td>\n",
       "      <td>0.063</td>\n",
       "      <td>0.937</td>\n",
       "    </tr>\n",
       "    <tr>\n",
       "      <th>2</th>\n",
       "      <td>2021-06-11</td>\n",
       "      <td>A lucky 25 customers received Tesla’s redesign...</td>\n",
       "      <td>0.4215</td>\n",
       "      <td>0.08</td>\n",
       "      <td>0.000</td>\n",
       "      <td>0.920</td>\n",
       "    </tr>\n",
       "    <tr>\n",
       "      <th>3</th>\n",
       "      <td>2021-06-14</td>\n",
       "      <td>Redwood Materials, the battery recycling start...</td>\n",
       "      <td>0.0000</td>\n",
       "      <td>0.00</td>\n",
       "      <td>0.000</td>\n",
       "      <td>1.000</td>\n",
       "    </tr>\n",
       "    <tr>\n",
       "      <th>4</th>\n",
       "      <td>2021-06-22</td>\n",
       "      <td>Tesla CEO Elon Musk has been teasing a neural ...</td>\n",
       "      <td>-0.0772</td>\n",
       "      <td>0.00</td>\n",
       "      <td>0.036</td>\n",
       "      <td>0.964</td>\n",
       "    </tr>\n",
       "  </tbody>\n",
       "</table>\n",
       "</div>"
      ],
      "text/plain": [
       "         date                                               text  compound  \\\n",
       "0  2021-06-06  You might have to forego dreams of driving Tes...    0.4019   \n",
       "1  2021-06-07  Jerome Guillen, a critical executive at Tesla ...   -0.3182   \n",
       "2  2021-06-11  A lucky 25 customers received Tesla’s redesign...    0.4215   \n",
       "3  2021-06-14  Redwood Materials, the battery recycling start...    0.0000   \n",
       "4  2021-06-22  Tesla CEO Elon Musk has been teasing a neural ...   -0.0772   \n",
       "\n",
       "   positive  negative  neutral  \n",
       "0      0.08     0.000    0.920  \n",
       "1      0.00     0.063    0.937  \n",
       "2      0.08     0.000    0.920  \n",
       "3      0.00     0.000    1.000  \n",
       "4      0.00     0.036    0.964  "
      ]
     },
     "execution_count": 6,
     "metadata": {},
     "output_type": "execute_result"
    }
   ],
   "source": [
    "# Create the Tesla sentiment scores DataFrame\r\n",
    "tesla_sentiments = []\r\n",
    "\r\n",
    "for article in tesla_headlines[\"articles\"]:\r\n",
    "    try:\r\n",
    "        text = article[\"content\"]\r\n",
    "        date = article[\"publishedAt\"][:10]\r\n",
    "        sentiment = analyzer.polarity_scores(text)\r\n",
    "        compound = sentiment[\"compound\"]\r\n",
    "        pos = sentiment[\"pos\"]\r\n",
    "        neu = sentiment[\"neu\"]\r\n",
    "        neg = sentiment[\"neg\"]\r\n",
    "        \r\n",
    "        tesla_sentiments.append({\r\n",
    "            \"text\": text,\r\n",
    "            \"date\": date,\r\n",
    "            \"compound\": compound,\r\n",
    "            \"positive\": pos,\r\n",
    "            \"negative\": neg,\r\n",
    "            \"neutral\": neu\r\n",
    "            \r\n",
    "        })\r\n",
    "        \r\n",
    "    except AttributeError:\r\n",
    "        pass\r\n",
    "    \r\n",
    "# Create DataFrame\r\n",
    "tesla_df = pd.DataFrame(tesla_sentiments)\r\n",
    "\r\n",
    "# Reorder DataFrame columns\r\n",
    "cols = [\"date\", \"text\", \"compound\", \"positive\", \"negative\", \"neutral\"]\r\n",
    "tesla_df = tesla_df[cols]\r\n",
    "\r\n",
    "tesla_df.head()\r\n"
   ]
  },
  {
   "cell_type": "code",
   "execution_count": 7,
   "metadata": {},
   "outputs": [
    {
     "data": {
      "text/html": [
       "<div>\n",
       "<style scoped>\n",
       "    .dataframe tbody tr th:only-of-type {\n",
       "        vertical-align: middle;\n",
       "    }\n",
       "\n",
       "    .dataframe tbody tr th {\n",
       "        vertical-align: top;\n",
       "    }\n",
       "\n",
       "    .dataframe thead th {\n",
       "        text-align: right;\n",
       "    }\n",
       "</style>\n",
       "<table border=\"1\" class=\"dataframe\">\n",
       "  <thead>\n",
       "    <tr style=\"text-align: right;\">\n",
       "      <th></th>\n",
       "      <th>compound</th>\n",
       "      <th>positive</th>\n",
       "      <th>negative</th>\n",
       "      <th>neutral</th>\n",
       "    </tr>\n",
       "  </thead>\n",
       "  <tbody>\n",
       "    <tr>\n",
       "      <th>count</th>\n",
       "      <td>100.000000</td>\n",
       "      <td>100.000000</td>\n",
       "      <td>100.000000</td>\n",
       "      <td>100.000000</td>\n",
       "    </tr>\n",
       "    <tr>\n",
       "      <th>mean</th>\n",
       "      <td>0.124687</td>\n",
       "      <td>0.049600</td>\n",
       "      <td>0.022700</td>\n",
       "      <td>0.927710</td>\n",
       "    </tr>\n",
       "    <tr>\n",
       "      <th>std</th>\n",
       "      <td>0.372240</td>\n",
       "      <td>0.058857</td>\n",
       "      <td>0.044802</td>\n",
       "      <td>0.067081</td>\n",
       "    </tr>\n",
       "    <tr>\n",
       "      <th>min</th>\n",
       "      <td>-0.796400</td>\n",
       "      <td>0.000000</td>\n",
       "      <td>0.000000</td>\n",
       "      <td>0.787000</td>\n",
       "    </tr>\n",
       "    <tr>\n",
       "      <th>25%</th>\n",
       "      <td>0.000000</td>\n",
       "      <td>0.000000</td>\n",
       "      <td>0.000000</td>\n",
       "      <td>0.871750</td>\n",
       "    </tr>\n",
       "    <tr>\n",
       "      <th>50%</th>\n",
       "      <td>0.000000</td>\n",
       "      <td>0.000000</td>\n",
       "      <td>0.000000</td>\n",
       "      <td>0.935000</td>\n",
       "    </tr>\n",
       "    <tr>\n",
       "      <th>75%</th>\n",
       "      <td>0.421500</td>\n",
       "      <td>0.088750</td>\n",
       "      <td>0.008000</td>\n",
       "      <td>1.000000</td>\n",
       "    </tr>\n",
       "    <tr>\n",
       "      <th>max</th>\n",
       "      <td>0.831400</td>\n",
       "      <td>0.205000</td>\n",
       "      <td>0.213000</td>\n",
       "      <td>1.000000</td>\n",
       "    </tr>\n",
       "  </tbody>\n",
       "</table>\n",
       "</div>"
      ],
      "text/plain": [
       "         compound    positive    negative     neutral\n",
       "count  100.000000  100.000000  100.000000  100.000000\n",
       "mean     0.124687    0.049600    0.022700    0.927710\n",
       "std      0.372240    0.058857    0.044802    0.067081\n",
       "min     -0.796400    0.000000    0.000000    0.787000\n",
       "25%      0.000000    0.000000    0.000000    0.871750\n",
       "50%      0.000000    0.000000    0.000000    0.935000\n",
       "75%      0.421500    0.088750    0.008000    1.000000\n",
       "max      0.831400    0.205000    0.213000    1.000000"
      ]
     },
     "execution_count": 7,
     "metadata": {},
     "output_type": "execute_result"
    }
   ],
   "source": [
    "tesla_df.describe()\r\n"
   ]
  },
  {
   "cell_type": "code",
   "execution_count": null,
   "metadata": {},
   "outputs": [],
   "source": []
  }
 ],
 "metadata": {
  "interpreter": {
   "hash": "183bbf6827d058c2a2fb0f4acdc0420849dda2b4380af0e437e38c64d798d8b7"
  },
  "kernelspec": {
   "display_name": "Python 3.8.5 64-bit ('base': conda)",
   "name": "python3"
  },
  "language_info": {
   "codemirror_mode": {
    "name": "ipython",
    "version": 3
   },
   "file_extension": ".py",
   "mimetype": "text/x-python",
   "name": "python",
   "nbconvert_exporter": "python",
   "pygments_lexer": "ipython3",
   "version": "3.8.5"
  }
 },
 "nbformat": 4,
 "nbformat_minor": 5
}