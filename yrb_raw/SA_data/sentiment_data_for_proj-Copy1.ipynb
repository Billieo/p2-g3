{
 "cells": [
  {
   "cell_type": "code",
   "execution_count": 1,
   "metadata": {},
   "outputs": [],
   "source": [
    "# Getting Data for Sentiment Analysis"
   ]
  },
  {
   "cell_type": "code",
   "execution_count": 2,
   "metadata": {},
   "outputs": [],
   "source": [
    "import tweepy\r\n",
    "import pandas as pd\r\n",
    "import os\r\n",
    "from dotenv import load_dotenv"
   ]
  },
  {
   "cell_type": "code",
   "execution_count": 3,
   "metadata": {},
   "outputs": [
    {
     "data": {
      "text/plain": [
       "True"
      ]
     },
     "execution_count": 3,
     "metadata": {},
     "output_type": "execute_result"
    }
   ],
   "source": [
    "load_dotenv()"
   ]
  },
  {
   "cell_type": "code",
   "execution_count": 4,
   "metadata": {},
   "outputs": [],
   "source": [
    "consumer_key=os.getenv(\"consumer_key\")\r\n",
    "consumer_secret=os.getenv(\"consumer_secret\")\r\n",
    "access_token=os.getenv(\"access_token\")\r\n",
    "access_token_secret=os.getenv(\"access_token_secret\")\r\n"
   ]
  },
  {
   "cell_type": "code",
   "execution_count": 5,
   "metadata": {},
   "outputs": [],
   "source": [
    "auth = tweepy.OAuthHandler(consumer_key, consumer_secret)\r\n",
    "auth.set_access_token(access_token, access_token_secret)\r\n",
    "\r\n",
    "api = tweepy.API(auth)"
   ]
  },
  {
   "cell_type": "code",
   "execution_count": 20,
   "metadata": {},
   "outputs": [
    {
     "name": "stdout",
     "output_type": "stream",
     "text": [
      "What are the key topics for investors in EMEA as the global economy begins to recover? Kene Ejikeme, head of multi-asset platform sales in EMEA, explains in this episode of The Daily Check-In: https://t.co/SH762ANNrJ https://t.co/bCcnddU8T3\n"
     ]
    }
   ],
   "source": [
    "# to access a tweet from id: tesla - example: show the full tweet using 'full_text'\r\n",
    "cursor = tweepy.Cursor(api.user_timeline, id='goldmansachs', tweet_mode='extended').items(1)\r\n",
    "for i in cursor:\r\n",
    "    print(i.full_text)\r\n"
   ]
  },
  {
   "cell_type": "code",
   "execution_count": 21,
   "metadata": {},
   "outputs": [
    {
     "name": "stdout",
     "output_type": "stream",
     "text": [
      "['__class__', '__delattr__', '__dict__', '__dir__', '__doc__', '__eq__', '__format__', '__ge__', '__getattribute__', '__getstate__', '__gt__', '__hash__', '__init__', '__init_subclass__', '__le__', '__lt__', '__module__', '__ne__', '__new__', '__reduce__', '__reduce_ex__', '__repr__', '__setattr__', '__sizeof__', '__str__', '__subclasshook__', '__weakref__', '_api', '_json', 'author', 'contributors', 'coordinates', 'created_at', 'destroy', 'display_text_range', 'entities', 'extended_entities', 'favorite', 'favorite_count', 'favorited', 'full_text', 'geo', 'id', 'id_str', 'in_reply_to_screen_name', 'in_reply_to_status_id', 'in_reply_to_status_id_str', 'in_reply_to_user_id', 'in_reply_to_user_id_str', 'is_quote_status', 'lang', 'parse', 'parse_list', 'place', 'possibly_sensitive', 'retweet', 'retweet_count', 'retweeted', 'retweets', 'source', 'source_url', 'truncated', 'user']\n"
     ]
    }
   ],
   "source": [
    "# Creating variable 'Cursor' to navigate through Twitter from a specific userID, 'tesla'\r\n",
    "# The information of a single tweet. \r\n",
    "# For example, 'favorite' is containing the amount of likes for a tweet, 'full_text' is the text of the tweet\r\n",
    "cursor = tweepy.Cursor(api.user_timeline, id='goldmansachs', tweet_mode='extended').items(1)\r\n",
    "for i in cursor:\r\n",
    "    print(dir(i))"
   ]
  },
  {
   "cell_type": "code",
   "execution_count": 10,
   "metadata": {},
   "outputs": [],
   "source": [
    "number_of_tweets=200\r\n",
    "tweets=[]\r\n",
    "likes=[]\r\n",
    "time=[]\r\n",
    "\r\n",
    "for i in tweepy.Cursor(api.user_timeline, id='tesla', tweet_mode='extended').items(number_of_tweets):\r\n",
    "    tweets.append(i.full_text)\r\n",
    "    likes.append(i.favorite_count)\r\n",
    "    time.append(i.created_at)"
   ]
  },
  {
   "cell_type": "code",
   "execution_count": 11,
   "metadata": {},
   "outputs": [],
   "source": [
    "tesla_df = pd.DataFrame({'tweets':tweets,'likes':likes,'time':time})"
   ]
  },
  {
   "cell_type": "code",
   "execution_count": 12,
   "metadata": {},
   "outputs": [
    {
     "data": {
      "text/html": [
       "<div>\n",
       "<style scoped>\n",
       "    .dataframe tbody tr th:only-of-type {\n",
       "        vertical-align: middle;\n",
       "    }\n",
       "\n",
       "    .dataframe tbody tr th {\n",
       "        vertical-align: top;\n",
       "    }\n",
       "\n",
       "    .dataframe thead th {\n",
       "        text-align: right;\n",
       "    }\n",
       "</style>\n",
       "<table border=\"1\" class=\"dataframe\">\n",
       "  <thead>\n",
       "    <tr style=\"text-align: right;\">\n",
       "      <th></th>\n",
       "      <th>tweets</th>\n",
       "      <th>likes</th>\n",
       "      <th>time</th>\n",
       "    </tr>\n",
       "  </thead>\n",
       "  <tbody>\n",
       "    <tr>\n",
       "      <th>0</th>\n",
       "      <td>Production &amp;amp; deliveries in Q2 surpassed 20...</td>\n",
       "      <td>5646</td>\n",
       "      <td>2021-07-02 13:37:58</td>\n",
       "    </tr>\n",
       "    <tr>\n",
       "      <th>1</th>\n",
       "      <td>RT @elonmusk: @marcodzo @Tesla Sometimes peopl...</td>\n",
       "      <td>0</td>\n",
       "      <td>2021-06-25 22:22:22</td>\n",
       "    </tr>\n",
       "    <tr>\n",
       "      <th>2</th>\n",
       "      <td>RT @elonmusk: @Tesla Peak acceleration is over...</td>\n",
       "      <td>0</td>\n",
       "      <td>2021-06-18 22:46:55</td>\n",
       "    </tr>\n",
       "    <tr>\n",
       "      <th>3</th>\n",
       "      <td>Experiencing Plaid https://t.co/nipaxKbkjY</td>\n",
       "      <td>53172</td>\n",
       "      <td>2021-06-18 18:24:18</td>\n",
       "    </tr>\n",
       "    <tr>\n",
       "      <th>4</th>\n",
       "      <td>https://t.co/v9mFAeSY1v</td>\n",
       "      <td>13867</td>\n",
       "      <td>2021-06-16 17:11:21</td>\n",
       "    </tr>\n",
       "    <tr>\n",
       "      <th>...</th>\n",
       "      <td>...</td>\n",
       "      <td>...</td>\n",
       "      <td>...</td>\n",
       "    </tr>\n",
       "    <tr>\n",
       "      <th>195</th>\n",
       "      <td>Customer: There’s a dent on the front-ish-side...</td>\n",
       "      <td>13025</td>\n",
       "      <td>2019-08-30 20:05:20</td>\n",
       "    </tr>\n",
       "    <tr>\n",
       "      <th>196</th>\n",
       "      <td>Voilà, we’ve unlocked even more power in our E...</td>\n",
       "      <td>5245</td>\n",
       "      <td>2019-08-29 17:52:38</td>\n",
       "    </tr>\n",
       "    <tr>\n",
       "      <th>197</th>\n",
       "      <td>Algorithm update in progress</td>\n",
       "      <td>3287</td>\n",
       "      <td>2019-08-28 23:06:38</td>\n",
       "    </tr>\n",
       "    <tr>\n",
       "      <th>198</th>\n",
       "      <td>We're making some updates to Tesla Insurance a...</td>\n",
       "      <td>3516</td>\n",
       "      <td>2019-08-28 22:49:26</td>\n",
       "    </tr>\n",
       "    <tr>\n",
       "      <th>199</th>\n",
       "      <td>Tesla Insurance launches today in California t...</td>\n",
       "      <td>9261</td>\n",
       "      <td>2019-08-28 19:55:12</td>\n",
       "    </tr>\n",
       "  </tbody>\n",
       "</table>\n",
       "<p>200 rows × 3 columns</p>\n",
       "</div>"
      ],
      "text/plain": [
       "                                                tweets  likes  \\\n",
       "0    Production &amp; deliveries in Q2 surpassed 20...   5646   \n",
       "1    RT @elonmusk: @marcodzo @Tesla Sometimes peopl...      0   \n",
       "2    RT @elonmusk: @Tesla Peak acceleration is over...      0   \n",
       "3           Experiencing Plaid https://t.co/nipaxKbkjY  53172   \n",
       "4                              https://t.co/v9mFAeSY1v  13867   \n",
       "..                                                 ...    ...   \n",
       "195  Customer: There’s a dent on the front-ish-side...  13025   \n",
       "196  Voilà, we’ve unlocked even more power in our E...   5245   \n",
       "197                       Algorithm update in progress   3287   \n",
       "198  We're making some updates to Tesla Insurance a...   3516   \n",
       "199  Tesla Insurance launches today in California t...   9261   \n",
       "\n",
       "                   time  \n",
       "0   2021-07-02 13:37:58  \n",
       "1   2021-06-25 22:22:22  \n",
       "2   2021-06-18 22:46:55  \n",
       "3   2021-06-18 18:24:18  \n",
       "4   2021-06-16 17:11:21  \n",
       "..                  ...  \n",
       "195 2019-08-30 20:05:20  \n",
       "196 2019-08-29 17:52:38  \n",
       "197 2019-08-28 23:06:38  \n",
       "198 2019-08-28 22:49:26  \n",
       "199 2019-08-28 19:55:12  \n",
       "\n",
       "[200 rows x 3 columns]"
      ]
     },
     "execution_count": 12,
     "metadata": {},
     "output_type": "execute_result"
    }
   ],
   "source": [
    "tesla_df"
   ]
  },
  {
   "cell_type": "code",
   "execution_count": 13,
   "metadata": {},
   "outputs": [],
   "source": [
    "# this is reading it out to a csv. do the same for ford and gm, as well as the other industries that\r\n",
    "#bilikisu and Samuel need. We need to show the impact of tweets for our companies. \r\n",
    "# see code below\r\n"
   ]
  },
  {
   "cell_type": "code",
   "execution_count": 14,
   "metadata": {},
   "outputs": [],
   "source": [
    "# This allows the csv to be posted on your tree to the left \r\n",
    "tesla_df.to_csv('tesla.csv')"
   ]
  },
  {
   "cell_type": "markdown",
   "metadata": {},
   "source": []
  },
  {
   "cell_type": "code",
   "execution_count": 32,
   "metadata": {},
   "outputs": [],
   "source": [
    "# using the below lines to create the df above:\r\n",
    "#cursor = tweepy.Cursor(api.user_timeline, id='GM', tweet_mode='extended').items(1)\r\n",
    "for i in cursor:\r\n",
    "    print(i.full_text)"
   ]
  },
  {
   "cell_type": "code",
   "execution_count": 33,
   "metadata": {},
   "outputs": [],
   "source": [
    "number_of_tweets=200\r\n",
    "tweets=[]\r\n",
    "likes=[]\r\n",
    "time=[]\r\n",
    "\r\n",
    "for i in tweepy.Cursor(api.user_timeline, id='google', tweet_mode='extended').items(number_of_tweets):\r\n",
    "    tweets.append(i.full_text)\r\n",
    "    likes.append(i.favorite_count)\r\n",
    "    time.append(i.created_at)"
   ]
  },
  {
   "cell_type": "code",
   "execution_count": 34,
   "metadata": {},
   "outputs": [],
   "source": [
    "google_df = pd.DataFrame({'tweets':tweets,'likes':likes,'time':time})"
   ]
  },
  {
   "cell_type": "code",
   "execution_count": 35,
   "metadata": {},
   "outputs": [
    {
     "data": {
      "text/html": [
       "<div>\n",
       "<style scoped>\n",
       "    .dataframe tbody tr th:only-of-type {\n",
       "        vertical-align: middle;\n",
       "    }\n",
       "\n",
       "    .dataframe tbody tr th {\n",
       "        vertical-align: top;\n",
       "    }\n",
       "\n",
       "    .dataframe thead th {\n",
       "        text-align: right;\n",
       "    }\n",
       "</style>\n",
       "<table border=\"1\" class=\"dataframe\">\n",
       "  <thead>\n",
       "    <tr style=\"text-align: right;\">\n",
       "      <th></th>\n",
       "      <th>tweets</th>\n",
       "      <th>likes</th>\n",
       "      <th>time</th>\n",
       "    </tr>\n",
       "  </thead>\n",
       "  <tbody>\n",
       "    <tr>\n",
       "      <th>0</th>\n",
       "      <td>Update your Google Search widget for a home sc...</td>\n",
       "      <td>178</td>\n",
       "      <td>2021-07-02 18:10:28</td>\n",
       "    </tr>\n",
       "    <tr>\n",
       "      <th>1</th>\n",
       "      <td>There’s no place like home(screen).\\n \\nPerson...</td>\n",
       "      <td>338</td>\n",
       "      <td>2021-07-02 18:03:06</td>\n",
       "    </tr>\n",
       "    <tr>\n",
       "      <th>2</th>\n",
       "      <td>@Grandfather96 Hi, Sreehari. Mind if we jump i...</td>\n",
       "      <td>0</td>\n",
       "      <td>2021-07-02 17:59:54</td>\n",
       "    </tr>\n",
       "    <tr>\n",
       "      <th>3</th>\n",
       "      <td>@aawash_neupane Hi Aawash. Let's see what we c...</td>\n",
       "      <td>0</td>\n",
       "      <td>2021-07-02 17:30:08</td>\n",
       "    </tr>\n",
       "    <tr>\n",
       "      <th>4</th>\n",
       "      <td>@NChaudh56666328 Hi there. Let's see what we c...</td>\n",
       "      <td>0</td>\n",
       "      <td>2021-07-02 17:29:09</td>\n",
       "    </tr>\n",
       "    <tr>\n",
       "      <th>...</th>\n",
       "      <td>...</td>\n",
       "      <td>...</td>\n",
       "      <td>...</td>\n",
       "    </tr>\n",
       "    <tr>\n",
       "      <th>195</th>\n",
       "      <td>@larcyrussiello_ Hi there. Do you have 2-Step ...</td>\n",
       "      <td>0</td>\n",
       "      <td>2021-06-29 04:19:49</td>\n",
       "    </tr>\n",
       "    <tr>\n",
       "      <th>196</th>\n",
       "      <td>@Bharatmaske18 Hi Bharat. Let's see what we ca...</td>\n",
       "      <td>0</td>\n",
       "      <td>2021-06-29 04:05:44</td>\n",
       "    </tr>\n",
       "    <tr>\n",
       "      <th>197</th>\n",
       "      <td>@Dii_shum Hi Shubham. Have you already tried r...</td>\n",
       "      <td>0</td>\n",
       "      <td>2021-06-29 03:59:05</td>\n",
       "    </tr>\n",
       "    <tr>\n",
       "      <th>198</th>\n",
       "      <td>@abundance93 We suggest reaching out to the Ac...</td>\n",
       "      <td>1</td>\n",
       "      <td>2021-06-29 03:47:11</td>\n",
       "    </tr>\n",
       "    <tr>\n",
       "      <th>199</th>\n",
       "      <td>@Rishabh74731586 Hi Rishabh. Do you have 2-Ste...</td>\n",
       "      <td>0</td>\n",
       "      <td>2021-06-29 03:44:15</td>\n",
       "    </tr>\n",
       "  </tbody>\n",
       "</table>\n",
       "<p>200 rows × 3 columns</p>\n",
       "</div>"
      ],
      "text/plain": [
       "                                                tweets  likes  \\\n",
       "0    Update your Google Search widget for a home sc...    178   \n",
       "1    There’s no place like home(screen).\\n \\nPerson...    338   \n",
       "2    @Grandfather96 Hi, Sreehari. Mind if we jump i...      0   \n",
       "3    @aawash_neupane Hi Aawash. Let's see what we c...      0   \n",
       "4    @NChaudh56666328 Hi there. Let's see what we c...      0   \n",
       "..                                                 ...    ...   \n",
       "195  @larcyrussiello_ Hi there. Do you have 2-Step ...      0   \n",
       "196  @Bharatmaske18 Hi Bharat. Let's see what we ca...      0   \n",
       "197  @Dii_shum Hi Shubham. Have you already tried r...      0   \n",
       "198  @abundance93 We suggest reaching out to the Ac...      1   \n",
       "199  @Rishabh74731586 Hi Rishabh. Do you have 2-Ste...      0   \n",
       "\n",
       "                   time  \n",
       "0   2021-07-02 18:10:28  \n",
       "1   2021-07-02 18:03:06  \n",
       "2   2021-07-02 17:59:54  \n",
       "3   2021-07-02 17:30:08  \n",
       "4   2021-07-02 17:29:09  \n",
       "..                  ...  \n",
       "195 2021-06-29 04:19:49  \n",
       "196 2021-06-29 04:05:44  \n",
       "197 2021-06-29 03:59:05  \n",
       "198 2021-06-29 03:47:11  \n",
       "199 2021-06-29 03:44:15  \n",
       "\n",
       "[200 rows x 3 columns]"
      ]
     },
     "execution_count": 35,
     "metadata": {},
     "output_type": "execute_result"
    }
   ],
   "source": [
    "google_df"
   ]
  },
  {
   "cell_type": "code",
   "execution_count": 36,
   "metadata": {},
   "outputs": [],
   "source": [
    "# This allows the csv to be posted on your tree to the left \r\n",
    "google_df.to_csv('google.csv')"
   ]
  },
  {
   "cell_type": "code",
   "execution_count": null,
   "metadata": {},
   "outputs": [],
   "source": []
  }
 ],
 "metadata": {
  "interpreter": {
   "hash": "183bbf6827d058c2a2fb0f4acdc0420849dda2b4380af0e437e38c64d798d8b7"
  },
  "kernelspec": {
   "display_name": "Python 3.8.5 64-bit ('base': conda)",
   "name": "python3"
  },
  "language_info": {
   "codemirror_mode": {
    "name": "ipython",
    "version": 3
   },
   "file_extension": ".py",
   "mimetype": "text/x-python",
   "name": "python",
   "nbconvert_exporter": "python",
   "pygments_lexer": "ipython3",
   "version": "3.8.5"
  }
 },
 "nbformat": 4,
 "nbformat_minor": 5
}