{
 "cells": [
  {
   "cell_type": "code",
   "execution_count": 1,
   "metadata": {},
   "outputs": [],
   "source": [
    "# Getting Data for Sentiment Analysis"
   ]
  },
  {
   "cell_type": "code",
   "execution_count": 1,
   "metadata": {},
   "outputs": [],
   "source": [
    "import tweepy\r\n",
    "import pandas as pd\r\n",
    "import os\r\n",
    "from dotenv import load_dotenv"
   ]
  },
  {
   "cell_type": "code",
   "execution_count": 2,
   "metadata": {},
   "outputs": [
    {
     "data": {
      "text/plain": [
       "True"
      ]
     },
     "execution_count": 2,
     "metadata": {},
     "output_type": "execute_result"
    }
   ],
   "source": [
    "load_dotenv()"
   ]
  },
  {
   "cell_type": "code",
   "execution_count": 3,
   "metadata": {},
   "outputs": [],
   "source": [
    "consumer_key=os.getenv(\"consumer_key\")\r\n",
    "consumer_secret=os.getenv(\"consumer_secret\")\r\n",
    "access_token=os.getenv(\"access_token\")\r\n",
    "access_token_secret=os.getenv(\"access_token_secret\")\r\n"
   ]
  },
  {
   "cell_type": "code",
   "execution_count": 4,
   "metadata": {},
   "outputs": [],
   "source": [
    "auth = tweepy.OAuthHandler(consumer_key, consumer_secret)\r\n",
    "auth.set_access_token(access_token, access_token_secret)\r\n",
    "\r\n",
    "api = tweepy.API(auth)"
   ]
  },
  {
   "cell_type": "code",
   "execution_count": 5,
   "metadata": {},
   "outputs": [
    {
     "name": "stdout",
     "output_type": "stream",
     "text": [
      "Status(_api=<tweepy.api.API object at 0x000001F47C0797C0>, _json={'created_at': 'Fri Jun 25 22:22:22 +0000 2021', 'id': 1408551166875680769, 'id_str': '1408551166875680769', 'full_text': 'RT @elonmusk: @marcodzo @Tesla Sometimes people think it is performance, but safety is always the primary design requirement for a Tesla', 'truncated': False, 'display_text_range': [0, 136], 'entities': {'hashtags': [], 'symbols': [], 'user_mentions': [{'screen_name': 'elonmusk', 'name': 'Elon Musk', 'id': 44196397, 'id_str': '44196397', 'indices': [3, 12]}, {'screen_name': 'marcodzo', 'name': \"Marco \\U0001f90c D'Ascenzo\", 'id': 11584062, 'id_str': '11584062', 'indices': [14, 23]}, {'screen_name': 'Tesla', 'name': 'Tesla', 'id': 13298072, 'id_str': '13298072', 'indices': [24, 30]}], 'urls': []}, 'source': '<a href=\"http://twitter.com/download/iphone\" rel=\"nofollow\">Twitter for iPhone</a>', 'in_reply_to_status_id': None, 'in_reply_to_status_id_str': None, 'in_reply_to_user_id': None, 'in_reply_to_user_id_str': None, 'in_reply_to_screen_name': None, 'user': {'id': 13298072, 'id_str': '13298072', 'name': 'Tesla', 'screen_name': 'Tesla', 'location': '', 'description': 'electric cars, giant batteries and solar', 'url': 'https://t.co/CCVEIYRgZJ', 'entities': {'url': {'urls': [{'url': 'https://t.co/CCVEIYRgZJ', 'expanded_url': 'https://www.tesla.com', 'display_url': 'tesla.com', 'indices': [0, 23]}]}, 'description': {'urls': []}}, 'protected': False, 'followers_count': 10441581, 'friends_count': 78, 'listed_count': 17918, 'created_at': 'Sun Feb 10 01:12:32 +0000 2008', 'favourites_count': 3549, 'utc_offset': None, 'time_zone': None, 'geo_enabled': True, 'verified': True, 'statuses_count': 7679, 'lang': None, 'contributors_enabled': False, 'is_translator': False, 'is_translation_enabled': False, 'profile_background_color': '666666', 'profile_background_image_url': 'http://abs.twimg.com/images/themes/theme1/bg.png', 'profile_background_image_url_https': 'https://abs.twimg.com/images/themes/theme1/bg.png', 'profile_background_tile': False, 'profile_image_url': 'http://pbs.twimg.com/profile_images/1337607516008501250/6Ggc4S5n_normal.png', 'profile_image_url_https': 'https://pbs.twimg.com/profile_images/1337607516008501250/6Ggc4S5n_normal.png', 'profile_banner_url': 'https://pbs.twimg.com/profile_banners/13298072/1554236549', 'profile_link_color': 'C90000', 'profile_sidebar_border_color': 'FFFFFF', 'profile_sidebar_fill_color': 'F5EDF5', 'profile_text_color': '555555', 'profile_use_background_image': True, 'has_extended_profile': False, 'default_profile': False, 'default_profile_image': False, 'following': False, 'follow_request_sent': False, 'notifications': False, 'translator_type': 'none', 'withheld_in_countries': []}, 'geo': None, 'coordinates': None, 'place': None, 'contributors': None, 'retweeted_status': {'created_at': 'Fri Jun 25 21:59:41 +0000 2021', 'id': 1408545456746020866, 'id_str': '1408545456746020866', 'full_text': '@marcodzo @Tesla Sometimes people think it is performance, but safety is always the primary design requirement for a Tesla', 'truncated': False, 'display_text_range': [17, 122], 'entities': {'hashtags': [], 'symbols': [], 'user_mentions': [{'screen_name': 'marcodzo', 'name': \"Marco \\U0001f90c D'Ascenzo\", 'id': 11584062, 'id_str': '11584062', 'indices': [0, 9]}, {'screen_name': 'Tesla', 'name': 'Tesla', 'id': 13298072, 'id_str': '13298072', 'indices': [10, 16]}], 'urls': []}, 'source': '<a href=\"http://twitter.com/download/iphone\" rel=\"nofollow\">Twitter for iPhone</a>', 'in_reply_to_status_id': 1408468812261990400, 'in_reply_to_status_id_str': '1408468812261990400', 'in_reply_to_user_id': 11584062, 'in_reply_to_user_id_str': '11584062', 'in_reply_to_screen_name': 'marcodzo', 'user': {'id': 44196397, 'id_str': '44196397', 'name': 'Elon Musk', 'screen_name': 'elonmusk', 'location': '', 'description': '', 'url': None, 'entities': {'description': {'urls': []}}, 'protected': False, 'followers_count': 57729923, 'friends_count': 108, 'listed_count': 74849, 'created_at': 'Tue Jun 02 20:12:29 +0000 2009', 'favourites_count': 9241, 'utc_offset': None, 'time_zone': None, 'geo_enabled': False, 'verified': True, 'statuses_count': 14663, 'lang': None, 'contributors_enabled': False, 'is_translator': False, 'is_translation_enabled': False, 'profile_background_color': 'C0DEED', 'profile_background_image_url': 'http://abs.twimg.com/images/themes/theme1/bg.png', 'profile_background_image_url_https': 'https://abs.twimg.com/images/themes/theme1/bg.png', 'profile_background_tile': False, 'profile_image_url': 'http://pbs.twimg.com/profile_images/1404334078388670466/DgO3WL4S_normal.jpg', 'profile_image_url_https': 'https://pbs.twimg.com/profile_images/1404334078388670466/DgO3WL4S_normal.jpg', 'profile_banner_url': 'https://pbs.twimg.com/profile_banners/44196397/1576183471', 'profile_link_color': '0084B4', 'profile_sidebar_border_color': 'C0DEED', 'profile_sidebar_fill_color': 'DDEEF6', 'profile_text_color': '333333', 'profile_use_background_image': True, 'has_extended_profile': True, 'default_profile': False, 'default_profile_image': False, 'following': True, 'follow_request_sent': False, 'notifications': False, 'translator_type': 'none', 'withheld_in_countries': []}, 'geo': None, 'coordinates': None, 'place': None, 'contributors': None, 'is_quote_status': False, 'retweet_count': 2802, 'favorite_count': 52832, 'favorited': False, 'retweeted': False, 'lang': 'en'}, 'is_quote_status': False, 'retweet_count': 2802, 'favorite_count': 0, 'favorited': False, 'retweeted': False, 'lang': 'en'}, created_at=datetime.datetime(2021, 6, 25, 22, 22, 22), id=1408551166875680769, id_str='1408551166875680769', full_text='RT @elonmusk: @marcodzo @Tesla Sometimes people think it is performance, but safety is always the primary design requirement for a Tesla', truncated=False, display_text_range=[0, 136], entities={'hashtags': [], 'symbols': [], 'user_mentions': [{'screen_name': 'elonmusk', 'name': 'Elon Musk', 'id': 44196397, 'id_str': '44196397', 'indices': [3, 12]}, {'screen_name': 'marcodzo', 'name': \"Marco \\U0001f90c D'Ascenzo\", 'id': 11584062, 'id_str': '11584062', 'indices': [14, 23]}, {'screen_name': 'Tesla', 'name': 'Tesla', 'id': 13298072, 'id_str': '13298072', 'indices': [24, 30]}], 'urls': []}, source='Twitter for iPhone', source_url='http://twitter.com/download/iphone', in_reply_to_status_id=None, in_reply_to_status_id_str=None, in_reply_to_user_id=None, in_reply_to_user_id_str=None, in_reply_to_screen_name=None, author=User(_api=<tweepy.api.API object at 0x000001F47C0797C0>, _json={'id': 13298072, 'id_str': '13298072', 'name': 'Tesla', 'screen_name': 'Tesla', 'location': '', 'description': 'electric cars, giant batteries and solar', 'url': 'https://t.co/CCVEIYRgZJ', 'entities': {'url': {'urls': [{'url': 'https://t.co/CCVEIYRgZJ', 'expanded_url': 'https://www.tesla.com', 'display_url': 'tesla.com', 'indices': [0, 23]}]}, 'description': {'urls': []}}, 'protected': False, 'followers_count': 10441581, 'friends_count': 78, 'listed_count': 17918, 'created_at': 'Sun Feb 10 01:12:32 +0000 2008', 'favourites_count': 3549, 'utc_offset': None, 'time_zone': None, 'geo_enabled': True, 'verified': True, 'statuses_count': 7679, 'lang': None, 'contributors_enabled': False, 'is_translator': False, 'is_translation_enabled': False, 'profile_background_color': '666666', 'profile_background_image_url': 'http://abs.twimg.com/images/themes/theme1/bg.png', 'profile_background_image_url_https': 'https://abs.twimg.com/images/themes/theme1/bg.png', 'profile_background_tile': False, 'profile_image_url': 'http://pbs.twimg.com/profile_images/1337607516008501250/6Ggc4S5n_normal.png', 'profile_image_url_https': 'https://pbs.twimg.com/profile_images/1337607516008501250/6Ggc4S5n_normal.png', 'profile_banner_url': 'https://pbs.twimg.com/profile_banners/13298072/1554236549', 'profile_link_color': 'C90000', 'profile_sidebar_border_color': 'FFFFFF', 'profile_sidebar_fill_color': 'F5EDF5', 'profile_text_color': '555555', 'profile_use_background_image': True, 'has_extended_profile': False, 'default_profile': False, 'default_profile_image': False, 'following': False, 'follow_request_sent': False, 'notifications': False, 'translator_type': 'none', 'withheld_in_countries': []}, id=13298072, id_str='13298072', name='Tesla', screen_name='Tesla', location='', description='electric cars, giant batteries and solar', url='https://t.co/CCVEIYRgZJ', entities={'url': {'urls': [{'url': 'https://t.co/CCVEIYRgZJ', 'expanded_url': 'https://www.tesla.com', 'display_url': 'tesla.com', 'indices': [0, 23]}]}, 'description': {'urls': []}}, protected=False, followers_count=10441581, friends_count=78, listed_count=17918, created_at=datetime.datetime(2008, 2, 10, 1, 12, 32), favourites_count=3549, utc_offset=None, time_zone=None, geo_enabled=True, verified=True, statuses_count=7679, lang=None, contributors_enabled=False, is_translator=False, is_translation_enabled=False, profile_background_color='666666', profile_background_image_url='http://abs.twimg.com/images/themes/theme1/bg.png', profile_background_image_url_https='https://abs.twimg.com/images/themes/theme1/bg.png', profile_background_tile=False, profile_image_url='http://pbs.twimg.com/profile_images/1337607516008501250/6Ggc4S5n_normal.png', profile_image_url_https='https://pbs.twimg.com/profile_images/1337607516008501250/6Ggc4S5n_normal.png', profile_banner_url='https://pbs.twimg.com/profile_banners/13298072/1554236549', profile_link_color='C90000', profile_sidebar_border_color='FFFFFF', profile_sidebar_fill_color='F5EDF5', profile_text_color='555555', profile_use_background_image=True, has_extended_profile=False, default_profile=False, default_profile_image=False, following=False, follow_request_sent=False, notifications=False, translator_type='none', withheld_in_countries=[]), user=User(_api=<tweepy.api.API object at 0x000001F47C0797C0>, _json={'id': 13298072, 'id_str': '13298072', 'name': 'Tesla', 'screen_name': 'Tesla', 'location': '', 'description': 'electric cars, giant batteries and solar', 'url': 'https://t.co/CCVEIYRgZJ', 'entities': {'url': {'urls': [{'url': 'https://t.co/CCVEIYRgZJ', 'expanded_url': 'https://www.tesla.com', 'display_url': 'tesla.com', 'indices': [0, 23]}]}, 'description': {'urls': []}}, 'protected': False, 'followers_count': 10441581, 'friends_count': 78, 'listed_count': 17918, 'created_at': 'Sun Feb 10 01:12:32 +0000 2008', 'favourites_count': 3549, 'utc_offset': None, 'time_zone': None, 'geo_enabled': True, 'verified': True, 'statuses_count': 7679, 'lang': None, 'contributors_enabled': False, 'is_translator': False, 'is_translation_enabled': False, 'profile_background_color': '666666', 'profile_background_image_url': 'http://abs.twimg.com/images/themes/theme1/bg.png', 'profile_background_image_url_https': 'https://abs.twimg.com/images/themes/theme1/bg.png', 'profile_background_tile': False, 'profile_image_url': 'http://pbs.twimg.com/profile_images/1337607516008501250/6Ggc4S5n_normal.png', 'profile_image_url_https': 'https://pbs.twimg.com/profile_images/1337607516008501250/6Ggc4S5n_normal.png', 'profile_banner_url': 'https://pbs.twimg.com/profile_banners/13298072/1554236549', 'profile_link_color': 'C90000', 'profile_sidebar_border_color': 'FFFFFF', 'profile_sidebar_fill_color': 'F5EDF5', 'profile_text_color': '555555', 'profile_use_background_image': True, 'has_extended_profile': False, 'default_profile': False, 'default_profile_image': False, 'following': False, 'follow_request_sent': False, 'notifications': False, 'translator_type': 'none', 'withheld_in_countries': []}, id=13298072, id_str='13298072', name='Tesla', screen_name='Tesla', location='', description='electric cars, giant batteries and solar', url='https://t.co/CCVEIYRgZJ', entities={'url': {'urls': [{'url': 'https://t.co/CCVEIYRgZJ', 'expanded_url': 'https://www.tesla.com', 'display_url': 'tesla.com', 'indices': [0, 23]}]}, 'description': {'urls': []}}, protected=False, followers_count=10441581, friends_count=78, listed_count=17918, created_at=datetime.datetime(2008, 2, 10, 1, 12, 32), favourites_count=3549, utc_offset=None, time_zone=None, geo_enabled=True, verified=True, statuses_count=7679, lang=None, contributors_enabled=False, is_translator=False, is_translation_enabled=False, profile_background_color='666666', profile_background_image_url='http://abs.twimg.com/images/themes/theme1/bg.png', profile_background_image_url_https='https://abs.twimg.com/images/themes/theme1/bg.png', profile_background_tile=False, profile_image_url='http://pbs.twimg.com/profile_images/1337607516008501250/6Ggc4S5n_normal.png', profile_image_url_https='https://pbs.twimg.com/profile_images/1337607516008501250/6Ggc4S5n_normal.png', profile_banner_url='https://pbs.twimg.com/profile_banners/13298072/1554236549', profile_link_color='C90000', profile_sidebar_border_color='FFFFFF', profile_sidebar_fill_color='F5EDF5', profile_text_color='555555', profile_use_background_image=True, has_extended_profile=False, default_profile=False, default_profile_image=False, following=False, follow_request_sent=False, notifications=False, translator_type='none', withheld_in_countries=[]), geo=None, coordinates=None, place=None, contributors=None, retweeted_status=Status(_api=<tweepy.api.API object at 0x000001F47C0797C0>, _json={'created_at': 'Fri Jun 25 21:59:41 +0000 2021', 'id': 1408545456746020866, 'id_str': '1408545456746020866', 'full_text': '@marcodzo @Tesla Sometimes people think it is performance, but safety is always the primary design requirement for a Tesla', 'truncated': False, 'display_text_range': [17, 122], 'entities': {'hashtags': [], 'symbols': [], 'user_mentions': [{'screen_name': 'marcodzo', 'name': \"Marco \\U0001f90c D'Ascenzo\", 'id': 11584062, 'id_str': '11584062', 'indices': [0, 9]}, {'screen_name': 'Tesla', 'name': 'Tesla', 'id': 13298072, 'id_str': '13298072', 'indices': [10, 16]}], 'urls': []}, 'source': '<a href=\"http://twitter.com/download/iphone\" rel=\"nofollow\">Twitter for iPhone</a>', 'in_reply_to_status_id': 1408468812261990400, 'in_reply_to_status_id_str': '1408468812261990400', 'in_reply_to_user_id': 11584062, 'in_reply_to_user_id_str': '11584062', 'in_reply_to_screen_name': 'marcodzo', 'user': {'id': 44196397, 'id_str': '44196397', 'name': 'Elon Musk', 'screen_name': 'elonmusk', 'location': '', 'description': '', 'url': None, 'entities': {'description': {'urls': []}}, 'protected': False, 'followers_count': 57729923, 'friends_count': 108, 'listed_count': 74849, 'created_at': 'Tue Jun 02 20:12:29 +0000 2009', 'favourites_count': 9241, 'utc_offset': None, 'time_zone': None, 'geo_enabled': False, 'verified': True, 'statuses_count': 14663, 'lang': None, 'contributors_enabled': False, 'is_translator': False, 'is_translation_enabled': False, 'profile_background_color': 'C0DEED', 'profile_background_image_url': 'http://abs.twimg.com/images/themes/theme1/bg.png', 'profile_background_image_url_https': 'https://abs.twimg.com/images/themes/theme1/bg.png', 'profile_background_tile': False, 'profile_image_url': 'http://pbs.twimg.com/profile_images/1404334078388670466/DgO3WL4S_normal.jpg', 'profile_image_url_https': 'https://pbs.twimg.com/profile_images/1404334078388670466/DgO3WL4S_normal.jpg', 'profile_banner_url': 'https://pbs.twimg.com/profile_banners/44196397/1576183471', 'profile_link_color': '0084B4', 'profile_sidebar_border_color': 'C0DEED', 'profile_sidebar_fill_color': 'DDEEF6', 'profile_text_color': '333333', 'profile_use_background_image': True, 'has_extended_profile': True, 'default_profile': False, 'default_profile_image': False, 'following': True, 'follow_request_sent': False, 'notifications': False, 'translator_type': 'none', 'withheld_in_countries': []}, 'geo': None, 'coordinates': None, 'place': None, 'contributors': None, 'is_quote_status': False, 'retweet_count': 2802, 'favorite_count': 52832, 'favorited': False, 'retweeted': False, 'lang': 'en'}, created_at=datetime.datetime(2021, 6, 25, 21, 59, 41), id=1408545456746020866, id_str='1408545456746020866', full_text='@marcodzo @Tesla Sometimes people think it is performance, but safety is always the primary design requirement for a Tesla', truncated=False, display_text_range=[17, 122], entities={'hashtags': [], 'symbols': [], 'user_mentions': [{'screen_name': 'marcodzo', 'name': \"Marco \\U0001f90c D'Ascenzo\", 'id': 11584062, 'id_str': '11584062', 'indices': [0, 9]}, {'screen_name': 'Tesla', 'name': 'Tesla', 'id': 13298072, 'id_str': '13298072', 'indices': [10, 16]}], 'urls': []}, source='Twitter for iPhone', source_url='http://twitter.com/download/iphone', in_reply_to_status_id=1408468812261990400, in_reply_to_status_id_str='1408468812261990400', in_reply_to_user_id=11584062, in_reply_to_user_id_str='11584062', in_reply_to_screen_name='marcodzo', author=User(_api=<tweepy.api.API object at 0x000001F47C0797C0>, _json={'id': 44196397, 'id_str': '44196397', 'name': 'Elon Musk', 'screen_name': 'elonmusk', 'location': '', 'description': '', 'url': None, 'entities': {'description': {'urls': []}}, 'protected': False, 'followers_count': 57729923, 'friends_count': 108, 'listed_count': 74849, 'created_at': 'Tue Jun 02 20:12:29 +0000 2009', 'favourites_count': 9241, 'utc_offset': None, 'time_zone': None, 'geo_enabled': False, 'verified': True, 'statuses_count': 14663, 'lang': None, 'contributors_enabled': False, 'is_translator': False, 'is_translation_enabled': False, 'profile_background_color': 'C0DEED', 'profile_background_image_url': 'http://abs.twimg.com/images/themes/theme1/bg.png', 'profile_background_image_url_https': 'https://abs.twimg.com/images/themes/theme1/bg.png', 'profile_background_tile': False, 'profile_image_url': 'http://pbs.twimg.com/profile_images/1404334078388670466/DgO3WL4S_normal.jpg', 'profile_image_url_https': 'https://pbs.twimg.com/profile_images/1404334078388670466/DgO3WL4S_normal.jpg', 'profile_banner_url': 'https://pbs.twimg.com/profile_banners/44196397/1576183471', 'profile_link_color': '0084B4', 'profile_sidebar_border_color': 'C0DEED', 'profile_sidebar_fill_color': 'DDEEF6', 'profile_text_color': '333333', 'profile_use_background_image': True, 'has_extended_profile': True, 'default_profile': False, 'default_profile_image': False, 'following': True, 'follow_request_sent': False, 'notifications': False, 'translator_type': 'none', 'withheld_in_countries': []}, id=44196397, id_str='44196397', name='Elon Musk', screen_name='elonmusk', location='', description='', url=None, entities={'description': {'urls': []}}, protected=False, followers_count=57729923, friends_count=108, listed_count=74849, created_at=datetime.datetime(2009, 6, 2, 20, 12, 29), favourites_count=9241, utc_offset=None, time_zone=None, geo_enabled=False, verified=True, statuses_count=14663, lang=None, contributors_enabled=False, is_translator=False, is_translation_enabled=False, profile_background_color='C0DEED', profile_background_image_url='http://abs.twimg.com/images/themes/theme1/bg.png', profile_background_image_url_https='https://abs.twimg.com/images/themes/theme1/bg.png', profile_background_tile=False, profile_image_url='http://pbs.twimg.com/profile_images/1404334078388670466/DgO3WL4S_normal.jpg', profile_image_url_https='https://pbs.twimg.com/profile_images/1404334078388670466/DgO3WL4S_normal.jpg', profile_banner_url='https://pbs.twimg.com/profile_banners/44196397/1576183471', profile_link_color='0084B4', profile_sidebar_border_color='C0DEED', profile_sidebar_fill_color='DDEEF6', profile_text_color='333333', profile_use_background_image=True, has_extended_profile=True, default_profile=False, default_profile_image=False, following=True, follow_request_sent=False, notifications=False, translator_type='none', withheld_in_countries=[]), user=User(_api=<tweepy.api.API object at 0x000001F47C0797C0>, _json={'id': 44196397, 'id_str': '44196397', 'name': 'Elon Musk', 'screen_name': 'elonmusk', 'location': '', 'description': '', 'url': None, 'entities': {'description': {'urls': []}}, 'protected': False, 'followers_count': 57729923, 'friends_count': 108, 'listed_count': 74849, 'created_at': 'Tue Jun 02 20:12:29 +0000 2009', 'favourites_count': 9241, 'utc_offset': None, 'time_zone': None, 'geo_enabled': False, 'verified': True, 'statuses_count': 14663, 'lang': None, 'contributors_enabled': False, 'is_translator': False, 'is_translation_enabled': False, 'profile_background_color': 'C0DEED', 'profile_background_image_url': 'http://abs.twimg.com/images/themes/theme1/bg.png', 'profile_background_image_url_https': 'https://abs.twimg.com/images/themes/theme1/bg.png', 'profile_background_tile': False, 'profile_image_url': 'http://pbs.twimg.com/profile_images/1404334078388670466/DgO3WL4S_normal.jpg', 'profile_image_url_https': 'https://pbs.twimg.com/profile_images/1404334078388670466/DgO3WL4S_normal.jpg', 'profile_banner_url': 'https://pbs.twimg.com/profile_banners/44196397/1576183471', 'profile_link_color': '0084B4', 'profile_sidebar_border_color': 'C0DEED', 'profile_sidebar_fill_color': 'DDEEF6', 'profile_text_color': '333333', 'profile_use_background_image': True, 'has_extended_profile': True, 'default_profile': False, 'default_profile_image': False, 'following': True, 'follow_request_sent': False, 'notifications': False, 'translator_type': 'none', 'withheld_in_countries': []}, id=44196397, id_str='44196397', name='Elon Musk', screen_name='elonmusk', location='', description='', url=None, entities={'description': {'urls': []}}, protected=False, followers_count=57729923, friends_count=108, listed_count=74849, created_at=datetime.datetime(2009, 6, 2, 20, 12, 29), favourites_count=9241, utc_offset=None, time_zone=None, geo_enabled=False, verified=True, statuses_count=14663, lang=None, contributors_enabled=False, is_translator=False, is_translation_enabled=False, profile_background_color='C0DEED', profile_background_image_url='http://abs.twimg.com/images/themes/theme1/bg.png', profile_background_image_url_https='https://abs.twimg.com/images/themes/theme1/bg.png', profile_background_tile=False, profile_image_url='http://pbs.twimg.com/profile_images/1404334078388670466/DgO3WL4S_normal.jpg', profile_image_url_https='https://pbs.twimg.com/profile_images/1404334078388670466/DgO3WL4S_normal.jpg', profile_banner_url='https://pbs.twimg.com/profile_banners/44196397/1576183471', profile_link_color='0084B4', profile_sidebar_border_color='C0DEED', profile_sidebar_fill_color='DDEEF6', profile_text_color='333333', profile_use_background_image=True, has_extended_profile=True, default_profile=False, default_profile_image=False, following=True, follow_request_sent=False, notifications=False, translator_type='none', withheld_in_countries=[]), geo=None, coordinates=None, place=None, contributors=None, is_quote_status=False, retweet_count=2802, favorite_count=52832, favorited=False, retweeted=False, lang='en'), is_quote_status=False, retweet_count=2802, favorite_count=0, favorited=False, retweeted=False, lang='en')\n"
     ]
    }
   ],
   "source": [
    "# Creating variable 'Cursor' to navigate through Twitter from a specific userID, 'elonmusk'\r\n",
    "#This brings up a json file.\r\n",
    "cursor = tweepy.Cursor(api.user_timeline, id='tesla', tweet_mode='extended').items(1)\r\n",
    "for i in cursor:\r\n",
    "    print(i)"
   ]
  },
  {
   "cell_type": "code",
   "execution_count": 6,
   "metadata": {},
   "outputs": [
    {
     "name": "stdout",
     "output_type": "stream",
     "text": [
      "RT @elonmusk: @marcodzo @Tesla Sometimes people think it is performance, but safety is always the primary design requirement for a Tesla\n"
     ]
    }
   ],
   "source": [
    "# to access a tweet from id: tesla - example: show the full tweet using 'full_text'\r\n",
    "cursor = tweepy.Cursor(api.user_timeline, id='tesla', tweet_mode='extended').items(1)\r\n",
    "for i in cursor:\r\n",
    "    print(i.full_text)\r\n"
   ]
  },
  {
   "cell_type": "code",
   "execution_count": 7,
   "metadata": {},
   "outputs": [
    {
     "name": "stdout",
     "output_type": "stream",
     "text": [
      "['__class__', '__delattr__', '__dict__', '__dir__', '__doc__', '__eq__', '__format__', '__ge__', '__getattribute__', '__getstate__', '__gt__', '__hash__', '__init__', '__init_subclass__', '__le__', '__lt__', '__module__', '__ne__', '__new__', '__reduce__', '__reduce_ex__', '__repr__', '__setattr__', '__sizeof__', '__str__', '__subclasshook__', '__weakref__', '_api', '_json', 'author', 'contributors', 'coordinates', 'created_at', 'destroy', 'display_text_range', 'entities', 'favorite', 'favorite_count', 'favorited', 'full_text', 'geo', 'id', 'id_str', 'in_reply_to_screen_name', 'in_reply_to_status_id', 'in_reply_to_status_id_str', 'in_reply_to_user_id', 'in_reply_to_user_id_str', 'is_quote_status', 'lang', 'parse', 'parse_list', 'place', 'retweet', 'retweet_count', 'retweeted', 'retweeted_status', 'retweets', 'source', 'source_url', 'truncated', 'user']\n"
     ]
    }
   ],
   "source": [
    "# Creating variable 'Cursor' to navigate through Twitter from a specific userID, 'tesla'\r\n",
    "# The information of a single tweet. \r\n",
    "# For example, 'favorite' is containing the amount of likes for a tweet, 'full_text' is the text of the tweet\r\n",
    "cursor = tweepy.Cursor(api.user_timeline, id='tesla', tweet_mode='extended').items(1)\r\n",
    "for i in cursor:\r\n",
    "    print(dir(i))"
   ]
  },
  {
   "cell_type": "code",
   "execution_count": 43,
   "metadata": {},
   "outputs": [
    {
     "name": "stdout",
     "output_type": "stream",
     "text": [
      "en\n"
     ]
    }
   ],
   "source": [
    "# how to perform a keyword search using query: Tesla\r\n",
    "cursor = tweepy.Cursor(api.user_timeline, id='tesla', tweet_mode='extended').items(1)\r\n",
    "for i in cursor:\r\n",
    "    print(i.lang)"
   ]
  },
  {
   "cell_type": "code",
   "execution_count": 47,
   "metadata": {},
   "outputs": [],
   "source": [
    "number_of_tweets=200\r\n",
    "tweets=[]\r\n",
    "likes=[]\r\n",
    "time=[]\r\n",
    "\r\n",
    "for i in tweepy.Cursor(api.user_timeline, id='tesla', tweet_mode='extended').items(number_of_tweets):\r\n",
    "    tweets.append(i.full_text)\r\n",
    "    likes.append(i.favorite_count)\r\n",
    "    time.append(i.created_at)"
   ]
  },
  {
   "cell_type": "code",
   "execution_count": 55,
   "metadata": {},
   "outputs": [],
   "source": [
    "tesla_df = pd.DataFrame({'tweets':tweets,'likes':likes,'time':time})"
   ]
  },
  {
   "cell_type": "code",
   "execution_count": 56,
   "metadata": {},
   "outputs": [
    {
     "data": {
      "text/html": [
       "<div>\n",
       "<style scoped>\n",
       "    .dataframe tbody tr th:only-of-type {\n",
       "        vertical-align: middle;\n",
       "    }\n",
       "\n",
       "    .dataframe tbody tr th {\n",
       "        vertical-align: top;\n",
       "    }\n",
       "\n",
       "    .dataframe thead th {\n",
       "        text-align: right;\n",
       "    }\n",
       "</style>\n",
       "<table border=\"1\" class=\"dataframe\">\n",
       "  <thead>\n",
       "    <tr style=\"text-align: right;\">\n",
       "      <th></th>\n",
       "      <th>tweets</th>\n",
       "      <th>likes</th>\n",
       "      <th>time</th>\n",
       "    </tr>\n",
       "  </thead>\n",
       "  <tbody>\n",
       "    <tr>\n",
       "      <th>0</th>\n",
       "      <td>RT @elonmusk: @marcodzo @Tesla Sometimes peopl...</td>\n",
       "      <td>0</td>\n",
       "      <td>2021-06-25 22:22:22</td>\n",
       "    </tr>\n",
       "    <tr>\n",
       "      <th>1</th>\n",
       "      <td>RT @elonmusk: @Tesla Peak acceleration is over...</td>\n",
       "      <td>0</td>\n",
       "      <td>2021-06-18 22:46:55</td>\n",
       "    </tr>\n",
       "    <tr>\n",
       "      <th>2</th>\n",
       "      <td>Experiencing Plaid https://t.co/nipaxKbkjY</td>\n",
       "      <td>53132</td>\n",
       "      <td>2021-06-18 18:24:18</td>\n",
       "    </tr>\n",
       "    <tr>\n",
       "      <th>3</th>\n",
       "      <td>https://t.co/v9mFAeSY1v</td>\n",
       "      <td>13854</td>\n",
       "      <td>2021-06-16 17:11:21</td>\n",
       "    </tr>\n",
       "    <tr>\n",
       "      <th>4</th>\n",
       "      <td>https://t.co/k1h6oQsE47</td>\n",
       "      <td>31241</td>\n",
       "      <td>2021-06-15 09:25:23</td>\n",
       "    </tr>\n",
       "    <tr>\n",
       "      <th>...</th>\n",
       "      <td>...</td>\n",
       "      <td>...</td>\n",
       "      <td>...</td>\n",
       "    </tr>\n",
       "    <tr>\n",
       "      <th>195</th>\n",
       "      <td>Voilà, we’ve unlocked even more power in our E...</td>\n",
       "      <td>5245</td>\n",
       "      <td>2019-08-29 17:52:38</td>\n",
       "    </tr>\n",
       "    <tr>\n",
       "      <th>196</th>\n",
       "      <td>Algorithm update in progress</td>\n",
       "      <td>3287</td>\n",
       "      <td>2019-08-28 23:06:38</td>\n",
       "    </tr>\n",
       "    <tr>\n",
       "      <th>197</th>\n",
       "      <td>We're making some updates to Tesla Insurance a...</td>\n",
       "      <td>3516</td>\n",
       "      <td>2019-08-28 22:49:26</td>\n",
       "    </tr>\n",
       "    <tr>\n",
       "      <th>198</th>\n",
       "      <td>Tesla Insurance launches today in California t...</td>\n",
       "      <td>9262</td>\n",
       "      <td>2019-08-28 19:55:12</td>\n",
       "    </tr>\n",
       "    <tr>\n",
       "      <th>199</th>\n",
       "      <td>@28delayslater but what a cone</td>\n",
       "      <td>389</td>\n",
       "      <td>2019-08-27 17:09:35</td>\n",
       "    </tr>\n",
       "  </tbody>\n",
       "</table>\n",
       "<p>200 rows × 3 columns</p>\n",
       "</div>"
      ],
      "text/plain": [
       "                                                tweets  likes  \\\n",
       "0    RT @elonmusk: @marcodzo @Tesla Sometimes peopl...      0   \n",
       "1    RT @elonmusk: @Tesla Peak acceleration is over...      0   \n",
       "2           Experiencing Plaid https://t.co/nipaxKbkjY  53132   \n",
       "3                              https://t.co/v9mFAeSY1v  13854   \n",
       "4                              https://t.co/k1h6oQsE47  31241   \n",
       "..                                                 ...    ...   \n",
       "195  Voilà, we’ve unlocked even more power in our E...   5245   \n",
       "196                       Algorithm update in progress   3287   \n",
       "197  We're making some updates to Tesla Insurance a...   3516   \n",
       "198  Tesla Insurance launches today in California t...   9262   \n",
       "199                     @28delayslater but what a cone    389   \n",
       "\n",
       "                   time  \n",
       "0   2021-06-25 22:22:22  \n",
       "1   2021-06-18 22:46:55  \n",
       "2   2021-06-18 18:24:18  \n",
       "3   2021-06-16 17:11:21  \n",
       "4   2021-06-15 09:25:23  \n",
       "..                  ...  \n",
       "195 2019-08-29 17:52:38  \n",
       "196 2019-08-28 23:06:38  \n",
       "197 2019-08-28 22:49:26  \n",
       "198 2019-08-28 19:55:12  \n",
       "199 2019-08-27 17:09:35  \n",
       "\n",
       "[200 rows x 3 columns]"
      ]
     },
     "execution_count": 56,
     "metadata": {},
     "output_type": "execute_result"
    }
   ],
   "source": [
    "tesla_df"
   ]
  },
  {
   "cell_type": "code",
   "execution_count": null,
   "metadata": {},
   "outputs": [],
   "source": []
  }
 ],
 "metadata": {
  "interpreter": {
   "hash": "183bbf6827d058c2a2fb0f4acdc0420849dda2b4380af0e437e38c64d798d8b7"
  },
  "kernelspec": {
   "display_name": "Python 3.8.5 64-bit ('base': conda)",
   "name": "python3"
  },
  "language_info": {
   "codemirror_mode": {
    "name": "ipython",
    "version": 3
   },
   "file_extension": ".py",
   "mimetype": "text/x-python",
   "name": "python",
   "nbconvert_exporter": "python",
   "pygments_lexer": "ipython3",
   "version": "3.8.5"
  }
 },
 "nbformat": 4,
 "nbformat_minor": 5
}