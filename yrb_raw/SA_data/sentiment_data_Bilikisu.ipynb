{
 "cells": [
  {
   "cell_type": "code",
   "execution_count": 1,
   "metadata": {},
   "outputs": [],
   "source": [
    "# Getting Data for Sentiment Analysis"
   ]
  },
  {
   "cell_type": "code",
   "execution_count": 29,
   "metadata": {},
   "outputs": [],
   "source": [
    "import tweepy\r\n",
    "import pandas as pd\r\n",
    "import os\r\n",
    "from dotenv import load_dotenv"
   ]
  },
  {
   "cell_type": "code",
   "execution_count": 30,
   "metadata": {},
   "outputs": [
    {
     "data": {
      "text/plain": [
       "True"
      ]
     },
     "execution_count": 30,
     "metadata": {},
     "output_type": "execute_result"
    }
   ],
   "source": [
    "load_dotenv()"
   ]
  },
  {
   "cell_type": "code",
   "execution_count": 31,
   "metadata": {},
   "outputs": [],
   "source": [
    "consumer_key=os.getenv(\"consumer_key\")\r\n",
    "consumer_secret=os.getenv(\"consumer_secret\")\r\n",
    "access_token=os.getenv(\"access_token\")\r\n",
    "access_token_secret=os.getenv(\"access_token_secret\")\r\n"
   ]
  },
  {
   "cell_type": "code",
   "execution_count": 32,
   "metadata": {},
   "outputs": [],
   "source": [
    "auth = tweepy.OAuthHandler(consumer_key, consumer_secret)\r\n",
    "auth.set_access_token(access_token, access_token_secret)\r\n",
    "\r\n",
    "api = tweepy.API(auth)"
   ]
  },
  {
   "cell_type": "markdown",
   "metadata": {},
   "source": [
    "# Wells Fargo Twitter API data - from DataFrame to .csv"
   ]
  },
  {
   "cell_type": "code",
   "execution_count": 40,
   "metadata": {},
   "outputs": [
    {
     "name": "stdout",
     "output_type": "stream",
     "text": [
      "@dowilliams I'm sorry to see this and want to make sure we address your concern. Please tell us more about what happened through DM along with your name, address, and phone number (no account numbers). We're here to help. -Hanj https://t.co/olzw5ueFSh\n"
     ]
    }
   ],
   "source": [
    "# to access a tweet from id: wellsfargo - example: show the full tweet using 'full_text'\r\n",
    "cursor = tweepy.Cursor(api.user_timeline, id='wellsfargo', tweet_mode='extended').items(1)\r\n",
    "for i in cursor:\r\n",
    "    print(i.full_text)\r\n"
   ]
  },
  {
   "cell_type": "code",
   "execution_count": 35,
   "metadata": {},
   "outputs": [
    {
     "name": "stdout",
     "output_type": "stream",
     "text": [
      "['__class__', '__delattr__', '__dict__', '__dir__', '__doc__', '__eq__', '__format__', '__ge__', '__getattribute__', '__getstate__', '__gt__', '__hash__', '__init__', '__init_subclass__', '__le__', '__lt__', '__module__', '__ne__', '__new__', '__reduce__', '__reduce_ex__', '__repr__', '__setattr__', '__sizeof__', '__str__', '__subclasshook__', '__weakref__', '_api', '_json', 'author', 'contributors', 'coordinates', 'created_at', 'destroy', 'display_text_range', 'entities', 'favorite', 'favorite_count', 'favorited', 'full_text', 'geo', 'id', 'id_str', 'in_reply_to_screen_name', 'in_reply_to_status_id', 'in_reply_to_status_id_str', 'in_reply_to_user_id', 'in_reply_to_user_id_str', 'is_quote_status', 'lang', 'parse', 'parse_list', 'place', 'possibly_sensitive', 'retweet', 'retweet_count', 'retweeted', 'retweets', 'source', 'source_url', 'truncated', 'user']\n"
     ]
    }
   ],
   "source": [
    "# Creating variable 'Cursor' to navigate through Twitter from a specific userID, 'tesla'\r\n",
    "# The information of a single tweet. \r\n",
    "# For example, 'favorite' is containing the amount of likes for a tweet, 'full_text' is the text of the tweet\r\n",
    "cursor = tweepy.Cursor(api.user_timeline, id='wellsfargo', tweet_mode='extended').items(1)\r\n",
    "for i in cursor:\r\n",
    "    print(dir(i))"
   ]
  },
  {
   "cell_type": "code",
   "execution_count": 45,
   "metadata": {},
   "outputs": [
    {
     "name": "stdout",
     "output_type": "stream",
     "text": [
      "@Rayazhee Hola, sí puedes hacer depósitos móviles. Para más información, visita https://t.co/mt6eU6WppX. Gracias. -Tania\n"
     ]
    }
   ],
   "source": [
    "# how to perform a keyword search using query: Wells Fargo\r\n",
    "cursor = tweepy.Cursor(api.user_timeline, id='wellsfargo', tweet_mode='extended').items(1)\r\n",
    "for i in cursor:\r\n",
    "    print(i.full_text)"
   ]
  },
  {
   "cell_type": "code",
   "execution_count": 37,
   "metadata": {},
   "outputs": [],
   "source": [
    "number_of_tweets=200\r\n",
    "tweets=[]\r\n",
    "likes=[]\r\n",
    "time=[]\r\n",
    "\r\n",
    "for i in tweepy.Cursor(api.user_timeline, id='wellsfargo', tweet_mode='extended').items(number_of_tweets):\r\n",
    "    tweets.append(i.full_text)\r\n",
    "    likes.append(i.favorite_count)\r\n",
    "    time.append(i.created_at)"
   ]
  },
  {
   "cell_type": "code",
   "execution_count": 38,
   "metadata": {},
   "outputs": [
    {
     "data": {
      "text/html": [
       "<div>\n",
       "<style scoped>\n",
       "    .dataframe tbody tr th:only-of-type {\n",
       "        vertical-align: middle;\n",
       "    }\n",
       "\n",
       "    .dataframe tbody tr th {\n",
       "        vertical-align: top;\n",
       "    }\n",
       "\n",
       "    .dataframe thead th {\n",
       "        text-align: right;\n",
       "    }\n",
       "</style>\n",
       "<table border=\"1\" class=\"dataframe\">\n",
       "  <thead>\n",
       "    <tr style=\"text-align: right;\">\n",
       "      <th></th>\n",
       "      <th>tweets</th>\n",
       "      <th>likes</th>\n",
       "      <th>time</th>\n",
       "    </tr>\n",
       "  </thead>\n",
       "  <tbody>\n",
       "    <tr>\n",
       "      <th>0</th>\n",
       "      <td>@dowilliams I'm sorry to see this and want to ...</td>\n",
       "      <td>0</td>\n",
       "      <td>2021-07-02 17:51:58</td>\n",
       "    </tr>\n",
       "    <tr>\n",
       "      <th>1</th>\n",
       "      <td>@WarriorsSupport We are truly grateful for you...</td>\n",
       "      <td>0</td>\n",
       "      <td>2021-07-02 17:40:53</td>\n",
       "    </tr>\n",
       "    <tr>\n",
       "      <th>2</th>\n",
       "      <td>RT @WFInvesting: Discussing money with your ki...</td>\n",
       "      <td>0</td>\n",
       "      <td>2021-07-02 17:12:50</td>\n",
       "    </tr>\n",
       "    <tr>\n",
       "      <th>3</th>\n",
       "      <td>@Homeoffree61 We would like the opportunity to...</td>\n",
       "      <td>0</td>\n",
       "      <td>2021-07-02 17:11:08</td>\n",
       "    </tr>\n",
       "    <tr>\n",
       "      <th>4</th>\n",
       "      <td>@eppey_ I'd like to have a better understandin...</td>\n",
       "      <td>0</td>\n",
       "      <td>2021-07-02 16:54:16</td>\n",
       "    </tr>\n",
       "    <tr>\n",
       "      <th>...</th>\n",
       "      <td>...</td>\n",
       "      <td>...</td>\n",
       "      <td>...</td>\n",
       "    </tr>\n",
       "    <tr>\n",
       "      <th>195</th>\n",
       "      <td>@Zapics25 That's certainly not the experience ...</td>\n",
       "      <td>0</td>\n",
       "      <td>2021-06-28 16:56:59</td>\n",
       "    </tr>\n",
       "    <tr>\n",
       "      <th>196</th>\n",
       "      <td>@OpenStepback I would like to make sure we add...</td>\n",
       "      <td>0</td>\n",
       "      <td>2021-06-28 16:36:39</td>\n",
       "    </tr>\n",
       "    <tr>\n",
       "      <th>197</th>\n",
       "      <td>@SkjeidyBrady You're welcome. -Angie</td>\n",
       "      <td>0</td>\n",
       "      <td>2021-06-28 16:35:05</td>\n",
       "    </tr>\n",
       "    <tr>\n",
       "      <th>198</th>\n",
       "      <td>@SkjeidyBrady I can share this with the approp...</td>\n",
       "      <td>0</td>\n",
       "      <td>2021-06-28 16:33:00</td>\n",
       "    </tr>\n",
       "    <tr>\n",
       "      <th>199</th>\n",
       "      <td>@MisterJHuffman I'm sorry to see that this hap...</td>\n",
       "      <td>0</td>\n",
       "      <td>2021-06-28 16:14:02</td>\n",
       "    </tr>\n",
       "  </tbody>\n",
       "</table>\n",
       "<p>200 rows × 3 columns</p>\n",
       "</div>"
      ],
      "text/plain": [
       "                                                tweets  likes  \\\n",
       "0    @dowilliams I'm sorry to see this and want to ...      0   \n",
       "1    @WarriorsSupport We are truly grateful for you...      0   \n",
       "2    RT @WFInvesting: Discussing money with your ki...      0   \n",
       "3    @Homeoffree61 We would like the opportunity to...      0   \n",
       "4    @eppey_ I'd like to have a better understandin...      0   \n",
       "..                                                 ...    ...   \n",
       "195  @Zapics25 That's certainly not the experience ...      0   \n",
       "196  @OpenStepback I would like to make sure we add...      0   \n",
       "197               @SkjeidyBrady You're welcome. -Angie      0   \n",
       "198  @SkjeidyBrady I can share this with the approp...      0   \n",
       "199  @MisterJHuffman I'm sorry to see that this hap...      0   \n",
       "\n",
       "                   time  \n",
       "0   2021-07-02 17:51:58  \n",
       "1   2021-07-02 17:40:53  \n",
       "2   2021-07-02 17:12:50  \n",
       "3   2021-07-02 17:11:08  \n",
       "4   2021-07-02 16:54:16  \n",
       "..                  ...  \n",
       "195 2021-06-28 16:56:59  \n",
       "196 2021-06-28 16:36:39  \n",
       "197 2021-06-28 16:35:05  \n",
       "198 2021-06-28 16:33:00  \n",
       "199 2021-06-28 16:14:02  \n",
       "\n",
       "[200 rows x 3 columns]"
      ]
     },
     "execution_count": 38,
     "metadata": {},
     "output_type": "execute_result"
    }
   ],
   "source": [
    "wells_fargo_df = pd.DataFrame({'tweets':tweets,'likes':likes,'time':time})\r\n",
    "wells_fargo_df"
   ]
  },
  {
   "cell_type": "code",
   "execution_count": 39,
   "metadata": {},
   "outputs": [],
   "source": [
    "# This allows the csv to be posted on your tree to the left \r\n",
    "wells_fargo_df.to_csv('wellsfargo.csv')"
   ]
  },
  {
   "cell_type": "markdown",
   "metadata": {},
   "source": [
    "# Goldman Sachs Twitter API data - from DataFrame to .csv"
   ]
  },
  {
   "cell_type": "code",
   "execution_count": 42,
   "metadata": {},
   "outputs": [
    {
     "name": "stdout",
     "output_type": "stream",
     "text": [
      "What are the key topics for investors in EMEA as the global economy begins to recover? Kene Ejikeme, head of multi-asset platform sales in EMEA, explains in this episode of The Daily Check-In: https://t.co/SH762ANNrJ https://t.co/bCcnddU8T3\n"
     ]
    }
   ],
   "source": [
    "# to access a tweet from id: goldmansachs - example: show the full tweet using 'full_text'\r\n",
    "cursor = tweepy.Cursor(api.user_timeline, id='goldmansachs', tweet_mode='extended').items(1)\r\n",
    "for i in cursor:\r\n",
    "    print(i.full_text)\r\n"
   ]
  },
  {
   "cell_type": "code",
   "execution_count": 43,
   "metadata": {},
   "outputs": [
    {
     "name": "stdout",
     "output_type": "stream",
     "text": [
      "['__class__', '__delattr__', '__dict__', '__dir__', '__doc__', '__eq__', '__format__', '__ge__', '__getattribute__', '__getstate__', '__gt__', '__hash__', '__init__', '__init_subclass__', '__le__', '__lt__', '__module__', '__ne__', '__new__', '__reduce__', '__reduce_ex__', '__repr__', '__setattr__', '__sizeof__', '__str__', '__subclasshook__', '__weakref__', '_api', '_json', 'author', 'contributors', 'coordinates', 'created_at', 'destroy', 'display_text_range', 'entities', 'extended_entities', 'favorite', 'favorite_count', 'favorited', 'full_text', 'geo', 'id', 'id_str', 'in_reply_to_screen_name', 'in_reply_to_status_id', 'in_reply_to_status_id_str', 'in_reply_to_user_id', 'in_reply_to_user_id_str', 'is_quote_status', 'lang', 'parse', 'parse_list', 'place', 'possibly_sensitive', 'retweet', 'retweet_count', 'retweeted', 'retweets', 'source', 'source_url', 'truncated', 'user']\n"
     ]
    }
   ],
   "source": [
    "# Creating variable 'Cursor' to navigate through Twitter from a specific userID, 'goldmansachs'\r\n",
    "# The information of a single tweet. \r\n",
    "# For example, 'favorite' is containing the amount of likes for a tweet, 'full_text' is the text of the tweet\r\n",
    "cursor = tweepy.Cursor(api.user_timeline, id='goldmansachs', tweet_mode='extended').items(1)\r\n",
    "for i in cursor:\r\n",
    "    print(dir(i))"
   ]
  },
  {
   "cell_type": "code",
   "execution_count": 46,
   "metadata": {},
   "outputs": [
    {
     "name": "stdout",
     "output_type": "stream",
     "text": [
      "What are the key topics for investors in EMEA as the global economy begins to recover? Kene Ejikeme, head of multi-asset platform sales in EMEA, explains in this episode of The Daily Check-In: https://t.co/SH762ANNrJ https://t.co/bCcnddU8T3\n"
     ]
    }
   ],
   "source": [
    "# how to perform a keyword search using query: Goldman Sachs\r\n",
    "cursor = tweepy.Cursor(api.user_timeline, id='goldmansachs', tweet_mode='extended').items(1)\r\n",
    "for i in cursor:\r\n",
    "    print(i.full_text)"
   ]
  },
  {
   "cell_type": "code",
   "execution_count": 47,
   "metadata": {},
   "outputs": [],
   "source": [
    "number_of_tweets=200\r\n",
    "tweets=[]\r\n",
    "likes=[]\r\n",
    "time=[]\r\n",
    "\r\n",
    "for i in tweepy.Cursor(api.user_timeline, id='goldmansachs', tweet_mode='extended').items(number_of_tweets):\r\n",
    "    tweets.append(i.full_text)\r\n",
    "    likes.append(i.favorite_count)\r\n",
    "    time.append(i.created_at)"
   ]
  },
  {
   "cell_type": "code",
   "execution_count": 48,
   "metadata": {},
   "outputs": [
    {
     "data": {
      "text/html": [
       "<div>\n",
       "<style scoped>\n",
       "    .dataframe tbody tr th:only-of-type {\n",
       "        vertical-align: middle;\n",
       "    }\n",
       "\n",
       "    .dataframe tbody tr th {\n",
       "        vertical-align: top;\n",
       "    }\n",
       "\n",
       "    .dataframe thead th {\n",
       "        text-align: right;\n",
       "    }\n",
       "</style>\n",
       "<table border=\"1\" class=\"dataframe\">\n",
       "  <thead>\n",
       "    <tr style=\"text-align: right;\">\n",
       "      <th></th>\n",
       "      <th>tweets</th>\n",
       "      <th>likes</th>\n",
       "      <th>time</th>\n",
       "    </tr>\n",
       "  </thead>\n",
       "  <tbody>\n",
       "    <tr>\n",
       "      <th>0</th>\n",
       "      <td>What are the key topics for investors in EMEA ...</td>\n",
       "      <td>11</td>\n",
       "      <td>2021-07-02 14:00:31</td>\n",
       "    </tr>\n",
       "    <tr>\n",
       "      <th>1</th>\n",
       "      <td>How are biotech companies thinking about the s...</td>\n",
       "      <td>17</td>\n",
       "      <td>2021-07-01 21:30:18</td>\n",
       "    </tr>\n",
       "    <tr>\n",
       "      <th>2</th>\n",
       "      <td>We’re proud of the diverse stories and backgro...</td>\n",
       "      <td>9</td>\n",
       "      <td>2021-07-01 19:01:23</td>\n",
       "    </tr>\n",
       "    <tr>\n",
       "      <th>3</th>\n",
       "      <td>Pulitzer Prize-winning historian Alan Taylor o...</td>\n",
       "      <td>7</td>\n",
       "      <td>2021-07-01 17:00:17</td>\n",
       "    </tr>\n",
       "    <tr>\n",
       "      <th>4</th>\n",
       "      <td>$GS' Asahi Pompey spoke to @Forbes about phila...</td>\n",
       "      <td>15</td>\n",
       "      <td>2021-07-01 16:00:00</td>\n",
       "    </tr>\n",
       "    <tr>\n",
       "      <th>...</th>\n",
       "      <td>...</td>\n",
       "      <td>...</td>\n",
       "      <td>...</td>\n",
       "    </tr>\n",
       "    <tr>\n",
       "      <th>195</th>\n",
       "      <td>“The weakness seen in EM... was a more broad-b...</td>\n",
       "      <td>12</td>\n",
       "      <td>2021-04-27 13:00:08</td>\n",
       "    </tr>\n",
       "    <tr>\n",
       "      <th>196</th>\n",
       "      <td>“Sports betting represents one of the largest ...</td>\n",
       "      <td>35</td>\n",
       "      <td>2021-04-26 23:00:25</td>\n",
       "    </tr>\n",
       "    <tr>\n",
       "      <th>197</th>\n",
       "      <td>What’s driving the rise in sports gambling in ...</td>\n",
       "      <td>15</td>\n",
       "      <td>2021-04-26 20:20:35</td>\n",
       "    </tr>\n",
       "    <tr>\n",
       "      <th>198</th>\n",
       "      <td>How are emerging markets faring during a conti...</td>\n",
       "      <td>14</td>\n",
       "      <td>2021-04-26 17:00:08</td>\n",
       "    </tr>\n",
       "    <tr>\n",
       "      <th>199</th>\n",
       "      <td>“I realized that a lot of the concerns and wor...</td>\n",
       "      <td>19</td>\n",
       "      <td>2021-04-24 13:00:23</td>\n",
       "    </tr>\n",
       "  </tbody>\n",
       "</table>\n",
       "<p>200 rows × 3 columns</p>\n",
       "</div>"
      ],
      "text/plain": [
       "                                                tweets  likes  \\\n",
       "0    What are the key topics for investors in EMEA ...     11   \n",
       "1    How are biotech companies thinking about the s...     17   \n",
       "2    We’re proud of the diverse stories and backgro...      9   \n",
       "3    Pulitzer Prize-winning historian Alan Taylor o...      7   \n",
       "4    $GS' Asahi Pompey spoke to @Forbes about phila...     15   \n",
       "..                                                 ...    ...   \n",
       "195  “The weakness seen in EM... was a more broad-b...     12   \n",
       "196  “Sports betting represents one of the largest ...     35   \n",
       "197  What’s driving the rise in sports gambling in ...     15   \n",
       "198  How are emerging markets faring during a conti...     14   \n",
       "199  “I realized that a lot of the concerns and wor...     19   \n",
       "\n",
       "                   time  \n",
       "0   2021-07-02 14:00:31  \n",
       "1   2021-07-01 21:30:18  \n",
       "2   2021-07-01 19:01:23  \n",
       "3   2021-07-01 17:00:17  \n",
       "4   2021-07-01 16:00:00  \n",
       "..                  ...  \n",
       "195 2021-04-27 13:00:08  \n",
       "196 2021-04-26 23:00:25  \n",
       "197 2021-04-26 20:20:35  \n",
       "198 2021-04-26 17:00:08  \n",
       "199 2021-04-24 13:00:23  \n",
       "\n",
       "[200 rows x 3 columns]"
      ]
     },
     "execution_count": 48,
     "metadata": {},
     "output_type": "execute_result"
    }
   ],
   "source": [
    "goldman_sachs_df = pd.DataFrame({'tweets':tweets,'likes':likes,'time':time})\r\n",
    "goldman_sachs_df"
   ]
  },
  {
   "cell_type": "code",
   "execution_count": 49,
   "metadata": {},
   "outputs": [],
   "source": [
    "# This allows the csv to be posted on your tree to the left \r\n",
    "goldman_sachs_df.to_csv('goldman_sachs.csv')"
   ]
  },
  {
   "cell_type": "markdown",
   "metadata": {},
   "source": [
    "# Morgan Stanley Twitter API data - from DataFrame to .csv"
   ]
  },
  {
   "cell_type": "code",
   "execution_count": 51,
   "metadata": {},
   "outputs": [
    {
     "name": "stdout",
     "output_type": "stream",
     "text": [
      "How could potential tax increases affect the economy and the stock market? Find answers to this and other top investor questions about the proposed federal tax reforms:\n",
      "https://t.co/uTkLheczjX\n"
     ]
    }
   ],
   "source": [
    "# to access a tweet from id: morganstanley - example: show the full tweet using 'full_text'\r\n",
    "cursor = tweepy.Cursor(api.user_timeline, id='morganstanley', tweet_mode='extended').items(1)\r\n",
    "for i in cursor:\r\n",
    "    print(i.full_text)"
   ]
  },
  {
   "cell_type": "code",
   "execution_count": 52,
   "metadata": {},
   "outputs": [
    {
     "name": "stdout",
     "output_type": "stream",
     "text": [
      "['__class__', '__delattr__', '__dict__', '__dir__', '__doc__', '__eq__', '__format__', '__ge__', '__getattribute__', '__getstate__', '__gt__', '__hash__', '__init__', '__init_subclass__', '__le__', '__lt__', '__module__', '__ne__', '__new__', '__reduce__', '__reduce_ex__', '__repr__', '__setattr__', '__sizeof__', '__str__', '__subclasshook__', '__weakref__', '_api', '_json', 'author', 'contributors', 'coordinates', 'created_at', 'destroy', 'display_text_range', 'entities', 'favorite', 'favorite_count', 'favorited', 'full_text', 'geo', 'id', 'id_str', 'in_reply_to_screen_name', 'in_reply_to_status_id', 'in_reply_to_status_id_str', 'in_reply_to_user_id', 'in_reply_to_user_id_str', 'is_quote_status', 'lang', 'parse', 'parse_list', 'place', 'possibly_sensitive', 'retweet', 'retweet_count', 'retweeted', 'retweets', 'source', 'source_url', 'truncated', 'user']\n"
     ]
    }
   ],
   "source": [
    "# Creating variable 'Cursor' to navigate through Twitter from a specific userID, 'morganstanley'\r\n",
    "# The information of a single tweet. \r\n",
    "# For example, 'favorite' is containing the amount of likes for a tweet, 'full_text' is the text of the tweet\r\n",
    "cursor = tweepy.Cursor(api.user_timeline, id='morganstanley', tweet_mode='extended').items(1)\r\n",
    "for i in cursor:\r\n",
    "    print(dir(i))"
   ]
  },
  {
   "cell_type": "code",
   "execution_count": 53,
   "metadata": {},
   "outputs": [
    {
     "name": "stdout",
     "output_type": "stream",
     "text": [
      "How could potential tax increases affect the economy and the stock market? Find answers to this and other top investor questions about the proposed federal tax reforms:\n",
      "https://t.co/uTkLheczjX\n"
     ]
    }
   ],
   "source": [
    "# how to perform a keyword search using query: Morgan Stanley\r\n",
    "cursor = tweepy.Cursor(api.user_timeline, id='morganstanley', tweet_mode='extended').items(1)\r\n",
    "for i in cursor:\r\n",
    "    print(i.full_text)"
   ]
  },
  {
   "cell_type": "code",
   "execution_count": 54,
   "metadata": {},
   "outputs": [],
   "source": [
    "number_of_tweets=200\r\n",
    "tweets=[]\r\n",
    "likes=[]\r\n",
    "time=[]\r\n",
    "\r\n",
    "for i in tweepy.Cursor(api.user_timeline, id='morganstanley', tweet_mode='extended').items(number_of_tweets):\r\n",
    "    tweets.append(i.full_text)\r\n",
    "    likes.append(i.favorite_count)\r\n",
    "    time.append(i.created_at)"
   ]
  },
  {
   "cell_type": "code",
   "execution_count": 55,
   "metadata": {},
   "outputs": [
    {
     "data": {
      "text/html": [
       "<div>\n",
       "<style scoped>\n",
       "    .dataframe tbody tr th:only-of-type {\n",
       "        vertical-align: middle;\n",
       "    }\n",
       "\n",
       "    .dataframe tbody tr th {\n",
       "        vertical-align: top;\n",
       "    }\n",
       "\n",
       "    .dataframe thead th {\n",
       "        text-align: right;\n",
       "    }\n",
       "</style>\n",
       "<table border=\"1\" class=\"dataframe\">\n",
       "  <thead>\n",
       "    <tr style=\"text-align: right;\">\n",
       "      <th></th>\n",
       "      <th>tweets</th>\n",
       "      <th>likes</th>\n",
       "      <th>time</th>\n",
       "    </tr>\n",
       "  </thead>\n",
       "  <tbody>\n",
       "    <tr>\n",
       "      <th>0</th>\n",
       "      <td>How could potential tax increases affect the e...</td>\n",
       "      <td>3</td>\n",
       "      <td>2021-07-02 19:00:01</td>\n",
       "    </tr>\n",
       "    <tr>\n",
       "      <th>1</th>\n",
       "      <td>It's no longer a question of whether the econo...</td>\n",
       "      <td>3</td>\n",
       "      <td>2021-07-02 14:49:25</td>\n",
       "    </tr>\n",
       "    <tr>\n",
       "      <th>2</th>\n",
       "      <td>Jon Jensen, Executive Director, D&amp;amp;I Commit...</td>\n",
       "      <td>1</td>\n",
       "      <td>2021-07-01 20:07:15</td>\n",
       "    </tr>\n",
       "    <tr>\n",
       "      <th>3</th>\n",
       "      <td>At Morgan Stanley, we take pride in helping cl...</td>\n",
       "      <td>4</td>\n",
       "      <td>2021-07-01 15:40:20</td>\n",
       "    </tr>\n",
       "    <tr>\n",
       "      <th>4</th>\n",
       "      <td>The changes forced by the pandemic have led em...</td>\n",
       "      <td>10</td>\n",
       "      <td>2021-06-30 21:34:51</td>\n",
       "    </tr>\n",
       "    <tr>\n",
       "      <th>...</th>\n",
       "      <td>...</td>\n",
       "      <td>...</td>\n",
       "      <td>...</td>\n",
       "    </tr>\n",
       "    <tr>\n",
       "      <th>195</th>\n",
       "      <td>Chetan Ahya, our Chief Economist and Global He...</td>\n",
       "      <td>15</td>\n",
       "      <td>2021-04-16 20:29:44</td>\n",
       "    </tr>\n",
       "    <tr>\n",
       "      <th>196</th>\n",
       "      <td>In support of @TeenageCancer’s ‘Hand to Hold’ ...</td>\n",
       "      <td>13</td>\n",
       "      <td>2021-04-16 15:29:36</td>\n",
       "    </tr>\n",
       "    <tr>\n",
       "      <th>197</th>\n",
       "      <td>At 8:30 a.m. ET: Morgan Stanley 1Q21 investor ...</td>\n",
       "      <td>11</td>\n",
       "      <td>2021-04-16 12:23:29</td>\n",
       "    </tr>\n",
       "    <tr>\n",
       "      <th>198</th>\n",
       "      <td>$MS 1Q21: Investment Management results reflec...</td>\n",
       "      <td>10</td>\n",
       "      <td>2021-04-16 11:50:18</td>\n",
       "    </tr>\n",
       "    <tr>\n",
       "      <th>199</th>\n",
       "      <td>$MS 1Q21: Wealth Management delivered a pre-ta...</td>\n",
       "      <td>13</td>\n",
       "      <td>2021-04-16 11:48:48</td>\n",
       "    </tr>\n",
       "  </tbody>\n",
       "</table>\n",
       "<p>200 rows × 3 columns</p>\n",
       "</div>"
      ],
      "text/plain": [
       "                                                tweets  likes  \\\n",
       "0    How could potential tax increases affect the e...      3   \n",
       "1    It's no longer a question of whether the econo...      3   \n",
       "2    Jon Jensen, Executive Director, D&amp;I Commit...      1   \n",
       "3    At Morgan Stanley, we take pride in helping cl...      4   \n",
       "4    The changes forced by the pandemic have led em...     10   \n",
       "..                                                 ...    ...   \n",
       "195  Chetan Ahya, our Chief Economist and Global He...     15   \n",
       "196  In support of @TeenageCancer’s ‘Hand to Hold’ ...     13   \n",
       "197  At 8:30 a.m. ET: Morgan Stanley 1Q21 investor ...     11   \n",
       "198  $MS 1Q21: Investment Management results reflec...     10   \n",
       "199  $MS 1Q21: Wealth Management delivered a pre-ta...     13   \n",
       "\n",
       "                   time  \n",
       "0   2021-07-02 19:00:01  \n",
       "1   2021-07-02 14:49:25  \n",
       "2   2021-07-01 20:07:15  \n",
       "3   2021-07-01 15:40:20  \n",
       "4   2021-06-30 21:34:51  \n",
       "..                  ...  \n",
       "195 2021-04-16 20:29:44  \n",
       "196 2021-04-16 15:29:36  \n",
       "197 2021-04-16 12:23:29  \n",
       "198 2021-04-16 11:50:18  \n",
       "199 2021-04-16 11:48:48  \n",
       "\n",
       "[200 rows x 3 columns]"
      ]
     },
     "execution_count": 55,
     "metadata": {},
     "output_type": "execute_result"
    }
   ],
   "source": [
    "morgan_stanley_df = pd.DataFrame({'tweets':tweets,'likes':likes,'time':time})\r\n",
    "morgan_stanley_df"
   ]
  },
  {
   "cell_type": "code",
   "execution_count": 56,
   "metadata": {},
   "outputs": [],
   "source": [
    "# This allows the csv to be posted on your tree to the left \r\n",
    "morgan_stanley_df.to_csv('morgan_stanley.csv')"
   ]
  },
  {
   "cell_type": "code",
   "execution_count": null,
   "metadata": {},
   "outputs": [],
   "source": []
  }
 ],
 "metadata": {
  "interpreter": {
   "hash": "183bbf6827d058c2a2fb0f4acdc0420849dda2b4380af0e437e38c64d798d8b7"
  },
  "kernelspec": {
   "display_name": "Python 3.8.5 64-bit ('base': conda)",
   "name": "python3"
  },
  "language_info": {
   "codemirror_mode": {
    "name": "ipython",
    "version": 3
   },
   "file_extension": ".py",
   "mimetype": "text/x-python",
   "name": "python",
   "nbconvert_exporter": "python",
   "pygments_lexer": "ipython3",
   "version": "3.8.5"
  }
 },
 "nbformat": 4,
 "nbformat_minor": 5
}