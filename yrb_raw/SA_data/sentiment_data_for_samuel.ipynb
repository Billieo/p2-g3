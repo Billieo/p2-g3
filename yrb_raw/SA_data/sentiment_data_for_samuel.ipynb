{
 "cells": [
  {
   "cell_type": "code",
   "execution_count": 1,
   "metadata": {},
   "outputs": [],
   "source": [
    "# Getting Data for Sentiment Analysis"
   ]
  },
  {
   "cell_type": "code",
   "execution_count": 2,
   "metadata": {},
   "outputs": [],
   "source": [
    "import tweepy\r\n",
    "import pandas as pd\r\n",
    "import os\r\n",
    "from dotenv import load_dotenv"
   ]
  },
  {
   "cell_type": "code",
   "execution_count": 3,
   "metadata": {},
   "outputs": [
    {
     "data": {
      "text/plain": [
       "True"
      ]
     },
     "execution_count": 3,
     "metadata": {},
     "output_type": "execute_result"
    }
   ],
   "source": [
    "load_dotenv()"
   ]
  },
  {
   "cell_type": "code",
   "execution_count": 4,
   "metadata": {},
   "outputs": [],
   "source": [
    "consumer_key=os.getenv(\"consumer_key\")\r\n",
    "consumer_secret=os.getenv(\"consumer_secret\")\r\n",
    "access_token=os.getenv(\"access_token\")\r\n",
    "access_token_secret=os.getenv(\"access_token_secret\")\r\n"
   ]
  },
  {
   "cell_type": "code",
   "execution_count": 5,
   "metadata": {},
   "outputs": [],
   "source": [
    "auth = tweepy.OAuthHandler(consumer_key, consumer_secret)\r\n",
    "auth.set_access_token(access_token, access_token_secret)\r\n",
    "\r\n",
    "api = tweepy.API(auth)"
   ]
  },
  {
   "cell_type": "code",
   "execution_count": 23,
   "metadata": {},
   "outputs": [
    {
     "name": "stdout",
     "output_type": "stream",
     "text": [
      "Many vulnerable communities are facing barriers to getting vaccinated against COVID-19.  \n",
      "\n",
      "That’s why we’re working closely with nonprofits to bring resources like mobile vaccination clinics to communities around the US.\n",
      "\n",
      "Find out more → https://t.co/H7RqpHDFTp https://t.co/rnRqGuYgsB\n"
     ]
    }
   ],
   "source": [
    "# to access a tweet from id: Facebook - example: show the full tweet using 'full_text'\r\n",
    "cursor = tweepy.Cursor(api.user_timeline, id='facebook', tweet_mode='extended').items(1)\r\n",
    "for i in cursor:\r\n",
    "    print(i.full_text)\r\n"
   ]
  },
  {
   "cell_type": "code",
   "execution_count": 24,
   "metadata": {},
   "outputs": [
    {
     "name": "stdout",
     "output_type": "stream",
     "text": [
      "['__class__', '__delattr__', '__dict__', '__dir__', '__doc__', '__eq__', '__format__', '__ge__', '__getattribute__', '__getstate__', '__gt__', '__hash__', '__init__', '__init_subclass__', '__le__', '__lt__', '__module__', '__ne__', '__new__', '__reduce__', '__reduce_ex__', '__repr__', '__setattr__', '__sizeof__', '__str__', '__subclasshook__', '__weakref__', '_api', '_json', 'author', 'contributors', 'coordinates', 'created_at', 'destroy', 'display_text_range', 'entities', 'extended_entities', 'favorite', 'favorite_count', 'favorited', 'full_text', 'geo', 'id', 'id_str', 'in_reply_to_screen_name', 'in_reply_to_status_id', 'in_reply_to_status_id_str', 'in_reply_to_user_id', 'in_reply_to_user_id_str', 'is_quote_status', 'lang', 'parse', 'parse_list', 'place', 'possibly_sensitive', 'retweet', 'retweet_count', 'retweeted', 'retweets', 'source', 'source_url', 'truncated', 'user']\n"
     ]
    }
   ],
   "source": [
    "# Creating variable 'Cursor' to navigate through Twitter from a specific userID, 'tesla'\r\n",
    "# The information of a single tweet. \r\n",
    "# For example, 'favorite' is containing the amount of likes for a tweet, 'full_text' is the text of the tweet\r\n",
    "cursor = tweepy.Cursor(api.user_timeline, id='facebook', tweet_mode='extended').items(1)\r\n",
    "for i in cursor:\r\n",
    "    print(dir(i))"
   ]
  },
  {
   "cell_type": "code",
   "execution_count": 25,
   "metadata": {},
   "outputs": [],
   "source": [
    "number_of_tweets=200\r\n",
    "tweets=[]\r\n",
    "likes=[]\r\n",
    "time=[]\r\n",
    "\r\n",
    "for i in tweepy.Cursor(api.user_timeline, id='facebook', tweet_mode='extended').items(number_of_tweets):\r\n",
    "    tweets.append(i.full_text)\r\n",
    "    likes.append(i.favorite_count)\r\n",
    "    time.append(i.created_at)"
   ]
  },
  {
   "cell_type": "code",
   "execution_count": 26,
   "metadata": {},
   "outputs": [],
   "source": [
    "facebook_df = pd.DataFrame({'tweets':tweets,'likes':likes,'time':time})"
   ]
  },
  {
   "cell_type": "code",
   "execution_count": 27,
   "metadata": {},
   "outputs": [
    {
     "data": {
      "text/html": [
       "<div>\n",
       "<style scoped>\n",
       "    .dataframe tbody tr th:only-of-type {\n",
       "        vertical-align: middle;\n",
       "    }\n",
       "\n",
       "    .dataframe tbody tr th {\n",
       "        vertical-align: top;\n",
       "    }\n",
       "\n",
       "    .dataframe thead th {\n",
       "        text-align: right;\n",
       "    }\n",
       "</style>\n",
       "<table border=\"1\" class=\"dataframe\">\n",
       "  <thead>\n",
       "    <tr style=\"text-align: right;\">\n",
       "      <th></th>\n",
       "      <th>tweets</th>\n",
       "      <th>likes</th>\n",
       "      <th>time</th>\n",
       "    </tr>\n",
       "  </thead>\n",
       "  <tbody>\n",
       "    <tr>\n",
       "      <th>0</th>\n",
       "      <td>Many vulnerable communities are facing barrier...</td>\n",
       "      <td>77</td>\n",
       "      <td>2021-06-30 16:55:37</td>\n",
       "    </tr>\n",
       "    <tr>\n",
       "      <th>1</th>\n",
       "      <td>Today we’re launching Bulletin, a new platform...</td>\n",
       "      <td>150</td>\n",
       "      <td>2021-06-29 20:41:46</td>\n",
       "    </tr>\n",
       "    <tr>\n",
       "      <th>2</th>\n",
       "      <td>@SusmitaMisra8 Hi Susmita. You can first try u...</td>\n",
       "      <td>0</td>\n",
       "      <td>2021-06-29 14:59:25</td>\n",
       "    </tr>\n",
       "    <tr>\n",
       "      <th>3</th>\n",
       "      <td>@JaynarayanMah15 Hi Jay. If you're having trou...</td>\n",
       "      <td>0</td>\n",
       "      <td>2021-06-29 14:52:17</td>\n",
       "    </tr>\n",
       "    <tr>\n",
       "      <th>4</th>\n",
       "      <td>“One of the greatest goods I hope we can contr...</td>\n",
       "      <td>28</td>\n",
       "      <td>2021-06-28 18:34:38</td>\n",
       "    </tr>\n",
       "    <tr>\n",
       "      <th>...</th>\n",
       "      <td>...</td>\n",
       "      <td>...</td>\n",
       "      <td>...</td>\n",
       "    </tr>\n",
       "    <tr>\n",
       "      <th>195</th>\n",
       "      <td>When schools around the world closed due to th...</td>\n",
       "      <td>131</td>\n",
       "      <td>2021-04-02 20:21:43</td>\n",
       "    </tr>\n",
       "    <tr>\n",
       "      <th>196</th>\n",
       "      <td>Try out COVID-19 vaccine profile frames in the...</td>\n",
       "      <td>109</td>\n",
       "      <td>2021-04-01 16:41:25</td>\n",
       "    </tr>\n",
       "    <tr>\n",
       "      <th>197</th>\n",
       "      <td>@iamshubhamw Hi Shubham. Thanks for your messa...</td>\n",
       "      <td>2</td>\n",
       "      <td>2021-04-01 13:11:51</td>\n",
       "    </tr>\n",
       "    <tr>\n",
       "      <th>198</th>\n",
       "      <td>@Sudhans83787731 Hi Sudhanshu. If you'd like t...</td>\n",
       "      <td>0</td>\n",
       "      <td>2021-04-01 13:09:42</td>\n",
       "    </tr>\n",
       "    <tr>\n",
       "      <th>199</th>\n",
       "      <td>@MissCorona_92 Hi @MissCorona_92. Please scrol...</td>\n",
       "      <td>0</td>\n",
       "      <td>2021-04-01 13:08:50</td>\n",
       "    </tr>\n",
       "  </tbody>\n",
       "</table>\n",
       "<p>200 rows × 3 columns</p>\n",
       "</div>"
      ],
      "text/plain": [
       "                                                tweets  likes  \\\n",
       "0    Many vulnerable communities are facing barrier...     77   \n",
       "1    Today we’re launching Bulletin, a new platform...    150   \n",
       "2    @SusmitaMisra8 Hi Susmita. You can first try u...      0   \n",
       "3    @JaynarayanMah15 Hi Jay. If you're having trou...      0   \n",
       "4    “One of the greatest goods I hope we can contr...     28   \n",
       "..                                                 ...    ...   \n",
       "195  When schools around the world closed due to th...    131   \n",
       "196  Try out COVID-19 vaccine profile frames in the...    109   \n",
       "197  @iamshubhamw Hi Shubham. Thanks for your messa...      2   \n",
       "198  @Sudhans83787731 Hi Sudhanshu. If you'd like t...      0   \n",
       "199  @MissCorona_92 Hi @MissCorona_92. Please scrol...      0   \n",
       "\n",
       "                   time  \n",
       "0   2021-06-30 16:55:37  \n",
       "1   2021-06-29 20:41:46  \n",
       "2   2021-06-29 14:59:25  \n",
       "3   2021-06-29 14:52:17  \n",
       "4   2021-06-28 18:34:38  \n",
       "..                  ...  \n",
       "195 2021-04-02 20:21:43  \n",
       "196 2021-04-01 16:41:25  \n",
       "197 2021-04-01 13:11:51  \n",
       "198 2021-04-01 13:09:42  \n",
       "199 2021-04-01 13:08:50  \n",
       "\n",
       "[200 rows x 3 columns]"
      ]
     },
     "execution_count": 27,
     "metadata": {},
     "output_type": "execute_result"
    }
   ],
   "source": [
    "facebook_df"
   ]
  },
  {
   "cell_type": "code",
   "execution_count": 11,
   "metadata": {},
   "outputs": [],
   "source": [
    "# this is reading it out to a csv. do the same for ford and gm, as well as the other industries that\r\n",
    "#bilikisu and Samuel need. We need to show the impact of tweets for our companies. \r\n",
    "# see code below\r\n"
   ]
  },
  {
   "cell_type": "code",
   "execution_count": 28,
   "metadata": {},
   "outputs": [],
   "source": [
    "# This allows the csv to be posted on your tree to the left \r\n",
    "facebook_df.to_csv('facebook.csv')"
   ]
  },
  {
   "cell_type": "markdown",
   "metadata": {},
   "source": []
  },
  {
   "cell_type": "code",
   "execution_count": 29,
   "metadata": {},
   "outputs": [],
   "source": [
    "# using the below lines to create the df above:\r\n",
    "#cursor = tweepy.Cursor(api.user_timeline, id='google', tweet_mode='extended').items(1)\r\n",
    "for i in cursor:\r\n",
    "    print(i.full_text)"
   ]
  },
  {
   "cell_type": "code",
   "execution_count": 30,
   "metadata": {},
   "outputs": [],
   "source": [
    "number_of_tweets=200\r\n",
    "tweets=[]\r\n",
    "likes=[]\r\n",
    "time=[]\r\n",
    "\r\n",
    "for i in tweepy.Cursor(api.user_timeline, id='google', tweet_mode='extended').items(number_of_tweets):\r\n",
    "    tweets.append(i.full_text)\r\n",
    "    likes.append(i.favorite_count)\r\n",
    "    time.append(i.created_at)"
   ]
  },
  {
   "cell_type": "code",
   "execution_count": 31,
   "metadata": {},
   "outputs": [],
   "source": [
    "google_df = pd.DataFrame({'tweets':tweets,'likes':likes,'time':time})"
   ]
  },
  {
   "cell_type": "code",
   "execution_count": 32,
   "metadata": {},
   "outputs": [
    {
     "data": {
      "text/html": [
       "<div>\n",
       "<style scoped>\n",
       "    .dataframe tbody tr th:only-of-type {\n",
       "        vertical-align: middle;\n",
       "    }\n",
       "\n",
       "    .dataframe tbody tr th {\n",
       "        vertical-align: top;\n",
       "    }\n",
       "\n",
       "    .dataframe thead th {\n",
       "        text-align: right;\n",
       "    }\n",
       "</style>\n",
       "<table border=\"1\" class=\"dataframe\">\n",
       "  <thead>\n",
       "    <tr style=\"text-align: right;\">\n",
       "      <th></th>\n",
       "      <th>tweets</th>\n",
       "      <th>likes</th>\n",
       "      <th>time</th>\n",
       "    </tr>\n",
       "  </thead>\n",
       "  <tbody>\n",
       "    <tr>\n",
       "      <th>0</th>\n",
       "      <td>Update your Google Search widget for a home sc...</td>\n",
       "      <td>185</td>\n",
       "      <td>2021-07-02 18:10:28</td>\n",
       "    </tr>\n",
       "    <tr>\n",
       "      <th>1</th>\n",
       "      <td>There’s no place like home(screen).\\n \\nPerson...</td>\n",
       "      <td>354</td>\n",
       "      <td>2021-07-02 18:03:06</td>\n",
       "    </tr>\n",
       "    <tr>\n",
       "      <th>2</th>\n",
       "      <td>@Grandfather96 Hi, Sreehari. Mind if we jump i...</td>\n",
       "      <td>0</td>\n",
       "      <td>2021-07-02 17:59:54</td>\n",
       "    </tr>\n",
       "    <tr>\n",
       "      <th>3</th>\n",
       "      <td>@aawash_neupane Hi Aawash. Let's see what we c...</td>\n",
       "      <td>0</td>\n",
       "      <td>2021-07-02 17:30:08</td>\n",
       "    </tr>\n",
       "    <tr>\n",
       "      <th>4</th>\n",
       "      <td>@NChaudh56666328 Hi there. Let's see what we c...</td>\n",
       "      <td>0</td>\n",
       "      <td>2021-07-02 17:29:09</td>\n",
       "    </tr>\n",
       "    <tr>\n",
       "      <th>...</th>\n",
       "      <td>...</td>\n",
       "      <td>...</td>\n",
       "      <td>...</td>\n",
       "    </tr>\n",
       "    <tr>\n",
       "      <th>195</th>\n",
       "      <td>@larcyrussiello_ Hi there. Do you have 2-Step ...</td>\n",
       "      <td>0</td>\n",
       "      <td>2021-06-29 04:19:49</td>\n",
       "    </tr>\n",
       "    <tr>\n",
       "      <th>196</th>\n",
       "      <td>@Bharatmaske18 Hi Bharat. Let's see what we ca...</td>\n",
       "      <td>0</td>\n",
       "      <td>2021-06-29 04:05:44</td>\n",
       "    </tr>\n",
       "    <tr>\n",
       "      <th>197</th>\n",
       "      <td>@Dii_shum Hi Shubham. Have you already tried r...</td>\n",
       "      <td>0</td>\n",
       "      <td>2021-06-29 03:59:05</td>\n",
       "    </tr>\n",
       "    <tr>\n",
       "      <th>198</th>\n",
       "      <td>@abundance93 We suggest reaching out to the Ac...</td>\n",
       "      <td>1</td>\n",
       "      <td>2021-06-29 03:47:11</td>\n",
       "    </tr>\n",
       "    <tr>\n",
       "      <th>199</th>\n",
       "      <td>@Rishabh74731586 Hi Rishabh. Do you have 2-Ste...</td>\n",
       "      <td>0</td>\n",
       "      <td>2021-06-29 03:44:15</td>\n",
       "    </tr>\n",
       "  </tbody>\n",
       "</table>\n",
       "<p>200 rows × 3 columns</p>\n",
       "</div>"
      ],
      "text/plain": [
       "                                                tweets  likes  \\\n",
       "0    Update your Google Search widget for a home sc...    185   \n",
       "1    There’s no place like home(screen).\\n \\nPerson...    354   \n",
       "2    @Grandfather96 Hi, Sreehari. Mind if we jump i...      0   \n",
       "3    @aawash_neupane Hi Aawash. Let's see what we c...      0   \n",
       "4    @NChaudh56666328 Hi there. Let's see what we c...      0   \n",
       "..                                                 ...    ...   \n",
       "195  @larcyrussiello_ Hi there. Do you have 2-Step ...      0   \n",
       "196  @Bharatmaske18 Hi Bharat. Let's see what we ca...      0   \n",
       "197  @Dii_shum Hi Shubham. Have you already tried r...      0   \n",
       "198  @abundance93 We suggest reaching out to the Ac...      1   \n",
       "199  @Rishabh74731586 Hi Rishabh. Do you have 2-Ste...      0   \n",
       "\n",
       "                   time  \n",
       "0   2021-07-02 18:10:28  \n",
       "1   2021-07-02 18:03:06  \n",
       "2   2021-07-02 17:59:54  \n",
       "3   2021-07-02 17:30:08  \n",
       "4   2021-07-02 17:29:09  \n",
       "..                  ...  \n",
       "195 2021-06-29 04:19:49  \n",
       "196 2021-06-29 04:05:44  \n",
       "197 2021-06-29 03:59:05  \n",
       "198 2021-06-29 03:47:11  \n",
       "199 2021-06-29 03:44:15  \n",
       "\n",
       "[200 rows x 3 columns]"
      ]
     },
     "execution_count": 32,
     "metadata": {},
     "output_type": "execute_result"
    }
   ],
   "source": [
    "google_df"
   ]
  },
  {
   "cell_type": "code",
   "execution_count": 33,
   "metadata": {},
   "outputs": [],
   "source": [
    "# This allows the csv to be posted on your tree to the left \r\n",
    "google_df.to_csv('google.csv')"
   ]
  },
  {
   "cell_type": "code",
   "execution_count": null,
   "metadata": {},
   "outputs": [],
   "source": []
  }
 ],
 "metadata": {
  "interpreter": {
   "hash": "183bbf6827d058c2a2fb0f4acdc0420849dda2b4380af0e437e38c64d798d8b7"
  },
  "kernelspec": {
   "display_name": "Python 3.8.5 64-bit ('base': conda)",
   "name": "python3"
  },
  "language_info": {
   "codemirror_mode": {
    "name": "ipython",
    "version": 3
   },
   "file_extension": ".py",
   "mimetype": "text/x-python",
   "name": "python",
   "nbconvert_exporter": "python",
   "pygments_lexer": "ipython3",
   "version": "3.8.5"
  }
 },
 "nbformat": 4,
 "nbformat_minor": 5
}