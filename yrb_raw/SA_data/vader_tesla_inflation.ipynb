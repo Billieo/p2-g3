{
 "cells": [
  {
   "cell_type": "code",
   "execution_count": 1,
   "metadata": {},
   "outputs": [
    {
     "data": {
      "text/plain": [
       "True"
      ]
     },
     "execution_count": 1,
     "metadata": {},
     "output_type": "execute_result"
    }
   ],
   "source": [
    "import os\r\n",
    "from pathlib import Path\r\n",
    "import pandas as pd\r\n",
    "from newsapi import NewsApiClient\r\n",
    "import nltk\r\n",
    "from nltk.sentiment.vader import SentimentIntensityAnalyzer\r\n",
    "from dotenv import load_dotenv\r\n",
    "load_dotenv()"
   ]
  },
  {
   "cell_type": "markdown",
   "metadata": {},
   "source": [
    "## Using Tesla and Inflation together to create Vader sentiment"
   ]
  },
  {
   "cell_type": "code",
   "execution_count": 2,
   "metadata": {},
   "outputs": [
    {
     "name": "stderr",
     "output_type": "stream",
     "text": [
      "[nltk_data] Downloading package vader_lexicon to\n",
      "[nltk_data]     C:\\Users\\Admin\\AppData\\Roaming\\nltk_data...\n",
      "[nltk_data]   Package vader_lexicon is already up-to-date!\n"
     ]
    }
   ],
   "source": [
    "# Download/Update the VADER Lexicon\r\n",
    "nltk.download('vader_lexicon')\r\n",
    "\r\n",
    "# Initialize the VADER sentiment analyzer\r\n",
    "analyzer = SentimentIntensityAnalyzer()"
   ]
  },
  {
   "cell_type": "code",
   "execution_count": 3,
   "metadata": {},
   "outputs": [],
   "source": [
    "# Reading the News API key enviroment variable\r\n",
    "api_key = os.getenv(\"news_api\")\r\n"
   ]
  },
  {
   "cell_type": "code",
   "execution_count": 4,
   "metadata": {},
   "outputs": [],
   "source": [
    "# Create a newsapi client\r\n",
    "newsapi = NewsApiClient(api_key=api_key)\r\n"
   ]
  },
  {
   "cell_type": "code",
   "execution_count": 5,
   "metadata": {},
   "outputs": [
    {
     "name": "stdout",
     "output_type": "stream",
     "text": [
      "Total articles about Tesla and inflation: 476\n"
     ]
    },
    {
     "data": {
      "text/plain": [
       "{'source': {'id': None, 'name': 'New York Times'},\n",
       " 'author': 'The New York Times',\n",
       " 'title': 'Here is where inflation stands as the Fed meets.',\n",
       " 'description': 'A jump in consumer prices is sure to come up at a news conference on Wednesday after the Federal Reserve’s meeting.',\n",
       " 'url': 'https://www.nytimes.com/live/2021/06/16/business/economy-stock-market-news',\n",
       " 'urlToImage': 'https://static01.nyt.com/images/2021/06/16/business/16economy-briefing-FedInflation/merlin_188586378_b7a0c048-2add-4403-b30c-357399ab4cea-facebookJumbo.jpg',\n",
       " 'publishedAt': '2021-06-16T10:21:32Z',\n",
       " 'content': 'A day after ousting two top executives, the electric truck start-up Lordstown Motors said on Tuesday that it was on track to start production in September even if it does not raise additional funding… [+3149 chars]'}"
      ]
     },
     "execution_count": 5,
     "metadata": {},
     "output_type": "execute_result"
    }
   ],
   "source": [
    "# Fetch all the news about Tesla and Inflation\r\n",
    "tesla_headlines = newsapi.get_everything(\r\n",
    "    q=\"tesla AND inflation\",\r\n",
    "    language=\"en\",\r\n",
    "    page_size=100,\r\n",
    "    sort_by=\"relevancy\"\r\n",
    ")\r\n",
    "\r\n",
    "# Print total articles\r\n",
    "print(f\"Total articles about Tesla and inflation: {tesla_headlines['totalResults']}\")\r\n",
    "\r\n",
    "# Show sample article\r\n",
    "tesla_headlines[\"articles\"][0]"
   ]
  },
  {
   "cell_type": "code",
   "execution_count": 6,
   "metadata": {},
   "outputs": [
    {
     "data": {
      "text/html": [
       "<div>\n",
       "<style scoped>\n",
       "    .dataframe tbody tr th:only-of-type {\n",
       "        vertical-align: middle;\n",
       "    }\n",
       "\n",
       "    .dataframe tbody tr th {\n",
       "        vertical-align: top;\n",
       "    }\n",
       "\n",
       "    .dataframe thead th {\n",
       "        text-align: right;\n",
       "    }\n",
       "</style>\n",
       "<table border=\"1\" class=\"dataframe\">\n",
       "  <thead>\n",
       "    <tr style=\"text-align: right;\">\n",
       "      <th></th>\n",
       "      <th>date</th>\n",
       "      <th>text</th>\n",
       "      <th>compound</th>\n",
       "      <th>positive</th>\n",
       "      <th>negative</th>\n",
       "      <th>neutral</th>\n",
       "    </tr>\n",
       "  </thead>\n",
       "  <tbody>\n",
       "    <tr>\n",
       "      <th>0</th>\n",
       "      <td>2021-06-16</td>\n",
       "      <td>A day after ousting two top executives, the el...</td>\n",
       "      <td>0.2023</td>\n",
       "      <td>0.050</td>\n",
       "      <td>0.000</td>\n",
       "      <td>0.950</td>\n",
       "    </tr>\n",
       "    <tr>\n",
       "      <th>1</th>\n",
       "      <td>2021-06-08</td>\n",
       "      <td>(Reuters) - U.S. stock index futures fell on T...</td>\n",
       "      <td>0.7096</td>\n",
       "      <td>0.148</td>\n",
       "      <td>0.000</td>\n",
       "      <td>0.852</td>\n",
       "    </tr>\n",
       "    <tr>\n",
       "      <th>2</th>\n",
       "      <td>2021-06-08</td>\n",
       "      <td>(Repeats with no change to headline, text)\\r\\n...</td>\n",
       "      <td>-0.2960</td>\n",
       "      <td>0.000</td>\n",
       "      <td>0.062</td>\n",
       "      <td>0.937</td>\n",
       "    </tr>\n",
       "    <tr>\n",
       "      <th>3</th>\n",
       "      <td>2021-06-08</td>\n",
       "      <td>A street sign is seen in front of the New York...</td>\n",
       "      <td>0.0000</td>\n",
       "      <td>0.000</td>\n",
       "      <td>0.000</td>\n",
       "      <td>1.000</td>\n",
       "    </tr>\n",
       "    <tr>\n",
       "      <th>4</th>\n",
       "      <td>2021-06-15</td>\n",
       "      <td>* Traders watching for clues on timing of Fed ...</td>\n",
       "      <td>0.0000</td>\n",
       "      <td>0.000</td>\n",
       "      <td>0.000</td>\n",
       "      <td>1.000</td>\n",
       "    </tr>\n",
       "  </tbody>\n",
       "</table>\n",
       "</div>"
      ],
      "text/plain": [
       "         date                                               text  compound  \\\n",
       "0  2021-06-16  A day after ousting two top executives, the el...    0.2023   \n",
       "1  2021-06-08  (Reuters) - U.S. stock index futures fell on T...    0.7096   \n",
       "2  2021-06-08  (Repeats with no change to headline, text)\\r\\n...   -0.2960   \n",
       "3  2021-06-08  A street sign is seen in front of the New York...    0.0000   \n",
       "4  2021-06-15  * Traders watching for clues on timing of Fed ...    0.0000   \n",
       "\n",
       "   positive  negative  neutral  \n",
       "0     0.050     0.000    0.950  \n",
       "1     0.148     0.000    0.852  \n",
       "2     0.000     0.062    0.937  \n",
       "3     0.000     0.000    1.000  \n",
       "4     0.000     0.000    1.000  "
      ]
     },
     "execution_count": 6,
     "metadata": {},
     "output_type": "execute_result"
    }
   ],
   "source": [
    "# Create the Tesla Inflation sentiment scores DataFrame\r\n",
    "tesla_sentiments = []\r\n",
    "\r\n",
    "for article in tesla_headlines[\"articles\"]:\r\n",
    "    try:\r\n",
    "        text = article[\"content\"]\r\n",
    "        date = article[\"publishedAt\"][:10]\r\n",
    "        sentiment = analyzer.polarity_scores(text)\r\n",
    "        compound = sentiment[\"compound\"]\r\n",
    "        pos = sentiment[\"pos\"]\r\n",
    "        neu = sentiment[\"neu\"]\r\n",
    "        neg = sentiment[\"neg\"]\r\n",
    "        \r\n",
    "        tesla_sentiments.append({\r\n",
    "            \"text\": text,\r\n",
    "            \"date\": date,\r\n",
    "            \"compound\": compound,\r\n",
    "            \"positive\": pos,\r\n",
    "            \"negative\": neg,\r\n",
    "            \"neutral\": neu\r\n",
    "            \r\n",
    "        })\r\n",
    "        \r\n",
    "    except AttributeError:\r\n",
    "        pass\r\n",
    "    \r\n",
    "# Create DataFrame\r\n",
    "tesla_df = pd.DataFrame(tesla_sentiments)\r\n",
    "\r\n",
    "# Reorder DataFrame columns\r\n",
    "cols = [\"date\", \"text\", \"compound\", \"positive\", \"negative\", \"neutral\"]\r\n",
    "tesla_df = tesla_df[cols]\r\n",
    "\r\n",
    "tesla_df.head()\r\n"
   ]
  },
  {
   "cell_type": "code",
   "execution_count": 7,
   "metadata": {},
   "outputs": [
    {
     "data": {
      "text/html": [
       "<div>\n",
       "<style scoped>\n",
       "    .dataframe tbody tr th:only-of-type {\n",
       "        vertical-align: middle;\n",
       "    }\n",
       "\n",
       "    .dataframe tbody tr th {\n",
       "        vertical-align: top;\n",
       "    }\n",
       "\n",
       "    .dataframe thead th {\n",
       "        text-align: right;\n",
       "    }\n",
       "</style>\n",
       "<table border=\"1\" class=\"dataframe\">\n",
       "  <thead>\n",
       "    <tr style=\"text-align: right;\">\n",
       "      <th></th>\n",
       "      <th>compound</th>\n",
       "      <th>positive</th>\n",
       "      <th>negative</th>\n",
       "      <th>neutral</th>\n",
       "    </tr>\n",
       "  </thead>\n",
       "  <tbody>\n",
       "    <tr>\n",
       "      <th>count</th>\n",
       "      <td>100.000000</td>\n",
       "      <td>100.000000</td>\n",
       "      <td>100.000000</td>\n",
       "      <td>100.000000</td>\n",
       "    </tr>\n",
       "    <tr>\n",
       "      <th>mean</th>\n",
       "      <td>0.114672</td>\n",
       "      <td>0.059040</td>\n",
       "      <td>0.038890</td>\n",
       "      <td>0.902040</td>\n",
       "    </tr>\n",
       "    <tr>\n",
       "      <th>std</th>\n",
       "      <td>0.386037</td>\n",
       "      <td>0.054452</td>\n",
       "      <td>0.058124</td>\n",
       "      <td>0.076206</td>\n",
       "    </tr>\n",
       "    <tr>\n",
       "      <th>min</th>\n",
       "      <td>-0.817900</td>\n",
       "      <td>0.000000</td>\n",
       "      <td>0.000000</td>\n",
       "      <td>0.663000</td>\n",
       "    </tr>\n",
       "    <tr>\n",
       "      <th>25%</th>\n",
       "      <td>-0.109025</td>\n",
       "      <td>0.000000</td>\n",
       "      <td>0.000000</td>\n",
       "      <td>0.865750</td>\n",
       "    </tr>\n",
       "    <tr>\n",
       "      <th>50%</th>\n",
       "      <td>0.077200</td>\n",
       "      <td>0.064500</td>\n",
       "      <td>0.000000</td>\n",
       "      <td>0.918500</td>\n",
       "    </tr>\n",
       "    <tr>\n",
       "      <th>75%</th>\n",
       "      <td>0.437400</td>\n",
       "      <td>0.089250</td>\n",
       "      <td>0.062000</td>\n",
       "      <td>0.943250</td>\n",
       "    </tr>\n",
       "    <tr>\n",
       "      <th>max</th>\n",
       "      <td>0.796400</td>\n",
       "      <td>0.192000</td>\n",
       "      <td>0.273000</td>\n",
       "      <td>1.000000</td>\n",
       "    </tr>\n",
       "  </tbody>\n",
       "</table>\n",
       "</div>"
      ],
      "text/plain": [
       "         compound    positive    negative     neutral\n",
       "count  100.000000  100.000000  100.000000  100.000000\n",
       "mean     0.114672    0.059040    0.038890    0.902040\n",
       "std      0.386037    0.054452    0.058124    0.076206\n",
       "min     -0.817900    0.000000    0.000000    0.663000\n",
       "25%     -0.109025    0.000000    0.000000    0.865750\n",
       "50%      0.077200    0.064500    0.000000    0.918500\n",
       "75%      0.437400    0.089250    0.062000    0.943250\n",
       "max      0.796400    0.192000    0.273000    1.000000"
      ]
     },
     "execution_count": 7,
     "metadata": {},
     "output_type": "execute_result"
    }
   ],
   "source": [
    "tesla_df.describe()\r\n"
   ]
  },
  {
   "cell_type": "code",
   "execution_count": null,
   "metadata": {},
   "outputs": [],
   "source": []
  },
  {
   "cell_type": "code",
   "execution_count": null,
   "metadata": {},
   "outputs": [],
   "source": []
  }
 ],
 "metadata": {
  "interpreter": {
   "hash": "183bbf6827d058c2a2fb0f4acdc0420849dda2b4380af0e437e38c64d798d8b7"
  },
  "kernelspec": {
   "display_name": "Python 3.8.5 64-bit ('base': conda)",
   "name": "python3"
  },
  "language_info": {
   "codemirror_mode": {
    "name": "ipython",
    "version": 3
   },
   "file_extension": ".py",
   "mimetype": "text/x-python",
   "name": "python",
   "nbconvert_exporter": "python",
   "pygments_lexer": "ipython3",
   "version": "3.8.5"
  }
 },
 "nbformat": 4,
 "nbformat_minor": 5
}